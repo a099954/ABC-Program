{
 "cells": [
  {
   "cell_type": "markdown",
   "metadata": {},
   "source": [
    "# Chapter 2"
   ]
  },
  {
   "cell_type": "markdown",
   "metadata": {},
   "source": [
    "## Episode 1"
   ]
  },
  {
   "cell_type": "code",
   "execution_count": null,
   "metadata": {},
   "outputs": [],
   "source": [
    "#2.1.A\n",
    "\n",
    "'''\n",
    "for variable in sequence:\n",
    "    # code to be executed for each item in sequence\n",
    "'''\n",
    "\n",
    "name = 'Sabrina Spellman'\n",
    "\n",
    "# Loop through a string\n",
    "for n in name:\n",
    "    print(n) "
   ]
  },
  {
   "cell_type": "code",
   "execution_count": null,
   "metadata": {},
   "outputs": [],
   "source": [
    "#2.1.B\n",
    "\n",
    "'''\n",
    "for variable in sequence:\n",
    "    # code to be executed for each item in sequence\n",
    "'''\n",
    "\n",
    "names = ['Sabrina', 'Ambrose', 'Hilda', 'Zelda']\n",
    "\n",
    "# Loop through a list\n",
    "for name in names:\n",
    "    print(name) "
   ]
  },
  {
   "cell_type": "code",
   "execution_count": null,
   "metadata": {},
   "outputs": [],
   "source": [
    "#2.1.C\n",
    "\n",
    "# Set account balance\n",
    "balance = 500\n",
    "\n",
    "# Withdraw $50 at a time\n",
    "while balance > 0:\n",
    "    balance = balance - 50\n",
    "    print(f'You just withdrew $50. Your new balance is {balance}.')\n",
    "\n",
    "# Outside of the while loop\n",
    "print(f'Your new balance is {balance}, which is no longer sufficient to withdraw $50.')\n"
   ]
  },
  {
   "cell_type": "code",
   "execution_count": null,
   "metadata": {},
   "outputs": [],
   "source": [
    "#2.1.D\n",
    "\n",
    "while(True):\n",
    "    print(\"Let's go!\")\n",
    "    \n",
    "    loop_again = input('Enter STOP to end the loop: ')\n",
    "    \n",
    "    if(loop_again == 'STOP'):\n",
    "        break"
   ]
  },
  {
   "cell_type": "code",
   "execution_count": null,
   "metadata": {},
   "outputs": [],
   "source": [
    "#2.1.E\n",
    "\n",
    "# Define a loop – the iteration variable is called ‘name’\n",
    "for x in range(10):\n",
    "    print(x)\n",
    "\n",
    "# Output\n",
    "0\n",
    "1\n",
    "2\n",
    "3\n",
    "4\n",
    "5\n",
    "6\n",
    "7\n",
    "8\n",
    "9"
   ]
  },
  {
   "cell_type": "code",
   "execution_count": null,
   "metadata": {},
   "outputs": [],
   "source": [
    "# 2.1.G.LIVE\n",
    "\n",
    "# PLACEHOLDER"
   ]
  },
  {
   "cell_type": "markdown",
   "metadata": {},
   "source": [
    "## Episode 2"
   ]
  },
  {
   "cell_type": "code",
   "execution_count": null,
   "metadata": {},
   "outputs": [],
   "source": [
    "# 2.2.A\n",
    "\n",
    "# Lists are created using square brackets\n",
    "\n",
    "# The code snippet below will create a list called `names` containing five items.\n",
    "names = ['Sabrina', 'Ambrose', 'Hilda', 'Zelda', 'Harvey']\n",
    "\n",
    "# The code snippet below will print the `names` list to the Python console.\n",
    "print(names)\n",
    "\n",
    "# List items can be of any data type\n",
    "example_list = ['Sabrina', 16, ['Prudence', 'Dorcas', 'Agatha'], True, 21, False]\n",
    "print(example_list)\n",
    "\n",
    "# Empty list\n",
    "test_list = []"
   ]
  },
  {
   "cell_type": "code",
   "execution_count": null,
   "metadata": {},
   "outputs": [],
   "source": [
    "# 2.2.B\n",
    "\n",
    "# Declaring a names list\n",
    "names = ['Sabrina', 'Ambrose', 'Hilda', 'Zelda', 'Harvey']\n",
    "\n",
    "# Change Harvey to Nick\n",
    "names[4] = 'Nick'\n",
    "\n",
    "#Print the new list \n",
    "names"
   ]
  },
  {
   "cell_type": "code",
   "execution_count": null,
   "metadata": {},
   "outputs": [],
   "source": [
    "# 2.2.C\n",
    "\n",
    "# Create a new list called `names`\n",
    "names = ['Sabrina', 'Ambrose', 'Hilda', 'Zelda', 'Harvey']\n",
    "print(names)\n",
    "\n",
    "# Appending items to the end of the list\n",
    "names.append('Faustus')\n",
    "print(names)\n",
    "\n",
    "# Appending items to a specific position in the list\n",
    "names.insert(1, 'Agatha')    \n",
    "print(names)\n",
    "\n",
    "# Removing an item from a list\n",
    "names.remove('Hilda')\n",
    "print(names)\n",
    "\n",
    "# Sort the list in ascending order\n",
    "names.sort()\n",
    "print(names)\n",
    "\n",
    "# Sort the list in descending order\n",
    "names.sort(reverse=True)\n",
    "print(names)\n",
    "\n",
    "# Get the number of items in a list\n",
    "len(names)"
   ]
  },
  {
   "cell_type": "code",
   "execution_count": null,
   "metadata": {},
   "outputs": [],
   "source": [
    "# 2.2.D\n",
    "\n",
    "# Tuples are enclosed in parenthesis\n",
    "customers = ('Sabrina', 'Ambrose', 'Hilda', 'Zelda', 'Harvey')\n",
    "\n",
    "# Define variables in the form of a tuple\n",
    "(lat, lng) = (38.06, -77.13)\n",
    "print(lng) "
   ]
  },
  {
   "cell_type": "code",
   "execution_count": null,
   "metadata": {},
   "outputs": [],
   "source": [
    "# 2.2.E\n",
    "\n",
    "# TUPLE: Define a tuple\n",
    "customers = ('Sabrina', 'Ambrose', 'Hilda', 'Zelda', 'Harvey')\n",
    "print(customers)\n",
    "\n",
    "# LIST: Define a list\n",
    "customer_list = ['Sabrina', 'Ambrose', 'Hilda', 'Zelda', 'Harvey']\n",
    "print(customer_list)"
   ]
  },
  {
   "cell_type": "code",
   "execution_count": null,
   "metadata": {},
   "outputs": [],
   "source": [
    "# 2.2.F\n",
    "\n",
    "# LIST: Sort a list\n",
    "customer_list.sort()\n",
    "print(customer_list)\n",
    "\n",
    "# TUPLE: Try to sort a tuple\n",
    "customers.sort() # ERROR!"
   ]
  },
  {
   "cell_type": "code",
   "execution_count": null,
   "metadata": {},
   "outputs": [],
   "source": [
    "# 2.2.G\n",
    "\n",
    "# LIST: Append to a list\n",
    "customer_list.append('Nick')\n",
    "print(customer_list)\n",
    "\n",
    "# TUPLE: Try to append to a tuple\n",
    "customers.append('Nick') # ERROR!"
   ]
  },
  {
   "cell_type": "code",
   "execution_count": null,
   "metadata": {},
   "outputs": [],
   "source": [
    "# 2.2.H.LIVE\n",
    "\n",
    "# PLACEHOLDER"
   ]
  },
  {
   "cell_type": "code",
   "execution_count": null,
   "metadata": {},
   "outputs": [],
   "source": [
    "# 2.3.A\n",
    "\n",
    "# Create a new dictionary\n",
    "customer = {\n",
    "  'last_name': 'Spellman',\n",
    "  'first_name': 'Sabrina',\n",
    "}\n",
    "\n",
    "# Return their first name\n",
    "customer['first_name']"
   ]
  },
  {
   "cell_type": "code",
   "execution_count": null,
   "metadata": {},
   "outputs": [],
   "source": [
    "# 2.3.B\n",
    "\n",
    "# Create a new dictionary\n",
    "customer['birth_date'] = '10/31/2000'\n",
    "customer['superpower'] = 'Levitation'\n",
    "customer['superpowers'] = ['Levitation','Conjuring fire','Telepathy']\n",
    "\n",
    "# Preview the dictionary\n",
    "print(customer)"
   ]
  },
  {
   "cell_type": "code",
   "execution_count": null,
   "metadata": {},
   "outputs": [],
   "source": [
    "# Pretty print\n",
    "from pprint import pprint"
   ]
  },
  {
   "cell_type": "code",
   "execution_count": null,
   "metadata": {},
   "outputs": [],
   "source": [
    "pprint(customer)"
   ]
  },
  {
   "cell_type": "code",
   "execution_count": null,
   "metadata": {},
   "outputs": [],
   "source": [
    "pprint(customer, sort_dicts=False)"
   ]
  },
  {
   "cell_type": "code",
   "execution_count": null,
   "metadata": {},
   "outputs": [],
   "source": [
    "# 2.3.C\n",
    "\n",
    "# Removing items from a dictionary\n",
    "del customer['birth_date']\n",
    "\n",
    "# Preview the dictionary\n",
    "print(customer)"
   ]
  },
  {
   "cell_type": "code",
   "execution_count": null,
   "metadata": {},
   "outputs": [],
   "source": [
    "print(customer)"
   ]
  },
  {
   "cell_type": "code",
   "execution_count": null,
   "metadata": {},
   "outputs": [],
   "source": [
    "pprint(customer, sort_dicts=False)"
   ]
  },
  {
   "cell_type": "code",
   "execution_count": null,
   "metadata": {},
   "outputs": [],
   "source": [
    "# 2.3.D\n",
    "\n",
    "# Check to see if a value exists \n",
    "# Does the value Sabrina exist in the dictionary?\n",
    "'superpowers' in customer"
   ]
  },
  {
   "cell_type": "code",
   "execution_count": null,
   "metadata": {},
   "outputs": [],
   "source": [
    "if('superpowers' in customer):\n",
    "    print('This customer has superpowers!')\n",
    "else:\n",
    "    print('No superpowers!')"
   ]
  },
  {
   "cell_type": "code",
   "execution_count": null,
   "metadata": {},
   "outputs": [],
   "source": [
    "# 2.3.E\n",
    "\n",
    "# List the keys in a dictionary\n",
    "print(customer.keys())\n",
    "\n",
    "# List the values in a dictionary\n",
    "print(customer.values())"
   ]
  },
  {
   "cell_type": "code",
   "execution_count": null,
   "metadata": {},
   "outputs": [],
   "source": [
    "# 2.3.F\n",
    "\n",
    "# Lists of dictionaries from individual dictionaries\n",
    "sabrina_dict = {'last_name': 'Spellman',\n",
    "                'first_name': 'Sabrina',\n",
    "                'birth_date': '10/31/2000'}\n",
    "\n",
    "nick_dict = {'last_name': 'Scratch',\n",
    "                'first_name': 'Nicholas'}\n",
    "\n",
    "harvey_dict = {'last_name': 'Kinkle',\n",
    "                'first_name': 'Harvey'}\n",
    "\n",
    "characters = [sabrina_dict, nick_dict, harvey_dict]\n",
    "\n",
    "print(characters)"
   ]
  },
  {
   "cell_type": "code",
   "execution_count": null,
   "metadata": {},
   "outputs": [],
   "source": [
    "# 2.3.G\n",
    "\n",
    "# Create a list of dictionaries within one list\n",
    "characters = [\n",
    "    { 'last_name': 'Spellman',\n",
    "      'first_name': 'Sabrina',\n",
    "      'birth_date': '10/31/2000'},\n",
    "    { 'last_name': 'Scratch',\n",
    "      'first_name': 'Nicholas'},\n",
    "    { 'last_name': 'Kinkle',\n",
    "      'first_name': 'Harvey'\n",
    "    }\n",
    "]\n",
    "\n",
    "print(characters)"
   ]
  },
  {
   "cell_type": "code",
   "execution_count": null,
   "metadata": {},
   "outputs": [],
   "source": [
    "# 2.3.H.LIVE\n",
    "\n",
    "# placeholder"
   ]
  },
  {
   "cell_type": "markdown",
   "metadata": {},
   "source": [
    "## Episode 4"
   ]
  },
  {
   "cell_type": "code",
   "execution_count": null,
   "metadata": {},
   "outputs": [],
   "source": [
    "from pprint import pprint"
   ]
  },
  {
   "cell_type": "code",
   "execution_count": 118,
   "metadata": {},
   "outputs": [
    {
     "name": "stdout",
     "output_type": "stream",
     "text": [
      "{'first_name': ['Sabrina', 'Ambrose', 'Hilda', 'Zelda', 'Harvey'],\n",
      " 'last_name': ['Spellman', 'Spellman', 'Spellman', 'Kinkle', 'Spellman']}\n"
     ]
    }
   ],
   "source": [
    "# 2.4.A\n",
    "\n",
    "first_names = ['Sabrina', 'Ambrose', 'Hilda', 'Zelda', 'Harvey']\n",
    "last_names = ['Spellman', 'Spellman', 'Spellman', 'Kinkle',  'Spellman']\n",
    "\n",
    "characters = {\n",
    "    'first_name': first_names,\n",
    "    'last_name': last_names\n",
    "}\n",
    "\n",
    "pprint(characters)"
   ]
  },
  {
   "cell_type": "code",
   "execution_count": 119,
   "metadata": {},
   "outputs": [
    {
     "data": {
      "text/plain": [
       "{'first_name': ['Sabrina', 'Ambrose', 'Hilda', 'Zelda', 'Harvey'],\n",
       " 'last_name': ['Spellman', 'Spellman', 'Spellman', 'Kinkle', 'Spellman']}"
      ]
     },
     "execution_count": 119,
     "metadata": {},
     "output_type": "execute_result"
    }
   ],
   "source": [
    "characters"
   ]
  },
  {
   "cell_type": "code",
   "execution_count": null,
   "metadata": {},
   "outputs": [],
   "source": [
    "for x in range(len(first_names)):\n",
    "    fn = first_names[x]\n",
    "    ln = last_names[x]\n",
    "    \n",
    "    print(f'{fn} {ln}')"
   ]
  },
  {
   "cell_type": "code",
   "execution_count": null,
   "metadata": {},
   "outputs": [],
   "source": [
    "# 2.4.B\n",
    "\n",
    "characters = ['Sabrina', 'Ambrose', 'Hilda', 'Zelda', 'Harvey']"
   ]
  },
  {
   "cell_type": "code",
   "execution_count": null,
   "metadata": {},
   "outputs": [],
   "source": [
    "# make characters uppercase using a loop\n",
    "characters_upper = []\n",
    "\n",
    "print(characters_upper)\n",
    "\n",
    "for c in characters:\n",
    "    characters_upper.append(c.upper())\n",
    "    print(characters_upper)\n",
    "\n",
    "#characters_upper"
   ]
  },
  {
   "cell_type": "code",
   "execution_count": null,
   "metadata": {},
   "outputs": [],
   "source": []
  },
  {
   "cell_type": "code",
   "execution_count": null,
   "metadata": {},
   "outputs": [],
   "source": [
    "characters"
   ]
  },
  {
   "cell_type": "code",
   "execution_count": null,
   "metadata": {},
   "outputs": [],
   "source": [
    "# make characters uppercase using a list comprehension\n",
    "characters_upper = [c.upper() for c in characters]\n",
    "characters_upper"
   ]
  },
  {
   "cell_type": "code",
   "execution_count": null,
   "metadata": {},
   "outputs": [],
   "source": [
    "# 2.4.D\n",
    "\n",
    "characters = ['Sabrina', 'Ambrose', 'Hilda', 'Zelda', 'Harvey']\n",
    "ages = [16,75,270,290,17] \n",
    " "
   ]
  },
  {
   "cell_type": "code",
   "execution_count": null,
   "metadata": {},
   "outputs": [],
   "source": [
    "zipped = zip(characters, ages)\n",
    "\n",
    "for z in zipped:\n",
    "    print(z)"
   ]
  },
  {
   "cell_type": "code",
   "execution_count": null,
   "metadata": {},
   "outputs": [],
   "source": [
    "character_ages = { k:v for (k,v) in zip(characters, ages)} \n",
    "character_ages"
   ]
  },
  {
   "cell_type": "code",
   "execution_count": null,
   "metadata": {},
   "outputs": [],
   "source": [
    "character_ages"
   ]
  },
  {
   "cell_type": "code",
   "execution_count": 93,
   "metadata": {},
   "outputs": [
    {
     "data": {
      "text/plain": [
       "['Sabrina', 'Ambrose', 'Hilda', 'Zelda', 'Harvey']"
      ]
     },
     "execution_count": 93,
     "metadata": {},
     "output_type": "execute_result"
    }
   ],
   "source": [
    "# 2.4.E\n",
    "characters"
   ]
  },
  {
   "cell_type": "code",
   "execution_count": 92,
   "metadata": {},
   "outputs": [
    {
     "data": {
      "text/plain": [
       "[16, 75, 270, 290, 17]"
      ]
     },
     "execution_count": 92,
     "metadata": {},
     "output_type": "execute_result"
    }
   ],
   "source": [
    "ages"
   ]
  },
  {
   "cell_type": "code",
   "execution_count": 94,
   "metadata": {},
   "outputs": [
    {
     "name": "stdout",
     "output_type": "stream",
     "text": [
      "('Sabrina', 16)\n",
      "('Ambrose', 75)\n",
      "('Hilda', 270)\n",
      "('Zelda', 290)\n",
      "('Harvey', 17)\n"
     ]
    }
   ],
   "source": [
    "for z in zip(characters, ages):\n",
    "    print(z)"
   ]
  },
  {
   "cell_type": "code",
   "execution_count": 101,
   "metadata": {},
   "outputs": [],
   "source": [
    "character_ages = dict(zip(characters, ages)) "
   ]
  },
  {
   "cell_type": "code",
   "execution_count": 107,
   "metadata": {},
   "outputs": [
    {
     "data": {
      "text/plain": [
       "{'Sabrina': 16, 'Ambrose': 75, 'Hilda': 270, 'Zelda': 290, 'Harvey': 17}"
      ]
     },
     "execution_count": 107,
     "metadata": {},
     "output_type": "execute_result"
    }
   ],
   "source": [
    "character_ages"
   ]
  },
  {
   "cell_type": "code",
   "execution_count": 116,
   "metadata": {},
   "outputs": [
    {
     "name": "stdout",
     "output_type": "stream",
     "text": [
      "Sabrina is a witch who is 16 years old.\n",
      "Ambrose is a witch who is 75 years old.\n",
      "Hilda is a witch who is 270 years old.\n",
      "Zelda is a witch who is 290 years old.\n",
      "Harvey is a witch who is 17 years old.\n"
     ]
    }
   ],
   "source": [
    "for name, age in character_ages.items():\n",
    "    print(f'{name} is a witch who is {age} years old.')"
   ]
  },
  {
   "cell_type": "code",
   "execution_count": null,
   "metadata": {},
   "outputs": [],
   "source": [
    "# 2.4.F.LIVE\n",
    "\n",
    "for k, v in character_ages.items():\n",
    "    print(f'{k} is {v} years old.')"
   ]
  }
 ],
 "metadata": {
  "kernelspec": {
   "display_name": "Python 3 (ipykernel)",
   "language": "python",
   "name": "python3"
  },
  "language_info": {
   "codemirror_mode": {
    "name": "ipython",
    "version": 3
   },
   "file_extension": ".py",
   "mimetype": "text/x-python",
   "name": "python",
   "nbconvert_exporter": "python",
   "pygments_lexer": "ipython3",
   "version": "3.10.9"
  }
 },
 "nbformat": 4,
 "nbformat_minor": 4
}
