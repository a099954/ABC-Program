{
 "cells": [
  {
   "cell_type": "markdown",
   "metadata": {},
   "source": [
    "# Chapter 3"
   ]
  },
  {
   "cell_type": "markdown",
   "metadata": {},
   "source": [
    "## Episode 1"
   ]
  },
  {
   "cell_type": "code",
   "execution_count": null,
   "metadata": {
    "scrolled": true
   },
   "outputs": [],
   "source": [
    "account_balance = 500"
   ]
  },
  {
   "cell_type": "code",
   "execution_count": null,
   "metadata": {
    "scrolled": true
   },
   "outputs": [],
   "source": [
    "# 3.1.A.\n",
    "\n",
    "def get_balance():\n",
    "    print(f'Your balance is ${account_balance}')"
   ]
  },
  {
   "cell_type": "code",
   "execution_count": null,
   "metadata": {
    "scrolled": true
   },
   "outputs": [],
   "source": [
    "# 3.1.B.\n",
    "\n",
    "get_balance()"
   ]
  },
  {
   "cell_type": "code",
   "execution_count": null,
   "metadata": {
    "scrolled": true
   },
   "outputs": [],
   "source": [
    "def get_balance(account_number):\n",
    "    print(f'Account: {account_number} | Balance: $500')"
   ]
  },
  {
   "cell_type": "code",
   "execution_count": null,
   "metadata": {
    "scrolled": true
   },
   "outputs": [],
   "source": [
    "# 3.1.C.\n",
    "\n",
    "get_balance('7779311')"
   ]
  },
  {
   "cell_type": "code",
   "execution_count": null,
   "metadata": {
    "scrolled": true
   },
   "outputs": [],
   "source": [
    "# 3.1.D.\n",
    "# 3.1.E.\n",
    "\n",
    "def withdraw_funds(account_number, withdrawal_amount):\n",
    "    \n",
    "    approve_transaction = False\n",
    "    \n",
    "    if(withdrawal_amount) <= account_balance:\n",
    "        approve_transaction = True\n",
    "        \n",
    "    return approve_transaction"
   ]
  },
  {
   "cell_type": "code",
   "execution_count": null,
   "metadata": {
    "scrolled": true
   },
   "outputs": [],
   "source": [
    "# 3.1.C.\n",
    "\n",
    "withdraw_funds('7779311', 400)"
   ]
  },
  {
   "cell_type": "code",
   "execution_count": null,
   "metadata": {
    "scrolled": true
   },
   "outputs": [],
   "source": [
    "# 3.1.E.\n",
    "\n",
    "def deposit_funds(deposit_amount):\n",
    "    \n",
    "    new_balance = deposit_amount + account_balance\n",
    "    \n",
    "    return(new_balance)"
   ]
  },
  {
   "cell_type": "code",
   "execution_count": null,
   "metadata": {
    "scrolled": true
   },
   "outputs": [],
   "source": [
    "# 3.1.C.\n",
    "\n",
    "deposit_funds(200)\n",
    "\n",
    "# What happened here?"
   ]
  },
  {
   "cell_type": "code",
   "execution_count": null,
   "metadata": {
    "scrolled": true
   },
   "outputs": [],
   "source": [
    "# 3.1.F.LIVE\n",
    "'''\n",
    "Write a function that deposits money into an account.\n",
    "The function should accept the account number and the deposit amount.\n",
    "It should return the account number and the new balance.\n",
    "'''\n",
    "\n",
    "# Break down the logic into steps!\n",
    "# 1. Define the function\n",
    "# 2. Set up the arguments\n",
    "# 3. Code the function\n",
    "# 4. Send back the result\n",
    "\n",
    "def deposit_funds(deposit_amount):    \n",
    "    new_balance = account_balance + deposit_amount\n",
    "    return new_balance\n",
    "    \n",
    "deposit_funds(200)"
   ]
  },
  {
   "cell_type": "code",
   "execution_count": null,
   "metadata": {
    "scrolled": true
   },
   "outputs": [],
   "source": [
    "# 3.1.G\n",
    "    \n",
    "promo_interest_rate = .05\n",
    "\n",
    "def add_interest(bal, rate):\n",
    "    \n",
    "    new_bal = bal + (bal*rate)\n",
    "     \n",
    "    return new_bal\n",
    "\n",
    "add_interest(account_balance, promo_interest_rate)"
   ]
  },
  {
   "cell_type": "code",
   "execution_count": null,
   "metadata": {
    "scrolled": true
   },
   "outputs": [],
   "source": [
    "# 3.1.H\n",
    "\n",
    "add_interest = lambda bal, rate : bal + (bal*rate)\n",
    "# FUNCTION NAME        INPUT(S)   CALCULATION(S)\n",
    "\n",
    "new_balance = add_interest(account_balance, promo_interest_rate)\n",
    "new_balance"
   ]
  },
  {
   "cell_type": "code",
   "execution_count": null,
   "metadata": {
    "scrolled": true
   },
   "outputs": [],
   "source": [
    "# 3.1.I.LIVE\n",
    "\n",
    "deposit_funds = lambda deposit_amount : account_balance + deposit_amount\n",
    "\n",
    "deposit_funds(250)"
   ]
  },
  {
   "cell_type": "code",
   "execution_count": null,
   "metadata": {
    "scrolled": true
   },
   "outputs": [],
   "source": [
    "account_balances = [500, 600, 12000, 10000, 700.50, 11000.50]\n",
    "promo_interest_rate = .1 \n",
    "\n",
    "def add_interest(accts, rate):\n",
    "    new_balances = []\n",
    "    \n",
    "    for acct in accts:\n",
    "        acct = acct + (acct*rate)\n",
    "        new_balances.append(acct)\n",
    "     \n",
    "    return new_balances\n",
    "\n",
    "add_interest(account_balances, promo_interest_rate)"
   ]
  },
  {
   "cell_type": "markdown",
   "metadata": {},
   "source": [
    "## Episode 2"
   ]
  },
  {
   "cell_type": "code",
   "execution_count": null,
   "metadata": {
    "scrolled": true
   },
   "outputs": [],
   "source": [
    "my_arr = [1,2,3,4,6]\n",
    "my_arr\n",
    "\n",
    "for x in my_arr:\n",
    "    print(x)"
   ]
  },
  {
   "cell_type": "code",
   "execution_count": null,
   "metadata": {
    "scrolled": true
   },
   "outputs": [],
   "source": [
    "import pandas as pd\n",
    "\n",
    "foo = pd.Series(my_arr)\n",
    "foo"
   ]
  },
  {
   "cell_type": "code",
   "execution_count": null,
   "metadata": {
    "scrolled": true
   },
   "outputs": [],
   "source": [
    "# 3.2.A\n",
    "\n",
    "import pandas as pd"
   ]
  },
  {
   "cell_type": "code",
   "execution_count": null,
   "metadata": {
    "scrolled": true
   },
   "outputs": [],
   "source": [
    "# 3.2.B\n",
    "\n",
    "accounts_df = pd.read_csv('chp3_account_balances.csv')\n",
    "accounts_df"
   ]
  },
  {
   "cell_type": "code",
   "execution_count": null,
   "metadata": {
    "scrolled": true
   },
   "outputs": [],
   "source": [
    "# 3.2.C\n",
    "\n",
    "accounts_df.head()"
   ]
  },
  {
   "cell_type": "code",
   "execution_count": null,
   "metadata": {
    "scrolled": true
   },
   "outputs": [],
   "source": [
    "# 3.2.D\n",
    "\n",
    "accounts_df.tail()"
   ]
  },
  {
   "cell_type": "code",
   "execution_count": null,
   "metadata": {
    "scrolled": true
   },
   "outputs": [],
   "source": [
    "# 3.2.E\n",
    "\n",
    "accounts_df.head(2)"
   ]
  },
  {
   "cell_type": "code",
   "execution_count": null,
   "metadata": {
    "scrolled": true
   },
   "outputs": [],
   "source": [
    "# 3.2.F\n",
    "\n",
    "accounts_df.columns"
   ]
  },
  {
   "cell_type": "code",
   "execution_count": null,
   "metadata": {
    "scrolled": false
   },
   "outputs": [],
   "source": [
    "accounts_df.describe()"
   ]
  },
  {
   "cell_type": "code",
   "execution_count": null,
   "metadata": {
    "scrolled": true
   },
   "outputs": [],
   "source": [
    "# 3.2.G\n",
    "\n",
    "accounts_df.sort_values(by='Balance')"
   ]
  },
  {
   "cell_type": "code",
   "execution_count": null,
   "metadata": {
    "scrolled": true
   },
   "outputs": [],
   "source": [
    "# 3.2.H\n",
    "\n",
    "accounts_df.sort_values(by='Balance', ascending=False)"
   ]
  },
  {
   "cell_type": "code",
   "execution_count": null,
   "metadata": {
    "scrolled": true
   },
   "outputs": [],
   "source": [
    "# 3.2.I.LIVE\n",
    "\n",
    "import pandas as pd\n",
    "\n",
    "accounts_df = pd.read_csv('chp3_account_balances.csv')\n",
    "\n",
    "accounts_df.sort_values(by='First Name')"
   ]
  },
  {
   "cell_type": "code",
   "execution_count": null,
   "metadata": {
    "scrolled": true
   },
   "outputs": [],
   "source": [
    "# 3.2.J.LIVE\n",
    "\n",
    "import pandas as pd\n",
    "\n",
    "accounts_df = pd.read_csv('chp3_account_balances.csv')\n",
    "\n",
    "accounts_df.sort_values(by=['Last Name','First Name'])"
   ]
  },
  {
   "cell_type": "code",
   "execution_count": null,
   "metadata": {
    "scrolled": true
   },
   "outputs": [],
   "source": [
    "# creating a series from a list\n",
    "account_balances = [500, 3463.68, 12299.10, 10199.21, 700, 13009.02]\n",
    "\n",
    "bal_series = pd.Series(account_balances)\n",
    "\n",
    "bal_series"
   ]
  },
  {
   "cell_type": "code",
   "execution_count": null,
   "metadata": {
    "scrolled": true
   },
   "outputs": [],
   "source": [
    "# accessing values within a Series\n",
    "\n",
    "print(bal_series[2]) # index 2: 12299.10\n",
    "print(bal_series[0]) # index 0: 500\n",
    "print(bal_series[4]) # index 4: 700"
   ]
  },
  {
   "cell_type": "code",
   "execution_count": null,
   "metadata": {
    "scrolled": true
   },
   "outputs": [],
   "source": [
    "# 3.2.K\n",
    "\n",
    "accounts = [{'acct_no': '7779311', 'full_name': 'Sabrina Spellman', 'acct_bal': 19000},\n",
    "           {'acct_no': '7789422', 'full_name': 'Ambrose Spellman', 'acct_bal': 21000},\n",
    "           {'acct_no': '7829366', 'full_name': 'Hilda Spellman', 'acct_bal': 25000},\n",
    "           {'acct_no': '7839477', 'full_name': 'Zelda Spellman', 'acct_bal': 32000}]\n",
    "\n",
    "acct_df = pd.DataFrame(accounts)\n",
    "acct_df"
   ]
  },
  {
   "cell_type": "code",
   "execution_count": null,
   "metadata": {
    "scrolled": true
   },
   "outputs": [],
   "source": [
    "# 3.2.L\n",
    "\n",
    "acct_dict = {\n",
    "    'acct_no': ['7779311','7789422','7829366','7839477'],\n",
    "    'full_name': ['Sabrina Spellman','Ambrose Spellman','Hilda Spellman','Zelda Spellman'],\n",
    "    'acct_bal': [19000,21000,25000,32000]\n",
    "}\n",
    "\n",
    "acct_df = pd.DataFrame(acct_dict)\n",
    "acct_df"
   ]
  },
  {
   "cell_type": "code",
   "execution_count": null,
   "metadata": {
    "scrolled": true
   },
   "outputs": [],
   "source": [
    "# 3.2.M\n",
    "\n",
    "# placeholder for scenarios and handling errors"
   ]
  },
  {
   "cell_type": "code",
   "execution_count": null,
   "metadata": {
    "scrolled": true
   },
   "outputs": [],
   "source": [
    "# 3.2.O\n",
    "\n",
    "acct_df['full_name']"
   ]
  },
  {
   "cell_type": "code",
   "execution_count": null,
   "metadata": {
    "scrolled": true
   },
   "outputs": [],
   "source": [
    "# 3.2.P\n",
    "\n",
    "# pick only one column and assign to a variable\n",
    "clients = acct_df['full_name']\n",
    "clients"
   ]
  },
  {
   "cell_type": "code",
   "execution_count": null,
   "metadata": {
    "scrolled": true
   },
   "outputs": [],
   "source": [
    "# 3.2.Q\n",
    "\n",
    "# convert a series to a list\n",
    "print(type(clients))\n",
    "client_list = list(clients)\n",
    "print(type(client_list))\n",
    "client_list"
   ]
  },
  {
   "cell_type": "code",
   "execution_count": null,
   "metadata": {
    "scrolled": true
   },
   "outputs": [],
   "source": [
    "# 3.2.R\n",
    "\n",
    "# select more than one column: passing in a list of column names\n",
    "client_bal = acct_df[['full_name','acct_bal']]\n",
    "\n",
    "# note that this returns a DataFrame\n",
    "client_bal"
   ]
  },
  {
   "cell_type": "code",
   "execution_count": null,
   "metadata": {
    "scrolled": true
   },
   "outputs": [],
   "source": [
    "# 3.2.S\n",
    "\n",
    "# Statistical summary\n",
    "client_bal.describe()"
   ]
  },
  {
   "cell_type": "code",
   "execution_count": null,
   "metadata": {
    "scrolled": true
   },
   "outputs": [],
   "source": [
    "# 3.2.T\n",
    "\n",
    "# record count\n",
    "print('# of accounts')\n",
    "print(client_bal['acct_bal'].count())\n",
    "\n",
    "print('Lowest account balance')\n",
    "# min\n",
    "print(client_bal['acct_bal'].min())\n",
    "\n",
    "# max\n",
    "print('Highest account balance')\n",
    "print(client_bal['acct_bal'].max())\n",
    "\n",
    "# mean\n",
    "print('Average account balance')\n",
    "print(client_bal['acct_bal'].mean())\n",
    "\n",
    "# sum\n",
    "print('Total account balances')\n",
    "print(client_bal['acct_bal'].sum())"
   ]
  },
  {
   "cell_type": "code",
   "execution_count": null,
   "metadata": {
    "scrolled": true
   },
   "outputs": [],
   "source": [
    "client_bal"
   ]
  },
  {
   "cell_type": "code",
   "execution_count": null,
   "metadata": {
    "scrolled": true
   },
   "outputs": [],
   "source": [
    "# 3.2.U.LIVE.1\n",
    "\n",
    "acct_num_name = acct_df[['acct_no', 'full_name']]\n",
    "acct_num_name.sort_values('full_name')"
   ]
  },
  {
   "cell_type": "code",
   "execution_count": null,
   "metadata": {
    "scrolled": true
   },
   "outputs": [],
   "source": [
    "# 3.2.U.LIVE.2\n",
    "\n",
    "acct_df['acct_bal'].sum()"
   ]
  },
  {
   "cell_type": "code",
   "execution_count": null,
   "metadata": {
    "scrolled": true
   },
   "outputs": [],
   "source": [
    "# 3.2.U.LIVE.3\n",
    "\n",
    "acct_bals = acct_df['acct_bal']\n",
    "acct_bal_list = list(acct_bals)\n",
    "sum_bal = 0\n",
    "\n",
    "for bal in acct_bal_list:\n",
    "    sum_bal += bal\n",
    "    \n",
    "sum_bal"
   ]
  },
  {
   "cell_type": "code",
   "execution_count": null,
   "metadata": {
    "scrolled": true
   },
   "outputs": [],
   "source": [
    "# 3.2.U.LIVE.4\n",
    "\n",
    "print(f'The sum of all account balances is {sum_bal}')"
   ]
  },
  {
   "cell_type": "code",
   "execution_count": null,
   "metadata": {
    "scrolled": true
   },
   "outputs": [],
   "source": [
    "acct_dict = {\n",
    "    'acct_no': ['7779311','7789422','7829366','7839477'],\n",
    "    'full_name': ['Sabrina Spellman','Ambrose Spellman','Hilda Spellman','Zelda Spellman'],\n",
    "    'acct_bal': [19000,21000,25000,32000]\n",
    "}\n",
    "\n",
    "acct_df = pd.DataFrame(acct_dict)\n",
    "acct_df"
   ]
  },
  {
   "cell_type": "markdown",
   "metadata": {},
   "source": [
    "## Episode 3"
   ]
  },
  {
   "cell_type": "code",
   "execution_count": 192,
   "metadata": {
    "scrolled": true
   },
   "outputs": [
    {
     "data": {
      "text/html": [
       "<div>\n",
       "<style scoped>\n",
       "    .dataframe tbody tr th:only-of-type {\n",
       "        vertical-align: middle;\n",
       "    }\n",
       "\n",
       "    .dataframe tbody tr th {\n",
       "        vertical-align: top;\n",
       "    }\n",
       "\n",
       "    .dataframe thead th {\n",
       "        text-align: right;\n",
       "    }\n",
       "</style>\n",
       "<table border=\"1\" class=\"dataframe\">\n",
       "  <thead>\n",
       "    <tr style=\"text-align: right;\">\n",
       "      <th></th>\n",
       "      <th>acct_no</th>\n",
       "      <th>first_name</th>\n",
       "      <th>last_name</th>\n",
       "      <th>acct_bal</th>\n",
       "    </tr>\n",
       "  </thead>\n",
       "  <tbody>\n",
       "    <tr>\n",
       "      <th>0</th>\n",
       "      <td>7779311</td>\n",
       "      <td>Sabrina</td>\n",
       "      <td>Spellman</td>\n",
       "      <td>19000</td>\n",
       "    </tr>\n",
       "    <tr>\n",
       "      <th>1</th>\n",
       "      <td>7789422</td>\n",
       "      <td>Ambrose</td>\n",
       "      <td>Spellman</td>\n",
       "      <td>21000</td>\n",
       "    </tr>\n",
       "    <tr>\n",
       "      <th>2</th>\n",
       "      <td>7829366</td>\n",
       "      <td>Hilda</td>\n",
       "      <td>Spellman</td>\n",
       "      <td>25000</td>\n",
       "    </tr>\n",
       "    <tr>\n",
       "      <th>3</th>\n",
       "      <td>7839477</td>\n",
       "      <td>Zelda</td>\n",
       "      <td>Spellman</td>\n",
       "      <td>32000</td>\n",
       "    </tr>\n",
       "  </tbody>\n",
       "</table>\n",
       "</div>"
      ],
      "text/plain": [
       "   acct_no first_name last_name  acct_bal\n",
       "0  7779311    Sabrina  Spellman     19000\n",
       "1  7789422    Ambrose  Spellman     21000\n",
       "2  7829366      Hilda  Spellman     25000\n",
       "3  7839477      Zelda  Spellman     32000"
      ]
     },
     "execution_count": 192,
     "metadata": {},
     "output_type": "execute_result"
    }
   ],
   "source": [
    "# 3.3.A\n",
    "\n",
    "# DICTIONARY OF LISTS\n",
    "acct_dict = {\n",
    "    'acct_no': ['7779311','7789422','7829366','7839477'],\n",
    "    'first_name': ['Sabrina','Ambrose','Hilda','Zelda'],\n",
    "    'last_name': ['Spellman','Spellman','Spellman','Spellman'],\n",
    "    'acct_bal': [19000,21000,25000,32000]\n",
    "}\n",
    "\n",
    "# LIST OF DICTIONARIES\n",
    "# accounts = [{'acct_no': '7779311', 'full_name': 'Sabrina Spellman', 'acct_bal': 19000},\n",
    "#            {'acct_no': '7789422', 'full_name': 'Ambrose Spellman', 'acct_bal': 21000},\n",
    "#            {'acct_no': '7829366', 'full_name': 'Hilda Spellman', 'acct_bal': 25000},\n",
    "#            {'acct_no': '7839477', 'full_name': 'Zelda Spellman', 'acct_bal': 32000}]\n",
    "\n",
    "acct_df = pd.DataFrame(acct_dict)\n",
    "acct_df"
   ]
  },
  {
   "cell_type": "code",
   "execution_count": 193,
   "metadata": {
    "scrolled": true
   },
   "outputs": [
    {
     "data": {
      "text/html": [
       "<div>\n",
       "<style scoped>\n",
       "    .dataframe tbody tr th:only-of-type {\n",
       "        vertical-align: middle;\n",
       "    }\n",
       "\n",
       "    .dataframe tbody tr th {\n",
       "        vertical-align: top;\n",
       "    }\n",
       "\n",
       "    .dataframe thead th {\n",
       "        text-align: right;\n",
       "    }\n",
       "</style>\n",
       "<table border=\"1\" class=\"dataframe\">\n",
       "  <thead>\n",
       "    <tr style=\"text-align: right;\">\n",
       "      <th></th>\n",
       "      <th>acct_no</th>\n",
       "      <th>first_name</th>\n",
       "      <th>last_name</th>\n",
       "      <th>acct_bal</th>\n",
       "    </tr>\n",
       "  </thead>\n",
       "  <tbody>\n",
       "    <tr>\n",
       "      <th>0</th>\n",
       "      <td>7779311</td>\n",
       "      <td>Sabrina</td>\n",
       "      <td>Spellman</td>\n",
       "      <td>19000</td>\n",
       "    </tr>\n",
       "    <tr>\n",
       "      <th>1</th>\n",
       "      <td>7789422</td>\n",
       "      <td>Ambrose</td>\n",
       "      <td>Spellman</td>\n",
       "      <td>21000</td>\n",
       "    </tr>\n",
       "    <tr>\n",
       "      <th>2</th>\n",
       "      <td>7829366</td>\n",
       "      <td>Hilda</td>\n",
       "      <td>Spellman</td>\n",
       "      <td>25000</td>\n",
       "    </tr>\n",
       "    <tr>\n",
       "      <th>3</th>\n",
       "      <td>7839477</td>\n",
       "      <td>Zelda</td>\n",
       "      <td>Spellman</td>\n",
       "      <td>32000</td>\n",
       "    </tr>\n",
       "  </tbody>\n",
       "</table>\n",
       "</div>"
      ],
      "text/plain": [
       "   acct_no first_name last_name  acct_bal\n",
       "0  7779311    Sabrina  Spellman     19000\n",
       "1  7789422    Ambrose  Spellman     21000\n",
       "2  7829366      Hilda  Spellman     25000\n",
       "3  7839477      Zelda  Spellman     32000"
      ]
     },
     "execution_count": 193,
     "metadata": {},
     "output_type": "execute_result"
    }
   ],
   "source": [
    "acct_df"
   ]
  },
  {
   "cell_type": "code",
   "execution_count": 194,
   "metadata": {
    "scrolled": false
   },
   "outputs": [
    {
     "data": {
      "text/plain": [
       "acct_no        7779311\n",
       "first_name     Sabrina\n",
       "last_name     Spellman\n",
       "acct_bal         19000\n",
       "Name: 0, dtype: object"
      ]
     },
     "execution_count": 194,
     "metadata": {},
     "output_type": "execute_result"
    }
   ],
   "source": [
    "# 3.3.B\n",
    "\n",
    "#iloc to find records\n",
    "#iloc[ ] uses the *numeric* indexes of a dataframe's rows and columns to return specific values\n",
    "\n",
    "#row 1\n",
    "acct_df.iloc[0]"
   ]
  },
  {
   "cell_type": "code",
   "execution_count": 195,
   "metadata": {
    "scrolled": true
   },
   "outputs": [
    {
     "data": {
      "text/html": [
       "<div>\n",
       "<style scoped>\n",
       "    .dataframe tbody tr th:only-of-type {\n",
       "        vertical-align: middle;\n",
       "    }\n",
       "\n",
       "    .dataframe tbody tr th {\n",
       "        vertical-align: top;\n",
       "    }\n",
       "\n",
       "    .dataframe thead th {\n",
       "        text-align: right;\n",
       "    }\n",
       "</style>\n",
       "<table border=\"1\" class=\"dataframe\">\n",
       "  <thead>\n",
       "    <tr style=\"text-align: right;\">\n",
       "      <th></th>\n",
       "      <th>acct_no</th>\n",
       "      <th>first_name</th>\n",
       "      <th>last_name</th>\n",
       "      <th>acct_bal</th>\n",
       "    </tr>\n",
       "  </thead>\n",
       "  <tbody>\n",
       "    <tr>\n",
       "      <th>0</th>\n",
       "      <td>7779311</td>\n",
       "      <td>Sabrina</td>\n",
       "      <td>Spellman</td>\n",
       "      <td>19000</td>\n",
       "    </tr>\n",
       "    <tr>\n",
       "      <th>1</th>\n",
       "      <td>7789422</td>\n",
       "      <td>Ambrose</td>\n",
       "      <td>Spellman</td>\n",
       "      <td>21000</td>\n",
       "    </tr>\n",
       "    <tr>\n",
       "      <th>2</th>\n",
       "      <td>7829366</td>\n",
       "      <td>Hilda</td>\n",
       "      <td>Spellman</td>\n",
       "      <td>25000</td>\n",
       "    </tr>\n",
       "    <tr>\n",
       "      <th>3</th>\n",
       "      <td>7839477</td>\n",
       "      <td>Zelda</td>\n",
       "      <td>Spellman</td>\n",
       "      <td>32000</td>\n",
       "    </tr>\n",
       "  </tbody>\n",
       "</table>\n",
       "</div>"
      ],
      "text/plain": [
       "   acct_no first_name last_name  acct_bal\n",
       "0  7779311    Sabrina  Spellman     19000\n",
       "1  7789422    Ambrose  Spellman     21000\n",
       "2  7829366      Hilda  Spellman     25000\n",
       "3  7839477      Zelda  Spellman     32000"
      ]
     },
     "execution_count": 195,
     "metadata": {},
     "output_type": "execute_result"
    }
   ],
   "source": [
    "acct_df"
   ]
  },
  {
   "cell_type": "code",
   "execution_count": 196,
   "metadata": {
    "scrolled": true
   },
   "outputs": [
    {
     "data": {
      "text/plain": [
       "'Ambrose'"
      ]
     },
     "execution_count": 196,
     "metadata": {},
     "output_type": "execute_result"
    }
   ],
   "source": [
    "# 3.3.C\n",
    "\n",
    "#row 2, column 2\n",
    "acct_df.iloc[1,1]"
   ]
  },
  {
   "cell_type": "code",
   "execution_count": 197,
   "metadata": {
    "scrolled": true
   },
   "outputs": [
    {
     "data": {
      "text/html": [
       "<div>\n",
       "<style scoped>\n",
       "    .dataframe tbody tr th:only-of-type {\n",
       "        vertical-align: middle;\n",
       "    }\n",
       "\n",
       "    .dataframe tbody tr th {\n",
       "        vertical-align: top;\n",
       "    }\n",
       "\n",
       "    .dataframe thead th {\n",
       "        text-align: right;\n",
       "    }\n",
       "</style>\n",
       "<table border=\"1\" class=\"dataframe\">\n",
       "  <thead>\n",
       "    <tr style=\"text-align: right;\">\n",
       "      <th></th>\n",
       "      <th>acct_no</th>\n",
       "      <th>first_name</th>\n",
       "      <th>last_name</th>\n",
       "      <th>acct_bal</th>\n",
       "    </tr>\n",
       "  </thead>\n",
       "  <tbody>\n",
       "    <tr>\n",
       "      <th>0</th>\n",
       "      <td>7779311</td>\n",
       "      <td>Sabrina</td>\n",
       "      <td>Spellman</td>\n",
       "      <td>19000</td>\n",
       "    </tr>\n",
       "    <tr>\n",
       "      <th>1</th>\n",
       "      <td>7789422</td>\n",
       "      <td>Ambrose</td>\n",
       "      <td>Spellman</td>\n",
       "      <td>21000</td>\n",
       "    </tr>\n",
       "    <tr>\n",
       "      <th>2</th>\n",
       "      <td>7829366</td>\n",
       "      <td>Hilda</td>\n",
       "      <td>Spellman</td>\n",
       "      <td>25000</td>\n",
       "    </tr>\n",
       "    <tr>\n",
       "      <th>3</th>\n",
       "      <td>7839477</td>\n",
       "      <td>Zelda</td>\n",
       "      <td>Spellman</td>\n",
       "      <td>32000</td>\n",
       "    </tr>\n",
       "  </tbody>\n",
       "</table>\n",
       "</div>"
      ],
      "text/plain": [
       "   acct_no first_name last_name  acct_bal\n",
       "0  7779311    Sabrina  Spellman     19000\n",
       "1  7789422    Ambrose  Spellman     21000\n",
       "2  7829366      Hilda  Spellman     25000\n",
       "3  7839477      Zelda  Spellman     32000"
      ]
     },
     "execution_count": 197,
     "metadata": {},
     "output_type": "execute_result"
    }
   ],
   "source": [
    "acct_df"
   ]
  },
  {
   "cell_type": "code",
   "execution_count": 198,
   "metadata": {
    "scrolled": true
   },
   "outputs": [
    {
     "data": {
      "text/plain": [
       "acct_no        7789422\n",
       "first_name     Ambrose\n",
       "last_name     Spellman\n",
       "acct_bal         21000\n",
       "Name: 1, dtype: object"
      ]
     },
     "execution_count": 198,
     "metadata": {},
     "output_type": "execute_result"
    }
   ],
   "source": [
    "# 3.3.D\n",
    "\n",
    "#row 2, all columns\n",
    "acct_df.iloc[1,:]\n",
    "\n",
    "#row index is the default parameter"
   ]
  },
  {
   "cell_type": "code",
   "execution_count": 199,
   "metadata": {
    "scrolled": true
   },
   "outputs": [
    {
     "data": {
      "text/html": [
       "<div>\n",
       "<style scoped>\n",
       "    .dataframe tbody tr th:only-of-type {\n",
       "        vertical-align: middle;\n",
       "    }\n",
       "\n",
       "    .dataframe tbody tr th {\n",
       "        vertical-align: top;\n",
       "    }\n",
       "\n",
       "    .dataframe thead th {\n",
       "        text-align: right;\n",
       "    }\n",
       "</style>\n",
       "<table border=\"1\" class=\"dataframe\">\n",
       "  <thead>\n",
       "    <tr style=\"text-align: right;\">\n",
       "      <th></th>\n",
       "      <th>acct_no</th>\n",
       "      <th>first_name</th>\n",
       "      <th>last_name</th>\n",
       "      <th>acct_bal</th>\n",
       "    </tr>\n",
       "  </thead>\n",
       "  <tbody>\n",
       "    <tr>\n",
       "      <th>0</th>\n",
       "      <td>7779311</td>\n",
       "      <td>Sabrina</td>\n",
       "      <td>Spellman</td>\n",
       "      <td>19000</td>\n",
       "    </tr>\n",
       "    <tr>\n",
       "      <th>1</th>\n",
       "      <td>7789422</td>\n",
       "      <td>Ambrose</td>\n",
       "      <td>Spellman</td>\n",
       "      <td>21000</td>\n",
       "    </tr>\n",
       "    <tr>\n",
       "      <th>2</th>\n",
       "      <td>7829366</td>\n",
       "      <td>Hilda</td>\n",
       "      <td>Spellman</td>\n",
       "      <td>25000</td>\n",
       "    </tr>\n",
       "    <tr>\n",
       "      <th>3</th>\n",
       "      <td>7839477</td>\n",
       "      <td>Zelda</td>\n",
       "      <td>Spellman</td>\n",
       "      <td>32000</td>\n",
       "    </tr>\n",
       "  </tbody>\n",
       "</table>\n",
       "</div>"
      ],
      "text/plain": [
       "   acct_no first_name last_name  acct_bal\n",
       "0  7779311    Sabrina  Spellman     19000\n",
       "1  7789422    Ambrose  Spellman     21000\n",
       "2  7829366      Hilda  Spellman     25000\n",
       "3  7839477      Zelda  Spellman     32000"
      ]
     },
     "execution_count": 199,
     "metadata": {},
     "output_type": "execute_result"
    }
   ],
   "source": [
    "acct_df"
   ]
  },
  {
   "cell_type": "code",
   "execution_count": 200,
   "metadata": {
    "scrolled": true
   },
   "outputs": [
    {
     "data": {
      "text/plain": [
       "0    Spellman\n",
       "1    Spellman\n",
       "2    Spellman\n",
       "3    Spellman\n",
       "Name: last_name, dtype: object"
      ]
     },
     "execution_count": 200,
     "metadata": {},
     "output_type": "execute_result"
    }
   ],
   "source": [
    "# 3.3.E\n",
    "\n",
    "#all rows, column 3\n",
    "acct_df.iloc[:,2]"
   ]
  },
  {
   "cell_type": "code",
   "execution_count": 201,
   "metadata": {
    "scrolled": true
   },
   "outputs": [
    {
     "data": {
      "text/html": [
       "<div>\n",
       "<style scoped>\n",
       "    .dataframe tbody tr th:only-of-type {\n",
       "        vertical-align: middle;\n",
       "    }\n",
       "\n",
       "    .dataframe tbody tr th {\n",
       "        vertical-align: top;\n",
       "    }\n",
       "\n",
       "    .dataframe thead th {\n",
       "        text-align: right;\n",
       "    }\n",
       "</style>\n",
       "<table border=\"1\" class=\"dataframe\">\n",
       "  <thead>\n",
       "    <tr style=\"text-align: right;\">\n",
       "      <th></th>\n",
       "      <th>acct_no</th>\n",
       "      <th>first_name</th>\n",
       "      <th>last_name</th>\n",
       "      <th>acct_bal</th>\n",
       "    </tr>\n",
       "  </thead>\n",
       "  <tbody>\n",
       "    <tr>\n",
       "      <th>0</th>\n",
       "      <td>7779311</td>\n",
       "      <td>Sabrina</td>\n",
       "      <td>Spellman</td>\n",
       "      <td>19000</td>\n",
       "    </tr>\n",
       "    <tr>\n",
       "      <th>1</th>\n",
       "      <td>7789422</td>\n",
       "      <td>Ambrose</td>\n",
       "      <td>Spellman</td>\n",
       "      <td>21000</td>\n",
       "    </tr>\n",
       "    <tr>\n",
       "      <th>2</th>\n",
       "      <td>7829366</td>\n",
       "      <td>Hilda</td>\n",
       "      <td>Spellman</td>\n",
       "      <td>25000</td>\n",
       "    </tr>\n",
       "    <tr>\n",
       "      <th>3</th>\n",
       "      <td>7839477</td>\n",
       "      <td>Zelda</td>\n",
       "      <td>Spellman</td>\n",
       "      <td>32000</td>\n",
       "    </tr>\n",
       "  </tbody>\n",
       "</table>\n",
       "</div>"
      ],
      "text/plain": [
       "   acct_no first_name last_name  acct_bal\n",
       "0  7779311    Sabrina  Spellman     19000\n",
       "1  7789422    Ambrose  Spellman     21000\n",
       "2  7829366      Hilda  Spellman     25000\n",
       "3  7839477      Zelda  Spellman     32000"
      ]
     },
     "execution_count": 201,
     "metadata": {},
     "output_type": "execute_result"
    }
   ],
   "source": [
    "acct_df"
   ]
  },
  {
   "cell_type": "code",
   "execution_count": 202,
   "metadata": {
    "scrolled": true
   },
   "outputs": [
    {
     "data": {
      "text/html": [
       "<div>\n",
       "<style scoped>\n",
       "    .dataframe tbody tr th:only-of-type {\n",
       "        vertical-align: middle;\n",
       "    }\n",
       "\n",
       "    .dataframe tbody tr th {\n",
       "        vertical-align: top;\n",
       "    }\n",
       "\n",
       "    .dataframe thead th {\n",
       "        text-align: right;\n",
       "    }\n",
       "</style>\n",
       "<table border=\"1\" class=\"dataframe\">\n",
       "  <thead>\n",
       "    <tr style=\"text-align: right;\">\n",
       "      <th></th>\n",
       "      <th>first_name</th>\n",
       "      <th>last_name</th>\n",
       "    </tr>\n",
       "  </thead>\n",
       "  <tbody>\n",
       "    <tr>\n",
       "      <th>0</th>\n",
       "      <td>Sabrina</td>\n",
       "      <td>Spellman</td>\n",
       "    </tr>\n",
       "    <tr>\n",
       "      <th>1</th>\n",
       "      <td>Ambrose</td>\n",
       "      <td>Spellman</td>\n",
       "    </tr>\n",
       "    <tr>\n",
       "      <th>2</th>\n",
       "      <td>Hilda</td>\n",
       "      <td>Spellman</td>\n",
       "    </tr>\n",
       "    <tr>\n",
       "      <th>3</th>\n",
       "      <td>Zelda</td>\n",
       "      <td>Spellman</td>\n",
       "    </tr>\n",
       "  </tbody>\n",
       "</table>\n",
       "</div>"
      ],
      "text/plain": [
       "  first_name last_name\n",
       "0    Sabrina  Spellman\n",
       "1    Ambrose  Spellman\n",
       "2      Hilda  Spellman\n",
       "3      Zelda  Spellman"
      ]
     },
     "execution_count": 202,
     "metadata": {},
     "output_type": "execute_result"
    }
   ],
   "source": [
    "# 3.3.F\n",
    "\n",
    "#all rows, columns 1 and 2 (up to, but not including 3)\n",
    "acct_df.iloc[:,1:3]"
   ]
  },
  {
   "cell_type": "code",
   "execution_count": 203,
   "metadata": {
    "scrolled": true
   },
   "outputs": [
    {
     "data": {
      "text/html": [
       "<div>\n",
       "<style scoped>\n",
       "    .dataframe tbody tr th:only-of-type {\n",
       "        vertical-align: middle;\n",
       "    }\n",
       "\n",
       "    .dataframe tbody tr th {\n",
       "        vertical-align: top;\n",
       "    }\n",
       "\n",
       "    .dataframe thead th {\n",
       "        text-align: right;\n",
       "    }\n",
       "</style>\n",
       "<table border=\"1\" class=\"dataframe\">\n",
       "  <thead>\n",
       "    <tr style=\"text-align: right;\">\n",
       "      <th></th>\n",
       "      <th>acct_no</th>\n",
       "      <th>first_name</th>\n",
       "      <th>last_name</th>\n",
       "      <th>acct_bal</th>\n",
       "    </tr>\n",
       "  </thead>\n",
       "  <tbody>\n",
       "    <tr>\n",
       "      <th>0</th>\n",
       "      <td>7779311</td>\n",
       "      <td>Sabrina</td>\n",
       "      <td>Spellman</td>\n",
       "      <td>19000</td>\n",
       "    </tr>\n",
       "    <tr>\n",
       "      <th>1</th>\n",
       "      <td>7789422</td>\n",
       "      <td>Ambrose</td>\n",
       "      <td>Spellman</td>\n",
       "      <td>21000</td>\n",
       "    </tr>\n",
       "    <tr>\n",
       "      <th>2</th>\n",
       "      <td>7829366</td>\n",
       "      <td>Hilda</td>\n",
       "      <td>Spellman</td>\n",
       "      <td>25000</td>\n",
       "    </tr>\n",
       "    <tr>\n",
       "      <th>3</th>\n",
       "      <td>7839477</td>\n",
       "      <td>Zelda</td>\n",
       "      <td>Spellman</td>\n",
       "      <td>32000</td>\n",
       "    </tr>\n",
       "  </tbody>\n",
       "</table>\n",
       "</div>"
      ],
      "text/plain": [
       "   acct_no first_name last_name  acct_bal\n",
       "0  7779311    Sabrina  Spellman     19000\n",
       "1  7789422    Ambrose  Spellman     21000\n",
       "2  7829366      Hilda  Spellman     25000\n",
       "3  7839477      Zelda  Spellman     32000"
      ]
     },
     "execution_count": 203,
     "metadata": {},
     "output_type": "execute_result"
    }
   ],
   "source": [
    "acct_df"
   ]
  },
  {
   "cell_type": "code",
   "execution_count": 204,
   "metadata": {
    "scrolled": true
   },
   "outputs": [
    {
     "data": {
      "text/plain": [
       "acct_no        7789422\n",
       "first_name     Ambrose\n",
       "last_name     Spellman\n",
       "acct_bal         21000\n",
       "Name: 1, dtype: object"
      ]
     },
     "execution_count": 204,
     "metadata": {},
     "output_type": "execute_result"
    }
   ],
   "source": [
    "# 3.3.G.LIVE.1\n",
    "acct_df.iloc[1]"
   ]
  },
  {
   "cell_type": "code",
   "execution_count": 205,
   "metadata": {
    "scrolled": true
   },
   "outputs": [
    {
     "data": {
      "text/html": [
       "<div>\n",
       "<style scoped>\n",
       "    .dataframe tbody tr th:only-of-type {\n",
       "        vertical-align: middle;\n",
       "    }\n",
       "\n",
       "    .dataframe tbody tr th {\n",
       "        vertical-align: top;\n",
       "    }\n",
       "\n",
       "    .dataframe thead th {\n",
       "        text-align: right;\n",
       "    }\n",
       "</style>\n",
       "<table border=\"1\" class=\"dataframe\">\n",
       "  <thead>\n",
       "    <tr style=\"text-align: right;\">\n",
       "      <th></th>\n",
       "      <th>acct_no</th>\n",
       "      <th>first_name</th>\n",
       "      <th>last_name</th>\n",
       "      <th>acct_bal</th>\n",
       "    </tr>\n",
       "  </thead>\n",
       "  <tbody>\n",
       "    <tr>\n",
       "      <th>0</th>\n",
       "      <td>7779311</td>\n",
       "      <td>Sabrina</td>\n",
       "      <td>Spellman</td>\n",
       "      <td>19000</td>\n",
       "    </tr>\n",
       "    <tr>\n",
       "      <th>1</th>\n",
       "      <td>7789422</td>\n",
       "      <td>Ambrose</td>\n",
       "      <td>Spellman</td>\n",
       "      <td>21000</td>\n",
       "    </tr>\n",
       "    <tr>\n",
       "      <th>2</th>\n",
       "      <td>7829366</td>\n",
       "      <td>Hilda</td>\n",
       "      <td>Spellman</td>\n",
       "      <td>25000</td>\n",
       "    </tr>\n",
       "    <tr>\n",
       "      <th>3</th>\n",
       "      <td>7839477</td>\n",
       "      <td>Zelda</td>\n",
       "      <td>Spellman</td>\n",
       "      <td>32000</td>\n",
       "    </tr>\n",
       "  </tbody>\n",
       "</table>\n",
       "</div>"
      ],
      "text/plain": [
       "   acct_no first_name last_name  acct_bal\n",
       "0  7779311    Sabrina  Spellman     19000\n",
       "1  7789422    Ambrose  Spellman     21000\n",
       "2  7829366      Hilda  Spellman     25000\n",
       "3  7839477      Zelda  Spellman     32000"
      ]
     },
     "execution_count": 205,
     "metadata": {},
     "output_type": "execute_result"
    }
   ],
   "source": [
    "acct_df"
   ]
  },
  {
   "cell_type": "code",
   "execution_count": 206,
   "metadata": {
    "scrolled": true
   },
   "outputs": [
    {
     "data": {
      "text/html": [
       "<div>\n",
       "<style scoped>\n",
       "    .dataframe tbody tr th:only-of-type {\n",
       "        vertical-align: middle;\n",
       "    }\n",
       "\n",
       "    .dataframe tbody tr th {\n",
       "        vertical-align: top;\n",
       "    }\n",
       "\n",
       "    .dataframe thead th {\n",
       "        text-align: right;\n",
       "    }\n",
       "</style>\n",
       "<table border=\"1\" class=\"dataframe\">\n",
       "  <thead>\n",
       "    <tr style=\"text-align: right;\">\n",
       "      <th></th>\n",
       "      <th>first_name</th>\n",
       "      <th>last_name</th>\n",
       "    </tr>\n",
       "  </thead>\n",
       "  <tbody>\n",
       "    <tr>\n",
       "      <th>1</th>\n",
       "      <td>Ambrose</td>\n",
       "      <td>Spellman</td>\n",
       "    </tr>\n",
       "    <tr>\n",
       "      <th>2</th>\n",
       "      <td>Hilda</td>\n",
       "      <td>Spellman</td>\n",
       "    </tr>\n",
       "    <tr>\n",
       "      <th>3</th>\n",
       "      <td>Zelda</td>\n",
       "      <td>Spellman</td>\n",
       "    </tr>\n",
       "  </tbody>\n",
       "</table>\n",
       "</div>"
      ],
      "text/plain": [
       "  first_name last_name\n",
       "1    Ambrose  Spellman\n",
       "2      Hilda  Spellman\n",
       "3      Zelda  Spellman"
      ]
     },
     "execution_count": 206,
     "metadata": {},
     "output_type": "execute_result"
    }
   ],
   "source": [
    "# 3.3.G.LIVE.2\n",
    "\n",
    "#rows 2 - 4\n",
    "#columns 2 and 3 (up to, but not including ix 3)\n",
    "\n",
    "acct_df.iloc[1:4,1:3]\n"
   ]
  },
  {
   "cell_type": "code",
   "execution_count": 207,
   "metadata": {
    "scrolled": true
   },
   "outputs": [
    {
     "data": {
      "text/html": [
       "<div>\n",
       "<style scoped>\n",
       "    .dataframe tbody tr th:only-of-type {\n",
       "        vertical-align: middle;\n",
       "    }\n",
       "\n",
       "    .dataframe tbody tr th {\n",
       "        vertical-align: top;\n",
       "    }\n",
       "\n",
       "    .dataframe thead th {\n",
       "        text-align: right;\n",
       "    }\n",
       "</style>\n",
       "<table border=\"1\" class=\"dataframe\">\n",
       "  <thead>\n",
       "    <tr style=\"text-align: right;\">\n",
       "      <th></th>\n",
       "      <th>acct_no</th>\n",
       "      <th>first_name</th>\n",
       "      <th>last_name</th>\n",
       "      <th>acct_bal</th>\n",
       "    </tr>\n",
       "  </thead>\n",
       "  <tbody>\n",
       "    <tr>\n",
       "      <th>0</th>\n",
       "      <td>7779311</td>\n",
       "      <td>Sabrina</td>\n",
       "      <td>Spellman</td>\n",
       "      <td>19000</td>\n",
       "    </tr>\n",
       "    <tr>\n",
       "      <th>1</th>\n",
       "      <td>7789422</td>\n",
       "      <td>Ambrose</td>\n",
       "      <td>Spellman</td>\n",
       "      <td>21000</td>\n",
       "    </tr>\n",
       "    <tr>\n",
       "      <th>2</th>\n",
       "      <td>7829366</td>\n",
       "      <td>Hilda</td>\n",
       "      <td>Spellman</td>\n",
       "      <td>25000</td>\n",
       "    </tr>\n",
       "    <tr>\n",
       "      <th>3</th>\n",
       "      <td>7839477</td>\n",
       "      <td>Zelda</td>\n",
       "      <td>Spellman</td>\n",
       "      <td>32000</td>\n",
       "    </tr>\n",
       "  </tbody>\n",
       "</table>\n",
       "</div>"
      ],
      "text/plain": [
       "   acct_no first_name last_name  acct_bal\n",
       "0  7779311    Sabrina  Spellman     19000\n",
       "1  7789422    Ambrose  Spellman     21000\n",
       "2  7829366      Hilda  Spellman     25000\n",
       "3  7839477      Zelda  Spellman     32000"
      ]
     },
     "execution_count": 207,
     "metadata": {},
     "output_type": "execute_result"
    }
   ],
   "source": [
    "acct_df"
   ]
  },
  {
   "cell_type": "code",
   "execution_count": 208,
   "metadata": {
    "scrolled": true
   },
   "outputs": [
    {
     "data": {
      "text/html": [
       "<div>\n",
       "<style scoped>\n",
       "    .dataframe tbody tr th:only-of-type {\n",
       "        vertical-align: middle;\n",
       "    }\n",
       "\n",
       "    .dataframe tbody tr th {\n",
       "        vertical-align: top;\n",
       "    }\n",
       "\n",
       "    .dataframe thead th {\n",
       "        text-align: right;\n",
       "    }\n",
       "</style>\n",
       "<table border=\"1\" class=\"dataframe\">\n",
       "  <thead>\n",
       "    <tr style=\"text-align: right;\">\n",
       "      <th></th>\n",
       "      <th>acct_no</th>\n",
       "      <th>first_name</th>\n",
       "      <th>last_name</th>\n",
       "      <th>acct_bal</th>\n",
       "    </tr>\n",
       "  </thead>\n",
       "  <tbody>\n",
       "    <tr>\n",
       "      <th>1</th>\n",
       "      <td>7789422</td>\n",
       "      <td>Ambrose</td>\n",
       "      <td>Spellman</td>\n",
       "      <td>21000</td>\n",
       "    </tr>\n",
       "    <tr>\n",
       "      <th>2</th>\n",
       "      <td>7829366</td>\n",
       "      <td>Hilda</td>\n",
       "      <td>Spellman</td>\n",
       "      <td>25000</td>\n",
       "    </tr>\n",
       "  </tbody>\n",
       "</table>\n",
       "</div>"
      ],
      "text/plain": [
       "   acct_no first_name last_name  acct_bal\n",
       "1  7789422    Ambrose  Spellman     21000\n",
       "2  7829366      Hilda  Spellman     25000"
      ]
     },
     "execution_count": 208,
     "metadata": {},
     "output_type": "execute_result"
    }
   ],
   "source": [
    "# 3.3.G.LIVE.3\n",
    "\n",
    "#rows 2 and 3, all columns\n",
    "acct_df.iloc[1:3]"
   ]
  },
  {
   "cell_type": "code",
   "execution_count": 209,
   "metadata": {
    "scrolled": true
   },
   "outputs": [
    {
     "data": {
      "text/html": [
       "<div>\n",
       "<style scoped>\n",
       "    .dataframe tbody tr th:only-of-type {\n",
       "        vertical-align: middle;\n",
       "    }\n",
       "\n",
       "    .dataframe tbody tr th {\n",
       "        vertical-align: top;\n",
       "    }\n",
       "\n",
       "    .dataframe thead th {\n",
       "        text-align: right;\n",
       "    }\n",
       "</style>\n",
       "<table border=\"1\" class=\"dataframe\">\n",
       "  <thead>\n",
       "    <tr style=\"text-align: right;\">\n",
       "      <th></th>\n",
       "      <th>acct_no</th>\n",
       "      <th>first_name</th>\n",
       "      <th>last_name</th>\n",
       "      <th>acct_bal</th>\n",
       "    </tr>\n",
       "  </thead>\n",
       "  <tbody>\n",
       "    <tr>\n",
       "      <th>0</th>\n",
       "      <td>7779311</td>\n",
       "      <td>Sabrina</td>\n",
       "      <td>Spellman</td>\n",
       "      <td>19000</td>\n",
       "    </tr>\n",
       "    <tr>\n",
       "      <th>1</th>\n",
       "      <td>7789422</td>\n",
       "      <td>Ambrose</td>\n",
       "      <td>Spellman</td>\n",
       "      <td>21000</td>\n",
       "    </tr>\n",
       "    <tr>\n",
       "      <th>2</th>\n",
       "      <td>7829366</td>\n",
       "      <td>Hilda</td>\n",
       "      <td>Spellman</td>\n",
       "      <td>25000</td>\n",
       "    </tr>\n",
       "    <tr>\n",
       "      <th>3</th>\n",
       "      <td>7839477</td>\n",
       "      <td>Zelda</td>\n",
       "      <td>Spellman</td>\n",
       "      <td>32000</td>\n",
       "    </tr>\n",
       "  </tbody>\n",
       "</table>\n",
       "</div>"
      ],
      "text/plain": [
       "   acct_no first_name last_name  acct_bal\n",
       "0  7779311    Sabrina  Spellman     19000\n",
       "1  7789422    Ambrose  Spellman     21000\n",
       "2  7829366      Hilda  Spellman     25000\n",
       "3  7839477      Zelda  Spellman     32000"
      ]
     },
     "execution_count": 209,
     "metadata": {},
     "output_type": "execute_result"
    }
   ],
   "source": [
    "acct_df"
   ]
  },
  {
   "cell_type": "code",
   "execution_count": 210,
   "metadata": {
    "scrolled": true
   },
   "outputs": [
    {
     "data": {
      "text/html": [
       "<div>\n",
       "<style scoped>\n",
       "    .dataframe tbody tr th:only-of-type {\n",
       "        vertical-align: middle;\n",
       "    }\n",
       "\n",
       "    .dataframe tbody tr th {\n",
       "        vertical-align: top;\n",
       "    }\n",
       "\n",
       "    .dataframe thead th {\n",
       "        text-align: right;\n",
       "    }\n",
       "</style>\n",
       "<table border=\"1\" class=\"dataframe\">\n",
       "  <thead>\n",
       "    <tr style=\"text-align: right;\">\n",
       "      <th></th>\n",
       "      <th>acct_no</th>\n",
       "      <th>first_name</th>\n",
       "      <th>last_name</th>\n",
       "      <th>acct_bal</th>\n",
       "    </tr>\n",
       "  </thead>\n",
       "  <tbody>\n",
       "    <tr>\n",
       "      <th>1</th>\n",
       "      <td>7789422</td>\n",
       "      <td>Ambrose</td>\n",
       "      <td>Spellman</td>\n",
       "      <td>21000</td>\n",
       "    </tr>\n",
       "    <tr>\n",
       "      <th>2</th>\n",
       "      <td>7829366</td>\n",
       "      <td>Hilda</td>\n",
       "      <td>Spellman</td>\n",
       "      <td>25000</td>\n",
       "    </tr>\n",
       "    <tr>\n",
       "      <th>3</th>\n",
       "      <td>7839477</td>\n",
       "      <td>Zelda</td>\n",
       "      <td>Spellman</td>\n",
       "      <td>32000</td>\n",
       "    </tr>\n",
       "  </tbody>\n",
       "</table>\n",
       "</div>"
      ],
      "text/plain": [
       "   acct_no first_name last_name  acct_bal\n",
       "1  7789422    Ambrose  Spellman     21000\n",
       "2  7829366      Hilda  Spellman     25000\n",
       "3  7839477      Zelda  Spellman     32000"
      ]
     },
     "execution_count": 210,
     "metadata": {},
     "output_type": "execute_result"
    }
   ],
   "source": [
    "# 3.3.G.LIVE.4\n",
    "\n",
    "#rows 2 through 4, all columns\n",
    "acct_df.iloc[1:4]\n"
   ]
  },
  {
   "cell_type": "code",
   "execution_count": 211,
   "metadata": {
    "scrolled": true
   },
   "outputs": [
    {
     "data": {
      "text/html": [
       "<div>\n",
       "<style scoped>\n",
       "    .dataframe tbody tr th:only-of-type {\n",
       "        vertical-align: middle;\n",
       "    }\n",
       "\n",
       "    .dataframe tbody tr th {\n",
       "        vertical-align: top;\n",
       "    }\n",
       "\n",
       "    .dataframe thead th {\n",
       "        text-align: right;\n",
       "    }\n",
       "</style>\n",
       "<table border=\"1\" class=\"dataframe\">\n",
       "  <thead>\n",
       "    <tr style=\"text-align: right;\">\n",
       "      <th></th>\n",
       "      <th>acct_no</th>\n",
       "      <th>first_name</th>\n",
       "      <th>last_name</th>\n",
       "      <th>acct_bal</th>\n",
       "    </tr>\n",
       "  </thead>\n",
       "  <tbody>\n",
       "    <tr>\n",
       "      <th>0</th>\n",
       "      <td>7779311</td>\n",
       "      <td>Sabrina</td>\n",
       "      <td>Spellman</td>\n",
       "      <td>19000</td>\n",
       "    </tr>\n",
       "    <tr>\n",
       "      <th>1</th>\n",
       "      <td>7789422</td>\n",
       "      <td>Ambrose</td>\n",
       "      <td>Spellman</td>\n",
       "      <td>21000</td>\n",
       "    </tr>\n",
       "    <tr>\n",
       "      <th>2</th>\n",
       "      <td>7829366</td>\n",
       "      <td>Hilda</td>\n",
       "      <td>Spellman</td>\n",
       "      <td>25000</td>\n",
       "    </tr>\n",
       "    <tr>\n",
       "      <th>3</th>\n",
       "      <td>7839477</td>\n",
       "      <td>Zelda</td>\n",
       "      <td>Spellman</td>\n",
       "      <td>32000</td>\n",
       "    </tr>\n",
       "  </tbody>\n",
       "</table>\n",
       "</div>"
      ],
      "text/plain": [
       "   acct_no first_name last_name  acct_bal\n",
       "0  7779311    Sabrina  Spellman     19000\n",
       "1  7789422    Ambrose  Spellman     21000\n",
       "2  7829366      Hilda  Spellman     25000\n",
       "3  7839477      Zelda  Spellman     32000"
      ]
     },
     "execution_count": 211,
     "metadata": {},
     "output_type": "execute_result"
    }
   ],
   "source": [
    "acct_df"
   ]
  },
  {
   "cell_type": "code",
   "execution_count": 212,
   "metadata": {
    "scrolled": true
   },
   "outputs": [],
   "source": [
    "# 3.3.H"
   ]
  },
  {
   "cell_type": "code",
   "execution_count": 213,
   "metadata": {
    "scrolled": true
   },
   "outputs": [
    {
     "data": {
      "text/html": [
       "<div>\n",
       "<style scoped>\n",
       "    .dataframe tbody tr th:only-of-type {\n",
       "        vertical-align: middle;\n",
       "    }\n",
       "\n",
       "    .dataframe tbody tr th {\n",
       "        vertical-align: top;\n",
       "    }\n",
       "\n",
       "    .dataframe thead th {\n",
       "        text-align: right;\n",
       "    }\n",
       "</style>\n",
       "<table border=\"1\" class=\"dataframe\">\n",
       "  <thead>\n",
       "    <tr style=\"text-align: right;\">\n",
       "      <th></th>\n",
       "      <th>acct_no</th>\n",
       "      <th>first_name</th>\n",
       "      <th>last_name</th>\n",
       "      <th>acct_bal</th>\n",
       "    </tr>\n",
       "  </thead>\n",
       "  <tbody>\n",
       "    <tr>\n",
       "      <th>0</th>\n",
       "      <td>7779311</td>\n",
       "      <td>Sabrina</td>\n",
       "      <td>Spellman</td>\n",
       "      <td>19000</td>\n",
       "    </tr>\n",
       "    <tr>\n",
       "      <th>1</th>\n",
       "      <td>7789422</td>\n",
       "      <td>Ambrose</td>\n",
       "      <td>Spellman</td>\n",
       "      <td>21000</td>\n",
       "    </tr>\n",
       "    <tr>\n",
       "      <th>2</th>\n",
       "      <td>7829366</td>\n",
       "      <td>Hilda</td>\n",
       "      <td>Spellman</td>\n",
       "      <td>25000</td>\n",
       "    </tr>\n",
       "    <tr>\n",
       "      <th>3</th>\n",
       "      <td>7839477</td>\n",
       "      <td>Zelda</td>\n",
       "      <td>Spellman</td>\n",
       "      <td>32000</td>\n",
       "    </tr>\n",
       "  </tbody>\n",
       "</table>\n",
       "</div>"
      ],
      "text/plain": [
       "   acct_no first_name last_name  acct_bal\n",
       "0  7779311    Sabrina  Spellman     19000\n",
       "1  7789422    Ambrose  Spellman     21000\n",
       "2  7829366      Hilda  Spellman     25000\n",
       "3  7839477      Zelda  Spellman     32000"
      ]
     },
     "execution_count": 213,
     "metadata": {},
     "output_type": "execute_result"
    }
   ],
   "source": [
    "acct_df"
   ]
  },
  {
   "cell_type": "code",
   "execution_count": 214,
   "metadata": {
    "scrolled": true
   },
   "outputs": [
    {
     "data": {
      "text/html": [
       "<div>\n",
       "<style scoped>\n",
       "    .dataframe tbody tr th:only-of-type {\n",
       "        vertical-align: middle;\n",
       "    }\n",
       "\n",
       "    .dataframe tbody tr th {\n",
       "        vertical-align: top;\n",
       "    }\n",
       "\n",
       "    .dataframe thead th {\n",
       "        text-align: right;\n",
       "    }\n",
       "</style>\n",
       "<table border=\"1\" class=\"dataframe\">\n",
       "  <thead>\n",
       "    <tr style=\"text-align: right;\">\n",
       "      <th></th>\n",
       "      <th>acct_no</th>\n",
       "      <th>first_name</th>\n",
       "      <th>last_name</th>\n",
       "      <th>acct_bal</th>\n",
       "    </tr>\n",
       "  </thead>\n",
       "  <tbody>\n",
       "    <tr>\n",
       "      <th>0</th>\n",
       "      <td>7779311</td>\n",
       "      <td>Sabrina</td>\n",
       "      <td>Spellman</td>\n",
       "      <td>19000</td>\n",
       "    </tr>\n",
       "    <tr>\n",
       "      <th>1</th>\n",
       "      <td>7789422</td>\n",
       "      <td>Ambrose</td>\n",
       "      <td>Spellman</td>\n",
       "      <td>21000</td>\n",
       "    </tr>\n",
       "    <tr>\n",
       "      <th>2</th>\n",
       "      <td>7829366</td>\n",
       "      <td>Hilda</td>\n",
       "      <td>Spellman</td>\n",
       "      <td>25000</td>\n",
       "    </tr>\n",
       "    <tr>\n",
       "      <th>3</th>\n",
       "      <td>7839477</td>\n",
       "      <td>Zelda</td>\n",
       "      <td>Spellman</td>\n",
       "      <td>32000</td>\n",
       "    </tr>\n",
       "  </tbody>\n",
       "</table>\n",
       "</div>"
      ],
      "text/plain": [
       "   acct_no first_name last_name  acct_bal\n",
       "0  7779311    Sabrina  Spellman     19000\n",
       "1  7789422    Ambrose  Spellman     21000\n",
       "2  7829366      Hilda  Spellman     25000\n",
       "3  7839477      Zelda  Spellman     32000"
      ]
     },
     "execution_count": 214,
     "metadata": {},
     "output_type": "execute_result"
    }
   ],
   "source": [
    "# find records with last name Spellman\n",
    "acct_df.loc[acct_df['last_name'] == 'Spellman']"
   ]
  },
  {
   "cell_type": "code",
   "execution_count": null,
   "metadata": {
    "scrolled": true
   },
   "outputs": [],
   "source": []
  },
  {
   "cell_type": "code",
   "execution_count": 215,
   "metadata": {
    "scrolled": true
   },
   "outputs": [
    {
     "data": {
      "text/plain": [
       "{'acct_no': '7779999',\n",
       " 'first_name': 'Faustus',\n",
       " 'last_name': 'Blackwood',\n",
       " 'acct_bal': 29000}"
      ]
     },
     "execution_count": 215,
     "metadata": {},
     "output_type": "execute_result"
    }
   ],
   "source": [
    "faustus_dict = {'acct_no': '7779999', 'first_name': 'Faustus', 'last_name':'Blackwood', 'acct_bal': 29000}\n",
    "\n",
    "faustus_dict"
   ]
  },
  {
   "cell_type": "code",
   "execution_count": 216,
   "metadata": {
    "scrolled": true
   },
   "outputs": [
    {
     "name": "stderr",
     "output_type": "stream",
     "text": [
      "C:\\Users\\Student\\AppData\\Local\\Temp\\ipykernel_3252\\1697377352.py:1: FutureWarning: The frame.append method is deprecated and will be removed from pandas in a future version. Use pandas.concat instead.\n",
      "  acct_df = acct_df.append(faustus_dict, ignore_index=True)\n"
     ]
    },
    {
     "data": {
      "text/html": [
       "<div>\n",
       "<style scoped>\n",
       "    .dataframe tbody tr th:only-of-type {\n",
       "        vertical-align: middle;\n",
       "    }\n",
       "\n",
       "    .dataframe tbody tr th {\n",
       "        vertical-align: top;\n",
       "    }\n",
       "\n",
       "    .dataframe thead th {\n",
       "        text-align: right;\n",
       "    }\n",
       "</style>\n",
       "<table border=\"1\" class=\"dataframe\">\n",
       "  <thead>\n",
       "    <tr style=\"text-align: right;\">\n",
       "      <th></th>\n",
       "      <th>acct_no</th>\n",
       "      <th>first_name</th>\n",
       "      <th>last_name</th>\n",
       "      <th>acct_bal</th>\n",
       "    </tr>\n",
       "  </thead>\n",
       "  <tbody>\n",
       "    <tr>\n",
       "      <th>0</th>\n",
       "      <td>7779311</td>\n",
       "      <td>Sabrina</td>\n",
       "      <td>Spellman</td>\n",
       "      <td>19000</td>\n",
       "    </tr>\n",
       "    <tr>\n",
       "      <th>1</th>\n",
       "      <td>7789422</td>\n",
       "      <td>Ambrose</td>\n",
       "      <td>Spellman</td>\n",
       "      <td>21000</td>\n",
       "    </tr>\n",
       "    <tr>\n",
       "      <th>2</th>\n",
       "      <td>7829366</td>\n",
       "      <td>Hilda</td>\n",
       "      <td>Spellman</td>\n",
       "      <td>25000</td>\n",
       "    </tr>\n",
       "    <tr>\n",
       "      <th>3</th>\n",
       "      <td>7839477</td>\n",
       "      <td>Zelda</td>\n",
       "      <td>Spellman</td>\n",
       "      <td>32000</td>\n",
       "    </tr>\n",
       "    <tr>\n",
       "      <th>4</th>\n",
       "      <td>7779999</td>\n",
       "      <td>Faustus</td>\n",
       "      <td>Blackwood</td>\n",
       "      <td>29000</td>\n",
       "    </tr>\n",
       "  </tbody>\n",
       "</table>\n",
       "</div>"
      ],
      "text/plain": [
       "   acct_no first_name  last_name  acct_bal\n",
       "0  7779311    Sabrina   Spellman     19000\n",
       "1  7789422    Ambrose   Spellman     21000\n",
       "2  7829366      Hilda   Spellman     25000\n",
       "3  7839477      Zelda   Spellman     32000\n",
       "4  7779999    Faustus  Blackwood     29000"
      ]
     },
     "execution_count": 216,
     "metadata": {},
     "output_type": "execute_result"
    }
   ],
   "source": [
    "acct_df = acct_df.append(faustus_dict, ignore_index=True)\n",
    "acct_df"
   ]
  },
  {
   "cell_type": "code",
   "execution_count": 217,
   "metadata": {
    "scrolled": true
   },
   "outputs": [
    {
     "data": {
      "text/html": [
       "<div>\n",
       "<style scoped>\n",
       "    .dataframe tbody tr th:only-of-type {\n",
       "        vertical-align: middle;\n",
       "    }\n",
       "\n",
       "    .dataframe tbody tr th {\n",
       "        vertical-align: top;\n",
       "    }\n",
       "\n",
       "    .dataframe thead th {\n",
       "        text-align: right;\n",
       "    }\n",
       "</style>\n",
       "<table border=\"1\" class=\"dataframe\">\n",
       "  <thead>\n",
       "    <tr style=\"text-align: right;\">\n",
       "      <th></th>\n",
       "      <th>acct_no</th>\n",
       "      <th>first_name</th>\n",
       "      <th>last_name</th>\n",
       "      <th>acct_bal</th>\n",
       "    </tr>\n",
       "  </thead>\n",
       "  <tbody>\n",
       "    <tr>\n",
       "      <th>4</th>\n",
       "      <td>7779999</td>\n",
       "      <td>Faustus</td>\n",
       "      <td>Blackwood</td>\n",
       "      <td>29000</td>\n",
       "    </tr>\n",
       "  </tbody>\n",
       "</table>\n",
       "</div>"
      ],
      "text/plain": [
       "   acct_no first_name  last_name  acct_bal\n",
       "4  7779999    Faustus  Blackwood     29000"
      ]
     },
     "execution_count": 217,
     "metadata": {},
     "output_type": "execute_result"
    }
   ],
   "source": [
    "acct_df.loc[acct_df['last_name'] == 'Blackwood']"
   ]
  },
  {
   "cell_type": "code",
   "execution_count": 218,
   "metadata": {
    "scrolled": true
   },
   "outputs": [
    {
     "data": {
      "text/html": [
       "<div>\n",
       "<style scoped>\n",
       "    .dataframe tbody tr th:only-of-type {\n",
       "        vertical-align: middle;\n",
       "    }\n",
       "\n",
       "    .dataframe tbody tr th {\n",
       "        vertical-align: top;\n",
       "    }\n",
       "\n",
       "    .dataframe thead th {\n",
       "        text-align: right;\n",
       "    }\n",
       "</style>\n",
       "<table border=\"1\" class=\"dataframe\">\n",
       "  <thead>\n",
       "    <tr style=\"text-align: right;\">\n",
       "      <th></th>\n",
       "      <th>acct_no</th>\n",
       "      <th>first_name</th>\n",
       "      <th>last_name</th>\n",
       "      <th>acct_bal</th>\n",
       "    </tr>\n",
       "  </thead>\n",
       "  <tbody>\n",
       "    <tr>\n",
       "      <th>0</th>\n",
       "      <td>7779311</td>\n",
       "      <td>Sabrina</td>\n",
       "      <td>Spellman</td>\n",
       "      <td>19000</td>\n",
       "    </tr>\n",
       "    <tr>\n",
       "      <th>1</th>\n",
       "      <td>7789422</td>\n",
       "      <td>Ambrose</td>\n",
       "      <td>Spellman</td>\n",
       "      <td>21000</td>\n",
       "    </tr>\n",
       "    <tr>\n",
       "      <th>2</th>\n",
       "      <td>7829366</td>\n",
       "      <td>Hilda</td>\n",
       "      <td>Spellman</td>\n",
       "      <td>25000</td>\n",
       "    </tr>\n",
       "    <tr>\n",
       "      <th>3</th>\n",
       "      <td>7839477</td>\n",
       "      <td>Zelda</td>\n",
       "      <td>Spellman</td>\n",
       "      <td>32000</td>\n",
       "    </tr>\n",
       "    <tr>\n",
       "      <th>4</th>\n",
       "      <td>7779999</td>\n",
       "      <td>Faustus</td>\n",
       "      <td>Blackwood</td>\n",
       "      <td>29000</td>\n",
       "    </tr>\n",
       "  </tbody>\n",
       "</table>\n",
       "</div>"
      ],
      "text/plain": [
       "   acct_no first_name  last_name  acct_bal\n",
       "0  7779311    Sabrina   Spellman     19000\n",
       "1  7789422    Ambrose   Spellman     21000\n",
       "2  7829366      Hilda   Spellman     25000\n",
       "3  7839477      Zelda   Spellman     32000\n",
       "4  7779999    Faustus  Blackwood     29000"
      ]
     },
     "execution_count": 218,
     "metadata": {},
     "output_type": "execute_result"
    }
   ],
   "source": [
    "acct_df"
   ]
  },
  {
   "cell_type": "code",
   "execution_count": 219,
   "metadata": {
    "scrolled": true
   },
   "outputs": [
    {
     "data": {
      "text/plain": [
       "0    False\n",
       "1    False\n",
       "2     True\n",
       "3     True\n",
       "4     True\n",
       "Name: acct_bal, dtype: bool"
      ]
     },
     "execution_count": 219,
     "metadata": {},
     "output_type": "execute_result"
    }
   ],
   "source": [
    "acct_df['acct_bal'] >= 25000"
   ]
  },
  {
   "cell_type": "code",
   "execution_count": 220,
   "metadata": {
    "scrolled": true
   },
   "outputs": [
    {
     "data": {
      "text/html": [
       "<div>\n",
       "<style scoped>\n",
       "    .dataframe tbody tr th:only-of-type {\n",
       "        vertical-align: middle;\n",
       "    }\n",
       "\n",
       "    .dataframe tbody tr th {\n",
       "        vertical-align: top;\n",
       "    }\n",
       "\n",
       "    .dataframe thead th {\n",
       "        text-align: right;\n",
       "    }\n",
       "</style>\n",
       "<table border=\"1\" class=\"dataframe\">\n",
       "  <thead>\n",
       "    <tr style=\"text-align: right;\">\n",
       "      <th></th>\n",
       "      <th>acct_no</th>\n",
       "      <th>first_name</th>\n",
       "      <th>last_name</th>\n",
       "      <th>acct_bal</th>\n",
       "    </tr>\n",
       "  </thead>\n",
       "  <tbody>\n",
       "    <tr>\n",
       "      <th>2</th>\n",
       "      <td>7829366</td>\n",
       "      <td>Hilda</td>\n",
       "      <td>Spellman</td>\n",
       "      <td>25000</td>\n",
       "    </tr>\n",
       "    <tr>\n",
       "      <th>3</th>\n",
       "      <td>7839477</td>\n",
       "      <td>Zelda</td>\n",
       "      <td>Spellman</td>\n",
       "      <td>32000</td>\n",
       "    </tr>\n",
       "    <tr>\n",
       "      <th>4</th>\n",
       "      <td>7779999</td>\n",
       "      <td>Faustus</td>\n",
       "      <td>Blackwood</td>\n",
       "      <td>29000</td>\n",
       "    </tr>\n",
       "  </tbody>\n",
       "</table>\n",
       "</div>"
      ],
      "text/plain": [
       "   acct_no first_name  last_name  acct_bal\n",
       "2  7829366      Hilda   Spellman     25000\n",
       "3  7839477      Zelda   Spellman     32000\n",
       "4  7779999    Faustus  Blackwood     29000"
      ]
     },
     "execution_count": 220,
     "metadata": {},
     "output_type": "execute_result"
    }
   ],
   "source": [
    "# 3.3.I\n",
    "\n",
    "# find value by numeric condition\n",
    "acct_df.loc[acct_df['acct_bal'] >= 25000]"
   ]
  },
  {
   "cell_type": "code",
   "execution_count": 221,
   "metadata": {
    "scrolled": true
   },
   "outputs": [
    {
     "data": {
      "text/html": [
       "<div>\n",
       "<style scoped>\n",
       "    .dataframe tbody tr th:only-of-type {\n",
       "        vertical-align: middle;\n",
       "    }\n",
       "\n",
       "    .dataframe tbody tr th {\n",
       "        vertical-align: top;\n",
       "    }\n",
       "\n",
       "    .dataframe thead th {\n",
       "        text-align: right;\n",
       "    }\n",
       "</style>\n",
       "<table border=\"1\" class=\"dataframe\">\n",
       "  <thead>\n",
       "    <tr style=\"text-align: right;\">\n",
       "      <th></th>\n",
       "      <th>acct_no</th>\n",
       "      <th>first_name</th>\n",
       "      <th>last_name</th>\n",
       "      <th>acct_bal</th>\n",
       "    </tr>\n",
       "  </thead>\n",
       "  <tbody>\n",
       "    <tr>\n",
       "      <th>0</th>\n",
       "      <td>7779311</td>\n",
       "      <td>Sabrina</td>\n",
       "      <td>Spellman</td>\n",
       "      <td>19000</td>\n",
       "    </tr>\n",
       "    <tr>\n",
       "      <th>1</th>\n",
       "      <td>7789422</td>\n",
       "      <td>Ambrose</td>\n",
       "      <td>Spellman</td>\n",
       "      <td>21000</td>\n",
       "    </tr>\n",
       "    <tr>\n",
       "      <th>2</th>\n",
       "      <td>7829366</td>\n",
       "      <td>Hilda</td>\n",
       "      <td>Spellman</td>\n",
       "      <td>25000</td>\n",
       "    </tr>\n",
       "    <tr>\n",
       "      <th>3</th>\n",
       "      <td>7839477</td>\n",
       "      <td>Zelda</td>\n",
       "      <td>Spellman</td>\n",
       "      <td>32000</td>\n",
       "    </tr>\n",
       "    <tr>\n",
       "      <th>4</th>\n",
       "      <td>7779999</td>\n",
       "      <td>Faustus</td>\n",
       "      <td>Blackwood</td>\n",
       "      <td>29000</td>\n",
       "    </tr>\n",
       "  </tbody>\n",
       "</table>\n",
       "</div>"
      ],
      "text/plain": [
       "   acct_no first_name  last_name  acct_bal\n",
       "0  7779311    Sabrina   Spellman     19000\n",
       "1  7789422    Ambrose   Spellman     21000\n",
       "2  7829366      Hilda   Spellman     25000\n",
       "3  7839477      Zelda   Spellman     32000\n",
       "4  7779999    Faustus  Blackwood     29000"
      ]
     },
     "execution_count": 221,
     "metadata": {},
     "output_type": "execute_result"
    }
   ],
   "source": [
    "acct_df"
   ]
  },
  {
   "cell_type": "code",
   "execution_count": 222,
   "metadata": {
    "scrolled": true
   },
   "outputs": [
    {
     "data": {
      "text/plain": [
       "0    False\n",
       "1     True\n",
       "2    False\n",
       "3    False\n",
       "4    False\n",
       "Name: first_name, dtype: bool"
      ]
     },
     "execution_count": 222,
     "metadata": {},
     "output_type": "execute_result"
    }
   ],
   "source": [
    "acct_df['first_name'].str.contains('Amb')"
   ]
  },
  {
   "cell_type": "code",
   "execution_count": 223,
   "metadata": {
    "scrolled": true
   },
   "outputs": [
    {
     "data": {
      "text/html": [
       "<div>\n",
       "<style scoped>\n",
       "    .dataframe tbody tr th:only-of-type {\n",
       "        vertical-align: middle;\n",
       "    }\n",
       "\n",
       "    .dataframe tbody tr th {\n",
       "        vertical-align: top;\n",
       "    }\n",
       "\n",
       "    .dataframe thead th {\n",
       "        text-align: right;\n",
       "    }\n",
       "</style>\n",
       "<table border=\"1\" class=\"dataframe\">\n",
       "  <thead>\n",
       "    <tr style=\"text-align: right;\">\n",
       "      <th></th>\n",
       "      <th>acct_no</th>\n",
       "      <th>first_name</th>\n",
       "      <th>last_name</th>\n",
       "      <th>acct_bal</th>\n",
       "    </tr>\n",
       "  </thead>\n",
       "  <tbody>\n",
       "    <tr>\n",
       "      <th>0</th>\n",
       "      <td>7779311</td>\n",
       "      <td>Sabrina</td>\n",
       "      <td>Spellman</td>\n",
       "      <td>19000</td>\n",
       "    </tr>\n",
       "    <tr>\n",
       "      <th>1</th>\n",
       "      <td>7789422</td>\n",
       "      <td>Ambrose</td>\n",
       "      <td>Spellman</td>\n",
       "      <td>21000</td>\n",
       "    </tr>\n",
       "    <tr>\n",
       "      <th>2</th>\n",
       "      <td>7829366</td>\n",
       "      <td>Hilda</td>\n",
       "      <td>Spellman</td>\n",
       "      <td>25000</td>\n",
       "    </tr>\n",
       "    <tr>\n",
       "      <th>3</th>\n",
       "      <td>7839477</td>\n",
       "      <td>Zelda</td>\n",
       "      <td>Spellman</td>\n",
       "      <td>32000</td>\n",
       "    </tr>\n",
       "    <tr>\n",
       "      <th>4</th>\n",
       "      <td>7779999</td>\n",
       "      <td>Faustus</td>\n",
       "      <td>Blackwood</td>\n",
       "      <td>29000</td>\n",
       "    </tr>\n",
       "  </tbody>\n",
       "</table>\n",
       "</div>"
      ],
      "text/plain": [
       "   acct_no first_name  last_name  acct_bal\n",
       "0  7779311    Sabrina   Spellman     19000\n",
       "1  7789422    Ambrose   Spellman     21000\n",
       "2  7829366      Hilda   Spellman     25000\n",
       "3  7839477      Zelda   Spellman     32000\n",
       "4  7779999    Faustus  Blackwood     29000"
      ]
     },
     "execution_count": 223,
     "metadata": {},
     "output_type": "execute_result"
    }
   ],
   "source": [
    "acct_df"
   ]
  },
  {
   "cell_type": "code",
   "execution_count": 224,
   "metadata": {
    "scrolled": true
   },
   "outputs": [
    {
     "data": {
      "text/html": [
       "<div>\n",
       "<style scoped>\n",
       "    .dataframe tbody tr th:only-of-type {\n",
       "        vertical-align: middle;\n",
       "    }\n",
       "\n",
       "    .dataframe tbody tr th {\n",
       "        vertical-align: top;\n",
       "    }\n",
       "\n",
       "    .dataframe thead th {\n",
       "        text-align: right;\n",
       "    }\n",
       "</style>\n",
       "<table border=\"1\" class=\"dataframe\">\n",
       "  <thead>\n",
       "    <tr style=\"text-align: right;\">\n",
       "      <th></th>\n",
       "      <th>acct_no</th>\n",
       "      <th>first_name</th>\n",
       "      <th>last_name</th>\n",
       "      <th>acct_bal</th>\n",
       "    </tr>\n",
       "  </thead>\n",
       "  <tbody>\n",
       "    <tr>\n",
       "      <th>1</th>\n",
       "      <td>7789422</td>\n",
       "      <td>Ambrose</td>\n",
       "      <td>Spellman</td>\n",
       "      <td>21000</td>\n",
       "    </tr>\n",
       "  </tbody>\n",
       "</table>\n",
       "</div>"
      ],
      "text/plain": [
       "   acct_no first_name last_name  acct_bal\n",
       "1  7789422    Ambrose  Spellman     21000"
      ]
     },
     "execution_count": 224,
     "metadata": {},
     "output_type": "execute_result"
    }
   ],
   "source": [
    "# 3.3.J\n",
    "\n",
    "# find value by string wildcard\n",
    "acct_df.loc[acct_df['first_name'].str.contains('Amb')]"
   ]
  },
  {
   "cell_type": "code",
   "execution_count": 225,
   "metadata": {
    "scrolled": true
   },
   "outputs": [
    {
     "data": {
      "text/html": [
       "<div>\n",
       "<style scoped>\n",
       "    .dataframe tbody tr th:only-of-type {\n",
       "        vertical-align: middle;\n",
       "    }\n",
       "\n",
       "    .dataframe tbody tr th {\n",
       "        vertical-align: top;\n",
       "    }\n",
       "\n",
       "    .dataframe thead th {\n",
       "        text-align: right;\n",
       "    }\n",
       "</style>\n",
       "<table border=\"1\" class=\"dataframe\">\n",
       "  <thead>\n",
       "    <tr style=\"text-align: right;\">\n",
       "      <th></th>\n",
       "      <th>acct_no</th>\n",
       "      <th>first_name</th>\n",
       "      <th>last_name</th>\n",
       "      <th>acct_bal</th>\n",
       "    </tr>\n",
       "  </thead>\n",
       "  <tbody>\n",
       "    <tr>\n",
       "      <th>0</th>\n",
       "      <td>7779311</td>\n",
       "      <td>Sabrina</td>\n",
       "      <td>Spellman</td>\n",
       "      <td>19000</td>\n",
       "    </tr>\n",
       "    <tr>\n",
       "      <th>1</th>\n",
       "      <td>7789422</td>\n",
       "      <td>Ambrose</td>\n",
       "      <td>Spellman</td>\n",
       "      <td>21000</td>\n",
       "    </tr>\n",
       "    <tr>\n",
       "      <th>2</th>\n",
       "      <td>7829366</td>\n",
       "      <td>Hilda</td>\n",
       "      <td>Spellman</td>\n",
       "      <td>25000</td>\n",
       "    </tr>\n",
       "    <tr>\n",
       "      <th>3</th>\n",
       "      <td>7839477</td>\n",
       "      <td>Zelda</td>\n",
       "      <td>Spellman</td>\n",
       "      <td>32000</td>\n",
       "    </tr>\n",
       "    <tr>\n",
       "      <th>4</th>\n",
       "      <td>7779999</td>\n",
       "      <td>Faustus</td>\n",
       "      <td>Blackwood</td>\n",
       "      <td>29000</td>\n",
       "    </tr>\n",
       "  </tbody>\n",
       "</table>\n",
       "</div>"
      ],
      "text/plain": [
       "   acct_no first_name  last_name  acct_bal\n",
       "0  7779311    Sabrina   Spellman     19000\n",
       "1  7789422    Ambrose   Spellman     21000\n",
       "2  7829366      Hilda   Spellman     25000\n",
       "3  7839477      Zelda   Spellman     32000\n",
       "4  7779999    Faustus  Blackwood     29000"
      ]
     },
     "execution_count": 225,
     "metadata": {},
     "output_type": "execute_result"
    }
   ],
   "source": [
    "acct_df"
   ]
  },
  {
   "cell_type": "code",
   "execution_count": 232,
   "metadata": {
    "scrolled": true
   },
   "outputs": [
    {
     "data": {
      "text/html": [
       "<div>\n",
       "<style scoped>\n",
       "    .dataframe tbody tr th:only-of-type {\n",
       "        vertical-align: middle;\n",
       "    }\n",
       "\n",
       "    .dataframe tbody tr th {\n",
       "        vertical-align: top;\n",
       "    }\n",
       "\n",
       "    .dataframe thead th {\n",
       "        text-align: right;\n",
       "    }\n",
       "</style>\n",
       "<table border=\"1\" class=\"dataframe\">\n",
       "  <thead>\n",
       "    <tr style=\"text-align: right;\">\n",
       "      <th></th>\n",
       "      <th>acct_no</th>\n",
       "      <th>first_name</th>\n",
       "      <th>last_name</th>\n",
       "      <th>acct_bal</th>\n",
       "    </tr>\n",
       "  </thead>\n",
       "  <tbody>\n",
       "    <tr>\n",
       "      <th>1</th>\n",
       "      <td>7789422</td>\n",
       "      <td>Ambrose</td>\n",
       "      <td>Spellman</td>\n",
       "      <td>21000</td>\n",
       "    </tr>\n",
       "  </tbody>\n",
       "</table>\n",
       "</div>"
      ],
      "text/plain": [
       "   acct_no first_name last_name  acct_bal\n",
       "1  7789422    Ambrose  Spellman     21000"
      ]
     },
     "execution_count": 232,
     "metadata": {},
     "output_type": "execute_result"
    }
   ],
   "source": [
    "# 3.3.K\n",
    "\n",
    "# find value by string wildcard case insensitive\n",
    "acct_df.loc[acct_df['first_name'].str.contains('amb', case=False)]"
   ]
  },
  {
   "cell_type": "code",
   "execution_count": 233,
   "metadata": {
    "scrolled": true
   },
   "outputs": [
    {
     "data": {
      "text/html": [
       "<div>\n",
       "<style scoped>\n",
       "    .dataframe tbody tr th:only-of-type {\n",
       "        vertical-align: middle;\n",
       "    }\n",
       "\n",
       "    .dataframe tbody tr th {\n",
       "        vertical-align: top;\n",
       "    }\n",
       "\n",
       "    .dataframe thead th {\n",
       "        text-align: right;\n",
       "    }\n",
       "</style>\n",
       "<table border=\"1\" class=\"dataframe\">\n",
       "  <thead>\n",
       "    <tr style=\"text-align: right;\">\n",
       "      <th></th>\n",
       "      <th>acct_no</th>\n",
       "      <th>first_name</th>\n",
       "      <th>last_name</th>\n",
       "      <th>acct_bal</th>\n",
       "    </tr>\n",
       "  </thead>\n",
       "  <tbody>\n",
       "    <tr>\n",
       "      <th>0</th>\n",
       "      <td>7779311</td>\n",
       "      <td>Sabrina</td>\n",
       "      <td>Spellman</td>\n",
       "      <td>19000</td>\n",
       "    </tr>\n",
       "    <tr>\n",
       "      <th>1</th>\n",
       "      <td>7789422</td>\n",
       "      <td>Ambrose</td>\n",
       "      <td>Spellman</td>\n",
       "      <td>21000</td>\n",
       "    </tr>\n",
       "    <tr>\n",
       "      <th>2</th>\n",
       "      <td>7829366</td>\n",
       "      <td>Hilda</td>\n",
       "      <td>Spellman</td>\n",
       "      <td>25000</td>\n",
       "    </tr>\n",
       "    <tr>\n",
       "      <th>3</th>\n",
       "      <td>7839477</td>\n",
       "      <td>Zelda</td>\n",
       "      <td>Spellman</td>\n",
       "      <td>32000</td>\n",
       "    </tr>\n",
       "    <tr>\n",
       "      <th>4</th>\n",
       "      <td>7779999</td>\n",
       "      <td>Faustus</td>\n",
       "      <td>Blackwood</td>\n",
       "      <td>29000</td>\n",
       "    </tr>\n",
       "  </tbody>\n",
       "</table>\n",
       "</div>"
      ],
      "text/plain": [
       "   acct_no first_name  last_name  acct_bal\n",
       "0  7779311    Sabrina   Spellman     19000\n",
       "1  7789422    Ambrose   Spellman     21000\n",
       "2  7829366      Hilda   Spellman     25000\n",
       "3  7839477      Zelda   Spellman     32000\n",
       "4  7779999    Faustus  Blackwood     29000"
      ]
     },
     "execution_count": 233,
     "metadata": {},
     "output_type": "execute_result"
    }
   ],
   "source": [
    "acct_df"
   ]
  },
  {
   "cell_type": "code",
   "execution_count": 237,
   "metadata": {
    "scrolled": true
   },
   "outputs": [
    {
     "data": {
      "text/html": [
       "<div>\n",
       "<style scoped>\n",
       "    .dataframe tbody tr th:only-of-type {\n",
       "        vertical-align: middle;\n",
       "    }\n",
       "\n",
       "    .dataframe tbody tr th {\n",
       "        vertical-align: top;\n",
       "    }\n",
       "\n",
       "    .dataframe thead th {\n",
       "        text-align: right;\n",
       "    }\n",
       "</style>\n",
       "<table border=\"1\" class=\"dataframe\">\n",
       "  <thead>\n",
       "    <tr style=\"text-align: right;\">\n",
       "      <th></th>\n",
       "      <th>acct_no</th>\n",
       "      <th>first_name</th>\n",
       "      <th>last_name</th>\n",
       "      <th>acct_bal</th>\n",
       "    </tr>\n",
       "  </thead>\n",
       "  <tbody>\n",
       "    <tr>\n",
       "      <th>0</th>\n",
       "      <td>7779311</td>\n",
       "      <td>Sabrina</td>\n",
       "      <td>Spellman</td>\n",
       "      <td>19000</td>\n",
       "    </tr>\n",
       "    <tr>\n",
       "      <th>1</th>\n",
       "      <td>7789422</td>\n",
       "      <td>Ambrose</td>\n",
       "      <td>Spellman</td>\n",
       "      <td>21000</td>\n",
       "    </tr>\n",
       "  </tbody>\n",
       "</table>\n",
       "</div>"
      ],
      "text/plain": [
       "   acct_no first_name last_name  acct_bal\n",
       "0  7779311    Sabrina  Spellman     19000\n",
       "1  7789422    Ambrose  Spellman     21000"
      ]
     },
     "execution_count": 237,
     "metadata": {},
     "output_type": "execute_result"
    }
   ],
   "source": [
    "# 3.3.L.LIVE.1\n",
    "\n",
    "# PRACTICE\n",
    "# 1. Use loc to find the records that have less than 25000\n",
    "\n",
    "acct_df.loc[acct_df['acct_bal'] < 25000]\n"
   ]
  },
  {
   "cell_type": "code",
   "execution_count": 238,
   "metadata": {
    "scrolled": true
   },
   "outputs": [
    {
     "data": {
      "text/html": [
       "<div>\n",
       "<style scoped>\n",
       "    .dataframe tbody tr th:only-of-type {\n",
       "        vertical-align: middle;\n",
       "    }\n",
       "\n",
       "    .dataframe tbody tr th {\n",
       "        vertical-align: top;\n",
       "    }\n",
       "\n",
       "    .dataframe thead th {\n",
       "        text-align: right;\n",
       "    }\n",
       "</style>\n",
       "<table border=\"1\" class=\"dataframe\">\n",
       "  <thead>\n",
       "    <tr style=\"text-align: right;\">\n",
       "      <th></th>\n",
       "      <th>acct_no</th>\n",
       "      <th>first_name</th>\n",
       "      <th>last_name</th>\n",
       "      <th>acct_bal</th>\n",
       "    </tr>\n",
       "  </thead>\n",
       "  <tbody>\n",
       "    <tr>\n",
       "      <th>0</th>\n",
       "      <td>7779311</td>\n",
       "      <td>Sabrina</td>\n",
       "      <td>Spellman</td>\n",
       "      <td>19000</td>\n",
       "    </tr>\n",
       "    <tr>\n",
       "      <th>1</th>\n",
       "      <td>7789422</td>\n",
       "      <td>Ambrose</td>\n",
       "      <td>Spellman</td>\n",
       "      <td>21000</td>\n",
       "    </tr>\n",
       "    <tr>\n",
       "      <th>2</th>\n",
       "      <td>7829366</td>\n",
       "      <td>Hilda</td>\n",
       "      <td>Spellman</td>\n",
       "      <td>25000</td>\n",
       "    </tr>\n",
       "    <tr>\n",
       "      <th>3</th>\n",
       "      <td>7839477</td>\n",
       "      <td>Zelda</td>\n",
       "      <td>Spellman</td>\n",
       "      <td>32000</td>\n",
       "    </tr>\n",
       "    <tr>\n",
       "      <th>4</th>\n",
       "      <td>7779999</td>\n",
       "      <td>Faustus</td>\n",
       "      <td>Blackwood</td>\n",
       "      <td>29000</td>\n",
       "    </tr>\n",
       "  </tbody>\n",
       "</table>\n",
       "</div>"
      ],
      "text/plain": [
       "   acct_no first_name  last_name  acct_bal\n",
       "0  7779311    Sabrina   Spellman     19000\n",
       "1  7789422    Ambrose   Spellman     21000\n",
       "2  7829366      Hilda   Spellman     25000\n",
       "3  7839477      Zelda   Spellman     32000\n",
       "4  7779999    Faustus  Blackwood     29000"
      ]
     },
     "execution_count": 238,
     "metadata": {},
     "output_type": "execute_result"
    }
   ],
   "source": [
    "acct_df"
   ]
  },
  {
   "cell_type": "code",
   "execution_count": 240,
   "metadata": {
    "scrolled": true
   },
   "outputs": [
    {
     "data": {
      "text/html": [
       "<div>\n",
       "<style scoped>\n",
       "    .dataframe tbody tr th:only-of-type {\n",
       "        vertical-align: middle;\n",
       "    }\n",
       "\n",
       "    .dataframe tbody tr th {\n",
       "        vertical-align: top;\n",
       "    }\n",
       "\n",
       "    .dataframe thead th {\n",
       "        text-align: right;\n",
       "    }\n",
       "</style>\n",
       "<table border=\"1\" class=\"dataframe\">\n",
       "  <thead>\n",
       "    <tr style=\"text-align: right;\">\n",
       "      <th></th>\n",
       "      <th>acct_no</th>\n",
       "      <th>first_name</th>\n",
       "      <th>last_name</th>\n",
       "      <th>acct_bal</th>\n",
       "    </tr>\n",
       "  </thead>\n",
       "  <tbody>\n",
       "    <tr>\n",
       "      <th>0</th>\n",
       "      <td>7779311</td>\n",
       "      <td>Sabrina</td>\n",
       "      <td>Spellman</td>\n",
       "      <td>19000</td>\n",
       "    </tr>\n",
       "    <tr>\n",
       "      <th>1</th>\n",
       "      <td>7789422</td>\n",
       "      <td>Ambrose</td>\n",
       "      <td>Spellman</td>\n",
       "      <td>21000</td>\n",
       "    </tr>\n",
       "  </tbody>\n",
       "</table>\n",
       "</div>"
      ],
      "text/plain": [
       "   acct_no first_name last_name  acct_bal\n",
       "0  7779311    Sabrina  Spellman     19000\n",
       "1  7789422    Ambrose  Spellman     21000"
      ]
     },
     "execution_count": 240,
     "metadata": {},
     "output_type": "execute_result"
    }
   ],
   "source": [
    "# 3.3.L.LIVE.2\n",
    "\n",
    "# 2. Use iloc to manually find those records\n",
    "acct_df.iloc[0:2,:]"
   ]
  },
  {
   "cell_type": "code",
   "execution_count": 241,
   "metadata": {
    "scrolled": true
   },
   "outputs": [
    {
     "data": {
      "text/html": [
       "<div>\n",
       "<style scoped>\n",
       "    .dataframe tbody tr th:only-of-type {\n",
       "        vertical-align: middle;\n",
       "    }\n",
       "\n",
       "    .dataframe tbody tr th {\n",
       "        vertical-align: top;\n",
       "    }\n",
       "\n",
       "    .dataframe thead th {\n",
       "        text-align: right;\n",
       "    }\n",
       "</style>\n",
       "<table border=\"1\" class=\"dataframe\">\n",
       "  <thead>\n",
       "    <tr style=\"text-align: right;\">\n",
       "      <th></th>\n",
       "      <th>Account Number</th>\n",
       "      <th>Last Name</th>\n",
       "      <th>First Name</th>\n",
       "      <th>Gender</th>\n",
       "      <th>Account Tier</th>\n",
       "      <th>Balance</th>\n",
       "      <th>Overdraft Protection</th>\n",
       "    </tr>\n",
       "  </thead>\n",
       "  <tbody>\n",
       "    <tr>\n",
       "      <th>0</th>\n",
       "      <td>7799533</td>\n",
       "      <td>Kinkle</td>\n",
       "      <td>Harvey</td>\n",
       "      <td>M</td>\n",
       "      <td>Gold</td>\n",
       "      <td>75</td>\n",
       "      <td>0</td>\n",
       "    </tr>\n",
       "    <tr>\n",
       "      <th>1</th>\n",
       "      <td>7809344</td>\n",
       "      <td>Scratch</td>\n",
       "      <td>Nicolas</td>\n",
       "      <td>M</td>\n",
       "      <td>Classic</td>\n",
       "      <td>500</td>\n",
       "      <td>0</td>\n",
       "    </tr>\n",
       "    <tr>\n",
       "      <th>2</th>\n",
       "      <td>7819355</td>\n",
       "      <td>Putnam</td>\n",
       "      <td>Theo</td>\n",
       "      <td>M</td>\n",
       "      <td>Classic</td>\n",
       "      <td>90</td>\n",
       "      <td>1</td>\n",
       "    </tr>\n",
       "    <tr>\n",
       "      <th>3</th>\n",
       "      <td>7779311</td>\n",
       "      <td>Spellman</td>\n",
       "      <td>Sabrina</td>\n",
       "      <td>F</td>\n",
       "      <td>Platinum</td>\n",
       "      <td>800</td>\n",
       "      <td>1</td>\n",
       "    </tr>\n",
       "    <tr>\n",
       "      <th>4</th>\n",
       "      <td>7789422</td>\n",
       "      <td>Spellman</td>\n",
       "      <td>Ambrose</td>\n",
       "      <td>M</td>\n",
       "      <td>Platinum</td>\n",
       "      <td>1100</td>\n",
       "      <td>0</td>\n",
       "    </tr>\n",
       "  </tbody>\n",
       "</table>\n",
       "</div>"
      ],
      "text/plain": [
       "   Account Number Last Name First Name Gender Account Tier  Balance  \\\n",
       "0         7799533    Kinkle     Harvey      M         Gold       75   \n",
       "1         7809344   Scratch    Nicolas      M      Classic      500   \n",
       "2         7819355    Putnam       Theo      M      Classic       90   \n",
       "3         7779311  Spellman    Sabrina      F     Platinum      800   \n",
       "4         7789422  Spellman    Ambrose      M     Platinum     1100   \n",
       "\n",
       "   Overdraft Protection  \n",
       "0                     0  \n",
       "1                     0  \n",
       "2                     1  \n",
       "3                     1  \n",
       "4                     0  "
      ]
     },
     "execution_count": 241,
     "metadata": {},
     "output_type": "execute_result"
    }
   ],
   "source": [
    "acct_df = pd.read_csv('chp3_account_balances.csv')\n",
    "acct_df.head()"
   ]
  },
  {
   "cell_type": "code",
   "execution_count": 242,
   "metadata": {
    "scrolled": true
   },
   "outputs": [
    {
     "data": {
      "text/plain": [
       "<pandas.core.groupby.generic.DataFrameGroupBy object at 0x000001C0F74C98B0>"
      ]
     },
     "execution_count": 242,
     "metadata": {},
     "output_type": "execute_result"
    }
   ],
   "source": [
    "# 3.3.M\n",
    "\n",
    "# Group\n",
    "acct_grp_df = acct_df.groupby('Account Tier')\n",
    "acct_grp_df"
   ]
  },
  {
   "cell_type": "code",
   "execution_count": 243,
   "metadata": {
    "scrolled": true
   },
   "outputs": [
    {
     "data": {
      "text/html": [
       "<div>\n",
       "<style scoped>\n",
       "    .dataframe tbody tr th:only-of-type {\n",
       "        vertical-align: middle;\n",
       "    }\n",
       "\n",
       "    .dataframe tbody tr th {\n",
       "        vertical-align: top;\n",
       "    }\n",
       "\n",
       "    .dataframe thead th {\n",
       "        text-align: right;\n",
       "    }\n",
       "</style>\n",
       "<table border=\"1\" class=\"dataframe\">\n",
       "  <thead>\n",
       "    <tr style=\"text-align: right;\">\n",
       "      <th></th>\n",
       "      <th>Account Number</th>\n",
       "      <th>Last Name</th>\n",
       "      <th>First Name</th>\n",
       "      <th>Gender</th>\n",
       "      <th>Account Tier</th>\n",
       "      <th>Balance</th>\n",
       "      <th>Overdraft Protection</th>\n",
       "    </tr>\n",
       "  </thead>\n",
       "  <tbody>\n",
       "    <tr>\n",
       "      <th>0</th>\n",
       "      <td>7799533</td>\n",
       "      <td>Kinkle</td>\n",
       "      <td>Harvey</td>\n",
       "      <td>M</td>\n",
       "      <td>Gold</td>\n",
       "      <td>75</td>\n",
       "      <td>0</td>\n",
       "    </tr>\n",
       "    <tr>\n",
       "      <th>1</th>\n",
       "      <td>7809344</td>\n",
       "      <td>Scratch</td>\n",
       "      <td>Nicolas</td>\n",
       "      <td>M</td>\n",
       "      <td>Classic</td>\n",
       "      <td>500</td>\n",
       "      <td>0</td>\n",
       "    </tr>\n",
       "    <tr>\n",
       "      <th>2</th>\n",
       "      <td>7819355</td>\n",
       "      <td>Putnam</td>\n",
       "      <td>Theo</td>\n",
       "      <td>M</td>\n",
       "      <td>Classic</td>\n",
       "      <td>90</td>\n",
       "      <td>1</td>\n",
       "    </tr>\n",
       "    <tr>\n",
       "      <th>3</th>\n",
       "      <td>7779311</td>\n",
       "      <td>Spellman</td>\n",
       "      <td>Sabrina</td>\n",
       "      <td>F</td>\n",
       "      <td>Platinum</td>\n",
       "      <td>800</td>\n",
       "      <td>1</td>\n",
       "    </tr>\n",
       "    <tr>\n",
       "      <th>4</th>\n",
       "      <td>7789422</td>\n",
       "      <td>Spellman</td>\n",
       "      <td>Ambrose</td>\n",
       "      <td>M</td>\n",
       "      <td>Platinum</td>\n",
       "      <td>1100</td>\n",
       "      <td>0</td>\n",
       "    </tr>\n",
       "    <tr>\n",
       "      <th>5</th>\n",
       "      <td>7829366</td>\n",
       "      <td>Spellman</td>\n",
       "      <td>Hilda</td>\n",
       "      <td>F</td>\n",
       "      <td>Classic</td>\n",
       "      <td>400</td>\n",
       "      <td>1</td>\n",
       "    </tr>\n",
       "    <tr>\n",
       "      <th>6</th>\n",
       "      <td>7839477</td>\n",
       "      <td>Spellman</td>\n",
       "      <td>Zelda</td>\n",
       "      <td>F</td>\n",
       "      <td>Gold</td>\n",
       "      <td>500</td>\n",
       "      <td>1</td>\n",
       "    </tr>\n",
       "    <tr>\n",
       "      <th>7</th>\n",
       "      <td>7855044</td>\n",
       "      <td>Walker</td>\n",
       "      <td>Rosalind</td>\n",
       "      <td>F</td>\n",
       "      <td>Gold</td>\n",
       "      <td>500</td>\n",
       "      <td>1</td>\n",
       "    </tr>\n",
       "    <tr>\n",
       "      <th>8</th>\n",
       "      <td>7846033</td>\n",
       "      <td>Blackwood</td>\n",
       "      <td>Faustus</td>\n",
       "      <td>M</td>\n",
       "      <td>Platinum</td>\n",
       "      <td>1200</td>\n",
       "      <td>0</td>\n",
       "    </tr>\n",
       "    <tr>\n",
       "      <th>9</th>\n",
       "      <td>7855511</td>\n",
       "      <td>Gray</td>\n",
       "      <td>Dorian</td>\n",
       "      <td>M</td>\n",
       "      <td>Classic</td>\n",
       "      <td>350</td>\n",
       "      <td>0</td>\n",
       "    </tr>\n",
       "    <tr>\n",
       "      <th>10</th>\n",
       "      <td>7855522</td>\n",
       "      <td>Blackwood</td>\n",
       "      <td>Prudence</td>\n",
       "      <td>F</td>\n",
       "      <td>Platinum</td>\n",
       "      <td>900</td>\n",
       "      <td>1</td>\n",
       "    </tr>\n",
       "    <tr>\n",
       "      <th>11</th>\n",
       "      <td>7869844</td>\n",
       "      <td>Night</td>\n",
       "      <td>Dorcas</td>\n",
       "      <td>F</td>\n",
       "      <td>Gold</td>\n",
       "      <td>550</td>\n",
       "      <td>0</td>\n",
       "    </tr>\n",
       "    <tr>\n",
       "      <th>12</th>\n",
       "      <td>7969366</td>\n",
       "      <td>Night</td>\n",
       "      <td>Agatha</td>\n",
       "      <td>F</td>\n",
       "      <td>Gold</td>\n",
       "      <td>650</td>\n",
       "      <td>1</td>\n",
       "    </tr>\n",
       "  </tbody>\n",
       "</table>\n",
       "</div>"
      ],
      "text/plain": [
       "    Account Number  Last Name First Name Gender Account Tier  Balance  \\\n",
       "0          7799533     Kinkle     Harvey      M         Gold       75   \n",
       "1          7809344    Scratch    Nicolas      M      Classic      500   \n",
       "2          7819355     Putnam       Theo      M      Classic       90   \n",
       "3          7779311   Spellman    Sabrina      F     Platinum      800   \n",
       "4          7789422   Spellman    Ambrose      M     Platinum     1100   \n",
       "5          7829366   Spellman      Hilda      F      Classic      400   \n",
       "6          7839477   Spellman      Zelda      F         Gold      500   \n",
       "7          7855044     Walker   Rosalind      F         Gold      500   \n",
       "8          7846033  Blackwood    Faustus      M     Platinum     1200   \n",
       "9          7855511       Gray     Dorian      M      Classic      350   \n",
       "10         7855522  Blackwood   Prudence      F     Platinum      900   \n",
       "11         7869844      Night     Dorcas      F         Gold      550   \n",
       "12         7969366      Night     Agatha      F         Gold      650   \n",
       "\n",
       "    Overdraft Protection  \n",
       "0                      0  \n",
       "1                      0  \n",
       "2                      1  \n",
       "3                      1  \n",
       "4                      0  \n",
       "5                      1  \n",
       "6                      1  \n",
       "7                      1  \n",
       "8                      0  \n",
       "9                      0  \n",
       "10                     1  \n",
       "11                     0  \n",
       "12                     1  "
      ]
     },
     "execution_count": 243,
     "metadata": {},
     "output_type": "execute_result"
    }
   ],
   "source": [
    "# 3.3.N\n",
    "\n",
    "acct_grp_df.head()"
   ]
  },
  {
   "cell_type": "code",
   "execution_count": 245,
   "metadata": {
    "scrolled": true
   },
   "outputs": [
    {
     "data": {
      "text/html": [
       "<div>\n",
       "<style scoped>\n",
       "    .dataframe tbody tr th:only-of-type {\n",
       "        vertical-align: middle;\n",
       "    }\n",
       "\n",
       "    .dataframe tbody tr th {\n",
       "        vertical-align: top;\n",
       "    }\n",
       "\n",
       "    .dataframe thead th {\n",
       "        text-align: right;\n",
       "    }\n",
       "</style>\n",
       "<table border=\"1\" class=\"dataframe\">\n",
       "  <thead>\n",
       "    <tr style=\"text-align: right;\">\n",
       "      <th></th>\n",
       "      <th>Account Number</th>\n",
       "      <th>Last Name</th>\n",
       "      <th>First Name</th>\n",
       "      <th>Gender</th>\n",
       "      <th>Balance</th>\n",
       "      <th>Overdraft Protection</th>\n",
       "    </tr>\n",
       "    <tr>\n",
       "      <th>Account Tier</th>\n",
       "      <th></th>\n",
       "      <th></th>\n",
       "      <th></th>\n",
       "      <th></th>\n",
       "      <th></th>\n",
       "      <th></th>\n",
       "    </tr>\n",
       "  </thead>\n",
       "  <tbody>\n",
       "    <tr>\n",
       "      <th>Classic</th>\n",
       "      <td>4</td>\n",
       "      <td>4</td>\n",
       "      <td>4</td>\n",
       "      <td>4</td>\n",
       "      <td>4</td>\n",
       "      <td>4</td>\n",
       "    </tr>\n",
       "    <tr>\n",
       "      <th>Gold</th>\n",
       "      <td>5</td>\n",
       "      <td>5</td>\n",
       "      <td>5</td>\n",
       "      <td>5</td>\n",
       "      <td>5</td>\n",
       "      <td>5</td>\n",
       "    </tr>\n",
       "    <tr>\n",
       "      <th>Platinum</th>\n",
       "      <td>4</td>\n",
       "      <td>4</td>\n",
       "      <td>4</td>\n",
       "      <td>4</td>\n",
       "      <td>4</td>\n",
       "      <td>4</td>\n",
       "    </tr>\n",
       "  </tbody>\n",
       "</table>\n",
       "</div>"
      ],
      "text/plain": [
       "              Account Number  Last Name  First Name  Gender  Balance  \\\n",
       "Account Tier                                                           \n",
       "Classic                    4          4           4       4        4   \n",
       "Gold                       5          5           5       5        5   \n",
       "Platinum                   4          4           4       4        4   \n",
       "\n",
       "              Overdraft Protection  \n",
       "Account Tier                        \n",
       "Classic                          4  \n",
       "Gold                             5  \n",
       "Platinum                         4  "
      ]
     },
     "execution_count": 245,
     "metadata": {},
     "output_type": "execute_result"
    }
   ],
   "source": [
    "# 3.3.O\n",
    "\n",
    "acct_grp_df.count()"
   ]
  },
  {
   "cell_type": "code",
   "execution_count": 246,
   "metadata": {
    "scrolled": true
   },
   "outputs": [
    {
     "data": {
      "text/plain": [
       "Account Tier\n",
       "Classic     4\n",
       "Gold        5\n",
       "Platinum    4\n",
       "Name: Account Number, dtype: int64"
      ]
     },
     "execution_count": 246,
     "metadata": {},
     "output_type": "execute_result"
    }
   ],
   "source": [
    "# 3.3.P\n",
    "\n",
    "acct_grp_df['Account Number'].count()"
   ]
  },
  {
   "cell_type": "code",
   "execution_count": 248,
   "metadata": {
    "scrolled": true
   },
   "outputs": [
    {
     "data": {
      "text/html": [
       "<div>\n",
       "<style scoped>\n",
       "    .dataframe tbody tr th:only-of-type {\n",
       "        vertical-align: middle;\n",
       "    }\n",
       "\n",
       "    .dataframe tbody tr th {\n",
       "        vertical-align: top;\n",
       "    }\n",
       "\n",
       "    .dataframe thead th {\n",
       "        text-align: right;\n",
       "    }\n",
       "</style>\n",
       "<table border=\"1\" class=\"dataframe\">\n",
       "  <thead>\n",
       "    <tr style=\"text-align: right;\">\n",
       "      <th></th>\n",
       "      <th>Account Number</th>\n",
       "      <th>Last Name</th>\n",
       "      <th>First Name</th>\n",
       "      <th>Gender</th>\n",
       "      <th>Account Tier</th>\n",
       "      <th>Balance</th>\n",
       "      <th>Overdraft Protection</th>\n",
       "    </tr>\n",
       "  </thead>\n",
       "  <tbody>\n",
       "    <tr>\n",
       "      <th>0</th>\n",
       "      <td>7799533</td>\n",
       "      <td>Kinkle</td>\n",
       "      <td>Harvey</td>\n",
       "      <td>M</td>\n",
       "      <td>Gold</td>\n",
       "      <td>75</td>\n",
       "      <td>0</td>\n",
       "    </tr>\n",
       "    <tr>\n",
       "      <th>1</th>\n",
       "      <td>7809344</td>\n",
       "      <td>Scratch</td>\n",
       "      <td>Nicolas</td>\n",
       "      <td>M</td>\n",
       "      <td>Classic</td>\n",
       "      <td>500</td>\n",
       "      <td>0</td>\n",
       "    </tr>\n",
       "    <tr>\n",
       "      <th>2</th>\n",
       "      <td>7819355</td>\n",
       "      <td>Putnam</td>\n",
       "      <td>Theo</td>\n",
       "      <td>M</td>\n",
       "      <td>Classic</td>\n",
       "      <td>90</td>\n",
       "      <td>1</td>\n",
       "    </tr>\n",
       "    <tr>\n",
       "      <th>3</th>\n",
       "      <td>7779311</td>\n",
       "      <td>Spellman</td>\n",
       "      <td>Sabrina</td>\n",
       "      <td>F</td>\n",
       "      <td>Platinum</td>\n",
       "      <td>800</td>\n",
       "      <td>1</td>\n",
       "    </tr>\n",
       "    <tr>\n",
       "      <th>4</th>\n",
       "      <td>7789422</td>\n",
       "      <td>Spellman</td>\n",
       "      <td>Ambrose</td>\n",
       "      <td>M</td>\n",
       "      <td>Platinum</td>\n",
       "      <td>1100</td>\n",
       "      <td>0</td>\n",
       "    </tr>\n",
       "    <tr>\n",
       "      <th>5</th>\n",
       "      <td>7829366</td>\n",
       "      <td>Spellman</td>\n",
       "      <td>Hilda</td>\n",
       "      <td>F</td>\n",
       "      <td>Classic</td>\n",
       "      <td>400</td>\n",
       "      <td>1</td>\n",
       "    </tr>\n",
       "    <tr>\n",
       "      <th>6</th>\n",
       "      <td>7839477</td>\n",
       "      <td>Spellman</td>\n",
       "      <td>Zelda</td>\n",
       "      <td>F</td>\n",
       "      <td>Gold</td>\n",
       "      <td>500</td>\n",
       "      <td>1</td>\n",
       "    </tr>\n",
       "    <tr>\n",
       "      <th>7</th>\n",
       "      <td>7855044</td>\n",
       "      <td>Walker</td>\n",
       "      <td>Rosalind</td>\n",
       "      <td>F</td>\n",
       "      <td>Gold</td>\n",
       "      <td>500</td>\n",
       "      <td>1</td>\n",
       "    </tr>\n",
       "    <tr>\n",
       "      <th>8</th>\n",
       "      <td>7846033</td>\n",
       "      <td>Blackwood</td>\n",
       "      <td>Faustus</td>\n",
       "      <td>M</td>\n",
       "      <td>Platinum</td>\n",
       "      <td>1200</td>\n",
       "      <td>0</td>\n",
       "    </tr>\n",
       "    <tr>\n",
       "      <th>9</th>\n",
       "      <td>7855511</td>\n",
       "      <td>Gray</td>\n",
       "      <td>Dorian</td>\n",
       "      <td>M</td>\n",
       "      <td>Classic</td>\n",
       "      <td>350</td>\n",
       "      <td>0</td>\n",
       "    </tr>\n",
       "    <tr>\n",
       "      <th>10</th>\n",
       "      <td>7855522</td>\n",
       "      <td>Blackwood</td>\n",
       "      <td>Prudence</td>\n",
       "      <td>F</td>\n",
       "      <td>Platinum</td>\n",
       "      <td>900</td>\n",
       "      <td>1</td>\n",
       "    </tr>\n",
       "    <tr>\n",
       "      <th>11</th>\n",
       "      <td>7869844</td>\n",
       "      <td>Night</td>\n",
       "      <td>Dorcas</td>\n",
       "      <td>F</td>\n",
       "      <td>Gold</td>\n",
       "      <td>550</td>\n",
       "      <td>0</td>\n",
       "    </tr>\n",
       "    <tr>\n",
       "      <th>12</th>\n",
       "      <td>7969366</td>\n",
       "      <td>Night</td>\n",
       "      <td>Agatha</td>\n",
       "      <td>F</td>\n",
       "      <td>Gold</td>\n",
       "      <td>650</td>\n",
       "      <td>1</td>\n",
       "    </tr>\n",
       "  </tbody>\n",
       "</table>\n",
       "</div>"
      ],
      "text/plain": [
       "    Account Number  Last Name First Name Gender Account Tier  Balance  \\\n",
       "0          7799533     Kinkle     Harvey      M         Gold       75   \n",
       "1          7809344    Scratch    Nicolas      M      Classic      500   \n",
       "2          7819355     Putnam       Theo      M      Classic       90   \n",
       "3          7779311   Spellman    Sabrina      F     Platinum      800   \n",
       "4          7789422   Spellman    Ambrose      M     Platinum     1100   \n",
       "5          7829366   Spellman      Hilda      F      Classic      400   \n",
       "6          7839477   Spellman      Zelda      F         Gold      500   \n",
       "7          7855044     Walker   Rosalind      F         Gold      500   \n",
       "8          7846033  Blackwood    Faustus      M     Platinum     1200   \n",
       "9          7855511       Gray     Dorian      M      Classic      350   \n",
       "10         7855522  Blackwood   Prudence      F     Platinum      900   \n",
       "11         7869844      Night     Dorcas      F         Gold      550   \n",
       "12         7969366      Night     Agatha      F         Gold      650   \n",
       "\n",
       "    Overdraft Protection  \n",
       "0                      0  \n",
       "1                      0  \n",
       "2                      1  \n",
       "3                      1  \n",
       "4                      0  \n",
       "5                      1  \n",
       "6                      1  \n",
       "7                      1  \n",
       "8                      0  \n",
       "9                      0  \n",
       "10                     1  \n",
       "11                     0  \n",
       "12                     1  "
      ]
     },
     "execution_count": 248,
     "metadata": {},
     "output_type": "execute_result"
    }
   ],
   "source": [
    "acct_df"
   ]
  },
  {
   "cell_type": "code",
   "execution_count": 247,
   "metadata": {
    "scrolled": true
   },
   "outputs": [
    {
     "name": "stdout",
     "output_type": "stream",
     "text": [
      "Lowest balances by account tier\n",
      "Account Tier\n",
      "Classic      90\n",
      "Gold         75\n",
      "Platinum    800\n",
      "Name: Balance, dtype: int64\n",
      "\n"
     ]
    }
   ],
   "source": [
    "# 3.3.Q\n",
    "\n",
    "# min function\n",
    "print('Lowest balances by account tier')\n",
    "print(acct_grp_df['Balance'].min())\n",
    "print('')"
   ]
  },
  {
   "cell_type": "code",
   "execution_count": 249,
   "metadata": {
    "scrolled": true
   },
   "outputs": [
    {
     "name": "stdout",
     "output_type": "stream",
     "text": [
      "Highest balances by account tier\n",
      "Account Tier\n",
      "Classic      500\n",
      "Gold         650\n",
      "Platinum    1200\n",
      "Name: Balance, dtype: int64\n",
      "\n"
     ]
    }
   ],
   "source": [
    "# max function\n",
    "print('Highest balances by account tier')\n",
    "print(acct_grp_df['Balance'].max())\n",
    "print('')"
   ]
  },
  {
   "cell_type": "code",
   "execution_count": 250,
   "metadata": {
    "scrolled": true
   },
   "outputs": [
    {
     "name": "stdout",
     "output_type": "stream",
     "text": [
      "Average balances by account tier\n",
      "Account Tier\n",
      "Classic      335.0\n",
      "Gold         455.0\n",
      "Platinum    1000.0\n",
      "Name: Balance, dtype: float64\n",
      "\n"
     ]
    }
   ],
   "source": [
    "# mean function\n",
    "print('Average balances by account tier')\n",
    "print(acct_grp_df['Balance'].mean())\n",
    "print('')"
   ]
  },
  {
   "cell_type": "code",
   "execution_count": 252,
   "metadata": {
    "scrolled": true
   },
   "outputs": [],
   "source": [
    "#3.3.R\n",
    "acct_grp_df = acct_df.groupby(['Account Tier', 'Gender'])"
   ]
  },
  {
   "cell_type": "code",
   "execution_count": 253,
   "metadata": {
    "scrolled": true
   },
   "outputs": [
    {
     "data": {
      "text/plain": [
       "Account Tier  Gender\n",
       "Classic       F         1\n",
       "              M         3\n",
       "Gold          F         4\n",
       "              M         1\n",
       "Platinum      F         2\n",
       "              M         2\n",
       "Name: Account Number, dtype: int64"
      ]
     },
     "execution_count": 253,
     "metadata": {},
     "output_type": "execute_result"
    }
   ],
   "source": [
    "#3.3.S\n",
    "acct_grp_df['Account Number'].count()"
   ]
  },
  {
   "cell_type": "code",
   "execution_count": 254,
   "metadata": {
    "scrolled": true
   },
   "outputs": [
    {
     "name": "stdout",
     "output_type": "stream",
     "text": [
      "Lowest balances by account tier and gender\n",
      "Account Tier  Gender\n",
      "Classic       F          400\n",
      "              M           90\n",
      "Gold          F          500\n",
      "              M           75\n",
      "Platinum      F          800\n",
      "              M         1100\n",
      "Name: Balance, dtype: int64\n",
      "\n"
     ]
    }
   ],
   "source": [
    "# 3.3.T\n",
    "\n",
    "# min function\n",
    "print('Lowest balances by account tier and gender')\n",
    "print(acct_grp_df['Balance'].min())\n",
    "print('')"
   ]
  },
  {
   "cell_type": "code",
   "execution_count": 255,
   "metadata": {
    "scrolled": true
   },
   "outputs": [
    {
     "name": "stdout",
     "output_type": "stream",
     "text": [
      "Highest balances by account tier and gender\n",
      "Account Tier  Gender\n",
      "Classic       F          400\n",
      "              M          500\n",
      "Gold          F          650\n",
      "              M           75\n",
      "Platinum      F          900\n",
      "              M         1200\n",
      "Name: Balance, dtype: int64\n",
      "\n"
     ]
    }
   ],
   "source": [
    "# max function\n",
    "print('Highest balances by account tier and gender')\n",
    "print(acct_grp_df['Balance'].max())\n",
    "print('')"
   ]
  },
  {
   "cell_type": "code",
   "execution_count": 256,
   "metadata": {
    "scrolled": true
   },
   "outputs": [
    {
     "name": "stdout",
     "output_type": "stream",
     "text": [
      "Average balances by account tier and gender\n",
      "Account Tier  Gender\n",
      "Classic       F          400.000000\n",
      "              M          313.333333\n",
      "Gold          F          550.000000\n",
      "              M           75.000000\n",
      "Platinum      F          850.000000\n",
      "              M         1150.000000\n",
      "Name: Balance, dtype: float64\n"
     ]
    }
   ],
   "source": [
    "# mean function\n",
    "print('Average balances by account tier and gender')\n",
    "print(acct_grp_df['Balance'].mean())"
   ]
  },
  {
   "cell_type": "code",
   "execution_count": 259,
   "metadata": {
    "scrolled": true
   },
   "outputs": [
    {
     "data": {
      "text/plain": [
       "Account Tier  Gender\n",
       "Classic       F          400\n",
       "              M          500\n",
       "Gold          F          650\n",
       "              M           75\n",
       "Platinum      F          900\n",
       "              M         1200\n",
       "Name: Balance, dtype: int64"
      ]
     },
     "execution_count": 259,
     "metadata": {},
     "output_type": "execute_result"
    }
   ],
   "source": [
    "acct_grp_df['Balance'].max()"
   ]
  },
  {
   "cell_type": "code",
   "execution_count": 258,
   "metadata": {
    "scrolled": true
   },
   "outputs": [
    {
     "data": {
      "text/plain": [
       "Account Tier  Gender\n",
       "Classic       F          400.000000\n",
       "              M          313.333333\n",
       "Gold          F          550.000000\n",
       "              M           75.000000\n",
       "Platinum      F          850.000000\n",
       "              M         1150.000000\n",
       "Name: Balance, dtype: float64"
      ]
     },
     "execution_count": 258,
     "metadata": {},
     "output_type": "execute_result"
    }
   ],
   "source": [
    "acct_grp_df['Balance'].mean()"
   ]
  },
  {
   "cell_type": "code",
   "execution_count": 261,
   "metadata": {
    "scrolled": true
   },
   "outputs": [
    {
     "data": {
      "text/html": [
       "<div>\n",
       "<style scoped>\n",
       "    .dataframe tbody tr th:only-of-type {\n",
       "        vertical-align: middle;\n",
       "    }\n",
       "\n",
       "    .dataframe tbody tr th {\n",
       "        vertical-align: top;\n",
       "    }\n",
       "\n",
       "    .dataframe thead th {\n",
       "        text-align: right;\n",
       "    }\n",
       "</style>\n",
       "<table border=\"1\" class=\"dataframe\">\n",
       "  <thead>\n",
       "    <tr style=\"text-align: right;\">\n",
       "      <th></th>\n",
       "      <th></th>\n",
       "      <th>Balance</th>\n",
       "    </tr>\n",
       "    <tr>\n",
       "      <th>Account Tier</th>\n",
       "      <th>Gender</th>\n",
       "      <th></th>\n",
       "    </tr>\n",
       "  </thead>\n",
       "  <tbody>\n",
       "    <tr>\n",
       "      <th rowspan=\"2\" valign=\"top\">Classic</th>\n",
       "      <th>F</th>\n",
       "      <td>400.000000</td>\n",
       "    </tr>\n",
       "    <tr>\n",
       "      <th>M</th>\n",
       "      <td>313.333333</td>\n",
       "    </tr>\n",
       "    <tr>\n",
       "      <th rowspan=\"2\" valign=\"top\">Gold</th>\n",
       "      <th>F</th>\n",
       "      <td>550.000000</td>\n",
       "    </tr>\n",
       "    <tr>\n",
       "      <th>M</th>\n",
       "      <td>75.000000</td>\n",
       "    </tr>\n",
       "    <tr>\n",
       "      <th rowspan=\"2\" valign=\"top\">Platinum</th>\n",
       "      <th>F</th>\n",
       "      <td>850.000000</td>\n",
       "    </tr>\n",
       "    <tr>\n",
       "      <th>M</th>\n",
       "      <td>1150.000000</td>\n",
       "    </tr>\n",
       "  </tbody>\n",
       "</table>\n",
       "</div>"
      ],
      "text/plain": [
       "                         Balance\n",
       "Account Tier Gender             \n",
       "Classic      F        400.000000\n",
       "             M        313.333333\n",
       "Gold         F        550.000000\n",
       "             M         75.000000\n",
       "Platinum     F        850.000000\n",
       "             M       1150.000000"
      ]
     },
     "execution_count": 261,
     "metadata": {},
     "output_type": "execute_result"
    }
   ],
   "source": [
    "pd.DataFrame(acct_grp_df['Balance'].mean())"
   ]
  },
  {
   "cell_type": "code",
   "execution_count": 262,
   "metadata": {
    "scrolled": true
   },
   "outputs": [
    {
     "data": {
      "text/html": [
       "<div>\n",
       "<style scoped>\n",
       "    .dataframe tbody tr th:only-of-type {\n",
       "        vertical-align: middle;\n",
       "    }\n",
       "\n",
       "    .dataframe tbody tr th {\n",
       "        vertical-align: top;\n",
       "    }\n",
       "\n",
       "    .dataframe thead th {\n",
       "        text-align: right;\n",
       "    }\n",
       "</style>\n",
       "<table border=\"1\" class=\"dataframe\">\n",
       "  <thead>\n",
       "    <tr style=\"text-align: right;\">\n",
       "      <th></th>\n",
       "      <th>Account Number</th>\n",
       "      <th>Last Name</th>\n",
       "      <th>First Name</th>\n",
       "      <th>Gender</th>\n",
       "      <th>Account Tier</th>\n",
       "      <th>Balance</th>\n",
       "      <th>Overdraft Protection</th>\n",
       "    </tr>\n",
       "  </thead>\n",
       "  <tbody>\n",
       "    <tr>\n",
       "      <th>0</th>\n",
       "      <td>7799533</td>\n",
       "      <td>Kinkle</td>\n",
       "      <td>Harvey</td>\n",
       "      <td>M</td>\n",
       "      <td>Gold</td>\n",
       "      <td>75</td>\n",
       "      <td>0</td>\n",
       "    </tr>\n",
       "    <tr>\n",
       "      <th>1</th>\n",
       "      <td>7809344</td>\n",
       "      <td>Scratch</td>\n",
       "      <td>Nicolas</td>\n",
       "      <td>M</td>\n",
       "      <td>Classic</td>\n",
       "      <td>500</td>\n",
       "      <td>0</td>\n",
       "    </tr>\n",
       "    <tr>\n",
       "      <th>2</th>\n",
       "      <td>7819355</td>\n",
       "      <td>Putnam</td>\n",
       "      <td>Theo</td>\n",
       "      <td>M</td>\n",
       "      <td>Classic</td>\n",
       "      <td>90</td>\n",
       "      <td>1</td>\n",
       "    </tr>\n",
       "    <tr>\n",
       "      <th>3</th>\n",
       "      <td>7779311</td>\n",
       "      <td>Spellman</td>\n",
       "      <td>Sabrina</td>\n",
       "      <td>F</td>\n",
       "      <td>Platinum</td>\n",
       "      <td>800</td>\n",
       "      <td>1</td>\n",
       "    </tr>\n",
       "    <tr>\n",
       "      <th>4</th>\n",
       "      <td>7789422</td>\n",
       "      <td>Spellman</td>\n",
       "      <td>Ambrose</td>\n",
       "      <td>M</td>\n",
       "      <td>Platinum</td>\n",
       "      <td>1100</td>\n",
       "      <td>0</td>\n",
       "    </tr>\n",
       "    <tr>\n",
       "      <th>5</th>\n",
       "      <td>7829366</td>\n",
       "      <td>Spellman</td>\n",
       "      <td>Hilda</td>\n",
       "      <td>F</td>\n",
       "      <td>Classic</td>\n",
       "      <td>400</td>\n",
       "      <td>1</td>\n",
       "    </tr>\n",
       "    <tr>\n",
       "      <th>6</th>\n",
       "      <td>7839477</td>\n",
       "      <td>Spellman</td>\n",
       "      <td>Zelda</td>\n",
       "      <td>F</td>\n",
       "      <td>Gold</td>\n",
       "      <td>500</td>\n",
       "      <td>1</td>\n",
       "    </tr>\n",
       "    <tr>\n",
       "      <th>7</th>\n",
       "      <td>7855044</td>\n",
       "      <td>Walker</td>\n",
       "      <td>Rosalind</td>\n",
       "      <td>F</td>\n",
       "      <td>Gold</td>\n",
       "      <td>500</td>\n",
       "      <td>1</td>\n",
       "    </tr>\n",
       "    <tr>\n",
       "      <th>8</th>\n",
       "      <td>7846033</td>\n",
       "      <td>Blackwood</td>\n",
       "      <td>Faustus</td>\n",
       "      <td>M</td>\n",
       "      <td>Platinum</td>\n",
       "      <td>1200</td>\n",
       "      <td>0</td>\n",
       "    </tr>\n",
       "    <tr>\n",
       "      <th>9</th>\n",
       "      <td>7855511</td>\n",
       "      <td>Gray</td>\n",
       "      <td>Dorian</td>\n",
       "      <td>M</td>\n",
       "      <td>Classic</td>\n",
       "      <td>350</td>\n",
       "      <td>0</td>\n",
       "    </tr>\n",
       "    <tr>\n",
       "      <th>10</th>\n",
       "      <td>7855522</td>\n",
       "      <td>Blackwood</td>\n",
       "      <td>Prudence</td>\n",
       "      <td>F</td>\n",
       "      <td>Platinum</td>\n",
       "      <td>900</td>\n",
       "      <td>1</td>\n",
       "    </tr>\n",
       "    <tr>\n",
       "      <th>11</th>\n",
       "      <td>7869844</td>\n",
       "      <td>Night</td>\n",
       "      <td>Dorcas</td>\n",
       "      <td>F</td>\n",
       "      <td>Gold</td>\n",
       "      <td>550</td>\n",
       "      <td>0</td>\n",
       "    </tr>\n",
       "    <tr>\n",
       "      <th>12</th>\n",
       "      <td>7969366</td>\n",
       "      <td>Night</td>\n",
       "      <td>Agatha</td>\n",
       "      <td>F</td>\n",
       "      <td>Gold</td>\n",
       "      <td>650</td>\n",
       "      <td>1</td>\n",
       "    </tr>\n",
       "  </tbody>\n",
       "</table>\n",
       "</div>"
      ],
      "text/plain": [
       "    Account Number  Last Name First Name Gender Account Tier  Balance  \\\n",
       "0          7799533     Kinkle     Harvey      M         Gold       75   \n",
       "1          7809344    Scratch    Nicolas      M      Classic      500   \n",
       "2          7819355     Putnam       Theo      M      Classic       90   \n",
       "3          7779311   Spellman    Sabrina      F     Platinum      800   \n",
       "4          7789422   Spellman    Ambrose      M     Platinum     1100   \n",
       "5          7829366   Spellman      Hilda      F      Classic      400   \n",
       "6          7839477   Spellman      Zelda      F         Gold      500   \n",
       "7          7855044     Walker   Rosalind      F         Gold      500   \n",
       "8          7846033  Blackwood    Faustus      M     Platinum     1200   \n",
       "9          7855511       Gray     Dorian      M      Classic      350   \n",
       "10         7855522  Blackwood   Prudence      F     Platinum      900   \n",
       "11         7869844      Night     Dorcas      F         Gold      550   \n",
       "12         7969366      Night     Agatha      F         Gold      650   \n",
       "\n",
       "    Overdraft Protection  \n",
       "0                      0  \n",
       "1                      0  \n",
       "2                      1  \n",
       "3                      1  \n",
       "4                      0  \n",
       "5                      1  \n",
       "6                      1  \n",
       "7                      1  \n",
       "8                      0  \n",
       "9                      0  \n",
       "10                     1  \n",
       "11                     0  \n",
       "12                     1  "
      ]
     },
     "execution_count": 262,
     "metadata": {},
     "output_type": "execute_result"
    }
   ],
   "source": [
    "acct_df"
   ]
  },
  {
   "cell_type": "code",
   "execution_count": 263,
   "metadata": {
    "scrolled": true
   },
   "outputs": [],
   "source": [
    "# 3.3.U\n",
    "\n",
    "# Define bins using a list of numeric ranges.\n",
    "bal_bins = [0, 100, 1000, 2000]"
   ]
  },
  {
   "cell_type": "code",
   "execution_count": 264,
   "metadata": {
    "scrolled": true
   },
   "outputs": [],
   "source": [
    "# Set up labels that correspond with the ranges.\n",
    "bal_labels = ['Low', 'Moderate', 'High']"
   ]
  },
  {
   "cell_type": "code",
   "execution_count": 265,
   "metadata": {
    "scrolled": true
   },
   "outputs": [
    {
     "data": {
      "text/plain": [
       "0       75\n",
       "1      500\n",
       "2       90\n",
       "3      800\n",
       "4     1100\n",
       "5      400\n",
       "6      500\n",
       "7      500\n",
       "8     1200\n",
       "9      350\n",
       "10     900\n",
       "11     550\n",
       "12     650\n",
       "Name: Balance, dtype: int64"
      ]
     },
     "execution_count": 265,
     "metadata": {},
     "output_type": "execute_result"
    }
   ],
   "source": [
    "acct_df['Balance']"
   ]
  },
  {
   "cell_type": "code",
   "execution_count": 266,
   "metadata": {
    "scrolled": true
   },
   "outputs": [
    {
     "data": {
      "text/plain": [
       "0          Low\n",
       "1     Moderate\n",
       "2          Low\n",
       "3     Moderate\n",
       "4         High\n",
       "5     Moderate\n",
       "6     Moderate\n",
       "7     Moderate\n",
       "8         High\n",
       "9     Moderate\n",
       "10    Moderate\n",
       "11    Moderate\n",
       "12    Moderate\n",
       "Name: Balance, dtype: category\n",
       "Categories (3, object): ['Low' < 'Moderate' < 'High']"
      ]
     },
     "execution_count": 266,
     "metadata": {},
     "output_type": "execute_result"
    }
   ],
   "source": [
    "# Use the pd.cut function to create bins.\n",
    "bal_tier = pd.cut(acct_df['Balance'], bins=bal_bins, labels=bal_labels)\n",
    "bal_tier"
   ]
  },
  {
   "cell_type": "code",
   "execution_count": 267,
   "metadata": {
    "scrolled": true
   },
   "outputs": [
    {
     "data": {
      "text/html": [
       "<div>\n",
       "<style scoped>\n",
       "    .dataframe tbody tr th:only-of-type {\n",
       "        vertical-align: middle;\n",
       "    }\n",
       "\n",
       "    .dataframe tbody tr th {\n",
       "        vertical-align: top;\n",
       "    }\n",
       "\n",
       "    .dataframe thead th {\n",
       "        text-align: right;\n",
       "    }\n",
       "</style>\n",
       "<table border=\"1\" class=\"dataframe\">\n",
       "  <thead>\n",
       "    <tr style=\"text-align: right;\">\n",
       "      <th></th>\n",
       "      <th>Account Number</th>\n",
       "      <th>Last Name</th>\n",
       "      <th>First Name</th>\n",
       "      <th>Gender</th>\n",
       "      <th>Account Tier</th>\n",
       "      <th>Balance</th>\n",
       "      <th>Overdraft Protection</th>\n",
       "    </tr>\n",
       "  </thead>\n",
       "  <tbody>\n",
       "    <tr>\n",
       "      <th>0</th>\n",
       "      <td>7799533</td>\n",
       "      <td>Kinkle</td>\n",
       "      <td>Harvey</td>\n",
       "      <td>M</td>\n",
       "      <td>Gold</td>\n",
       "      <td>75</td>\n",
       "      <td>0</td>\n",
       "    </tr>\n",
       "    <tr>\n",
       "      <th>1</th>\n",
       "      <td>7809344</td>\n",
       "      <td>Scratch</td>\n",
       "      <td>Nicolas</td>\n",
       "      <td>M</td>\n",
       "      <td>Classic</td>\n",
       "      <td>500</td>\n",
       "      <td>0</td>\n",
       "    </tr>\n",
       "    <tr>\n",
       "      <th>2</th>\n",
       "      <td>7819355</td>\n",
       "      <td>Putnam</td>\n",
       "      <td>Theo</td>\n",
       "      <td>M</td>\n",
       "      <td>Classic</td>\n",
       "      <td>90</td>\n",
       "      <td>1</td>\n",
       "    </tr>\n",
       "    <tr>\n",
       "      <th>3</th>\n",
       "      <td>7779311</td>\n",
       "      <td>Spellman</td>\n",
       "      <td>Sabrina</td>\n",
       "      <td>F</td>\n",
       "      <td>Platinum</td>\n",
       "      <td>800</td>\n",
       "      <td>1</td>\n",
       "    </tr>\n",
       "    <tr>\n",
       "      <th>4</th>\n",
       "      <td>7789422</td>\n",
       "      <td>Spellman</td>\n",
       "      <td>Ambrose</td>\n",
       "      <td>M</td>\n",
       "      <td>Platinum</td>\n",
       "      <td>1100</td>\n",
       "      <td>0</td>\n",
       "    </tr>\n",
       "    <tr>\n",
       "      <th>5</th>\n",
       "      <td>7829366</td>\n",
       "      <td>Spellman</td>\n",
       "      <td>Hilda</td>\n",
       "      <td>F</td>\n",
       "      <td>Classic</td>\n",
       "      <td>400</td>\n",
       "      <td>1</td>\n",
       "    </tr>\n",
       "    <tr>\n",
       "      <th>6</th>\n",
       "      <td>7839477</td>\n",
       "      <td>Spellman</td>\n",
       "      <td>Zelda</td>\n",
       "      <td>F</td>\n",
       "      <td>Gold</td>\n",
       "      <td>500</td>\n",
       "      <td>1</td>\n",
       "    </tr>\n",
       "    <tr>\n",
       "      <th>7</th>\n",
       "      <td>7855044</td>\n",
       "      <td>Walker</td>\n",
       "      <td>Rosalind</td>\n",
       "      <td>F</td>\n",
       "      <td>Gold</td>\n",
       "      <td>500</td>\n",
       "      <td>1</td>\n",
       "    </tr>\n",
       "    <tr>\n",
       "      <th>8</th>\n",
       "      <td>7846033</td>\n",
       "      <td>Blackwood</td>\n",
       "      <td>Faustus</td>\n",
       "      <td>M</td>\n",
       "      <td>Platinum</td>\n",
       "      <td>1200</td>\n",
       "      <td>0</td>\n",
       "    </tr>\n",
       "    <tr>\n",
       "      <th>9</th>\n",
       "      <td>7855511</td>\n",
       "      <td>Gray</td>\n",
       "      <td>Dorian</td>\n",
       "      <td>M</td>\n",
       "      <td>Classic</td>\n",
       "      <td>350</td>\n",
       "      <td>0</td>\n",
       "    </tr>\n",
       "    <tr>\n",
       "      <th>10</th>\n",
       "      <td>7855522</td>\n",
       "      <td>Blackwood</td>\n",
       "      <td>Prudence</td>\n",
       "      <td>F</td>\n",
       "      <td>Platinum</td>\n",
       "      <td>900</td>\n",
       "      <td>1</td>\n",
       "    </tr>\n",
       "    <tr>\n",
       "      <th>11</th>\n",
       "      <td>7869844</td>\n",
       "      <td>Night</td>\n",
       "      <td>Dorcas</td>\n",
       "      <td>F</td>\n",
       "      <td>Gold</td>\n",
       "      <td>550</td>\n",
       "      <td>0</td>\n",
       "    </tr>\n",
       "    <tr>\n",
       "      <th>12</th>\n",
       "      <td>7969366</td>\n",
       "      <td>Night</td>\n",
       "      <td>Agatha</td>\n",
       "      <td>F</td>\n",
       "      <td>Gold</td>\n",
       "      <td>650</td>\n",
       "      <td>1</td>\n",
       "    </tr>\n",
       "  </tbody>\n",
       "</table>\n",
       "</div>"
      ],
      "text/plain": [
       "    Account Number  Last Name First Name Gender Account Tier  Balance  \\\n",
       "0          7799533     Kinkle     Harvey      M         Gold       75   \n",
       "1          7809344    Scratch    Nicolas      M      Classic      500   \n",
       "2          7819355     Putnam       Theo      M      Classic       90   \n",
       "3          7779311   Spellman    Sabrina      F     Platinum      800   \n",
       "4          7789422   Spellman    Ambrose      M     Platinum     1100   \n",
       "5          7829366   Spellman      Hilda      F      Classic      400   \n",
       "6          7839477   Spellman      Zelda      F         Gold      500   \n",
       "7          7855044     Walker   Rosalind      F         Gold      500   \n",
       "8          7846033  Blackwood    Faustus      M     Platinum     1200   \n",
       "9          7855511       Gray     Dorian      M      Classic      350   \n",
       "10         7855522  Blackwood   Prudence      F     Platinum      900   \n",
       "11         7869844      Night     Dorcas      F         Gold      550   \n",
       "12         7969366      Night     Agatha      F         Gold      650   \n",
       "\n",
       "    Overdraft Protection  \n",
       "0                      0  \n",
       "1                      0  \n",
       "2                      1  \n",
       "3                      1  \n",
       "4                      0  \n",
       "5                      1  \n",
       "6                      1  \n",
       "7                      1  \n",
       "8                      0  \n",
       "9                      0  \n",
       "10                     1  \n",
       "11                     0  \n",
       "12                     1  "
      ]
     },
     "execution_count": 267,
     "metadata": {},
     "output_type": "execute_result"
    }
   ],
   "source": [
    "acct_df"
   ]
  },
  {
   "cell_type": "code",
   "execution_count": 270,
   "metadata": {
    "scrolled": true
   },
   "outputs": [
    {
     "data": {
      "text/plain": [
       "0          Low\n",
       "1     Moderate\n",
       "2          Low\n",
       "3     Moderate\n",
       "4         High\n",
       "5     Moderate\n",
       "6     Moderate\n",
       "7     Moderate\n",
       "8         High\n",
       "9     Moderate\n",
       "10    Moderate\n",
       "11    Moderate\n",
       "12    Moderate\n",
       "Name: Balance, dtype: category\n",
       "Categories (3, object): ['Low' < 'Moderate' < 'High']"
      ]
     },
     "execution_count": 270,
     "metadata": {},
     "output_type": "execute_result"
    }
   ],
   "source": [
    "bal_tier"
   ]
  },
  {
   "cell_type": "code",
   "execution_count": 271,
   "metadata": {
    "scrolled": true
   },
   "outputs": [
    {
     "data": {
      "text/html": [
       "<div>\n",
       "<style scoped>\n",
       "    .dataframe tbody tr th:only-of-type {\n",
       "        vertical-align: middle;\n",
       "    }\n",
       "\n",
       "    .dataframe tbody tr th {\n",
       "        vertical-align: top;\n",
       "    }\n",
       "\n",
       "    .dataframe thead th {\n",
       "        text-align: right;\n",
       "    }\n",
       "</style>\n",
       "<table border=\"1\" class=\"dataframe\">\n",
       "  <thead>\n",
       "    <tr style=\"text-align: right;\">\n",
       "      <th></th>\n",
       "      <th>Account Number</th>\n",
       "      <th>Last Name</th>\n",
       "      <th>First Name</th>\n",
       "      <th>Gender</th>\n",
       "      <th>Account Tier</th>\n",
       "      <th>Balance</th>\n",
       "      <th>Overdraft Protection</th>\n",
       "      <th>Balance Tier</th>\n",
       "    </tr>\n",
       "  </thead>\n",
       "  <tbody>\n",
       "    <tr>\n",
       "      <th>0</th>\n",
       "      <td>7799533</td>\n",
       "      <td>Kinkle</td>\n",
       "      <td>Harvey</td>\n",
       "      <td>M</td>\n",
       "      <td>Gold</td>\n",
       "      <td>75</td>\n",
       "      <td>0</td>\n",
       "      <td>Low</td>\n",
       "    </tr>\n",
       "    <tr>\n",
       "      <th>1</th>\n",
       "      <td>7809344</td>\n",
       "      <td>Scratch</td>\n",
       "      <td>Nicolas</td>\n",
       "      <td>M</td>\n",
       "      <td>Classic</td>\n",
       "      <td>500</td>\n",
       "      <td>0</td>\n",
       "      <td>Moderate</td>\n",
       "    </tr>\n",
       "    <tr>\n",
       "      <th>2</th>\n",
       "      <td>7819355</td>\n",
       "      <td>Putnam</td>\n",
       "      <td>Theo</td>\n",
       "      <td>M</td>\n",
       "      <td>Classic</td>\n",
       "      <td>90</td>\n",
       "      <td>1</td>\n",
       "      <td>Low</td>\n",
       "    </tr>\n",
       "    <tr>\n",
       "      <th>3</th>\n",
       "      <td>7779311</td>\n",
       "      <td>Spellman</td>\n",
       "      <td>Sabrina</td>\n",
       "      <td>F</td>\n",
       "      <td>Platinum</td>\n",
       "      <td>800</td>\n",
       "      <td>1</td>\n",
       "      <td>Moderate</td>\n",
       "    </tr>\n",
       "    <tr>\n",
       "      <th>4</th>\n",
       "      <td>7789422</td>\n",
       "      <td>Spellman</td>\n",
       "      <td>Ambrose</td>\n",
       "      <td>M</td>\n",
       "      <td>Platinum</td>\n",
       "      <td>1100</td>\n",
       "      <td>0</td>\n",
       "      <td>High</td>\n",
       "    </tr>\n",
       "    <tr>\n",
       "      <th>5</th>\n",
       "      <td>7829366</td>\n",
       "      <td>Spellman</td>\n",
       "      <td>Hilda</td>\n",
       "      <td>F</td>\n",
       "      <td>Classic</td>\n",
       "      <td>400</td>\n",
       "      <td>1</td>\n",
       "      <td>Moderate</td>\n",
       "    </tr>\n",
       "    <tr>\n",
       "      <th>6</th>\n",
       "      <td>7839477</td>\n",
       "      <td>Spellman</td>\n",
       "      <td>Zelda</td>\n",
       "      <td>F</td>\n",
       "      <td>Gold</td>\n",
       "      <td>500</td>\n",
       "      <td>1</td>\n",
       "      <td>Moderate</td>\n",
       "    </tr>\n",
       "    <tr>\n",
       "      <th>7</th>\n",
       "      <td>7855044</td>\n",
       "      <td>Walker</td>\n",
       "      <td>Rosalind</td>\n",
       "      <td>F</td>\n",
       "      <td>Gold</td>\n",
       "      <td>500</td>\n",
       "      <td>1</td>\n",
       "      <td>Moderate</td>\n",
       "    </tr>\n",
       "    <tr>\n",
       "      <th>8</th>\n",
       "      <td>7846033</td>\n",
       "      <td>Blackwood</td>\n",
       "      <td>Faustus</td>\n",
       "      <td>M</td>\n",
       "      <td>Platinum</td>\n",
       "      <td>1200</td>\n",
       "      <td>0</td>\n",
       "      <td>High</td>\n",
       "    </tr>\n",
       "    <tr>\n",
       "      <th>9</th>\n",
       "      <td>7855511</td>\n",
       "      <td>Gray</td>\n",
       "      <td>Dorian</td>\n",
       "      <td>M</td>\n",
       "      <td>Classic</td>\n",
       "      <td>350</td>\n",
       "      <td>0</td>\n",
       "      <td>Moderate</td>\n",
       "    </tr>\n",
       "    <tr>\n",
       "      <th>10</th>\n",
       "      <td>7855522</td>\n",
       "      <td>Blackwood</td>\n",
       "      <td>Prudence</td>\n",
       "      <td>F</td>\n",
       "      <td>Platinum</td>\n",
       "      <td>900</td>\n",
       "      <td>1</td>\n",
       "      <td>Moderate</td>\n",
       "    </tr>\n",
       "    <tr>\n",
       "      <th>11</th>\n",
       "      <td>7869844</td>\n",
       "      <td>Night</td>\n",
       "      <td>Dorcas</td>\n",
       "      <td>F</td>\n",
       "      <td>Gold</td>\n",
       "      <td>550</td>\n",
       "      <td>0</td>\n",
       "      <td>Moderate</td>\n",
       "    </tr>\n",
       "    <tr>\n",
       "      <th>12</th>\n",
       "      <td>7969366</td>\n",
       "      <td>Night</td>\n",
       "      <td>Agatha</td>\n",
       "      <td>F</td>\n",
       "      <td>Gold</td>\n",
       "      <td>650</td>\n",
       "      <td>1</td>\n",
       "      <td>Moderate</td>\n",
       "    </tr>\n",
       "  </tbody>\n",
       "</table>\n",
       "</div>"
      ],
      "text/plain": [
       "    Account Number  Last Name First Name Gender Account Tier  Balance  \\\n",
       "0          7799533     Kinkle     Harvey      M         Gold       75   \n",
       "1          7809344    Scratch    Nicolas      M      Classic      500   \n",
       "2          7819355     Putnam       Theo      M      Classic       90   \n",
       "3          7779311   Spellman    Sabrina      F     Platinum      800   \n",
       "4          7789422   Spellman    Ambrose      M     Platinum     1100   \n",
       "5          7829366   Spellman      Hilda      F      Classic      400   \n",
       "6          7839477   Spellman      Zelda      F         Gold      500   \n",
       "7          7855044     Walker   Rosalind      F         Gold      500   \n",
       "8          7846033  Blackwood    Faustus      M     Platinum     1200   \n",
       "9          7855511       Gray     Dorian      M      Classic      350   \n",
       "10         7855522  Blackwood   Prudence      F     Platinum      900   \n",
       "11         7869844      Night     Dorcas      F         Gold      550   \n",
       "12         7969366      Night     Agatha      F         Gold      650   \n",
       "\n",
       "    Overdraft Protection Balance Tier  \n",
       "0                      0          Low  \n",
       "1                      0     Moderate  \n",
       "2                      1          Low  \n",
       "3                      1     Moderate  \n",
       "4                      0         High  \n",
       "5                      1     Moderate  \n",
       "6                      1     Moderate  \n",
       "7                      1     Moderate  \n",
       "8                      0         High  \n",
       "9                      0     Moderate  \n",
       "10                     1     Moderate  \n",
       "11                     0     Moderate  \n",
       "12                     1     Moderate  "
      ]
     },
     "execution_count": 271,
     "metadata": {},
     "output_type": "execute_result"
    }
   ],
   "source": [
    "# Create a new column within your existing DataFrame to add the binning output.\n",
    "acct_df['Balance Tier'] = bal_tier\n",
    "\n",
    "acct_df"
   ]
  },
  {
   "cell_type": "code",
   "execution_count": 272,
   "metadata": {
    "scrolled": true
   },
   "outputs": [],
   "source": [
    "tier_df = acct_df.groupby('Balance Tier')"
   ]
  },
  {
   "cell_type": "code",
   "execution_count": 274,
   "metadata": {
    "scrolled": true
   },
   "outputs": [
    {
     "data": {
      "text/plain": [
       "Balance Tier\n",
       "Low         2\n",
       "Moderate    9\n",
       "High        2\n",
       "Name: Balance, dtype: int64"
      ]
     },
     "execution_count": 274,
     "metadata": {},
     "output_type": "execute_result"
    }
   ],
   "source": [
    "tier_df['Balance'].count()"
   ]
  },
  {
   "cell_type": "code",
   "execution_count": 275,
   "metadata": {
    "scrolled": true
   },
   "outputs": [
    {
     "data": {
      "text/html": [
       "<div>\n",
       "<style scoped>\n",
       "    .dataframe tbody tr th:only-of-type {\n",
       "        vertical-align: middle;\n",
       "    }\n",
       "\n",
       "    .dataframe tbody tr th {\n",
       "        vertical-align: top;\n",
       "    }\n",
       "\n",
       "    .dataframe thead th {\n",
       "        text-align: right;\n",
       "    }\n",
       "</style>\n",
       "<table border=\"1\" class=\"dataframe\">\n",
       "  <thead>\n",
       "    <tr style=\"text-align: right;\">\n",
       "      <th></th>\n",
       "      <th>Account Number</th>\n",
       "      <th>Last Name</th>\n",
       "      <th>First Name</th>\n",
       "      <th>Gender</th>\n",
       "      <th>Account Tier</th>\n",
       "      <th>Balance</th>\n",
       "      <th>Overdraft Protection</th>\n",
       "      <th>Balance Tier</th>\n",
       "    </tr>\n",
       "  </thead>\n",
       "  <tbody>\n",
       "    <tr>\n",
       "      <th>0</th>\n",
       "      <td>7799533</td>\n",
       "      <td>Kinkle</td>\n",
       "      <td>Harvey</td>\n",
       "      <td>M</td>\n",
       "      <td>Gold</td>\n",
       "      <td>75</td>\n",
       "      <td>0</td>\n",
       "      <td>Low</td>\n",
       "    </tr>\n",
       "    <tr>\n",
       "      <th>1</th>\n",
       "      <td>7809344</td>\n",
       "      <td>Scratch</td>\n",
       "      <td>Nicolas</td>\n",
       "      <td>M</td>\n",
       "      <td>Classic</td>\n",
       "      <td>500</td>\n",
       "      <td>0</td>\n",
       "      <td>Moderate</td>\n",
       "    </tr>\n",
       "    <tr>\n",
       "      <th>2</th>\n",
       "      <td>7819355</td>\n",
       "      <td>Putnam</td>\n",
       "      <td>Theo</td>\n",
       "      <td>M</td>\n",
       "      <td>Classic</td>\n",
       "      <td>90</td>\n",
       "      <td>1</td>\n",
       "      <td>Low</td>\n",
       "    </tr>\n",
       "    <tr>\n",
       "      <th>3</th>\n",
       "      <td>7779311</td>\n",
       "      <td>Spellman</td>\n",
       "      <td>Sabrina</td>\n",
       "      <td>F</td>\n",
       "      <td>Platinum</td>\n",
       "      <td>800</td>\n",
       "      <td>1</td>\n",
       "      <td>Moderate</td>\n",
       "    </tr>\n",
       "    <tr>\n",
       "      <th>4</th>\n",
       "      <td>7789422</td>\n",
       "      <td>Spellman</td>\n",
       "      <td>Ambrose</td>\n",
       "      <td>M</td>\n",
       "      <td>Platinum</td>\n",
       "      <td>1100</td>\n",
       "      <td>0</td>\n",
       "      <td>High</td>\n",
       "    </tr>\n",
       "    <tr>\n",
       "      <th>5</th>\n",
       "      <td>7829366</td>\n",
       "      <td>Spellman</td>\n",
       "      <td>Hilda</td>\n",
       "      <td>F</td>\n",
       "      <td>Classic</td>\n",
       "      <td>400</td>\n",
       "      <td>1</td>\n",
       "      <td>Moderate</td>\n",
       "    </tr>\n",
       "    <tr>\n",
       "      <th>6</th>\n",
       "      <td>7839477</td>\n",
       "      <td>Spellman</td>\n",
       "      <td>Zelda</td>\n",
       "      <td>F</td>\n",
       "      <td>Gold</td>\n",
       "      <td>500</td>\n",
       "      <td>1</td>\n",
       "      <td>Moderate</td>\n",
       "    </tr>\n",
       "    <tr>\n",
       "      <th>7</th>\n",
       "      <td>7855044</td>\n",
       "      <td>Walker</td>\n",
       "      <td>Rosalind</td>\n",
       "      <td>F</td>\n",
       "      <td>Gold</td>\n",
       "      <td>500</td>\n",
       "      <td>1</td>\n",
       "      <td>Moderate</td>\n",
       "    </tr>\n",
       "    <tr>\n",
       "      <th>8</th>\n",
       "      <td>7846033</td>\n",
       "      <td>Blackwood</td>\n",
       "      <td>Faustus</td>\n",
       "      <td>M</td>\n",
       "      <td>Platinum</td>\n",
       "      <td>1200</td>\n",
       "      <td>0</td>\n",
       "      <td>High</td>\n",
       "    </tr>\n",
       "    <tr>\n",
       "      <th>9</th>\n",
       "      <td>7855511</td>\n",
       "      <td>Gray</td>\n",
       "      <td>Dorian</td>\n",
       "      <td>M</td>\n",
       "      <td>Classic</td>\n",
       "      <td>350</td>\n",
       "      <td>0</td>\n",
       "      <td>Moderate</td>\n",
       "    </tr>\n",
       "    <tr>\n",
       "      <th>10</th>\n",
       "      <td>7855522</td>\n",
       "      <td>Blackwood</td>\n",
       "      <td>Prudence</td>\n",
       "      <td>F</td>\n",
       "      <td>Platinum</td>\n",
       "      <td>900</td>\n",
       "      <td>1</td>\n",
       "      <td>Moderate</td>\n",
       "    </tr>\n",
       "    <tr>\n",
       "      <th>11</th>\n",
       "      <td>7869844</td>\n",
       "      <td>Night</td>\n",
       "      <td>Dorcas</td>\n",
       "      <td>F</td>\n",
       "      <td>Gold</td>\n",
       "      <td>550</td>\n",
       "      <td>0</td>\n",
       "      <td>Moderate</td>\n",
       "    </tr>\n",
       "    <tr>\n",
       "      <th>12</th>\n",
       "      <td>7969366</td>\n",
       "      <td>Night</td>\n",
       "      <td>Agatha</td>\n",
       "      <td>F</td>\n",
       "      <td>Gold</td>\n",
       "      <td>650</td>\n",
       "      <td>1</td>\n",
       "      <td>Moderate</td>\n",
       "    </tr>\n",
       "  </tbody>\n",
       "</table>\n",
       "</div>"
      ],
      "text/plain": [
       "    Account Number  Last Name First Name Gender Account Tier  Balance  \\\n",
       "0          7799533     Kinkle     Harvey      M         Gold       75   \n",
       "1          7809344    Scratch    Nicolas      M      Classic      500   \n",
       "2          7819355     Putnam       Theo      M      Classic       90   \n",
       "3          7779311   Spellman    Sabrina      F     Platinum      800   \n",
       "4          7789422   Spellman    Ambrose      M     Platinum     1100   \n",
       "5          7829366   Spellman      Hilda      F      Classic      400   \n",
       "6          7839477   Spellman      Zelda      F         Gold      500   \n",
       "7          7855044     Walker   Rosalind      F         Gold      500   \n",
       "8          7846033  Blackwood    Faustus      M     Platinum     1200   \n",
       "9          7855511       Gray     Dorian      M      Classic      350   \n",
       "10         7855522  Blackwood   Prudence      F     Platinum      900   \n",
       "11         7869844      Night     Dorcas      F         Gold      550   \n",
       "12         7969366      Night     Agatha      F         Gold      650   \n",
       "\n",
       "    Overdraft Protection Balance Tier  \n",
       "0                      0          Low  \n",
       "1                      0     Moderate  \n",
       "2                      1          Low  \n",
       "3                      1     Moderate  \n",
       "4                      0         High  \n",
       "5                      1     Moderate  \n",
       "6                      1     Moderate  \n",
       "7                      1     Moderate  \n",
       "8                      0         High  \n",
       "9                      0     Moderate  \n",
       "10                     1     Moderate  \n",
       "11                     0     Moderate  \n",
       "12                     1     Moderate  "
      ]
     },
     "execution_count": 275,
     "metadata": {},
     "output_type": "execute_result"
    }
   ],
   "source": [
    "acct_df"
   ]
  },
  {
   "cell_type": "code",
   "execution_count": 295,
   "metadata": {
    "scrolled": true
   },
   "outputs": [],
   "source": [
    "# 3.3.V.LIVE\n",
    "\n",
    "'''\n",
    "1. Create bins where the tiers are:\n",
    "    0 - 500: Low\n",
    "    >500 - 2000: OK\n",
    "2. Group the dataframe by Account Tier and Balance Tier\n",
    "3. By account and balance tier, return the number of customers who have overdraft protection enabled\n",
    "4. COnvert the output to a DataFrame\n",
    "'''\n",
    "\n",
    "bal_bins = [0, 500, 2000]\n",
    "bal_labels = ['High risk', 'OK']\n",
    "\n",
    "acct_bin = pd.cut(acct_df['Balance'], bins=bal_bins, labels=bal_labels)\n",
    "\n",
    "#1. the series that you want to bin\n",
    "#2. the bins and ranges\n",
    "#3. the labels for the bins"
   ]
  },
  {
   "cell_type": "code",
   "execution_count": 296,
   "metadata": {
    "scrolled": true
   },
   "outputs": [
    {
     "data": {
      "text/plain": [
       "0     High risk\n",
       "1     High risk\n",
       "2     High risk\n",
       "3            OK\n",
       "4            OK\n",
       "5     High risk\n",
       "6     High risk\n",
       "7     High risk\n",
       "8            OK\n",
       "9     High risk\n",
       "10           OK\n",
       "11           OK\n",
       "12           OK\n",
       "Name: Balance, dtype: category\n",
       "Categories (2, object): ['High risk' < 'OK']"
      ]
     },
     "execution_count": 296,
     "metadata": {},
     "output_type": "execute_result"
    }
   ],
   "source": [
    "acct_bin"
   ]
  },
  {
   "cell_type": "code",
   "execution_count": null,
   "metadata": {
    "scrolled": true
   },
   "outputs": [],
   "source": [
    "acct_df['Risk Level'] = acct_bin\n",
    "acct_df"
   ]
  },
  {
   "cell_type": "code",
   "execution_count": 301,
   "metadata": {
    "scrolled": true
   },
   "outputs": [
    {
     "data": {
      "text/plain": [
       "Risk Level  Overdraft Protection\n",
       "High risk   0                       3\n",
       "            1                       4\n",
       "OK          0                       3\n",
       "            1                       3\n",
       "Name: Account Number, dtype: int64"
      ]
     },
     "execution_count": 301,
     "metadata": {},
     "output_type": "execute_result"
    }
   ],
   "source": [
    "risk_grp = acct_df.groupby(['Risk Level','Overdraft Protection'])\n",
    "risk_grp['Account Number'].count()"
   ]
  },
  {
   "cell_type": "code",
   "execution_count": 302,
   "metadata": {
    "scrolled": true
   },
   "outputs": [
    {
     "data": {
      "text/html": [
       "<div>\n",
       "<style scoped>\n",
       "    .dataframe tbody tr th:only-of-type {\n",
       "        vertical-align: middle;\n",
       "    }\n",
       "\n",
       "    .dataframe tbody tr th {\n",
       "        vertical-align: top;\n",
       "    }\n",
       "\n",
       "    .dataframe thead th {\n",
       "        text-align: right;\n",
       "    }\n",
       "</style>\n",
       "<table border=\"1\" class=\"dataframe\">\n",
       "  <thead>\n",
       "    <tr style=\"text-align: right;\">\n",
       "      <th></th>\n",
       "      <th></th>\n",
       "      <th>Account Number</th>\n",
       "    </tr>\n",
       "    <tr>\n",
       "      <th>Risk Level</th>\n",
       "      <th>Overdraft Protection</th>\n",
       "      <th></th>\n",
       "    </tr>\n",
       "  </thead>\n",
       "  <tbody>\n",
       "    <tr>\n",
       "      <th rowspan=\"2\" valign=\"top\">High risk</th>\n",
       "      <th>0</th>\n",
       "      <td>3</td>\n",
       "    </tr>\n",
       "    <tr>\n",
       "      <th>1</th>\n",
       "      <td>4</td>\n",
       "    </tr>\n",
       "    <tr>\n",
       "      <th rowspan=\"2\" valign=\"top\">OK</th>\n",
       "      <th>0</th>\n",
       "      <td>3</td>\n",
       "    </tr>\n",
       "    <tr>\n",
       "      <th>1</th>\n",
       "      <td>3</td>\n",
       "    </tr>\n",
       "  </tbody>\n",
       "</table>\n",
       "</div>"
      ],
      "text/plain": [
       "                                 Account Number\n",
       "Risk Level Overdraft Protection                \n",
       "High risk  0                                  3\n",
       "           1                                  4\n",
       "OK         0                                  3\n",
       "           1                                  3"
      ]
     },
     "execution_count": 302,
     "metadata": {},
     "output_type": "execute_result"
    }
   ],
   "source": [
    "risk_group_df = pd.DataFrame(risk_grp['Account Number'].count())\n",
    "risk_group_df"
   ]
  },
  {
   "cell_type": "code",
   "execution_count": 305,
   "metadata": {
    "scrolled": true
   },
   "outputs": [
    {
     "data": {
      "text/html": [
       "<div>\n",
       "<style scoped>\n",
       "    .dataframe tbody tr th:only-of-type {\n",
       "        vertical-align: middle;\n",
       "    }\n",
       "\n",
       "    .dataframe tbody tr th {\n",
       "        vertical-align: top;\n",
       "    }\n",
       "\n",
       "    .dataframe thead th {\n",
       "        text-align: right;\n",
       "    }\n",
       "</style>\n",
       "<table border=\"1\" class=\"dataframe\">\n",
       "  <thead>\n",
       "    <tr style=\"text-align: right;\">\n",
       "      <th></th>\n",
       "      <th></th>\n",
       "      <th>Account Number</th>\n",
       "    </tr>\n",
       "    <tr>\n",
       "      <th>Risk Level</th>\n",
       "      <th>Overdraft Protection</th>\n",
       "      <th></th>\n",
       "    </tr>\n",
       "  </thead>\n",
       "  <tbody>\n",
       "    <tr>\n",
       "      <th rowspan=\"2\" valign=\"top\">High risk</th>\n",
       "      <th>0</th>\n",
       "      <td>3</td>\n",
       "    </tr>\n",
       "    <tr>\n",
       "      <th>1</th>\n",
       "      <td>4</td>\n",
       "    </tr>\n",
       "    <tr>\n",
       "      <th rowspan=\"2\" valign=\"top\">OK</th>\n",
       "      <th>0</th>\n",
       "      <td>3</td>\n",
       "    </tr>\n",
       "    <tr>\n",
       "      <th>1</th>\n",
       "      <td>3</td>\n",
       "    </tr>\n",
       "  </tbody>\n",
       "</table>\n",
       "</div>"
      ],
      "text/plain": [
       "                                 Account Number\n",
       "Risk Level Overdraft Protection                \n",
       "High risk  0                                  3\n",
       "           1                                  4\n",
       "OK         0                                  3\n",
       "           1                                  3"
      ]
     },
     "execution_count": 305,
     "metadata": {},
     "output_type": "execute_result"
    }
   ],
   "source": [
    "risk_group_df"
   ]
  },
  {
   "cell_type": "markdown",
   "metadata": {},
   "source": [
    "## Episode 4"
   ]
  },
  {
   "cell_type": "code",
   "execution_count": null,
   "metadata": {
    "scrolled": true
   },
   "outputs": [],
   "source": [
    "acct_df"
   ]
  },
  {
   "cell_type": "code",
   "execution_count": 306,
   "metadata": {
    "scrolled": true
   },
   "outputs": [
    {
     "data": {
      "text/plain": [
       "3    7779311\n",
       "Name: Account Number, dtype: int64"
      ]
     },
     "execution_count": 306,
     "metadata": {},
     "output_type": "execute_result"
    }
   ],
   "source": [
    "# Looking up account number\n",
    "record = acct_df.loc[(acct_df['Last Name'] == 'Spellman') & (acct_df['First Name'] == 'Sabrina')]\n",
    "acct_number = record['Account Number']\n",
    "acct_number"
   ]
  },
  {
   "cell_type": "code",
   "execution_count": 307,
   "metadata": {
    "scrolled": true
   },
   "outputs": [
    {
     "data": {
      "text/plain": [
       "3    7779311\n",
       "Name: Account Number, dtype: int64"
      ]
     },
     "execution_count": 307,
     "metadata": {},
     "output_type": "execute_result"
    }
   ],
   "source": [
    "# 3.4.A\n",
    "\n",
    "# Looking up account number with variables\n",
    "last_name = 'Spellman'\n",
    "first_name = 'Sabrina'\n",
    "\n",
    "record = acct_df.loc[(acct_df['Last Name'] == last_name) & (acct_df['First Name'] == first_name)]\n",
    "acct_number = record['Account Number']\n",
    "acct_number"
   ]
  },
  {
   "cell_type": "code",
   "execution_count": 308,
   "metadata": {
    "scrolled": true
   },
   "outputs": [
    {
     "name": "stdout",
     "output_type": "stream",
     "text": [
      "Last name: \n",
      "First name: \n"
     ]
    },
    {
     "data": {
      "text/plain": [
       "Series([], Name: Account Number, dtype: int64)"
      ]
     },
     "execution_count": 308,
     "metadata": {},
     "output_type": "execute_result"
    }
   ],
   "source": [
    "# 3.4.B\n",
    "\n",
    "# Looking up account number with input\n",
    "last_name = input('Last name: ')\n",
    "first_name = input('First name: ')\n",
    "\n",
    "record = acct_df.loc[(acct_df['Last Name'] == last_name) & (acct_df['First Name'] == first_name)]\n",
    "acct_number = record['Account Number']\n",
    "acct_number"
   ]
  },
  {
   "cell_type": "code",
   "execution_count": null,
   "metadata": {
    "scrolled": true
   },
   "outputs": [],
   "source": [
    "# 3.4.C\n",
    "\n",
    "# Looking up account number with input and exception handling\n",
    "last_name = input('Last name: ')\n",
    "first_name = input('First name: ')\n",
    "\n",
    "record = acct_df.loc[(acct_df['Last Name'] == last_name) & (acct_df['First Name'] == first_name)]\n",
    "acct_number = record['Account Number']\n",
    "\n",
    "if acct_number.size == 0:\n",
    "    print('Account not found')\n",
    "elif acct_number.size > 1:\n",
    "    print('Multiple account found')\n",
    "else:\n",
    "    print(acct_number)"
   ]
  },
  {
   "cell_type": "code",
   "execution_count": null,
   "metadata": {
    "scrolled": true
   },
   "outputs": [],
   "source": [
    "# 3.4.D\n",
    "\n",
    "# Create a get_account() function\n",
    "last_name = input('Last name: ')\n",
    "first_name = input('First name: ')\n",
    "\n",
    "def get_account(last_name, first_name):\n",
    "    record = acct_df.loc[(acct_df['Last Name'] == last_name) & (acct_df['First Name'] == first_name)]\n",
    "    acct_number = record['Account Number']\n",
    "    \n",
    "    if acct_number.size == 1:\n",
    "        return acct_number.iat[0]\n",
    "    else:\n",
    "        return None\n",
    "    \n",
    "get_account(last_name, first_name)"
   ]
  },
  {
   "cell_type": "code",
   "execution_count": null,
   "metadata": {
    "scrolled": true
   },
   "outputs": [],
   "source": [
    "# 3.4.E\n",
    "\n",
    "get_account('Blackwood', 'Faustus')"
   ]
  },
  {
   "cell_type": "code",
   "execution_count": null,
   "metadata": {
    "scrolled": true
   },
   "outputs": [],
   "source": [
    "# 3.4.F\n",
    "\n",
    "last_name = input('Last name: ')\n",
    "first_name = input('First name: ')\n",
    "\n",
    "get_account(last_name, first_name)"
   ]
  },
  {
   "cell_type": "code",
   "execution_count": null,
   "metadata": {
    "scrolled": true
   },
   "outputs": [],
   "source": [
    "# 3.4.G\n",
    "\n",
    "# Making a deposit by account number\n",
    "deposit_amount = 200\n",
    "acct_num = get_account('Spellman', 'Sabrina')\n",
    "\n",
    "acct_rec = acct_df.loc[acct_df['Account Number'] == acct_num]\n",
    "acct_rec['Balance'] = acct_rec['Balance'] + deposit_amount\n",
    "\n",
    "acct_rec"
   ]
  },
  {
   "cell_type": "code",
   "execution_count": null,
   "metadata": {
    "scrolled": true
   },
   "outputs": [],
   "source": [
    "# 3.4.H\n",
    "\n",
    "# work around copying the dataframe\n",
    "row_index = acct_df.loc[acct_df['Account Number'] == acct_num].index\n",
    "col_index = acct_df.columns.get_loc('Balance')\n",
    "\n",
    "acct_df.iloc[row_index,col_index] = acct_df.iloc[row_index,col_index] + deposit_amount\n",
    "acct_df"
   ]
  },
  {
   "cell_type": "code",
   "execution_count": null,
   "metadata": {
    "scrolled": true
   },
   "outputs": [],
   "source": [
    "# 3.4.I\n",
    "\n",
    "# Create a deposit function\n",
    "def make_deposit(acct_num, dep_amt):\n",
    "          \n",
    "    acct_rec = acct_df.loc[acct_df['Account Number'] == acct_num]\n",
    "    row_index = acct_df.loc[acct_df['Account Number'] == acct_num].index\n",
    "    col_index = acct_df.columns.get_loc('Balance')\n",
    "\n",
    "    acct_df.iloc[row_index,col_index] = acct_df.iloc[row_index,col_index] + dep_amt"
   ]
  },
  {
   "cell_type": "code",
   "execution_count": null,
   "metadata": {
    "scrolled": false
   },
   "outputs": [],
   "source": [
    "# 3.4.J.LIVE\n",
    "\n",
    "make_deposit(7855522, 250)\n",
    "acct_df\n",
    "#acct_df.loc[acct_df['Account Number'] == 7855522]"
   ]
  },
  {
   "cell_type": "code",
   "execution_count": null,
   "metadata": {
    "scrolled": true
   },
   "outputs": [],
   "source": [
    "# 3.4.K.LIVE\n",
    "\n",
    "# Create a deposit function that returns the old balance, new balance and account holder name\n",
    "def make_deposit(acct_num, dep_amt):\n",
    "          \n",
    "    # implement exception handling\n",
    "        \n",
    "    acct_rec = acct_df.loc[acct_df['Account Number'] == acct_num]\n",
    "    idx_row = acct_df.loc[acct_df['Account Number'] == acct_num].index\n",
    "    idx_bal = acct_df.columns.get_loc('Balance')\n",
    "    idx_last_name = acct_df.columns.get_loc('Last Name')\n",
    "    idx_first_name = acct_df.columns.get_loc('First Name')\n",
    "\n",
    "    \n",
    "    last_name = acct_df.iloc[idx_row,idx_last_name].iat[0]\n",
    "    first_name = acct_df.iloc[idx_row,idx_first_name].iat[0]\n",
    "    full_name = first_name + ' ' + last_name\n",
    "    prev_balance = acct_df.iloc[idx_row,idx_bal].iat[0]\n",
    "    new_balance = prev_balance + dep_amt\n",
    "\n",
    "    acct_df.iloc[idx_row,idx_bal] = new_balance                   \n",
    "                   \n",
    "        \n",
    "    print(f'''\n",
    "          Account number: {acct_num}\n",
    "          Full name: {full_name}\n",
    "          Previous balance: {prev_balance}\n",
    "          New balance: {new_balance}''')\n",
    "    \n",
    "    return\n",
    "\n",
    "make_deposit(7855522, 250)\n"
   ]
  },
  {
   "cell_type": "code",
   "execution_count": null,
   "metadata": {
    "scrolled": true
   },
   "outputs": [],
   "source": [
    "# 3.4.L.LIVE\n",
    "\n",
    "#Create a withdrawal function\n",
    "\n",
    "def make_withdrawal(acct_num, wdw_amt):\n",
    "          \n",
    "    acct_rec = acct_df.loc[acct_df['Account Number'] == acct_num]\n",
    "    row_index = acct_df.loc[acct_df['Account Number'] == acct_num].index\n",
    "    col_index = acct_df.columns.get_loc('Balance')\n",
    "    od_col_index = acct_df.columns.get_loc('Overdraft Protection')\n",
    "    \n",
    "    bal = acct_df.iloc[row_index,col_index].iat[0]\n",
    "    \n",
    "    if (bal - wdw_amt) >= 0:\n",
    "        acct_df.iloc[row_index,col_index] = acct_df.iloc[row_index,col_index] - wdw_amt\n",
    "    elif acct_df.iloc[row_index,od_col_index].iat[0] == 1:\n",
    "        acct_df.iloc[row_index,col_index] = acct_df.iloc[row_index,col_index] - wdw_amt\n",
    "    else:\n",
    "        print('Insuffient funds')"
   ]
  },
  {
   "cell_type": "code",
   "execution_count": null,
   "metadata": {
    "scrolled": true
   },
   "outputs": [],
   "source": [
    "# 3.4.M.LIVE\n",
    "\n",
    "make_withdrawal(7869844, 500)\n",
    "acct_df"
   ]
  },
  {
   "cell_type": "code",
   "execution_count": null,
   "metadata": {
    "scrolled": true
   },
   "outputs": [],
   "source": [
    "make_withdrawal(7969366, 600)\n",
    "acct_df"
   ]
  }
 ],
 "metadata": {
  "kernelspec": {
   "display_name": "Python 3 (ipykernel)",
   "language": "python",
   "name": "python3"
  },
  "language_info": {
   "codemirror_mode": {
    "name": "ipython",
    "version": 3
   },
   "file_extension": ".py",
   "mimetype": "text/x-python",
   "name": "python",
   "nbconvert_exporter": "python",
   "pygments_lexer": "ipython3",
   "version": "3.10.9"
  }
 },
 "nbformat": 4,
 "nbformat_minor": 4
}
