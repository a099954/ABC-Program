{
 "cells": [
  {
   "cell_type": "code",
   "execution_count": null,
   "id": "d04715c4",
   "metadata": {},
   "outputs": [],
   "source": [
    "# Chapter 1.03"
   ]
  },
  {
   "cell_type": "code",
   "execution_count": null,
   "id": "38d106f5",
   "metadata": {},
   "outputs": [],
   "source": [
    "# 1.1.A\n",
    "# Sample code block. A colon (:) indicates the beginning of a code block.\n",
    "# Code blocks should also be indented with a tab (or a consistent number of spaces)\n",
    "if (x > 5):\n",
    "    print('x is greater than 5')\n",
    "    print('Great job!')"
   ]
  },
  {
   "cell_type": "code",
   "execution_count": null,
   "id": "752f80b6",
   "metadata": {},
   "outputs": [],
   "source": [
    "# 1.1.B\n",
    "# The following code will return a syntax error because the colon is missing.\n",
    "if (x > 5)\n",
    "    print('x is greater than 5')\n",
    "    print('Great job!')"
   ]
  },
  {
   "cell_type": "code",
   "execution_count": null,
   "id": "f881e454",
   "metadata": {},
   "outputs": [],
   "source": [
    "# 1.1.C\n",
    "# The following code will return a syntax error because there is no indent.\n",
    "if (x > 5):\n",
    "print('x is greater than 5')\n",
    "print('Great job!')"
   ]
  },
  {
   "cell_type": "code",
   "execution_count": null,
   "id": "2a9e1a8c",
   "metadata": {},
   "outputs": [],
   "source": [
    "# 1.1.D\n",
    "# The following code will return a syntax error because the indentation is not consistent.\n",
    "if (x > 5):\n",
    "    print('x is greater than 5')\n",
    "  print('Great job!')"
   ]
  },
  {
   "cell_type": "code",
   "execution_count": null,
   "id": "52153641",
   "metadata": {},
   "outputs": [],
   "source": [
    "# In Python, variables are like boxes. The values within them can \n",
    "# change.The code in this cell shows an example of the variable last_name.\n",
    "# Click Ctrl + Enter to see the output of this code. The first line defines\n",
    "# the variable last_name and tells Python that the value for that variable is\n",
    "# Williams.\n",
    "\n",
    "last_name='Williams'\n",
    "\n",
    "last_name"
   ]
  },
  {
   "cell_type": "code",
   "execution_count": null,
   "id": "7836e1e7",
   "metadata": {},
   "outputs": [],
   "source": [
    "# Now click your mouse into this cell. Let's say we want to change the value \n",
    "# of last_name from Williams to Swift. The code looks like this:\n",
    "last_name='Swift'\n",
    "last_name\n",
    "# Again, hit Ctrl + Enter to output the code."
   ]
  },
  {
   "cell_type": "code",
   "execution_count": null,
   "id": "60ea7150",
   "metadata": {},
   "outputs": [],
   "source": [
    "# The value of last_name has changed!\n",
    "last_name"
   ]
  },
  {
   "cell_type": "code",
   "execution_count": null,
   "id": "40ce7214",
   "metadata": {},
   "outputs": [],
   "source": [
    "# 1.1.E\n",
    "# hashtags are used to make comments that help communicate things clearly \n",
    "# to other people looking at your code. \n",
    "# first_name='Sabrina'\n",
    "# The above code doesn't do anything at all because it's a comment! \n",
    "# data type is str\n",
    "\n",
    "first_name = 'Sabrina'"
   ]
  },
  {
   "cell_type": "code",
   "execution_count": null,
   "id": "43ad5dce",
   "metadata": {},
   "outputs": [],
   "source": [
    "# 1.1.D\n",
    "# data type is str, but note: you can use \n",
    "# single quotes ( ' ') or double quotes (\" \") to assign a string value\n",
    "# you just have to be consistent! If you use ', then your variable has to end with '.\n",
    "# if you use \", then your variable has to end with \". Note that if you put a variable value\n",
    "# in quotes, it is automatically considered a string. Check it out below:\n",
    "\n",
    "last_name = \"Spellman\"\n",
    "\n",
    "# You could have used last_name = 'Spellman' and it'd be the same as above, you just have \n",
    "# to be consistent in how you use the quotes."
   ]
  },
  {
   "cell_type": "code",
   "execution_count": null,
   "id": "0c8f3002",
   "metadata": {},
   "outputs": [],
   "source": [
    "# 1.1.E\n",
    "# Floating point decimals have the data type float. They are used for numbers that include decimals, \n",
    "# like 4.25, or 1.2972, or whatever.\n",
    "\n",
    "account_balance = 500.25"
   ]
  },
  {
   "cell_type": "code",
   "execution_count": null,
   "id": "c96daae1",
   "metadata": {},
   "outputs": [],
   "source": [
    "# 1.1.F\n",
    "# the data type below is an integer (or int), because it does not have quotes\n",
    "\n",
    "age = 16"
   ]
  },
  {
   "cell_type": "code",
   "execution_count": null,
   "id": "d33b4427",
   "metadata": {},
   "outputs": [],
   "source": [
    "# 1.1.G\n",
    "# The numeric value below is a string because it's enclosed in quotes. This is \n",
    "# important, because you cannot add strings together mathematically, only values that \n",
    "# aren't defined with quotes.\n",
    "\n",
    "account_balance='500'"
   ]
  },
  {
   "cell_type": "code",
   "execution_count": null,
   "id": "b69d0dcb",
   "metadata": {},
   "outputs": [],
   "source": [
    "# 1.1.H\n",
    "# Boolean data types are a fancy way of saying whether a value is True or False.\n",
    "# Note that Python requires the first letter of True or False to be capitalized.\n",
    "\n",
    "is_witch = True"
   ]
  },
  {
   "cell_type": "code",
   "execution_count": null,
   "id": "bfe7dc94",
   "metadata": {},
   "outputs": [],
   "source": [
    "# 1.1.I\n",
    "# In the above examples of assigning variables different values, you'll notice they all \n",
    "# use the = operator. This is important to know because later on, when you start doing math \n",
    "# in Python, you'll use double equal signs (==). We'll cover that later.\n",
    "# Also note that variables are case-sensitive, too! So if you create a variable called Awesome, it \n",
    "# is different than a variable called awesome.\n",
    "\n",
    "Awesome = 'me'\n",
    "awesome = 'parrots'\n",
    "print(Awesome)\n",
    "print(awesome)"
   ]
  },
  {
   "cell_type": "code",
   "execution_count": 9,
   "id": "d025afec",
   "metadata": {},
   "outputs": [
    {
     "data": {
      "text/plain": [
       "str"
      ]
     },
     "execution_count": 9,
     "metadata": {},
     "output_type": "execute_result"
    }
   ],
   "source": [
    "# 1.1.J\n",
    "# You can change the data type from one to another. This is often used when you're troubleshooting your code.\n",
    "# So for example, look at the acct_balance code below. Someone mistakenly coded it as a string, which \n",
    "# makes it impossible to use in code that relies on numbers. \n",
    "\n",
    "acct_balance = '500'\n",
    "type(acct_balance)"
   ]
  },
  {
   "cell_type": "code",
   "execution_count": 14,
   "id": "a7aa0c1f",
   "metadata": {},
   "outputs": [
    {
     "data": {
      "text/plain": [
       "int"
      ]
     },
     "execution_count": 14,
     "metadata": {},
     "output_type": "execute_result"
    }
   ],
   "source": [
    "# 1.1.K\n",
    "# You can fix this by using something called casting. Casting allows you to change a data type from one to another. \n",
    "# Here's an example of casting the above variable acct_balance from a string to an integer:\n",
    "acct_balance = '500'\n",
    "acct_balance = int(acct_balance)\n",
    "type(acct_balance)"
   ]
  },
  {
   "cell_type": "code",
   "execution_count": null,
   "id": "14df30f1",
   "metadata": {},
   "outputs": [],
   "source": [
    "# 1.1.L\n",
    "# If you want to see what data type a variable is, you can use the type function to find it out! Check out the example\n",
    "# above. In the first example of acct_balance, we enclosed it in single quotes, which means it's a string (also note the \n",
    "# different colors--Jupyter notebook puts values in different colors to make it easier to identify these things). But we \n",
    "# cast the variable from a string into an integer using the next line of code (acct_balance = int(acct_balance)). Now check\n",
    "# out how to use the type function to determine what data type a variable is (You can run the code below by pressing the Run\n",
    "# button in the above toolbar):\n",
    "\n",
    "type(acct_balance)"
   ]
  },
  {
   "cell_type": "markdown",
   "id": "c4f5575d",
   "metadata": {},
   "source": [
    "# Episode 4"
   ]
  },
  {
   "cell_type": "code",
   "execution_count": null,
   "id": "6808faf3",
   "metadata": {},
   "outputs": [],
   "source": [
    "# In Python, the if, elif, and else statements are used to control the flow of a \n",
    "# program and allow the programmer to specify a set of conditions to check for.\n",
    "\n",
    "# A) if: The 'if' statement is used to check a single condition.\n",
    "# B) elif: The elif (short for \"else if\") statement is used to check additional conditions \n",
    "#    if the previous conditions have not been met. This statement is optional.\n",
    "# C) else: The else statement is used to specify an action to be taken if all previous conditions \n",
    "#    have not been met. This statement is optional.\n",
    "\n",
    "# 0. declaring variables\n",
    "age = 16\n",
    "species_type = 'Witch'\n",
    "name = 'Dartanion'\n",
    "sex = 'male'\n",
    "temperature_outside = 'hot'"
   ]
  },
  {
   "cell_type": "code",
   "execution_count": null,
   "id": "5bdaa48d",
   "metadata": {},
   "outputs": [],
   "source": [
    "# 1. shorthand 'if' statement\n",
    "if age < 18: print(\"You are a minor.\")"
   ]
  },
  {
   "cell_type": "code",
   "execution_count": null,
   "id": "a5e23ee7",
   "metadata": {},
   "outputs": [],
   "source": [
    "# 2. shorthand 'if-else' statement\n",
    "print('You are a minor.') if age < 18 else print('You are an adult.')"
   ]
  },
  {
   "cell_type": "code",
   "execution_count": null,
   "id": "73067786",
   "metadata": {},
   "outputs": [],
   "source": [
    "# 3a. conditional 'if' statement using 'and'\n",
    "if name == 'Dartanion' and sex == 'male':\n",
    "    print('Dartanion is a male Python coder attempting to go to the club.')\n",
    "\n",
    "# 3b. conditional 'if' statement using 'or'\n",
    "if temperature_outside == 'hot' or temperature_outside == 'warm':\n",
    "    print(\"Don't wear a coat outside, it's too hot.\")\n",
    "else:\n",
    "    print(\"Wear a coat outside, it's freezing!\")"
   ]
  },
  {
   "cell_type": "code",
   "execution_count": null,
   "id": "205a472a",
   "metadata": {},
   "outputs": [],
   "source": [
    "# 4. negating a condition using the 'not' operator\n",
    "if not (name == 'Dartanion'):\n",
    "    print(\"Y'all can come in, the cool people can get in.\")\n",
    "else:\n",
    "    print('You have to wait in line.')"
   ]
  },
  {
   "cell_type": "code",
   "execution_count": null,
   "id": "dd3e90b4",
   "metadata": {},
   "outputs": [],
   "source": [
    "# 5. nested 'if' statement\n",
    "if not (name == 'Dartanion'):\n",
    "    print(\"Y'all can come in, the cool people can get in.\")\n",
    "else:\n",
    "    print('You have to wait in line.')\n",
    "\n",
    "if sex == 'male':\n",
    "    print(\"You don't get the free drinks wristband.\")\n",
    "else:\n",
    "    print(\"Welcome to the club! Here's your wristband.\")\n",
    "\n",
    "if age > 20:\n",
    "    print(\"You're old enough to drink.\")\n",
    "else:\n",
    "    print(\"Wait a minute. You're underage, give that wristband back!\")\n",
    "        "
   ]
  }
 ],
 "metadata": {
  "kernelspec": {
   "display_name": "Python 3 (ipykernel)",
   "language": "python",
   "name": "python3"
  },
  "language_info": {
   "codemirror_mode": {
    "name": "ipython",
    "version": 3
   },
   "file_extension": ".py",
   "mimetype": "text/x-python",
   "name": "python",
   "nbconvert_exporter": "python",
   "pygments_lexer": "ipython3",
   "version": "3.10.9"
  }
 },
 "nbformat": 4,
 "nbformat_minor": 5
}
