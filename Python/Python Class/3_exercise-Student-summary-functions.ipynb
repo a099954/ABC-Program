{
 "metadata": {
  "kernelspec": {
   "language": "python",
   "display_name": "Python 3",
   "name": "python3"
  },
  "language_info": {
    "pygments_lexer": "ipython3",
    "nbconvert_exporter": "python",
    "version": "3.7.12",
    "file_extension": ".py",
    "codemirror_mode": {
    "name": "ipython",
    "version": 3
   },
    "name": "python",
    "mimetype": "text/x-python"
  }
 },
 "nbformat": 4,
 "nbformat_minor": 5,
 "cells": [
  {
   "cell_type": "markdown",
   "source": [
    "# Exercises\n",
    "\n",
    "In this exercise, you'll practice using summary functions to manipulate and analyze the Wine Magazine dataset."
   ],
   "metadata": {}
  },
  {
   "cell_type": "code",
   "source": [
    "import pandas as pd\n",
    "pd.options.display.max_rows = 10\n",
    "reviews = pd.read_csv(\"winemag-data-130k-v2.csv\", index_col=0)\n",
    "print(\"Setup complete.\")"
   ],
   "metadata": {
    "trusted": true
   },
   "outputs": [],
   "execution_count": null
  },
  {
   "cell_type": "markdown",
   "source": [
    "## 1. Calculate the mean of the `points` column.\n",
    "\n",
    "Assign the result to the variable `mean_points`."
   ],
   "metadata": {}
  },
  {
   "cell_type": "code",
   "source": [
    "# Your code here"
   ],
   "metadata": {
    "trusted": true
   },
   "outputs": [],
   "execution_count": null
  },
  {
   "cell_type": "markdown",
   "source": [
    "## 2. Find the unique values in the `taster_name` column.\n",
    "\n",
    "Assign the result to the variable `unique_tasters`."
   ],
   "metadata": {}
  },
  {
   "cell_type": "code",
   "source": [
    "# Your code here"
   ],
   "metadata": {
    "trusted": true
   },
   "outputs": [],
   "execution_count": null
  },
  {
   "cell_type": "markdown",
   "source": [
    "## 3. Count the number of missing values in the `price` column.\n",
    "\n",
    "Assign the result to the variable `missing_prices`."
   ],
   "metadata": {}
  },
  {
   "cell_type": "code",
   "source": [
    "# Your code here"
   ],
   "metadata": {
    "trusted": true
   },
   "outputs": [],
   "execution_count": null
  },
  {
   "cell_type": "markdown",
   "source": [
    "## 4. Add 5 to every value in the `points` column.\n",
    "\n",
    "Assign the transformed column to the variable `points_plus_5`."
   ],
   "metadata": {}
  },
  {
   "cell_type": "code",
   "source": [
    "# Your code here"
   ],
   "metadata": {
    "trusted": true
   },
   "outputs": [],
   "execution_count": null
  },
  {
   "cell_type": "markdown",
   "source": [
    "## 5. Combine the `country` and `region_1` columns into a single string.\n",
    "\n",
    "The format should be \"<country> - <region_1>\". Assign the result to the variable `location`."
   ],
   "metadata": {}
  },
  {
   "cell_type": "code",
   "source": [
    "# Your code here"
   ],
   "metadata": {
    "trusted": true
   },
   "outputs": [],
   "execution_count": null
  }
 ]
}