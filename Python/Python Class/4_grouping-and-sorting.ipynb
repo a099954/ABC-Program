{
 "cells": [
  {
   "cell_type": "markdown",
   "id": "bc8d4bb4",
   "metadata": {},
   "source": [
    "# Grouping and Sorting\n",
    "\n",
    "In this tutorial, we will learn how to group data using the `groupby()` function and how to sort data using `sort_values()` and `sort_index()`. These operations are essential for analyzing and organizing data efficiently.\n",
    "\n",
    "We’ll also explain the syntax used in the code step by step, including when to use parentheses `()` and brackets `[]`."
   ]
  },
  {
   "cell_type": "code",
   "execution_count": null,
   "id": "dad3cfed",
   "metadata": {
    "trusted": true
   },
   "outputs": [],
   "source": [
    "import pandas as pd\n",
    "pd.options.display.max_rows = 10\n",
    "reviews = pd.read_csv(\"winemag-data-130k-v2.csv\", index_col=0)\n",
    "print(\"Setup complete.\")"
   ]
  },
  {
   "cell_type": "markdown",
   "id": "7f7a18b4",
   "metadata": {},
   "source": [
    "## Grouping Data\n",
    "\n",
    "The `groupby()` function allows us to group data based on one or more columns. Once the data is grouped, we can apply aggregation functions (like `count()`, `min()`, or `max()`) to summarize the data for each group.\n",
    "\n",
    "### Syntax Explanation:\n",
    "- **`reviews.groupby('points')`**: This groups the data based on the `points` column. Each unique value in the `points` column becomes a group.\n",
    "- **`['points']`**: After grouping, we select the `points` column to apply the aggregation function.\n",
    "- **`.count()`**: This counts how many rows belong to each group.\n",
    "\n",
    "Let’s count the number of reviews for each point value:"
   ]
  },
  {
   "cell_type": "code",
   "execution_count": null,
   "id": "8ea3d2fb",
   "metadata": {
    "trusted": true
   },
   "outputs": [],
   "source": [
    "reviews.groupby('points')['points'].count()"
   ]
  },
  {
   "cell_type": "markdown",
   "id": "142a39f0",
   "metadata": {},
   "source": [
    "Here’s what happens step by step:\n",
    "1. **`reviews.groupby('points')`**: Groups the data by the `points` column. For example, all rows where `points` is `90` are grouped together.\n",
    "2. **`['points']`**: Selects the `points` column from the grouped data.\n",
    "3. **`.count()`**: Counts how many rows are in each group.\n",
    "\n",
    "The result is a Series where the index is the unique values in `points`, and the values are the counts for each group."
   ]
  },
  {
   "cell_type": "markdown",
   "id": "7b91033a",
   "metadata": {},
   "source": [
    "### Finding Minimum Values\n",
    "\n",
    "We can calculate summary statistics for each group. For example, let’s find the minimum price for each point value.\n",
    "\n",
    "### Syntax Explanation:\n",
    "- **`reviews.groupby('points')`**: Groups the data by the `points` column.\n",
    "- **`['price']`**: Selects the `price` column from the grouped data.\n",
    "- **`.min()`**: Finds the minimum value in the `price` column for each group.\n",
    "\n",
    "Here’s the code:"
   ]
  },
  {
   "cell_type": "code",
   "execution_count": null,
   "id": "5ae5af8e",
   "metadata": {
    "trusted": true
   },
   "outputs": [],
   "source": [
    "reviews.groupby('points')['price'].min()"
   ]
  },
  {
   "cell_type": "markdown",
   "id": "3e45867f",
   "metadata": {},
   "source": [
    "Step-by-step explanation:\n",
    "1. **Grouping**: The data is grouped by `points`. Each unique value in `points` becomes a group.\n",
    "2. **Selecting**: The `price` column is selected from the grouped data.\n",
    "3. **Aggregation**: The `min()` function calculates the minimum price for each group.\n",
    "\n",
    "The result is a Series where the index is the unique values in `points`, and the values are the minimum prices for each group."
   ]
  },
  {
   "cell_type": "markdown",
   "id": "d6f91004",
   "metadata": {},
   "source": [
    "### Grouping by Multiple Columns\n",
    "\n",
    "We can group by multiple columns to perform more complex analyses. For example, let’s count the number of reviews for each combination of `country` and `province`.\n",
    "\n",
    "### Syntax Explanation:\n",
    "- **`reviews.groupby(['country', 'province'])`**: Groups the data by both `country` and `province`. Each unique combination of `country` and `province` becomes a group.\n",
    "- **`['description']`**: Selects the `description` column from the grouped data.\n",
    "- **`.count()`**: Counts how many rows are in each group.\n",
    "\n",
    "Here’s the code:"
   ]
  },
  {
   "cell_type": "code",
   "execution_count": null,
   "id": "9b4f2a90",
   "metadata": {
    "trusted": true
   },
   "outputs": [],
   "source": [
    "reviews.groupby(['country', 'province'])['description'].count()"
   ]
  },
  {
   "cell_type": "markdown",
   "id": "ae704ce8",
   "metadata": {},
   "source": [
    "Explanation:\n",
    "1. **Grouping**: The data is grouped by both `country` and `province`. For example, all rows where `country` is `Italy` and `province` is `Tuscany` are grouped together.\n",
    "2. **Selecting**: The `description` column is selected from the grouped data.\n",
    "3. **Aggregation**: The `count()` function calculates the number of rows for each group.\n",
    "\n",
    "The result is a Series where the index is a combination of `country` and `province`, and the values are the counts for each group."
   ]
  },
  {
   "cell_type": "markdown",
   "id": "ec23f46e",
   "metadata": {},
   "source": [
    "### Aggregating Multiple Functions\n",
    "\n",
    "The `agg()` function allows us to apply multiple aggregation functions at the same time. For example, we can calculate the number of reviews (`len`), the minimum price (`min`), and the maximum price (`max`) for each country.\n",
    "\n",
    "### Syntax Explanation:\n",
    "- **`reviews.groupby('country')['price']`**: Groups the data by `country` and selects the `price` column.\n",
    "- **`.agg([len, min, max])`**: Applies three functions (`len`, `min`, and `max`) to the `price` column for each group.\n",
    "\n",
    "Here’s the code:"
   ]
  },
  {
   "cell_type": "code",
   "execution_count": null,
   "id": "6b558e1f",
   "metadata": {
    "trusted": true
   },
   "outputs": [],
   "source": [
    "reviews.groupby('country')['price'].agg([len, min, max])"
   ]
  },
  {
   "cell_type": "markdown",
   "id": "a53ccff4",
   "metadata": {},
   "source": [
    "Explanation:\n",
    "1. **Grouping**: The data is grouped by `country`. Each unique value in `country` becomes a group.\n",
    "2. **Selecting**: The `price` column is selected from the grouped data.\n",
    "3. **Aggregation**: The `agg()` function applies multiple aggregation functions (`len`, `min`, and `max`) to the `price` column for each group.\n",
    "\n",
    "The result is a DataFrame where the index is `country`, and the columns are the results of the aggregation functions."
   ]
  },
  {
   "cell_type": "markdown",
   "id": "1b7a5500",
   "metadata": {},
   "source": [
    "## Sorting Data\n",
    "\n",
    "The `sort_values()` function allows us to sort data based on a specific column. For example, sorting countries by the number of reviews:\n",
    "\n",
    "### Syntax Explanation:\n",
    "- **`countries_reviewed.sort_values()`**: Sorts the data in ascending order based on the column values.\n",
    "- **`ascending=False`**: Sorts the data in descending order.\n",
    "\n",
    "Here’s the code:"
   ]
  },
  {
   "cell_type": "code",
   "execution_count": null,
   "id": "5677cbb2",
   "metadata": {
    "trusted": true
   },
   "outputs": [],
   "source": [
    "countries_reviewed = reviews.groupby('country')['description'].count()\n",
    "countries_reviewed.sort_values(ascending=False)"
   ]
  }
 ],
 "metadata": {
  "kernelspec": {
   "display_name": "Python 3",
   "language": "python",
   "name": "python3"
  },
  "language_info": {
   "codemirror_mode": {
    "name": "ipython",
    "version": 3
   },
   "file_extension": ".py",
   "mimetype": "text/x-python",
   "name": "python",
   "nbconvert_exporter": "python",
   "pygments_lexer": "ipython3",
   "version": "3.7.12"
  }
 },
 "nbformat": 4,
 "nbformat_minor": 5
}
