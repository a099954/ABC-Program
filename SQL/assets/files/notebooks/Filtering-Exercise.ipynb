{
    "metadata": {
        "kernelspec": {
            "name": "SQL",
            "display_name": "SQL",
            "language": "sql"
        },
        "language_info": {
            "name": "sql",
            "version": ""
        }
    },
    "nbformat_minor": 2,
    "nbformat": 4,
    "cells": [
        {
            "cell_type": "code",
            "source": [
                "USE WideWorldImporters"
            ],
            "metadata": {
                "azdata_cell_guid": "4f2aa2c8-8d99-4124-a0aa-6d55c94fd22a"
            },
            "outputs": [
                {
                    "output_type": "display_data",
                    "data": {
                        "text/html": "Commands completed successfully."
                    },
                    "metadata": {}
                },
                {
                    "output_type": "display_data",
                    "data": {
                        "text/html": "Total execution time: 00:00:00.002"
                    },
                    "metadata": {}
                }
            ],
            "execution_count": 18
        },
        {
            "cell_type": "markdown",
            "source": [
                "# Filtering Exercises\r\n",
                "\r\n",
                "In this exercise, you will be taking all of the knowledge from the Filtering lesson and applying it by writing queries to answer questions about the data.  For this exercise, we are using the WideWorldImporters database.  Answer these questions with a query using the keywords in the Filtering lesson."
            ],
            "metadata": {
                "azdata_cell_guid": "6edfbf54-96f4-4211-83e9-6408247e6d10",
                "language": "markdown"
            }
        },
        {
            "cell_type": "markdown",
            "source": [
                "What colors start with Dark?"
            ],
            "metadata": {
                "azdata_cell_guid": "5ddcdf66-44af-424d-9168-babd61dae324"
            }
        },
        {
            "cell_type": "code",
            "source": [
                "-- What colors start with Dark?\r\n",
                "SELECT ColorID, ColorName \r\n",
                "FROM Warehouse.Colors\r\n",
                "WHERE ColorName LIKE 'Dark%'"
            ],
            "metadata": {
                "azdata_cell_guid": "580910d3-dcab-48e7-b25f-d10aabf16971"
            },
            "outputs": [
                {
                    "output_type": "display_data",
                    "data": {
                        "text/html": "(2 rows affected)"
                    },
                    "metadata": {}
                },
                {
                    "output_type": "display_data",
                    "data": {
                        "text/html": "Total execution time: 00:00:00.022"
                    },
                    "metadata": {}
                },
                {
                    "output_type": "execute_result",
                    "execution_count": 35,
                    "data": {
                        "application/vnd.dataresource+json": {
                            "schema": {
                                "fields": [
                                    {
                                        "name": "ColorID"
                                    },
                                    {
                                        "name": "ColorName"
                                    }
                                ]
                            },
                            "data": [
                                {
                                    "0": "8",
                                    "1": "Dark Brown"
                                },
                                {
                                    "0": "9",
                                    "1": "Dark Green"
                                }
                            ]
                        },
                        "text/html": "<table><tr><th>ColorID</th><th>ColorName</th></tr><tr><td>8</td><td>Dark Brown</td></tr><tr><td>9</td><td>Dark Green</td></tr></table>"
                    },
                    "metadata": {
                        "resultSet": {
                            "id": 0,
                            "batchId": 0,
                            "rowCount": 2,
                            "complete": true,
                            "columnInfo": [
                                {
                                    "isBytes": false,
                                    "isChars": false,
                                    "isSqlVariant": false,
                                    "isUdt": false,
                                    "isXml": false,
                                    "isJson": false,
                                    "sqlDbType": 8,
                                    "isHierarchyId": false,
                                    "isSqlXmlType": false,
                                    "isUnknownType": false,
                                    "isUpdatable": true,
                                    "allowDBNull": false,
                                    "baseCatalogName": null,
                                    "baseColumnName": null,
                                    "baseSchemaName": null,
                                    "baseServerName": null,
                                    "baseTableName": null,
                                    "columnName": "ColorID",
                                    "columnOrdinal": 0,
                                    "columnSize": 4,
                                    "isAliased": null,
                                    "isAutoIncrement": false,
                                    "isExpression": null,
                                    "isHidden": null,
                                    "isIdentity": false,
                                    "isKey": null,
                                    "isLong": false,
                                    "isReadOnly": false,
                                    "isUnique": false,
                                    "numericPrecision": 10,
                                    "numericScale": 255,
                                    "udtAssemblyQualifiedName": null,
                                    "dataType": "System.Int32, System.Private.CoreLib, Version=4.0.0.0, Culture=neutral, PublicKeyToken=7cec85d7bea7798e",
                                    "dataTypeName": "int"
                                },
                                {
                                    "isBytes": false,
                                    "isChars": true,
                                    "isSqlVariant": false,
                                    "isUdt": false,
                                    "isXml": false,
                                    "isJson": false,
                                    "sqlDbType": 12,
                                    "isHierarchyId": false,
                                    "isSqlXmlType": false,
                                    "isUnknownType": false,
                                    "isUpdatable": true,
                                    "allowDBNull": false,
                                    "baseCatalogName": null,
                                    "baseColumnName": null,
                                    "baseSchemaName": null,
                                    "baseServerName": null,
                                    "baseTableName": null,
                                    "columnName": "ColorName",
                                    "columnOrdinal": 1,
                                    "columnSize": 20,
                                    "isAliased": null,
                                    "isAutoIncrement": false,
                                    "isExpression": null,
                                    "isHidden": null,
                                    "isIdentity": false,
                                    "isKey": null,
                                    "isLong": false,
                                    "isReadOnly": false,
                                    "isUnique": false,
                                    "numericPrecision": 255,
                                    "numericScale": 255,
                                    "udtAssemblyQualifiedName": null,
                                    "dataType": "System.String, System.Private.CoreLib, Version=4.0.0.0, Culture=neutral, PublicKeyToken=7cec85d7bea7798e",
                                    "dataTypeName": "nvarchar"
                                }
                            ],
                            "specialAction": {
                                "none": true,
                                "expectYukonXMLShowPlan": false
                            }
                        }
                    }
                }
            ],
            "execution_count": 35
        },
        {
            "cell_type": "markdown",
            "source": [
                "Which colors are 5-lettered colors?"
            ],
            "metadata": {
                "azdata_cell_guid": "30e07567-61b4-43ff-90c3-442898078ec3"
            }
        },
        {
            "cell_type": "code",
            "source": [
                "-- Which colors are 5-lettered colors?\r\n",
                "SELECT ColorName\r\n",
                "FROM Warehouse.Colors\r\n",
                "WHERE LEN(ColorName) = 5"
            ],
            "metadata": {
                "azdata_cell_guid": "a2c2ede7-3535-4e4f-be7e-5e63cd153347"
            },
            "outputs": [
                {
                    "output_type": "display_data",
                    "data": {
                        "text/html": "(9 rows affected)"
                    },
                    "metadata": {}
                },
                {
                    "output_type": "display_data",
                    "data": {
                        "text/html": "Total execution time: 00:00:00.026"
                    },
                    "metadata": {}
                },
                {
                    "output_type": "execute_result",
                    "execution_count": 36,
                    "data": {
                        "application/vnd.dataresource+json": {
                            "schema": {
                                "fields": [
                                    {
                                        "name": "ColorName"
                                    }
                                ]
                            },
                            "data": [
                                {
                                    "0": "Azure"
                                },
                                {
                                    "0": "Beige"
                                },
                                {
                                    "0": "Black"
                                },
                                {
                                    "0": "Ivory"
                                },
                                {
                                    "0": "Khaki"
                                },
                                {
                                    "0": "Mauve"
                                },
                                {
                                    "0": "Olive"
                                },
                                {
                                    "0": "Wheat"
                                },
                                {
                                    "0": "White"
                                }
                            ]
                        },
                        "text/html": "<table><tr><th>ColorName</th></tr><tr><td>Azure</td></tr><tr><td>Beige</td></tr><tr><td>Black</td></tr><tr><td>Ivory</td></tr><tr><td>Khaki</td></tr><tr><td>Mauve</td></tr><tr><td>Olive</td></tr><tr><td>Wheat</td></tr><tr><td>White</td></tr></table>"
                    },
                    "metadata": {
                        "resultSet": {
                            "id": 0,
                            "batchId": 0,
                            "rowCount": 9,
                            "complete": true,
                            "columnInfo": [
                                {
                                    "isBytes": false,
                                    "isChars": true,
                                    "isSqlVariant": false,
                                    "isUdt": false,
                                    "isXml": false,
                                    "isJson": false,
                                    "sqlDbType": 12,
                                    "isHierarchyId": false,
                                    "isSqlXmlType": false,
                                    "isUnknownType": false,
                                    "isUpdatable": true,
                                    "allowDBNull": false,
                                    "baseCatalogName": null,
                                    "baseColumnName": null,
                                    "baseSchemaName": null,
                                    "baseServerName": null,
                                    "baseTableName": null,
                                    "columnName": "ColorName",
                                    "columnOrdinal": 0,
                                    "columnSize": 20,
                                    "isAliased": null,
                                    "isAutoIncrement": false,
                                    "isExpression": null,
                                    "isHidden": null,
                                    "isIdentity": false,
                                    "isKey": null,
                                    "isLong": false,
                                    "isReadOnly": false,
                                    "isUnique": false,
                                    "numericPrecision": 255,
                                    "numericScale": 255,
                                    "udtAssemblyQualifiedName": null,
                                    "dataType": "System.String, System.Private.CoreLib, Version=4.0.0.0, Culture=neutral, PublicKeyToken=7cec85d7bea7798e",
                                    "dataTypeName": "nvarchar"
                                }
                            ],
                            "specialAction": {
                                "none": true,
                                "expectYukonXMLShowPlan": false
                            }
                        }
                    }
                }
            ],
            "execution_count": 36
        },
        {
            "cell_type": "markdown",
            "source": [
                "What are the color names for the following ColorIDs - 1,11, 15, and 36? Use the OR keyword."
            ],
            "metadata": {
                "azdata_cell_guid": "c6de8796-e37c-4de4-8a63-57fb4860c973"
            }
        },
        {
            "cell_type": "code",
            "source": [
                "-- What are the color names for the following ColorIDs - 1,11, 15, and 36? Use the OR keyword.\r\n",
                "SELECT ColorName, ColorID \r\n",
                "FROM Warehouse.Colors \r\n",
                "WHERE ColorID = 1 OR ColorID = 11 OR ColorID=15 OR ColorID=36"
            ],
            "metadata": {
                "azdata_cell_guid": "8d3aad61-5b93-4fba-8d4b-595f12b9ae84"
            },
            "outputs": [
                {
                    "output_type": "display_data",
                    "data": {
                        "text/html": "(4 rows affected)"
                    },
                    "metadata": {}
                },
                {
                    "output_type": "display_data",
                    "data": {
                        "text/html": "Total execution time: 00:00:00.013"
                    },
                    "metadata": {}
                },
                {
                    "output_type": "execute_result",
                    "execution_count": 40,
                    "data": {
                        "application/vnd.dataresource+json": {
                            "schema": {
                                "fields": [
                                    {
                                        "name": "ColorName"
                                    },
                                    {
                                        "name": "ColorID"
                                    }
                                ]
                            },
                            "data": [
                                {
                                    "0": "Azure",
                                    "1": "1"
                                },
                                {
                                    "0": "Gold",
                                    "1": "11"
                                },
                                {
                                    "0": "Ivory",
                                    "1": "15"
                                },
                                {
                                    "0": "Yellow",
                                    "1": "36"
                                }
                            ]
                        },
                        "text/html": "<table><tr><th>ColorName</th><th>ColorID</th></tr><tr><td>Azure</td><td>1</td></tr><tr><td>Gold</td><td>11</td></tr><tr><td>Ivory</td><td>15</td></tr><tr><td>Yellow</td><td>36</td></tr></table>"
                    },
                    "metadata": {
                        "resultSet": {
                            "id": 0,
                            "batchId": 0,
                            "rowCount": 4,
                            "complete": true,
                            "columnInfo": [
                                {
                                    "isBytes": false,
                                    "isChars": true,
                                    "isSqlVariant": false,
                                    "isUdt": false,
                                    "isXml": false,
                                    "isJson": false,
                                    "sqlDbType": 12,
                                    "isHierarchyId": false,
                                    "isSqlXmlType": false,
                                    "isUnknownType": false,
                                    "isUpdatable": true,
                                    "allowDBNull": false,
                                    "baseCatalogName": null,
                                    "baseColumnName": null,
                                    "baseSchemaName": null,
                                    "baseServerName": null,
                                    "baseTableName": null,
                                    "columnName": "ColorName",
                                    "columnOrdinal": 0,
                                    "columnSize": 20,
                                    "isAliased": null,
                                    "isAutoIncrement": false,
                                    "isExpression": null,
                                    "isHidden": null,
                                    "isIdentity": false,
                                    "isKey": null,
                                    "isLong": false,
                                    "isReadOnly": false,
                                    "isUnique": false,
                                    "numericPrecision": 255,
                                    "numericScale": 255,
                                    "udtAssemblyQualifiedName": null,
                                    "dataType": "System.String, System.Private.CoreLib, Version=4.0.0.0, Culture=neutral, PublicKeyToken=7cec85d7bea7798e",
                                    "dataTypeName": "nvarchar"
                                },
                                {
                                    "isBytes": false,
                                    "isChars": false,
                                    "isSqlVariant": false,
                                    "isUdt": false,
                                    "isXml": false,
                                    "isJson": false,
                                    "sqlDbType": 8,
                                    "isHierarchyId": false,
                                    "isSqlXmlType": false,
                                    "isUnknownType": false,
                                    "isUpdatable": true,
                                    "allowDBNull": false,
                                    "baseCatalogName": null,
                                    "baseColumnName": null,
                                    "baseSchemaName": null,
                                    "baseServerName": null,
                                    "baseTableName": null,
                                    "columnName": "ColorID",
                                    "columnOrdinal": 1,
                                    "columnSize": 4,
                                    "isAliased": null,
                                    "isAutoIncrement": false,
                                    "isExpression": null,
                                    "isHidden": null,
                                    "isIdentity": false,
                                    "isKey": null,
                                    "isLong": false,
                                    "isReadOnly": false,
                                    "isUnique": false,
                                    "numericPrecision": 10,
                                    "numericScale": 255,
                                    "udtAssemblyQualifiedName": null,
                                    "dataType": "System.Int32, System.Private.CoreLib, Version=4.0.0.0, Culture=neutral, PublicKeyToken=7cec85d7bea7798e",
                                    "dataTypeName": "int"
                                }
                            ],
                            "specialAction": {
                                "none": true,
                                "expectYukonXMLShowPlan": false
                            }
                        }
                    }
                }
            ],
            "execution_count": 40
        },
        {
            "cell_type": "markdown",
            "source": [
                "What are the color names for the following ColorIDs - 1,11, 15, and 36? Use the IN keyword."
            ],
            "metadata": {
                "azdata_cell_guid": "a0c7fbbc-8091-441e-ad86-3779776f63e8"
            }
        },
        {
            "cell_type": "code",
            "source": [
                "-- What are the color names for the following ColorIDs - 1,11, 15, and 36? Use the IN keyword.\r\n",
                "SELECT ColorName, ColorID \r\n",
                "FROM Warehouse.Colors \r\n",
                "WHERE ColorID IN (1, 11, 15, 36)"
            ],
            "metadata": {
                "azdata_cell_guid": "fbdaeecd-9900-4c2c-8ad1-b013008cf26d"
            },
            "outputs": [
                {
                    "output_type": "display_data",
                    "data": {
                        "text/html": "(4 rows affected)"
                    },
                    "metadata": {}
                },
                {
                    "output_type": "display_data",
                    "data": {
                        "text/html": "Total execution time: 00:00:00.007"
                    },
                    "metadata": {}
                },
                {
                    "output_type": "execute_result",
                    "execution_count": 41,
                    "data": {
                        "application/vnd.dataresource+json": {
                            "schema": {
                                "fields": [
                                    {
                                        "name": "ColorName"
                                    },
                                    {
                                        "name": "ColorID"
                                    }
                                ]
                            },
                            "data": [
                                {
                                    "0": "Azure",
                                    "1": "1"
                                },
                                {
                                    "0": "Gold",
                                    "1": "11"
                                },
                                {
                                    "0": "Ivory",
                                    "1": "15"
                                },
                                {
                                    "0": "Yellow",
                                    "1": "36"
                                }
                            ]
                        },
                        "text/html": "<table><tr><th>ColorName</th><th>ColorID</th></tr><tr><td>Azure</td><td>1</td></tr><tr><td>Gold</td><td>11</td></tr><tr><td>Ivory</td><td>15</td></tr><tr><td>Yellow</td><td>36</td></tr></table>"
                    },
                    "metadata": {
                        "resultSet": {
                            "id": 0,
                            "batchId": 0,
                            "rowCount": 4,
                            "complete": true,
                            "columnInfo": [
                                {
                                    "isBytes": false,
                                    "isChars": true,
                                    "isSqlVariant": false,
                                    "isUdt": false,
                                    "isXml": false,
                                    "isJson": false,
                                    "sqlDbType": 12,
                                    "isHierarchyId": false,
                                    "isSqlXmlType": false,
                                    "isUnknownType": false,
                                    "isUpdatable": true,
                                    "allowDBNull": false,
                                    "baseCatalogName": null,
                                    "baseColumnName": null,
                                    "baseSchemaName": null,
                                    "baseServerName": null,
                                    "baseTableName": null,
                                    "columnName": "ColorName",
                                    "columnOrdinal": 0,
                                    "columnSize": 20,
                                    "isAliased": null,
                                    "isAutoIncrement": false,
                                    "isExpression": null,
                                    "isHidden": null,
                                    "isIdentity": false,
                                    "isKey": null,
                                    "isLong": false,
                                    "isReadOnly": false,
                                    "isUnique": false,
                                    "numericPrecision": 255,
                                    "numericScale": 255,
                                    "udtAssemblyQualifiedName": null,
                                    "dataType": "System.String, System.Private.CoreLib, Version=4.0.0.0, Culture=neutral, PublicKeyToken=7cec85d7bea7798e",
                                    "dataTypeName": "nvarchar"
                                },
                                {
                                    "isBytes": false,
                                    "isChars": false,
                                    "isSqlVariant": false,
                                    "isUdt": false,
                                    "isXml": false,
                                    "isJson": false,
                                    "sqlDbType": 8,
                                    "isHierarchyId": false,
                                    "isSqlXmlType": false,
                                    "isUnknownType": false,
                                    "isUpdatable": true,
                                    "allowDBNull": false,
                                    "baseCatalogName": null,
                                    "baseColumnName": null,
                                    "baseSchemaName": null,
                                    "baseServerName": null,
                                    "baseTableName": null,
                                    "columnName": "ColorID",
                                    "columnOrdinal": 1,
                                    "columnSize": 4,
                                    "isAliased": null,
                                    "isAutoIncrement": false,
                                    "isExpression": null,
                                    "isHidden": null,
                                    "isIdentity": false,
                                    "isKey": null,
                                    "isLong": false,
                                    "isReadOnly": false,
                                    "isUnique": false,
                                    "numericPrecision": 10,
                                    "numericScale": 255,
                                    "udtAssemblyQualifiedName": null,
                                    "dataType": "System.Int32, System.Private.CoreLib, Version=4.0.0.0, Culture=neutral, PublicKeyToken=7cec85d7bea7798e",
                                    "dataTypeName": "int"
                                }
                            ],
                            "specialAction": {
                                "none": true,
                                "expectYukonXMLShowPlan": false
                            }
                        }
                    }
                }
            ],
            "execution_count": 41
        },
        {
            "cell_type": "markdown",
            "source": [
                "Which customers have the PostalCityId of 242?"
            ],
            "metadata": {
                "azdata_cell_guid": "5bdf3fab-63b5-492e-b337-c81dbe2b55a1"
            }
        },
        {
            "cell_type": "code",
            "source": [
                "-- Which customers have the PostalCityId of 242?\r\n",
                "SELECT CustomerName\r\n",
                "FROM Sales.Customers\r\n",
                "WHERE PostalCityId = 242"
            ],
            "metadata": {
                "azdata_cell_guid": "c903df98-44a3-48ed-87b2-2da93f34a2d8"
            },
            "outputs": [
                {
                    "output_type": "display_data",
                    "data": {
                        "text/html": "(2 rows affected)"
                    },
                    "metadata": {}
                },
                {
                    "output_type": "display_data",
                    "data": {
                        "text/html": "Total execution time: 00:00:00.033"
                    },
                    "metadata": {}
                },
                {
                    "output_type": "execute_result",
                    "execution_count": 20,
                    "data": {
                        "application/vnd.dataresource+json": {
                            "schema": {
                                "fields": [
                                    {
                                        "name": "CustomerName"
                                    }
                                ]
                            },
                            "data": [
                                {
                                    "0": "Wingtip Toys (Akhiok, AK)"
                                },
                                {
                                    "0": "Caterina Pinto"
                                }
                            ]
                        },
                        "text/html": "<table><tr><th>CustomerName</th></tr><tr><td>Wingtip Toys (Akhiok, AK)</td></tr><tr><td>Caterina Pinto</td></tr></table>"
                    },
                    "metadata": {
                        "resultSet": {
                            "id": 0,
                            "batchId": 0,
                            "rowCount": 2,
                            "complete": true,
                            "columnInfo": [
                                {
                                    "isBytes": false,
                                    "isChars": true,
                                    "isSqlVariant": false,
                                    "isUdt": false,
                                    "isXml": false,
                                    "isJson": false,
                                    "sqlDbType": 12,
                                    "isHierarchyId": false,
                                    "isSqlXmlType": false,
                                    "isUnknownType": false,
                                    "isUpdatable": true,
                                    "allowDBNull": false,
                                    "baseCatalogName": null,
                                    "baseColumnName": null,
                                    "baseSchemaName": null,
                                    "baseServerName": null,
                                    "baseTableName": null,
                                    "columnName": "CustomerName",
                                    "columnOrdinal": 0,
                                    "columnSize": 100,
                                    "isAliased": null,
                                    "isAutoIncrement": false,
                                    "isExpression": null,
                                    "isHidden": null,
                                    "isIdentity": false,
                                    "isKey": null,
                                    "isLong": false,
                                    "isReadOnly": false,
                                    "isUnique": false,
                                    "numericPrecision": 255,
                                    "numericScale": 255,
                                    "udtAssemblyQualifiedName": null,
                                    "dataType": "System.String, System.Private.CoreLib, Version=4.0.0.0, Culture=neutral, PublicKeyToken=7cec85d7bea7798e",
                                    "dataTypeName": "nvarchar"
                                }
                            ],
                            "specialAction": {
                                "none": true,
                                "expectYukonXMLShowPlan": false
                            }
                        }
                    }
                }
            ],
            "execution_count": 20
        },
        {
            "cell_type": "markdown",
            "source": [
                "Are there any customers with the delivery postal code of 90210?"
            ],
            "metadata": {
                "azdata_cell_guid": "bc03e7db-04d1-4054-ac33-599acf3f2717"
            }
        },
        {
            "cell_type": "code",
            "source": [
                "-- Are there any customers with the delivery postal code of 90210?\r\n",
                "SELECT CustomerName FROM Sales.Customers WHERE DeliveryPostalCode = '90210'"
            ],
            "metadata": {
                "azdata_cell_guid": "dd80bb96-3150-4894-a2b4-323a5c5c8abb"
            },
            "outputs": [
                {
                    "output_type": "display_data",
                    "data": {
                        "text/html": "(0 rows affected)"
                    },
                    "metadata": {}
                },
                {
                    "output_type": "display_data",
                    "data": {
                        "text/html": "Total execution time: 00:00:00.030"
                    },
                    "metadata": {}
                },
                {
                    "output_type": "execute_result",
                    "execution_count": 26,
                    "data": {
                        "application/vnd.dataresource+json": {
                            "schema": {
                                "fields": [
                                    {
                                        "name": "CustomerName"
                                    }
                                ]
                            },
                            "data": []
                        },
                        "text/html": "<table><tr><th>CustomerName</th></tr></table>"
                    },
                    "metadata": {
                        "resultSet": {
                            "id": 0,
                            "batchId": 0,
                            "rowCount": 0,
                            "complete": false,
                            "columnInfo": [
                                {
                                    "isBytes": false,
                                    "isChars": true,
                                    "isSqlVariant": false,
                                    "isUdt": false,
                                    "isXml": false,
                                    "isJson": false,
                                    "sqlDbType": 12,
                                    "isHierarchyId": false,
                                    "isSqlXmlType": false,
                                    "isUnknownType": false,
                                    "isUpdatable": true,
                                    "allowDBNull": false,
                                    "baseCatalogName": null,
                                    "baseColumnName": null,
                                    "baseSchemaName": null,
                                    "baseServerName": null,
                                    "baseTableName": null,
                                    "columnName": "CustomerName",
                                    "columnOrdinal": 0,
                                    "columnSize": 100,
                                    "isAliased": null,
                                    "isAutoIncrement": false,
                                    "isExpression": null,
                                    "isHidden": null,
                                    "isIdentity": false,
                                    "isKey": null,
                                    "isLong": false,
                                    "isReadOnly": false,
                                    "isUnique": false,
                                    "numericPrecision": 255,
                                    "numericScale": 255,
                                    "udtAssemblyQualifiedName": null,
                                    "dataType": "System.String, System.Private.CoreLib, Version=4.0.0.0, Culture=neutral, PublicKeyToken=7cec85d7bea7798e",
                                    "dataTypeName": "nvarchar"
                                }
                            ],
                            "specialAction": null
                        }
                    }
                }
            ],
            "execution_count": 26
        },
        {
            "cell_type": "markdown",
            "source": [
                "Which customers start with 'An'?"
            ],
            "metadata": {
                "azdata_cell_guid": "352628f5-ac74-4749-b6d5-14ae1ca18132"
            }
        },
        {
            "cell_type": "code",
            "source": [
                "-- Which customers start with 'An'?\r\n",
                "SELECT CustomerName FROM Sales.Customers WHERE CustomerName LIKE 'An%'"
            ],
            "metadata": {
                "azdata_cell_guid": "1cbc093a-177c-4352-98a6-64e4fd92639a"
            },
            "outputs": [
                {
                    "output_type": "display_data",
                    "data": {
                        "text/html": "(9 rows affected)"
                    },
                    "metadata": {}
                },
                {
                    "output_type": "display_data",
                    "data": {
                        "text/html": "Total execution time: 00:00:00.060"
                    },
                    "metadata": {}
                },
                {
                    "output_type": "execute_result",
                    "execution_count": 22,
                    "data": {
                        "application/vnd.dataresource+json": {
                            "schema": {
                                "fields": [
                                    {
                                        "name": "CustomerName"
                                    }
                                ]
                            },
                            "data": [
                                {
                                    "0": "Anca Gogean"
                                },
                                {
                                    "0": "Ana Florea"
                                },
                                {
                                    "0": "Andris Saulitis"
                                },
                                {
                                    "0": "Anil Sarkar"
                                },
                                {
                                    "0": "Annette  Hetu"
                                },
                                {
                                    "0": "Anna Mazzanti"
                                },
                                {
                                    "0": "Anna Gyarmathi"
                                },
                                {
                                    "0": "Anand Mudaliyar"
                                },
                                {
                                    "0": "Anindya Ghatak"
                                }
                            ]
                        },
                        "text/html": "<table><tr><th>CustomerName</th></tr><tr><td>Anca Gogean</td></tr><tr><td>Ana Florea</td></tr><tr><td>Andris Saulitis</td></tr><tr><td>Anil Sarkar</td></tr><tr><td>Annette  Hetu</td></tr><tr><td>Anna Mazzanti</td></tr><tr><td>Anna Gyarmathi</td></tr><tr><td>Anand Mudaliyar</td></tr><tr><td>Anindya Ghatak</td></tr></table>"
                    },
                    "metadata": {
                        "resultSet": {
                            "id": 0,
                            "batchId": 0,
                            "rowCount": 9,
                            "complete": true,
                            "columnInfo": [
                                {
                                    "isBytes": false,
                                    "isChars": true,
                                    "isSqlVariant": false,
                                    "isUdt": false,
                                    "isXml": false,
                                    "isJson": false,
                                    "sqlDbType": 12,
                                    "isHierarchyId": false,
                                    "isSqlXmlType": false,
                                    "isUnknownType": false,
                                    "isUpdatable": true,
                                    "allowDBNull": false,
                                    "baseCatalogName": null,
                                    "baseColumnName": null,
                                    "baseSchemaName": null,
                                    "baseServerName": null,
                                    "baseTableName": null,
                                    "columnName": "CustomerName",
                                    "columnOrdinal": 0,
                                    "columnSize": 100,
                                    "isAliased": null,
                                    "isAutoIncrement": false,
                                    "isExpression": null,
                                    "isHidden": null,
                                    "isIdentity": false,
                                    "isKey": null,
                                    "isLong": false,
                                    "isReadOnly": false,
                                    "isUnique": false,
                                    "numericPrecision": 255,
                                    "numericScale": 255,
                                    "udtAssemblyQualifiedName": null,
                                    "dataType": "System.String, System.Private.CoreLib, Version=4.0.0.0, Culture=neutral, PublicKeyToken=7cec85d7bea7798e",
                                    "dataTypeName": "nvarchar"
                                }
                            ],
                            "specialAction": {
                                "none": true,
                                "expectYukonXMLShowPlan": false
                            }
                        }
                    }
                }
            ],
            "execution_count": 22
        },
        {
            "cell_type": "code",
            "source": [
                "-- Which customers start with 'An'?\r\n",
                "SELECT CustomerName FROM Sales.Customers WHERE CustomerName BETWEEN 'An' AND 'Ao'"
            ],
            "metadata": {
                "azdata_cell_guid": "0c5577d2-735b-4028-a132-a09eefbca048"
            },
            "outputs": [
                {
                    "output_type": "display_data",
                    "data": {
                        "text/html": "(9 rows affected)"
                    },
                    "metadata": {}
                },
                {
                    "output_type": "display_data",
                    "data": {
                        "text/html": "Total execution time: 00:00:00.034"
                    },
                    "metadata": {}
                },
                {
                    "output_type": "execute_result",
                    "execution_count": 51,
                    "data": {
                        "application/vnd.dataresource+json": {
                            "schema": {
                                "fields": [
                                    {
                                        "name": "CustomerName"
                                    }
                                ]
                            },
                            "data": [
                                {
                                    "0": "Ana Florea"
                                },
                                {
                                    "0": "Anand Mudaliyar"
                                },
                                {
                                    "0": "Anca Gogean"
                                },
                                {
                                    "0": "Andris Saulitis"
                                },
                                {
                                    "0": "Anil Sarkar"
                                },
                                {
                                    "0": "Anindya Ghatak"
                                },
                                {
                                    "0": "Anna Gyarmathi"
                                },
                                {
                                    "0": "Anna Mazzanti"
                                },
                                {
                                    "0": "Annette  Hetu"
                                }
                            ]
                        },
                        "text/html": "<table><tr><th>CustomerName</th></tr><tr><td>Ana Florea</td></tr><tr><td>Anand Mudaliyar</td></tr><tr><td>Anca Gogean</td></tr><tr><td>Andris Saulitis</td></tr><tr><td>Anil Sarkar</td></tr><tr><td>Anindya Ghatak</td></tr><tr><td>Anna Gyarmathi</td></tr><tr><td>Anna Mazzanti</td></tr><tr><td>Annette  Hetu</td></tr></table>"
                    },
                    "metadata": {
                        "resultSet": {
                            "id": 0,
                            "batchId": 0,
                            "rowCount": 9,
                            "complete": true,
                            "columnInfo": [
                                {
                                    "isBytes": false,
                                    "isChars": true,
                                    "isSqlVariant": false,
                                    "isUdt": false,
                                    "isXml": false,
                                    "isJson": false,
                                    "sqlDbType": 12,
                                    "isHierarchyId": false,
                                    "isSqlXmlType": false,
                                    "isUnknownType": false,
                                    "isUpdatable": true,
                                    "allowDBNull": false,
                                    "baseCatalogName": null,
                                    "baseColumnName": null,
                                    "baseSchemaName": null,
                                    "baseServerName": null,
                                    "baseTableName": null,
                                    "columnName": "CustomerName",
                                    "columnOrdinal": 0,
                                    "columnSize": 100,
                                    "isAliased": null,
                                    "isAutoIncrement": false,
                                    "isExpression": null,
                                    "isHidden": null,
                                    "isIdentity": false,
                                    "isKey": null,
                                    "isLong": false,
                                    "isReadOnly": false,
                                    "isUnique": false,
                                    "numericPrecision": 255,
                                    "numericScale": 255,
                                    "udtAssemblyQualifiedName": null,
                                    "dataType": "System.String, System.Private.CoreLib, Version=4.0.0.0, Culture=neutral, PublicKeyToken=7cec85d7bea7798e",
                                    "dataTypeName": "nvarchar"
                                }
                            ],
                            "specialAction": {
                                "none": true,
                                "expectYukonXMLShowPlan": false
                            }
                        }
                    }
                }
            ],
            "execution_count": 51
        },
        {
            "cell_type": "markdown",
            "source": [
                "Which customers have phone numbers that follow the pattern of 555-?"
            ],
            "metadata": {
                "azdata_cell_guid": "1cd6dad2-9bc7-4379-9f67-0db72e8f1565"
            }
        },
        {
            "cell_type": "code",
            "source": [
                "-- Which customers have phone numbers that follow the pattern of 555-?\r\n",
                "SELECT CustomerName FROM Sales.Customers WHERE PhoneNumber LIKE '%555-%'"
            ],
            "metadata": {
                "azdata_cell_guid": "d14c43d5-5f5a-4b71-8c56-330f01083503"
            },
            "outputs": [
                {
                    "output_type": "display_data",
                    "data": {
                        "text/html": "(663 rows affected)"
                    },
                    "metadata": {}
                },
                {
                    "output_type": "display_data",
                    "data": {
                        "text/html": "Total execution time: 00:00:00.047"
                    },
                    "metadata": {}
                },
                {
                    "output_type": "execute_result",
                    "execution_count": 24,
                    "data": {
                        "application/vnd.dataresource+json": {
                            "schema": {
                                "fields": [
                                    {
                                        "name": "CustomerName"
                                    }
                                ]
                            },
                            "data": [
                                {
                                    "0": "Tailspin Toys (Head Office)"
                                },
                                {
                                    "0": "Tailspin Toys (Sylvanite, MT)"
                                },
                                {
                                    "0": "Tailspin Toys (Peeples Valley, AZ)"
                                },
                                {
                                    "0": "Tailspin Toys (Medicine Lodge, KS)"
                                },
                                {
                                    "0": "Tailspin Toys (Gasport, NY)"
                                },
                                {
                                    "0": "Tailspin Toys (Jessie, ND)"
                                },
                                {
                                    "0": "Tailspin Toys (Frankewing, TN)"
                                },
                                {
                                    "0": "Tailspin Toys (Bow Mar, CO)"
                                },
                                {
                                    "0": "Tailspin Toys (Netcong, NJ)"
                                },
                                {
                                    "0": "Tailspin Toys (Wimbledon, ND)"
                                },
                                {
                                    "0": "Tailspin Toys (Devault, PA)"
                                },
                                {
                                    "0": "Tailspin Toys (Biscay, MN)"
                                },
                                {
                                    "0": "Tailspin Toys (Stonefort, IL)"
                                },
                                {
                                    "0": "Tailspin Toys (Long Meadow, MD)"
                                },
                                {
                                    "0": "Tailspin Toys (Batson, TX)"
                                },
                                {
                                    "0": "Tailspin Toys (Coney Island, MO)"
                                },
                                {
                                    "0": "Tailspin Toys (East Fultonham, OH)"
                                },
                                {
                                    "0": "Tailspin Toys (Goffstown, NH)"
                                },
                                {
                                    "0": "Tailspin Toys (Lemeta, AK)"
                                },
                                {
                                    "0": "Tailspin Toys (College Place, WA)"
                                },
                                {
                                    "0": "Tailspin Toys (Tresckow, PA)"
                                },
                                {
                                    "0": "Tailspin Toys (Ward Ridge, FL)"
                                },
                                {
                                    "0": "Tailspin Toys (Ikatan, AK)"
                                },
                                {
                                    "0": "Tailspin Toys (Dundarrach, NC)"
                                },
                                {
                                    "0": "Tailspin Toys (Avenal, CA)"
                                },
                                {
                                    "0": "Tailspin Toys (Hedrick, IA)"
                                },
                                {
                                    "0": "Tailspin Toys (Bowlus, MN)"
                                },
                                {
                                    "0": "Tailspin Toys (North Ridge, NY)"
                                },
                                {
                                    "0": "Tailspin Toys (Eulaton, AL)"
                                },
                                {
                                    "0": "Tailspin Toys (Koontzville, WA)"
                                },
                                {
                                    "0": "Tailspin Toys (Lake Stevens, WA)"
                                },
                                {
                                    "0": "Tailspin Toys (Maypearl, TX)"
                                },
                                {
                                    "0": "Tailspin Toys (Boyden Arbor, SC)"
                                },
                                {
                                    "0": "Tailspin Toys (Dallardsville, TX)"
                                },
                                {
                                    "0": "Tailspin Toys (Slanesville, WV)"
                                },
                                {
                                    "0": "Tailspin Toys (Ekron, KY)"
                                },
                                {
                                    "0": "Tailspin Toys (Kerby, OR)"
                                },
                                {
                                    "0": "Tailspin Toys (Airport Drive, MO)"
                                },
                                {
                                    "0": "Tailspin Toys (Diablock, KY)"
                                },
                                {
                                    "0": "Tailspin Toys (Impact, TX)"
                                },
                                {
                                    "0": "Tailspin Toys (Olivette, MO)"
                                },
                                {
                                    "0": "Tailspin Toys (Arietta, NY)"
                                },
                                {
                                    "0": "Tailspin Toys (Upper Preston, WA)"
                                },
                                {
                                    "0": "Tailspin Toys (Amanda Park, WA)"
                                },
                                {
                                    "0": "Tailspin Toys (Severna Park, MD)"
                                },
                                {
                                    "0": "Tailspin Toys (Jemison, AL)"
                                },
                                {
                                    "0": "Tailspin Toys (Lake Hughes, CA)"
                                },
                                {
                                    "0": "Tailspin Toys (Trentwood, WA)"
                                },
                                {
                                    "0": "Tailspin Toys (Muir, MI)"
                                },
                                {
                                    "0": "Tailspin Toys (Hambleton, WV)"
                                },
                                {
                                    "0": "Tailspin Toys (Imlaystown, NJ)"
                                },
                                {
                                    "0": "Tailspin Toys (Idria, CA)"
                                },
                                {
                                    "0": "Tailspin Toys (Nanafalia, AL)"
                                },
                                {
                                    "0": "Tailspin Toys (Railroad, PA)"
                                },
                                {
                                    "0": "Tailspin Toys (Gum Branch, GA)"
                                },
                                {
                                    "0": "Tailspin Toys (Royal City, WA)"
                                },
                                {
                                    "0": "Tailspin Toys (Lakemore, OH)"
                                },
                                {
                                    "0": "Tailspin Toys (Mappsburg, VA)"
                                },
                                {
                                    "0": "Tailspin Toys (Edgartown, MA)"
                                },
                                {
                                    "0": "Tailspin Toys (East Dailey, WV)"
                                },
                                {
                                    "0": "Tailspin Toys (Fairfield Glade, TN)"
                                },
                                {
                                    "0": "Tailspin Toys (Great Neck Estates, NY)"
                                },
                                {
                                    "0": "Tailspin Toys (Stallion Springs, CA)"
                                },
                                {
                                    "0": "Tailspin Toys (Hodgdon, ME)"
                                },
                                {
                                    "0": "Tailspin Toys (North Cowden, TX)"
                                },
                                {
                                    "0": "Tailspin Toys (Madaket, MA)"
                                },
                                {
                                    "0": "Tailspin Toys (Sentinel Butte, ND)"
                                },
                                {
                                    "0": "Tailspin Toys (Gardere, LA)"
                                },
                                {
                                    "0": "Tailspin Toys (Lytle Creek, CA)"
                                },
                                {
                                    "0": "Tailspin Toys (New Baden, IL)"
                                },
                                {
                                    "0": "Tailspin Toys (Good Hart, MI)"
                                },
                                {
                                    "0": "Tailspin Toys (Cortaro, AZ)"
                                },
                                {
                                    "0": "Tailspin Toys (Cokato, MN)"
                                },
                                {
                                    "0": "Tailspin Toys (Indios, PR)"
                                },
                                {
                                    "0": "Tailspin Toys (Windsor Locks, CT)"
                                },
                                {
                                    "0": "Tailspin Toys (Yewed, OK)"
                                },
                                {
                                    "0": "Tailspin Toys (Hahira, GA)"
                                },
                                {
                                    "0": "Tailspin Toys (Sekiu, WA)"
                                },
                                {
                                    "0": "Tailspin Toys (Page City, KS)"
                                },
                                {
                                    "0": "Tailspin Toys (Valdese, NC)"
                                },
                                {
                                    "0": "Tailspin Toys (Big Moose, NY)"
                                },
                                {
                                    "0": "Tailspin Toys (La Cueva, NM)"
                                },
                                {
                                    "0": "Tailspin Toys (Absecon, NJ)"
                                },
                                {
                                    "0": "Tailspin Toys (Aceitunas, PR)"
                                },
                                {
                                    "0": "Tailspin Toys (Andrix, CO)"
                                },
                                {
                                    "0": "Tailspin Toys (New Lexington, OH)"
                                },
                                {
                                    "0": "Tailspin Toys (Sauquoit, NY)"
                                },
                                {
                                    "0": "Tailspin Toys (Dracut, MA)"
                                },
                                {
                                    "0": "Tailspin Toys (Victory Gardens, NJ)"
                                },
                                {
                                    "0": "Tailspin Toys (Tolna, ND)"
                                },
                                {
                                    "0": "Tailspin Toys (Alstead, NH)"
                                },
                                {
                                    "0": "Tailspin Toys (Sans Souci, SC)"
                                },
                                {
                                    "0": "Tailspin Toys (Clewiston, FL)"
                                },
                                {
                                    "0": "Tailspin Toys (Cheyenne Wells, CO)"
                                },
                                {
                                    "0": "Tailspin Toys (Lavon, TX)"
                                },
                                {
                                    "0": "Tailspin Toys (South La Paloma, TX)"
                                },
                                {
                                    "0": "Tailspin Toys (Manchester Center, VT)"
                                },
                                {
                                    "0": "Tailspin Toys (El Centro, CA)"
                                },
                                {
                                    "0": "Tailspin Toys (Guin, AL)"
                                },
                                {
                                    "0": "Tailspin Toys (Tunnelhill, PA)"
                                },
                                {
                                    "0": "Tailspin Toys (Cundiyo, NM)"
                                },
                                {
                                    "0": "Tailspin Toys (Fieldbrook, CA)"
                                },
                                {
                                    "0": "Tailspin Toys (Kalvesta, KS)"
                                },
                                {
                                    "0": "Tailspin Toys (Wallagrass, ME)"
                                },
                                {
                                    "0": "Tailspin Toys (Tomnolen, MS)"
                                },
                                {
                                    "0": "Tailspin Toys (Tumacacori, AZ)"
                                },
                                {
                                    "0": "Tailspin Toys (Glen Avon, CA)"
                                },
                                {
                                    "0": "Tailspin Toys (Bernie, MO)"
                                },
                                {
                                    "0": "Tailspin Toys (South Laguna, CA)"
                                },
                                {
                                    "0": "Tailspin Toys (North Crows Nest, IN)"
                                },
                                {
                                    "0": "Tailspin Toys (Oriole Beach, FL)"
                                },
                                {
                                    "0": "Tailspin Toys (Sallyards, KS)"
                                },
                                {
                                    "0": "Tailspin Toys (Dahlia, NM)"
                                },
                                {
                                    "0": "Tailspin Toys (Cherry Grove Beach, SC)"
                                },
                                {
                                    "0": "Tailspin Toys (Bethania, NC)"
                                },
                                {
                                    "0": "Tailspin Toys (Rafael Capó, PR)"
                                },
                                {
                                    "0": "Tailspin Toys (Scofield, UT)"
                                },
                                {
                                    "0": "Tailspin Toys (Vassalboro, ME)"
                                },
                                {
                                    "0": "Tailspin Toys (Statenville, GA)"
                                },
                                {
                                    "0": "Tailspin Toys (Bratenahl, OH)"
                                },
                                {
                                    "0": "Tailspin Toys (Elrosa, MN)"
                                },
                                {
                                    "0": "Tailspin Toys (McClave, CO)"
                                },
                                {
                                    "0": "Tailspin Toys (Roe Park, NY)"
                                },
                                {
                                    "0": "Tailspin Toys (Hanoverton, OH)"
                                },
                                {
                                    "0": "Tailspin Toys (Annamoriah, WV)"
                                },
                                {
                                    "0": "Tailspin Toys (Francis Mills, NJ)"
                                },
                                {
                                    "0": "Tailspin Toys (Point Roberts, WA)"
                                },
                                {
                                    "0": "Tailspin Toys (East Portal, CO)"
                                },
                                {
                                    "0": "Tailspin Toys (Mineral Hills, MI)"
                                },
                                {
                                    "0": "Tailspin Toys (Maple Shade, NJ)"
                                },
                                {
                                    "0": "Tailspin Toys (Kwethluk, AK)"
                                },
                                {
                                    "0": "Tailspin Toys (Minidoka, ID)"
                                },
                                {
                                    "0": "Tailspin Toys (Lake Erie Beach, NY)"
                                },
                                {
                                    "0": "Tailspin Toys (Tavares, FL)"
                                },
                                {
                                    "0": "Tailspin Toys (Terre du Lac, MO)"
                                },
                                {
                                    "0": "Tailspin Toys (Mount Montgomery, NV)"
                                },
                                {
                                    "0": "Tailspin Toys (Carbonville, UT)"
                                },
                                {
                                    "0": "Tailspin Toys (Navassa, NC)"
                                },
                                {
                                    "0": "Tailspin Toys (Hardeeville, SC)"
                                },
                                {
                                    "0": "Tailspin Toys (Furley, KS)"
                                },
                                {
                                    "0": "Tailspin Toys (Arrow Rock, MO)"
                                },
                                {
                                    "0": "Tailspin Toys (King Cove, AK)"
                                },
                                {
                                    "0": "Tailspin Toys (Ashtabula, OH)"
                                },
                                {
                                    "0": "Tailspin Toys (Larose, LA)"
                                },
                                {
                                    "0": "Tailspin Toys (Manahawkin, NJ)"
                                },
                                {
                                    "0": "Tailspin Toys (Belgreen, AL)"
                                },
                                {
                                    "0": "Tailspin Toys (Fishtail, MT)"
                                },
                                {
                                    "0": "Tailspin Toys (Baraboo, WI)"
                                },
                                {
                                    "0": "Tailspin Toys (Inguadona, MN)"
                                },
                                {
                                    "0": "Tailspin Toys (Corfu, NY)"
                                },
                                {
                                    "0": "Tailspin Toys (Antares, AZ)"
                                },
                                {
                                    "0": "Tailspin Toys (Sun River, MT)"
                                },
                                {
                                    "0": "Tailspin Toys (Marcell, MN)"
                                },
                                {
                                    "0": "Tailspin Toys (Eden Valley, MN)"
                                },
                                {
                                    "0": "Tailspin Toys (Arbor Vitae, WI)"
                                },
                                {
                                    "0": "Tailspin Toys (Hollywood Park, TX)"
                                },
                                {
                                    "0": "Tailspin Toys (Saks, AL)"
                                },
                                {
                                    "0": "Tailspin Toys (Donner, LA)"
                                },
                                {
                                    "0": "Tailspin Toys (Saint Louis Park, MN)"
                                },
                                {
                                    "0": "Tailspin Toys (Crary, ND)"
                                },
                                {
                                    "0": "Tailspin Toys (Aspen Park, CO)"
                                },
                                {
                                    "0": "Tailspin Toys (Glen Park, NY)"
                                },
                                {
                                    "0": "Tailspin Toys (Panaca, NV)"
                                },
                                {
                                    "0": "Tailspin Toys (Rothsville, PA)"
                                },
                                {
                                    "0": "Tailspin Toys (Topstone, CT)"
                                },
                                {
                                    "0": "Tailspin Toys (McCamey, TX)"
                                },
                                {
                                    "0": "Tailspin Toys (Rockwall, TX)"
                                },
                                {
                                    "0": "Tailspin Toys (Seagraves, TX)"
                                },
                                {
                                    "0": "Tailspin Toys (Sinclair, WY)"
                                },
                                {
                                    "0": "Tailspin Toys (Eastchester, NY)"
                                },
                                {
                                    "0": "Tailspin Toys (Ortley Beach, NJ)"
                                },
                                {
                                    "0": "Tailspin Toys (Madrone, NM)"
                                },
                                {
                                    "0": "Tailspin Toys (Wappingers Falls, NY)"
                                },
                                {
                                    "0": "Tailspin Toys (Astor Park, FL)"
                                },
                                {
                                    "0": "Tailspin Toys (San Acacia, NM)"
                                },
                                {
                                    "0": "Tailspin Toys (Malott, WA)"
                                },
                                {
                                    "0": "Tailspin Toys (Orrtanna, PA)"
                                },
                                {
                                    "0": "Tailspin Toys (Armstrong Creek, WI)"
                                },
                                {
                                    "0": "Tailspin Toys (Hiteman, IA)"
                                },
                                {
                                    "0": "Tailspin Toys (Caselton, NV)"
                                },
                                {
                                    "0": "Tailspin Toys (Heilwood, PA)"
                                },
                                {
                                    "0": "Tailspin Toys (Hayes Center, NE)"
                                },
                                {
                                    "0": "Tailspin Toys (Tierra Verde, FL)"
                                },
                                {
                                    "0": "Tailspin Toys (South Euclid, OH)"
                                },
                                {
                                    "0": "Tailspin Toys (Vidrine, LA)"
                                },
                                {
                                    "0": "Tailspin Toys (Placer, OR)"
                                },
                                {
                                    "0": "Tailspin Toys (Brown City, MI)"
                                },
                                {
                                    "0": "Tailspin Toys (Premont, TX)"
                                },
                                {
                                    "0": "Tailspin Toys (Wilkes-Barre, PA)"
                                },
                                {
                                    "0": "Tailspin Toys (Teutopolis, IL)"
                                },
                                {
                                    "0": "Tailspin Toys (Orchard Hill, GA)"
                                },
                                {
                                    "0": "Tailspin Toys (Optimo, NM)"
                                },
                                {
                                    "0": "Tailspin Toys (Knifley, KY)"
                                },
                                {
                                    "0": "Tailspin Toys (Naples Park, FL)"
                                },
                                {
                                    "0": "Tailspin Toys (Lesslie, SC)"
                                },
                                {
                                    "0": "Tailspin Toys (Howells, NE)"
                                },
                                {
                                    "0": "Tailspin Toys (Magalia, CA)"
                                },
                                {
                                    "0": "Tailspin Toys (Buell, MO)"
                                },
                                {
                                    "0": "Tailspin Toys (Antonito, CO)"
                                },
                                {
                                    "0": "Tailspin Toys (Tooele, UT)"
                                },
                                {
                                    "0": "Tailspin Toys (Skyway, WA)"
                                },
                                {
                                    "0": "Wingtip Toys (Head Office)"
                                },
                                {
                                    "0": "Wingtip Toys (Black Lick, PA)"
                                },
                                {
                                    "0": "Wingtip Toys (Queen Valley, AZ)"
                                },
                                {
                                    "0": "Wingtip Toys (Penns Creek, PA)"
                                },
                                {
                                    "0": "Wingtip Toys (Bourbonnais, IL)"
                                },
                                {
                                    "0": "Wingtip Toys (Tuscaloosa, AL)"
                                },
                                {
                                    "0": "Wingtip Toys (Mooringsport, LA)"
                                },
                                {
                                    "0": "Wingtip Toys (Rockwall, TX)"
                                },
                                {
                                    "0": "Wingtip Toys (Orick, CA)"
                                },
                                {
                                    "0": "Wingtip Toys (Bernstein, TX)"
                                },
                                {
                                    "0": "Wingtip Toys (Edmund, WI)"
                                },
                                {
                                    "0": "Wingtip Toys (Bozeman Hot Springs, MT)"
                                },
                                {
                                    "0": "Wingtip Toys (Truscott, TX)"
                                },
                                {
                                    "0": "Wingtip Toys (Rose Tree, PA)"
                                },
                                {
                                    "0": "Wingtip Toys (Leathersville, GA)"
                                },
                                {
                                    "0": "Wingtip Toys (Necedah, WI)"
                                },
                                {
                                    "0": "Wingtip Toys (Chetek, WI)"
                                },
                                {
                                    "0": "Wingtip Toys (Yaak, MT)"
                                },
                                {
                                    "0": "Wingtip Toys (Compass Lake, FL)"
                                },
                                {
                                    "0": "Wingtip Toys (Herlong, CA)"
                                },
                                {
                                    "0": "Wingtip Toys (Highland Home, AL)"
                                },
                                {
                                    "0": "Wingtip Toys (Naches, WA)"
                                },
                                {
                                    "0": "Wingtip Toys (Baldwin City, KS)"
                                },
                                {
                                    "0": "Wingtip Toys (Heartwell, NE)"
                                },
                                {
                                    "0": "Wingtip Toys (Bethel Acres, OK)"
                                },
                                {
                                    "0": "Wingtip Toys (Willow Valley, AZ)"
                                },
                                {
                                    "0": "Wingtip Toys (Athol Springs, NY)"
                                },
                                {
                                    "0": "Wingtip Toys (Paw Paw Lake, MI)"
                                },
                                {
                                    "0": "Wingtip Toys (Lilbourn, MO)"
                                },
                                {
                                    "0": "Wingtip Toys (Lost River, ID)"
                                },
                                {
                                    "0": "Wingtip Toys (Rosa Sánchez, PR)"
                                },
                                {
                                    "0": "Wingtip Toys (Vamo, FL)"
                                },
                                {
                                    "0": "Wingtip Toys (Balko, OK)"
                                },
                                {
                                    "0": "Wingtip Toys (Lime Lake, NY)"
                                },
                                {
                                    "0": "Wingtip Toys (Teutopolis, IL)"
                                },
                                {
                                    "0": "Wingtip Toys (Gargatha, VA)"
                                },
                                {
                                    "0": "Wingtip Toys (Cadogan, PA)"
                                },
                                {
                                    "0": "Wingtip Toys (Lucasville, OH)"
                                },
                                {
                                    "0": "Wingtip Toys (Cylon, WI)"
                                },
                                {
                                    "0": "Wingtip Toys (Asher, OK)"
                                },
                                {
                                    "0": "Wingtip Toys (Keosauqua, IA)"
                                },
                                {
                                    "0": "Wingtip Toys (Homer City, PA)"
                                },
                                {
                                    "0": "Wingtip Toys (Berville, MI)"
                                },
                                {
                                    "0": "Wingtip Toys (Tea, SD)"
                                },
                                {
                                    "0": "Wingtip Toys (Dacono, CO)"
                                },
                                {
                                    "0": "Wingtip Toys (Saint Landry, LA)"
                                },
                                {
                                    "0": "Wingtip Toys (Coin, IA)"
                                },
                                {
                                    "0": "Wingtip Toys (Salt Wells, NV)"
                                },
                                {
                                    "0": "Wingtip Toys (Delray, WV)"
                                },
                                {
                                    "0": "Wingtip Toys (Mount Summit, IN)"
                                },
                                {
                                    "0": "Wingtip Toys (Smoot, WY)"
                                },
                                {
                                    "0": "Wingtip Toys (Lake Davis, CA)"
                                },
                                {
                                    "0": "Wingtip Toys (Stanardsville, VA)"
                                },
                                {
                                    "0": "Wingtip Toys (Corcovado, PR)"
                                },
                                {
                                    "0": "Wingtip Toys (Taft Heights, CA)"
                                },
                                {
                                    "0": "Wingtip Toys (West Hempstead, NY)"
                                },
                                {
                                    "0": "Wingtip Toys (Portales, NM)"
                                },
                                {
                                    "0": "Wingtip Toys (Coker, AL)"
                                },
                                {
                                    "0": "Wingtip Toys (Haydenville, OH)"
                                },
                                {
                                    "0": "Wingtip Toys (Mayhill, NM)"
                                },
                                {
                                    "0": "Wingtip Toys (Vair, TX)"
                                },
                                {
                                    "0": "Wingtip Toys (Crossroads, NM)"
                                },
                                {
                                    "0": "Wingtip Toys (Cowlington, OK)"
                                },
                                {
                                    "0": "Wingtip Toys (Glen Ullin, ND)"
                                },
                                {
                                    "0": "Wingtip Toys (Oologah, OK)"
                                },
                                {
                                    "0": "Wingtip Toys (Lytle, TX)"
                                },
                                {
                                    "0": "Wingtip Toys (Mahaffey, PA)"
                                },
                                {
                                    "0": "Wingtip Toys (Sunburg, MN)"
                                },
                                {
                                    "0": "Wingtip Toys (Johnetta, KY)"
                                },
                                {
                                    "0": "Wingtip Toys (Universal City, TX)"
                                },
                                {
                                    "0": "Wingtip Toys (Ridgemark, CA)"
                                },
                                {
                                    "0": "Wingtip Toys (San Jacinto, CA)"
                                },
                                {
                                    "0": "Wingtip Toys (Floriston, CA)"
                                },
                                {
                                    "0": "Wingtip Toys (Bokeelia, FL)"
                                },
                                {
                                    "0": "Wingtip Toys (Cale, AR)"
                                },
                                {
                                    "0": "Wingtip Toys (Karthaus, PA)"
                                },
                                {
                                    "0": "Wingtip Toys (Glancy, MS)"
                                },
                                {
                                    "0": "Wingtip Toys (Stoneboro, PA)"
                                },
                                {
                                    "0": "Wingtip Toys (Mier, IN)"
                                },
                                {
                                    "0": "Wingtip Toys (Wapinitia, OR)"
                                },
                                {
                                    "0": "Wingtip Toys (White Church, MO)"
                                },
                                {
                                    "0": "Wingtip Toys (Caton, NY)"
                                },
                                {
                                    "0": "Wingtip Toys (Plum Branch, SC)"
                                },
                                {
                                    "0": "Wingtip Toys (Mauldin, SC)"
                                },
                                {
                                    "0": "Wingtip Toys (Bonner Springs, KS)"
                                },
                                {
                                    "0": "Wingtip Toys (Lowellville, OH)"
                                },
                                {
                                    "0": "Wingtip Toys (Elverson, PA)"
                                },
                                {
                                    "0": "Wingtip Toys (Isabela, PR)"
                                },
                                {
                                    "0": "Wingtip Toys (Sayner, WI)"
                                },
                                {
                                    "0": "Wingtip Toys (Beals, ME)"
                                },
                                {
                                    "0": "Wingtip Toys (Morton Grove, IL)"
                                },
                                {
                                    "0": "Wingtip Toys (Birds, IL)"
                                },
                                {
                                    "0": "Wingtip Toys (Federalsburg, MD)"
                                },
                                {
                                    "0": "Wingtip Toys (Pikeview, CO)"
                                },
                                {
                                    "0": "Wingtip Toys (Boalsburg, PA)"
                                },
                                {
                                    "0": "Wingtip Toys (Port Hueneme, CA)"
                                },
                                {
                                    "0": "Wingtip Toys (Verdery, SC)"
                                },
                                {
                                    "0": "Wingtip Toys (Obetz, OH)"
                                },
                                {
                                    "0": "Wingtip Toys (East Fultonham, OH)"
                                },
                                {
                                    "0": "Wingtip Toys (Obion, TN)"
                                },
                                {
                                    "0": "Wingtip Toys (Cavendish, VT)"
                                },
                                {
                                    "0": "Wingtip Toys (Miesville, MN)"
                                },
                                {
                                    "0": "Wingtip Toys (Valhalla, NC)"
                                },
                                {
                                    "0": "Wingtip Toys (Cape Neddick, ME)"
                                },
                                {
                                    "0": "Wingtip Toys (Silver Plume, CO)"
                                },
                                {
                                    "0": "Wingtip Toys (North Beach Haven, NJ)"
                                },
                                {
                                    "0": "Wingtip Toys (Downingtown, PA)"
                                },
                                {
                                    "0": "Wingtip Toys (Branson West, MO)"
                                },
                                {
                                    "0": "Wingtip Toys (Bergen Park, CO)"
                                },
                                {
                                    "0": "Wingtip Toys (Grabill, IN)"
                                },
                                {
                                    "0": "Wingtip Toys (North Manitou, MI)"
                                },
                                {
                                    "0": "Wingtip Toys (Philip, SD)"
                                },
                                {
                                    "0": "Wingtip Toys (Straughn, IN)"
                                },
                                {
                                    "0": "Wingtip Toys (Gilford, NH)"
                                },
                                {
                                    "0": "Wingtip Toys (Del Valle, TX)"
                                },
                                {
                                    "0": "Wingtip Toys (Harkers Island, NC)"
                                },
                                {
                                    "0": "Wingtip Toys (Licking, MO)"
                                },
                                {
                                    "0": "Wingtip Toys (Raton, NM)"
                                },
                                {
                                    "0": "Wingtip Toys (Boynton, OK)"
                                },
                                {
                                    "0": "Wingtip Toys (Frenchburg, KY)"
                                },
                                {
                                    "0": "Wingtip Toys (Robertsdale, AL)"
                                },
                                {
                                    "0": "Wingtip Toys (Dickerson, MD)"
                                },
                                {
                                    "0": "Wingtip Toys (Bruceton Mills, WV)"
                                },
                                {
                                    "0": "Wingtip Toys (Cloquet, MN)"
                                },
                                {
                                    "0": "Wingtip Toys (Claycomo, MO)"
                                },
                                {
                                    "0": "Wingtip Toys (Beekmantown, NY)"
                                },
                                {
                                    "0": "Wingtip Toys (Islip Terrace, NY)"
                                },
                                {
                                    "0": "Wingtip Toys (Rich Creek, VA)"
                                },
                                {
                                    "0": "Wingtip Toys (Griswoldville, GA)"
                                },
                                {
                                    "0": "Wingtip Toys (East Mountain, TX)"
                                },
                                {
                                    "0": "Wingtip Toys (Omer, MI)"
                                },
                                {
                                    "0": "Wingtip Toys (Waycross, GA)"
                                },
                                {
                                    "0": "Wingtip Toys (Nichols Hills, OK)"
                                },
                                {
                                    "0": "Wingtip Toys (Plaquemine, LA)"
                                },
                                {
                                    "0": "Wingtip Toys (Triadelphia, WV)"
                                },
                                {
                                    "0": "Wingtip Toys (Ferney, SD)"
                                },
                                {
                                    "0": "Wingtip Toys (Akhiok, AK)"
                                },
                                {
                                    "0": "Wingtip Toys (Deeson, MS)"
                                },
                                {
                                    "0": "Wingtip Toys (Nuangola, PA)"
                                },
                                {
                                    "0": "Wingtip Toys (Weld, ME)"
                                },
                                {
                                    "0": "Wingtip Toys (Mickleton, NJ)"
                                },
                                {
                                    "0": "Wingtip Toys (Schererville, IN)"
                                },
                                {
                                    "0": "Wingtip Toys (Lexington Heights, MI)"
                                },
                                {
                                    "0": "Wingtip Toys (Broomtown, AL)"
                                },
                                {
                                    "0": "Wingtip Toys (Jamison, IA)"
                                },
                                {
                                    "0": "Wingtip Toys (Key Biscayne, FL)"
                                },
                                {
                                    "0": "Wingtip Toys (Chaseley, ND)"
                                },
                                {
                                    "0": "Wingtip Toys (Indian Creek, IL)"
                                },
                                {
                                    "0": "Wingtip Toys (Lake Ronkonkoma, NY)"
                                },
                                {
                                    "0": "Wingtip Toys (Morrison Bluff, AR)"
                                },
                                {
                                    "0": "Wingtip Toys (Huntingburg, IN)"
                                },
                                {
                                    "0": "Wingtip Toys (Shay, PA)"
                                },
                                {
                                    "0": "Wingtip Toys (Helotes, TX)"
                                },
                                {
                                    "0": "Wingtip Toys (Hollandsburg, IN)"
                                },
                                {
                                    "0": "Wingtip Toys (Liberty Grove, MD)"
                                },
                                {
                                    "0": "Wingtip Toys (Morita, TX)"
                                },
                                {
                                    "0": "Wingtip Toys (New Laguna, NM)"
                                },
                                {
                                    "0": "Wingtip Toys (Bourneville, OH)"
                                },
                                {
                                    "0": "Wingtip Toys (Mendoza, TX)"
                                },
                                {
                                    "0": "Wingtip Toys (Palmas del Mar, PR)"
                                },
                                {
                                    "0": "Wingtip Toys (Marion Junction, AL)"
                                },
                                {
                                    "0": "Wingtip Toys (Ware Shoals, SC)"
                                },
                                {
                                    "0": "Wingtip Toys (Lostine, OR)"
                                },
                                {
                                    "0": "Wingtip Toys (Tilleda, WI)"
                                },
                                {
                                    "0": "Wingtip Toys (Wapiti, WY)"
                                },
                                {
                                    "0": "Wingtip Toys (Amado, AZ)"
                                },
                                {
                                    "0": "Wingtip Toys (Jeromesville, OH)"
                                },
                                {
                                    "0": "Wingtip Toys (Ovilla, TX)"
                                },
                                {
                                    "0": "Wingtip Toys (West Frostproof, FL)"
                                },
                                {
                                    "0": "Wingtip Toys (Flomaton, AL)"
                                },
                                {
                                    "0": "Wingtip Toys (Pawlet, VT)"
                                },
                                {
                                    "0": "Wingtip Toys (Trout Run, PA)"
                                },
                                {
                                    "0": "Wingtip Toys (Marin City, CA)"
                                },
                                {
                                    "0": "Wingtip Toys (Molalla, OR)"
                                },
                                {
                                    "0": "Wingtip Toys (Trumansburg, NY)"
                                },
                                {
                                    "0": "Wingtip Toys (Goodings Grove, IL)"
                                },
                                {
                                    "0": "Wingtip Toys (Cherryplain, NY)"
                                },
                                {
                                    "0": "Wingtip Toys (Bell Acres, PA)"
                                },
                                {
                                    "0": "Wingtip Toys (Connoquenessing, PA)"
                                },
                                {
                                    "0": "Wingtip Toys (Sarversville, PA)"
                                },
                                {
                                    "0": "Wingtip Toys (Munich, ND)"
                                },
                                {
                                    "0": "Wingtip Toys (Montoya, NM)"
                                },
                                {
                                    "0": "Wingtip Toys (Knights Landing, CA)"
                                },
                                {
                                    "0": "Wingtip Toys (Cache, OK)"
                                },
                                {
                                    "0": "Wingtip Toys (Towaco, NJ)"
                                },
                                {
                                    "0": "Wingtip Toys (Lynne, FL)"
                                },
                                {
                                    "0": "Wingtip Toys (Plata, TX)"
                                },
                                {
                                    "0": "Wingtip Toys (Oak Point, TX)"
                                },
                                {
                                    "0": "Wingtip Toys (Alcester, SD)"
                                },
                                {
                                    "0": "Wingtip Toys (McAdenville, NC)"
                                },
                                {
                                    "0": "Wingtip Toys (Idaho City, ID)"
                                },
                                {
                                    "0": "Wingtip Toys (Dunkerton, IA)"
                                },
                                {
                                    "0": "Wingtip Toys (Cuyamungue, NM)"
                                },
                                {
                                    "0": "Wingtip Toys (Marfa, TX)"
                                },
                                {
                                    "0": "Wingtip Toys (Accomac, VA)"
                                },
                                {
                                    "0": "Wingtip Toys (Cos Cob, CT)"
                                },
                                {
                                    "0": "Wingtip Toys (Haycock, AK)"
                                },
                                {
                                    "0": "Wingtip Toys (Kapa'a, HI)"
                                },
                                {
                                    "0": "Wingtip Toys (Dickworsham, TX)"
                                },
                                {
                                    "0": "Wingtip Toys (Caro, MI)"
                                },
                                {
                                    "0": "Wingtip Toys (Ruthsburg, MD)"
                                },
                                {
                                    "0": "Eric Torres"
                                },
                                {
                                    "0": "Cosmina Vlad"
                                },
                                {
                                    "0": "Bala Dixit"
                                },
                                {
                                    "0": "Aleksandrs Riekstins"
                                },
                                {
                                    "0": "Ratan Poddar"
                                },
                                {
                                    "0": "Shi Tu"
                                },
                                {
                                    "0": "Gunnar Lohmus"
                                },
                                {
                                    "0": "Jackson Kolios"
                                },
                                {
                                    "0": "Madhu Dwivedi"
                                },
                                {
                                    "0": "Alena Kellnerova"
                                },
                                {
                                    "0": "Surendra Sahu"
                                },
                                {
                                    "0": "Celica Barajas"
                                },
                                {
                                    "0": "Shyam Poddar"
                                },
                                {
                                    "0": "Johanna Hoornstra"
                                },
                                {
                                    "0": "Libuse Valentova"
                                },
                                {
                                    "0": "Harsha Huq"
                                },
                                {
                                    "0": "Agrita Kanepa"
                                },
                                {
                                    "0": "Liia Orav"
                                },
                                {
                                    "0": "Santiago Vera"
                                },
                                {
                                    "0": "Knut Svensson"
                                },
                                {
                                    "0": "Kwanjai Saowaluk"
                                },
                                {
                                    "0": "Suparna Bhattacharya"
                                },
                                {
                                    "0": "Francisca Laureano"
                                },
                                {
                                    "0": "Risto Valbe"
                                },
                                {
                                    "0": "Jayanta Thakur"
                                },
                                {
                                    "0": "Leila Carvalho"
                                },
                                {
                                    "0": "Crina Grasu"
                                },
                                {
                                    "0": "Sercan Celik"
                                },
                                {
                                    "0": "Jack Walker"
                                },
                                {
                                    "0": "Jana Fialova"
                                },
                                {
                                    "0": "Bhaavan Rai"
                                },
                                {
                                    "0": "Aakriti Byrraju"
                                },
                                {
                                    "0": "Devraj Rao"
                                },
                                {
                                    "0": "Cong Hoa"
                                },
                                {
                                    "0": "Dominic Davignon"
                                },
                                {
                                    "0": "Abel Spirlea"
                                },
                                {
                                    "0": "Anil Sarkar"
                                },
                                {
                                    "0": "Pavel Bogdanov"
                                },
                                {
                                    "0": "Juan Morse"
                                },
                                {
                                    "0": "Rodrigo Figueiredo"
                                },
                                {
                                    "0": "Camille Authier"
                                },
                                {
                                    "0": "Biju Deb"
                                },
                                {
                                    "0": "Marija Justina Pasek"
                                },
                                {
                                    "0": "Durdanah Abbasi"
                                },
                                {
                                    "0": "Emilie Hrdlickova"
                                },
                                {
                                    "0": "Malorie Bousquet"
                                },
                                {
                                    "0": "Kristiina Ivanov"
                                },
                                {
                                    "0": "Alvin Bollinger"
                                },
                                {
                                    "0": "Sabine Zalite"
                                },
                                {
                                    "0": "Daakshaayaani Sankaramanchi"
                                },
                                {
                                    "0": "Ebru Erdogan"
                                },
                                {
                                    "0": "Bhagavaan Atluri"
                                },
                                {
                                    "0": "Caterina Pinto"
                                },
                                {
                                    "0": "Daakshaayaani Kommineni"
                                },
                                {
                                    "0": "Anna Mazzanti"
                                },
                                {
                                    "0": "Satish Mittal"
                                },
                                {
                                    "0": "Clarissa Manfrin"
                                },
                                {
                                    "0": "Bimla PrabhupÄda"
                                },
                                {
                                    "0": "Shah Alizadeh"
                                },
                                {
                                    "0": "Marcela Lucescu"
                                },
                                {
                                    "0": "Amarasimha Vinjamuri"
                                },
                                {
                                    "0": "Lana Goransson"
                                },
                                {
                                    "0": "Jakub Lukes"
                                },
                                {
                                    "0": "Mikhail Degtyarev"
                                },
                                {
                                    "0": "Bijoya Thakur"
                                },
                                {
                                    "0": "Jay Bhuiyan"
                                },
                                {
                                    "0": "Jasna Cerkez"
                                },
                                {
                                    "0": "Laura Sykorova"
                                },
                                {
                                    "0": "Abel Tatarescu"
                                },
                                {
                                    "0": "In-Su Bae"
                                },
                                {
                                    "0": "Darshana Madhunapantula"
                                },
                                {
                                    "0": "Katerina Hadrabova"
                                },
                                {
                                    "0": "Hana Hlouskova"
                                },
                                {
                                    "0": "Daniel Martensson"
                                },
                                {
                                    "0": "Philip Walker"
                                },
                                {
                                    "0": "Marie LeBatelier"
                                },
                                {
                                    "0": "Leyla Siavashi"
                                },
                                {
                                    "0": "Miriam House"
                                },
                                {
                                    "0": "Jitka Necesana"
                                },
                                {
                                    "0": "Edmee Glissen"
                                },
                                {
                                    "0": "Magdalena Michnova"
                                },
                                {
                                    "0": "Maryann Huddleston"
                                },
                                {
                                    "0": "Radha Barua"
                                },
                                {
                                    "0": "Anindya Ghatak"
                                },
                                {
                                    "0": "Chandrashekhar Dasgupta"
                                },
                                {
                                    "0": "Debbie Molina"
                                },
                                {
                                    "0": "Baran Jonsson"
                                },
                                {
                                    "0": "Jai Lamble"
                                },
                                {
                                    "0": "Sointu Savonheimo"
                                },
                                {
                                    "0": "Olya Izmaylov"
                                },
                                {
                                    "0": "Taneli Riutta"
                                },
                                {
                                    "0": "Bahaar Asef zade"
                                },
                                {
                                    "0": "Leyla Asef zade"
                                },
                                {
                                    "0": "Gabriela Hernandes"
                                },
                                {
                                    "0": "Geza Roman"
                                },
                                {
                                    "0": "Leonardo Folliero"
                                },
                                {
                                    "0": "Allan Mannik"
                                },
                                {
                                    "0": "Gopalgobinda Sikdar"
                                },
                                {
                                    "0": "Chin-Sun Chang"
                                },
                                {
                                    "0": "Lilli Sokk"
                                },
                                {
                                    "0": "Adrian Andreasson"
                                },
                                {
                                    "0": "Kamila Michnova"
                                },
                                {
                                    "0": "Bing Han"
                                },
                                {
                                    "0": "Olafs Rozitis"
                                },
                                {
                                    "0": "Sara Huiting"
                                },
                                {
                                    "0": "Ajitaab Pakalapati"
                                },
                                {
                                    "0": "Eugen Agafitei"
                                },
                                {
                                    "0": "Sumati Bhat"
                                },
                                {
                                    "0": "Dena Glissen"
                                },
                                {
                                    "0": "Elina Kaleja"
                                },
                                {
                                    "0": "Liidia Lepp"
                                },
                                {
                                    "0": "Volkan senturk"
                                },
                                {
                                    "0": "Violetta KlanCisar"
                                },
                                {
                                    "0": "Chandana Shasthri"
                                },
                                {
                                    "0": "Ana Florea"
                                },
                                {
                                    "0": "Pinja Jantunen"
                                },
                                {
                                    "0": "Pari Hosseini"
                                },
                                {
                                    "0": "Isidora Morales"
                                },
                                {
                                    "0": "Kertu Sokk"
                                },
                                {
                                    "0": "Gayatri Gajula"
                                },
                                {
                                    "0": "Victoria Lacusta"
                                },
                                {
                                    "0": "Sumati Chatterjee"
                                },
                                {
                                    "0": "Tai Bach"
                                },
                                {
                                    "0": "Eva Schulteisz"
                                },
                                {
                                    "0": "Can ozcan"
                                },
                                {
                                    "0": "Richard Friar"
                                },
                                {
                                    "0": "Matyas Sedlar"
                                },
                                {
                                    "0": "Arijit Bhuiyan"
                                },
                                {
                                    "0": "Vladimir Henzl"
                                },
                                {
                                    "0": "Shantanu Huq"
                                },
                                {
                                    "0": "Nada Jovanovic"
                                },
                                {
                                    "0": "Nicolo Cattaneo"
                                },
                                {
                                    "0": "Joel Carrillo"
                                },
                                {
                                    "0": "Ivan Sepulveda"
                                },
                                {
                                    "0": "Daevasree Samavedam"
                                },
                                {
                                    "0": "Ludmila Smidova"
                                },
                                {
                                    "0": "Manca Hrastovsek"
                                },
                                {
                                    "0": "Anna Gyarmathi"
                                },
                                {
                                    "0": "Ioana Florea"
                                },
                                {
                                    "0": "Lorin Astrom"
                                },
                                {
                                    "0": "Bishwa Chatterjee"
                                },
                                {
                                    "0": "Chaayaadaevi Sonti"
                                },
                                {
                                    "0": "Drazenka Jelic"
                                },
                                {
                                    "0": "Ida Celma"
                                },
                                {
                                    "0": "Hoc Tran"
                                },
                                {
                                    "0": "David safranek"
                                },
                                {
                                    "0": "Svetlana Todorovic"
                                },
                                {
                                    "0": "Richard Zahradnicek"
                                },
                                {
                                    "0": "Seo-yun Paik"
                                },
                                {
                                    "0": "Emily Whittle"
                                },
                                {
                                    "0": "Eliza Persson"
                                },
                                {
                                    "0": "Chuan Wattanasin"
                                },
                                {
                                    "0": "Linh Dao"
                                },
                                {
                                    "0": "Nasrin Omidzadeh"
                                },
                                {
                                    "0": "Raghu Sandhu"
                                },
                                {
                                    "0": "Nhung Thach"
                                },
                                {
                                    "0": "Hee-Young Suh"
                                },
                                {
                                    "0": "Valentin Tirlea"
                                },
                                {
                                    "0": "Dhaatri Chavva"
                                },
                                {
                                    "0": "Edgar Jogi"
                                },
                                {
                                    "0": "Rani Ganguly"
                                },
                                {
                                    "0": "Bhagavati Vinjamuri"
                                },
                                {
                                    "0": "Be Trang"
                                },
                                {
                                    "0": "Ingrida Zeltina"
                                },
                                {
                                    "0": "Phoung Cu"
                                },
                                {
                                    "0": "Sara Walkky"
                                },
                                {
                                    "0": "Meera Patel"
                                },
                                {
                                    "0": "Anca Gogean"
                                },
                                {
                                    "0": "Staffan Persson"
                                },
                                {
                                    "0": "Isidora Urias"
                                },
                                {
                                    "0": "Dhanishta Mokkapati"
                                },
                                {
                                    "0": "Lakshmi Benipal"
                                },
                                {
                                    "0": "Kumar Kamei"
                                },
                                {
                                    "0": "Emil Roman"
                                },
                                {
                                    "0": "Prabodh Nair"
                                },
                                {
                                    "0": "Alinne Matos"
                                },
                                {
                                    "0": "Mauno Laurila"
                                },
                                {
                                    "0": "Baalaamjali Devulapalli"
                                },
                                {
                                    "0": "Melani Ravlen"
                                },
                                {
                                    "0": "Om Yadav"
                                },
                                {
                                    "0": "Mahmut ozbek"
                                },
                                {
                                    "0": "Yves Belisle"
                                },
                                {
                                    "0": "Sabine Alksne"
                                },
                                {
                                    "0": "Kamala Nishad"
                                },
                                {
                                    "0": "Roko Ilic"
                                },
                                {
                                    "0": "Neil Farrelly"
                                },
                                {
                                    "0": "Akhil Nadar"
                                },
                                {
                                    "0": "Maksims Krastins"
                                },
                                {
                                    "0": "Milinka Zujovic"
                                },
                                {
                                    "0": "Andris Saulitis"
                                },
                                {
                                    "0": "Valter Viiding"
                                },
                                {
                                    "0": "Amarakumaar Gadiyaram"
                                },
                                {
                                    "0": "Gasper Havzija"
                                },
                                {
                                    "0": "Libuse Kuchtova"
                                },
                                {
                                    "0": "Kumar Naicker"
                                },
                                {
                                    "0": "Laszlo Gardenier"
                                },
                                {
                                    "0": "Nada Ana Slosar"
                                },
                                {
                                    "0": "Mahavir Sonkar"
                                },
                                {
                                    "0": "Kristi Part"
                                },
                                {
                                    "0": "Krishnam Allu"
                                },
                                {
                                    "0": "Dinh Mai"
                                },
                                {
                                    "0": "Stefan Selezeanu"
                                },
                                {
                                    "0": "Hue Ton"
                                },
                                {
                                    "0": "Drishti Bose"
                                },
                                {
                                    "0": "Bhadram Kamasamudram"
                                },
                                {
                                    "0": "Taj Syme"
                                },
                                {
                                    "0": "Irma Berzina"
                                },
                                {
                                    "0": "Vedrana Kovacevic"
                                },
                                {
                                    "0": "Bhagavateeprasaad Malladi"
                                },
                                {
                                    "0": "Serdar ozCelik"
                                },
                                {
                                    "0": "Rajeev Sandhu"
                                },
                                {
                                    "0": "Urve Kasesalu"
                                },
                                {
                                    "0": "Annette  Hetu"
                                },
                                {
                                    "0": "Narendra Tickoo"
                                },
                                {
                                    "0": "Isa Hulsegge"
                                },
                                {
                                    "0": "Aive Petrov"
                                },
                                {
                                    "0": "David Novacek "
                                },
                                {
                                    "0": "Nils Kaulins"
                                },
                                {
                                    "0": "Dhanishta Pullela"
                                },
                                {
                                    "0": "Hai Banh"
                                },
                                {
                                    "0": "Fabrice Cloutier"
                                },
                                {
                                    "0": "Nadir Seddigh"
                                },
                                {
                                    "0": "Farzana Habibi"
                                },
                                {
                                    "0": "Arka Chatterjee"
                                },
                                {
                                    "0": "Tuulikki Linna"
                                },
                                {
                                    "0": "Daniella Cavalcante"
                                },
                                {
                                    "0": "Serdar ozden"
                                },
                                {
                                    "0": "Emma Van Zant"
                                },
                                {
                                    "0": "Veronika Necesana"
                                },
                                {
                                    "0": "Chompoo Atitarn"
                                },
                                {
                                    "0": "Dipti Shah"
                                },
                                {
                                    "0": "Som Mukherjee"
                                },
                                {
                                    "0": "Cuneyt Arslan"
                                },
                                {
                                    "0": "Aishwarya Dantuluri"
                                },
                                {
                                    "0": "Manjunatha Karnik"
                                },
                                {
                                    "0": "Erik Malk"
                                },
                                {
                                    "0": "David Jaramillo"
                                },
                                {
                                    "0": "Damodara Trivedi"
                                },
                                {
                                    "0": "Bhaamini Palagummi"
                                },
                                {
                                    "0": "Damodar Shenoy"
                                },
                                {
                                    "0": "Tomo Vidovic"
                                },
                                {
                                    "0": "Nguyen Banh"
                                },
                                {
                                    "0": "Raj Verma"
                                },
                                {
                                    "0": "Hanita Nookala"
                                },
                                {
                                    "0": "Matteo Cattaneo"
                                },
                                {
                                    "0": "Christian Couet"
                                },
                                {
                                    "0": "Ivana Hadrabova"
                                },
                                {
                                    "0": "Abhra Ganguly"
                                },
                                {
                                    "0": "Amet Shergill"
                                },
                                {
                                    "0": "Amrita Ganguly"
                                },
                                {
                                    "0": "Sylvie Laramee"
                                },
                                {
                                    "0": "Ian Olofsson"
                                },
                                {
                                    "0": "Luis Saucedo"
                                },
                                {
                                    "0": "Emma Salpa"
                                },
                                {
                                    "0": "Adriana Pena"
                                },
                                {
                                    "0": "Kalyani Benjaree"
                                },
                                {
                                    "0": "Ganesh Majumdar"
                                },
                                {
                                    "0": "Jaroslav Fisar"
                                },
                                {
                                    "0": "Jibek Juniskyzy"
                                },
                                {
                                    "0": "Anand Mudaliyar"
                                },
                                {
                                    "0": "Agrita Abele"
                                }
                            ]
                        },
                        "text/html": "<table><tr><th>CustomerName</th></tr><tr><td>Tailspin Toys (Head Office)</td></tr><tr><td>Tailspin Toys (Sylvanite, MT)</td></tr><tr><td>Tailspin Toys (Peeples Valley, AZ)</td></tr><tr><td>Tailspin Toys (Medicine Lodge, KS)</td></tr><tr><td>Tailspin Toys (Gasport, NY)</td></tr><tr><td>Tailspin Toys (Jessie, ND)</td></tr><tr><td>Tailspin Toys (Frankewing, TN)</td></tr><tr><td>Tailspin Toys (Bow Mar, CO)</td></tr><tr><td>Tailspin Toys (Netcong, NJ)</td></tr><tr><td>Tailspin Toys (Wimbledon, ND)</td></tr><tr><td>Tailspin Toys (Devault, PA)</td></tr><tr><td>Tailspin Toys (Biscay, MN)</td></tr><tr><td>Tailspin Toys (Stonefort, IL)</td></tr><tr><td>Tailspin Toys (Long Meadow, MD)</td></tr><tr><td>Tailspin Toys (Batson, TX)</td></tr><tr><td>Tailspin Toys (Coney Island, MO)</td></tr><tr><td>Tailspin Toys (East Fultonham, OH)</td></tr><tr><td>Tailspin Toys (Goffstown, NH)</td></tr><tr><td>Tailspin Toys (Lemeta, AK)</td></tr><tr><td>Tailspin Toys (College Place, WA)</td></tr><tr><td>Tailspin Toys (Tresckow, PA)</td></tr><tr><td>Tailspin Toys (Ward Ridge, FL)</td></tr><tr><td>Tailspin Toys (Ikatan, AK)</td></tr><tr><td>Tailspin Toys (Dundarrach, NC)</td></tr><tr><td>Tailspin Toys (Avenal, CA)</td></tr><tr><td>Tailspin Toys (Hedrick, IA)</td></tr><tr><td>Tailspin Toys (Bowlus, MN)</td></tr><tr><td>Tailspin Toys (North Ridge, NY)</td></tr><tr><td>Tailspin Toys (Eulaton, AL)</td></tr><tr><td>Tailspin Toys (Koontzville, WA)</td></tr><tr><td>Tailspin Toys (Lake Stevens, WA)</td></tr><tr><td>Tailspin Toys (Maypearl, TX)</td></tr><tr><td>Tailspin Toys (Boyden Arbor, SC)</td></tr><tr><td>Tailspin Toys (Dallardsville, TX)</td></tr><tr><td>Tailspin Toys (Slanesville, WV)</td></tr><tr><td>Tailspin Toys (Ekron, KY)</td></tr><tr><td>Tailspin Toys (Kerby, OR)</td></tr><tr><td>Tailspin Toys (Airport Drive, MO)</td></tr><tr><td>Tailspin Toys (Diablock, KY)</td></tr><tr><td>Tailspin Toys (Impact, TX)</td></tr><tr><td>Tailspin Toys (Olivette, MO)</td></tr><tr><td>Tailspin Toys (Arietta, NY)</td></tr><tr><td>Tailspin Toys (Upper Preston, WA)</td></tr><tr><td>Tailspin Toys (Amanda Park, WA)</td></tr><tr><td>Tailspin Toys (Severna Park, MD)</td></tr><tr><td>Tailspin Toys (Jemison, AL)</td></tr><tr><td>Tailspin Toys (Lake Hughes, CA)</td></tr><tr><td>Tailspin Toys (Trentwood, WA)</td></tr><tr><td>Tailspin Toys (Muir, MI)</td></tr><tr><td>Tailspin Toys (Hambleton, WV)</td></tr><tr><td>Tailspin Toys (Imlaystown, NJ)</td></tr><tr><td>Tailspin Toys (Idria, CA)</td></tr><tr><td>Tailspin Toys (Nanafalia, AL)</td></tr><tr><td>Tailspin Toys (Railroad, PA)</td></tr><tr><td>Tailspin Toys (Gum Branch, GA)</td></tr><tr><td>Tailspin Toys (Royal City, WA)</td></tr><tr><td>Tailspin Toys (Lakemore, OH)</td></tr><tr><td>Tailspin Toys (Mappsburg, VA)</td></tr><tr><td>Tailspin Toys (Edgartown, MA)</td></tr><tr><td>Tailspin Toys (East Dailey, WV)</td></tr><tr><td>Tailspin Toys (Fairfield Glade, TN)</td></tr><tr><td>Tailspin Toys (Great Neck Estates, NY)</td></tr><tr><td>Tailspin Toys (Stallion Springs, CA)</td></tr><tr><td>Tailspin Toys (Hodgdon, ME)</td></tr><tr><td>Tailspin Toys (North Cowden, TX)</td></tr><tr><td>Tailspin Toys (Madaket, MA)</td></tr><tr><td>Tailspin Toys (Sentinel Butte, ND)</td></tr><tr><td>Tailspin Toys (Gardere, LA)</td></tr><tr><td>Tailspin Toys (Lytle Creek, CA)</td></tr><tr><td>Tailspin Toys (New Baden, IL)</td></tr><tr><td>Tailspin Toys (Good Hart, MI)</td></tr><tr><td>Tailspin Toys (Cortaro, AZ)</td></tr><tr><td>Tailspin Toys (Cokato, MN)</td></tr><tr><td>Tailspin Toys (Indios, PR)</td></tr><tr><td>Tailspin Toys (Windsor Locks, CT)</td></tr><tr><td>Tailspin Toys (Yewed, OK)</td></tr><tr><td>Tailspin Toys (Hahira, GA)</td></tr><tr><td>Tailspin Toys (Sekiu, WA)</td></tr><tr><td>Tailspin Toys (Page City, KS)</td></tr><tr><td>Tailspin Toys (Valdese, NC)</td></tr><tr><td>Tailspin Toys (Big Moose, NY)</td></tr><tr><td>Tailspin Toys (La Cueva, NM)</td></tr><tr><td>Tailspin Toys (Absecon, NJ)</td></tr><tr><td>Tailspin Toys (Aceitunas, PR)</td></tr><tr><td>Tailspin Toys (Andrix, CO)</td></tr><tr><td>Tailspin Toys (New Lexington, OH)</td></tr><tr><td>Tailspin Toys (Sauquoit, NY)</td></tr><tr><td>Tailspin Toys (Dracut, MA)</td></tr><tr><td>Tailspin Toys (Victory Gardens, NJ)</td></tr><tr><td>Tailspin Toys (Tolna, ND)</td></tr><tr><td>Tailspin Toys (Alstead, NH)</td></tr><tr><td>Tailspin Toys (Sans Souci, SC)</td></tr><tr><td>Tailspin Toys (Clewiston, FL)</td></tr><tr><td>Tailspin Toys (Cheyenne Wells, CO)</td></tr><tr><td>Tailspin Toys (Lavon, TX)</td></tr><tr><td>Tailspin Toys (South La Paloma, TX)</td></tr><tr><td>Tailspin Toys (Manchester Center, VT)</td></tr><tr><td>Tailspin Toys (El Centro, CA)</td></tr><tr><td>Tailspin Toys (Guin, AL)</td></tr><tr><td>Tailspin Toys (Tunnelhill, PA)</td></tr><tr><td>Tailspin Toys (Cundiyo, NM)</td></tr><tr><td>Tailspin Toys (Fieldbrook, CA)</td></tr><tr><td>Tailspin Toys (Kalvesta, KS)</td></tr><tr><td>Tailspin Toys (Wallagrass, ME)</td></tr><tr><td>Tailspin Toys (Tomnolen, MS)</td></tr><tr><td>Tailspin Toys (Tumacacori, AZ)</td></tr><tr><td>Tailspin Toys (Glen Avon, CA)</td></tr><tr><td>Tailspin Toys (Bernie, MO)</td></tr><tr><td>Tailspin Toys (South Laguna, CA)</td></tr><tr><td>Tailspin Toys (North Crows Nest, IN)</td></tr><tr><td>Tailspin Toys (Oriole Beach, FL)</td></tr><tr><td>Tailspin Toys (Sallyards, KS)</td></tr><tr><td>Tailspin Toys (Dahlia, NM)</td></tr><tr><td>Tailspin Toys (Cherry Grove Beach, SC)</td></tr><tr><td>Tailspin Toys (Bethania, NC)</td></tr><tr><td>Tailspin Toys (Rafael Capó, PR)</td></tr><tr><td>Tailspin Toys (Scofield, UT)</td></tr><tr><td>Tailspin Toys (Vassalboro, ME)</td></tr><tr><td>Tailspin Toys (Statenville, GA)</td></tr><tr><td>Tailspin Toys (Bratenahl, OH)</td></tr><tr><td>Tailspin Toys (Elrosa, MN)</td></tr><tr><td>Tailspin Toys (McClave, CO)</td></tr><tr><td>Tailspin Toys (Roe Park, NY)</td></tr><tr><td>Tailspin Toys (Hanoverton, OH)</td></tr><tr><td>Tailspin Toys (Annamoriah, WV)</td></tr><tr><td>Tailspin Toys (Francis Mills, NJ)</td></tr><tr><td>Tailspin Toys (Point Roberts, WA)</td></tr><tr><td>Tailspin Toys (East Portal, CO)</td></tr><tr><td>Tailspin Toys (Mineral Hills, MI)</td></tr><tr><td>Tailspin Toys (Maple Shade, NJ)</td></tr><tr><td>Tailspin Toys (Kwethluk, AK)</td></tr><tr><td>Tailspin Toys (Minidoka, ID)</td></tr><tr><td>Tailspin Toys (Lake Erie Beach, NY)</td></tr><tr><td>Tailspin Toys (Tavares, FL)</td></tr><tr><td>Tailspin Toys (Terre du Lac, MO)</td></tr><tr><td>Tailspin Toys (Mount Montgomery, NV)</td></tr><tr><td>Tailspin Toys (Carbonville, UT)</td></tr><tr><td>Tailspin Toys (Navassa, NC)</td></tr><tr><td>Tailspin Toys (Hardeeville, SC)</td></tr><tr><td>Tailspin Toys (Furley, KS)</td></tr><tr><td>Tailspin Toys (Arrow Rock, MO)</td></tr><tr><td>Tailspin Toys (King Cove, AK)</td></tr><tr><td>Tailspin Toys (Ashtabula, OH)</td></tr><tr><td>Tailspin Toys (Larose, LA)</td></tr><tr><td>Tailspin Toys (Manahawkin, NJ)</td></tr><tr><td>Tailspin Toys (Belgreen, AL)</td></tr><tr><td>Tailspin Toys (Fishtail, MT)</td></tr><tr><td>Tailspin Toys (Baraboo, WI)</td></tr><tr><td>Tailspin Toys (Inguadona, MN)</td></tr><tr><td>Tailspin Toys (Corfu, NY)</td></tr><tr><td>Tailspin Toys (Antares, AZ)</td></tr><tr><td>Tailspin Toys (Sun River, MT)</td></tr><tr><td>Tailspin Toys (Marcell, MN)</td></tr><tr><td>Tailspin Toys (Eden Valley, MN)</td></tr><tr><td>Tailspin Toys (Arbor Vitae, WI)</td></tr><tr><td>Tailspin Toys (Hollywood Park, TX)</td></tr><tr><td>Tailspin Toys (Saks, AL)</td></tr><tr><td>Tailspin Toys (Donner, LA)</td></tr><tr><td>Tailspin Toys (Saint Louis Park, MN)</td></tr><tr><td>Tailspin Toys (Crary, ND)</td></tr><tr><td>Tailspin Toys (Aspen Park, CO)</td></tr><tr><td>Tailspin Toys (Glen Park, NY)</td></tr><tr><td>Tailspin Toys (Panaca, NV)</td></tr><tr><td>Tailspin Toys (Rothsville, PA)</td></tr><tr><td>Tailspin Toys (Topstone, CT)</td></tr><tr><td>Tailspin Toys (McCamey, TX)</td></tr><tr><td>Tailspin Toys (Rockwall, TX)</td></tr><tr><td>Tailspin Toys (Seagraves, TX)</td></tr><tr><td>Tailspin Toys (Sinclair, WY)</td></tr><tr><td>Tailspin Toys (Eastchester, NY)</td></tr><tr><td>Tailspin Toys (Ortley Beach, NJ)</td></tr><tr><td>Tailspin Toys (Madrone, NM)</td></tr><tr><td>Tailspin Toys (Wappingers Falls, NY)</td></tr><tr><td>Tailspin Toys (Astor Park, FL)</td></tr><tr><td>Tailspin Toys (San Acacia, NM)</td></tr><tr><td>Tailspin Toys (Malott, WA)</td></tr><tr><td>Tailspin Toys (Orrtanna, PA)</td></tr><tr><td>Tailspin Toys (Armstrong Creek, WI)</td></tr><tr><td>Tailspin Toys (Hiteman, IA)</td></tr><tr><td>Tailspin Toys (Caselton, NV)</td></tr><tr><td>Tailspin Toys (Heilwood, PA)</td></tr><tr><td>Tailspin Toys (Hayes Center, NE)</td></tr><tr><td>Tailspin Toys (Tierra Verde, FL)</td></tr><tr><td>Tailspin Toys (South Euclid, OH)</td></tr><tr><td>Tailspin Toys (Vidrine, LA)</td></tr><tr><td>Tailspin Toys (Placer, OR)</td></tr><tr><td>Tailspin Toys (Brown City, MI)</td></tr><tr><td>Tailspin Toys (Premont, TX)</td></tr><tr><td>Tailspin Toys (Wilkes-Barre, PA)</td></tr><tr><td>Tailspin Toys (Teutopolis, IL)</td></tr><tr><td>Tailspin Toys (Orchard Hill, GA)</td></tr><tr><td>Tailspin Toys (Optimo, NM)</td></tr><tr><td>Tailspin Toys (Knifley, KY)</td></tr><tr><td>Tailspin Toys (Naples Park, FL)</td></tr><tr><td>Tailspin Toys (Lesslie, SC)</td></tr><tr><td>Tailspin Toys (Howells, NE)</td></tr><tr><td>Tailspin Toys (Magalia, CA)</td></tr><tr><td>Tailspin Toys (Buell, MO)</td></tr><tr><td>Tailspin Toys (Antonito, CO)</td></tr><tr><td>Tailspin Toys (Tooele, UT)</td></tr><tr><td>Tailspin Toys (Skyway, WA)</td></tr><tr><td>Wingtip Toys (Head Office)</td></tr><tr><td>Wingtip Toys (Black Lick, PA)</td></tr><tr><td>Wingtip Toys (Queen Valley, AZ)</td></tr><tr><td>Wingtip Toys (Penns Creek, PA)</td></tr><tr><td>Wingtip Toys (Bourbonnais, IL)</td></tr><tr><td>Wingtip Toys (Tuscaloosa, AL)</td></tr><tr><td>Wingtip Toys (Mooringsport, LA)</td></tr><tr><td>Wingtip Toys (Rockwall, TX)</td></tr><tr><td>Wingtip Toys (Orick, CA)</td></tr><tr><td>Wingtip Toys (Bernstein, TX)</td></tr><tr><td>Wingtip Toys (Edmund, WI)</td></tr><tr><td>Wingtip Toys (Bozeman Hot Springs, MT)</td></tr><tr><td>Wingtip Toys (Truscott, TX)</td></tr><tr><td>Wingtip Toys (Rose Tree, PA)</td></tr><tr><td>Wingtip Toys (Leathersville, GA)</td></tr><tr><td>Wingtip Toys (Necedah, WI)</td></tr><tr><td>Wingtip Toys (Chetek, WI)</td></tr><tr><td>Wingtip Toys (Yaak, MT)</td></tr><tr><td>Wingtip Toys (Compass Lake, FL)</td></tr><tr><td>Wingtip Toys (Herlong, CA)</td></tr><tr><td>Wingtip Toys (Highland Home, AL)</td></tr><tr><td>Wingtip Toys (Naches, WA)</td></tr><tr><td>Wingtip Toys (Baldwin City, KS)</td></tr><tr><td>Wingtip Toys (Heartwell, NE)</td></tr><tr><td>Wingtip Toys (Bethel Acres, OK)</td></tr><tr><td>Wingtip Toys (Willow Valley, AZ)</td></tr><tr><td>Wingtip Toys (Athol Springs, NY)</td></tr><tr><td>Wingtip Toys (Paw Paw Lake, MI)</td></tr><tr><td>Wingtip Toys (Lilbourn, MO)</td></tr><tr><td>Wingtip Toys (Lost River, ID)</td></tr><tr><td>Wingtip Toys (Rosa Sánchez, PR)</td></tr><tr><td>Wingtip Toys (Vamo, FL)</td></tr><tr><td>Wingtip Toys (Balko, OK)</td></tr><tr><td>Wingtip Toys (Lime Lake, NY)</td></tr><tr><td>Wingtip Toys (Teutopolis, IL)</td></tr><tr><td>Wingtip Toys (Gargatha, VA)</td></tr><tr><td>Wingtip Toys (Cadogan, PA)</td></tr><tr><td>Wingtip Toys (Lucasville, OH)</td></tr><tr><td>Wingtip Toys (Cylon, WI)</td></tr><tr><td>Wingtip Toys (Asher, OK)</td></tr><tr><td>Wingtip Toys (Keosauqua, IA)</td></tr><tr><td>Wingtip Toys (Homer City, PA)</td></tr><tr><td>Wingtip Toys (Berville, MI)</td></tr><tr><td>Wingtip Toys (Tea, SD)</td></tr><tr><td>Wingtip Toys (Dacono, CO)</td></tr><tr><td>Wingtip Toys (Saint Landry, LA)</td></tr><tr><td>Wingtip Toys (Coin, IA)</td></tr><tr><td>Wingtip Toys (Salt Wells, NV)</td></tr><tr><td>Wingtip Toys (Delray, WV)</td></tr><tr><td>Wingtip Toys (Mount Summit, IN)</td></tr><tr><td>Wingtip Toys (Smoot, WY)</td></tr><tr><td>Wingtip Toys (Lake Davis, CA)</td></tr><tr><td>Wingtip Toys (Stanardsville, VA)</td></tr><tr><td>Wingtip Toys (Corcovado, PR)</td></tr><tr><td>Wingtip Toys (Taft Heights, CA)</td></tr><tr><td>Wingtip Toys (West Hempstead, NY)</td></tr><tr><td>Wingtip Toys (Portales, NM)</td></tr><tr><td>Wingtip Toys (Coker, AL)</td></tr><tr><td>Wingtip Toys (Haydenville, OH)</td></tr><tr><td>Wingtip Toys (Mayhill, NM)</td></tr><tr><td>Wingtip Toys (Vair, TX)</td></tr><tr><td>Wingtip Toys (Crossroads, NM)</td></tr><tr><td>Wingtip Toys (Cowlington, OK)</td></tr><tr><td>Wingtip Toys (Glen Ullin, ND)</td></tr><tr><td>Wingtip Toys (Oologah, OK)</td></tr><tr><td>Wingtip Toys (Lytle, TX)</td></tr><tr><td>Wingtip Toys (Mahaffey, PA)</td></tr><tr><td>Wingtip Toys (Sunburg, MN)</td></tr><tr><td>Wingtip Toys (Johnetta, KY)</td></tr><tr><td>Wingtip Toys (Universal City, TX)</td></tr><tr><td>Wingtip Toys (Ridgemark, CA)</td></tr><tr><td>Wingtip Toys (San Jacinto, CA)</td></tr><tr><td>Wingtip Toys (Floriston, CA)</td></tr><tr><td>Wingtip Toys (Bokeelia, FL)</td></tr><tr><td>Wingtip Toys (Cale, AR)</td></tr><tr><td>Wingtip Toys (Karthaus, PA)</td></tr><tr><td>Wingtip Toys (Glancy, MS)</td></tr><tr><td>Wingtip Toys (Stoneboro, PA)</td></tr><tr><td>Wingtip Toys (Mier, IN)</td></tr><tr><td>Wingtip Toys (Wapinitia, OR)</td></tr><tr><td>Wingtip Toys (White Church, MO)</td></tr><tr><td>Wingtip Toys (Caton, NY)</td></tr><tr><td>Wingtip Toys (Plum Branch, SC)</td></tr><tr><td>Wingtip Toys (Mauldin, SC)</td></tr><tr><td>Wingtip Toys (Bonner Springs, KS)</td></tr><tr><td>Wingtip Toys (Lowellville, OH)</td></tr><tr><td>Wingtip Toys (Elverson, PA)</td></tr><tr><td>Wingtip Toys (Isabela, PR)</td></tr><tr><td>Wingtip Toys (Sayner, WI)</td></tr><tr><td>Wingtip Toys (Beals, ME)</td></tr><tr><td>Wingtip Toys (Morton Grove, IL)</td></tr><tr><td>Wingtip Toys (Birds, IL)</td></tr><tr><td>Wingtip Toys (Federalsburg, MD)</td></tr><tr><td>Wingtip Toys (Pikeview, CO)</td></tr><tr><td>Wingtip Toys (Boalsburg, PA)</td></tr><tr><td>Wingtip Toys (Port Hueneme, CA)</td></tr><tr><td>Wingtip Toys (Verdery, SC)</td></tr><tr><td>Wingtip Toys (Obetz, OH)</td></tr><tr><td>Wingtip Toys (East Fultonham, OH)</td></tr><tr><td>Wingtip Toys (Obion, TN)</td></tr><tr><td>Wingtip Toys (Cavendish, VT)</td></tr><tr><td>Wingtip Toys (Miesville, MN)</td></tr><tr><td>Wingtip Toys (Valhalla, NC)</td></tr><tr><td>Wingtip Toys (Cape Neddick, ME)</td></tr><tr><td>Wingtip Toys (Silver Plume, CO)</td></tr><tr><td>Wingtip Toys (North Beach Haven, NJ)</td></tr><tr><td>Wingtip Toys (Downingtown, PA)</td></tr><tr><td>Wingtip Toys (Branson West, MO)</td></tr><tr><td>Wingtip Toys (Bergen Park, CO)</td></tr><tr><td>Wingtip Toys (Grabill, IN)</td></tr><tr><td>Wingtip Toys (North Manitou, MI)</td></tr><tr><td>Wingtip Toys (Philip, SD)</td></tr><tr><td>Wingtip Toys (Straughn, IN)</td></tr><tr><td>Wingtip Toys (Gilford, NH)</td></tr><tr><td>Wingtip Toys (Del Valle, TX)</td></tr><tr><td>Wingtip Toys (Harkers Island, NC)</td></tr><tr><td>Wingtip Toys (Licking, MO)</td></tr><tr><td>Wingtip Toys (Raton, NM)</td></tr><tr><td>Wingtip Toys (Boynton, OK)</td></tr><tr><td>Wingtip Toys (Frenchburg, KY)</td></tr><tr><td>Wingtip Toys (Robertsdale, AL)</td></tr><tr><td>Wingtip Toys (Dickerson, MD)</td></tr><tr><td>Wingtip Toys (Bruceton Mills, WV)</td></tr><tr><td>Wingtip Toys (Cloquet, MN)</td></tr><tr><td>Wingtip Toys (Claycomo, MO)</td></tr><tr><td>Wingtip Toys (Beekmantown, NY)</td></tr><tr><td>Wingtip Toys (Islip Terrace, NY)</td></tr><tr><td>Wingtip Toys (Rich Creek, VA)</td></tr><tr><td>Wingtip Toys (Griswoldville, GA)</td></tr><tr><td>Wingtip Toys (East Mountain, TX)</td></tr><tr><td>Wingtip Toys (Omer, MI)</td></tr><tr><td>Wingtip Toys (Waycross, GA)</td></tr><tr><td>Wingtip Toys (Nichols Hills, OK)</td></tr><tr><td>Wingtip Toys (Plaquemine, LA)</td></tr><tr><td>Wingtip Toys (Triadelphia, WV)</td></tr><tr><td>Wingtip Toys (Ferney, SD)</td></tr><tr><td>Wingtip Toys (Akhiok, AK)</td></tr><tr><td>Wingtip Toys (Deeson, MS)</td></tr><tr><td>Wingtip Toys (Nuangola, PA)</td></tr><tr><td>Wingtip Toys (Weld, ME)</td></tr><tr><td>Wingtip Toys (Mickleton, NJ)</td></tr><tr><td>Wingtip Toys (Schererville, IN)</td></tr><tr><td>Wingtip Toys (Lexington Heights, MI)</td></tr><tr><td>Wingtip Toys (Broomtown, AL)</td></tr><tr><td>Wingtip Toys (Jamison, IA)</td></tr><tr><td>Wingtip Toys (Key Biscayne, FL)</td></tr><tr><td>Wingtip Toys (Chaseley, ND)</td></tr><tr><td>Wingtip Toys (Indian Creek, IL)</td></tr><tr><td>Wingtip Toys (Lake Ronkonkoma, NY)</td></tr><tr><td>Wingtip Toys (Morrison Bluff, AR)</td></tr><tr><td>Wingtip Toys (Huntingburg, IN)</td></tr><tr><td>Wingtip Toys (Shay, PA)</td></tr><tr><td>Wingtip Toys (Helotes, TX)</td></tr><tr><td>Wingtip Toys (Hollandsburg, IN)</td></tr><tr><td>Wingtip Toys (Liberty Grove, MD)</td></tr><tr><td>Wingtip Toys (Morita, TX)</td></tr><tr><td>Wingtip Toys (New Laguna, NM)</td></tr><tr><td>Wingtip Toys (Bourneville, OH)</td></tr><tr><td>Wingtip Toys (Mendoza, TX)</td></tr><tr><td>Wingtip Toys (Palmas del Mar, PR)</td></tr><tr><td>Wingtip Toys (Marion Junction, AL)</td></tr><tr><td>Wingtip Toys (Ware Shoals, SC)</td></tr><tr><td>Wingtip Toys (Lostine, OR)</td></tr><tr><td>Wingtip Toys (Tilleda, WI)</td></tr><tr><td>Wingtip Toys (Wapiti, WY)</td></tr><tr><td>Wingtip Toys (Amado, AZ)</td></tr><tr><td>Wingtip Toys (Jeromesville, OH)</td></tr><tr><td>Wingtip Toys (Ovilla, TX)</td></tr><tr><td>Wingtip Toys (West Frostproof, FL)</td></tr><tr><td>Wingtip Toys (Flomaton, AL)</td></tr><tr><td>Wingtip Toys (Pawlet, VT)</td></tr><tr><td>Wingtip Toys (Trout Run, PA)</td></tr><tr><td>Wingtip Toys (Marin City, CA)</td></tr><tr><td>Wingtip Toys (Molalla, OR)</td></tr><tr><td>Wingtip Toys (Trumansburg, NY)</td></tr><tr><td>Wingtip Toys (Goodings Grove, IL)</td></tr><tr><td>Wingtip Toys (Cherryplain, NY)</td></tr><tr><td>Wingtip Toys (Bell Acres, PA)</td></tr><tr><td>Wingtip Toys (Connoquenessing, PA)</td></tr><tr><td>Wingtip Toys (Sarversville, PA)</td></tr><tr><td>Wingtip Toys (Munich, ND)</td></tr><tr><td>Wingtip Toys (Montoya, NM)</td></tr><tr><td>Wingtip Toys (Knights Landing, CA)</td></tr><tr><td>Wingtip Toys (Cache, OK)</td></tr><tr><td>Wingtip Toys (Towaco, NJ)</td></tr><tr><td>Wingtip Toys (Lynne, FL)</td></tr><tr><td>Wingtip Toys (Plata, TX)</td></tr><tr><td>Wingtip Toys (Oak Point, TX)</td></tr><tr><td>Wingtip Toys (Alcester, SD)</td></tr><tr><td>Wingtip Toys (McAdenville, NC)</td></tr><tr><td>Wingtip Toys (Idaho City, ID)</td></tr><tr><td>Wingtip Toys (Dunkerton, IA)</td></tr><tr><td>Wingtip Toys (Cuyamungue, NM)</td></tr><tr><td>Wingtip Toys (Marfa, TX)</td></tr><tr><td>Wingtip Toys (Accomac, VA)</td></tr><tr><td>Wingtip Toys (Cos Cob, CT)</td></tr><tr><td>Wingtip Toys (Haycock, AK)</td></tr><tr><td>Wingtip Toys (Kapa'a, HI)</td></tr><tr><td>Wingtip Toys (Dickworsham, TX)</td></tr><tr><td>Wingtip Toys (Caro, MI)</td></tr><tr><td>Wingtip Toys (Ruthsburg, MD)</td></tr><tr><td>Eric Torres</td></tr><tr><td>Cosmina Vlad</td></tr><tr><td>Bala Dixit</td></tr><tr><td>Aleksandrs Riekstins</td></tr><tr><td>Ratan Poddar</td></tr><tr><td>Shi Tu</td></tr><tr><td>Gunnar Lohmus</td></tr><tr><td>Jackson Kolios</td></tr><tr><td>Madhu Dwivedi</td></tr><tr><td>Alena Kellnerova</td></tr><tr><td>Surendra Sahu</td></tr><tr><td>Celica Barajas</td></tr><tr><td>Shyam Poddar</td></tr><tr><td>Johanna Hoornstra</td></tr><tr><td>Libuse Valentova</td></tr><tr><td>Harsha Huq</td></tr><tr><td>Agrita Kanepa</td></tr><tr><td>Liia Orav</td></tr><tr><td>Santiago Vera</td></tr><tr><td>Knut Svensson</td></tr><tr><td>Kwanjai Saowaluk</td></tr><tr><td>Suparna Bhattacharya</td></tr><tr><td>Francisca Laureano</td></tr><tr><td>Risto Valbe</td></tr><tr><td>Jayanta Thakur</td></tr><tr><td>Leila Carvalho</td></tr><tr><td>Crina Grasu</td></tr><tr><td>Sercan Celik</td></tr><tr><td>Jack Walker</td></tr><tr><td>Jana Fialova</td></tr><tr><td>Bhaavan Rai</td></tr><tr><td>Aakriti Byrraju</td></tr><tr><td>Devraj Rao</td></tr><tr><td>Cong Hoa</td></tr><tr><td>Dominic Davignon</td></tr><tr><td>Abel Spirlea</td></tr><tr><td>Anil Sarkar</td></tr><tr><td>Pavel Bogdanov</td></tr><tr><td>Juan Morse</td></tr><tr><td>Rodrigo Figueiredo</td></tr><tr><td>Camille Authier</td></tr><tr><td>Biju Deb</td></tr><tr><td>Marija Justina Pasek</td></tr><tr><td>Durdanah Abbasi</td></tr><tr><td>Emilie Hrdlickova</td></tr><tr><td>Malorie Bousquet</td></tr><tr><td>Kristiina Ivanov</td></tr><tr><td>Alvin Bollinger</td></tr><tr><td>Sabine Zalite</td></tr><tr><td>Daakshaayaani Sankaramanchi</td></tr><tr><td>Ebru Erdogan</td></tr><tr><td>Bhagavaan Atluri</td></tr><tr><td>Caterina Pinto</td></tr><tr><td>Daakshaayaani Kommineni</td></tr><tr><td>Anna Mazzanti</td></tr><tr><td>Satish Mittal</td></tr><tr><td>Clarissa Manfrin</td></tr><tr><td>Bimla PrabhupÄda</td></tr><tr><td>Shah Alizadeh</td></tr><tr><td>Marcela Lucescu</td></tr><tr><td>Amarasimha Vinjamuri</td></tr><tr><td>Lana Goransson</td></tr><tr><td>Jakub Lukes</td></tr><tr><td>Mikhail Degtyarev</td></tr><tr><td>Bijoya Thakur</td></tr><tr><td>Jay Bhuiyan</td></tr><tr><td>Jasna Cerkez</td></tr><tr><td>Laura Sykorova</td></tr><tr><td>Abel Tatarescu</td></tr><tr><td>In-Su Bae</td></tr><tr><td>Darshana Madhunapantula</td></tr><tr><td>Katerina Hadrabova</td></tr><tr><td>Hana Hlouskova</td></tr><tr><td>Daniel Martensson</td></tr><tr><td>Philip Walker</td></tr><tr><td>Marie LeBatelier</td></tr><tr><td>Leyla Siavashi</td></tr><tr><td>Miriam House</td></tr><tr><td>Jitka Necesana</td></tr><tr><td>Edmee Glissen</td></tr><tr><td>Magdalena Michnova</td></tr><tr><td>Maryann Huddleston</td></tr><tr><td>Radha Barua</td></tr><tr><td>Anindya Ghatak</td></tr><tr><td>Chandrashekhar Dasgupta</td></tr><tr><td>Debbie Molina</td></tr><tr><td>Baran Jonsson</td></tr><tr><td>Jai Lamble</td></tr><tr><td>Sointu Savonheimo</td></tr><tr><td>Olya Izmaylov</td></tr><tr><td>Taneli Riutta</td></tr><tr><td>Bahaar Asef zade</td></tr><tr><td>Leyla Asef zade</td></tr><tr><td>Gabriela Hernandes</td></tr><tr><td>Geza Roman</td></tr><tr><td>Leonardo Folliero</td></tr><tr><td>Allan Mannik</td></tr><tr><td>Gopalgobinda Sikdar</td></tr><tr><td>Chin-Sun Chang</td></tr><tr><td>Lilli Sokk</td></tr><tr><td>Adrian Andreasson</td></tr><tr><td>Kamila Michnova</td></tr><tr><td>Bing Han</td></tr><tr><td>Olafs Rozitis</td></tr><tr><td>Sara Huiting</td></tr><tr><td>Ajitaab Pakalapati</td></tr><tr><td>Eugen Agafitei</td></tr><tr><td>Sumati Bhat</td></tr><tr><td>Dena Glissen</td></tr><tr><td>Elina Kaleja</td></tr><tr><td>Liidia Lepp</td></tr><tr><td>Volkan senturk</td></tr><tr><td>Violetta KlanCisar</td></tr><tr><td>Chandana Shasthri</td></tr><tr><td>Ana Florea</td></tr><tr><td>Pinja Jantunen</td></tr><tr><td>Pari Hosseini</td></tr><tr><td>Isidora Morales</td></tr><tr><td>Kertu Sokk</td></tr><tr><td>Gayatri Gajula</td></tr><tr><td>Victoria Lacusta</td></tr><tr><td>Sumati Chatterjee</td></tr><tr><td>Tai Bach</td></tr><tr><td>Eva Schulteisz</td></tr><tr><td>Can ozcan</td></tr><tr><td>Richard Friar</td></tr><tr><td>Matyas Sedlar</td></tr><tr><td>Arijit Bhuiyan</td></tr><tr><td>Vladimir Henzl</td></tr><tr><td>Shantanu Huq</td></tr><tr><td>Nada Jovanovic</td></tr><tr><td>Nicolo Cattaneo</td></tr><tr><td>Joel Carrillo</td></tr><tr><td>Ivan Sepulveda</td></tr><tr><td>Daevasree Samavedam</td></tr><tr><td>Ludmila Smidova</td></tr><tr><td>Manca Hrastovsek</td></tr><tr><td>Anna Gyarmathi</td></tr><tr><td>Ioana Florea</td></tr><tr><td>Lorin Astrom</td></tr><tr><td>Bishwa Chatterjee</td></tr><tr><td>Chaayaadaevi Sonti</td></tr><tr><td>Drazenka Jelic</td></tr><tr><td>Ida Celma</td></tr><tr><td>Hoc Tran</td></tr><tr><td>David safranek</td></tr><tr><td>Svetlana Todorovic</td></tr><tr><td>Richard Zahradnicek</td></tr><tr><td>Seo-yun Paik</td></tr><tr><td>Emily Whittle</td></tr><tr><td>Eliza Persson</td></tr><tr><td>Chuan Wattanasin</td></tr><tr><td>Linh Dao</td></tr><tr><td>Nasrin Omidzadeh</td></tr><tr><td>Raghu Sandhu</td></tr><tr><td>Nhung Thach</td></tr><tr><td>Hee-Young Suh</td></tr><tr><td>Valentin Tirlea</td></tr><tr><td>Dhaatri Chavva</td></tr><tr><td>Edgar Jogi</td></tr><tr><td>Rani Ganguly</td></tr><tr><td>Bhagavati Vinjamuri</td></tr><tr><td>Be Trang</td></tr><tr><td>Ingrida Zeltina</td></tr><tr><td>Phoung Cu</td></tr><tr><td>Sara Walkky</td></tr><tr><td>Meera Patel</td></tr><tr><td>Anca Gogean</td></tr><tr><td>Staffan Persson</td></tr><tr><td>Isidora Urias</td></tr><tr><td>Dhanishta Mokkapati</td></tr><tr><td>Lakshmi Benipal</td></tr><tr><td>Kumar Kamei</td></tr><tr><td>Emil Roman</td></tr><tr><td>Prabodh Nair</td></tr><tr><td>Alinne Matos</td></tr><tr><td>Mauno Laurila</td></tr><tr><td>Baalaamjali Devulapalli</td></tr><tr><td>Melani Ravlen</td></tr><tr><td>Om Yadav</td></tr><tr><td>Mahmut ozbek</td></tr><tr><td>Yves Belisle</td></tr><tr><td>Sabine Alksne</td></tr><tr><td>Kamala Nishad</td></tr><tr><td>Roko Ilic</td></tr><tr><td>Neil Farrelly</td></tr><tr><td>Akhil Nadar</td></tr><tr><td>Maksims Krastins</td></tr><tr><td>Milinka Zujovic</td></tr><tr><td>Andris Saulitis</td></tr><tr><td>Valter Viiding</td></tr><tr><td>Amarakumaar Gadiyaram</td></tr><tr><td>Gasper Havzija</td></tr><tr><td>Libuse Kuchtova</td></tr><tr><td>Kumar Naicker</td></tr><tr><td>Laszlo Gardenier</td></tr><tr><td>Nada Ana Slosar</td></tr><tr><td>Mahavir Sonkar</td></tr><tr><td>Kristi Part</td></tr><tr><td>Krishnam Allu</td></tr><tr><td>Dinh Mai</td></tr><tr><td>Stefan Selezeanu</td></tr><tr><td>Hue Ton</td></tr><tr><td>Drishti Bose</td></tr><tr><td>Bhadram Kamasamudram</td></tr><tr><td>Taj Syme</td></tr><tr><td>Irma Berzina</td></tr><tr><td>Vedrana Kovacevic</td></tr><tr><td>Bhagavateeprasaad Malladi</td></tr><tr><td>Serdar ozCelik</td></tr><tr><td>Rajeev Sandhu</td></tr><tr><td>Urve Kasesalu</td></tr><tr><td>Annette  Hetu</td></tr><tr><td>Narendra Tickoo</td></tr><tr><td>Isa Hulsegge</td></tr><tr><td>Aive Petrov</td></tr><tr><td>David Novacek </td></tr><tr><td>Nils Kaulins</td></tr><tr><td>Dhanishta Pullela</td></tr><tr><td>Hai Banh</td></tr><tr><td>Fabrice Cloutier</td></tr><tr><td>Nadir Seddigh</td></tr><tr><td>Farzana Habibi</td></tr><tr><td>Arka Chatterjee</td></tr><tr><td>Tuulikki Linna</td></tr><tr><td>Daniella Cavalcante</td></tr><tr><td>Serdar ozden</td></tr><tr><td>Emma Van Zant</td></tr><tr><td>Veronika Necesana</td></tr><tr><td>Chompoo Atitarn</td></tr><tr><td>Dipti Shah</td></tr><tr><td>Som Mukherjee</td></tr><tr><td>Cuneyt Arslan</td></tr><tr><td>Aishwarya Dantuluri</td></tr><tr><td>Manjunatha Karnik</td></tr><tr><td>Erik Malk</td></tr><tr><td>David Jaramillo</td></tr><tr><td>Damodara Trivedi</td></tr><tr><td>Bhaamini Palagummi</td></tr><tr><td>Damodar Shenoy</td></tr><tr><td>Tomo Vidovic</td></tr><tr><td>Nguyen Banh</td></tr><tr><td>Raj Verma</td></tr><tr><td>Hanita Nookala</td></tr><tr><td>Matteo Cattaneo</td></tr><tr><td>Christian Couet</td></tr><tr><td>Ivana Hadrabova</td></tr><tr><td>Abhra Ganguly</td></tr><tr><td>Amet Shergill</td></tr><tr><td>Amrita Ganguly</td></tr><tr><td>Sylvie Laramee</td></tr><tr><td>Ian Olofsson</td></tr><tr><td>Luis Saucedo</td></tr><tr><td>Emma Salpa</td></tr><tr><td>Adriana Pena</td></tr><tr><td>Kalyani Benjaree</td></tr><tr><td>Ganesh Majumdar</td></tr><tr><td>Jaroslav Fisar</td></tr><tr><td>Jibek Juniskyzy</td></tr><tr><td>Anand Mudaliyar</td></tr><tr><td>Agrita Abele</td></tr></table>"
                    },
                    "metadata": {
                        "resultSet": {
                            "id": 0,
                            "batchId": 0,
                            "rowCount": 663,
                            "complete": true,
                            "columnInfo": [
                                {
                                    "isBytes": false,
                                    "isChars": true,
                                    "isSqlVariant": false,
                                    "isUdt": false,
                                    "isXml": false,
                                    "isJson": false,
                                    "sqlDbType": 12,
                                    "isHierarchyId": false,
                                    "isSqlXmlType": false,
                                    "isUnknownType": false,
                                    "isUpdatable": true,
                                    "allowDBNull": false,
                                    "baseCatalogName": null,
                                    "baseColumnName": null,
                                    "baseSchemaName": null,
                                    "baseServerName": null,
                                    "baseTableName": null,
                                    "columnName": "CustomerName",
                                    "columnOrdinal": 0,
                                    "columnSize": 100,
                                    "isAliased": null,
                                    "isAutoIncrement": false,
                                    "isExpression": null,
                                    "isHidden": null,
                                    "isIdentity": false,
                                    "isKey": null,
                                    "isLong": false,
                                    "isReadOnly": false,
                                    "isUnique": false,
                                    "numericPrecision": 255,
                                    "numericScale": 255,
                                    "udtAssemblyQualifiedName": null,
                                    "dataType": "System.String, System.Private.CoreLib, Version=4.0.0.0, Culture=neutral, PublicKeyToken=7cec85d7bea7798e",
                                    "dataTypeName": "nvarchar"
                                }
                            ],
                            "specialAction": {
                                "none": true,
                                "expectYukonXMLShowPlan": false
                            }
                        }
                    }
                }
            ],
            "execution_count": 24
        },
        {
            "cell_type": "markdown",
            "source": [
                "Which customer has deliveries to Shop 2 and a PO Box in Emilyville?"
            ],
            "metadata": {
                "azdata_cell_guid": "617b6332-1c81-4d7f-a3a8-41a3b6ee1ff9"
            }
        },
        {
            "cell_type": "code",
            "source": [
                "-- Which customer has deliveries to Shop 2 and a PO Box in Emilyville?\r\n",
                "SELECT * FROM Sales.Customers WHERE DeliveryAddressLine1 = 'Shop 2' and PostalAddressLine2 = 'Emilyville'"
            ],
            "metadata": {
                "azdata_cell_guid": "921e3230-103a-4e7b-8379-7112ecc6d56e"
            },
            "outputs": [
                {
                    "output_type": "display_data",
                    "data": {
                        "text/html": "(1 row affected)"
                    },
                    "metadata": {}
                },
                {
                    "output_type": "display_data",
                    "data": {
                        "text/html": "Total execution time: 00:00:00.495"
                    },
                    "metadata": {}
                },
                {
                    "output_type": "execute_result",
                    "execution_count": 25,
                    "data": {
                        "application/vnd.dataresource+json": {
                            "schema": {
                                "fields": [
                                    {
                                        "name": "CustomerID"
                                    },
                                    {
                                        "name": "CustomerName"
                                    },
                                    {
                                        "name": "BillToCustomerID"
                                    },
                                    {
                                        "name": "CustomerCategoryID"
                                    },
                                    {
                                        "name": "BuyingGroupID"
                                    },
                                    {
                                        "name": "PrimaryContactPersonID"
                                    },
                                    {
                                        "name": "AlternateContactPersonID"
                                    },
                                    {
                                        "name": "DeliveryMethodID"
                                    },
                                    {
                                        "name": "DeliveryCityID"
                                    },
                                    {
                                        "name": "PostalCityID"
                                    },
                                    {
                                        "name": "CreditLimit"
                                    },
                                    {
                                        "name": "AccountOpenedDate"
                                    },
                                    {
                                        "name": "StandardDiscountPercentage"
                                    },
                                    {
                                        "name": "IsStatementSent"
                                    },
                                    {
                                        "name": "IsOnCreditHold"
                                    },
                                    {
                                        "name": "PaymentDays"
                                    },
                                    {
                                        "name": "PhoneNumber"
                                    },
                                    {
                                        "name": "FaxNumber"
                                    },
                                    {
                                        "name": "DeliveryRun"
                                    },
                                    {
                                        "name": "RunPosition"
                                    },
                                    {
                                        "name": "WebsiteURL"
                                    },
                                    {
                                        "name": "DeliveryAddressLine1"
                                    },
                                    {
                                        "name": "DeliveryAddressLine2"
                                    },
                                    {
                                        "name": "DeliveryPostalCode"
                                    },
                                    {
                                        "name": "DeliveryLocation"
                                    },
                                    {
                                        "name": "PostalAddressLine1"
                                    },
                                    {
                                        "name": "PostalAddressLine2"
                                    },
                                    {
                                        "name": "PostalPostalCode"
                                    },
                                    {
                                        "name": "LastEditedBy"
                                    },
                                    {
                                        "name": "ValidFrom"
                                    },
                                    {
                                        "name": "ValidTo"
                                    }
                                ]
                            },
                            "data": [
                                {
                                    "0": "1045",
                                    "1": "Matteo Cattaneo",
                                    "2": "1045",
                                    "3": "4",
                                    "4": "NULL",
                                    "5": "3245",
                                    "6": "NULL",
                                    "7": "3",
                                    "8": "24352",
                                    "9": "24352",
                                    "10": "2400.00",
                                    "11": "2015-02-22",
                                    "12": "0.000",
                                    "13": "0",
                                    "14": "0",
                                    "15": "7",
                                    "16": "(229) 555-0100",
                                    "17": "(229) 555-0101",
                                    "18": "NULL",
                                    "19": "NULL",
                                    "20": "http://www.microsoft.com/",
                                    "21": "Shop 2",
                                    "22": "1319 Kristiina Lane",
                                    "23": "90439",
                                    "24": "0xE6100000010C2AA27087970E414032A8DB7E9EDB54C0",
                                    "25": "PO Box 6520",
                                    "26": "Emilyville",
                                    "27": "90439",
                                    "28": "1",
                                    "29": "2015-02-22 00:00:00.0000000",
                                    "30": "9999-12-31 23:59:59.9999999"
                                }
                            ]
                        },
                        "text/html": "<table><tr><th>CustomerID</th><th>CustomerName</th><th>BillToCustomerID</th><th>CustomerCategoryID</th><th>BuyingGroupID</th><th>PrimaryContactPersonID</th><th>AlternateContactPersonID</th><th>DeliveryMethodID</th><th>DeliveryCityID</th><th>PostalCityID</th><th>CreditLimit</th><th>AccountOpenedDate</th><th>StandardDiscountPercentage</th><th>IsStatementSent</th><th>IsOnCreditHold</th><th>PaymentDays</th><th>PhoneNumber</th><th>FaxNumber</th><th>DeliveryRun</th><th>RunPosition</th><th>WebsiteURL</th><th>DeliveryAddressLine1</th><th>DeliveryAddressLine2</th><th>DeliveryPostalCode</th><th>DeliveryLocation</th><th>PostalAddressLine1</th><th>PostalAddressLine2</th><th>PostalPostalCode</th><th>LastEditedBy</th><th>ValidFrom</th><th>ValidTo</th></tr><tr><td>1045</td><td>Matteo Cattaneo</td><td>1045</td><td>4</td><td>NULL</td><td>3245</td><td>NULL</td><td>3</td><td>24352</td><td>24352</td><td>2400.00</td><td>2015-02-22</td><td>0.000</td><td>0</td><td>0</td><td>7</td><td>(229) 555-0100</td><td>(229) 555-0101</td><td>NULL</td><td>NULL</td><td>http://www.microsoft.com/</td><td>Shop 2</td><td>1319 Kristiina Lane</td><td>90439</td><td>0xE6100000010C2AA27087970E414032A8DB7E9EDB54C0</td><td>PO Box 6520</td><td>Emilyville</td><td>90439</td><td>1</td><td>2015-02-22 00:00:00.0000000</td><td>9999-12-31 23:59:59.9999999</td></tr></table>"
                    },
                    "metadata": {
                        "resultSet": {
                            "id": 0,
                            "batchId": 0,
                            "rowCount": 1,
                            "complete": true,
                            "columnInfo": [
                                {
                                    "isBytes": false,
                                    "isChars": false,
                                    "isSqlVariant": false,
                                    "isUdt": false,
                                    "isXml": false,
                                    "isJson": false,
                                    "sqlDbType": 8,
                                    "isHierarchyId": false,
                                    "isSqlXmlType": false,
                                    "isUnknownType": false,
                                    "isUpdatable": true,
                                    "allowDBNull": false,
                                    "baseCatalogName": null,
                                    "baseColumnName": null,
                                    "baseSchemaName": null,
                                    "baseServerName": null,
                                    "baseTableName": null,
                                    "columnName": "CustomerID",
                                    "columnOrdinal": 0,
                                    "columnSize": 4,
                                    "isAliased": null,
                                    "isAutoIncrement": false,
                                    "isExpression": null,
                                    "isHidden": null,
                                    "isIdentity": false,
                                    "isKey": null,
                                    "isLong": false,
                                    "isReadOnly": false,
                                    "isUnique": false,
                                    "numericPrecision": 10,
                                    "numericScale": 255,
                                    "udtAssemblyQualifiedName": null,
                                    "dataType": "System.Int32, System.Private.CoreLib, Version=4.0.0.0, Culture=neutral, PublicKeyToken=7cec85d7bea7798e",
                                    "dataTypeName": "int"
                                },
                                {
                                    "isBytes": false,
                                    "isChars": true,
                                    "isSqlVariant": false,
                                    "isUdt": false,
                                    "isXml": false,
                                    "isJson": false,
                                    "sqlDbType": 12,
                                    "isHierarchyId": false,
                                    "isSqlXmlType": false,
                                    "isUnknownType": false,
                                    "isUpdatable": true,
                                    "allowDBNull": false,
                                    "baseCatalogName": null,
                                    "baseColumnName": null,
                                    "baseSchemaName": null,
                                    "baseServerName": null,
                                    "baseTableName": null,
                                    "columnName": "CustomerName",
                                    "columnOrdinal": 1,
                                    "columnSize": 100,
                                    "isAliased": null,
                                    "isAutoIncrement": false,
                                    "isExpression": null,
                                    "isHidden": null,
                                    "isIdentity": false,
                                    "isKey": null,
                                    "isLong": false,
                                    "isReadOnly": false,
                                    "isUnique": false,
                                    "numericPrecision": 255,
                                    "numericScale": 255,
                                    "udtAssemblyQualifiedName": null,
                                    "dataType": "System.String, System.Private.CoreLib, Version=4.0.0.0, Culture=neutral, PublicKeyToken=7cec85d7bea7798e",
                                    "dataTypeName": "nvarchar"
                                },
                                {
                                    "isBytes": false,
                                    "isChars": false,
                                    "isSqlVariant": false,
                                    "isUdt": false,
                                    "isXml": false,
                                    "isJson": false,
                                    "sqlDbType": 8,
                                    "isHierarchyId": false,
                                    "isSqlXmlType": false,
                                    "isUnknownType": false,
                                    "isUpdatable": true,
                                    "allowDBNull": false,
                                    "baseCatalogName": null,
                                    "baseColumnName": null,
                                    "baseSchemaName": null,
                                    "baseServerName": null,
                                    "baseTableName": null,
                                    "columnName": "BillToCustomerID",
                                    "columnOrdinal": 2,
                                    "columnSize": 4,
                                    "isAliased": null,
                                    "isAutoIncrement": false,
                                    "isExpression": null,
                                    "isHidden": null,
                                    "isIdentity": false,
                                    "isKey": null,
                                    "isLong": false,
                                    "isReadOnly": false,
                                    "isUnique": false,
                                    "numericPrecision": 10,
                                    "numericScale": 255,
                                    "udtAssemblyQualifiedName": null,
                                    "dataType": "System.Int32, System.Private.CoreLib, Version=4.0.0.0, Culture=neutral, PublicKeyToken=7cec85d7bea7798e",
                                    "dataTypeName": "int"
                                },
                                {
                                    "isBytes": false,
                                    "isChars": false,
                                    "isSqlVariant": false,
                                    "isUdt": false,
                                    "isXml": false,
                                    "isJson": false,
                                    "sqlDbType": 8,
                                    "isHierarchyId": false,
                                    "isSqlXmlType": false,
                                    "isUnknownType": false,
                                    "isUpdatable": true,
                                    "allowDBNull": false,
                                    "baseCatalogName": null,
                                    "baseColumnName": null,
                                    "baseSchemaName": null,
                                    "baseServerName": null,
                                    "baseTableName": null,
                                    "columnName": "CustomerCategoryID",
                                    "columnOrdinal": 3,
                                    "columnSize": 4,
                                    "isAliased": null,
                                    "isAutoIncrement": false,
                                    "isExpression": null,
                                    "isHidden": null,
                                    "isIdentity": false,
                                    "isKey": null,
                                    "isLong": false,
                                    "isReadOnly": false,
                                    "isUnique": false,
                                    "numericPrecision": 10,
                                    "numericScale": 255,
                                    "udtAssemblyQualifiedName": null,
                                    "dataType": "System.Int32, System.Private.CoreLib, Version=4.0.0.0, Culture=neutral, PublicKeyToken=7cec85d7bea7798e",
                                    "dataTypeName": "int"
                                },
                                {
                                    "isBytes": false,
                                    "isChars": false,
                                    "isSqlVariant": false,
                                    "isUdt": false,
                                    "isXml": false,
                                    "isJson": false,
                                    "sqlDbType": 8,
                                    "isHierarchyId": false,
                                    "isSqlXmlType": false,
                                    "isUnknownType": false,
                                    "isUpdatable": true,
                                    "allowDBNull": true,
                                    "baseCatalogName": null,
                                    "baseColumnName": null,
                                    "baseSchemaName": null,
                                    "baseServerName": null,
                                    "baseTableName": null,
                                    "columnName": "BuyingGroupID",
                                    "columnOrdinal": 4,
                                    "columnSize": 4,
                                    "isAliased": null,
                                    "isAutoIncrement": false,
                                    "isExpression": null,
                                    "isHidden": null,
                                    "isIdentity": false,
                                    "isKey": null,
                                    "isLong": false,
                                    "isReadOnly": false,
                                    "isUnique": false,
                                    "numericPrecision": 10,
                                    "numericScale": 255,
                                    "udtAssemblyQualifiedName": null,
                                    "dataType": "System.Int32, System.Private.CoreLib, Version=4.0.0.0, Culture=neutral, PublicKeyToken=7cec85d7bea7798e",
                                    "dataTypeName": "int"
                                },
                                {
                                    "isBytes": false,
                                    "isChars": false,
                                    "isSqlVariant": false,
                                    "isUdt": false,
                                    "isXml": false,
                                    "isJson": false,
                                    "sqlDbType": 8,
                                    "isHierarchyId": false,
                                    "isSqlXmlType": false,
                                    "isUnknownType": false,
                                    "isUpdatable": true,
                                    "allowDBNull": false,
                                    "baseCatalogName": null,
                                    "baseColumnName": null,
                                    "baseSchemaName": null,
                                    "baseServerName": null,
                                    "baseTableName": null,
                                    "columnName": "PrimaryContactPersonID",
                                    "columnOrdinal": 5,
                                    "columnSize": 4,
                                    "isAliased": null,
                                    "isAutoIncrement": false,
                                    "isExpression": null,
                                    "isHidden": null,
                                    "isIdentity": false,
                                    "isKey": null,
                                    "isLong": false,
                                    "isReadOnly": false,
                                    "isUnique": false,
                                    "numericPrecision": 10,
                                    "numericScale": 255,
                                    "udtAssemblyQualifiedName": null,
                                    "dataType": "System.Int32, System.Private.CoreLib, Version=4.0.0.0, Culture=neutral, PublicKeyToken=7cec85d7bea7798e",
                                    "dataTypeName": "int"
                                },
                                {
                                    "isBytes": false,
                                    "isChars": false,
                                    "isSqlVariant": false,
                                    "isUdt": false,
                                    "isXml": false,
                                    "isJson": false,
                                    "sqlDbType": 8,
                                    "isHierarchyId": false,
                                    "isSqlXmlType": false,
                                    "isUnknownType": false,
                                    "isUpdatable": true,
                                    "allowDBNull": true,
                                    "baseCatalogName": null,
                                    "baseColumnName": null,
                                    "baseSchemaName": null,
                                    "baseServerName": null,
                                    "baseTableName": null,
                                    "columnName": "AlternateContactPersonID",
                                    "columnOrdinal": 6,
                                    "columnSize": 4,
                                    "isAliased": null,
                                    "isAutoIncrement": false,
                                    "isExpression": null,
                                    "isHidden": null,
                                    "isIdentity": false,
                                    "isKey": null,
                                    "isLong": false,
                                    "isReadOnly": false,
                                    "isUnique": false,
                                    "numericPrecision": 10,
                                    "numericScale": 255,
                                    "udtAssemblyQualifiedName": null,
                                    "dataType": "System.Int32, System.Private.CoreLib, Version=4.0.0.0, Culture=neutral, PublicKeyToken=7cec85d7bea7798e",
                                    "dataTypeName": "int"
                                },
                                {
                                    "isBytes": false,
                                    "isChars": false,
                                    "isSqlVariant": false,
                                    "isUdt": false,
                                    "isXml": false,
                                    "isJson": false,
                                    "sqlDbType": 8,
                                    "isHierarchyId": false,
                                    "isSqlXmlType": false,
                                    "isUnknownType": false,
                                    "isUpdatable": true,
                                    "allowDBNull": false,
                                    "baseCatalogName": null,
                                    "baseColumnName": null,
                                    "baseSchemaName": null,
                                    "baseServerName": null,
                                    "baseTableName": null,
                                    "columnName": "DeliveryMethodID",
                                    "columnOrdinal": 7,
                                    "columnSize": 4,
                                    "isAliased": null,
                                    "isAutoIncrement": false,
                                    "isExpression": null,
                                    "isHidden": null,
                                    "isIdentity": false,
                                    "isKey": null,
                                    "isLong": false,
                                    "isReadOnly": false,
                                    "isUnique": false,
                                    "numericPrecision": 10,
                                    "numericScale": 255,
                                    "udtAssemblyQualifiedName": null,
                                    "dataType": "System.Int32, System.Private.CoreLib, Version=4.0.0.0, Culture=neutral, PublicKeyToken=7cec85d7bea7798e",
                                    "dataTypeName": "int"
                                },
                                {
                                    "isBytes": false,
                                    "isChars": false,
                                    "isSqlVariant": false,
                                    "isUdt": false,
                                    "isXml": false,
                                    "isJson": false,
                                    "sqlDbType": 8,
                                    "isHierarchyId": false,
                                    "isSqlXmlType": false,
                                    "isUnknownType": false,
                                    "isUpdatable": true,
                                    "allowDBNull": false,
                                    "baseCatalogName": null,
                                    "baseColumnName": null,
                                    "baseSchemaName": null,
                                    "baseServerName": null,
                                    "baseTableName": null,
                                    "columnName": "DeliveryCityID",
                                    "columnOrdinal": 8,
                                    "columnSize": 4,
                                    "isAliased": null,
                                    "isAutoIncrement": false,
                                    "isExpression": null,
                                    "isHidden": null,
                                    "isIdentity": false,
                                    "isKey": null,
                                    "isLong": false,
                                    "isReadOnly": false,
                                    "isUnique": false,
                                    "numericPrecision": 10,
                                    "numericScale": 255,
                                    "udtAssemblyQualifiedName": null,
                                    "dataType": "System.Int32, System.Private.CoreLib, Version=4.0.0.0, Culture=neutral, PublicKeyToken=7cec85d7bea7798e",
                                    "dataTypeName": "int"
                                },
                                {
                                    "isBytes": false,
                                    "isChars": false,
                                    "isSqlVariant": false,
                                    "isUdt": false,
                                    "isXml": false,
                                    "isJson": false,
                                    "sqlDbType": 8,
                                    "isHierarchyId": false,
                                    "isSqlXmlType": false,
                                    "isUnknownType": false,
                                    "isUpdatable": true,
                                    "allowDBNull": false,
                                    "baseCatalogName": null,
                                    "baseColumnName": null,
                                    "baseSchemaName": null,
                                    "baseServerName": null,
                                    "baseTableName": null,
                                    "columnName": "PostalCityID",
                                    "columnOrdinal": 9,
                                    "columnSize": 4,
                                    "isAliased": null,
                                    "isAutoIncrement": false,
                                    "isExpression": null,
                                    "isHidden": null,
                                    "isIdentity": false,
                                    "isKey": null,
                                    "isLong": false,
                                    "isReadOnly": false,
                                    "isUnique": false,
                                    "numericPrecision": 10,
                                    "numericScale": 255,
                                    "udtAssemblyQualifiedName": null,
                                    "dataType": "System.Int32, System.Private.CoreLib, Version=4.0.0.0, Culture=neutral, PublicKeyToken=7cec85d7bea7798e",
                                    "dataTypeName": "int"
                                },
                                {
                                    "isBytes": false,
                                    "isChars": false,
                                    "isSqlVariant": false,
                                    "isUdt": false,
                                    "isXml": false,
                                    "isJson": false,
                                    "sqlDbType": 5,
                                    "isHierarchyId": false,
                                    "isSqlXmlType": false,
                                    "isUnknownType": false,
                                    "isUpdatable": true,
                                    "allowDBNull": true,
                                    "baseCatalogName": null,
                                    "baseColumnName": null,
                                    "baseSchemaName": null,
                                    "baseServerName": null,
                                    "baseTableName": null,
                                    "columnName": "CreditLimit",
                                    "columnOrdinal": 10,
                                    "columnSize": 17,
                                    "isAliased": null,
                                    "isAutoIncrement": false,
                                    "isExpression": null,
                                    "isHidden": null,
                                    "isIdentity": false,
                                    "isKey": null,
                                    "isLong": false,
                                    "isReadOnly": false,
                                    "isUnique": false,
                                    "numericPrecision": 18,
                                    "numericScale": 2,
                                    "udtAssemblyQualifiedName": null,
                                    "dataType": "System.Decimal, System.Private.CoreLib, Version=4.0.0.0, Culture=neutral, PublicKeyToken=7cec85d7bea7798e",
                                    "dataTypeName": "decimal"
                                },
                                {
                                    "isBytes": false,
                                    "isChars": false,
                                    "isSqlVariant": false,
                                    "isUdt": false,
                                    "isXml": false,
                                    "isJson": false,
                                    "sqlDbType": 31,
                                    "isHierarchyId": false,
                                    "isSqlXmlType": false,
                                    "isUnknownType": false,
                                    "isUpdatable": true,
                                    "allowDBNull": false,
                                    "baseCatalogName": null,
                                    "baseColumnName": null,
                                    "baseSchemaName": null,
                                    "baseServerName": null,
                                    "baseTableName": null,
                                    "columnName": "AccountOpenedDate",
                                    "columnOrdinal": 11,
                                    "columnSize": 3,
                                    "isAliased": null,
                                    "isAutoIncrement": false,
                                    "isExpression": null,
                                    "isHidden": null,
                                    "isIdentity": false,
                                    "isKey": null,
                                    "isLong": false,
                                    "isReadOnly": false,
                                    "isUnique": false,
                                    "numericPrecision": 255,
                                    "numericScale": 255,
                                    "udtAssemblyQualifiedName": null,
                                    "dataType": "System.DateTime, System.Private.CoreLib, Version=4.0.0.0, Culture=neutral, PublicKeyToken=7cec85d7bea7798e",
                                    "dataTypeName": "date"
                                },
                                {
                                    "isBytes": false,
                                    "isChars": false,
                                    "isSqlVariant": false,
                                    "isUdt": false,
                                    "isXml": false,
                                    "isJson": false,
                                    "sqlDbType": 5,
                                    "isHierarchyId": false,
                                    "isSqlXmlType": false,
                                    "isUnknownType": false,
                                    "isUpdatable": true,
                                    "allowDBNull": false,
                                    "baseCatalogName": null,
                                    "baseColumnName": null,
                                    "baseSchemaName": null,
                                    "baseServerName": null,
                                    "baseTableName": null,
                                    "columnName": "StandardDiscountPercentage",
                                    "columnOrdinal": 12,
                                    "columnSize": 17,
                                    "isAliased": null,
                                    "isAutoIncrement": false,
                                    "isExpression": null,
                                    "isHidden": null,
                                    "isIdentity": false,
                                    "isKey": null,
                                    "isLong": false,
                                    "isReadOnly": false,
                                    "isUnique": false,
                                    "numericPrecision": 18,
                                    "numericScale": 3,
                                    "udtAssemblyQualifiedName": null,
                                    "dataType": "System.Decimal, System.Private.CoreLib, Version=4.0.0.0, Culture=neutral, PublicKeyToken=7cec85d7bea7798e",
                                    "dataTypeName": "decimal"
                                },
                                {
                                    "isBytes": false,
                                    "isChars": false,
                                    "isSqlVariant": false,
                                    "isUdt": false,
                                    "isXml": false,
                                    "isJson": false,
                                    "sqlDbType": 2,
                                    "isHierarchyId": false,
                                    "isSqlXmlType": false,
                                    "isUnknownType": false,
                                    "isUpdatable": true,
                                    "allowDBNull": false,
                                    "baseCatalogName": null,
                                    "baseColumnName": null,
                                    "baseSchemaName": null,
                                    "baseServerName": null,
                                    "baseTableName": null,
                                    "columnName": "IsStatementSent",
                                    "columnOrdinal": 13,
                                    "columnSize": 1,
                                    "isAliased": null,
                                    "isAutoIncrement": false,
                                    "isExpression": null,
                                    "isHidden": null,
                                    "isIdentity": false,
                                    "isKey": null,
                                    "isLong": false,
                                    "isReadOnly": false,
                                    "isUnique": false,
                                    "numericPrecision": 255,
                                    "numericScale": 255,
                                    "udtAssemblyQualifiedName": null,
                                    "dataType": "System.Boolean, System.Private.CoreLib, Version=4.0.0.0, Culture=neutral, PublicKeyToken=7cec85d7bea7798e",
                                    "dataTypeName": "bit"
                                },
                                {
                                    "isBytes": false,
                                    "isChars": false,
                                    "isSqlVariant": false,
                                    "isUdt": false,
                                    "isXml": false,
                                    "isJson": false,
                                    "sqlDbType": 2,
                                    "isHierarchyId": false,
                                    "isSqlXmlType": false,
                                    "isUnknownType": false,
                                    "isUpdatable": true,
                                    "allowDBNull": false,
                                    "baseCatalogName": null,
                                    "baseColumnName": null,
                                    "baseSchemaName": null,
                                    "baseServerName": null,
                                    "baseTableName": null,
                                    "columnName": "IsOnCreditHold",
                                    "columnOrdinal": 14,
                                    "columnSize": 1,
                                    "isAliased": null,
                                    "isAutoIncrement": false,
                                    "isExpression": null,
                                    "isHidden": null,
                                    "isIdentity": false,
                                    "isKey": null,
                                    "isLong": false,
                                    "isReadOnly": false,
                                    "isUnique": false,
                                    "numericPrecision": 255,
                                    "numericScale": 255,
                                    "udtAssemblyQualifiedName": null,
                                    "dataType": "System.Boolean, System.Private.CoreLib, Version=4.0.0.0, Culture=neutral, PublicKeyToken=7cec85d7bea7798e",
                                    "dataTypeName": "bit"
                                },
                                {
                                    "isBytes": false,
                                    "isChars": false,
                                    "isSqlVariant": false,
                                    "isUdt": false,
                                    "isXml": false,
                                    "isJson": false,
                                    "sqlDbType": 8,
                                    "isHierarchyId": false,
                                    "isSqlXmlType": false,
                                    "isUnknownType": false,
                                    "isUpdatable": true,
                                    "allowDBNull": false,
                                    "baseCatalogName": null,
                                    "baseColumnName": null,
                                    "baseSchemaName": null,
                                    "baseServerName": null,
                                    "baseTableName": null,
                                    "columnName": "PaymentDays",
                                    "columnOrdinal": 15,
                                    "columnSize": 4,
                                    "isAliased": null,
                                    "isAutoIncrement": false,
                                    "isExpression": null,
                                    "isHidden": null,
                                    "isIdentity": false,
                                    "isKey": null,
                                    "isLong": false,
                                    "isReadOnly": false,
                                    "isUnique": false,
                                    "numericPrecision": 10,
                                    "numericScale": 255,
                                    "udtAssemblyQualifiedName": null,
                                    "dataType": "System.Int32, System.Private.CoreLib, Version=4.0.0.0, Culture=neutral, PublicKeyToken=7cec85d7bea7798e",
                                    "dataTypeName": "int"
                                },
                                {
                                    "isBytes": false,
                                    "isChars": true,
                                    "isSqlVariant": false,
                                    "isUdt": false,
                                    "isXml": false,
                                    "isJson": false,
                                    "sqlDbType": 12,
                                    "isHierarchyId": false,
                                    "isSqlXmlType": false,
                                    "isUnknownType": false,
                                    "isUpdatable": true,
                                    "allowDBNull": false,
                                    "baseCatalogName": null,
                                    "baseColumnName": null,
                                    "baseSchemaName": null,
                                    "baseServerName": null,
                                    "baseTableName": null,
                                    "columnName": "PhoneNumber",
                                    "columnOrdinal": 16,
                                    "columnSize": 20,
                                    "isAliased": null,
                                    "isAutoIncrement": false,
                                    "isExpression": null,
                                    "isHidden": null,
                                    "isIdentity": false,
                                    "isKey": null,
                                    "isLong": false,
                                    "isReadOnly": false,
                                    "isUnique": false,
                                    "numericPrecision": 255,
                                    "numericScale": 255,
                                    "udtAssemblyQualifiedName": null,
                                    "dataType": "System.String, System.Private.CoreLib, Version=4.0.0.0, Culture=neutral, PublicKeyToken=7cec85d7bea7798e",
                                    "dataTypeName": "nvarchar"
                                },
                                {
                                    "isBytes": false,
                                    "isChars": true,
                                    "isSqlVariant": false,
                                    "isUdt": false,
                                    "isXml": false,
                                    "isJson": false,
                                    "sqlDbType": 12,
                                    "isHierarchyId": false,
                                    "isSqlXmlType": false,
                                    "isUnknownType": false,
                                    "isUpdatable": true,
                                    "allowDBNull": false,
                                    "baseCatalogName": null,
                                    "baseColumnName": null,
                                    "baseSchemaName": null,
                                    "baseServerName": null,
                                    "baseTableName": null,
                                    "columnName": "FaxNumber",
                                    "columnOrdinal": 17,
                                    "columnSize": 20,
                                    "isAliased": null,
                                    "isAutoIncrement": false,
                                    "isExpression": null,
                                    "isHidden": null,
                                    "isIdentity": false,
                                    "isKey": null,
                                    "isLong": false,
                                    "isReadOnly": false,
                                    "isUnique": false,
                                    "numericPrecision": 255,
                                    "numericScale": 255,
                                    "udtAssemblyQualifiedName": null,
                                    "dataType": "System.String, System.Private.CoreLib, Version=4.0.0.0, Culture=neutral, PublicKeyToken=7cec85d7bea7798e",
                                    "dataTypeName": "nvarchar"
                                },
                                {
                                    "isBytes": false,
                                    "isChars": true,
                                    "isSqlVariant": false,
                                    "isUdt": false,
                                    "isXml": false,
                                    "isJson": false,
                                    "sqlDbType": 12,
                                    "isHierarchyId": false,
                                    "isSqlXmlType": false,
                                    "isUnknownType": false,
                                    "isUpdatable": true,
                                    "allowDBNull": true,
                                    "baseCatalogName": null,
                                    "baseColumnName": null,
                                    "baseSchemaName": null,
                                    "baseServerName": null,
                                    "baseTableName": null,
                                    "columnName": "DeliveryRun",
                                    "columnOrdinal": 18,
                                    "columnSize": 5,
                                    "isAliased": null,
                                    "isAutoIncrement": false,
                                    "isExpression": null,
                                    "isHidden": null,
                                    "isIdentity": false,
                                    "isKey": null,
                                    "isLong": false,
                                    "isReadOnly": false,
                                    "isUnique": false,
                                    "numericPrecision": 255,
                                    "numericScale": 255,
                                    "udtAssemblyQualifiedName": null,
                                    "dataType": "System.String, System.Private.CoreLib, Version=4.0.0.0, Culture=neutral, PublicKeyToken=7cec85d7bea7798e",
                                    "dataTypeName": "nvarchar"
                                },
                                {
                                    "isBytes": false,
                                    "isChars": true,
                                    "isSqlVariant": false,
                                    "isUdt": false,
                                    "isXml": false,
                                    "isJson": false,
                                    "sqlDbType": 12,
                                    "isHierarchyId": false,
                                    "isSqlXmlType": false,
                                    "isUnknownType": false,
                                    "isUpdatable": true,
                                    "allowDBNull": true,
                                    "baseCatalogName": null,
                                    "baseColumnName": null,
                                    "baseSchemaName": null,
                                    "baseServerName": null,
                                    "baseTableName": null,
                                    "columnName": "RunPosition",
                                    "columnOrdinal": 19,
                                    "columnSize": 5,
                                    "isAliased": null,
                                    "isAutoIncrement": false,
                                    "isExpression": null,
                                    "isHidden": null,
                                    "isIdentity": false,
                                    "isKey": null,
                                    "isLong": false,
                                    "isReadOnly": false,
                                    "isUnique": false,
                                    "numericPrecision": 255,
                                    "numericScale": 255,
                                    "udtAssemblyQualifiedName": null,
                                    "dataType": "System.String, System.Private.CoreLib, Version=4.0.0.0, Culture=neutral, PublicKeyToken=7cec85d7bea7798e",
                                    "dataTypeName": "nvarchar"
                                },
                                {
                                    "isBytes": false,
                                    "isChars": true,
                                    "isSqlVariant": false,
                                    "isUdt": false,
                                    "isXml": false,
                                    "isJson": false,
                                    "sqlDbType": 12,
                                    "isHierarchyId": false,
                                    "isSqlXmlType": false,
                                    "isUnknownType": false,
                                    "isUpdatable": true,
                                    "allowDBNull": false,
                                    "baseCatalogName": null,
                                    "baseColumnName": null,
                                    "baseSchemaName": null,
                                    "baseServerName": null,
                                    "baseTableName": null,
                                    "columnName": "WebsiteURL",
                                    "columnOrdinal": 20,
                                    "columnSize": 256,
                                    "isAliased": null,
                                    "isAutoIncrement": false,
                                    "isExpression": null,
                                    "isHidden": null,
                                    "isIdentity": false,
                                    "isKey": null,
                                    "isLong": false,
                                    "isReadOnly": false,
                                    "isUnique": false,
                                    "numericPrecision": 255,
                                    "numericScale": 255,
                                    "udtAssemblyQualifiedName": null,
                                    "dataType": "System.String, System.Private.CoreLib, Version=4.0.0.0, Culture=neutral, PublicKeyToken=7cec85d7bea7798e",
                                    "dataTypeName": "nvarchar"
                                },
                                {
                                    "isBytes": false,
                                    "isChars": true,
                                    "isSqlVariant": false,
                                    "isUdt": false,
                                    "isXml": false,
                                    "isJson": false,
                                    "sqlDbType": 12,
                                    "isHierarchyId": false,
                                    "isSqlXmlType": false,
                                    "isUnknownType": false,
                                    "isUpdatable": true,
                                    "allowDBNull": false,
                                    "baseCatalogName": null,
                                    "baseColumnName": null,
                                    "baseSchemaName": null,
                                    "baseServerName": null,
                                    "baseTableName": null,
                                    "columnName": "DeliveryAddressLine1",
                                    "columnOrdinal": 21,
                                    "columnSize": 60,
                                    "isAliased": null,
                                    "isAutoIncrement": false,
                                    "isExpression": null,
                                    "isHidden": null,
                                    "isIdentity": false,
                                    "isKey": null,
                                    "isLong": false,
                                    "isReadOnly": false,
                                    "isUnique": false,
                                    "numericPrecision": 255,
                                    "numericScale": 255,
                                    "udtAssemblyQualifiedName": null,
                                    "dataType": "System.String, System.Private.CoreLib, Version=4.0.0.0, Culture=neutral, PublicKeyToken=7cec85d7bea7798e",
                                    "dataTypeName": "nvarchar"
                                },
                                {
                                    "isBytes": false,
                                    "isChars": true,
                                    "isSqlVariant": false,
                                    "isUdt": false,
                                    "isXml": false,
                                    "isJson": false,
                                    "sqlDbType": 12,
                                    "isHierarchyId": false,
                                    "isSqlXmlType": false,
                                    "isUnknownType": false,
                                    "isUpdatable": true,
                                    "allowDBNull": true,
                                    "baseCatalogName": null,
                                    "baseColumnName": null,
                                    "baseSchemaName": null,
                                    "baseServerName": null,
                                    "baseTableName": null,
                                    "columnName": "DeliveryAddressLine2",
                                    "columnOrdinal": 22,
                                    "columnSize": 60,
                                    "isAliased": null,
                                    "isAutoIncrement": false,
                                    "isExpression": null,
                                    "isHidden": null,
                                    "isIdentity": false,
                                    "isKey": null,
                                    "isLong": false,
                                    "isReadOnly": false,
                                    "isUnique": false,
                                    "numericPrecision": 255,
                                    "numericScale": 255,
                                    "udtAssemblyQualifiedName": null,
                                    "dataType": "System.String, System.Private.CoreLib, Version=4.0.0.0, Culture=neutral, PublicKeyToken=7cec85d7bea7798e",
                                    "dataTypeName": "nvarchar"
                                },
                                {
                                    "isBytes": false,
                                    "isChars": true,
                                    "isSqlVariant": false,
                                    "isUdt": false,
                                    "isXml": false,
                                    "isJson": false,
                                    "sqlDbType": 12,
                                    "isHierarchyId": false,
                                    "isSqlXmlType": false,
                                    "isUnknownType": false,
                                    "isUpdatable": true,
                                    "allowDBNull": false,
                                    "baseCatalogName": null,
                                    "baseColumnName": null,
                                    "baseSchemaName": null,
                                    "baseServerName": null,
                                    "baseTableName": null,
                                    "columnName": "DeliveryPostalCode",
                                    "columnOrdinal": 23,
                                    "columnSize": 10,
                                    "isAliased": null,
                                    "isAutoIncrement": false,
                                    "isExpression": null,
                                    "isHidden": null,
                                    "isIdentity": false,
                                    "isKey": null,
                                    "isLong": false,
                                    "isReadOnly": false,
                                    "isUnique": false,
                                    "numericPrecision": 255,
                                    "numericScale": 255,
                                    "udtAssemblyQualifiedName": null,
                                    "dataType": "System.String, System.Private.CoreLib, Version=4.0.0.0, Culture=neutral, PublicKeyToken=7cec85d7bea7798e",
                                    "dataTypeName": "nvarchar"
                                },
                                {
                                    "isBytes": true,
                                    "isChars": false,
                                    "isSqlVariant": false,
                                    "isUdt": true,
                                    "isXml": false,
                                    "isJson": false,
                                    "sqlDbType": 29,
                                    "isHierarchyId": false,
                                    "isSqlXmlType": false,
                                    "isUnknownType": false,
                                    "isUpdatable": true,
                                    "allowDBNull": true,
                                    "baseCatalogName": null,
                                    "baseColumnName": null,
                                    "baseSchemaName": null,
                                    "baseServerName": null,
                                    "baseTableName": null,
                                    "columnName": "DeliveryLocation",
                                    "columnOrdinal": 24,
                                    "columnSize": 2147483647,
                                    "isAliased": null,
                                    "isAutoIncrement": false,
                                    "isExpression": null,
                                    "isHidden": null,
                                    "isIdentity": false,
                                    "isKey": null,
                                    "isLong": true,
                                    "isReadOnly": false,
                                    "isUnique": false,
                                    "numericPrecision": 255,
                                    "numericScale": 255,
                                    "udtAssemblyQualifiedName": "Microsoft.SqlServer.Types.SqlGeography, Microsoft.SqlServer.Types, Version=11.0.0.0, Culture=neutral, PublicKeyToken=89845dcd8080cc91",
                                    "dataType": "System.Byte[], System.Private.CoreLib, Version=4.0.0.0, Culture=neutral, PublicKeyToken=7cec85d7bea7798e",
                                    "dataTypeName": "wideworldimporters.sys.geography"
                                },
                                {
                                    "isBytes": false,
                                    "isChars": true,
                                    "isSqlVariant": false,
                                    "isUdt": false,
                                    "isXml": false,
                                    "isJson": false,
                                    "sqlDbType": 12,
                                    "isHierarchyId": false,
                                    "isSqlXmlType": false,
                                    "isUnknownType": false,
                                    "isUpdatable": true,
                                    "allowDBNull": false,
                                    "baseCatalogName": null,
                                    "baseColumnName": null,
                                    "baseSchemaName": null,
                                    "baseServerName": null,
                                    "baseTableName": null,
                                    "columnName": "PostalAddressLine1",
                                    "columnOrdinal": 25,
                                    "columnSize": 60,
                                    "isAliased": null,
                                    "isAutoIncrement": false,
                                    "isExpression": null,
                                    "isHidden": null,
                                    "isIdentity": false,
                                    "isKey": null,
                                    "isLong": false,
                                    "isReadOnly": false,
                                    "isUnique": false,
                                    "numericPrecision": 255,
                                    "numericScale": 255,
                                    "udtAssemblyQualifiedName": null,
                                    "dataType": "System.String, System.Private.CoreLib, Version=4.0.0.0, Culture=neutral, PublicKeyToken=7cec85d7bea7798e",
                                    "dataTypeName": "nvarchar"
                                },
                                {
                                    "isBytes": false,
                                    "isChars": true,
                                    "isSqlVariant": false,
                                    "isUdt": false,
                                    "isXml": false,
                                    "isJson": false,
                                    "sqlDbType": 12,
                                    "isHierarchyId": false,
                                    "isSqlXmlType": false,
                                    "isUnknownType": false,
                                    "isUpdatable": true,
                                    "allowDBNull": true,
                                    "baseCatalogName": null,
                                    "baseColumnName": null,
                                    "baseSchemaName": null,
                                    "baseServerName": null,
                                    "baseTableName": null,
                                    "columnName": "PostalAddressLine2",
                                    "columnOrdinal": 26,
                                    "columnSize": 60,
                                    "isAliased": null,
                                    "isAutoIncrement": false,
                                    "isExpression": null,
                                    "isHidden": null,
                                    "isIdentity": false,
                                    "isKey": null,
                                    "isLong": false,
                                    "isReadOnly": false,
                                    "isUnique": false,
                                    "numericPrecision": 255,
                                    "numericScale": 255,
                                    "udtAssemblyQualifiedName": null,
                                    "dataType": "System.String, System.Private.CoreLib, Version=4.0.0.0, Culture=neutral, PublicKeyToken=7cec85d7bea7798e",
                                    "dataTypeName": "nvarchar"
                                },
                                {
                                    "isBytes": false,
                                    "isChars": true,
                                    "isSqlVariant": false,
                                    "isUdt": false,
                                    "isXml": false,
                                    "isJson": false,
                                    "sqlDbType": 12,
                                    "isHierarchyId": false,
                                    "isSqlXmlType": false,
                                    "isUnknownType": false,
                                    "isUpdatable": true,
                                    "allowDBNull": false,
                                    "baseCatalogName": null,
                                    "baseColumnName": null,
                                    "baseSchemaName": null,
                                    "baseServerName": null,
                                    "baseTableName": null,
                                    "columnName": "PostalPostalCode",
                                    "columnOrdinal": 27,
                                    "columnSize": 10,
                                    "isAliased": null,
                                    "isAutoIncrement": false,
                                    "isExpression": null,
                                    "isHidden": null,
                                    "isIdentity": false,
                                    "isKey": null,
                                    "isLong": false,
                                    "isReadOnly": false,
                                    "isUnique": false,
                                    "numericPrecision": 255,
                                    "numericScale": 255,
                                    "udtAssemblyQualifiedName": null,
                                    "dataType": "System.String, System.Private.CoreLib, Version=4.0.0.0, Culture=neutral, PublicKeyToken=7cec85d7bea7798e",
                                    "dataTypeName": "nvarchar"
                                },
                                {
                                    "isBytes": false,
                                    "isChars": false,
                                    "isSqlVariant": false,
                                    "isUdt": false,
                                    "isXml": false,
                                    "isJson": false,
                                    "sqlDbType": 8,
                                    "isHierarchyId": false,
                                    "isSqlXmlType": false,
                                    "isUnknownType": false,
                                    "isUpdatable": true,
                                    "allowDBNull": false,
                                    "baseCatalogName": null,
                                    "baseColumnName": null,
                                    "baseSchemaName": null,
                                    "baseServerName": null,
                                    "baseTableName": null,
                                    "columnName": "LastEditedBy",
                                    "columnOrdinal": 28,
                                    "columnSize": 4,
                                    "isAliased": null,
                                    "isAutoIncrement": false,
                                    "isExpression": null,
                                    "isHidden": null,
                                    "isIdentity": false,
                                    "isKey": null,
                                    "isLong": false,
                                    "isReadOnly": false,
                                    "isUnique": false,
                                    "numericPrecision": 10,
                                    "numericScale": 255,
                                    "udtAssemblyQualifiedName": null,
                                    "dataType": "System.Int32, System.Private.CoreLib, Version=4.0.0.0, Culture=neutral, PublicKeyToken=7cec85d7bea7798e",
                                    "dataTypeName": "int"
                                },
                                {
                                    "isBytes": false,
                                    "isChars": false,
                                    "isSqlVariant": false,
                                    "isUdt": false,
                                    "isXml": false,
                                    "isJson": false,
                                    "sqlDbType": 33,
                                    "isHierarchyId": false,
                                    "isSqlXmlType": false,
                                    "isUnknownType": false,
                                    "isUpdatable": false,
                                    "allowDBNull": false,
                                    "baseCatalogName": null,
                                    "baseColumnName": null,
                                    "baseSchemaName": null,
                                    "baseServerName": null,
                                    "baseTableName": null,
                                    "columnName": "ValidFrom",
                                    "columnOrdinal": 29,
                                    "columnSize": 8,
                                    "isAliased": null,
                                    "isAutoIncrement": false,
                                    "isExpression": null,
                                    "isHidden": null,
                                    "isIdentity": false,
                                    "isKey": null,
                                    "isLong": false,
                                    "isReadOnly": true,
                                    "isUnique": false,
                                    "numericPrecision": 255,
                                    "numericScale": 7,
                                    "udtAssemblyQualifiedName": null,
                                    "dataType": "System.DateTime, System.Private.CoreLib, Version=4.0.0.0, Culture=neutral, PublicKeyToken=7cec85d7bea7798e",
                                    "dataTypeName": "datetime2"
                                },
                                {
                                    "isBytes": false,
                                    "isChars": false,
                                    "isSqlVariant": false,
                                    "isUdt": false,
                                    "isXml": false,
                                    "isJson": false,
                                    "sqlDbType": 33,
                                    "isHierarchyId": false,
                                    "isSqlXmlType": false,
                                    "isUnknownType": false,
                                    "isUpdatable": false,
                                    "allowDBNull": false,
                                    "baseCatalogName": null,
                                    "baseColumnName": null,
                                    "baseSchemaName": null,
                                    "baseServerName": null,
                                    "baseTableName": null,
                                    "columnName": "ValidTo",
                                    "columnOrdinal": 30,
                                    "columnSize": 8,
                                    "isAliased": null,
                                    "isAutoIncrement": false,
                                    "isExpression": null,
                                    "isHidden": null,
                                    "isIdentity": false,
                                    "isKey": null,
                                    "isLong": false,
                                    "isReadOnly": true,
                                    "isUnique": false,
                                    "numericPrecision": 255,
                                    "numericScale": 7,
                                    "udtAssemblyQualifiedName": null,
                                    "dataType": "System.DateTime, System.Private.CoreLib, Version=4.0.0.0, Culture=neutral, PublicKeyToken=7cec85d7bea7798e",
                                    "dataTypeName": "datetime2"
                                }
                            ],
                            "specialAction": {
                                "none": true,
                                "expectYukonXMLShowPlan": false
                            }
                        }
                    }
                }
            ],
            "execution_count": 25
        },
        {
            "cell_type": "markdown",
            "source": [
                "What are the unique delivery methods on the Customers table?"
            ],
            "metadata": {
                "azdata_cell_guid": "92ee1874-22a0-4518-83c2-fbfff4a429e3"
            }
        },
        {
            "cell_type": "code",
            "source": [
                "-- What are the unique delivery methods on the Customers table?\r\n",
                "SELECT DISTINCT DeliveryMethodID From Sales.Customers"
            ],
            "metadata": {
                "azdata_cell_guid": "c08f56b1-3409-473b-af48-afaed728fb62"
            },
            "outputs": [
                {
                    "output_type": "display_data",
                    "data": {
                        "text/html": "(1 row affected)"
                    },
                    "metadata": {}
                },
                {
                    "output_type": "display_data",
                    "data": {
                        "text/html": "Total execution time: 00:00:00.025"
                    },
                    "metadata": {}
                },
                {
                    "output_type": "execute_result",
                    "execution_count": 27,
                    "data": {
                        "application/vnd.dataresource+json": {
                            "schema": {
                                "fields": [
                                    {
                                        "name": "DeliveryMethodID"
                                    }
                                ]
                            },
                            "data": [
                                {
                                    "0": "3"
                                }
                            ]
                        },
                        "text/html": "<table><tr><th>DeliveryMethodID</th></tr><tr><td>3</td></tr></table>"
                    },
                    "metadata": {
                        "resultSet": {
                            "id": 0,
                            "batchId": 0,
                            "rowCount": 1,
                            "complete": true,
                            "columnInfo": [
                                {
                                    "isBytes": false,
                                    "isChars": false,
                                    "isSqlVariant": false,
                                    "isUdt": false,
                                    "isXml": false,
                                    "isJson": false,
                                    "sqlDbType": 8,
                                    "isHierarchyId": false,
                                    "isSqlXmlType": false,
                                    "isUnknownType": false,
                                    "isUpdatable": true,
                                    "allowDBNull": false,
                                    "baseCatalogName": null,
                                    "baseColumnName": null,
                                    "baseSchemaName": null,
                                    "baseServerName": null,
                                    "baseTableName": null,
                                    "columnName": "DeliveryMethodID",
                                    "columnOrdinal": 0,
                                    "columnSize": 4,
                                    "isAliased": null,
                                    "isAutoIncrement": false,
                                    "isExpression": null,
                                    "isHidden": null,
                                    "isIdentity": false,
                                    "isKey": null,
                                    "isLong": false,
                                    "isReadOnly": false,
                                    "isUnique": false,
                                    "numericPrecision": 10,
                                    "numericScale": 255,
                                    "udtAssemblyQualifiedName": null,
                                    "dataType": "System.Int32, System.Private.CoreLib, Version=4.0.0.0, Culture=neutral, PublicKeyToken=7cec85d7bea7798e",
                                    "dataTypeName": "int"
                                }
                            ],
                            "specialAction": {
                                "none": true,
                                "expectYukonXMLShowPlan": false
                            }
                        }
                    }
                }
            ],
            "execution_count": 27
        },
        {
            "cell_type": "markdown",
            "source": [
                "Who are the last 5 customers when ordered alphabetically? Hint: The last 5 customers alphabetically are the first 5 customers reverse alphabetically."
            ],
            "metadata": {
                "azdata_cell_guid": "cc157ae3-59b5-4996-bd12-79d0d3e57df7"
            }
        },
        {
            "cell_type": "code",
            "source": [
                "-- Who are the last 5 customers when ordered alphabetically? Hint: The last 5 customers alphabetically are the first 5 customers reverse alphabetically.\r\n",
                "SELECT TOP 5 CustomerName FROM Sales.Customers ORDER BY CustomerName DESC"
            ],
            "metadata": {
                "azdata_cell_guid": "5def9801-03f7-472d-8821-47220755585d"
            },
            "outputs": [
                {
                    "output_type": "display_data",
                    "data": {
                        "text/html": "(5 rows affected)"
                    },
                    "metadata": {}
                },
                {
                    "output_type": "display_data",
                    "data": {
                        "text/html": "Total execution time: 00:00:00.090"
                    },
                    "metadata": {}
                },
                {
                    "output_type": "execute_result",
                    "execution_count": 28,
                    "data": {
                        "application/vnd.dataresource+json": {
                            "schema": {
                                "fields": [
                                    {
                                        "name": "CustomerName"
                                    }
                                ]
                            },
                            "data": [
                                {
                                    "0": "Yves Belisle"
                                },
                                {
                                    "0": "Wingtip Toys (Yaak, MT)"
                                },
                                {
                                    "0": "Wingtip Toys (Willow Valley, AZ)"
                                },
                                {
                                    "0": "Wingtip Toys (White Church, MO)"
                                },
                                {
                                    "0": "Wingtip Toys (West Hempstead, NY)"
                                }
                            ]
                        },
                        "text/html": "<table><tr><th>CustomerName</th></tr><tr><td>Yves Belisle</td></tr><tr><td>Wingtip Toys (Yaak, MT)</td></tr><tr><td>Wingtip Toys (Willow Valley, AZ)</td></tr><tr><td>Wingtip Toys (White Church, MO)</td></tr><tr><td>Wingtip Toys (West Hempstead, NY)</td></tr></table>"
                    },
                    "metadata": {
                        "resultSet": {
                            "id": 0,
                            "batchId": 0,
                            "rowCount": 5,
                            "complete": false,
                            "columnInfo": [
                                {
                                    "isBytes": false,
                                    "isChars": true,
                                    "isSqlVariant": false,
                                    "isUdt": false,
                                    "isXml": false,
                                    "isJson": false,
                                    "sqlDbType": 12,
                                    "isHierarchyId": false,
                                    "isSqlXmlType": false,
                                    "isUnknownType": false,
                                    "isUpdatable": true,
                                    "allowDBNull": false,
                                    "baseCatalogName": null,
                                    "baseColumnName": null,
                                    "baseSchemaName": null,
                                    "baseServerName": null,
                                    "baseTableName": null,
                                    "columnName": "CustomerName",
                                    "columnOrdinal": 0,
                                    "columnSize": 100,
                                    "isAliased": null,
                                    "isAutoIncrement": false,
                                    "isExpression": null,
                                    "isHidden": null,
                                    "isIdentity": false,
                                    "isKey": null,
                                    "isLong": false,
                                    "isReadOnly": false,
                                    "isUnique": false,
                                    "numericPrecision": 255,
                                    "numericScale": 255,
                                    "udtAssemblyQualifiedName": null,
                                    "dataType": "System.String, System.Private.CoreLib, Version=4.0.0.0, Culture=neutral, PublicKeyToken=7cec85d7bea7798e",
                                    "dataTypeName": "nvarchar"
                                }
                            ],
                            "specialAction": null
                        }
                    }
                }
            ],
            "execution_count": 28
        },
        {
            "cell_type": "markdown",
            "source": [
                "Which accounts were created between July 1 and December 31 of 2015 ordered from latest to earliest, then alphabetical by customer name? Use the comparison operators of \\<, \\>, and =."
            ],
            "metadata": {
                "azdata_cell_guid": "ca47775b-5bcf-4990-b238-ffeaaf6e1cdf"
            }
        },
        {
            "cell_type": "code",
            "source": [
                "-- Which accounts were created between July 1 and December 31 of 2015 ordered from latest to earliest, then alphabetical by customer name? Use the comparison operators of \\<, \\>, and =.\r\n",
                "SELECT CustomerName, AccountOpenedDate FROM Sales.Customers WHERE AccountOpenedDate >= '2015-07-01' AND AccountOpenedDate <= '2015-12-31' ORDER BY AccountOpenedDate DESC, CustomerName"
            ],
            "metadata": {
                "azdata_cell_guid": "93fe4247-739f-4cf1-8c66-550b666e6f24"
            },
            "outputs": [
                {
                    "output_type": "display_data",
                    "data": {
                        "text/html": "(10 rows affected)"
                    },
                    "metadata": {}
                },
                {
                    "output_type": "display_data",
                    "data": {
                        "text/html": "Total execution time: 00:00:00.006"
                    },
                    "metadata": {}
                },
                {
                    "output_type": "execute_result",
                    "execution_count": 33,
                    "data": {
                        "application/vnd.dataresource+json": {
                            "schema": {
                                "fields": [
                                    {
                                        "name": "CustomerName"
                                    },
                                    {
                                        "name": "AccountOpenedDate"
                                    }
                                ]
                            },
                            "data": [
                                {
                                    "0": "Kalyani Benjaree",
                                    "1": "2015-12-20"
                                },
                                {
                                    "0": "Adriana Pena",
                                    "1": "2015-11-30"
                                },
                                {
                                    "0": "Emma Salpa",
                                    "1": "2015-11-29"
                                },
                                {
                                    "0": "Luis Saucedo",
                                    "1": "2015-11-27"
                                },
                                {
                                    "0": "Ian Olofsson",
                                    "1": "2015-09-26"
                                },
                                {
                                    "0": "Amrita Ganguly",
                                    "1": "2015-09-23"
                                },
                                {
                                    "0": "Sylvie Laramee",
                                    "1": "2015-09-23"
                                },
                                {
                                    "0": "Amet Shergill",
                                    "1": "2015-08-13"
                                },
                                {
                                    "0": "Abhra Ganguly",
                                    "1": "2015-08-09"
                                },
                                {
                                    "0": "Ivana Hadrabova",
                                    "1": "2015-07-28"
                                }
                            ]
                        },
                        "text/html": "<table><tr><th>CustomerName</th><th>AccountOpenedDate</th></tr><tr><td>Kalyani Benjaree</td><td>2015-12-20</td></tr><tr><td>Adriana Pena</td><td>2015-11-30</td></tr><tr><td>Emma Salpa</td><td>2015-11-29</td></tr><tr><td>Luis Saucedo</td><td>2015-11-27</td></tr><tr><td>Ian Olofsson</td><td>2015-09-26</td></tr><tr><td>Amrita Ganguly</td><td>2015-09-23</td></tr><tr><td>Sylvie Laramee</td><td>2015-09-23</td></tr><tr><td>Amet Shergill</td><td>2015-08-13</td></tr><tr><td>Abhra Ganguly</td><td>2015-08-09</td></tr><tr><td>Ivana Hadrabova</td><td>2015-07-28</td></tr></table>"
                    },
                    "metadata": {
                        "resultSet": {
                            "id": 0,
                            "batchId": 0,
                            "rowCount": 10,
                            "complete": true,
                            "columnInfo": [
                                {
                                    "isBytes": false,
                                    "isChars": true,
                                    "isSqlVariant": false,
                                    "isUdt": false,
                                    "isXml": false,
                                    "isJson": false,
                                    "sqlDbType": 12,
                                    "isHierarchyId": false,
                                    "isSqlXmlType": false,
                                    "isUnknownType": false,
                                    "isUpdatable": true,
                                    "allowDBNull": false,
                                    "baseCatalogName": null,
                                    "baseColumnName": null,
                                    "baseSchemaName": null,
                                    "baseServerName": null,
                                    "baseTableName": null,
                                    "columnName": "CustomerName",
                                    "columnOrdinal": 0,
                                    "columnSize": 100,
                                    "isAliased": null,
                                    "isAutoIncrement": false,
                                    "isExpression": null,
                                    "isHidden": null,
                                    "isIdentity": false,
                                    "isKey": null,
                                    "isLong": false,
                                    "isReadOnly": false,
                                    "isUnique": false,
                                    "numericPrecision": 255,
                                    "numericScale": 255,
                                    "udtAssemblyQualifiedName": null,
                                    "dataType": "System.String, System.Private.CoreLib, Version=4.0.0.0, Culture=neutral, PublicKeyToken=7cec85d7bea7798e",
                                    "dataTypeName": "nvarchar"
                                },
                                {
                                    "isBytes": false,
                                    "isChars": false,
                                    "isSqlVariant": false,
                                    "isUdt": false,
                                    "isXml": false,
                                    "isJson": false,
                                    "sqlDbType": 31,
                                    "isHierarchyId": false,
                                    "isSqlXmlType": false,
                                    "isUnknownType": false,
                                    "isUpdatable": true,
                                    "allowDBNull": false,
                                    "baseCatalogName": null,
                                    "baseColumnName": null,
                                    "baseSchemaName": null,
                                    "baseServerName": null,
                                    "baseTableName": null,
                                    "columnName": "AccountOpenedDate",
                                    "columnOrdinal": 1,
                                    "columnSize": 3,
                                    "isAliased": null,
                                    "isAutoIncrement": false,
                                    "isExpression": null,
                                    "isHidden": null,
                                    "isIdentity": false,
                                    "isKey": null,
                                    "isLong": false,
                                    "isReadOnly": false,
                                    "isUnique": false,
                                    "numericPrecision": 255,
                                    "numericScale": 255,
                                    "udtAssemblyQualifiedName": null,
                                    "dataType": "System.DateTime, System.Private.CoreLib, Version=4.0.0.0, Culture=neutral, PublicKeyToken=7cec85d7bea7798e",
                                    "dataTypeName": "date"
                                }
                            ],
                            "specialAction": {
                                "none": true,
                                "expectYukonXMLShowPlan": false
                            }
                        }
                    }
                }
            ],
            "execution_count": 33
        },
        {
            "cell_type": "markdown",
            "source": [
                "Which accounts were created between July 1 and December 31 of 2015 ordered from latest to earliest, then alphabetical by customer name? Use the BETWEEN clause."
            ],
            "metadata": {
                "azdata_cell_guid": "fb04012d-d8f6-4385-9319-948abd613a05"
            }
        },
        {
            "cell_type": "code",
            "source": [
                "-- Which accounts were created between July 1 and December 31 of 2015 ordered from latest to earliest, then alphabetical by customer name? Use the BETWEEN clause.\r\n",
                "SELECT CustomerName, AccountOpenedDate FROM Sales.Customers WHERE AccountOpenedDate BETWEEN '2015-07-01' AND '2015-12-31' ORDER BY AccountOpenedDate DESC, CustomerName"
            ],
            "metadata": {
                "azdata_cell_guid": "5af76ad2-f19e-4dec-85d4-15f649a4175c",
                "tags": []
            },
            "outputs": [
                {
                    "output_type": "display_data",
                    "data": {
                        "text/html": "(10 rows affected)"
                    },
                    "metadata": {}
                },
                {
                    "output_type": "display_data",
                    "data": {
                        "text/html": "Total execution time: 00:00:00.045"
                    },
                    "metadata": {}
                },
                {
                    "output_type": "execute_result",
                    "execution_count": 34,
                    "data": {
                        "application/vnd.dataresource+json": {
                            "schema": {
                                "fields": [
                                    {
                                        "name": "CustomerName"
                                    },
                                    {
                                        "name": "AccountOpenedDate"
                                    }
                                ]
                            },
                            "data": [
                                {
                                    "0": "Kalyani Benjaree",
                                    "1": "2015-12-20"
                                },
                                {
                                    "0": "Adriana Pena",
                                    "1": "2015-11-30"
                                },
                                {
                                    "0": "Emma Salpa",
                                    "1": "2015-11-29"
                                },
                                {
                                    "0": "Luis Saucedo",
                                    "1": "2015-11-27"
                                },
                                {
                                    "0": "Ian Olofsson",
                                    "1": "2015-09-26"
                                },
                                {
                                    "0": "Amrita Ganguly",
                                    "1": "2015-09-23"
                                },
                                {
                                    "0": "Sylvie Laramee",
                                    "1": "2015-09-23"
                                },
                                {
                                    "0": "Amet Shergill",
                                    "1": "2015-08-13"
                                },
                                {
                                    "0": "Abhra Ganguly",
                                    "1": "2015-08-09"
                                },
                                {
                                    "0": "Ivana Hadrabova",
                                    "1": "2015-07-28"
                                }
                            ]
                        },
                        "text/html": "<table><tr><th>CustomerName</th><th>AccountOpenedDate</th></tr><tr><td>Kalyani Benjaree</td><td>2015-12-20</td></tr><tr><td>Adriana Pena</td><td>2015-11-30</td></tr><tr><td>Emma Salpa</td><td>2015-11-29</td></tr><tr><td>Luis Saucedo</td><td>2015-11-27</td></tr><tr><td>Ian Olofsson</td><td>2015-09-26</td></tr><tr><td>Amrita Ganguly</td><td>2015-09-23</td></tr><tr><td>Sylvie Laramee</td><td>2015-09-23</td></tr><tr><td>Amet Shergill</td><td>2015-08-13</td></tr><tr><td>Abhra Ganguly</td><td>2015-08-09</td></tr><tr><td>Ivana Hadrabova</td><td>2015-07-28</td></tr></table>"
                    },
                    "metadata": {
                        "resultSet": {
                            "id": 0,
                            "batchId": 0,
                            "rowCount": 10,
                            "complete": true,
                            "columnInfo": [
                                {
                                    "isBytes": false,
                                    "isChars": true,
                                    "isSqlVariant": false,
                                    "isUdt": false,
                                    "isXml": false,
                                    "isJson": false,
                                    "sqlDbType": 12,
                                    "isHierarchyId": false,
                                    "isSqlXmlType": false,
                                    "isUnknownType": false,
                                    "isUpdatable": true,
                                    "allowDBNull": false,
                                    "baseCatalogName": null,
                                    "baseColumnName": null,
                                    "baseSchemaName": null,
                                    "baseServerName": null,
                                    "baseTableName": null,
                                    "columnName": "CustomerName",
                                    "columnOrdinal": 0,
                                    "columnSize": 100,
                                    "isAliased": null,
                                    "isAutoIncrement": false,
                                    "isExpression": null,
                                    "isHidden": null,
                                    "isIdentity": false,
                                    "isKey": null,
                                    "isLong": false,
                                    "isReadOnly": false,
                                    "isUnique": false,
                                    "numericPrecision": 255,
                                    "numericScale": 255,
                                    "udtAssemblyQualifiedName": null,
                                    "dataType": "System.String, System.Private.CoreLib, Version=4.0.0.0, Culture=neutral, PublicKeyToken=7cec85d7bea7798e",
                                    "dataTypeName": "nvarchar"
                                },
                                {
                                    "isBytes": false,
                                    "isChars": false,
                                    "isSqlVariant": false,
                                    "isUdt": false,
                                    "isXml": false,
                                    "isJson": false,
                                    "sqlDbType": 31,
                                    "isHierarchyId": false,
                                    "isSqlXmlType": false,
                                    "isUnknownType": false,
                                    "isUpdatable": true,
                                    "allowDBNull": false,
                                    "baseCatalogName": null,
                                    "baseColumnName": null,
                                    "baseSchemaName": null,
                                    "baseServerName": null,
                                    "baseTableName": null,
                                    "columnName": "AccountOpenedDate",
                                    "columnOrdinal": 1,
                                    "columnSize": 3,
                                    "isAliased": null,
                                    "isAutoIncrement": false,
                                    "isExpression": null,
                                    "isHidden": null,
                                    "isIdentity": false,
                                    "isKey": null,
                                    "isLong": false,
                                    "isReadOnly": false,
                                    "isUnique": false,
                                    "numericPrecision": 255,
                                    "numericScale": 255,
                                    "udtAssemblyQualifiedName": null,
                                    "dataType": "System.DateTime, System.Private.CoreLib, Version=4.0.0.0, Culture=neutral, PublicKeyToken=7cec85d7bea7798e",
                                    "dataTypeName": "date"
                                }
                            ],
                            "specialAction": {
                                "none": true,
                                "expectYukonXMLShowPlan": false
                            }
                        }
                    }
                }
            ],
            "execution_count": 34
        },
        {
            "cell_type": "markdown",
            "source": [
                "What are the credit limits for Dipti Shah, Ivana Hadrabova, Emma Salpa, and Ian Olofsson? Order them lowest to highest credit limits."
            ],
            "metadata": {
                "azdata_cell_guid": "c2748aca-2c64-41dd-b87e-4269a35770e1"
            }
        },
        {
            "cell_type": "code",
            "source": [
                "-- What are the credit limits for Dipti Shah, Ivana Hadrabova, Emma Salpa, and Ian Olofsson? Order them lowest to highest credit limits.\r\n",
                "SELECT CustomerName, CreditLimit FROM Sales.Customers WHERE CustomerName IN ('Dipti Shah','Ivana Hadrabova', 'Emma Salpa', 'Ian Olofsson') ORDER BY CreditLimit"
            ],
            "metadata": {
                "azdata_cell_guid": "f60d160c-6754-4d04-9bbf-0b5b1bbd6222"
            },
            "outputs": [
                {
                    "output_type": "display_data",
                    "data": {
                        "text/html": "(4 rows affected)"
                    },
                    "metadata": {}
                },
                {
                    "output_type": "display_data",
                    "data": {
                        "text/html": "Total execution time: 00:00:00.024"
                    },
                    "metadata": {}
                },
                {
                    "output_type": "execute_result",
                    "execution_count": 38,
                    "data": {
                        "application/vnd.dataresource+json": {
                            "schema": {
                                "fields": [
                                    {
                                        "name": "CustomerName"
                                    },
                                    {
                                        "name": "CreditLimit"
                                    }
                                ]
                            },
                            "data": [
                                {
                                    "0": "Emma Salpa",
                                    "1": "1600.00"
                                },
                                {
                                    "0": "Ivana Hadrabova",
                                    "1": "1600.00"
                                },
                                {
                                    "0": "Ian Olofsson",
                                    "1": "3300.00"
                                },
                                {
                                    "0": "Dipti Shah",
                                    "1": "3700.00"
                                }
                            ]
                        },
                        "text/html": "<table><tr><th>CustomerName</th><th>CreditLimit</th></tr><tr><td>Emma Salpa</td><td>1600.00</td></tr><tr><td>Ivana Hadrabova</td><td>1600.00</td></tr><tr><td>Ian Olofsson</td><td>3300.00</td></tr><tr><td>Dipti Shah</td><td>3700.00</td></tr></table>"
                    },
                    "metadata": {
                        "resultSet": {
                            "id": 0,
                            "batchId": 0,
                            "rowCount": 4,
                            "complete": true,
                            "columnInfo": [
                                {
                                    "isBytes": false,
                                    "isChars": true,
                                    "isSqlVariant": false,
                                    "isUdt": false,
                                    "isXml": false,
                                    "isJson": false,
                                    "sqlDbType": 12,
                                    "isHierarchyId": false,
                                    "isSqlXmlType": false,
                                    "isUnknownType": false,
                                    "isUpdatable": true,
                                    "allowDBNull": false,
                                    "baseCatalogName": null,
                                    "baseColumnName": null,
                                    "baseSchemaName": null,
                                    "baseServerName": null,
                                    "baseTableName": null,
                                    "columnName": "CustomerName",
                                    "columnOrdinal": 0,
                                    "columnSize": 100,
                                    "isAliased": null,
                                    "isAutoIncrement": false,
                                    "isExpression": null,
                                    "isHidden": null,
                                    "isIdentity": false,
                                    "isKey": null,
                                    "isLong": false,
                                    "isReadOnly": false,
                                    "isUnique": false,
                                    "numericPrecision": 255,
                                    "numericScale": 255,
                                    "udtAssemblyQualifiedName": null,
                                    "dataType": "System.String, System.Private.CoreLib, Version=4.0.0.0, Culture=neutral, PublicKeyToken=7cec85d7bea7798e",
                                    "dataTypeName": "nvarchar"
                                },
                                {
                                    "isBytes": false,
                                    "isChars": false,
                                    "isSqlVariant": false,
                                    "isUdt": false,
                                    "isXml": false,
                                    "isJson": false,
                                    "sqlDbType": 5,
                                    "isHierarchyId": false,
                                    "isSqlXmlType": false,
                                    "isUnknownType": false,
                                    "isUpdatable": true,
                                    "allowDBNull": true,
                                    "baseCatalogName": null,
                                    "baseColumnName": null,
                                    "baseSchemaName": null,
                                    "baseServerName": null,
                                    "baseTableName": null,
                                    "columnName": "CreditLimit",
                                    "columnOrdinal": 1,
                                    "columnSize": 17,
                                    "isAliased": null,
                                    "isAutoIncrement": false,
                                    "isExpression": null,
                                    "isHidden": null,
                                    "isIdentity": false,
                                    "isKey": null,
                                    "isLong": false,
                                    "isReadOnly": false,
                                    "isUnique": false,
                                    "numericPrecision": 18,
                                    "numericScale": 2,
                                    "udtAssemblyQualifiedName": null,
                                    "dataType": "System.Decimal, System.Private.CoreLib, Version=4.0.0.0, Culture=neutral, PublicKeyToken=7cec85d7bea7798e",
                                    "dataTypeName": "decimal"
                                }
                            ],
                            "specialAction": {
                                "none": true,
                                "expectYukonXMLShowPlan": false
                            }
                        }
                    }
                }
            ],
            "execution_count": 38
        },
        {
            "cell_type": "markdown",
            "source": [
                "What are 5 accounts that do not have a buying group assigned to it?"
            ],
            "metadata": {
                "azdata_cell_guid": "4a9d6835-6da0-41f2-8631-c33552cf9516"
            }
        },
        {
            "cell_type": "code",
            "source": [
                "-- What are 5 accounts that do not have a buying group assigned to it?\r\n",
                "SELECT TOP 5 CustomerName, BuyingGroupId FROM Sales.Customers WHERE BuyingGroupId IS NULL"
            ],
            "metadata": {
                "azdata_cell_guid": "38982b83-5613-4e88-b50e-b147cad061a0"
            },
            "outputs": [
                {
                    "output_type": "display_data",
                    "data": {
                        "text/html": "(5 rows affected)"
                    },
                    "metadata": {}
                },
                {
                    "output_type": "display_data",
                    "data": {
                        "text/html": "Total execution time: 00:00:00.032"
                    },
                    "metadata": {}
                },
                {
                    "output_type": "execute_result",
                    "execution_count": 43,
                    "data": {
                        "application/vnd.dataresource+json": {
                            "schema": {
                                "fields": [
                                    {
                                        "name": "CustomerName"
                                    },
                                    {
                                        "name": "BuyingGroupId"
                                    }
                                ]
                            },
                            "data": [
                                {
                                    "0": "Eric Torres",
                                    "1": "NULL"
                                },
                                {
                                    "0": "Cosmina Vlad",
                                    "1": "NULL"
                                },
                                {
                                    "0": "Bala Dixit",
                                    "1": "NULL"
                                },
                                {
                                    "0": "Aleksandrs Riekstins",
                                    "1": "NULL"
                                },
                                {
                                    "0": "Ratan Poddar",
                                    "1": "NULL"
                                }
                            ]
                        },
                        "text/html": "<table><tr><th>CustomerName</th><th>BuyingGroupId</th></tr><tr><td>Eric Torres</td><td>NULL</td></tr><tr><td>Cosmina Vlad</td><td>NULL</td></tr><tr><td>Bala Dixit</td><td>NULL</td></tr><tr><td>Aleksandrs Riekstins</td><td>NULL</td></tr><tr><td>Ratan Poddar</td><td>NULL</td></tr></table>"
                    },
                    "metadata": {
                        "resultSet": {
                            "id": 0,
                            "batchId": 0,
                            "rowCount": 5,
                            "complete": false,
                            "columnInfo": [
                                {
                                    "isBytes": false,
                                    "isChars": true,
                                    "isSqlVariant": false,
                                    "isUdt": false,
                                    "isXml": false,
                                    "isJson": false,
                                    "sqlDbType": 12,
                                    "isHierarchyId": false,
                                    "isSqlXmlType": false,
                                    "isUnknownType": false,
                                    "isUpdatable": true,
                                    "allowDBNull": false,
                                    "baseCatalogName": null,
                                    "baseColumnName": null,
                                    "baseSchemaName": null,
                                    "baseServerName": null,
                                    "baseTableName": null,
                                    "columnName": "CustomerName",
                                    "columnOrdinal": 0,
                                    "columnSize": 100,
                                    "isAliased": null,
                                    "isAutoIncrement": false,
                                    "isExpression": null,
                                    "isHidden": null,
                                    "isIdentity": false,
                                    "isKey": null,
                                    "isLong": false,
                                    "isReadOnly": false,
                                    "isUnique": false,
                                    "numericPrecision": 255,
                                    "numericScale": 255,
                                    "udtAssemblyQualifiedName": null,
                                    "dataType": "System.String, System.Private.CoreLib, Version=4.0.0.0, Culture=neutral, PublicKeyToken=7cec85d7bea7798e",
                                    "dataTypeName": "nvarchar"
                                },
                                {
                                    "isBytes": false,
                                    "isChars": false,
                                    "isSqlVariant": false,
                                    "isUdt": false,
                                    "isXml": false,
                                    "isJson": false,
                                    "sqlDbType": 8,
                                    "isHierarchyId": false,
                                    "isSqlXmlType": false,
                                    "isUnknownType": false,
                                    "isUpdatable": true,
                                    "allowDBNull": true,
                                    "baseCatalogName": null,
                                    "baseColumnName": null,
                                    "baseSchemaName": null,
                                    "baseServerName": null,
                                    "baseTableName": null,
                                    "columnName": "BuyingGroupId",
                                    "columnOrdinal": 1,
                                    "columnSize": 4,
                                    "isAliased": null,
                                    "isAutoIncrement": false,
                                    "isExpression": null,
                                    "isHidden": null,
                                    "isIdentity": false,
                                    "isKey": null,
                                    "isLong": false,
                                    "isReadOnly": false,
                                    "isUnique": false,
                                    "numericPrecision": 10,
                                    "numericScale": 255,
                                    "udtAssemblyQualifiedName": null,
                                    "dataType": "System.Int32, System.Private.CoreLib, Version=4.0.0.0, Culture=neutral, PublicKeyToken=7cec85d7bea7798e",
                                    "dataTypeName": "int"
                                }
                            ],
                            "specialAction": null
                        }
                    }
                }
            ],
            "execution_count": 43
        },
        {
            "cell_type": "markdown",
            "source": [
                "What are 5 accounts that have a buying group assigned to it?"
            ],
            "metadata": {
                "azdata_cell_guid": "d3ad4db3-7b85-4453-9e9b-6e57dc953e3f"
            }
        },
        {
            "cell_type": "code",
            "source": [
                "-- What are 5 accounts that have a buying group assigned to it?\r\n",
                "SELECT TOP 5 CustomerName, BuyingGroupId FROM Sales.Customers WHERE BuyingGroupId IS NOT NULL"
            ],
            "metadata": {
                "azdata_cell_guid": "666d77c3-6930-4568-868b-00f51ccbb324"
            },
            "outputs": [
                {
                    "output_type": "display_data",
                    "data": {
                        "text/html": "(5 rows affected)"
                    },
                    "metadata": {}
                },
                {
                    "output_type": "display_data",
                    "data": {
                        "text/html": "Total execution time: 00:00:00.027"
                    },
                    "metadata": {}
                },
                {
                    "output_type": "execute_result",
                    "execution_count": 44,
                    "data": {
                        "application/vnd.dataresource+json": {
                            "schema": {
                                "fields": [
                                    {
                                        "name": "CustomerName"
                                    },
                                    {
                                        "name": "BuyingGroupId"
                                    }
                                ]
                            },
                            "data": [
                                {
                                    "0": "Tailspin Toys (Head Office)",
                                    "1": "1"
                                },
                                {
                                    "0": "Tailspin Toys (Sylvanite, MT)",
                                    "1": "1"
                                },
                                {
                                    "0": "Tailspin Toys (Peeples Valley, AZ)",
                                    "1": "1"
                                },
                                {
                                    "0": "Tailspin Toys (Medicine Lodge, KS)",
                                    "1": "1"
                                },
                                {
                                    "0": "Tailspin Toys (Gasport, NY)",
                                    "1": "1"
                                }
                            ]
                        },
                        "text/html": "<table><tr><th>CustomerName</th><th>BuyingGroupId</th></tr><tr><td>Tailspin Toys (Head Office)</td><td>1</td></tr><tr><td>Tailspin Toys (Sylvanite, MT)</td><td>1</td></tr><tr><td>Tailspin Toys (Peeples Valley, AZ)</td><td>1</td></tr><tr><td>Tailspin Toys (Medicine Lodge, KS)</td><td>1</td></tr><tr><td>Tailspin Toys (Gasport, NY)</td><td>1</td></tr></table>"
                    },
                    "metadata": {
                        "resultSet": {
                            "id": 0,
                            "batchId": 0,
                            "rowCount": 5,
                            "complete": true,
                            "columnInfo": [
                                {
                                    "isBytes": false,
                                    "isChars": true,
                                    "isSqlVariant": false,
                                    "isUdt": false,
                                    "isXml": false,
                                    "isJson": false,
                                    "sqlDbType": 12,
                                    "isHierarchyId": false,
                                    "isSqlXmlType": false,
                                    "isUnknownType": false,
                                    "isUpdatable": true,
                                    "allowDBNull": false,
                                    "baseCatalogName": null,
                                    "baseColumnName": null,
                                    "baseSchemaName": null,
                                    "baseServerName": null,
                                    "baseTableName": null,
                                    "columnName": "CustomerName",
                                    "columnOrdinal": 0,
                                    "columnSize": 100,
                                    "isAliased": null,
                                    "isAutoIncrement": false,
                                    "isExpression": null,
                                    "isHidden": null,
                                    "isIdentity": false,
                                    "isKey": null,
                                    "isLong": false,
                                    "isReadOnly": false,
                                    "isUnique": false,
                                    "numericPrecision": 255,
                                    "numericScale": 255,
                                    "udtAssemblyQualifiedName": null,
                                    "dataType": "System.String, System.Private.CoreLib, Version=4.0.0.0, Culture=neutral, PublicKeyToken=7cec85d7bea7798e",
                                    "dataTypeName": "nvarchar"
                                },
                                {
                                    "isBytes": false,
                                    "isChars": false,
                                    "isSqlVariant": false,
                                    "isUdt": false,
                                    "isXml": false,
                                    "isJson": false,
                                    "sqlDbType": 8,
                                    "isHierarchyId": false,
                                    "isSqlXmlType": false,
                                    "isUnknownType": false,
                                    "isUpdatable": true,
                                    "allowDBNull": true,
                                    "baseCatalogName": null,
                                    "baseColumnName": null,
                                    "baseSchemaName": null,
                                    "baseServerName": null,
                                    "baseTableName": null,
                                    "columnName": "BuyingGroupId",
                                    "columnOrdinal": 1,
                                    "columnSize": 4,
                                    "isAliased": null,
                                    "isAutoIncrement": false,
                                    "isExpression": null,
                                    "isHidden": null,
                                    "isIdentity": false,
                                    "isKey": null,
                                    "isLong": false,
                                    "isReadOnly": false,
                                    "isUnique": false,
                                    "numericPrecision": 10,
                                    "numericScale": 255,
                                    "udtAssemblyQualifiedName": null,
                                    "dataType": "System.Int32, System.Private.CoreLib, Version=4.0.0.0, Culture=neutral, PublicKeyToken=7cec85d7bea7798e",
                                    "dataTypeName": "int"
                                }
                            ],
                            "specialAction": {
                                "none": true,
                                "expectYukonXMLShowPlan": false
                            }
                        }
                    }
                }
            ],
            "execution_count": 44
        },
        {
            "cell_type": "markdown",
            "source": [
                "Show 5 customers with the following details:\n",
                "\n",
                "- At least 2 customers must not have a buying group assigned - call these customers out with the IN clause\n",
                "- At least 2 customers must have a buying group assigned - call these customers out with a LIKE clause\n",
                "- When the buying group is NULL, show 'No Buyer'.  Alias this column as BuyerGroup.\n",
                "- Order By BuyerGroup"
            ],
            "metadata": {
                "azdata_cell_guid": "13e5b7e7-d8ce-475a-907e-cee790de19c1"
            }
        },
        {
            "cell_type": "code",
            "source": [
                "-- It is on the learner to find a pattern to include at least 2 of the named customers in the IN clause and 2 for the LIKE clause\r\n",
                "-- They can use CAST or CONVERT\r\n",
                "-- For more thoughts, ask them why they chose the type for casting or converting.\r\n",
                "\r\n",
                "/*\r\n",
                "Show 5 customers with the following details:\r\n",
                "\r\n",
                "- At least 2 customers must not have a buying group assigned - call these customers out with the IN clause\r\n",
                "- At least 2 customers must have a buying group assigned - call these customers out with a LIKE clause\r\n",
                "- When the buying group is NULL, show 'No Buyer'.  Alias this column as BuyerGroup.\r\n",
                "- Order By BuyerGroup\r\n",
                "*/\r\n",
                "SELECT TOP 5 CustomerName,\r\n",
                "CASE WHEN BuyingGroupId IS NULL THEN 'No Buyer'\r\n",
                "ELSE CAST(BuyingGroupId AS char(1))\r\n",
                "END AS BuyerGroup\r\n",
                " FROM Sales.Customers \r\n",
                " WHERE CustomerName IN ('Eric Torres','Cosmina Vlad','Bala Dixit') OR CustomerName LIKE 'Tailspin%(%MT%)'\r\n",
                " ORDER BY BuyerGroup\r\n",
                "\r\n",
                "SELECT TOP 5 CustomerName,\r\n",
                "CASE WHEN BuyingGroupId IS NULL THEN 'No Buyer'\r\n",
                "ELSE CONVERT(char(1),BuyingGroupId)\r\n",
                "END AS BuyerGroup\r\n",
                "FROM Sales.Customers \r\n",
                "WHERE CustomerName IN ('Eric Torres','Cosmina Vlad','Bala Dixit') OR CustomerName LIKE 'Tailspin%(%MT%)'\r\n",
                "ORDER BY BuyerGroup"
            ],
            "metadata": {
                "azdata_cell_guid": "9af81e8a-6397-4dfa-84ba-dc8137ee076a"
            },
            "outputs": [
                {
                    "output_type": "display_data",
                    "data": {
                        "text/html": "(5 rows affected)"
                    },
                    "metadata": {}
                },
                {
                    "output_type": "display_data",
                    "data": {
                        "text/html": "(5 rows affected)"
                    },
                    "metadata": {}
                },
                {
                    "output_type": "display_data",
                    "data": {
                        "text/html": "Total execution time: 00:00:00.038"
                    },
                    "metadata": {}
                },
                {
                    "output_type": "execute_result",
                    "execution_count": 50,
                    "data": {
                        "application/vnd.dataresource+json": {
                            "schema": {
                                "fields": [
                                    {
                                        "name": "CustomerName"
                                    },
                                    {
                                        "name": "BuyerGroup"
                                    }
                                ]
                            },
                            "data": [
                                {
                                    "0": "Tailspin Toys (Fishtail, MT)",
                                    "1": "1"
                                },
                                {
                                    "0": "Tailspin Toys (Sun River, MT)",
                                    "1": "1"
                                },
                                {
                                    "0": "Tailspin Toys (Sylvanite, MT)",
                                    "1": "1"
                                },
                                {
                                    "0": "Bala Dixit",
                                    "1": "No Buyer"
                                },
                                {
                                    "0": "Cosmina Vlad",
                                    "1": "No Buyer"
                                }
                            ]
                        },
                        "text/html": "<table><tr><th>CustomerName</th><th>BuyerGroup</th></tr><tr><td>Tailspin Toys (Fishtail, MT)</td><td>1</td></tr><tr><td>Tailspin Toys (Sun River, MT)</td><td>1</td></tr><tr><td>Tailspin Toys (Sylvanite, MT)</td><td>1</td></tr><tr><td>Bala Dixit</td><td>No Buyer</td></tr><tr><td>Cosmina Vlad</td><td>No Buyer</td></tr></table>"
                    },
                    "metadata": {
                        "resultSet": {
                            "id": 0,
                            "batchId": 0,
                            "rowCount": 5,
                            "complete": true,
                            "columnInfo": [
                                {
                                    "isBytes": false,
                                    "isChars": true,
                                    "isSqlVariant": false,
                                    "isUdt": false,
                                    "isXml": false,
                                    "isJson": false,
                                    "sqlDbType": 12,
                                    "isHierarchyId": false,
                                    "isSqlXmlType": false,
                                    "isUnknownType": false,
                                    "isUpdatable": true,
                                    "allowDBNull": false,
                                    "baseCatalogName": null,
                                    "baseColumnName": null,
                                    "baseSchemaName": null,
                                    "baseServerName": null,
                                    "baseTableName": null,
                                    "columnName": "CustomerName",
                                    "columnOrdinal": 0,
                                    "columnSize": 100,
                                    "isAliased": null,
                                    "isAutoIncrement": false,
                                    "isExpression": null,
                                    "isHidden": null,
                                    "isIdentity": false,
                                    "isKey": null,
                                    "isLong": false,
                                    "isReadOnly": false,
                                    "isUnique": false,
                                    "numericPrecision": 255,
                                    "numericScale": 255,
                                    "udtAssemblyQualifiedName": null,
                                    "dataType": "System.String, System.Private.CoreLib, Version=4.0.0.0, Culture=neutral, PublicKeyToken=7cec85d7bea7798e",
                                    "dataTypeName": "nvarchar"
                                },
                                {
                                    "isBytes": false,
                                    "isChars": true,
                                    "isSqlVariant": false,
                                    "isUdt": false,
                                    "isXml": false,
                                    "isJson": false,
                                    "sqlDbType": 22,
                                    "isHierarchyId": false,
                                    "isSqlXmlType": false,
                                    "isUnknownType": false,
                                    "isUpdatable": false,
                                    "allowDBNull": true,
                                    "baseCatalogName": null,
                                    "baseColumnName": null,
                                    "baseSchemaName": null,
                                    "baseServerName": null,
                                    "baseTableName": null,
                                    "columnName": "BuyerGroup",
                                    "columnOrdinal": 1,
                                    "columnSize": 8,
                                    "isAliased": null,
                                    "isAutoIncrement": false,
                                    "isExpression": null,
                                    "isHidden": null,
                                    "isIdentity": false,
                                    "isKey": null,
                                    "isLong": false,
                                    "isReadOnly": true,
                                    "isUnique": false,
                                    "numericPrecision": 255,
                                    "numericScale": 255,
                                    "udtAssemblyQualifiedName": null,
                                    "dataType": "System.String, System.Private.CoreLib, Version=4.0.0.0, Culture=neutral, PublicKeyToken=7cec85d7bea7798e",
                                    "dataTypeName": "varchar"
                                }
                            ],
                            "specialAction": {
                                "none": true,
                                "expectYukonXMLShowPlan": false
                            }
                        }
                    }
                },
                {
                    "output_type": "execute_result",
                    "execution_count": 50,
                    "data": {
                        "application/vnd.dataresource+json": {
                            "schema": {
                                "fields": [
                                    {
                                        "name": "CustomerName"
                                    },
                                    {
                                        "name": "BuyerGroup"
                                    }
                                ]
                            },
                            "data": [
                                {
                                    "0": "Tailspin Toys (Fishtail, MT)",
                                    "1": "1"
                                },
                                {
                                    "0": "Tailspin Toys (Sun River, MT)",
                                    "1": "1"
                                },
                                {
                                    "0": "Tailspin Toys (Sylvanite, MT)",
                                    "1": "1"
                                },
                                {
                                    "0": "Bala Dixit",
                                    "1": "No Buyer"
                                },
                                {
                                    "0": "Cosmina Vlad",
                                    "1": "No Buyer"
                                }
                            ]
                        },
                        "text/html": "<table><tr><th>CustomerName</th><th>BuyerGroup</th></tr><tr><td>Tailspin Toys (Fishtail, MT)</td><td>1</td></tr><tr><td>Tailspin Toys (Sun River, MT)</td><td>1</td></tr><tr><td>Tailspin Toys (Sylvanite, MT)</td><td>1</td></tr><tr><td>Bala Dixit</td><td>No Buyer</td></tr><tr><td>Cosmina Vlad</td><td>No Buyer</td></tr></table>"
                    },
                    "metadata": {
                        "resultSet": {
                            "id": 1,
                            "batchId": 0,
                            "rowCount": 5,
                            "complete": true,
                            "columnInfo": [
                                {
                                    "isBytes": false,
                                    "isChars": true,
                                    "isSqlVariant": false,
                                    "isUdt": false,
                                    "isXml": false,
                                    "isJson": false,
                                    "sqlDbType": 12,
                                    "isHierarchyId": false,
                                    "isSqlXmlType": false,
                                    "isUnknownType": false,
                                    "isUpdatable": true,
                                    "allowDBNull": false,
                                    "baseCatalogName": null,
                                    "baseColumnName": null,
                                    "baseSchemaName": null,
                                    "baseServerName": null,
                                    "baseTableName": null,
                                    "columnName": "CustomerName",
                                    "columnOrdinal": 0,
                                    "columnSize": 100,
                                    "isAliased": null,
                                    "isAutoIncrement": false,
                                    "isExpression": null,
                                    "isHidden": null,
                                    "isIdentity": false,
                                    "isKey": null,
                                    "isLong": false,
                                    "isReadOnly": false,
                                    "isUnique": false,
                                    "numericPrecision": 255,
                                    "numericScale": 255,
                                    "udtAssemblyQualifiedName": null,
                                    "dataType": "System.String, System.Private.CoreLib, Version=4.0.0.0, Culture=neutral, PublicKeyToken=7cec85d7bea7798e",
                                    "dataTypeName": "nvarchar"
                                },
                                {
                                    "isBytes": false,
                                    "isChars": true,
                                    "isSqlVariant": false,
                                    "isUdt": false,
                                    "isXml": false,
                                    "isJson": false,
                                    "sqlDbType": 22,
                                    "isHierarchyId": false,
                                    "isSqlXmlType": false,
                                    "isUnknownType": false,
                                    "isUpdatable": false,
                                    "allowDBNull": true,
                                    "baseCatalogName": null,
                                    "baseColumnName": null,
                                    "baseSchemaName": null,
                                    "baseServerName": null,
                                    "baseTableName": null,
                                    "columnName": "BuyerGroup",
                                    "columnOrdinal": 1,
                                    "columnSize": 8,
                                    "isAliased": null,
                                    "isAutoIncrement": false,
                                    "isExpression": null,
                                    "isHidden": null,
                                    "isIdentity": false,
                                    "isKey": null,
                                    "isLong": false,
                                    "isReadOnly": true,
                                    "isUnique": false,
                                    "numericPrecision": 255,
                                    "numericScale": 255,
                                    "udtAssemblyQualifiedName": null,
                                    "dataType": "System.String, System.Private.CoreLib, Version=4.0.0.0, Culture=neutral, PublicKeyToken=7cec85d7bea7798e",
                                    "dataTypeName": "varchar"
                                }
                            ],
                            "specialAction": {
                                "none": true,
                                "expectYukonXMLShowPlan": false
                            }
                        }
                    }
                }
            ],
            "execution_count": 50
        }
    ]
}