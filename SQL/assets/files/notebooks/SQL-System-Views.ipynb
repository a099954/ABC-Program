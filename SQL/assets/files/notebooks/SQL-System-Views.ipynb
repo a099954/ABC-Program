{
    "metadata": {
        "kernelspec": {
            "name": "SQL",
            "display_name": "SQL",
            "language": "sql"
        },
        "language_info": {
            "name": "sql",
            "version": ""
        }
    },
    "nbformat_minor": 2,
    "nbformat": 4,
    "cells": [
        {
            "cell_type": "markdown",
            "source": [
                "# Querying SQL System Views for Tables and Columns"
            ],
            "metadata": {
                "azdata_cell_guid": "82b1e162-69cc-4c81-b58b-b61a5b3f76a6"
            }
        },
        {
            "cell_type": "markdown",
            "source": [
                "Azure Data Studio makes it easy for us to see what database objects are available by expanding the database in the Servers panel. When you expand the database, you will see the following folders:\n",
                "\n",
                "- Tables\n",
                "- Views\n",
                "- Synonyms\n",
                "- Programmability\n",
                "- External Resources\n",
                "- Service Broker\n",
                "- Storage\n",
                "- Security\n",
                "\n",
                "The folders we will focus on are Tables, Views, and Programmability.\n",
                "\n",
                "Expand the Tables folder to see what tables are in the WideWorldImporters database.\n",
                "\n",
                "Suppose you were in an environment where you can't see this list. The query to run to see the tables of a database is:"
            ],
            "metadata": {
                "azdata_cell_guid": "641f5fd6-8f4c-4e7d-a36c-de8fe2d5dd13"
            }
        },
        {
            "cell_type": "code",
            "source": [
                "SELECT * FROM INFORMATION_SCHEMA.TABLES"
            ],
            "metadata": {
                "azdata_cell_guid": "689d6451-d7a0-40c1-807c-4867591ca295"
            },
            "outputs": [],
            "execution_count": null
        },
        {
            "cell_type": "markdown",
            "source": [
                "The columns that come back are:\r\n",
                "\r\n",
                "\\- TABLE\\_CATALOG - which database\r\n",
                "\r\n",
                "\\- TABLE\\_SCHEMA - which schema. The objects in this database are named for their **schema** - a grouping that helps to organize tables and other SQL objects.  The objects are prefixed with their schema names in the Server panel.  The schemas we will be working with are Application, Purchasing, Sales, Warehouse, and Website.\r\n",
                "\r\n",
                "\\- TABLE\\_NAME - which table\r\n",
                "\r\n",
                "\\- TABLE\\_TYPE - BASE TABLE is a standard SQL table, and VIEW is a SQL view. Views are typically built from queries and can be queried against as well.\r\n",
                "\r\n",
                "In Azure Data Studio, we can expand a table further to see its columns. However, if you are in an environment where you cannot see the columns, the query to see the columns of a table looks like this:  \r\n",
                "\r\n",
                "```\r\n",
                "SELECT * FROM INFORMATION_SCHEMA.COLUMNS WHERE TABLE_SCHEMA='schemaName' AND TABLE_NAME='tableName'\r\n",
                "```\r\n",
                "\r\n",
                "Suppose we want to look at the columns for the Colors table in the Warehouse schema.  The query to get the columns for the Colors table in the Warehouse schema is:"
            ],
            "metadata": {
                "azdata_cell_guid": "fad64330-3a18-4d03-8bb2-c5640b0d5ff4"
            }
        },
        {
            "cell_type": "code",
            "source": [
                "SELECT * FROM INFORMATION_SCHEMA.COLUMNS WHERE TABLE_SCHEMA = 'Warehouse' AND TABLE_NAME = 'Colors'"
            ],
            "metadata": {
                "azdata_cell_guid": "1101fb54-f120-41e7-8a61-47fcd79859db"
            },
            "outputs": [],
            "execution_count": null
        },
        {
            "cell_type": "markdown",
            "source": [
                "Some things to note about the results:\n",
                "\n",
                "- COLUMN_NAME contains the column's name.\n",
                "    \n",
                "- ORDINAL_POSITION is where the column is ordered on the table.\n",
                "    \n",
                "- COLUMN_DEFAULT is NULL if there is no default value for the column, otherwise it is the default value.\n",
                "    \n",
                "- IS_NULLABLE indicates whether the values in the column can be NULL.\n",
                "    \n",
                "- DATA_TYPE is the base data type for the column.\n",
                "    \n",
                "- Maximum lengths, precisions, scales for strings, numeric, and datetime types are in their own columns.\n",
                "    \n",
                "- CHARACTER_SET named columns deal with the character set used, commonly seen in character, variable character, and text type fields.\n",
                "    \n",
                "- COLLATION_NAME indicates a lot about a field:\n",
                "    \n",
                "- Latin1_General_100 - This uses the Latin1-General version 100 collation.\n",
                "    \n",
                "- CI - This is short for Case Insensitive. Our sample database is case insensitive - so 'Hello' is the same as 'HELLO'. If this were case sensitive, this field would appear as CS.\n",
                "    \n",
                "- AS - This is short for Accent Sensitive. That means e and é are not treated equally. If the accent didn't matter, Accent Insensitive is abbreviated as AI.\n",
                "    \n",
                "- Other abbreviations that may appear in the collation name include:\n",
                "    \n",
                "- KS - Kana Sensitive - this applies to Japanese languages Hiragana and Katakana. If KS is present, then they are treated differently. If KS is not present in the collation name, then the collation is considered kana-insensitive and Hiragana and Katakana are considered equal for sorting.\n",
                "    \n",
                "- WS - Width Sensitive - this applies to full-width and half-width characters. If WS is present, then they are treated differently. If WS is not present in the collation name, then full-width ad hall-width representations are considered identical for sorting.\n",
                "    \n",
                "- VSS - Variation Selector Sensitive - this applies to ideographic variation selectors in specific Japanese collations. If VSS is not present in the collation name, the variation selector is not considered as part of the comparison for sorting.\n",
                "    \n",
                "- BIN - Binary sort\n",
                "    \n",
                "\n",
                "We will check out the case sensitivity and accent sensitivity later in this lesson."
            ],
            "metadata": {
                "azdata_cell_guid": "c2192741-cfa8-493e-a3b3-06b89500162a"
            }
        }
    ]
}