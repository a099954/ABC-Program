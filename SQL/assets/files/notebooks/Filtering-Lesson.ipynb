{
    "metadata": {
        "kernelspec": {
            "name": "SQL",
            "display_name": "SQL",
            "language": "sql"
        },
        "language_info": {
            "name": "sql",
            "version": ""
        }
    },
    "nbformat_minor": 2,
    "nbformat": 4,
    "cells": [
        {
            "cell_type": "code",
            "source": [
                "USE WideWorldImporters"
            ],
            "metadata": {
                "azdata_cell_guid": "bf215af6-f307-4495-8161-81a3d02b7c1e",
                "tags": []
            },
            "outputs": [
                {
                    "output_type": "display_data",
                    "data": {
                        "text/html": "Commands completed successfully."
                    },
                    "metadata": {}
                },
                {
                    "output_type": "display_data",
                    "data": {
                        "text/html": "Total execution time: 00:00:00.002"
                    },
                    "metadata": {}
                }
            ],
            "execution_count": 2
        },
        {
            "cell_type": "markdown",
            "source": [
                "## Filtering Results\n",
                "\n",
                "Something else we may notice in the Colors table is that there are lots of colors with <code>Blue</code> in their name. What are those colors?"
            ],
            "metadata": {
                "azdata_cell_guid": "09b122cf-9946-4ecb-9904-bab802d940c5"
            }
        },
        {
            "cell_type": "markdown",
            "source": [
                "### WHERE keyword\r\n",
                "\r\n",
                "We can filter our SQL results using the<code>WHERE</code>keyword. Let's start with getting the record where the ColorName is equal to Blue. Its query looks like this:"
            ],
            "metadata": {
                "azdata_cell_guid": "397b44a4-d927-4af1-bef5-e3575e1e798a"
            }
        },
        {
            "cell_type": "code",
            "source": [
                "SELECT * FROM Warehouse.Colors WHERE ColorName='Blue'"
            ],
            "metadata": {
                "azdata_cell_guid": "87be12d1-0c56-41e6-8e3b-68d512433d00"
            },
            "outputs": [
                {
                    "output_type": "display_data",
                    "data": {
                        "text/html": "(1 row affected)"
                    },
                    "metadata": {}
                },
                {
                    "output_type": "display_data",
                    "data": {
                        "text/html": "Total execution time: 00:00:00.021"
                    },
                    "metadata": {}
                },
                {
                    "output_type": "execute_result",
                    "execution_count": 12,
                    "data": {
                        "application/vnd.dataresource+json": {
                            "schema": {
                                "fields": [
                                    {
                                        "name": "ColorID"
                                    },
                                    {
                                        "name": "ColorName"
                                    },
                                    {
                                        "name": "LastEditedBy"
                                    },
                                    {
                                        "name": "ValidFrom"
                                    },
                                    {
                                        "name": "ValidTo"
                                    }
                                ]
                            },
                            "data": [
                                {
                                    "0": "4",
                                    "1": "Blue",
                                    "2": "1",
                                    "3": "2013-01-01 00:00:00.0000000",
                                    "4": "9999-12-31 23:59:59.9999999"
                                }
                            ]
                        },
                        "text/html": "<table><tr><th>ColorID</th><th>ColorName</th><th>LastEditedBy</th><th>ValidFrom</th><th>ValidTo</th></tr><tr><td>4</td><td>Blue</td><td>1</td><td>2013-01-01 00:00:00.0000000</td><td>9999-12-31 23:59:59.9999999</td></tr></table>"
                    },
                    "metadata": {
                        "resultSet": {
                            "id": 0,
                            "batchId": 0,
                            "rowCount": 1,
                            "complete": true,
                            "columnInfo": [
                                {
                                    "isBytes": false,
                                    "isChars": false,
                                    "isSqlVariant": false,
                                    "isUdt": false,
                                    "isXml": false,
                                    "isJson": false,
                                    "sqlDbType": 8,
                                    "isHierarchyId": false,
                                    "isSqlXmlType": false,
                                    "isUnknownType": false,
                                    "isUpdatable": true,
                                    "allowDBNull": false,
                                    "baseCatalogName": null,
                                    "baseColumnName": null,
                                    "baseSchemaName": null,
                                    "baseServerName": null,
                                    "baseTableName": null,
                                    "columnName": "ColorID",
                                    "columnOrdinal": 0,
                                    "columnSize": 4,
                                    "isAliased": null,
                                    "isAutoIncrement": false,
                                    "isExpression": null,
                                    "isHidden": null,
                                    "isIdentity": false,
                                    "isKey": null,
                                    "isLong": false,
                                    "isReadOnly": false,
                                    "isUnique": false,
                                    "numericPrecision": 10,
                                    "numericScale": 255,
                                    "udtAssemblyQualifiedName": null,
                                    "dataType": "System.Int32, System.Private.CoreLib, Version=4.0.0.0, Culture=neutral, PublicKeyToken=7cec85d7bea7798e",
                                    "dataTypeName": "int"
                                },
                                {
                                    "isBytes": false,
                                    "isChars": true,
                                    "isSqlVariant": false,
                                    "isUdt": false,
                                    "isXml": false,
                                    "isJson": false,
                                    "sqlDbType": 12,
                                    "isHierarchyId": false,
                                    "isSqlXmlType": false,
                                    "isUnknownType": false,
                                    "isUpdatable": true,
                                    "allowDBNull": false,
                                    "baseCatalogName": null,
                                    "baseColumnName": null,
                                    "baseSchemaName": null,
                                    "baseServerName": null,
                                    "baseTableName": null,
                                    "columnName": "ColorName",
                                    "columnOrdinal": 1,
                                    "columnSize": 20,
                                    "isAliased": null,
                                    "isAutoIncrement": false,
                                    "isExpression": null,
                                    "isHidden": null,
                                    "isIdentity": false,
                                    "isKey": null,
                                    "isLong": false,
                                    "isReadOnly": false,
                                    "isUnique": false,
                                    "numericPrecision": 255,
                                    "numericScale": 255,
                                    "udtAssemblyQualifiedName": null,
                                    "dataType": "System.String, System.Private.CoreLib, Version=4.0.0.0, Culture=neutral, PublicKeyToken=7cec85d7bea7798e",
                                    "dataTypeName": "nvarchar"
                                },
                                {
                                    "isBytes": false,
                                    "isChars": false,
                                    "isSqlVariant": false,
                                    "isUdt": false,
                                    "isXml": false,
                                    "isJson": false,
                                    "sqlDbType": 8,
                                    "isHierarchyId": false,
                                    "isSqlXmlType": false,
                                    "isUnknownType": false,
                                    "isUpdatable": true,
                                    "allowDBNull": false,
                                    "baseCatalogName": null,
                                    "baseColumnName": null,
                                    "baseSchemaName": null,
                                    "baseServerName": null,
                                    "baseTableName": null,
                                    "columnName": "LastEditedBy",
                                    "columnOrdinal": 2,
                                    "columnSize": 4,
                                    "isAliased": null,
                                    "isAutoIncrement": false,
                                    "isExpression": null,
                                    "isHidden": null,
                                    "isIdentity": false,
                                    "isKey": null,
                                    "isLong": false,
                                    "isReadOnly": false,
                                    "isUnique": false,
                                    "numericPrecision": 10,
                                    "numericScale": 255,
                                    "udtAssemblyQualifiedName": null,
                                    "dataType": "System.Int32, System.Private.CoreLib, Version=4.0.0.0, Culture=neutral, PublicKeyToken=7cec85d7bea7798e",
                                    "dataTypeName": "int"
                                },
                                {
                                    "isBytes": false,
                                    "isChars": false,
                                    "isSqlVariant": false,
                                    "isUdt": false,
                                    "isXml": false,
                                    "isJson": false,
                                    "sqlDbType": 33,
                                    "isHierarchyId": false,
                                    "isSqlXmlType": false,
                                    "isUnknownType": false,
                                    "isUpdatable": false,
                                    "allowDBNull": false,
                                    "baseCatalogName": null,
                                    "baseColumnName": null,
                                    "baseSchemaName": null,
                                    "baseServerName": null,
                                    "baseTableName": null,
                                    "columnName": "ValidFrom",
                                    "columnOrdinal": 3,
                                    "columnSize": 8,
                                    "isAliased": null,
                                    "isAutoIncrement": false,
                                    "isExpression": null,
                                    "isHidden": null,
                                    "isIdentity": false,
                                    "isKey": null,
                                    "isLong": false,
                                    "isReadOnly": true,
                                    "isUnique": false,
                                    "numericPrecision": 255,
                                    "numericScale": 7,
                                    "udtAssemblyQualifiedName": null,
                                    "dataType": "System.DateTime, System.Private.CoreLib, Version=4.0.0.0, Culture=neutral, PublicKeyToken=7cec85d7bea7798e",
                                    "dataTypeName": "datetime2"
                                },
                                {
                                    "isBytes": false,
                                    "isChars": false,
                                    "isSqlVariant": false,
                                    "isUdt": false,
                                    "isXml": false,
                                    "isJson": false,
                                    "sqlDbType": 33,
                                    "isHierarchyId": false,
                                    "isSqlXmlType": false,
                                    "isUnknownType": false,
                                    "isUpdatable": false,
                                    "allowDBNull": false,
                                    "baseCatalogName": null,
                                    "baseColumnName": null,
                                    "baseSchemaName": null,
                                    "baseServerName": null,
                                    "baseTableName": null,
                                    "columnName": "ValidTo",
                                    "columnOrdinal": 4,
                                    "columnSize": 8,
                                    "isAliased": null,
                                    "isAutoIncrement": false,
                                    "isExpression": null,
                                    "isHidden": null,
                                    "isIdentity": false,
                                    "isKey": null,
                                    "isLong": false,
                                    "isReadOnly": true,
                                    "isUnique": false,
                                    "numericPrecision": 255,
                                    "numericScale": 7,
                                    "udtAssemblyQualifiedName": null,
                                    "dataType": "System.DateTime, System.Private.CoreLib, Version=4.0.0.0, Culture=neutral, PublicKeyToken=7cec85d7bea7798e",
                                    "dataTypeName": "datetime2"
                                }
                            ],
                            "specialAction": {
                                "none": true,
                                "expectYukonXMLShowPlan": false
                            }
                        }
                    }
                }
            ],
            "execution_count": 12
        },
        {
            "cell_type": "markdown",
            "source": [
                "We can use the <code>=</code> operator to find records that have values equal to a particular value. Since Blue is a string, you can use single quotes to surround the value.\n",
                "\n",
                "What if you use double quotes? Try this:"
            ],
            "metadata": {
                "azdata_cell_guid": "ab773ede-3136-4a7d-bf4f-c666d3deb0dc",
                "language": "markdown"
            }
        },
        {
            "cell_type": "code",
            "source": [
                "SELECT * FROM Warehouse.Colors WHERE ColorName=\"Blue\""
            ],
            "metadata": {
                "azdata_cell_guid": "9d23bb10-c9be-434e-9031-b114281a57ce"
            },
            "outputs": [
                {
                    "output_type": "error",
                    "ename": "",
                    "evalue": "Msg 207, Level 16, State 1, Line 1\r\nInvalid column name 'Blue'.",
                    "traceback": []
                },
                {
                    "output_type": "display_data",
                    "data": {
                        "text/html": "Total execution time: 00:00:00.016"
                    },
                    "metadata": {}
                }
            ],
            "execution_count": 13
        },
        {
            "cell_type": "markdown",
            "source": [
                "So you need to surround string values in quotes.\n",
                "\n",
                "> What if the value contains quotes?  Stay tuned, as we will explain that here shortly!\n",
                "\n",
                "Do you need quotes if the value is a number?  Let's see what color has the ColorID of 2.  We can do that with this query:"
            ],
            "metadata": {
                "azdata_cell_guid": "15946adf-cdaa-4881-8de5-eb66048b9584"
            }
        },
        {
            "cell_type": "code",
            "source": [
                "SELECT * FROM Warehouse.Colors WHERE ColorID=2"
            ],
            "metadata": {
                "azdata_cell_guid": "6b0ae289-4966-494c-9f31-eb62a3b33290"
            },
            "outputs": [
                {
                    "output_type": "display_data",
                    "data": {
                        "text/html": "(1 row affected)"
                    },
                    "metadata": {}
                },
                {
                    "output_type": "display_data",
                    "data": {
                        "text/html": "Total execution time: 00:00:00.010"
                    },
                    "metadata": {}
                },
                {
                    "output_type": "execute_result",
                    "execution_count": 16,
                    "data": {
                        "application/vnd.dataresource+json": {
                            "schema": {
                                "fields": [
                                    {
                                        "name": "ColorID"
                                    },
                                    {
                                        "name": "ColorName"
                                    },
                                    {
                                        "name": "LastEditedBy"
                                    },
                                    {
                                        "name": "ValidFrom"
                                    },
                                    {
                                        "name": "ValidTo"
                                    }
                                ]
                            },
                            "data": [
                                {
                                    "0": "2",
                                    "1": "Beige",
                                    "2": "1",
                                    "3": "2013-01-01 00:00:00.0000000",
                                    "4": "9999-12-31 23:59:59.9999999"
                                }
                            ]
                        },
                        "text/html": "<table><tr><th>ColorID</th><th>ColorName</th><th>LastEditedBy</th><th>ValidFrom</th><th>ValidTo</th></tr><tr><td>2</td><td>Beige</td><td>1</td><td>2013-01-01 00:00:00.0000000</td><td>9999-12-31 23:59:59.9999999</td></tr></table>"
                    },
                    "metadata": {
                        "resultSet": {
                            "id": 0,
                            "batchId": 0,
                            "rowCount": 1,
                            "complete": true,
                            "columnInfo": [
                                {
                                    "isBytes": false,
                                    "isChars": false,
                                    "isSqlVariant": false,
                                    "isUdt": false,
                                    "isXml": false,
                                    "isJson": false,
                                    "sqlDbType": 8,
                                    "isHierarchyId": false,
                                    "isSqlXmlType": false,
                                    "isUnknownType": false,
                                    "isUpdatable": true,
                                    "allowDBNull": false,
                                    "baseCatalogName": null,
                                    "baseColumnName": null,
                                    "baseSchemaName": null,
                                    "baseServerName": null,
                                    "baseTableName": null,
                                    "columnName": "ColorID",
                                    "columnOrdinal": 0,
                                    "columnSize": 4,
                                    "isAliased": null,
                                    "isAutoIncrement": false,
                                    "isExpression": null,
                                    "isHidden": null,
                                    "isIdentity": false,
                                    "isKey": null,
                                    "isLong": false,
                                    "isReadOnly": false,
                                    "isUnique": false,
                                    "numericPrecision": 10,
                                    "numericScale": 255,
                                    "udtAssemblyQualifiedName": null,
                                    "dataType": "System.Int32, System.Private.CoreLib, Version=4.0.0.0, Culture=neutral, PublicKeyToken=7cec85d7bea7798e",
                                    "dataTypeName": "int"
                                },
                                {
                                    "isBytes": false,
                                    "isChars": true,
                                    "isSqlVariant": false,
                                    "isUdt": false,
                                    "isXml": false,
                                    "isJson": false,
                                    "sqlDbType": 12,
                                    "isHierarchyId": false,
                                    "isSqlXmlType": false,
                                    "isUnknownType": false,
                                    "isUpdatable": true,
                                    "allowDBNull": false,
                                    "baseCatalogName": null,
                                    "baseColumnName": null,
                                    "baseSchemaName": null,
                                    "baseServerName": null,
                                    "baseTableName": null,
                                    "columnName": "ColorName",
                                    "columnOrdinal": 1,
                                    "columnSize": 20,
                                    "isAliased": null,
                                    "isAutoIncrement": false,
                                    "isExpression": null,
                                    "isHidden": null,
                                    "isIdentity": false,
                                    "isKey": null,
                                    "isLong": false,
                                    "isReadOnly": false,
                                    "isUnique": false,
                                    "numericPrecision": 255,
                                    "numericScale": 255,
                                    "udtAssemblyQualifiedName": null,
                                    "dataType": "System.String, System.Private.CoreLib, Version=4.0.0.0, Culture=neutral, PublicKeyToken=7cec85d7bea7798e",
                                    "dataTypeName": "nvarchar"
                                },
                                {
                                    "isBytes": false,
                                    "isChars": false,
                                    "isSqlVariant": false,
                                    "isUdt": false,
                                    "isXml": false,
                                    "isJson": false,
                                    "sqlDbType": 8,
                                    "isHierarchyId": false,
                                    "isSqlXmlType": false,
                                    "isUnknownType": false,
                                    "isUpdatable": true,
                                    "allowDBNull": false,
                                    "baseCatalogName": null,
                                    "baseColumnName": null,
                                    "baseSchemaName": null,
                                    "baseServerName": null,
                                    "baseTableName": null,
                                    "columnName": "LastEditedBy",
                                    "columnOrdinal": 2,
                                    "columnSize": 4,
                                    "isAliased": null,
                                    "isAutoIncrement": false,
                                    "isExpression": null,
                                    "isHidden": null,
                                    "isIdentity": false,
                                    "isKey": null,
                                    "isLong": false,
                                    "isReadOnly": false,
                                    "isUnique": false,
                                    "numericPrecision": 10,
                                    "numericScale": 255,
                                    "udtAssemblyQualifiedName": null,
                                    "dataType": "System.Int32, System.Private.CoreLib, Version=4.0.0.0, Culture=neutral, PublicKeyToken=7cec85d7bea7798e",
                                    "dataTypeName": "int"
                                },
                                {
                                    "isBytes": false,
                                    "isChars": false,
                                    "isSqlVariant": false,
                                    "isUdt": false,
                                    "isXml": false,
                                    "isJson": false,
                                    "sqlDbType": 33,
                                    "isHierarchyId": false,
                                    "isSqlXmlType": false,
                                    "isUnknownType": false,
                                    "isUpdatable": false,
                                    "allowDBNull": false,
                                    "baseCatalogName": null,
                                    "baseColumnName": null,
                                    "baseSchemaName": null,
                                    "baseServerName": null,
                                    "baseTableName": null,
                                    "columnName": "ValidFrom",
                                    "columnOrdinal": 3,
                                    "columnSize": 8,
                                    "isAliased": null,
                                    "isAutoIncrement": false,
                                    "isExpression": null,
                                    "isHidden": null,
                                    "isIdentity": false,
                                    "isKey": null,
                                    "isLong": false,
                                    "isReadOnly": true,
                                    "isUnique": false,
                                    "numericPrecision": 255,
                                    "numericScale": 7,
                                    "udtAssemblyQualifiedName": null,
                                    "dataType": "System.DateTime, System.Private.CoreLib, Version=4.0.0.0, Culture=neutral, PublicKeyToken=7cec85d7bea7798e",
                                    "dataTypeName": "datetime2"
                                },
                                {
                                    "isBytes": false,
                                    "isChars": false,
                                    "isSqlVariant": false,
                                    "isUdt": false,
                                    "isXml": false,
                                    "isJson": false,
                                    "sqlDbType": 33,
                                    "isHierarchyId": false,
                                    "isSqlXmlType": false,
                                    "isUnknownType": false,
                                    "isUpdatable": false,
                                    "allowDBNull": false,
                                    "baseCatalogName": null,
                                    "baseColumnName": null,
                                    "baseSchemaName": null,
                                    "baseServerName": null,
                                    "baseTableName": null,
                                    "columnName": "ValidTo",
                                    "columnOrdinal": 4,
                                    "columnSize": 8,
                                    "isAliased": null,
                                    "isAutoIncrement": false,
                                    "isExpression": null,
                                    "isHidden": null,
                                    "isIdentity": false,
                                    "isKey": null,
                                    "isLong": false,
                                    "isReadOnly": true,
                                    "isUnique": false,
                                    "numericPrecision": 255,
                                    "numericScale": 7,
                                    "udtAssemblyQualifiedName": null,
                                    "dataType": "System.DateTime, System.Private.CoreLib, Version=4.0.0.0, Culture=neutral, PublicKeyToken=7cec85d7bea7798e",
                                    "dataTypeName": "datetime2"
                                }
                            ],
                            "specialAction": {
                                "none": true,
                                "expectYukonXMLShowPlan": false
                            }
                        }
                    }
                }
            ],
            "execution_count": 16
        },
        {
            "cell_type": "markdown",
            "source": [
                "Beige happened to be the color with the ColorID of 2. We did not need to use quotes for a numeric value. However, we need it for strings.\n",
                "\n",
                "Suppose we want colors that have an ID less than 5. We can use \\< for less than, \\> for greater than, and a combination of those with = to filter numeric values. For colors with IDs less than 5, that query looks like this:"
            ],
            "metadata": {
                "azdata_cell_guid": "913c1a25-f547-4136-a1a4-52450c61a02d"
            }
        },
        {
            "cell_type": "code",
            "source": [
                "SELECT ColorID, ColorName FROM Warehouse.Colors WHERE ColorID < 5"
            ],
            "metadata": {
                "azdata_cell_guid": "561df8f7-dbc6-41cd-b8e7-47874b5cb009"
            },
            "outputs": [
                {
                    "output_type": "display_data",
                    "data": {
                        "text/html": "(4 rows affected)"
                    },
                    "metadata": {}
                },
                {
                    "output_type": "display_data",
                    "data": {
                        "text/html": "Total execution time: 00:00:00.030"
                    },
                    "metadata": {}
                },
                {
                    "output_type": "execute_result",
                    "execution_count": 37,
                    "data": {
                        "application/vnd.dataresource+json": {
                            "schema": {
                                "fields": [
                                    {
                                        "name": "ColorID"
                                    },
                                    {
                                        "name": "ColorName"
                                    }
                                ]
                            },
                            "data": [
                                {
                                    "0": "1",
                                    "1": "Azure"
                                },
                                {
                                    "0": "2",
                                    "1": "Beige"
                                },
                                {
                                    "0": "3",
                                    "1": "Black"
                                },
                                {
                                    "0": "4",
                                    "1": "Blue"
                                }
                            ]
                        },
                        "text/html": "<table><tr><th>ColorID</th><th>ColorName</th></tr><tr><td>1</td><td>Azure</td></tr><tr><td>2</td><td>Beige</td></tr><tr><td>3</td><td>Black</td></tr><tr><td>4</td><td>Blue</td></tr></table>"
                    },
                    "metadata": {
                        "resultSet": {
                            "id": 0,
                            "batchId": 0,
                            "rowCount": 4,
                            "complete": true,
                            "columnInfo": [
                                {
                                    "isBytes": false,
                                    "isChars": false,
                                    "isSqlVariant": false,
                                    "isUdt": false,
                                    "isXml": false,
                                    "isJson": false,
                                    "sqlDbType": 8,
                                    "isHierarchyId": false,
                                    "isSqlXmlType": false,
                                    "isUnknownType": false,
                                    "isUpdatable": true,
                                    "allowDBNull": false,
                                    "baseCatalogName": null,
                                    "baseColumnName": null,
                                    "baseSchemaName": null,
                                    "baseServerName": null,
                                    "baseTableName": null,
                                    "columnName": "ColorID",
                                    "columnOrdinal": 0,
                                    "columnSize": 4,
                                    "isAliased": null,
                                    "isAutoIncrement": false,
                                    "isExpression": null,
                                    "isHidden": null,
                                    "isIdentity": false,
                                    "isKey": null,
                                    "isLong": false,
                                    "isReadOnly": false,
                                    "isUnique": false,
                                    "numericPrecision": 10,
                                    "numericScale": 255,
                                    "udtAssemblyQualifiedName": null,
                                    "dataType": "System.Int32, System.Private.CoreLib, Version=4.0.0.0, Culture=neutral, PublicKeyToken=7cec85d7bea7798e",
                                    "dataTypeName": "int"
                                },
                                {
                                    "isBytes": false,
                                    "isChars": true,
                                    "isSqlVariant": false,
                                    "isUdt": false,
                                    "isXml": false,
                                    "isJson": false,
                                    "sqlDbType": 12,
                                    "isHierarchyId": false,
                                    "isSqlXmlType": false,
                                    "isUnknownType": false,
                                    "isUpdatable": true,
                                    "allowDBNull": false,
                                    "baseCatalogName": null,
                                    "baseColumnName": null,
                                    "baseSchemaName": null,
                                    "baseServerName": null,
                                    "baseTableName": null,
                                    "columnName": "ColorName",
                                    "columnOrdinal": 1,
                                    "columnSize": 20,
                                    "isAliased": null,
                                    "isAutoIncrement": false,
                                    "isExpression": null,
                                    "isHidden": null,
                                    "isIdentity": false,
                                    "isKey": null,
                                    "isLong": false,
                                    "isReadOnly": false,
                                    "isUnique": false,
                                    "numericPrecision": 255,
                                    "numericScale": 255,
                                    "udtAssemblyQualifiedName": null,
                                    "dataType": "System.String, System.Private.CoreLib, Version=4.0.0.0, Culture=neutral, PublicKeyToken=7cec85d7bea7798e",
                                    "dataTypeName": "nvarchar"
                                }
                            ],
                            "specialAction": {
                                "none": true,
                                "expectYukonXMLShowPlan": false
                            }
                        }
                    }
                }
            ],
            "execution_count": 37
        },
        {
            "cell_type": "markdown",
            "source": [
                "If we wanted to include the value equal to 5, we could use \\<= to find all colors with IDs less than or equal to 5."
            ],
            "metadata": {
                "azdata_cell_guid": "9a2127c1-f2df-44d6-a8a5-4ab0dd05b1a1"
            }
        },
        {
            "cell_type": "code",
            "source": [
                "SELECT ColorID, ColorName FROM Warehouse.Colors WHERE ColorID <= 5"
            ],
            "metadata": {
                "azdata_cell_guid": "ecdf8ad2-953f-4a42-9b73-0350ad5deb14"
            },
            "outputs": [
                {
                    "output_type": "display_data",
                    "data": {
                        "text/html": "(5 rows affected)"
                    },
                    "metadata": {}
                },
                {
                    "output_type": "display_data",
                    "data": {
                        "text/html": "Total execution time: 00:00:00.008"
                    },
                    "metadata": {}
                },
                {
                    "output_type": "execute_result",
                    "execution_count": 38,
                    "data": {
                        "application/vnd.dataresource+json": {
                            "schema": {
                                "fields": [
                                    {
                                        "name": "ColorID"
                                    },
                                    {
                                        "name": "ColorName"
                                    }
                                ]
                            },
                            "data": [
                                {
                                    "0": "1",
                                    "1": "Azure"
                                },
                                {
                                    "0": "2",
                                    "1": "Beige"
                                },
                                {
                                    "0": "3",
                                    "1": "Black"
                                },
                                {
                                    "0": "4",
                                    "1": "Blue"
                                },
                                {
                                    "0": "5",
                                    "1": "Charcoal"
                                }
                            ]
                        },
                        "text/html": "<table><tr><th>ColorID</th><th>ColorName</th></tr><tr><td>1</td><td>Azure</td></tr><tr><td>2</td><td>Beige</td></tr><tr><td>3</td><td>Black</td></tr><tr><td>4</td><td>Blue</td></tr><tr><td>5</td><td>Charcoal</td></tr></table>"
                    },
                    "metadata": {
                        "resultSet": {
                            "id": 0,
                            "batchId": 0,
                            "rowCount": 5,
                            "complete": true,
                            "columnInfo": [
                                {
                                    "isBytes": false,
                                    "isChars": false,
                                    "isSqlVariant": false,
                                    "isUdt": false,
                                    "isXml": false,
                                    "isJson": false,
                                    "sqlDbType": 8,
                                    "isHierarchyId": false,
                                    "isSqlXmlType": false,
                                    "isUnknownType": false,
                                    "isUpdatable": true,
                                    "allowDBNull": false,
                                    "baseCatalogName": null,
                                    "baseColumnName": null,
                                    "baseSchemaName": null,
                                    "baseServerName": null,
                                    "baseTableName": null,
                                    "columnName": "ColorID",
                                    "columnOrdinal": 0,
                                    "columnSize": 4,
                                    "isAliased": null,
                                    "isAutoIncrement": false,
                                    "isExpression": null,
                                    "isHidden": null,
                                    "isIdentity": false,
                                    "isKey": null,
                                    "isLong": false,
                                    "isReadOnly": false,
                                    "isUnique": false,
                                    "numericPrecision": 10,
                                    "numericScale": 255,
                                    "udtAssemblyQualifiedName": null,
                                    "dataType": "System.Int32, System.Private.CoreLib, Version=4.0.0.0, Culture=neutral, PublicKeyToken=7cec85d7bea7798e",
                                    "dataTypeName": "int"
                                },
                                {
                                    "isBytes": false,
                                    "isChars": true,
                                    "isSqlVariant": false,
                                    "isUdt": false,
                                    "isXml": false,
                                    "isJson": false,
                                    "sqlDbType": 12,
                                    "isHierarchyId": false,
                                    "isSqlXmlType": false,
                                    "isUnknownType": false,
                                    "isUpdatable": true,
                                    "allowDBNull": false,
                                    "baseCatalogName": null,
                                    "baseColumnName": null,
                                    "baseSchemaName": null,
                                    "baseServerName": null,
                                    "baseTableName": null,
                                    "columnName": "ColorName",
                                    "columnOrdinal": 1,
                                    "columnSize": 20,
                                    "isAliased": null,
                                    "isAutoIncrement": false,
                                    "isExpression": null,
                                    "isHidden": null,
                                    "isIdentity": false,
                                    "isKey": null,
                                    "isLong": false,
                                    "isReadOnly": false,
                                    "isUnique": false,
                                    "numericPrecision": 255,
                                    "numericScale": 255,
                                    "udtAssemblyQualifiedName": null,
                                    "dataType": "System.String, System.Private.CoreLib, Version=4.0.0.0, Culture=neutral, PublicKeyToken=7cec85d7bea7798e",
                                    "dataTypeName": "nvarchar"
                                }
                            ],
                            "specialAction": {
                                "none": true,
                                "expectYukonXMLShowPlan": false
                            }
                        }
                    }
                }
            ],
            "execution_count": 38
        },
        {
            "cell_type": "markdown",
            "source": [
                "### Working with NULL\r\n",
                "\r\n",
                "\r\n",
                "NULL is a keyword in SQL that represents the absence of a value. When working with null, there are some things to keep in mind:\r\n",
                "\r\n",
                "- We can filter NULL values in our WHERE clause.\r\n",
                "    - If we want to see only null values, we use IS NULL.\r\n",
                "    - If we want to see only values and exclude the NULL values, we use IS NOT NULL.\r\n",
                "- When there is a NULL value, you may want to use a default value in your query. We can use CASE to check a condition and assign a different value.\r\n",
                "\r\n",
                "When we look at the columns on Sales.Customers, you can see if there are columns that allow NULL by the presence of \"null\" in the description. If the columns do not allow NULL values, you will see \"not null\" in the column description. For our NULL examples, we will be working with the CreditLimit field.\r\n",
                "\r\n",
                "Since we may be returning a lot of records, let's look at the first 5 records. We can use this with the TOP keyword as part of the SELECT clause. First, let's look at those who have NULL credit limits. We will use IS NULL in our WHERE clause."
            ],
            "metadata": {
                "azdata_cell_guid": "3bd0f793-40cb-4ac1-9339-1dfc7a8e219f"
            }
        },
        {
            "cell_type": "code",
            "source": [
                "SELECT TOP 5 CustomerName, CreditLimit FROM Sales.Customers WHERE CreditLimit IS NULL"
            ],
            "metadata": {
                "azdata_cell_guid": "ae55eefc-17f0-46d1-a02b-a3f202c8b086"
            },
            "outputs": [],
            "execution_count": null
        },
        {
            "cell_type": "markdown",
            "source": [
                "Now let's look at the top 3 records where a CreditLimit is set. We want records where the credit limit is not null, so we will use IS NOT NULL in the WHERE clause."
            ],
            "metadata": {
                "azdata_cell_guid": "dd8da855-d2dd-46e1-98ff-cc0d562e5383"
            }
        },
        {
            "cell_type": "code",
            "source": [
                "SELECT TOP 3 CustomerName, CreditLimit FROM Sales.Customers WHERE CreditLimit IS NOT NULL"
            ],
            "metadata": {
                "azdata_cell_guid": "9e90f22a-c163-4f24-b5e4-ee42af577b64"
            },
            "outputs": [],
            "execution_count": null
        },
        {
            "cell_type": "markdown",
            "source": [
                "### CASE statement\r\n",
                "\r\n",
                "Suppose we want to show customers with their credit limits, and for those who have no limit, we want to show 9999999999. We can achieve this with the CASE statement in our SELECT clause.\r\n",
                "\r\n",
                "The CASE statement allows us to use conditional logic to set a value.\r\n",
                "\r\n",
                "We are only grabbing the first 3 records to keep our data small."
            ],
            "metadata": {
                "azdata_cell_guid": "75639f18-ebb2-462e-9dbb-a87b29c3b636"
            }
        },
        {
            "cell_type": "code",
            "source": [
                "SELECT TOP 3 CustomerName, \r\n",
                "CASE\r\n",
                "    WHEN CreditLimit IS NULL THEN 9999999999\r\n",
                "    ELSE CreditLimit\r\n",
                "END \r\n",
                "FROM Sales.Customers"
            ],
            "metadata": {
                "azdata_cell_guid": "0498fab4-d93f-481a-b8e0-983ee8c07550"
            },
            "outputs": [],
            "execution_count": null
        },
        {
            "cell_type": "markdown",
            "source": [
                "Notice that the CASE statement comes back without a column name. It is common practice to use an alias when working with CASE statements. Aliases for CASE statements are similar to what we saw with the EOMONTH() examples earlier in this lesson. We use the AS keyword to set the alias for the CASE results."
            ],
            "metadata": {
                "azdata_cell_guid": "3a67f81e-c82e-493e-9df3-5a038e0e16b0"
            }
        },
        {
            "cell_type": "code",
            "source": [
                "SELECT TOP 3 CustomerName, \r\n",
                "CASE\r\n",
                "    WHEN CreditLimit IS NULL THEN 9999999999\r\n",
                "    ELSE CreditLimit\r\n",
                "END AS CreditLimit \r\n",
                "FROM Sales.Customers"
            ],
            "metadata": {
                "azdata_cell_guid": "d7aa3df4-b10b-428d-bb2f-176f4934cbdd"
            },
            "outputs": [],
            "execution_count": null
        },
        {
            "cell_type": "markdown",
            "source": [
                "### CONVERT and CAST\r\n",
                "\r\n",
                "With our example, it may make more sense to show 'No Limit' when the CreditLimit field is null. However, we cannot simply say:\r\n",
                "\r\n",
                "```\r\n",
                "SELECT TOP 3 CustomerName, \r\n",
                "CASE\r\n",
                "   WHEN CreditLimit IS NULL THEN 'No Limit'\r\n",
                "   ELSE CreditLimit\r\n",
                "END AS CreditLimit \r\n",
                "FROM Sales.Customers\r\n",
                "```\r\n",
                "\r\n",
                "Remember that the CreditLimit is a numeric value, whereas 'No Limit' is a string. This is what is known as a type mismatch - column values need to have the same type throughout and cannot mix types.\r\n",
                "\r\n",
                "CAST and CONVERT can be used to change the credit limit to a string. Before we use them let's understand why there are two keywords involved:\r\n",
                "\r\n",
                "- CAST is ANSI SQL specific, whereas CONVERT is specific to SQL Server.\r\n",
                "    \r\n",
                "- CAST uses the AS keyword not as a column alias but as a type assignment operator, assigning a type to the value.\r\n",
                "    \r\n",
                "- CONVERT can be used for formatting, especially with date time values.\r\n",
                "    \r\n",
                "    We can convert values from numeric to string using the CAST or CONVERT keywords. Let's look at how we use these"
            ],
            "metadata": {
                "azdata_cell_guid": "6e636b84-d397-4c94-9863-3e41dc82bed3"
            }
        },
        {
            "cell_type": "code",
            "source": [
                "SELECT TOP 3 CustomerName, \r\n",
                "CASE\r\n",
                "   WHEN CreditLimit IS NULL THEN 'No Limit'\r\n",
                "   ELSE CAST(CreditLimit AS varchar(20))\r\n",
                "END AS CreditLimit \r\n",
                "FROM Sales.Customers"
            ],
            "metadata": {
                "azdata_cell_guid": "b023d453-14f5-44bb-a5b2-3aeee6ecc2c0"
            },
            "outputs": [
                {
                    "output_type": "display_data",
                    "data": {
                        "text/html": "(3 rows affected)"
                    },
                    "metadata": {}
                },
                {
                    "output_type": "display_data",
                    "data": {
                        "text/html": "Total execution time: 00:00:00.051"
                    },
                    "metadata": {}
                },
                {
                    "output_type": "execute_result",
                    "metadata": {
                        "resultSet": {
                            "id": 0,
                            "batchId": 0,
                            "rowCount": 3,
                            "complete": false,
                            "columnInfo": [
                                {
                                    "isBytes": false,
                                    "isChars": true,
                                    "isSqlVariant": false,
                                    "isUdt": false,
                                    "isXml": false,
                                    "isJson": false,
                                    "sqlDbType": 12,
                                    "isHierarchyId": false,
                                    "isSqlXmlType": false,
                                    "isUnknownType": false,
                                    "isUpdatable": true,
                                    "allowDBNull": false,
                                    "baseCatalogName": null,
                                    "baseColumnName": null,
                                    "baseSchemaName": null,
                                    "baseServerName": null,
                                    "baseTableName": null,
                                    "columnName": "CustomerName",
                                    "columnOrdinal": 0,
                                    "columnSize": 100,
                                    "isAliased": null,
                                    "isAutoIncrement": false,
                                    "isExpression": null,
                                    "isHidden": null,
                                    "isIdentity": false,
                                    "isKey": null,
                                    "isLong": false,
                                    "isReadOnly": false,
                                    "isUnique": false,
                                    "numericPrecision": 255,
                                    "numericScale": 255,
                                    "udtAssemblyQualifiedName": null,
                                    "dataType": "System.String, System.Private.CoreLib, Version=4.0.0.0, Culture=neutral, PublicKeyToken=7cec85d7bea7798e",
                                    "dataTypeName": "nvarchar"
                                },
                                {
                                    "isBytes": false,
                                    "isChars": true,
                                    "isSqlVariant": false,
                                    "isUdt": false,
                                    "isXml": false,
                                    "isJson": false,
                                    "sqlDbType": 22,
                                    "isHierarchyId": false,
                                    "isSqlXmlType": false,
                                    "isUnknownType": false,
                                    "isUpdatable": false,
                                    "allowDBNull": true,
                                    "baseCatalogName": null,
                                    "baseColumnName": null,
                                    "baseSchemaName": null,
                                    "baseServerName": null,
                                    "baseTableName": null,
                                    "columnName": "CreditLimit",
                                    "columnOrdinal": 1,
                                    "columnSize": 20,
                                    "isAliased": null,
                                    "isAutoIncrement": false,
                                    "isExpression": null,
                                    "isHidden": null,
                                    "isIdentity": false,
                                    "isKey": null,
                                    "isLong": false,
                                    "isReadOnly": true,
                                    "isUnique": false,
                                    "numericPrecision": 255,
                                    "numericScale": 255,
                                    "udtAssemblyQualifiedName": null,
                                    "dataType": "System.String, System.Private.CoreLib, Version=4.0.0.0, Culture=neutral, PublicKeyToken=7cec85d7bea7798e",
                                    "dataTypeName": "varchar"
                                }
                            ],
                            "specialAction": null
                        }
                    },
                    "execution_count": 3,
                    "data": {
                        "application/vnd.dataresource+json": {
                            "schema": {
                                "fields": [
                                    {
                                        "name": "CustomerName"
                                    },
                                    {
                                        "name": "CreditLimit"
                                    }
                                ]
                            },
                            "data": [
                                {
                                    "0": "Tailspin Toys (Head Office)",
                                    "1": "No Limit"
                                },
                                {
                                    "0": "Tailspin Toys (Sylvanite, MT)",
                                    "1": "No Limit"
                                },
                                {
                                    "0": "Tailspin Toys (Peeples Valley, AZ)",
                                    "1": "No Limit"
                                }
                            ]
                        },
                        "text/html": [
                            "<table>",
                            "<tr><th>CustomerName</th><th>CreditLimit</th></tr>",
                            "<tr><td>Tailspin Toys (Head Office)</td><td>No Limit</td></tr>",
                            "<tr><td>Tailspin Toys (Sylvanite, MT)</td><td>No Limit</td></tr>",
                            "<tr><td>Tailspin Toys (Peeples Valley, AZ)</td><td>No Limit</td></tr>",
                            "</table>"
                        ]
                    }
                }
            ],
            "execution_count": 3
        },
        {
            "cell_type": "code",
            "source": [
                "SELECT TOP 3 CustomerName, \r\n",
                "CASE\r\n",
                "   WHEN CreditLimit IS NULL THEN 'No Limit'\r\n",
                "   ELSE CONVERT(varchar(20),CreditLimit)\r\n",
                "END AS CreditLimit \r\n",
                "FROM Sales.Customers"
            ],
            "metadata": {
                "azdata_cell_guid": "bc84af7c-eba3-4b65-94ce-ba0aa098bd40"
            },
            "outputs": [
                {
                    "output_type": "display_data",
                    "data": {
                        "text/html": "(3 rows affected)"
                    },
                    "metadata": {}
                },
                {
                    "output_type": "display_data",
                    "data": {
                        "text/html": "Total execution time: 00:00:00.009"
                    },
                    "metadata": {}
                },
                {
                    "output_type": "execute_result",
                    "metadata": {
                        "resultSet": {
                            "id": 0,
                            "batchId": 0,
                            "rowCount": 3,
                            "complete": true,
                            "columnInfo": [
                                {
                                    "isBytes": false,
                                    "isChars": true,
                                    "isSqlVariant": false,
                                    "isUdt": false,
                                    "isXml": false,
                                    "isJson": false,
                                    "sqlDbType": 12,
                                    "isHierarchyId": false,
                                    "isSqlXmlType": false,
                                    "isUnknownType": false,
                                    "isUpdatable": true,
                                    "allowDBNull": false,
                                    "baseCatalogName": null,
                                    "baseColumnName": null,
                                    "baseSchemaName": null,
                                    "baseServerName": null,
                                    "baseTableName": null,
                                    "columnName": "CustomerName",
                                    "columnOrdinal": 0,
                                    "columnSize": 100,
                                    "isAliased": null,
                                    "isAutoIncrement": false,
                                    "isExpression": null,
                                    "isHidden": null,
                                    "isIdentity": false,
                                    "isKey": null,
                                    "isLong": false,
                                    "isReadOnly": false,
                                    "isUnique": false,
                                    "numericPrecision": 255,
                                    "numericScale": 255,
                                    "udtAssemblyQualifiedName": null,
                                    "dataType": "System.String, System.Private.CoreLib, Version=4.0.0.0, Culture=neutral, PublicKeyToken=7cec85d7bea7798e",
                                    "dataTypeName": "nvarchar"
                                },
                                {
                                    "isBytes": false,
                                    "isChars": true,
                                    "isSqlVariant": false,
                                    "isUdt": false,
                                    "isXml": false,
                                    "isJson": false,
                                    "sqlDbType": 22,
                                    "isHierarchyId": false,
                                    "isSqlXmlType": false,
                                    "isUnknownType": false,
                                    "isUpdatable": false,
                                    "allowDBNull": true,
                                    "baseCatalogName": null,
                                    "baseColumnName": null,
                                    "baseSchemaName": null,
                                    "baseServerName": null,
                                    "baseTableName": null,
                                    "columnName": "CreditLimit",
                                    "columnOrdinal": 1,
                                    "columnSize": 20,
                                    "isAliased": null,
                                    "isAutoIncrement": false,
                                    "isExpression": null,
                                    "isHidden": null,
                                    "isIdentity": false,
                                    "isKey": null,
                                    "isLong": false,
                                    "isReadOnly": true,
                                    "isUnique": false,
                                    "numericPrecision": 255,
                                    "numericScale": 255,
                                    "udtAssemblyQualifiedName": null,
                                    "dataType": "System.String, System.Private.CoreLib, Version=4.0.0.0, Culture=neutral, PublicKeyToken=7cec85d7bea7798e",
                                    "dataTypeName": "varchar"
                                }
                            ],
                            "specialAction": {
                                "none": true,
                                "expectYukonXMLShowPlan": false
                            }
                        }
                    },
                    "execution_count": 4,
                    "data": {
                        "application/vnd.dataresource+json": {
                            "schema": {
                                "fields": [
                                    {
                                        "name": "CustomerName"
                                    },
                                    {
                                        "name": "CreditLimit"
                                    }
                                ]
                            },
                            "data": [
                                {
                                    "0": "Tailspin Toys (Head Office)",
                                    "1": "No Limit"
                                },
                                {
                                    "0": "Tailspin Toys (Sylvanite, MT)",
                                    "1": "No Limit"
                                },
                                {
                                    "0": "Tailspin Toys (Peeples Valley, AZ)",
                                    "1": "No Limit"
                                }
                            ]
                        },
                        "text/html": [
                            "<table>",
                            "<tr><th>CustomerName</th><th>CreditLimit</th></tr>",
                            "<tr><td>Tailspin Toys (Head Office)</td><td>No Limit</td></tr>",
                            "<tr><td>Tailspin Toys (Sylvanite, MT)</td><td>No Limit</td></tr>",
                            "<tr><td>Tailspin Toys (Peeples Valley, AZ)</td><td>No Limit</td></tr>",
                            "</table>"
                        ]
                    }
                }
            ],
            "execution_count": 4
        },
        {
            "cell_type": "markdown",
            "source": [
                "Since our query results do not show a good mix of those with limits and those with no limits, let's use a WHERE clause to include those we know who have limits and those we know that do not.\n",
                "\n",
                "- For the names we know have limits, we can use the IN keyword to limit them.\n",
                "- For those who have no limits - such as Tailspin Toys - we can use the LIKE keyword to filter the customer name.\n",
                "- We can use the OR keyword to join those clauses. We will explain the OR keyword after we run this query.\n",
                "- To ensure we get more than just the Tailspin Toys entries, we can use an ORDER BY clause with the field name we want to order by - in this case, CustomerName.  Since we are not specifying what order to use, the CustomerName will sort alphabetically, A-to-Z."
            ],
            "metadata": {
                "azdata_cell_guid": "c10d34c3-f054-4ad1-9ee2-cdd1544b382b"
            }
        },
        {
            "cell_type": "code",
            "source": [
                "SELECT TOP 5 CustomerName, CASE\r\n",
                "    WHEN CreditLimit IS NULL THEN 'No Limit'\r\n",
                "    ELSE CAST(CreditLimit AS varchar(20))\r\n",
                "END AS CreditLimit\r\n",
                "FROM Sales.Customers\r\n",
                "WHERE CustomerName IN ('Eric Torres', 'Cosmina Vlad', 'Bala Dixit') OR CustomerName LIKE 'Tailspin%'\r\n",
                "ORDER BY CustomerName"
            ],
            "metadata": {
                "azdata_cell_guid": "6e911bed-fe03-4362-a0f5-ad2978eef06a"
            },
            "outputs": [
                {
                    "output_type": "display_data",
                    "data": {
                        "text/html": "(5 rows affected)"
                    },
                    "metadata": {}
                },
                {
                    "output_type": "display_data",
                    "data": {
                        "text/html": "Total execution time: 00:00:00.026"
                    },
                    "metadata": {}
                },
                {
                    "output_type": "execute_result",
                    "metadata": {
                        "resultSet": {
                            "id": 0,
                            "batchId": 0,
                            "rowCount": 5,
                            "complete": true,
                            "columnInfo": [
                                {
                                    "isBytes": false,
                                    "isChars": true,
                                    "isSqlVariant": false,
                                    "isUdt": false,
                                    "isXml": false,
                                    "isJson": false,
                                    "sqlDbType": 12,
                                    "isHierarchyId": false,
                                    "isSqlXmlType": false,
                                    "isUnknownType": false,
                                    "isUpdatable": true,
                                    "allowDBNull": false,
                                    "baseCatalogName": null,
                                    "baseColumnName": null,
                                    "baseSchemaName": null,
                                    "baseServerName": null,
                                    "baseTableName": null,
                                    "columnName": "CustomerName",
                                    "columnOrdinal": 0,
                                    "columnSize": 100,
                                    "isAliased": null,
                                    "isAutoIncrement": false,
                                    "isExpression": null,
                                    "isHidden": null,
                                    "isIdentity": false,
                                    "isKey": null,
                                    "isLong": false,
                                    "isReadOnly": false,
                                    "isUnique": false,
                                    "numericPrecision": 255,
                                    "numericScale": 255,
                                    "udtAssemblyQualifiedName": null,
                                    "dataType": "System.String, System.Private.CoreLib, Version=4.0.0.0, Culture=neutral, PublicKeyToken=7cec85d7bea7798e",
                                    "dataTypeName": "nvarchar"
                                },
                                {
                                    "isBytes": false,
                                    "isChars": true,
                                    "isSqlVariant": false,
                                    "isUdt": false,
                                    "isXml": false,
                                    "isJson": false,
                                    "sqlDbType": 22,
                                    "isHierarchyId": false,
                                    "isSqlXmlType": false,
                                    "isUnknownType": false,
                                    "isUpdatable": false,
                                    "allowDBNull": true,
                                    "baseCatalogName": null,
                                    "baseColumnName": null,
                                    "baseSchemaName": null,
                                    "baseServerName": null,
                                    "baseTableName": null,
                                    "columnName": "CreditLimit",
                                    "columnOrdinal": 1,
                                    "columnSize": 20,
                                    "isAliased": null,
                                    "isAutoIncrement": false,
                                    "isExpression": null,
                                    "isHidden": null,
                                    "isIdentity": false,
                                    "isKey": null,
                                    "isLong": false,
                                    "isReadOnly": true,
                                    "isUnique": false,
                                    "numericPrecision": 255,
                                    "numericScale": 255,
                                    "udtAssemblyQualifiedName": null,
                                    "dataType": "System.String, System.Private.CoreLib, Version=4.0.0.0, Culture=neutral, PublicKeyToken=7cec85d7bea7798e",
                                    "dataTypeName": "varchar"
                                }
                            ],
                            "specialAction": {
                                "none": true,
                                "expectYukonXMLShowPlan": false
                            }
                        }
                    },
                    "execution_count": 6,
                    "data": {
                        "application/vnd.dataresource+json": {
                            "schema": {
                                "fields": [
                                    {
                                        "name": "CustomerName"
                                    },
                                    {
                                        "name": "CreditLimit"
                                    }
                                ]
                            },
                            "data": [
                                {
                                    "0": "Bala Dixit",
                                    "1": "2000.00"
                                },
                                {
                                    "0": "Cosmina Vlad",
                                    "1": "2940.00"
                                },
                                {
                                    "0": "Eric Torres",
                                    "1": "3000.00"
                                },
                                {
                                    "0": "Tailspin Toys (Absecon, NJ)",
                                    "1": "No Limit"
                                },
                                {
                                    "0": "Tailspin Toys (Aceitunas, PR)",
                                    "1": "No Limit"
                                }
                            ]
                        },
                        "text/html": [
                            "<table>",
                            "<tr><th>CustomerName</th><th>CreditLimit</th></tr>",
                            "<tr><td>Bala Dixit</td><td>2000.00</td></tr>",
                            "<tr><td>Cosmina Vlad</td><td>2940.00</td></tr>",
                            "<tr><td>Eric Torres</td><td>3000.00</td></tr>",
                            "<tr><td>Tailspin Toys (Absecon, NJ)</td><td>No Limit</td></tr>",
                            "<tr><td>Tailspin Toys (Aceitunas, PR)</td><td>No Limit</td></tr>",
                            "</table>"
                        ]
                    }
                }
            ],
            "execution_count": 6
        },
        {
            "cell_type": "markdown",
            "source": [
                "### OR keyword\r\n",
                "\r\n",
                "The OR keyword is used between clauses when you want one condition or another condition to be met.  In the above example, we wanted customers with the name in the collection of names in the IN clause or customers with Tailspin at the start of their name based on the LIKE clause.  As long as the name meets one of those, it will appear in the results.\r\n",
                "\r\n",
                "Suppose our salesperson came to use wanting to see accounts that were opened in 2015 and 2016, newest account to oldest. An account opened date only has one year. We can find accounts that were opened in 2015 OR were open in 2016. The query for this is:"
            ],
            "metadata": {
                "azdata_cell_guid": "eda23d21-d962-4d68-8879-7894a5654a8b"
            }
        },
        {
            "cell_type": "code",
            "source": [
                "SELECT CustomerName, AccountOpenedDate FROM Sales.Customers WHERE YEAR(AccountOpenedDate) = 2015 OR YEAR(AccountOpenedDate) = 2016 ORDER BY AccountOpenedDate DESC"
            ],
            "metadata": {
                "azdata_cell_guid": "0f90251f-ae50-45cd-8851-96745d0b0097"
            },
            "outputs": [],
            "execution_count": null
        },
        {
            "cell_type": "markdown",
            "source": [
                "### LIKE keyword\n",
                "\n",
                "Let's go back to strings, specifically Blue. There are various shades of blue with blue in their name. We can use the LIKE operator with its<code>%</code>wildcard to search text . Suppose we want to find all ColorNames that start with Blue. The query looks like this:"
            ],
            "metadata": {
                "azdata_cell_guid": "6f56b934-8c84-4710-a9bb-6a1033204baa"
            }
        },
        {
            "cell_type": "code",
            "source": [
                "SELECT * FROM Warehouse.Colors WHERE ColorName LIKE 'Blue%'"
            ],
            "metadata": {
                "azdata_cell_guid": "b2db43cd-34e4-4660-8daa-3cd7e3fc1ea5"
            },
            "outputs": [
                {
                    "output_type": "display_data",
                    "data": {
                        "text/html": "(1 row affected)"
                    },
                    "metadata": {}
                },
                {
                    "output_type": "display_data",
                    "data": {
                        "text/html": "Total execution time: 00:00:00.034"
                    },
                    "metadata": {}
                },
                {
                    "output_type": "execute_result",
                    "execution_count": 35,
                    "data": {
                        "application/vnd.dataresource+json": {
                            "schema": {
                                "fields": [
                                    {
                                        "name": "ColorID"
                                    },
                                    {
                                        "name": "ColorName"
                                    },
                                    {
                                        "name": "LastEditedBy"
                                    },
                                    {
                                        "name": "ValidFrom"
                                    },
                                    {
                                        "name": "ValidTo"
                                    }
                                ]
                            },
                            "data": [
                                {
                                    "0": "4",
                                    "1": "Blue",
                                    "2": "1",
                                    "3": "2013-01-01 00:00:00.0000000",
                                    "4": "9999-12-31 23:59:59.9999999"
                                }
                            ]
                        },
                        "text/html": "<table><tr><th>ColorID</th><th>ColorName</th><th>LastEditedBy</th><th>ValidFrom</th><th>ValidTo</th></tr><tr><td>4</td><td>Blue</td><td>1</td><td>2013-01-01 00:00:00.0000000</td><td>9999-12-31 23:59:59.9999999</td></tr></table>"
                    },
                    "metadata": {
                        "resultSet": {
                            "id": 0,
                            "batchId": 0,
                            "rowCount": 1,
                            "complete": false,
                            "columnInfo": [
                                {
                                    "isBytes": false,
                                    "isChars": false,
                                    "isSqlVariant": false,
                                    "isUdt": false,
                                    "isXml": false,
                                    "isJson": false,
                                    "sqlDbType": 8,
                                    "isHierarchyId": false,
                                    "isSqlXmlType": false,
                                    "isUnknownType": false,
                                    "isUpdatable": true,
                                    "allowDBNull": false,
                                    "baseCatalogName": null,
                                    "baseColumnName": null,
                                    "baseSchemaName": null,
                                    "baseServerName": null,
                                    "baseTableName": null,
                                    "columnName": "ColorID",
                                    "columnOrdinal": 0,
                                    "columnSize": 4,
                                    "isAliased": null,
                                    "isAutoIncrement": false,
                                    "isExpression": null,
                                    "isHidden": null,
                                    "isIdentity": false,
                                    "isKey": null,
                                    "isLong": false,
                                    "isReadOnly": false,
                                    "isUnique": false,
                                    "numericPrecision": 10,
                                    "numericScale": 255,
                                    "udtAssemblyQualifiedName": null,
                                    "dataType": "System.Int32, System.Private.CoreLib, Version=4.0.0.0, Culture=neutral, PublicKeyToken=7cec85d7bea7798e",
                                    "dataTypeName": "int"
                                },
                                {
                                    "isBytes": false,
                                    "isChars": true,
                                    "isSqlVariant": false,
                                    "isUdt": false,
                                    "isXml": false,
                                    "isJson": false,
                                    "sqlDbType": 12,
                                    "isHierarchyId": false,
                                    "isSqlXmlType": false,
                                    "isUnknownType": false,
                                    "isUpdatable": true,
                                    "allowDBNull": false,
                                    "baseCatalogName": null,
                                    "baseColumnName": null,
                                    "baseSchemaName": null,
                                    "baseServerName": null,
                                    "baseTableName": null,
                                    "columnName": "ColorName",
                                    "columnOrdinal": 1,
                                    "columnSize": 20,
                                    "isAliased": null,
                                    "isAutoIncrement": false,
                                    "isExpression": null,
                                    "isHidden": null,
                                    "isIdentity": false,
                                    "isKey": null,
                                    "isLong": false,
                                    "isReadOnly": false,
                                    "isUnique": false,
                                    "numericPrecision": 255,
                                    "numericScale": 255,
                                    "udtAssemblyQualifiedName": null,
                                    "dataType": "System.String, System.Private.CoreLib, Version=4.0.0.0, Culture=neutral, PublicKeyToken=7cec85d7bea7798e",
                                    "dataTypeName": "nvarchar"
                                },
                                {
                                    "isBytes": false,
                                    "isChars": false,
                                    "isSqlVariant": false,
                                    "isUdt": false,
                                    "isXml": false,
                                    "isJson": false,
                                    "sqlDbType": 8,
                                    "isHierarchyId": false,
                                    "isSqlXmlType": false,
                                    "isUnknownType": false,
                                    "isUpdatable": true,
                                    "allowDBNull": false,
                                    "baseCatalogName": null,
                                    "baseColumnName": null,
                                    "baseSchemaName": null,
                                    "baseServerName": null,
                                    "baseTableName": null,
                                    "columnName": "LastEditedBy",
                                    "columnOrdinal": 2,
                                    "columnSize": 4,
                                    "isAliased": null,
                                    "isAutoIncrement": false,
                                    "isExpression": null,
                                    "isHidden": null,
                                    "isIdentity": false,
                                    "isKey": null,
                                    "isLong": false,
                                    "isReadOnly": false,
                                    "isUnique": false,
                                    "numericPrecision": 10,
                                    "numericScale": 255,
                                    "udtAssemblyQualifiedName": null,
                                    "dataType": "System.Int32, System.Private.CoreLib, Version=4.0.0.0, Culture=neutral, PublicKeyToken=7cec85d7bea7798e",
                                    "dataTypeName": "int"
                                },
                                {
                                    "isBytes": false,
                                    "isChars": false,
                                    "isSqlVariant": false,
                                    "isUdt": false,
                                    "isXml": false,
                                    "isJson": false,
                                    "sqlDbType": 33,
                                    "isHierarchyId": false,
                                    "isSqlXmlType": false,
                                    "isUnknownType": false,
                                    "isUpdatable": false,
                                    "allowDBNull": false,
                                    "baseCatalogName": null,
                                    "baseColumnName": null,
                                    "baseSchemaName": null,
                                    "baseServerName": null,
                                    "baseTableName": null,
                                    "columnName": "ValidFrom",
                                    "columnOrdinal": 3,
                                    "columnSize": 8,
                                    "isAliased": null,
                                    "isAutoIncrement": false,
                                    "isExpression": null,
                                    "isHidden": null,
                                    "isIdentity": false,
                                    "isKey": null,
                                    "isLong": false,
                                    "isReadOnly": true,
                                    "isUnique": false,
                                    "numericPrecision": 255,
                                    "numericScale": 7,
                                    "udtAssemblyQualifiedName": null,
                                    "dataType": "System.DateTime, System.Private.CoreLib, Version=4.0.0.0, Culture=neutral, PublicKeyToken=7cec85d7bea7798e",
                                    "dataTypeName": "datetime2"
                                },
                                {
                                    "isBytes": false,
                                    "isChars": false,
                                    "isSqlVariant": false,
                                    "isUdt": false,
                                    "isXml": false,
                                    "isJson": false,
                                    "sqlDbType": 33,
                                    "isHierarchyId": false,
                                    "isSqlXmlType": false,
                                    "isUnknownType": false,
                                    "isUpdatable": false,
                                    "allowDBNull": false,
                                    "baseCatalogName": null,
                                    "baseColumnName": null,
                                    "baseSchemaName": null,
                                    "baseServerName": null,
                                    "baseTableName": null,
                                    "columnName": "ValidTo",
                                    "columnOrdinal": 4,
                                    "columnSize": 8,
                                    "isAliased": null,
                                    "isAutoIncrement": false,
                                    "isExpression": null,
                                    "isHidden": null,
                                    "isIdentity": false,
                                    "isKey": null,
                                    "isLong": false,
                                    "isReadOnly": true,
                                    "isUnique": false,
                                    "numericPrecision": 255,
                                    "numericScale": 7,
                                    "udtAssemblyQualifiedName": null,
                                    "dataType": "System.DateTime, System.Private.CoreLib, Version=4.0.0.0, Culture=neutral, PublicKeyToken=7cec85d7bea7798e",
                                    "dataTypeName": "datetime2"
                                }
                            ],
                            "specialAction": null
                        }
                    }
                }
            ],
            "execution_count": 35
        },
        {
            "cell_type": "markdown",
            "source": [
                "There is one color name that starts with Blue. Suppose we want to see all ColorNames that end with Blue. That query looks like this:"
            ],
            "metadata": {
                "azdata_cell_guid": "dfb35e54-9f35-4fe0-bdb8-836ad62fa553"
            }
        },
        {
            "cell_type": "code",
            "source": [
                "SELECT * FROM Warehouse.Colors WHERE ColorName LIKE '%Blue'"
            ],
            "metadata": {
                "azdata_cell_guid": "414bcce7-8cbc-4d68-b28a-070e500a7a20"
            },
            "outputs": [
                {
                    "output_type": "display_data",
                    "data": {
                        "text/html": "(3 rows affected)"
                    },
                    "metadata": {}
                },
                {
                    "output_type": "display_data",
                    "data": {
                        "text/html": "Total execution time: 00:00:00.008"
                    },
                    "metadata": {}
                },
                {
                    "output_type": "execute_result",
                    "execution_count": 18,
                    "data": {
                        "application/vnd.dataresource+json": {
                            "schema": {
                                "fields": [
                                    {
                                        "name": "ColorID"
                                    },
                                    {
                                        "name": "ColorName"
                                    },
                                    {
                                        "name": "LastEditedBy"
                                    },
                                    {
                                        "name": "ValidFrom"
                                    },
                                    {
                                        "name": "ValidTo"
                                    }
                                ]
                            },
                            "data": [
                                {
                                    "0": "4",
                                    "1": "Blue",
                                    "2": "1",
                                    "3": "2013-01-01 00:00:00.0000000",
                                    "4": "9999-12-31 23:59:59.9999999"
                                },
                                {
                                    "0": "22",
                                    "1": "Navy Blue",
                                    "2": "1",
                                    "3": "2013-01-01 00:00:00.0000000",
                                    "4": "9999-12-31 23:59:59.9999999"
                                },
                                {
                                    "0": "29",
                                    "1": "Royal Blue",
                                    "2": "1",
                                    "3": "2013-01-01 00:00:00.0000000",
                                    "4": "9999-12-31 23:59:59.9999999"
                                }
                            ]
                        },
                        "text/html": "<table><tr><th>ColorID</th><th>ColorName</th><th>LastEditedBy</th><th>ValidFrom</th><th>ValidTo</th></tr><tr><td>4</td><td>Blue</td><td>1</td><td>2013-01-01 00:00:00.0000000</td><td>9999-12-31 23:59:59.9999999</td></tr><tr><td>22</td><td>Navy Blue</td><td>1</td><td>2013-01-01 00:00:00.0000000</td><td>9999-12-31 23:59:59.9999999</td></tr><tr><td>29</td><td>Royal Blue</td><td>1</td><td>2013-01-01 00:00:00.0000000</td><td>9999-12-31 23:59:59.9999999</td></tr></table>"
                    },
                    "metadata": {
                        "resultSet": {
                            "id": 0,
                            "batchId": 0,
                            "rowCount": 3,
                            "complete": true,
                            "columnInfo": [
                                {
                                    "isBytes": false,
                                    "isChars": false,
                                    "isSqlVariant": false,
                                    "isUdt": false,
                                    "isXml": false,
                                    "isJson": false,
                                    "sqlDbType": 8,
                                    "isHierarchyId": false,
                                    "isSqlXmlType": false,
                                    "isUnknownType": false,
                                    "isUpdatable": true,
                                    "allowDBNull": false,
                                    "baseCatalogName": null,
                                    "baseColumnName": null,
                                    "baseSchemaName": null,
                                    "baseServerName": null,
                                    "baseTableName": null,
                                    "columnName": "ColorID",
                                    "columnOrdinal": 0,
                                    "columnSize": 4,
                                    "isAliased": null,
                                    "isAutoIncrement": false,
                                    "isExpression": null,
                                    "isHidden": null,
                                    "isIdentity": false,
                                    "isKey": null,
                                    "isLong": false,
                                    "isReadOnly": false,
                                    "isUnique": false,
                                    "numericPrecision": 10,
                                    "numericScale": 255,
                                    "udtAssemblyQualifiedName": null,
                                    "dataType": "System.Int32, System.Private.CoreLib, Version=4.0.0.0, Culture=neutral, PublicKeyToken=7cec85d7bea7798e",
                                    "dataTypeName": "int"
                                },
                                {
                                    "isBytes": false,
                                    "isChars": true,
                                    "isSqlVariant": false,
                                    "isUdt": false,
                                    "isXml": false,
                                    "isJson": false,
                                    "sqlDbType": 12,
                                    "isHierarchyId": false,
                                    "isSqlXmlType": false,
                                    "isUnknownType": false,
                                    "isUpdatable": true,
                                    "allowDBNull": false,
                                    "baseCatalogName": null,
                                    "baseColumnName": null,
                                    "baseSchemaName": null,
                                    "baseServerName": null,
                                    "baseTableName": null,
                                    "columnName": "ColorName",
                                    "columnOrdinal": 1,
                                    "columnSize": 20,
                                    "isAliased": null,
                                    "isAutoIncrement": false,
                                    "isExpression": null,
                                    "isHidden": null,
                                    "isIdentity": false,
                                    "isKey": null,
                                    "isLong": false,
                                    "isReadOnly": false,
                                    "isUnique": false,
                                    "numericPrecision": 255,
                                    "numericScale": 255,
                                    "udtAssemblyQualifiedName": null,
                                    "dataType": "System.String, System.Private.CoreLib, Version=4.0.0.0, Culture=neutral, PublicKeyToken=7cec85d7bea7798e",
                                    "dataTypeName": "nvarchar"
                                },
                                {
                                    "isBytes": false,
                                    "isChars": false,
                                    "isSqlVariant": false,
                                    "isUdt": false,
                                    "isXml": false,
                                    "isJson": false,
                                    "sqlDbType": 8,
                                    "isHierarchyId": false,
                                    "isSqlXmlType": false,
                                    "isUnknownType": false,
                                    "isUpdatable": true,
                                    "allowDBNull": false,
                                    "baseCatalogName": null,
                                    "baseColumnName": null,
                                    "baseSchemaName": null,
                                    "baseServerName": null,
                                    "baseTableName": null,
                                    "columnName": "LastEditedBy",
                                    "columnOrdinal": 2,
                                    "columnSize": 4,
                                    "isAliased": null,
                                    "isAutoIncrement": false,
                                    "isExpression": null,
                                    "isHidden": null,
                                    "isIdentity": false,
                                    "isKey": null,
                                    "isLong": false,
                                    "isReadOnly": false,
                                    "isUnique": false,
                                    "numericPrecision": 10,
                                    "numericScale": 255,
                                    "udtAssemblyQualifiedName": null,
                                    "dataType": "System.Int32, System.Private.CoreLib, Version=4.0.0.0, Culture=neutral, PublicKeyToken=7cec85d7bea7798e",
                                    "dataTypeName": "int"
                                },
                                {
                                    "isBytes": false,
                                    "isChars": false,
                                    "isSqlVariant": false,
                                    "isUdt": false,
                                    "isXml": false,
                                    "isJson": false,
                                    "sqlDbType": 33,
                                    "isHierarchyId": false,
                                    "isSqlXmlType": false,
                                    "isUnknownType": false,
                                    "isUpdatable": false,
                                    "allowDBNull": false,
                                    "baseCatalogName": null,
                                    "baseColumnName": null,
                                    "baseSchemaName": null,
                                    "baseServerName": null,
                                    "baseTableName": null,
                                    "columnName": "ValidFrom",
                                    "columnOrdinal": 3,
                                    "columnSize": 8,
                                    "isAliased": null,
                                    "isAutoIncrement": false,
                                    "isExpression": null,
                                    "isHidden": null,
                                    "isIdentity": false,
                                    "isKey": null,
                                    "isLong": false,
                                    "isReadOnly": true,
                                    "isUnique": false,
                                    "numericPrecision": 255,
                                    "numericScale": 7,
                                    "udtAssemblyQualifiedName": null,
                                    "dataType": "System.DateTime, System.Private.CoreLib, Version=4.0.0.0, Culture=neutral, PublicKeyToken=7cec85d7bea7798e",
                                    "dataTypeName": "datetime2"
                                },
                                {
                                    "isBytes": false,
                                    "isChars": false,
                                    "isSqlVariant": false,
                                    "isUdt": false,
                                    "isXml": false,
                                    "isJson": false,
                                    "sqlDbType": 33,
                                    "isHierarchyId": false,
                                    "isSqlXmlType": false,
                                    "isUnknownType": false,
                                    "isUpdatable": false,
                                    "allowDBNull": false,
                                    "baseCatalogName": null,
                                    "baseColumnName": null,
                                    "baseSchemaName": null,
                                    "baseServerName": null,
                                    "baseTableName": null,
                                    "columnName": "ValidTo",
                                    "columnOrdinal": 4,
                                    "columnSize": 8,
                                    "isAliased": null,
                                    "isAutoIncrement": false,
                                    "isExpression": null,
                                    "isHidden": null,
                                    "isIdentity": false,
                                    "isKey": null,
                                    "isLong": false,
                                    "isReadOnly": true,
                                    "isUnique": false,
                                    "numericPrecision": 255,
                                    "numericScale": 7,
                                    "udtAssemblyQualifiedName": null,
                                    "dataType": "System.DateTime, System.Private.CoreLib, Version=4.0.0.0, Culture=neutral, PublicKeyToken=7cec85d7bea7798e",
                                    "dataTypeName": "datetime2"
                                }
                            ],
                            "specialAction": {
                                "none": true,
                                "expectYukonXMLShowPlan": false
                            }
                        }
                    }
                }
            ],
            "execution_count": 18
        },
        {
            "cell_type": "markdown",
            "source": [
                "There are three colors that end in blue - Blue, Navy Blue, and Royal Blue. What if we wanted to check for ColorNames that have Blue anywhere? That query looks like this:"
            ],
            "metadata": {
                "azdata_cell_guid": "6adbbb15-b699-43d0-a409-214de80026d7"
            }
        },
        {
            "cell_type": "code",
            "source": [
                "SELECT * FROM Warehouse.Colors WHERE ColorName LIKE '%Blue%'"
            ],
            "metadata": {
                "azdata_cell_guid": "049be94d-cc56-4f03-8ade-8c62fe2ee7e9"
            },
            "outputs": [
                {
                    "output_type": "display_data",
                    "data": {
                        "text/html": "(3 rows affected)"
                    },
                    "metadata": {}
                },
                {
                    "output_type": "display_data",
                    "data": {
                        "text/html": "Total execution time: 00:00:00.006"
                    },
                    "metadata": {}
                },
                {
                    "output_type": "execute_result",
                    "execution_count": 19,
                    "data": {
                        "application/vnd.dataresource+json": {
                            "schema": {
                                "fields": [
                                    {
                                        "name": "ColorID"
                                    },
                                    {
                                        "name": "ColorName"
                                    },
                                    {
                                        "name": "LastEditedBy"
                                    },
                                    {
                                        "name": "ValidFrom"
                                    },
                                    {
                                        "name": "ValidTo"
                                    }
                                ]
                            },
                            "data": [
                                {
                                    "0": "4",
                                    "1": "Blue",
                                    "2": "1",
                                    "3": "2013-01-01 00:00:00.0000000",
                                    "4": "9999-12-31 23:59:59.9999999"
                                },
                                {
                                    "0": "22",
                                    "1": "Navy Blue",
                                    "2": "1",
                                    "3": "2013-01-01 00:00:00.0000000",
                                    "4": "9999-12-31 23:59:59.9999999"
                                },
                                {
                                    "0": "29",
                                    "1": "Royal Blue",
                                    "2": "1",
                                    "3": "2013-01-01 00:00:00.0000000",
                                    "4": "9999-12-31 23:59:59.9999999"
                                }
                            ]
                        },
                        "text/html": "<table><tr><th>ColorID</th><th>ColorName</th><th>LastEditedBy</th><th>ValidFrom</th><th>ValidTo</th></tr><tr><td>4</td><td>Blue</td><td>1</td><td>2013-01-01 00:00:00.0000000</td><td>9999-12-31 23:59:59.9999999</td></tr><tr><td>22</td><td>Navy Blue</td><td>1</td><td>2013-01-01 00:00:00.0000000</td><td>9999-12-31 23:59:59.9999999</td></tr><tr><td>29</td><td>Royal Blue</td><td>1</td><td>2013-01-01 00:00:00.0000000</td><td>9999-12-31 23:59:59.9999999</td></tr></table>"
                    },
                    "metadata": {
                        "resultSet": {
                            "id": 0,
                            "batchId": 0,
                            "rowCount": 3,
                            "complete": true,
                            "columnInfo": [
                                {
                                    "isBytes": false,
                                    "isChars": false,
                                    "isSqlVariant": false,
                                    "isUdt": false,
                                    "isXml": false,
                                    "isJson": false,
                                    "sqlDbType": 8,
                                    "isHierarchyId": false,
                                    "isSqlXmlType": false,
                                    "isUnknownType": false,
                                    "isUpdatable": true,
                                    "allowDBNull": false,
                                    "baseCatalogName": null,
                                    "baseColumnName": null,
                                    "baseSchemaName": null,
                                    "baseServerName": null,
                                    "baseTableName": null,
                                    "columnName": "ColorID",
                                    "columnOrdinal": 0,
                                    "columnSize": 4,
                                    "isAliased": null,
                                    "isAutoIncrement": false,
                                    "isExpression": null,
                                    "isHidden": null,
                                    "isIdentity": false,
                                    "isKey": null,
                                    "isLong": false,
                                    "isReadOnly": false,
                                    "isUnique": false,
                                    "numericPrecision": 10,
                                    "numericScale": 255,
                                    "udtAssemblyQualifiedName": null,
                                    "dataType": "System.Int32, System.Private.CoreLib, Version=4.0.0.0, Culture=neutral, PublicKeyToken=7cec85d7bea7798e",
                                    "dataTypeName": "int"
                                },
                                {
                                    "isBytes": false,
                                    "isChars": true,
                                    "isSqlVariant": false,
                                    "isUdt": false,
                                    "isXml": false,
                                    "isJson": false,
                                    "sqlDbType": 12,
                                    "isHierarchyId": false,
                                    "isSqlXmlType": false,
                                    "isUnknownType": false,
                                    "isUpdatable": true,
                                    "allowDBNull": false,
                                    "baseCatalogName": null,
                                    "baseColumnName": null,
                                    "baseSchemaName": null,
                                    "baseServerName": null,
                                    "baseTableName": null,
                                    "columnName": "ColorName",
                                    "columnOrdinal": 1,
                                    "columnSize": 20,
                                    "isAliased": null,
                                    "isAutoIncrement": false,
                                    "isExpression": null,
                                    "isHidden": null,
                                    "isIdentity": false,
                                    "isKey": null,
                                    "isLong": false,
                                    "isReadOnly": false,
                                    "isUnique": false,
                                    "numericPrecision": 255,
                                    "numericScale": 255,
                                    "udtAssemblyQualifiedName": null,
                                    "dataType": "System.String, System.Private.CoreLib, Version=4.0.0.0, Culture=neutral, PublicKeyToken=7cec85d7bea7798e",
                                    "dataTypeName": "nvarchar"
                                },
                                {
                                    "isBytes": false,
                                    "isChars": false,
                                    "isSqlVariant": false,
                                    "isUdt": false,
                                    "isXml": false,
                                    "isJson": false,
                                    "sqlDbType": 8,
                                    "isHierarchyId": false,
                                    "isSqlXmlType": false,
                                    "isUnknownType": false,
                                    "isUpdatable": true,
                                    "allowDBNull": false,
                                    "baseCatalogName": null,
                                    "baseColumnName": null,
                                    "baseSchemaName": null,
                                    "baseServerName": null,
                                    "baseTableName": null,
                                    "columnName": "LastEditedBy",
                                    "columnOrdinal": 2,
                                    "columnSize": 4,
                                    "isAliased": null,
                                    "isAutoIncrement": false,
                                    "isExpression": null,
                                    "isHidden": null,
                                    "isIdentity": false,
                                    "isKey": null,
                                    "isLong": false,
                                    "isReadOnly": false,
                                    "isUnique": false,
                                    "numericPrecision": 10,
                                    "numericScale": 255,
                                    "udtAssemblyQualifiedName": null,
                                    "dataType": "System.Int32, System.Private.CoreLib, Version=4.0.0.0, Culture=neutral, PublicKeyToken=7cec85d7bea7798e",
                                    "dataTypeName": "int"
                                },
                                {
                                    "isBytes": false,
                                    "isChars": false,
                                    "isSqlVariant": false,
                                    "isUdt": false,
                                    "isXml": false,
                                    "isJson": false,
                                    "sqlDbType": 33,
                                    "isHierarchyId": false,
                                    "isSqlXmlType": false,
                                    "isUnknownType": false,
                                    "isUpdatable": false,
                                    "allowDBNull": false,
                                    "baseCatalogName": null,
                                    "baseColumnName": null,
                                    "baseSchemaName": null,
                                    "baseServerName": null,
                                    "baseTableName": null,
                                    "columnName": "ValidFrom",
                                    "columnOrdinal": 3,
                                    "columnSize": 8,
                                    "isAliased": null,
                                    "isAutoIncrement": false,
                                    "isExpression": null,
                                    "isHidden": null,
                                    "isIdentity": false,
                                    "isKey": null,
                                    "isLong": false,
                                    "isReadOnly": true,
                                    "isUnique": false,
                                    "numericPrecision": 255,
                                    "numericScale": 7,
                                    "udtAssemblyQualifiedName": null,
                                    "dataType": "System.DateTime, System.Private.CoreLib, Version=4.0.0.0, Culture=neutral, PublicKeyToken=7cec85d7bea7798e",
                                    "dataTypeName": "datetime2"
                                },
                                {
                                    "isBytes": false,
                                    "isChars": false,
                                    "isSqlVariant": false,
                                    "isUdt": false,
                                    "isXml": false,
                                    "isJson": false,
                                    "sqlDbType": 33,
                                    "isHierarchyId": false,
                                    "isSqlXmlType": false,
                                    "isUnknownType": false,
                                    "isUpdatable": false,
                                    "allowDBNull": false,
                                    "baseCatalogName": null,
                                    "baseColumnName": null,
                                    "baseSchemaName": null,
                                    "baseServerName": null,
                                    "baseTableName": null,
                                    "columnName": "ValidTo",
                                    "columnOrdinal": 4,
                                    "columnSize": 8,
                                    "isAliased": null,
                                    "isAutoIncrement": false,
                                    "isExpression": null,
                                    "isHidden": null,
                                    "isIdentity": false,
                                    "isKey": null,
                                    "isLong": false,
                                    "isReadOnly": true,
                                    "isUnique": false,
                                    "numericPrecision": 255,
                                    "numericScale": 7,
                                    "udtAssemblyQualifiedName": null,
                                    "dataType": "System.DateTime, System.Private.CoreLib, Version=4.0.0.0, Culture=neutral, PublicKeyToken=7cec85d7bea7798e",
                                    "dataTypeName": "datetime2"
                                }
                            ],
                            "specialAction": {
                                "none": true,
                                "expectYukonXMLShowPlan": false
                            }
                        }
                    }
                }
            ],
            "execution_count": 19
        },
        {
            "cell_type": "markdown",
            "source": [
                "The `%` wildcard character - a place holder for \"anything\" - can be used multiple times when building a pattern to use in searching text.\n",
                "\n",
                "So:\n",
                "\n",
                "- 'Blue%' means colors that start with Blue and anything following it.\n",
                "- '%Blue' means colors that start with anything but must end in Blue\n",
                "- '%Blue%' means colors that can start with anything and end with anything but must contain Blue somewhere in the value\n",
                "\n",
                ""
            ],
            "metadata": {
                "azdata_cell_guid": "590c14b5-9264-4b40-9dc4-100a11691e1d"
            }
        },
        {
            "cell_type": "markdown",
            "source": [
                "Now that we have looked at the Color table a bit, let's learn more about our data by looking at the Sales.Customers table.  Now let's address the question we brought up earlier - what if our data contains a single quote?  When you are searching for a single quote in your data, it needs to be escaped - a way to tell the SQL engine that you mean it as a single quote.  To tell the SQL Engine that you want it as a single quote, you need to put another single quote before it.\r\n",
                "\r\n",
                "So suppose we want to find customers with single quotes in their name.  We can use LIKE to filter our results and use double single quotes to search for a single quote.  The query to find customers with single quotes in their name is:"
            ],
            "metadata": {
                "azdata_cell_guid": "9e6ff8fe-0cf0-40a1-9da9-ba4e9124fc8d"
            }
        },
        {
            "cell_type": "code",
            "source": [
                "SELECT CustomerName FROM Sales.Customers WHERE CustomerName LIKE '%''%'"
            ],
            "metadata": {
                "azdata_cell_guid": "5e6f9fee-aaa3-470b-a717-3cab2299d950"
            },
            "outputs": [
                {
                    "output_type": "display_data",
                    "data": {
                        "text/html": "(1 row affected)"
                    },
                    "metadata": {}
                },
                {
                    "output_type": "display_data",
                    "data": {
                        "text/html": "Total execution time: 00:00:00.022"
                    },
                    "metadata": {}
                },
                {
                    "output_type": "execute_result",
                    "execution_count": 21,
                    "data": {
                        "application/vnd.dataresource+json": {
                            "schema": {
                                "fields": [
                                    {
                                        "name": "CustomerName"
                                    }
                                ]
                            },
                            "data": [
                                {
                                    "0": "Wingtip Toys (Kapa'a, HI)"
                                }
                            ]
                        },
                        "text/html": "<table><tr><th>CustomerName</th></tr><tr><td>Wingtip Toys (Kapa'a, HI)</td></tr></table>"
                    },
                    "metadata": {
                        "resultSet": {
                            "id": 0,
                            "batchId": 0,
                            "rowCount": 1,
                            "complete": true,
                            "columnInfo": [
                                {
                                    "isBytes": false,
                                    "isChars": true,
                                    "isSqlVariant": false,
                                    "isUdt": false,
                                    "isXml": false,
                                    "isJson": false,
                                    "sqlDbType": 12,
                                    "isHierarchyId": false,
                                    "isSqlXmlType": false,
                                    "isUnknownType": false,
                                    "isUpdatable": true,
                                    "allowDBNull": false,
                                    "baseCatalogName": null,
                                    "baseColumnName": null,
                                    "baseSchemaName": null,
                                    "baseServerName": null,
                                    "baseTableName": null,
                                    "columnName": "CustomerName",
                                    "columnOrdinal": 0,
                                    "columnSize": 100,
                                    "isAliased": null,
                                    "isAutoIncrement": false,
                                    "isExpression": null,
                                    "isHidden": null,
                                    "isIdentity": false,
                                    "isKey": null,
                                    "isLong": false,
                                    "isReadOnly": false,
                                    "isUnique": false,
                                    "numericPrecision": 255,
                                    "numericScale": 255,
                                    "udtAssemblyQualifiedName": null,
                                    "dataType": "System.String, System.Private.CoreLib, Version=4.0.0.0, Culture=neutral, PublicKeyToken=7cec85d7bea7798e",
                                    "dataTypeName": "nvarchar"
                                }
                            ],
                            "specialAction": {
                                "none": true,
                                "expectYukonXMLShowPlan": false
                            }
                        }
                    }
                }
            ],
            "execution_count": 21
        },
        {
            "cell_type": "markdown",
            "source": [
                "That LIKE statement is built as follows:\r\n",
                "\r\n",
                "- Starting and ending single quotes to surround the phrase\r\n",
                "- % at the beginning and ending of the string to match.  The name can start and end with anything.\r\n",
                "- '' - This is two single quotes in the middle of the LIKE match.  Two single quotes together like this represent a literal single quote.  So we want any CustomerName that contains a single quote."
            ],
            "metadata": {
                "azdata_cell_guid": "13313bde-a0ec-49af-be4e-01f47cef8e9c"
            }
        },
        {
            "cell_type": "markdown",
            "source": [
                "There is a customer with a single quote in their name - Wingtip Toys (Kapa'a, HI)."
            ],
            "metadata": {
                "azdata_cell_guid": "6de125d8-d580-485b-a3a4-a32ae8e95547"
            }
        },
        {
            "cell_type": "markdown",
            "source": [
                "### Date Functions\n",
                "\n",
                "When filtering data, you may want to filter in a date range.  With the Sales.Customers table, there is an AccountOpenedDate field that tracks when the customer account has opened.  We can use the YEAR function to see what years the customers were established.  That query looks like this:"
            ],
            "metadata": {
                "azdata_cell_guid": "a29c44d2-ab64-4bbe-b1d3-c195cd714904"
            }
        },
        {
            "cell_type": "code",
            "source": [
                "SELECT YEAR(AccountOpenedDate) FROM Sales.Customers"
            ],
            "metadata": {
                "azdata_cell_guid": "45ad5c4e-fc7f-4207-84ae-4ba299a7b99a"
            },
            "outputs": [
                {
                    "output_type": "display_data",
                    "data": {
                        "text/html": "(663 rows affected)"
                    },
                    "metadata": {}
                },
                {
                    "output_type": "display_data",
                    "data": {
                        "text/html": "Total execution time: 00:00:00.013"
                    },
                    "metadata": {}
                },
                {
                    "output_type": "execute_result",
                    "execution_count": 24,
                    "data": {
                        "application/vnd.dataresource+json": {
                            "schema": {
                                "fields": [
                                    {
                                        "name": "(No column name)"
                                    }
                                ]
                            },
                            "data": [
                                {
                                    "0": "2013"
                                },
                                {
                                    "0": "2013"
                                },
                                {
                                    "0": "2013"
                                },
                                {
                                    "0": "2013"
                                },
                                {
                                    "0": "2013"
                                },
                                {
                                    "0": "2013"
                                },
                                {
                                    "0": "2013"
                                },
                                {
                                    "0": "2013"
                                },
                                {
                                    "0": "2013"
                                },
                                {
                                    "0": "2013"
                                },
                                {
                                    "0": "2013"
                                },
                                {
                                    "0": "2013"
                                },
                                {
                                    "0": "2013"
                                },
                                {
                                    "0": "2013"
                                },
                                {
                                    "0": "2013"
                                },
                                {
                                    "0": "2013"
                                },
                                {
                                    "0": "2013"
                                },
                                {
                                    "0": "2013"
                                },
                                {
                                    "0": "2013"
                                },
                                {
                                    "0": "2013"
                                },
                                {
                                    "0": "2013"
                                },
                                {
                                    "0": "2013"
                                },
                                {
                                    "0": "2013"
                                },
                                {
                                    "0": "2013"
                                },
                                {
                                    "0": "2013"
                                },
                                {
                                    "0": "2013"
                                },
                                {
                                    "0": "2013"
                                },
                                {
                                    "0": "2013"
                                },
                                {
                                    "0": "2013"
                                },
                                {
                                    "0": "2013"
                                },
                                {
                                    "0": "2013"
                                },
                                {
                                    "0": "2013"
                                },
                                {
                                    "0": "2013"
                                },
                                {
                                    "0": "2013"
                                },
                                {
                                    "0": "2013"
                                },
                                {
                                    "0": "2013"
                                },
                                {
                                    "0": "2013"
                                },
                                {
                                    "0": "2013"
                                },
                                {
                                    "0": "2013"
                                },
                                {
                                    "0": "2013"
                                },
                                {
                                    "0": "2013"
                                },
                                {
                                    "0": "2013"
                                },
                                {
                                    "0": "2013"
                                },
                                {
                                    "0": "2013"
                                },
                                {
                                    "0": "2013"
                                },
                                {
                                    "0": "2013"
                                },
                                {
                                    "0": "2013"
                                },
                                {
                                    "0": "2013"
                                },
                                {
                                    "0": "2013"
                                },
                                {
                                    "0": "2013"
                                },
                                {
                                    "0": "2013"
                                },
                                {
                                    "0": "2013"
                                },
                                {
                                    "0": "2013"
                                },
                                {
                                    "0": "2013"
                                },
                                {
                                    "0": "2013"
                                },
                                {
                                    "0": "2013"
                                },
                                {
                                    "0": "2013"
                                },
                                {
                                    "0": "2013"
                                },
                                {
                                    "0": "2013"
                                },
                                {
                                    "0": "2013"
                                },
                                {
                                    "0": "2013"
                                },
                                {
                                    "0": "2013"
                                },
                                {
                                    "0": "2013"
                                },
                                {
                                    "0": "2013"
                                },
                                {
                                    "0": "2013"
                                },
                                {
                                    "0": "2013"
                                },
                                {
                                    "0": "2013"
                                },
                                {
                                    "0": "2013"
                                },
                                {
                                    "0": "2013"
                                },
                                {
                                    "0": "2013"
                                },
                                {
                                    "0": "2013"
                                },
                                {
                                    "0": "2013"
                                },
                                {
                                    "0": "2013"
                                },
                                {
                                    "0": "2013"
                                },
                                {
                                    "0": "2013"
                                },
                                {
                                    "0": "2013"
                                },
                                {
                                    "0": "2013"
                                },
                                {
                                    "0": "2013"
                                },
                                {
                                    "0": "2013"
                                },
                                {
                                    "0": "2013"
                                },
                                {
                                    "0": "2013"
                                },
                                {
                                    "0": "2013"
                                },
                                {
                                    "0": "2013"
                                },
                                {
                                    "0": "2013"
                                },
                                {
                                    "0": "2013"
                                },
                                {
                                    "0": "2013"
                                },
                                {
                                    "0": "2013"
                                },
                                {
                                    "0": "2013"
                                },
                                {
                                    "0": "2013"
                                },
                                {
                                    "0": "2013"
                                },
                                {
                                    "0": "2013"
                                },
                                {
                                    "0": "2013"
                                },
                                {
                                    "0": "2013"
                                },
                                {
                                    "0": "2013"
                                },
                                {
                                    "0": "2013"
                                },
                                {
                                    "0": "2013"
                                },
                                {
                                    "0": "2013"
                                },
                                {
                                    "0": "2013"
                                },
                                {
                                    "0": "2013"
                                },
                                {
                                    "0": "2013"
                                },
                                {
                                    "0": "2013"
                                },
                                {
                                    "0": "2013"
                                },
                                {
                                    "0": "2013"
                                },
                                {
                                    "0": "2013"
                                },
                                {
                                    "0": "2013"
                                },
                                {
                                    "0": "2013"
                                },
                                {
                                    "0": "2013"
                                },
                                {
                                    "0": "2013"
                                },
                                {
                                    "0": "2013"
                                },
                                {
                                    "0": "2013"
                                },
                                {
                                    "0": "2013"
                                },
                                {
                                    "0": "2013"
                                },
                                {
                                    "0": "2013"
                                },
                                {
                                    "0": "2013"
                                },
                                {
                                    "0": "2013"
                                },
                                {
                                    "0": "2013"
                                },
                                {
                                    "0": "2013"
                                },
                                {
                                    "0": "2013"
                                },
                                {
                                    "0": "2013"
                                },
                                {
                                    "0": "2013"
                                },
                                {
                                    "0": "2013"
                                },
                                {
                                    "0": "2013"
                                },
                                {
                                    "0": "2013"
                                },
                                {
                                    "0": "2013"
                                },
                                {
                                    "0": "2013"
                                },
                                {
                                    "0": "2013"
                                },
                                {
                                    "0": "2013"
                                },
                                {
                                    "0": "2013"
                                },
                                {
                                    "0": "2013"
                                },
                                {
                                    "0": "2013"
                                },
                                {
                                    "0": "2013"
                                },
                                {
                                    "0": "2013"
                                },
                                {
                                    "0": "2013"
                                },
                                {
                                    "0": "2013"
                                },
                                {
                                    "0": "2013"
                                },
                                {
                                    "0": "2013"
                                },
                                {
                                    "0": "2013"
                                },
                                {
                                    "0": "2013"
                                },
                                {
                                    "0": "2013"
                                },
                                {
                                    "0": "2013"
                                },
                                {
                                    "0": "2013"
                                },
                                {
                                    "0": "2013"
                                },
                                {
                                    "0": "2013"
                                },
                                {
                                    "0": "2013"
                                },
                                {
                                    "0": "2013"
                                },
                                {
                                    "0": "2013"
                                },
                                {
                                    "0": "2013"
                                },
                                {
                                    "0": "2013"
                                },
                                {
                                    "0": "2013"
                                },
                                {
                                    "0": "2013"
                                },
                                {
                                    "0": "2013"
                                },
                                {
                                    "0": "2013"
                                },
                                {
                                    "0": "2013"
                                },
                                {
                                    "0": "2013"
                                },
                                {
                                    "0": "2013"
                                },
                                {
                                    "0": "2013"
                                },
                                {
                                    "0": "2013"
                                },
                                {
                                    "0": "2013"
                                },
                                {
                                    "0": "2013"
                                },
                                {
                                    "0": "2013"
                                },
                                {
                                    "0": "2013"
                                },
                                {
                                    "0": "2013"
                                },
                                {
                                    "0": "2013"
                                },
                                {
                                    "0": "2013"
                                },
                                {
                                    "0": "2013"
                                },
                                {
                                    "0": "2013"
                                },
                                {
                                    "0": "2013"
                                },
                                {
                                    "0": "2013"
                                },
                                {
                                    "0": "2013"
                                },
                                {
                                    "0": "2013"
                                },
                                {
                                    "0": "2013"
                                },
                                {
                                    "0": "2013"
                                },
                                {
                                    "0": "2013"
                                },
                                {
                                    "0": "2013"
                                },
                                {
                                    "0": "2013"
                                },
                                {
                                    "0": "2013"
                                },
                                {
                                    "0": "2013"
                                },
                                {
                                    "0": "2013"
                                },
                                {
                                    "0": "2013"
                                },
                                {
                                    "0": "2013"
                                },
                                {
                                    "0": "2013"
                                },
                                {
                                    "0": "2013"
                                },
                                {
                                    "0": "2013"
                                },
                                {
                                    "0": "2013"
                                },
                                {
                                    "0": "2013"
                                },
                                {
                                    "0": "2013"
                                },
                                {
                                    "0": "2013"
                                },
                                {
                                    "0": "2013"
                                },
                                {
                                    "0": "2013"
                                },
                                {
                                    "0": "2013"
                                },
                                {
                                    "0": "2013"
                                },
                                {
                                    "0": "2013"
                                },
                                {
                                    "0": "2013"
                                },
                                {
                                    "0": "2013"
                                },
                                {
                                    "0": "2013"
                                },
                                {
                                    "0": "2013"
                                },
                                {
                                    "0": "2013"
                                },
                                {
                                    "0": "2013"
                                },
                                {
                                    "0": "2013"
                                },
                                {
                                    "0": "2013"
                                },
                                {
                                    "0": "2013"
                                },
                                {
                                    "0": "2013"
                                },
                                {
                                    "0": "2013"
                                },
                                {
                                    "0": "2013"
                                },
                                {
                                    "0": "2013"
                                },
                                {
                                    "0": "2013"
                                },
                                {
                                    "0": "2013"
                                },
                                {
                                    "0": "2013"
                                },
                                {
                                    "0": "2013"
                                },
                                {
                                    "0": "2013"
                                },
                                {
                                    "0": "2013"
                                },
                                {
                                    "0": "2013"
                                },
                                {
                                    "0": "2013"
                                },
                                {
                                    "0": "2013"
                                },
                                {
                                    "0": "2013"
                                },
                                {
                                    "0": "2013"
                                },
                                {
                                    "0": "2013"
                                },
                                {
                                    "0": "2013"
                                },
                                {
                                    "0": "2013"
                                },
                                {
                                    "0": "2013"
                                },
                                {
                                    "0": "2013"
                                },
                                {
                                    "0": "2013"
                                },
                                {
                                    "0": "2013"
                                },
                                {
                                    "0": "2013"
                                },
                                {
                                    "0": "2013"
                                },
                                {
                                    "0": "2013"
                                },
                                {
                                    "0": "2013"
                                },
                                {
                                    "0": "2013"
                                },
                                {
                                    "0": "2013"
                                },
                                {
                                    "0": "2013"
                                },
                                {
                                    "0": "2013"
                                },
                                {
                                    "0": "2013"
                                },
                                {
                                    "0": "2013"
                                },
                                {
                                    "0": "2013"
                                },
                                {
                                    "0": "2013"
                                },
                                {
                                    "0": "2013"
                                },
                                {
                                    "0": "2013"
                                },
                                {
                                    "0": "2013"
                                },
                                {
                                    "0": "2013"
                                },
                                {
                                    "0": "2013"
                                },
                                {
                                    "0": "2013"
                                },
                                {
                                    "0": "2013"
                                },
                                {
                                    "0": "2013"
                                },
                                {
                                    "0": "2013"
                                },
                                {
                                    "0": "2013"
                                },
                                {
                                    "0": "2013"
                                },
                                {
                                    "0": "2013"
                                },
                                {
                                    "0": "2013"
                                },
                                {
                                    "0": "2013"
                                },
                                {
                                    "0": "2013"
                                },
                                {
                                    "0": "2013"
                                },
                                {
                                    "0": "2013"
                                },
                                {
                                    "0": "2013"
                                },
                                {
                                    "0": "2013"
                                },
                                {
                                    "0": "2013"
                                },
                                {
                                    "0": "2013"
                                },
                                {
                                    "0": "2013"
                                },
                                {
                                    "0": "2013"
                                },
                                {
                                    "0": "2013"
                                },
                                {
                                    "0": "2013"
                                },
                                {
                                    "0": "2013"
                                },
                                {
                                    "0": "2013"
                                },
                                {
                                    "0": "2013"
                                },
                                {
                                    "0": "2013"
                                },
                                {
                                    "0": "2013"
                                },
                                {
                                    "0": "2013"
                                },
                                {
                                    "0": "2013"
                                },
                                {
                                    "0": "2013"
                                },
                                {
                                    "0": "2013"
                                },
                                {
                                    "0": "2013"
                                },
                                {
                                    "0": "2013"
                                },
                                {
                                    "0": "2013"
                                },
                                {
                                    "0": "2013"
                                },
                                {
                                    "0": "2013"
                                },
                                {
                                    "0": "2013"
                                },
                                {
                                    "0": "2013"
                                },
                                {
                                    "0": "2013"
                                },
                                {
                                    "0": "2013"
                                },
                                {
                                    "0": "2013"
                                },
                                {
                                    "0": "2013"
                                },
                                {
                                    "0": "2013"
                                },
                                {
                                    "0": "2013"
                                },
                                {
                                    "0": "2013"
                                },
                                {
                                    "0": "2013"
                                },
                                {
                                    "0": "2013"
                                },
                                {
                                    "0": "2013"
                                },
                                {
                                    "0": "2013"
                                },
                                {
                                    "0": "2013"
                                },
                                {
                                    "0": "2013"
                                },
                                {
                                    "0": "2013"
                                },
                                {
                                    "0": "2013"
                                },
                                {
                                    "0": "2013"
                                },
                                {
                                    "0": "2013"
                                },
                                {
                                    "0": "2013"
                                },
                                {
                                    "0": "2013"
                                },
                                {
                                    "0": "2013"
                                },
                                {
                                    "0": "2013"
                                },
                                {
                                    "0": "2013"
                                },
                                {
                                    "0": "2013"
                                },
                                {
                                    "0": "2013"
                                },
                                {
                                    "0": "2013"
                                },
                                {
                                    "0": "2013"
                                },
                                {
                                    "0": "2013"
                                },
                                {
                                    "0": "2013"
                                },
                                {
                                    "0": "2013"
                                },
                                {
                                    "0": "2013"
                                },
                                {
                                    "0": "2013"
                                },
                                {
                                    "0": "2013"
                                },
                                {
                                    "0": "2013"
                                },
                                {
                                    "0": "2013"
                                },
                                {
                                    "0": "2013"
                                },
                                {
                                    "0": "2013"
                                },
                                {
                                    "0": "2013"
                                },
                                {
                                    "0": "2013"
                                },
                                {
                                    "0": "2013"
                                },
                                {
                                    "0": "2013"
                                },
                                {
                                    "0": "2013"
                                },
                                {
                                    "0": "2013"
                                },
                                {
                                    "0": "2013"
                                },
                                {
                                    "0": "2013"
                                },
                                {
                                    "0": "2013"
                                },
                                {
                                    "0": "2013"
                                },
                                {
                                    "0": "2013"
                                },
                                {
                                    "0": "2013"
                                },
                                {
                                    "0": "2013"
                                },
                                {
                                    "0": "2013"
                                },
                                {
                                    "0": "2013"
                                },
                                {
                                    "0": "2013"
                                },
                                {
                                    "0": "2013"
                                },
                                {
                                    "0": "2013"
                                },
                                {
                                    "0": "2013"
                                },
                                {
                                    "0": "2013"
                                },
                                {
                                    "0": "2013"
                                },
                                {
                                    "0": "2013"
                                },
                                {
                                    "0": "2013"
                                },
                                {
                                    "0": "2013"
                                },
                                {
                                    "0": "2013"
                                },
                                {
                                    "0": "2013"
                                },
                                {
                                    "0": "2013"
                                },
                                {
                                    "0": "2013"
                                },
                                {
                                    "0": "2013"
                                },
                                {
                                    "0": "2013"
                                },
                                {
                                    "0": "2013"
                                },
                                {
                                    "0": "2013"
                                },
                                {
                                    "0": "2013"
                                },
                                {
                                    "0": "2013"
                                },
                                {
                                    "0": "2013"
                                },
                                {
                                    "0": "2013"
                                },
                                {
                                    "0": "2013"
                                },
                                {
                                    "0": "2013"
                                },
                                {
                                    "0": "2013"
                                },
                                {
                                    "0": "2013"
                                },
                                {
                                    "0": "2013"
                                },
                                {
                                    "0": "2013"
                                },
                                {
                                    "0": "2013"
                                },
                                {
                                    "0": "2013"
                                },
                                {
                                    "0": "2013"
                                },
                                {
                                    "0": "2013"
                                },
                                {
                                    "0": "2013"
                                },
                                {
                                    "0": "2013"
                                },
                                {
                                    "0": "2013"
                                },
                                {
                                    "0": "2013"
                                },
                                {
                                    "0": "2013"
                                },
                                {
                                    "0": "2013"
                                },
                                {
                                    "0": "2013"
                                },
                                {
                                    "0": "2013"
                                },
                                {
                                    "0": "2013"
                                },
                                {
                                    "0": "2013"
                                },
                                {
                                    "0": "2013"
                                },
                                {
                                    "0": "2013"
                                },
                                {
                                    "0": "2013"
                                },
                                {
                                    "0": "2013"
                                },
                                {
                                    "0": "2013"
                                },
                                {
                                    "0": "2013"
                                },
                                {
                                    "0": "2013"
                                },
                                {
                                    "0": "2013"
                                },
                                {
                                    "0": "2013"
                                },
                                {
                                    "0": "2013"
                                },
                                {
                                    "0": "2013"
                                },
                                {
                                    "0": "2013"
                                },
                                {
                                    "0": "2013"
                                },
                                {
                                    "0": "2013"
                                },
                                {
                                    "0": "2013"
                                },
                                {
                                    "0": "2013"
                                },
                                {
                                    "0": "2013"
                                },
                                {
                                    "0": "2013"
                                },
                                {
                                    "0": "2013"
                                },
                                {
                                    "0": "2013"
                                },
                                {
                                    "0": "2013"
                                },
                                {
                                    "0": "2013"
                                },
                                {
                                    "0": "2013"
                                },
                                {
                                    "0": "2013"
                                },
                                {
                                    "0": "2013"
                                },
                                {
                                    "0": "2013"
                                },
                                {
                                    "0": "2013"
                                },
                                {
                                    "0": "2013"
                                },
                                {
                                    "0": "2013"
                                },
                                {
                                    "0": "2013"
                                },
                                {
                                    "0": "2013"
                                },
                                {
                                    "0": "2013"
                                },
                                {
                                    "0": "2013"
                                },
                                {
                                    "0": "2013"
                                },
                                {
                                    "0": "2013"
                                },
                                {
                                    "0": "2013"
                                },
                                {
                                    "0": "2013"
                                },
                                {
                                    "0": "2013"
                                },
                                {
                                    "0": "2013"
                                },
                                {
                                    "0": "2013"
                                },
                                {
                                    "0": "2013"
                                },
                                {
                                    "0": "2013"
                                },
                                {
                                    "0": "2013"
                                },
                                {
                                    "0": "2013"
                                },
                                {
                                    "0": "2013"
                                },
                                {
                                    "0": "2013"
                                },
                                {
                                    "0": "2013"
                                },
                                {
                                    "0": "2013"
                                },
                                {
                                    "0": "2013"
                                },
                                {
                                    "0": "2013"
                                },
                                {
                                    "0": "2013"
                                },
                                {
                                    "0": "2013"
                                },
                                {
                                    "0": "2013"
                                },
                                {
                                    "0": "2013"
                                },
                                {
                                    "0": "2013"
                                },
                                {
                                    "0": "2013"
                                },
                                {
                                    "0": "2013"
                                },
                                {
                                    "0": "2013"
                                },
                                {
                                    "0": "2013"
                                },
                                {
                                    "0": "2013"
                                },
                                {
                                    "0": "2013"
                                },
                                {
                                    "0": "2013"
                                },
                                {
                                    "0": "2013"
                                },
                                {
                                    "0": "2013"
                                },
                                {
                                    "0": "2013"
                                },
                                {
                                    "0": "2013"
                                },
                                {
                                    "0": "2013"
                                },
                                {
                                    "0": "2013"
                                },
                                {
                                    "0": "2013"
                                },
                                {
                                    "0": "2013"
                                },
                                {
                                    "0": "2013"
                                },
                                {
                                    "0": "2013"
                                },
                                {
                                    "0": "2013"
                                },
                                {
                                    "0": "2013"
                                },
                                {
                                    "0": "2013"
                                },
                                {
                                    "0": "2013"
                                },
                                {
                                    "0": "2013"
                                },
                                {
                                    "0": "2013"
                                },
                                {
                                    "0": "2013"
                                },
                                {
                                    "0": "2013"
                                },
                                {
                                    "0": "2013"
                                },
                                {
                                    "0": "2013"
                                },
                                {
                                    "0": "2013"
                                },
                                {
                                    "0": "2013"
                                },
                                {
                                    "0": "2013"
                                },
                                {
                                    "0": "2013"
                                },
                                {
                                    "0": "2013"
                                },
                                {
                                    "0": "2013"
                                },
                                {
                                    "0": "2013"
                                },
                                {
                                    "0": "2013"
                                },
                                {
                                    "0": "2013"
                                },
                                {
                                    "0": "2013"
                                },
                                {
                                    "0": "2013"
                                },
                                {
                                    "0": "2013"
                                },
                                {
                                    "0": "2013"
                                },
                                {
                                    "0": "2013"
                                },
                                {
                                    "0": "2013"
                                },
                                {
                                    "0": "2013"
                                },
                                {
                                    "0": "2013"
                                },
                                {
                                    "0": "2013"
                                },
                                {
                                    "0": "2013"
                                },
                                {
                                    "0": "2013"
                                },
                                {
                                    "0": "2013"
                                },
                                {
                                    "0": "2013"
                                },
                                {
                                    "0": "2013"
                                },
                                {
                                    "0": "2013"
                                },
                                {
                                    "0": "2013"
                                },
                                {
                                    "0": "2013"
                                },
                                {
                                    "0": "2013"
                                },
                                {
                                    "0": "2013"
                                },
                                {
                                    "0": "2013"
                                },
                                {
                                    "0": "2013"
                                },
                                {
                                    "0": "2013"
                                },
                                {
                                    "0": "2013"
                                },
                                {
                                    "0": "2013"
                                },
                                {
                                    "0": "2013"
                                },
                                {
                                    "0": "2013"
                                },
                                {
                                    "0": "2013"
                                },
                                {
                                    "0": "2013"
                                },
                                {
                                    "0": "2013"
                                },
                                {
                                    "0": "2013"
                                },
                                {
                                    "0": "2013"
                                },
                                {
                                    "0": "2013"
                                },
                                {
                                    "0": "2013"
                                },
                                {
                                    "0": "2013"
                                },
                                {
                                    "0": "2013"
                                },
                                {
                                    "0": "2013"
                                },
                                {
                                    "0": "2013"
                                },
                                {
                                    "0": "2013"
                                },
                                {
                                    "0": "2013"
                                },
                                {
                                    "0": "2013"
                                },
                                {
                                    "0": "2013"
                                },
                                {
                                    "0": "2013"
                                },
                                {
                                    "0": "2013"
                                },
                                {
                                    "0": "2013"
                                },
                                {
                                    "0": "2013"
                                },
                                {
                                    "0": "2013"
                                },
                                {
                                    "0": "2013"
                                },
                                {
                                    "0": "2013"
                                },
                                {
                                    "0": "2013"
                                },
                                {
                                    "0": "2013"
                                },
                                {
                                    "0": "2013"
                                },
                                {
                                    "0": "2013"
                                },
                                {
                                    "0": "2013"
                                },
                                {
                                    "0": "2013"
                                },
                                {
                                    "0": "2013"
                                },
                                {
                                    "0": "2013"
                                },
                                {
                                    "0": "2013"
                                },
                                {
                                    "0": "2013"
                                },
                                {
                                    "0": "2013"
                                },
                                {
                                    "0": "2013"
                                },
                                {
                                    "0": "2013"
                                },
                                {
                                    "0": "2013"
                                },
                                {
                                    "0": "2013"
                                },
                                {
                                    "0": "2013"
                                },
                                {
                                    "0": "2013"
                                },
                                {
                                    "0": "2013"
                                },
                                {
                                    "0": "2013"
                                },
                                {
                                    "0": "2013"
                                },
                                {
                                    "0": "2013"
                                },
                                {
                                    "0": "2013"
                                },
                                {
                                    "0": "2013"
                                },
                                {
                                    "0": "2013"
                                },
                                {
                                    "0": "2013"
                                },
                                {
                                    "0": "2013"
                                },
                                {
                                    "0": "2013"
                                },
                                {
                                    "0": "2013"
                                },
                                {
                                    "0": "2013"
                                },
                                {
                                    "0": "2013"
                                },
                                {
                                    "0": "2013"
                                },
                                {
                                    "0": "2013"
                                },
                                {
                                    "0": "2013"
                                },
                                {
                                    "0": "2013"
                                },
                                {
                                    "0": "2013"
                                },
                                {
                                    "0": "2013"
                                },
                                {
                                    "0": "2013"
                                },
                                {
                                    "0": "2013"
                                },
                                {
                                    "0": "2013"
                                },
                                {
                                    "0": "2013"
                                },
                                {
                                    "0": "2013"
                                },
                                {
                                    "0": "2013"
                                },
                                {
                                    "0": "2013"
                                },
                                {
                                    "0": "2013"
                                },
                                {
                                    "0": "2013"
                                },
                                {
                                    "0": "2013"
                                },
                                {
                                    "0": "2013"
                                },
                                {
                                    "0": "2013"
                                },
                                {
                                    "0": "2013"
                                },
                                {
                                    "0": "2013"
                                },
                                {
                                    "0": "2013"
                                },
                                {
                                    "0": "2013"
                                },
                                {
                                    "0": "2013"
                                },
                                {
                                    "0": "2013"
                                },
                                {
                                    "0": "2013"
                                },
                                {
                                    "0": "2013"
                                },
                                {
                                    "0": "2013"
                                },
                                {
                                    "0": "2013"
                                },
                                {
                                    "0": "2013"
                                },
                                {
                                    "0": "2013"
                                },
                                {
                                    "0": "2013"
                                },
                                {
                                    "0": "2013"
                                },
                                {
                                    "0": "2013"
                                },
                                {
                                    "0": "2013"
                                },
                                {
                                    "0": "2013"
                                },
                                {
                                    "0": "2013"
                                },
                                {
                                    "0": "2013"
                                },
                                {
                                    "0": "2013"
                                },
                                {
                                    "0": "2013"
                                },
                                {
                                    "0": "2013"
                                },
                                {
                                    "0": "2013"
                                },
                                {
                                    "0": "2013"
                                },
                                {
                                    "0": "2013"
                                },
                                {
                                    "0": "2013"
                                },
                                {
                                    "0": "2013"
                                },
                                {
                                    "0": "2013"
                                },
                                {
                                    "0": "2013"
                                },
                                {
                                    "0": "2013"
                                },
                                {
                                    "0": "2013"
                                },
                                {
                                    "0": "2013"
                                },
                                {
                                    "0": "2013"
                                },
                                {
                                    "0": "2013"
                                },
                                {
                                    "0": "2013"
                                },
                                {
                                    "0": "2013"
                                },
                                {
                                    "0": "2013"
                                },
                                {
                                    "0": "2013"
                                },
                                {
                                    "0": "2013"
                                },
                                {
                                    "0": "2013"
                                },
                                {
                                    "0": "2013"
                                },
                                {
                                    "0": "2013"
                                },
                                {
                                    "0": "2013"
                                },
                                {
                                    "0": "2013"
                                },
                                {
                                    "0": "2013"
                                },
                                {
                                    "0": "2013"
                                },
                                {
                                    "0": "2013"
                                },
                                {
                                    "0": "2013"
                                },
                                {
                                    "0": "2013"
                                },
                                {
                                    "0": "2013"
                                },
                                {
                                    "0": "2013"
                                },
                                {
                                    "0": "2013"
                                },
                                {
                                    "0": "2013"
                                },
                                {
                                    "0": "2013"
                                },
                                {
                                    "0": "2013"
                                },
                                {
                                    "0": "2013"
                                },
                                {
                                    "0": "2013"
                                },
                                {
                                    "0": "2013"
                                },
                                {
                                    "0": "2013"
                                },
                                {
                                    "0": "2013"
                                },
                                {
                                    "0": "2013"
                                },
                                {
                                    "0": "2013"
                                },
                                {
                                    "0": "2013"
                                },
                                {
                                    "0": "2013"
                                },
                                {
                                    "0": "2013"
                                },
                                {
                                    "0": "2013"
                                },
                                {
                                    "0": "2013"
                                },
                                {
                                    "0": "2013"
                                },
                                {
                                    "0": "2013"
                                },
                                {
                                    "0": "2013"
                                },
                                {
                                    "0": "2013"
                                },
                                {
                                    "0": "2014"
                                },
                                {
                                    "0": "2014"
                                },
                                {
                                    "0": "2014"
                                },
                                {
                                    "0": "2014"
                                },
                                {
                                    "0": "2014"
                                },
                                {
                                    "0": "2014"
                                },
                                {
                                    "0": "2014"
                                },
                                {
                                    "0": "2014"
                                },
                                {
                                    "0": "2014"
                                },
                                {
                                    "0": "2014"
                                },
                                {
                                    "0": "2014"
                                },
                                {
                                    "0": "2014"
                                },
                                {
                                    "0": "2014"
                                },
                                {
                                    "0": "2014"
                                },
                                {
                                    "0": "2015"
                                },
                                {
                                    "0": "2015"
                                },
                                {
                                    "0": "2015"
                                },
                                {
                                    "0": "2015"
                                },
                                {
                                    "0": "2015"
                                },
                                {
                                    "0": "2015"
                                },
                                {
                                    "0": "2015"
                                },
                                {
                                    "0": "2015"
                                },
                                {
                                    "0": "2015"
                                },
                                {
                                    "0": "2015"
                                },
                                {
                                    "0": "2015"
                                },
                                {
                                    "0": "2015"
                                },
                                {
                                    "0": "2015"
                                },
                                {
                                    "0": "2015"
                                },
                                {
                                    "0": "2015"
                                },
                                {
                                    "0": "2015"
                                },
                                {
                                    "0": "2015"
                                },
                                {
                                    "0": "2015"
                                },
                                {
                                    "0": "2016"
                                },
                                {
                                    "0": "2016"
                                },
                                {
                                    "0": "2016"
                                },
                                {
                                    "0": "2016"
                                },
                                {
                                    "0": "2016"
                                }
                            ]
                        },
                        "text/html": "<table><tr><th>(No column name)</th></tr><tr><td>2013</td></tr><tr><td>2013</td></tr><tr><td>2013</td></tr><tr><td>2013</td></tr><tr><td>2013</td></tr><tr><td>2013</td></tr><tr><td>2013</td></tr><tr><td>2013</td></tr><tr><td>2013</td></tr><tr><td>2013</td></tr><tr><td>2013</td></tr><tr><td>2013</td></tr><tr><td>2013</td></tr><tr><td>2013</td></tr><tr><td>2013</td></tr><tr><td>2013</td></tr><tr><td>2013</td></tr><tr><td>2013</td></tr><tr><td>2013</td></tr><tr><td>2013</td></tr><tr><td>2013</td></tr><tr><td>2013</td></tr><tr><td>2013</td></tr><tr><td>2013</td></tr><tr><td>2013</td></tr><tr><td>2013</td></tr><tr><td>2013</td></tr><tr><td>2013</td></tr><tr><td>2013</td></tr><tr><td>2013</td></tr><tr><td>2013</td></tr><tr><td>2013</td></tr><tr><td>2013</td></tr><tr><td>2013</td></tr><tr><td>2013</td></tr><tr><td>2013</td></tr><tr><td>2013</td></tr><tr><td>2013</td></tr><tr><td>2013</td></tr><tr><td>2013</td></tr><tr><td>2013</td></tr><tr><td>2013</td></tr><tr><td>2013</td></tr><tr><td>2013</td></tr><tr><td>2013</td></tr><tr><td>2013</td></tr><tr><td>2013</td></tr><tr><td>2013</td></tr><tr><td>2013</td></tr><tr><td>2013</td></tr><tr><td>2013</td></tr><tr><td>2013</td></tr><tr><td>2013</td></tr><tr><td>2013</td></tr><tr><td>2013</td></tr><tr><td>2013</td></tr><tr><td>2013</td></tr><tr><td>2013</td></tr><tr><td>2013</td></tr><tr><td>2013</td></tr><tr><td>2013</td></tr><tr><td>2013</td></tr><tr><td>2013</td></tr><tr><td>2013</td></tr><tr><td>2013</td></tr><tr><td>2013</td></tr><tr><td>2013</td></tr><tr><td>2013</td></tr><tr><td>2013</td></tr><tr><td>2013</td></tr><tr><td>2013</td></tr><tr><td>2013</td></tr><tr><td>2013</td></tr><tr><td>2013</td></tr><tr><td>2013</td></tr><tr><td>2013</td></tr><tr><td>2013</td></tr><tr><td>2013</td></tr><tr><td>2013</td></tr><tr><td>2013</td></tr><tr><td>2013</td></tr><tr><td>2013</td></tr><tr><td>2013</td></tr><tr><td>2013</td></tr><tr><td>2013</td></tr><tr><td>2013</td></tr><tr><td>2013</td></tr><tr><td>2013</td></tr><tr><td>2013</td></tr><tr><td>2013</td></tr><tr><td>2013</td></tr><tr><td>2013</td></tr><tr><td>2013</td></tr><tr><td>2013</td></tr><tr><td>2013</td></tr><tr><td>2013</td></tr><tr><td>2013</td></tr><tr><td>2013</td></tr><tr><td>2013</td></tr><tr><td>2013</td></tr><tr><td>2013</td></tr><tr><td>2013</td></tr><tr><td>2013</td></tr><tr><td>2013</td></tr><tr><td>2013</td></tr><tr><td>2013</td></tr><tr><td>2013</td></tr><tr><td>2013</td></tr><tr><td>2013</td></tr><tr><td>2013</td></tr><tr><td>2013</td></tr><tr><td>2013</td></tr><tr><td>2013</td></tr><tr><td>2013</td></tr><tr><td>2013</td></tr><tr><td>2013</td></tr><tr><td>2013</td></tr><tr><td>2013</td></tr><tr><td>2013</td></tr><tr><td>2013</td></tr><tr><td>2013</td></tr><tr><td>2013</td></tr><tr><td>2013</td></tr><tr><td>2013</td></tr><tr><td>2013</td></tr><tr><td>2013</td></tr><tr><td>2013</td></tr><tr><td>2013</td></tr><tr><td>2013</td></tr><tr><td>2013</td></tr><tr><td>2013</td></tr><tr><td>2013</td></tr><tr><td>2013</td></tr><tr><td>2013</td></tr><tr><td>2013</td></tr><tr><td>2013</td></tr><tr><td>2013</td></tr><tr><td>2013</td></tr><tr><td>2013</td></tr><tr><td>2013</td></tr><tr><td>2013</td></tr><tr><td>2013</td></tr><tr><td>2013</td></tr><tr><td>2013</td></tr><tr><td>2013</td></tr><tr><td>2013</td></tr><tr><td>2013</td></tr><tr><td>2013</td></tr><tr><td>2013</td></tr><tr><td>2013</td></tr><tr><td>2013</td></tr><tr><td>2013</td></tr><tr><td>2013</td></tr><tr><td>2013</td></tr><tr><td>2013</td></tr><tr><td>2013</td></tr><tr><td>2013</td></tr><tr><td>2013</td></tr><tr><td>2013</td></tr><tr><td>2013</td></tr><tr><td>2013</td></tr><tr><td>2013</td></tr><tr><td>2013</td></tr><tr><td>2013</td></tr><tr><td>2013</td></tr><tr><td>2013</td></tr><tr><td>2013</td></tr><tr><td>2013</td></tr><tr><td>2013</td></tr><tr><td>2013</td></tr><tr><td>2013</td></tr><tr><td>2013</td></tr><tr><td>2013</td></tr><tr><td>2013</td></tr><tr><td>2013</td></tr><tr><td>2013</td></tr><tr><td>2013</td></tr><tr><td>2013</td></tr><tr><td>2013</td></tr><tr><td>2013</td></tr><tr><td>2013</td></tr><tr><td>2013</td></tr><tr><td>2013</td></tr><tr><td>2013</td></tr><tr><td>2013</td></tr><tr><td>2013</td></tr><tr><td>2013</td></tr><tr><td>2013</td></tr><tr><td>2013</td></tr><tr><td>2013</td></tr><tr><td>2013</td></tr><tr><td>2013</td></tr><tr><td>2013</td></tr><tr><td>2013</td></tr><tr><td>2013</td></tr><tr><td>2013</td></tr><tr><td>2013</td></tr><tr><td>2013</td></tr><tr><td>2013</td></tr><tr><td>2013</td></tr><tr><td>2013</td></tr><tr><td>2013</td></tr><tr><td>2013</td></tr><tr><td>2013</td></tr><tr><td>2013</td></tr><tr><td>2013</td></tr><tr><td>2013</td></tr><tr><td>2013</td></tr><tr><td>2013</td></tr><tr><td>2013</td></tr><tr><td>2013</td></tr><tr><td>2013</td></tr><tr><td>2013</td></tr><tr><td>2013</td></tr><tr><td>2013</td></tr><tr><td>2013</td></tr><tr><td>2013</td></tr><tr><td>2013</td></tr><tr><td>2013</td></tr><tr><td>2013</td></tr><tr><td>2013</td></tr><tr><td>2013</td></tr><tr><td>2013</td></tr><tr><td>2013</td></tr><tr><td>2013</td></tr><tr><td>2013</td></tr><tr><td>2013</td></tr><tr><td>2013</td></tr><tr><td>2013</td></tr><tr><td>2013</td></tr><tr><td>2013</td></tr><tr><td>2013</td></tr><tr><td>2013</td></tr><tr><td>2013</td></tr><tr><td>2013</td></tr><tr><td>2013</td></tr><tr><td>2013</td></tr><tr><td>2013</td></tr><tr><td>2013</td></tr><tr><td>2013</td></tr><tr><td>2013</td></tr><tr><td>2013</td></tr><tr><td>2013</td></tr><tr><td>2013</td></tr><tr><td>2013</td></tr><tr><td>2013</td></tr><tr><td>2013</td></tr><tr><td>2013</td></tr><tr><td>2013</td></tr><tr><td>2013</td></tr><tr><td>2013</td></tr><tr><td>2013</td></tr><tr><td>2013</td></tr><tr><td>2013</td></tr><tr><td>2013</td></tr><tr><td>2013</td></tr><tr><td>2013</td></tr><tr><td>2013</td></tr><tr><td>2013</td></tr><tr><td>2013</td></tr><tr><td>2013</td></tr><tr><td>2013</td></tr><tr><td>2013</td></tr><tr><td>2013</td></tr><tr><td>2013</td></tr><tr><td>2013</td></tr><tr><td>2013</td></tr><tr><td>2013</td></tr><tr><td>2013</td></tr><tr><td>2013</td></tr><tr><td>2013</td></tr><tr><td>2013</td></tr><tr><td>2013</td></tr><tr><td>2013</td></tr><tr><td>2013</td></tr><tr><td>2013</td></tr><tr><td>2013</td></tr><tr><td>2013</td></tr><tr><td>2013</td></tr><tr><td>2013</td></tr><tr><td>2013</td></tr><tr><td>2013</td></tr><tr><td>2013</td></tr><tr><td>2013</td></tr><tr><td>2013</td></tr><tr><td>2013</td></tr><tr><td>2013</td></tr><tr><td>2013</td></tr><tr><td>2013</td></tr><tr><td>2013</td></tr><tr><td>2013</td></tr><tr><td>2013</td></tr><tr><td>2013</td></tr><tr><td>2013</td></tr><tr><td>2013</td></tr><tr><td>2013</td></tr><tr><td>2013</td></tr><tr><td>2013</td></tr><tr><td>2013</td></tr><tr><td>2013</td></tr><tr><td>2013</td></tr><tr><td>2013</td></tr><tr><td>2013</td></tr><tr><td>2013</td></tr><tr><td>2013</td></tr><tr><td>2013</td></tr><tr><td>2013</td></tr><tr><td>2013</td></tr><tr><td>2013</td></tr><tr><td>2013</td></tr><tr><td>2013</td></tr><tr><td>2013</td></tr><tr><td>2013</td></tr><tr><td>2013</td></tr><tr><td>2013</td></tr><tr><td>2013</td></tr><tr><td>2013</td></tr><tr><td>2013</td></tr><tr><td>2013</td></tr><tr><td>2013</td></tr><tr><td>2013</td></tr><tr><td>2013</td></tr><tr><td>2013</td></tr><tr><td>2013</td></tr><tr><td>2013</td></tr><tr><td>2013</td></tr><tr><td>2013</td></tr><tr><td>2013</td></tr><tr><td>2013</td></tr><tr><td>2013</td></tr><tr><td>2013</td></tr><tr><td>2013</td></tr><tr><td>2013</td></tr><tr><td>2013</td></tr><tr><td>2013</td></tr><tr><td>2013</td></tr><tr><td>2013</td></tr><tr><td>2013</td></tr><tr><td>2013</td></tr><tr><td>2013</td></tr><tr><td>2013</td></tr><tr><td>2013</td></tr><tr><td>2013</td></tr><tr><td>2013</td></tr><tr><td>2013</td></tr><tr><td>2013</td></tr><tr><td>2013</td></tr><tr><td>2013</td></tr><tr><td>2013</td></tr><tr><td>2013</td></tr><tr><td>2013</td></tr><tr><td>2013</td></tr><tr><td>2013</td></tr><tr><td>2013</td></tr><tr><td>2013</td></tr><tr><td>2013</td></tr><tr><td>2013</td></tr><tr><td>2013</td></tr><tr><td>2013</td></tr><tr><td>2013</td></tr><tr><td>2013</td></tr><tr><td>2013</td></tr><tr><td>2013</td></tr><tr><td>2013</td></tr><tr><td>2013</td></tr><tr><td>2013</td></tr><tr><td>2013</td></tr><tr><td>2013</td></tr><tr><td>2013</td></tr><tr><td>2013</td></tr><tr><td>2013</td></tr><tr><td>2013</td></tr><tr><td>2013</td></tr><tr><td>2013</td></tr><tr><td>2013</td></tr><tr><td>2013</td></tr><tr><td>2013</td></tr><tr><td>2013</td></tr><tr><td>2013</td></tr><tr><td>2013</td></tr><tr><td>2013</td></tr><tr><td>2013</td></tr><tr><td>2013</td></tr><tr><td>2013</td></tr><tr><td>2013</td></tr><tr><td>2013</td></tr><tr><td>2013</td></tr><tr><td>2013</td></tr><tr><td>2013</td></tr><tr><td>2013</td></tr><tr><td>2013</td></tr><tr><td>2013</td></tr><tr><td>2013</td></tr><tr><td>2013</td></tr><tr><td>2013</td></tr><tr><td>2013</td></tr><tr><td>2013</td></tr><tr><td>2013</td></tr><tr><td>2013</td></tr><tr><td>2013</td></tr><tr><td>2013</td></tr><tr><td>2013</td></tr><tr><td>2013</td></tr><tr><td>2013</td></tr><tr><td>2013</td></tr><tr><td>2013</td></tr><tr><td>2013</td></tr><tr><td>2013</td></tr><tr><td>2013</td></tr><tr><td>2013</td></tr><tr><td>2013</td></tr><tr><td>2013</td></tr><tr><td>2013</td></tr><tr><td>2013</td></tr><tr><td>2013</td></tr><tr><td>2013</td></tr><tr><td>2013</td></tr><tr><td>2013</td></tr><tr><td>2013</td></tr><tr><td>2013</td></tr><tr><td>2013</td></tr><tr><td>2013</td></tr><tr><td>2013</td></tr><tr><td>2013</td></tr><tr><td>2013</td></tr><tr><td>2013</td></tr><tr><td>2013</td></tr><tr><td>2013</td></tr><tr><td>2013</td></tr><tr><td>2013</td></tr><tr><td>2013</td></tr><tr><td>2013</td></tr><tr><td>2013</td></tr><tr><td>2013</td></tr><tr><td>2013</td></tr><tr><td>2013</td></tr><tr><td>2013</td></tr><tr><td>2013</td></tr><tr><td>2013</td></tr><tr><td>2013</td></tr><tr><td>2013</td></tr><tr><td>2013</td></tr><tr><td>2013</td></tr><tr><td>2013</td></tr><tr><td>2013</td></tr><tr><td>2013</td></tr><tr><td>2013</td></tr><tr><td>2013</td></tr><tr><td>2013</td></tr><tr><td>2013</td></tr><tr><td>2013</td></tr><tr><td>2013</td></tr><tr><td>2013</td></tr><tr><td>2013</td></tr><tr><td>2013</td></tr><tr><td>2013</td></tr><tr><td>2013</td></tr><tr><td>2013</td></tr><tr><td>2013</td></tr><tr><td>2013</td></tr><tr><td>2013</td></tr><tr><td>2013</td></tr><tr><td>2013</td></tr><tr><td>2013</td></tr><tr><td>2013</td></tr><tr><td>2013</td></tr><tr><td>2013</td></tr><tr><td>2013</td></tr><tr><td>2013</td></tr><tr><td>2013</td></tr><tr><td>2013</td></tr><tr><td>2013</td></tr><tr><td>2013</td></tr><tr><td>2013</td></tr><tr><td>2013</td></tr><tr><td>2013</td></tr><tr><td>2013</td></tr><tr><td>2013</td></tr><tr><td>2013</td></tr><tr><td>2013</td></tr><tr><td>2013</td></tr><tr><td>2013</td></tr><tr><td>2013</td></tr><tr><td>2013</td></tr><tr><td>2013</td></tr><tr><td>2013</td></tr><tr><td>2013</td></tr><tr><td>2013</td></tr><tr><td>2013</td></tr><tr><td>2013</td></tr><tr><td>2013</td></tr><tr><td>2013</td></tr><tr><td>2013</td></tr><tr><td>2013</td></tr><tr><td>2013</td></tr><tr><td>2013</td></tr><tr><td>2013</td></tr><tr><td>2013</td></tr><tr><td>2013</td></tr><tr><td>2013</td></tr><tr><td>2013</td></tr><tr><td>2013</td></tr><tr><td>2013</td></tr><tr><td>2013</td></tr><tr><td>2013</td></tr><tr><td>2013</td></tr><tr><td>2013</td></tr><tr><td>2013</td></tr><tr><td>2013</td></tr><tr><td>2013</td></tr><tr><td>2013</td></tr><tr><td>2013</td></tr><tr><td>2013</td></tr><tr><td>2013</td></tr><tr><td>2013</td></tr><tr><td>2013</td></tr><tr><td>2013</td></tr><tr><td>2013</td></tr><tr><td>2013</td></tr><tr><td>2013</td></tr><tr><td>2013</td></tr><tr><td>2013</td></tr><tr><td>2013</td></tr><tr><td>2013</td></tr><tr><td>2013</td></tr><tr><td>2013</td></tr><tr><td>2013</td></tr><tr><td>2013</td></tr><tr><td>2013</td></tr><tr><td>2013</td></tr><tr><td>2013</td></tr><tr><td>2013</td></tr><tr><td>2013</td></tr><tr><td>2013</td></tr><tr><td>2013</td></tr><tr><td>2013</td></tr><tr><td>2013</td></tr><tr><td>2013</td></tr><tr><td>2013</td></tr><tr><td>2013</td></tr><tr><td>2013</td></tr><tr><td>2013</td></tr><tr><td>2013</td></tr><tr><td>2013</td></tr><tr><td>2013</td></tr><tr><td>2013</td></tr><tr><td>2013</td></tr><tr><td>2013</td></tr><tr><td>2013</td></tr><tr><td>2013</td></tr><tr><td>2013</td></tr><tr><td>2013</td></tr><tr><td>2013</td></tr><tr><td>2013</td></tr><tr><td>2013</td></tr><tr><td>2013</td></tr><tr><td>2013</td></tr><tr><td>2013</td></tr><tr><td>2013</td></tr><tr><td>2013</td></tr><tr><td>2013</td></tr><tr><td>2013</td></tr><tr><td>2013</td></tr><tr><td>2013</td></tr><tr><td>2013</td></tr><tr><td>2013</td></tr><tr><td>2013</td></tr><tr><td>2013</td></tr><tr><td>2013</td></tr><tr><td>2013</td></tr><tr><td>2013</td></tr><tr><td>2013</td></tr><tr><td>2013</td></tr><tr><td>2013</td></tr><tr><td>2013</td></tr><tr><td>2013</td></tr><tr><td>2013</td></tr><tr><td>2013</td></tr><tr><td>2013</td></tr><tr><td>2013</td></tr><tr><td>2013</td></tr><tr><td>2013</td></tr><tr><td>2013</td></tr><tr><td>2013</td></tr><tr><td>2013</td></tr><tr><td>2013</td></tr><tr><td>2013</td></tr><tr><td>2013</td></tr><tr><td>2013</td></tr><tr><td>2013</td></tr><tr><td>2013</td></tr><tr><td>2013</td></tr><tr><td>2013</td></tr><tr><td>2013</td></tr><tr><td>2013</td></tr><tr><td>2013</td></tr><tr><td>2013</td></tr><tr><td>2013</td></tr><tr><td>2013</td></tr><tr><td>2013</td></tr><tr><td>2013</td></tr><tr><td>2013</td></tr><tr><td>2013</td></tr><tr><td>2013</td></tr><tr><td>2013</td></tr><tr><td>2013</td></tr><tr><td>2013</td></tr><tr><td>2013</td></tr><tr><td>2013</td></tr><tr><td>2013</td></tr><tr><td>2013</td></tr><tr><td>2013</td></tr><tr><td>2013</td></tr><tr><td>2013</td></tr><tr><td>2013</td></tr><tr><td>2013</td></tr><tr><td>2013</td></tr><tr><td>2013</td></tr><tr><td>2013</td></tr><tr><td>2013</td></tr><tr><td>2013</td></tr><tr><td>2013</td></tr><tr><td>2013</td></tr><tr><td>2013</td></tr><tr><td>2013</td></tr><tr><td>2013</td></tr><tr><td>2014</td></tr><tr><td>2014</td></tr><tr><td>2014</td></tr><tr><td>2014</td></tr><tr><td>2014</td></tr><tr><td>2014</td></tr><tr><td>2014</td></tr><tr><td>2014</td></tr><tr><td>2014</td></tr><tr><td>2014</td></tr><tr><td>2014</td></tr><tr><td>2014</td></tr><tr><td>2014</td></tr><tr><td>2014</td></tr><tr><td>2015</td></tr><tr><td>2015</td></tr><tr><td>2015</td></tr><tr><td>2015</td></tr><tr><td>2015</td></tr><tr><td>2015</td></tr><tr><td>2015</td></tr><tr><td>2015</td></tr><tr><td>2015</td></tr><tr><td>2015</td></tr><tr><td>2015</td></tr><tr><td>2015</td></tr><tr><td>2015</td></tr><tr><td>2015</td></tr><tr><td>2015</td></tr><tr><td>2015</td></tr><tr><td>2015</td></tr><tr><td>2015</td></tr><tr><td>2016</td></tr><tr><td>2016</td></tr><tr><td>2016</td></tr><tr><td>2016</td></tr><tr><td>2016</td></tr></table>"
                    },
                    "metadata": {
                        "resultSet": {
                            "id": 0,
                            "batchId": 0,
                            "rowCount": 663,
                            "complete": true,
                            "columnInfo": [
                                {
                                    "isBytes": false,
                                    "isChars": false,
                                    "isSqlVariant": false,
                                    "isUdt": false,
                                    "isXml": false,
                                    "isJson": false,
                                    "sqlDbType": 8,
                                    "isHierarchyId": false,
                                    "isSqlXmlType": false,
                                    "isUnknownType": false,
                                    "isUpdatable": false,
                                    "allowDBNull": true,
                                    "baseCatalogName": null,
                                    "baseColumnName": null,
                                    "baseSchemaName": null,
                                    "baseServerName": null,
                                    "baseTableName": null,
                                    "columnName": "(No column name)",
                                    "columnOrdinal": 0,
                                    "columnSize": 4,
                                    "isAliased": null,
                                    "isAutoIncrement": false,
                                    "isExpression": null,
                                    "isHidden": null,
                                    "isIdentity": false,
                                    "isKey": null,
                                    "isLong": false,
                                    "isReadOnly": true,
                                    "isUnique": false,
                                    "numericPrecision": 10,
                                    "numericScale": 255,
                                    "udtAssemblyQualifiedName": null,
                                    "dataType": "System.Int32, System.Private.CoreLib, Version=4.0.0.0, Culture=neutral, PublicKeyToken=7cec85d7bea7798e",
                                    "dataTypeName": "int"
                                }
                            ],
                            "specialAction": {
                                "none": true,
                                "expectYukonXMLShowPlan": false
                            }
                        }
                    }
                }
            ],
            "execution_count": 24
        },
        {
            "cell_type": "markdown",
            "source": [
                "Running this query shows a lot of repeated years - 663 rows. We can use the <code>DISTINCT</code> keyword in the SELECT clause to get the unique values. So let's update the query."
            ],
            "metadata": {
                "azdata_cell_guid": "26e9adda-b650-438f-b499-f5731da8a3c1"
            }
        },
        {
            "cell_type": "code",
            "source": [
                "SELECT DISTINCT YEAR(AccountOpenedDate) FROM Sales.Customers"
            ],
            "metadata": {
                "azdata_cell_guid": "178256f8-b1d8-4586-a2a2-43682bd62f4b"
            },
            "outputs": [
                {
                    "output_type": "display_data",
                    "data": {
                        "text/html": "(4 rows affected)"
                    },
                    "metadata": {}
                },
                {
                    "output_type": "display_data",
                    "data": {
                        "text/html": "Total execution time: 00:00:00.009"
                    },
                    "metadata": {}
                },
                {
                    "output_type": "execute_result",
                    "execution_count": 25,
                    "data": {
                        "application/vnd.dataresource+json": {
                            "schema": {
                                "fields": [
                                    {
                                        "name": "(No column name)"
                                    }
                                ]
                            },
                            "data": [
                                {
                                    "0": "2013"
                                },
                                {
                                    "0": "2014"
                                },
                                {
                                    "0": "2015"
                                },
                                {
                                    "0": "2016"
                                }
                            ]
                        },
                        "text/html": "<table><tr><th>(No column name)</th></tr><tr><td>2013</td></tr><tr><td>2014</td></tr><tr><td>2015</td></tr><tr><td>2016</td></tr></table>"
                    },
                    "metadata": {
                        "resultSet": {
                            "id": 0,
                            "batchId": 0,
                            "rowCount": 4,
                            "complete": true,
                            "columnInfo": [
                                {
                                    "isBytes": false,
                                    "isChars": false,
                                    "isSqlVariant": false,
                                    "isUdt": false,
                                    "isXml": false,
                                    "isJson": false,
                                    "sqlDbType": 8,
                                    "isHierarchyId": false,
                                    "isSqlXmlType": false,
                                    "isUnknownType": false,
                                    "isUpdatable": false,
                                    "allowDBNull": true,
                                    "baseCatalogName": null,
                                    "baseColumnName": null,
                                    "baseSchemaName": null,
                                    "baseServerName": null,
                                    "baseTableName": null,
                                    "columnName": "(No column name)",
                                    "columnOrdinal": 0,
                                    "columnSize": 4,
                                    "isAliased": null,
                                    "isAutoIncrement": false,
                                    "isExpression": null,
                                    "isHidden": null,
                                    "isIdentity": false,
                                    "isKey": null,
                                    "isLong": false,
                                    "isReadOnly": true,
                                    "isUnique": false,
                                    "numericPrecision": 10,
                                    "numericScale": 255,
                                    "udtAssemblyQualifiedName": null,
                                    "dataType": "System.Int32, System.Private.CoreLib, Version=4.0.0.0, Culture=neutral, PublicKeyToken=7cec85d7bea7798e",
                                    "dataTypeName": "int"
                                }
                            ],
                            "specialAction": {
                                "none": true,
                                "expectYukonXMLShowPlan": false
                            }
                        }
                    }
                }
            ],
            "execution_count": 25
        },
        {
            "cell_type": "markdown",
            "source": [
                "Suppose we want to see which customers opened accounts in 2014. We only care about the CustomerName and AccountOpenedDate. Let's look at the following query:"
            ],
            "metadata": {
                "azdata_cell_guid": "b640f208-e02a-49ac-b66f-124bb234b0fa"
            }
        },
        {
            "cell_type": "code",
            "source": [
                "SELECT CustomerName, AccountOpenedDate FROM Sales.Customers WHERE YEAR(AccountOpenedDate) = 2014"
            ],
            "metadata": {
                "azdata_cell_guid": "bd7c45ff-a2d3-48e0-b904-467c3bd4989e"
            },
            "outputs": [
                {
                    "output_type": "display_data",
                    "data": {
                        "text/html": "(14 rows affected)"
                    },
                    "metadata": {}
                },
                {
                    "output_type": "display_data",
                    "data": {
                        "text/html": "Total execution time: 00:00:00.024"
                    },
                    "metadata": {}
                },
                {
                    "output_type": "execute_result",
                    "execution_count": 28,
                    "data": {
                        "application/vnd.dataresource+json": {
                            "schema": {
                                "fields": [
                                    {
                                        "name": "CustomerName"
                                    },
                                    {
                                        "name": "AccountOpenedDate"
                                    }
                                ]
                            },
                            "data": [
                                {
                                    "0": "Tuulikki Linna",
                                    "1": "2014-01-15"
                                },
                                {
                                    "0": "Daniella Cavalcante",
                                    "1": "2014-01-17"
                                },
                                {
                                    "0": "Serdar ozden",
                                    "1": "2014-02-22"
                                },
                                {
                                    "0": "Emma Van Zant",
                                    "1": "2014-05-14"
                                },
                                {
                                    "0": "Veronika Necesana",
                                    "1": "2014-05-18"
                                },
                                {
                                    "0": "Chompoo Atitarn",
                                    "1": "2014-06-18"
                                },
                                {
                                    "0": "Dipti Shah",
                                    "1": "2014-08-03"
                                },
                                {
                                    "0": "Som Mukherjee",
                                    "1": "2014-08-25"
                                },
                                {
                                    "0": "Cuneyt Arslan",
                                    "1": "2014-08-26"
                                },
                                {
                                    "0": "Aishwarya Dantuluri",
                                    "1": "2014-09-03"
                                },
                                {
                                    "0": "Manjunatha Karnik",
                                    "1": "2014-11-08"
                                },
                                {
                                    "0": "Erik Malk",
                                    "1": "2014-11-13"
                                },
                                {
                                    "0": "David Jaramillo",
                                    "1": "2014-11-21"
                                },
                                {
                                    "0": "Damodara Trivedi",
                                    "1": "2014-12-03"
                                }
                            ]
                        },
                        "text/html": "<table><tr><th>CustomerName</th><th>AccountOpenedDate</th></tr><tr><td>Tuulikki Linna</td><td>2014-01-15</td></tr><tr><td>Daniella Cavalcante</td><td>2014-01-17</td></tr><tr><td>Serdar ozden</td><td>2014-02-22</td></tr><tr><td>Emma Van Zant</td><td>2014-05-14</td></tr><tr><td>Veronika Necesana</td><td>2014-05-18</td></tr><tr><td>Chompoo Atitarn</td><td>2014-06-18</td></tr><tr><td>Dipti Shah</td><td>2014-08-03</td></tr><tr><td>Som Mukherjee</td><td>2014-08-25</td></tr><tr><td>Cuneyt Arslan</td><td>2014-08-26</td></tr><tr><td>Aishwarya Dantuluri</td><td>2014-09-03</td></tr><tr><td>Manjunatha Karnik</td><td>2014-11-08</td></tr><tr><td>Erik Malk</td><td>2014-11-13</td></tr><tr><td>David Jaramillo</td><td>2014-11-21</td></tr><tr><td>Damodara Trivedi</td><td>2014-12-03</td></tr></table>"
                    },
                    "metadata": {
                        "resultSet": {
                            "id": 0,
                            "batchId": 0,
                            "rowCount": 14,
                            "complete": true,
                            "columnInfo": [
                                {
                                    "isBytes": false,
                                    "isChars": true,
                                    "isSqlVariant": false,
                                    "isUdt": false,
                                    "isXml": false,
                                    "isJson": false,
                                    "sqlDbType": 12,
                                    "isHierarchyId": false,
                                    "isSqlXmlType": false,
                                    "isUnknownType": false,
                                    "isUpdatable": true,
                                    "allowDBNull": false,
                                    "baseCatalogName": null,
                                    "baseColumnName": null,
                                    "baseSchemaName": null,
                                    "baseServerName": null,
                                    "baseTableName": null,
                                    "columnName": "CustomerName",
                                    "columnOrdinal": 0,
                                    "columnSize": 100,
                                    "isAliased": null,
                                    "isAutoIncrement": false,
                                    "isExpression": null,
                                    "isHidden": null,
                                    "isIdentity": false,
                                    "isKey": null,
                                    "isLong": false,
                                    "isReadOnly": false,
                                    "isUnique": false,
                                    "numericPrecision": 255,
                                    "numericScale": 255,
                                    "udtAssemblyQualifiedName": null,
                                    "dataType": "System.String, System.Private.CoreLib, Version=4.0.0.0, Culture=neutral, PublicKeyToken=7cec85d7bea7798e",
                                    "dataTypeName": "nvarchar"
                                },
                                {
                                    "isBytes": false,
                                    "isChars": false,
                                    "isSqlVariant": false,
                                    "isUdt": false,
                                    "isXml": false,
                                    "isJson": false,
                                    "sqlDbType": 31,
                                    "isHierarchyId": false,
                                    "isSqlXmlType": false,
                                    "isUnknownType": false,
                                    "isUpdatable": true,
                                    "allowDBNull": false,
                                    "baseCatalogName": null,
                                    "baseColumnName": null,
                                    "baseSchemaName": null,
                                    "baseServerName": null,
                                    "baseTableName": null,
                                    "columnName": "AccountOpenedDate",
                                    "columnOrdinal": 1,
                                    "columnSize": 3,
                                    "isAliased": null,
                                    "isAutoIncrement": false,
                                    "isExpression": null,
                                    "isHidden": null,
                                    "isIdentity": false,
                                    "isKey": null,
                                    "isLong": false,
                                    "isReadOnly": false,
                                    "isUnique": false,
                                    "numericPrecision": 255,
                                    "numericScale": 255,
                                    "udtAssemblyQualifiedName": null,
                                    "dataType": "System.DateTime, System.Private.CoreLib, Version=4.0.0.0, Culture=neutral, PublicKeyToken=7cec85d7bea7798e",
                                    "dataTypeName": "date"
                                }
                            ],
                            "specialAction": {
                                "none": true,
                                "expectYukonXMLShowPlan": false
                            }
                        }
                    }
                }
            ],
            "execution_count": 28
        },
        {
            "cell_type": "markdown",
            "source": [
                "### AND keyword\n",
                "\n",
                "Suppose you have a salesperson who remembered bringing in the Dipti Shah account. That salesperson wanted to see what accounts were added in the month. Rather than looking up the date and writing a query to find all accounts in that month, we can store Dipti's account opened date in a variable and then query for all accounts added in that month, using MONTH to filter for a month, AND to allow additional filtering, and YEAR to filter the year.\n",
                "\n",
                "SQL variables are declared with the DECLARE keyword, the variable name preceded by an at-sign<code>@</code>, and the variable type. The variable declaration may also include an assignment using the<code>=</code>operator and a value. Multiple variables can be declared with variable names and types in a single DECLARE statement.<br>\n",
                "\n",
                "We can use a SELECT clause with the <code>=</code> operator to save a value in a variable. That looks like this:<br>"
            ],
            "metadata": {
                "azdata_cell_guid": "03ee40a2-3364-4928-84b2-f07747cf1a2e"
            }
        },
        {
            "cell_type": "code",
            "source": [
                "DECLARE @ShahAccountDate DATETIME\r\n",
                "SELECT @ShahAccountDate = AccountOpenedDate FROM Sales.Customers WHERE CustomerName = 'Dipti Shah'\r\n",
                "SELECT CustomerName, AccountOpenedDate FROM Sales.Customers WHERE MONTH(AccountOpenedDate) = MONTH(@ShahAccountDate) AND YEAR(AccountOpenedDate) = YEAR(@ShahAccountDate)"
            ],
            "metadata": {
                "azdata_cell_guid": "51eb4416-5124-47d9-bc77-978ed697eef2"
            },
            "outputs": [
                {
                    "output_type": "display_data",
                    "data": {
                        "text/html": "(3 rows affected)"
                    },
                    "metadata": {}
                },
                {
                    "output_type": "display_data",
                    "data": {
                        "text/html": "Total execution time: 00:00:00.019"
                    },
                    "metadata": {}
                },
                {
                    "output_type": "execute_result",
                    "execution_count": 35,
                    "data": {
                        "application/vnd.dataresource+json": {
                            "schema": {
                                "fields": [
                                    {
                                        "name": "CustomerName"
                                    },
                                    {
                                        "name": "AccountOpenedDate"
                                    }
                                ]
                            },
                            "data": [
                                {
                                    "0": "Dipti Shah",
                                    "1": "2014-08-03"
                                },
                                {
                                    "0": "Som Mukherjee",
                                    "1": "2014-08-25"
                                },
                                {
                                    "0": "Cuneyt Arslan",
                                    "1": "2014-08-26"
                                }
                            ]
                        },
                        "text/html": "<table><tr><th>CustomerName</th><th>AccountOpenedDate</th></tr><tr><td>Dipti Shah</td><td>2014-08-03</td></tr><tr><td>Som Mukherjee</td><td>2014-08-25</td></tr><tr><td>Cuneyt Arslan</td><td>2014-08-26</td></tr></table>"
                    },
                    "metadata": {
                        "resultSet": {
                            "id": 0,
                            "batchId": 0,
                            "rowCount": 3,
                            "complete": true,
                            "columnInfo": [
                                {
                                    "isBytes": false,
                                    "isChars": true,
                                    "isSqlVariant": false,
                                    "isUdt": false,
                                    "isXml": false,
                                    "isJson": false,
                                    "sqlDbType": 12,
                                    "isHierarchyId": false,
                                    "isSqlXmlType": false,
                                    "isUnknownType": false,
                                    "isUpdatable": true,
                                    "allowDBNull": false,
                                    "baseCatalogName": null,
                                    "baseColumnName": null,
                                    "baseSchemaName": null,
                                    "baseServerName": null,
                                    "baseTableName": null,
                                    "columnName": "CustomerName",
                                    "columnOrdinal": 0,
                                    "columnSize": 100,
                                    "isAliased": null,
                                    "isAutoIncrement": false,
                                    "isExpression": null,
                                    "isHidden": null,
                                    "isIdentity": false,
                                    "isKey": null,
                                    "isLong": false,
                                    "isReadOnly": false,
                                    "isUnique": false,
                                    "numericPrecision": 255,
                                    "numericScale": 255,
                                    "udtAssemblyQualifiedName": null,
                                    "dataType": "System.String, System.Private.CoreLib, Version=4.0.0.0, Culture=neutral, PublicKeyToken=7cec85d7bea7798e",
                                    "dataTypeName": "nvarchar"
                                },
                                {
                                    "isBytes": false,
                                    "isChars": false,
                                    "isSqlVariant": false,
                                    "isUdt": false,
                                    "isXml": false,
                                    "isJson": false,
                                    "sqlDbType": 31,
                                    "isHierarchyId": false,
                                    "isSqlXmlType": false,
                                    "isUnknownType": false,
                                    "isUpdatable": true,
                                    "allowDBNull": false,
                                    "baseCatalogName": null,
                                    "baseColumnName": null,
                                    "baseSchemaName": null,
                                    "baseServerName": null,
                                    "baseTableName": null,
                                    "columnName": "AccountOpenedDate",
                                    "columnOrdinal": 1,
                                    "columnSize": 3,
                                    "isAliased": null,
                                    "isAutoIncrement": false,
                                    "isExpression": null,
                                    "isHidden": null,
                                    "isIdentity": false,
                                    "isKey": null,
                                    "isLong": false,
                                    "isReadOnly": false,
                                    "isUnique": false,
                                    "numericPrecision": 255,
                                    "numericScale": 255,
                                    "udtAssemblyQualifiedName": null,
                                    "dataType": "System.DateTime, System.Private.CoreLib, Version=4.0.0.0, Culture=neutral, PublicKeyToken=7cec85d7bea7798e",
                                    "dataTypeName": "date"
                                }
                            ],
                            "specialAction": {
                                "none": true,
                                "expectYukonXMLShowPlan": false
                            }
                        }
                    }
                }
            ],
            "execution_count": 35
        },
        {
            "cell_type": "markdown",
            "source": [
                "The salesperson was having a conversation with some others and wanted to know about the accounts opened in 2013 for companies that don't have Toys in their name. Tailspin Toys and Wingtip Toys both started with the Wide World Importers in 2013. The salesperson wants a list of customers who are not them.\n",
                "\n",
                "We can use our AND clause to filter for the year AND a LIKE clause to filter the customer name. We can add the NOT keyword to say we want all customers that do not match our pattern - NOT LIKE. The query for all customer accounts opened in 2013 that don't have Toys in their name looks like this:"
            ],
            "metadata": {
                "azdata_cell_guid": "94c1af67-9b0e-45a0-8b77-5cfb3aa3ca92"
            }
        },
        {
            "cell_type": "code",
            "source": [
                "SELECT CustomerName, AccountOpenedDate FROM Sales.Customers WHERE YEAR(AccountOpenedDate) = 2013 AND CustomerName NOT LIKE '%Toys%'"
            ],
            "metadata": {
                "azdata_cell_guid": "ec653cfb-e46c-44a1-bcaf-644b832e2348"
            },
            "outputs": [
                {
                    "output_type": "display_data",
                    "data": {
                        "text/html": "(224 rows affected)"
                    },
                    "metadata": {}
                },
                {
                    "output_type": "display_data",
                    "data": {
                        "text/html": "Total execution time: 00:00:00.015"
                    },
                    "metadata": {}
                },
                {
                    "output_type": "execute_result",
                    "execution_count": 43,
                    "data": {
                        "application/vnd.dataresource+json": {
                            "schema": {
                                "fields": [
                                    {
                                        "name": "CustomerName"
                                    },
                                    {
                                        "name": "AccountOpenedDate"
                                    }
                                ]
                            },
                            "data": [
                                {
                                    "0": "Eric Torres",
                                    "1": "2013-01-01"
                                },
                                {
                                    "0": "Cosmina Vlad",
                                    "1": "2013-01-01"
                                },
                                {
                                    "0": "Bala Dixit",
                                    "1": "2013-01-01"
                                },
                                {
                                    "0": "Aleksandrs Riekstins",
                                    "1": "2013-01-01"
                                },
                                {
                                    "0": "Ratan Poddar",
                                    "1": "2013-01-01"
                                },
                                {
                                    "0": "Shi Tu",
                                    "1": "2013-01-01"
                                },
                                {
                                    "0": "Gunnar Lohmus",
                                    "1": "2013-01-01"
                                },
                                {
                                    "0": "Jackson Kolios",
                                    "1": "2013-01-01"
                                },
                                {
                                    "0": "Madhu Dwivedi",
                                    "1": "2013-01-01"
                                },
                                {
                                    "0": "Alena Kellnerova",
                                    "1": "2013-01-01"
                                },
                                {
                                    "0": "Surendra Sahu",
                                    "1": "2013-01-01"
                                },
                                {
                                    "0": "Celica Barajas",
                                    "1": "2013-01-01"
                                },
                                {
                                    "0": "Shyam Poddar",
                                    "1": "2013-01-01"
                                },
                                {
                                    "0": "Johanna Hoornstra",
                                    "1": "2013-01-01"
                                },
                                {
                                    "0": "Libuse Valentova",
                                    "1": "2013-01-01"
                                },
                                {
                                    "0": "Harsha Huq",
                                    "1": "2013-01-01"
                                },
                                {
                                    "0": "Agrita Kanepa",
                                    "1": "2013-01-01"
                                },
                                {
                                    "0": "Liia Orav",
                                    "1": "2013-01-01"
                                },
                                {
                                    "0": "Santiago Vera",
                                    "1": "2013-01-01"
                                },
                                {
                                    "0": "Knut Svensson",
                                    "1": "2013-01-01"
                                },
                                {
                                    "0": "Kwanjai Saowaluk",
                                    "1": "2013-01-01"
                                },
                                {
                                    "0": "Suparna Bhattacharya",
                                    "1": "2013-01-01"
                                },
                                {
                                    "0": "Francisca Laureano",
                                    "1": "2013-01-01"
                                },
                                {
                                    "0": "Risto Valbe",
                                    "1": "2013-01-01"
                                },
                                {
                                    "0": "Jayanta Thakur",
                                    "1": "2013-01-01"
                                },
                                {
                                    "0": "Leila Carvalho",
                                    "1": "2013-01-01"
                                },
                                {
                                    "0": "Crina Grasu",
                                    "1": "2013-01-01"
                                },
                                {
                                    "0": "Sercan Celik",
                                    "1": "2013-01-01"
                                },
                                {
                                    "0": "Jack Walker",
                                    "1": "2013-01-01"
                                },
                                {
                                    "0": "Jana Fialova",
                                    "1": "2013-01-01"
                                },
                                {
                                    "0": "Bhaavan Rai",
                                    "1": "2013-01-01"
                                },
                                {
                                    "0": "Aakriti Byrraju",
                                    "1": "2013-01-01"
                                },
                                {
                                    "0": "Devraj Rao",
                                    "1": "2013-01-01"
                                },
                                {
                                    "0": "Cong Hoa",
                                    "1": "2013-01-01"
                                },
                                {
                                    "0": "Dominic Davignon",
                                    "1": "2013-01-01"
                                },
                                {
                                    "0": "Abel Spirlea",
                                    "1": "2013-01-01"
                                },
                                {
                                    "0": "Anil Sarkar",
                                    "1": "2013-01-01"
                                },
                                {
                                    "0": "Pavel Bogdanov",
                                    "1": "2013-01-01"
                                },
                                {
                                    "0": "Juan Morse",
                                    "1": "2013-01-01"
                                },
                                {
                                    "0": "Rodrigo Figueiredo",
                                    "1": "2013-01-01"
                                },
                                {
                                    "0": "Camille Authier",
                                    "1": "2013-01-01"
                                },
                                {
                                    "0": "Biju Deb",
                                    "1": "2013-01-01"
                                },
                                {
                                    "0": "Marija Justina Pasek",
                                    "1": "2013-01-01"
                                },
                                {
                                    "0": "Durdanah Abbasi",
                                    "1": "2013-01-01"
                                },
                                {
                                    "0": "Emilie Hrdlickova",
                                    "1": "2013-01-01"
                                },
                                {
                                    "0": "Malorie Bousquet",
                                    "1": "2013-01-01"
                                },
                                {
                                    "0": "Kristiina Ivanov",
                                    "1": "2013-01-01"
                                },
                                {
                                    "0": "Alvin Bollinger",
                                    "1": "2013-01-01"
                                },
                                {
                                    "0": "Sabine Zalite",
                                    "1": "2013-01-01"
                                },
                                {
                                    "0": "Daakshaayaani Sankaramanchi",
                                    "1": "2013-01-01"
                                },
                                {
                                    "0": "Ebru Erdogan",
                                    "1": "2013-01-01"
                                },
                                {
                                    "0": "Bhagavaan Atluri",
                                    "1": "2013-01-01"
                                },
                                {
                                    "0": "Caterina Pinto",
                                    "1": "2013-01-01"
                                },
                                {
                                    "0": "Daakshaayaani Kommineni",
                                    "1": "2013-01-01"
                                },
                                {
                                    "0": "Anna Mazzanti",
                                    "1": "2013-01-01"
                                },
                                {
                                    "0": "Satish Mittal",
                                    "1": "2013-01-01"
                                },
                                {
                                    "0": "Clarissa Manfrin",
                                    "1": "2013-01-01"
                                },
                                {
                                    "0": "Bimla PrabhupÄda",
                                    "1": "2013-01-01"
                                },
                                {
                                    "0": "Shah Alizadeh",
                                    "1": "2013-01-01"
                                },
                                {
                                    "0": "Marcela Lucescu",
                                    "1": "2013-01-01"
                                },
                                {
                                    "0": "Amarasimha Vinjamuri",
                                    "1": "2013-01-01"
                                },
                                {
                                    "0": "Lana Goransson",
                                    "1": "2013-01-01"
                                },
                                {
                                    "0": "Jakub Lukes",
                                    "1": "2013-01-01"
                                },
                                {
                                    "0": "Mikhail Degtyarev",
                                    "1": "2013-01-01"
                                },
                                {
                                    "0": "Bijoya Thakur",
                                    "1": "2013-01-01"
                                },
                                {
                                    "0": "Jay Bhuiyan",
                                    "1": "2013-01-01"
                                },
                                {
                                    "0": "Jasna Cerkez",
                                    "1": "2013-01-01"
                                },
                                {
                                    "0": "Laura Sykorova",
                                    "1": "2013-01-01"
                                },
                                {
                                    "0": "Abel Tatarescu",
                                    "1": "2013-01-01"
                                },
                                {
                                    "0": "In-Su Bae",
                                    "1": "2013-01-01"
                                },
                                {
                                    "0": "Darshana Madhunapantula",
                                    "1": "2013-01-01"
                                },
                                {
                                    "0": "Katerina Hadrabova",
                                    "1": "2013-01-01"
                                },
                                {
                                    "0": "Hana Hlouskova",
                                    "1": "2013-01-01"
                                },
                                {
                                    "0": "Daniel Martensson",
                                    "1": "2013-01-01"
                                },
                                {
                                    "0": "Philip Walker",
                                    "1": "2013-01-01"
                                },
                                {
                                    "0": "Marie LeBatelier",
                                    "1": "2013-01-01"
                                },
                                {
                                    "0": "Leyla Siavashi",
                                    "1": "2013-01-01"
                                },
                                {
                                    "0": "Miriam House",
                                    "1": "2013-01-01"
                                },
                                {
                                    "0": "Jitka Necesana",
                                    "1": "2013-01-01"
                                },
                                {
                                    "0": "Edmee Glissen",
                                    "1": "2013-01-01"
                                },
                                {
                                    "0": "Magdalena Michnova",
                                    "1": "2013-01-01"
                                },
                                {
                                    "0": "Maryann Huddleston",
                                    "1": "2013-01-01"
                                },
                                {
                                    "0": "Radha Barua",
                                    "1": "2013-01-01"
                                },
                                {
                                    "0": "Anindya Ghatak",
                                    "1": "2013-01-01"
                                },
                                {
                                    "0": "Chandrashekhar Dasgupta",
                                    "1": "2013-01-01"
                                },
                                {
                                    "0": "Debbie Molina",
                                    "1": "2013-01-01"
                                },
                                {
                                    "0": "Baran Jonsson",
                                    "1": "2013-01-01"
                                },
                                {
                                    "0": "Jai Lamble",
                                    "1": "2013-01-01"
                                },
                                {
                                    "0": "Sointu Savonheimo",
                                    "1": "2013-01-01"
                                },
                                {
                                    "0": "Olya Izmaylov",
                                    "1": "2013-01-01"
                                },
                                {
                                    "0": "Taneli Riutta",
                                    "1": "2013-01-01"
                                },
                                {
                                    "0": "Bahaar Asef zade",
                                    "1": "2013-01-01"
                                },
                                {
                                    "0": "Leyla Asef zade",
                                    "1": "2013-01-01"
                                },
                                {
                                    "0": "Gabriela Hernandes",
                                    "1": "2013-01-01"
                                },
                                {
                                    "0": "Geza Roman",
                                    "1": "2013-01-01"
                                },
                                {
                                    "0": "Leonardo Folliero",
                                    "1": "2013-01-01"
                                },
                                {
                                    "0": "Allan Mannik",
                                    "1": "2013-01-01"
                                },
                                {
                                    "0": "Gopalgobinda Sikdar",
                                    "1": "2013-01-01"
                                },
                                {
                                    "0": "Chin-Sun Chang",
                                    "1": "2013-01-01"
                                },
                                {
                                    "0": "Lilli Sokk",
                                    "1": "2013-01-01"
                                },
                                {
                                    "0": "Adrian Andreasson",
                                    "1": "2013-01-01"
                                },
                                {
                                    "0": "Kamila Michnova",
                                    "1": "2013-01-01"
                                },
                                {
                                    "0": "Bing Han",
                                    "1": "2013-01-01"
                                },
                                {
                                    "0": "Olafs Rozitis",
                                    "1": "2013-01-01"
                                },
                                {
                                    "0": "Sara Huiting",
                                    "1": "2013-01-01"
                                },
                                {
                                    "0": "Ajitaab Pakalapati",
                                    "1": "2013-01-01"
                                },
                                {
                                    "0": "Eugen Agafitei",
                                    "1": "2013-01-01"
                                },
                                {
                                    "0": "Sumati Bhat",
                                    "1": "2013-01-01"
                                },
                                {
                                    "0": "Dena Glissen",
                                    "1": "2013-01-01"
                                },
                                {
                                    "0": "Elina Kaleja",
                                    "1": "2013-01-01"
                                },
                                {
                                    "0": "Liidia Lepp",
                                    "1": "2013-01-01"
                                },
                                {
                                    "0": "Volkan senturk",
                                    "1": "2013-01-01"
                                },
                                {
                                    "0": "Violetta KlanCisar",
                                    "1": "2013-01-01"
                                },
                                {
                                    "0": "Chandana Shasthri",
                                    "1": "2013-01-01"
                                },
                                {
                                    "0": "Ana Florea",
                                    "1": "2013-01-01"
                                },
                                {
                                    "0": "Pinja Jantunen",
                                    "1": "2013-01-01"
                                },
                                {
                                    "0": "Pari Hosseini",
                                    "1": "2013-01-01"
                                },
                                {
                                    "0": "Isidora Morales",
                                    "1": "2013-01-01"
                                },
                                {
                                    "0": "Kertu Sokk",
                                    "1": "2013-01-01"
                                },
                                {
                                    "0": "Gayatri Gajula",
                                    "1": "2013-01-01"
                                },
                                {
                                    "0": "Victoria Lacusta",
                                    "1": "2013-01-01"
                                },
                                {
                                    "0": "Sumati Chatterjee",
                                    "1": "2013-01-01"
                                },
                                {
                                    "0": "Tai Bach",
                                    "1": "2013-01-01"
                                },
                                {
                                    "0": "Eva Schulteisz",
                                    "1": "2013-01-01"
                                },
                                {
                                    "0": "Can ozcan",
                                    "1": "2013-01-01"
                                },
                                {
                                    "0": "Richard Friar",
                                    "1": "2013-01-01"
                                },
                                {
                                    "0": "Matyas Sedlar",
                                    "1": "2013-01-01"
                                },
                                {
                                    "0": "Arijit Bhuiyan",
                                    "1": "2013-01-01"
                                },
                                {
                                    "0": "Vladimir Henzl",
                                    "1": "2013-01-01"
                                },
                                {
                                    "0": "Shantanu Huq",
                                    "1": "2013-01-01"
                                },
                                {
                                    "0": "Nada Jovanovic",
                                    "1": "2013-01-01"
                                },
                                {
                                    "0": "Nicolo Cattaneo",
                                    "1": "2013-01-01"
                                },
                                {
                                    "0": "Joel Carrillo",
                                    "1": "2013-01-01"
                                },
                                {
                                    "0": "Ivan Sepulveda",
                                    "1": "2013-01-01"
                                },
                                {
                                    "0": "Daevasree Samavedam",
                                    "1": "2013-01-01"
                                },
                                {
                                    "0": "Ludmila Smidova",
                                    "1": "2013-01-01"
                                },
                                {
                                    "0": "Manca Hrastovsek",
                                    "1": "2013-01-01"
                                },
                                {
                                    "0": "Anna Gyarmathi",
                                    "1": "2013-01-01"
                                },
                                {
                                    "0": "Ioana Florea",
                                    "1": "2013-01-01"
                                },
                                {
                                    "0": "Lorin Astrom",
                                    "1": "2013-01-01"
                                },
                                {
                                    "0": "Bishwa Chatterjee",
                                    "1": "2013-01-01"
                                },
                                {
                                    "0": "Chaayaadaevi Sonti",
                                    "1": "2013-01-01"
                                },
                                {
                                    "0": "Drazenka Jelic",
                                    "1": "2013-01-01"
                                },
                                {
                                    "0": "Ida Celma",
                                    "1": "2013-01-01"
                                },
                                {
                                    "0": "Hoc Tran",
                                    "1": "2013-01-01"
                                },
                                {
                                    "0": "David safranek",
                                    "1": "2013-01-01"
                                },
                                {
                                    "0": "Svetlana Todorovic",
                                    "1": "2013-01-01"
                                },
                                {
                                    "0": "Richard Zahradnicek",
                                    "1": "2013-01-01"
                                },
                                {
                                    "0": "Seo-yun Paik",
                                    "1": "2013-01-01"
                                },
                                {
                                    "0": "Emily Whittle",
                                    "1": "2013-01-01"
                                },
                                {
                                    "0": "Eliza Persson",
                                    "1": "2013-01-01"
                                },
                                {
                                    "0": "Chuan Wattanasin",
                                    "1": "2013-01-01"
                                },
                                {
                                    "0": "Linh Dao",
                                    "1": "2013-01-01"
                                },
                                {
                                    "0": "Nasrin Omidzadeh",
                                    "1": "2013-01-01"
                                },
                                {
                                    "0": "Raghu Sandhu",
                                    "1": "2013-01-01"
                                },
                                {
                                    "0": "Nhung Thach",
                                    "1": "2013-01-01"
                                },
                                {
                                    "0": "Hee-Young Suh",
                                    "1": "2013-01-01"
                                },
                                {
                                    "0": "Valentin Tirlea",
                                    "1": "2013-01-01"
                                },
                                {
                                    "0": "Dhaatri Chavva",
                                    "1": "2013-01-01"
                                },
                                {
                                    "0": "Edgar Jogi",
                                    "1": "2013-01-01"
                                },
                                {
                                    "0": "Rani Ganguly",
                                    "1": "2013-01-01"
                                },
                                {
                                    "0": "Bhagavati Vinjamuri",
                                    "1": "2013-01-01"
                                },
                                {
                                    "0": "Be Trang",
                                    "1": "2013-01-01"
                                },
                                {
                                    "0": "Ingrida Zeltina",
                                    "1": "2013-01-01"
                                },
                                {
                                    "0": "Phoung Cu",
                                    "1": "2013-01-01"
                                },
                                {
                                    "0": "Sara Walkky",
                                    "1": "2013-01-01"
                                },
                                {
                                    "0": "Meera Patel",
                                    "1": "2013-01-01"
                                },
                                {
                                    "0": "Anca Gogean",
                                    "1": "2013-01-01"
                                },
                                {
                                    "0": "Staffan Persson",
                                    "1": "2013-01-01"
                                },
                                {
                                    "0": "Isidora Urias",
                                    "1": "2013-01-01"
                                },
                                {
                                    "0": "Dhanishta Mokkapati",
                                    "1": "2013-01-01"
                                },
                                {
                                    "0": "Lakshmi Benipal",
                                    "1": "2013-01-01"
                                },
                                {
                                    "0": "Kumar Kamei",
                                    "1": "2013-01-01"
                                },
                                {
                                    "0": "Emil Roman",
                                    "1": "2013-01-01"
                                },
                                {
                                    "0": "Prabodh Nair",
                                    "1": "2013-01-01"
                                },
                                {
                                    "0": "Alinne Matos",
                                    "1": "2013-01-01"
                                },
                                {
                                    "0": "Mauno Laurila",
                                    "1": "2013-01-01"
                                },
                                {
                                    "0": "Baalaamjali Devulapalli",
                                    "1": "2013-01-01"
                                },
                                {
                                    "0": "Melani Ravlen",
                                    "1": "2013-01-01"
                                },
                                {
                                    "0": "Om Yadav",
                                    "1": "2013-01-01"
                                },
                                {
                                    "0": "Mahmut ozbek",
                                    "1": "2013-01-01"
                                },
                                {
                                    "0": "Yves Belisle",
                                    "1": "2013-01-01"
                                },
                                {
                                    "0": "Sabine Alksne",
                                    "1": "2013-01-01"
                                },
                                {
                                    "0": "Kamala Nishad",
                                    "1": "2013-01-01"
                                },
                                {
                                    "0": "Roko Ilic",
                                    "1": "2013-01-01"
                                },
                                {
                                    "0": "Neil Farrelly",
                                    "1": "2013-01-01"
                                },
                                {
                                    "0": "Akhil Nadar",
                                    "1": "2013-01-01"
                                },
                                {
                                    "0": "Maksims Krastins",
                                    "1": "2013-01-01"
                                },
                                {
                                    "0": "Milinka Zujovic",
                                    "1": "2013-01-01"
                                },
                                {
                                    "0": "Andris Saulitis",
                                    "1": "2013-01-01"
                                },
                                {
                                    "0": "Valter Viiding",
                                    "1": "2013-01-01"
                                },
                                {
                                    "0": "Amarakumaar Gadiyaram",
                                    "1": "2013-01-01"
                                },
                                {
                                    "0": "Gasper Havzija",
                                    "1": "2013-01-01"
                                },
                                {
                                    "0": "Libuse Kuchtova",
                                    "1": "2013-01-01"
                                },
                                {
                                    "0": "Kumar Naicker",
                                    "1": "2013-01-01"
                                },
                                {
                                    "0": "Laszlo Gardenier",
                                    "1": "2013-01-01"
                                },
                                {
                                    "0": "Nada Ana Slosar",
                                    "1": "2013-01-01"
                                },
                                {
                                    "0": "Mahavir Sonkar",
                                    "1": "2013-01-01"
                                },
                                {
                                    "0": "Kristi Part",
                                    "1": "2013-01-01"
                                },
                                {
                                    "0": "Krishnam Allu",
                                    "1": "2013-01-01"
                                },
                                {
                                    "0": "Dinh Mai",
                                    "1": "2013-01-27"
                                },
                                {
                                    "0": "Stefan Selezeanu",
                                    "1": "2013-02-22"
                                },
                                {
                                    "0": "Hue Ton",
                                    "1": "2013-03-25"
                                },
                                {
                                    "0": "Drishti Bose",
                                    "1": "2013-04-01"
                                },
                                {
                                    "0": "Bhadram Kamasamudram",
                                    "1": "2013-04-06"
                                },
                                {
                                    "0": "Taj Syme",
                                    "1": "2013-04-10"
                                },
                                {
                                    "0": "Irma Berzina",
                                    "1": "2013-04-13"
                                },
                                {
                                    "0": "Vedrana Kovacevic",
                                    "1": "2013-04-14"
                                },
                                {
                                    "0": "Bhagavateeprasaad Malladi",
                                    "1": "2013-05-03"
                                },
                                {
                                    "0": "Serdar ozCelik",
                                    "1": "2013-05-06"
                                },
                                {
                                    "0": "Rajeev Sandhu",
                                    "1": "2013-06-11"
                                },
                                {
                                    "0": "Urve Kasesalu",
                                    "1": "2013-06-16"
                                },
                                {
                                    "0": "Annette  Hetu",
                                    "1": "2013-06-22"
                                },
                                {
                                    "0": "Narendra Tickoo",
                                    "1": "2013-07-18"
                                },
                                {
                                    "0": "Isa Hulsegge",
                                    "1": "2013-08-01"
                                },
                                {
                                    "0": "Aive Petrov",
                                    "1": "2013-08-10"
                                },
                                {
                                    "0": "David Novacek ",
                                    "1": "2013-08-15"
                                },
                                {
                                    "0": "Nils Kaulins",
                                    "1": "2013-09-08"
                                },
                                {
                                    "0": "Dhanishta Pullela",
                                    "1": "2013-10-03"
                                },
                                {
                                    "0": "Hai Banh",
                                    "1": "2013-10-23"
                                },
                                {
                                    "0": "Fabrice Cloutier",
                                    "1": "2013-11-19"
                                },
                                {
                                    "0": "Nadir Seddigh",
                                    "1": "2013-11-25"
                                },
                                {
                                    "0": "Farzana Habibi",
                                    "1": "2013-12-01"
                                },
                                {
                                    "0": "Arka Chatterjee",
                                    "1": "2013-12-26"
                                }
                            ]
                        },
                        "text/html": "<table><tr><th>CustomerName</th><th>AccountOpenedDate</th></tr><tr><td>Eric Torres</td><td>2013-01-01</td></tr><tr><td>Cosmina Vlad</td><td>2013-01-01</td></tr><tr><td>Bala Dixit</td><td>2013-01-01</td></tr><tr><td>Aleksandrs Riekstins</td><td>2013-01-01</td></tr><tr><td>Ratan Poddar</td><td>2013-01-01</td></tr><tr><td>Shi Tu</td><td>2013-01-01</td></tr><tr><td>Gunnar Lohmus</td><td>2013-01-01</td></tr><tr><td>Jackson Kolios</td><td>2013-01-01</td></tr><tr><td>Madhu Dwivedi</td><td>2013-01-01</td></tr><tr><td>Alena Kellnerova</td><td>2013-01-01</td></tr><tr><td>Surendra Sahu</td><td>2013-01-01</td></tr><tr><td>Celica Barajas</td><td>2013-01-01</td></tr><tr><td>Shyam Poddar</td><td>2013-01-01</td></tr><tr><td>Johanna Hoornstra</td><td>2013-01-01</td></tr><tr><td>Libuse Valentova</td><td>2013-01-01</td></tr><tr><td>Harsha Huq</td><td>2013-01-01</td></tr><tr><td>Agrita Kanepa</td><td>2013-01-01</td></tr><tr><td>Liia Orav</td><td>2013-01-01</td></tr><tr><td>Santiago Vera</td><td>2013-01-01</td></tr><tr><td>Knut Svensson</td><td>2013-01-01</td></tr><tr><td>Kwanjai Saowaluk</td><td>2013-01-01</td></tr><tr><td>Suparna Bhattacharya</td><td>2013-01-01</td></tr><tr><td>Francisca Laureano</td><td>2013-01-01</td></tr><tr><td>Risto Valbe</td><td>2013-01-01</td></tr><tr><td>Jayanta Thakur</td><td>2013-01-01</td></tr><tr><td>Leila Carvalho</td><td>2013-01-01</td></tr><tr><td>Crina Grasu</td><td>2013-01-01</td></tr><tr><td>Sercan Celik</td><td>2013-01-01</td></tr><tr><td>Jack Walker</td><td>2013-01-01</td></tr><tr><td>Jana Fialova</td><td>2013-01-01</td></tr><tr><td>Bhaavan Rai</td><td>2013-01-01</td></tr><tr><td>Aakriti Byrraju</td><td>2013-01-01</td></tr><tr><td>Devraj Rao</td><td>2013-01-01</td></tr><tr><td>Cong Hoa</td><td>2013-01-01</td></tr><tr><td>Dominic Davignon</td><td>2013-01-01</td></tr><tr><td>Abel Spirlea</td><td>2013-01-01</td></tr><tr><td>Anil Sarkar</td><td>2013-01-01</td></tr><tr><td>Pavel Bogdanov</td><td>2013-01-01</td></tr><tr><td>Juan Morse</td><td>2013-01-01</td></tr><tr><td>Rodrigo Figueiredo</td><td>2013-01-01</td></tr><tr><td>Camille Authier</td><td>2013-01-01</td></tr><tr><td>Biju Deb</td><td>2013-01-01</td></tr><tr><td>Marija Justina Pasek</td><td>2013-01-01</td></tr><tr><td>Durdanah Abbasi</td><td>2013-01-01</td></tr><tr><td>Emilie Hrdlickova</td><td>2013-01-01</td></tr><tr><td>Malorie Bousquet</td><td>2013-01-01</td></tr><tr><td>Kristiina Ivanov</td><td>2013-01-01</td></tr><tr><td>Alvin Bollinger</td><td>2013-01-01</td></tr><tr><td>Sabine Zalite</td><td>2013-01-01</td></tr><tr><td>Daakshaayaani Sankaramanchi</td><td>2013-01-01</td></tr><tr><td>Ebru Erdogan</td><td>2013-01-01</td></tr><tr><td>Bhagavaan Atluri</td><td>2013-01-01</td></tr><tr><td>Caterina Pinto</td><td>2013-01-01</td></tr><tr><td>Daakshaayaani Kommineni</td><td>2013-01-01</td></tr><tr><td>Anna Mazzanti</td><td>2013-01-01</td></tr><tr><td>Satish Mittal</td><td>2013-01-01</td></tr><tr><td>Clarissa Manfrin</td><td>2013-01-01</td></tr><tr><td>Bimla PrabhupÄda</td><td>2013-01-01</td></tr><tr><td>Shah Alizadeh</td><td>2013-01-01</td></tr><tr><td>Marcela Lucescu</td><td>2013-01-01</td></tr><tr><td>Amarasimha Vinjamuri</td><td>2013-01-01</td></tr><tr><td>Lana Goransson</td><td>2013-01-01</td></tr><tr><td>Jakub Lukes</td><td>2013-01-01</td></tr><tr><td>Mikhail Degtyarev</td><td>2013-01-01</td></tr><tr><td>Bijoya Thakur</td><td>2013-01-01</td></tr><tr><td>Jay Bhuiyan</td><td>2013-01-01</td></tr><tr><td>Jasna Cerkez</td><td>2013-01-01</td></tr><tr><td>Laura Sykorova</td><td>2013-01-01</td></tr><tr><td>Abel Tatarescu</td><td>2013-01-01</td></tr><tr><td>In-Su Bae</td><td>2013-01-01</td></tr><tr><td>Darshana Madhunapantula</td><td>2013-01-01</td></tr><tr><td>Katerina Hadrabova</td><td>2013-01-01</td></tr><tr><td>Hana Hlouskova</td><td>2013-01-01</td></tr><tr><td>Daniel Martensson</td><td>2013-01-01</td></tr><tr><td>Philip Walker</td><td>2013-01-01</td></tr><tr><td>Marie LeBatelier</td><td>2013-01-01</td></tr><tr><td>Leyla Siavashi</td><td>2013-01-01</td></tr><tr><td>Miriam House</td><td>2013-01-01</td></tr><tr><td>Jitka Necesana</td><td>2013-01-01</td></tr><tr><td>Edmee Glissen</td><td>2013-01-01</td></tr><tr><td>Magdalena Michnova</td><td>2013-01-01</td></tr><tr><td>Maryann Huddleston</td><td>2013-01-01</td></tr><tr><td>Radha Barua</td><td>2013-01-01</td></tr><tr><td>Anindya Ghatak</td><td>2013-01-01</td></tr><tr><td>Chandrashekhar Dasgupta</td><td>2013-01-01</td></tr><tr><td>Debbie Molina</td><td>2013-01-01</td></tr><tr><td>Baran Jonsson</td><td>2013-01-01</td></tr><tr><td>Jai Lamble</td><td>2013-01-01</td></tr><tr><td>Sointu Savonheimo</td><td>2013-01-01</td></tr><tr><td>Olya Izmaylov</td><td>2013-01-01</td></tr><tr><td>Taneli Riutta</td><td>2013-01-01</td></tr><tr><td>Bahaar Asef zade</td><td>2013-01-01</td></tr><tr><td>Leyla Asef zade</td><td>2013-01-01</td></tr><tr><td>Gabriela Hernandes</td><td>2013-01-01</td></tr><tr><td>Geza Roman</td><td>2013-01-01</td></tr><tr><td>Leonardo Folliero</td><td>2013-01-01</td></tr><tr><td>Allan Mannik</td><td>2013-01-01</td></tr><tr><td>Gopalgobinda Sikdar</td><td>2013-01-01</td></tr><tr><td>Chin-Sun Chang</td><td>2013-01-01</td></tr><tr><td>Lilli Sokk</td><td>2013-01-01</td></tr><tr><td>Adrian Andreasson</td><td>2013-01-01</td></tr><tr><td>Kamila Michnova</td><td>2013-01-01</td></tr><tr><td>Bing Han</td><td>2013-01-01</td></tr><tr><td>Olafs Rozitis</td><td>2013-01-01</td></tr><tr><td>Sara Huiting</td><td>2013-01-01</td></tr><tr><td>Ajitaab Pakalapati</td><td>2013-01-01</td></tr><tr><td>Eugen Agafitei</td><td>2013-01-01</td></tr><tr><td>Sumati Bhat</td><td>2013-01-01</td></tr><tr><td>Dena Glissen</td><td>2013-01-01</td></tr><tr><td>Elina Kaleja</td><td>2013-01-01</td></tr><tr><td>Liidia Lepp</td><td>2013-01-01</td></tr><tr><td>Volkan senturk</td><td>2013-01-01</td></tr><tr><td>Violetta KlanCisar</td><td>2013-01-01</td></tr><tr><td>Chandana Shasthri</td><td>2013-01-01</td></tr><tr><td>Ana Florea</td><td>2013-01-01</td></tr><tr><td>Pinja Jantunen</td><td>2013-01-01</td></tr><tr><td>Pari Hosseini</td><td>2013-01-01</td></tr><tr><td>Isidora Morales</td><td>2013-01-01</td></tr><tr><td>Kertu Sokk</td><td>2013-01-01</td></tr><tr><td>Gayatri Gajula</td><td>2013-01-01</td></tr><tr><td>Victoria Lacusta</td><td>2013-01-01</td></tr><tr><td>Sumati Chatterjee</td><td>2013-01-01</td></tr><tr><td>Tai Bach</td><td>2013-01-01</td></tr><tr><td>Eva Schulteisz</td><td>2013-01-01</td></tr><tr><td>Can ozcan</td><td>2013-01-01</td></tr><tr><td>Richard Friar</td><td>2013-01-01</td></tr><tr><td>Matyas Sedlar</td><td>2013-01-01</td></tr><tr><td>Arijit Bhuiyan</td><td>2013-01-01</td></tr><tr><td>Vladimir Henzl</td><td>2013-01-01</td></tr><tr><td>Shantanu Huq</td><td>2013-01-01</td></tr><tr><td>Nada Jovanovic</td><td>2013-01-01</td></tr><tr><td>Nicolo Cattaneo</td><td>2013-01-01</td></tr><tr><td>Joel Carrillo</td><td>2013-01-01</td></tr><tr><td>Ivan Sepulveda</td><td>2013-01-01</td></tr><tr><td>Daevasree Samavedam</td><td>2013-01-01</td></tr><tr><td>Ludmila Smidova</td><td>2013-01-01</td></tr><tr><td>Manca Hrastovsek</td><td>2013-01-01</td></tr><tr><td>Anna Gyarmathi</td><td>2013-01-01</td></tr><tr><td>Ioana Florea</td><td>2013-01-01</td></tr><tr><td>Lorin Astrom</td><td>2013-01-01</td></tr><tr><td>Bishwa Chatterjee</td><td>2013-01-01</td></tr><tr><td>Chaayaadaevi Sonti</td><td>2013-01-01</td></tr><tr><td>Drazenka Jelic</td><td>2013-01-01</td></tr><tr><td>Ida Celma</td><td>2013-01-01</td></tr><tr><td>Hoc Tran</td><td>2013-01-01</td></tr><tr><td>David safranek</td><td>2013-01-01</td></tr><tr><td>Svetlana Todorovic</td><td>2013-01-01</td></tr><tr><td>Richard Zahradnicek</td><td>2013-01-01</td></tr><tr><td>Seo-yun Paik</td><td>2013-01-01</td></tr><tr><td>Emily Whittle</td><td>2013-01-01</td></tr><tr><td>Eliza Persson</td><td>2013-01-01</td></tr><tr><td>Chuan Wattanasin</td><td>2013-01-01</td></tr><tr><td>Linh Dao</td><td>2013-01-01</td></tr><tr><td>Nasrin Omidzadeh</td><td>2013-01-01</td></tr><tr><td>Raghu Sandhu</td><td>2013-01-01</td></tr><tr><td>Nhung Thach</td><td>2013-01-01</td></tr><tr><td>Hee-Young Suh</td><td>2013-01-01</td></tr><tr><td>Valentin Tirlea</td><td>2013-01-01</td></tr><tr><td>Dhaatri Chavva</td><td>2013-01-01</td></tr><tr><td>Edgar Jogi</td><td>2013-01-01</td></tr><tr><td>Rani Ganguly</td><td>2013-01-01</td></tr><tr><td>Bhagavati Vinjamuri</td><td>2013-01-01</td></tr><tr><td>Be Trang</td><td>2013-01-01</td></tr><tr><td>Ingrida Zeltina</td><td>2013-01-01</td></tr><tr><td>Phoung Cu</td><td>2013-01-01</td></tr><tr><td>Sara Walkky</td><td>2013-01-01</td></tr><tr><td>Meera Patel</td><td>2013-01-01</td></tr><tr><td>Anca Gogean</td><td>2013-01-01</td></tr><tr><td>Staffan Persson</td><td>2013-01-01</td></tr><tr><td>Isidora Urias</td><td>2013-01-01</td></tr><tr><td>Dhanishta Mokkapati</td><td>2013-01-01</td></tr><tr><td>Lakshmi Benipal</td><td>2013-01-01</td></tr><tr><td>Kumar Kamei</td><td>2013-01-01</td></tr><tr><td>Emil Roman</td><td>2013-01-01</td></tr><tr><td>Prabodh Nair</td><td>2013-01-01</td></tr><tr><td>Alinne Matos</td><td>2013-01-01</td></tr><tr><td>Mauno Laurila</td><td>2013-01-01</td></tr><tr><td>Baalaamjali Devulapalli</td><td>2013-01-01</td></tr><tr><td>Melani Ravlen</td><td>2013-01-01</td></tr><tr><td>Om Yadav</td><td>2013-01-01</td></tr><tr><td>Mahmut ozbek</td><td>2013-01-01</td></tr><tr><td>Yves Belisle</td><td>2013-01-01</td></tr><tr><td>Sabine Alksne</td><td>2013-01-01</td></tr><tr><td>Kamala Nishad</td><td>2013-01-01</td></tr><tr><td>Roko Ilic</td><td>2013-01-01</td></tr><tr><td>Neil Farrelly</td><td>2013-01-01</td></tr><tr><td>Akhil Nadar</td><td>2013-01-01</td></tr><tr><td>Maksims Krastins</td><td>2013-01-01</td></tr><tr><td>Milinka Zujovic</td><td>2013-01-01</td></tr><tr><td>Andris Saulitis</td><td>2013-01-01</td></tr><tr><td>Valter Viiding</td><td>2013-01-01</td></tr><tr><td>Amarakumaar Gadiyaram</td><td>2013-01-01</td></tr><tr><td>Gasper Havzija</td><td>2013-01-01</td></tr><tr><td>Libuse Kuchtova</td><td>2013-01-01</td></tr><tr><td>Kumar Naicker</td><td>2013-01-01</td></tr><tr><td>Laszlo Gardenier</td><td>2013-01-01</td></tr><tr><td>Nada Ana Slosar</td><td>2013-01-01</td></tr><tr><td>Mahavir Sonkar</td><td>2013-01-01</td></tr><tr><td>Kristi Part</td><td>2013-01-01</td></tr><tr><td>Krishnam Allu</td><td>2013-01-01</td></tr><tr><td>Dinh Mai</td><td>2013-01-27</td></tr><tr><td>Stefan Selezeanu</td><td>2013-02-22</td></tr><tr><td>Hue Ton</td><td>2013-03-25</td></tr><tr><td>Drishti Bose</td><td>2013-04-01</td></tr><tr><td>Bhadram Kamasamudram</td><td>2013-04-06</td></tr><tr><td>Taj Syme</td><td>2013-04-10</td></tr><tr><td>Irma Berzina</td><td>2013-04-13</td></tr><tr><td>Vedrana Kovacevic</td><td>2013-04-14</td></tr><tr><td>Bhagavateeprasaad Malladi</td><td>2013-05-03</td></tr><tr><td>Serdar ozCelik</td><td>2013-05-06</td></tr><tr><td>Rajeev Sandhu</td><td>2013-06-11</td></tr><tr><td>Urve Kasesalu</td><td>2013-06-16</td></tr><tr><td>Annette  Hetu</td><td>2013-06-22</td></tr><tr><td>Narendra Tickoo</td><td>2013-07-18</td></tr><tr><td>Isa Hulsegge</td><td>2013-08-01</td></tr><tr><td>Aive Petrov</td><td>2013-08-10</td></tr><tr><td>David Novacek </td><td>2013-08-15</td></tr><tr><td>Nils Kaulins</td><td>2013-09-08</td></tr><tr><td>Dhanishta Pullela</td><td>2013-10-03</td></tr><tr><td>Hai Banh</td><td>2013-10-23</td></tr><tr><td>Fabrice Cloutier</td><td>2013-11-19</td></tr><tr><td>Nadir Seddigh</td><td>2013-11-25</td></tr><tr><td>Farzana Habibi</td><td>2013-12-01</td></tr><tr><td>Arka Chatterjee</td><td>2013-12-26</td></tr></table>"
                    },
                    "metadata": {
                        "resultSet": {
                            "id": 0,
                            "batchId": 0,
                            "rowCount": 224,
                            "complete": true,
                            "columnInfo": [
                                {
                                    "isBytes": false,
                                    "isChars": true,
                                    "isSqlVariant": false,
                                    "isUdt": false,
                                    "isXml": false,
                                    "isJson": false,
                                    "sqlDbType": 12,
                                    "isHierarchyId": false,
                                    "isSqlXmlType": false,
                                    "isUnknownType": false,
                                    "isUpdatable": true,
                                    "allowDBNull": false,
                                    "baseCatalogName": null,
                                    "baseColumnName": null,
                                    "baseSchemaName": null,
                                    "baseServerName": null,
                                    "baseTableName": null,
                                    "columnName": "CustomerName",
                                    "columnOrdinal": 0,
                                    "columnSize": 100,
                                    "isAliased": null,
                                    "isAutoIncrement": false,
                                    "isExpression": null,
                                    "isHidden": null,
                                    "isIdentity": false,
                                    "isKey": null,
                                    "isLong": false,
                                    "isReadOnly": false,
                                    "isUnique": false,
                                    "numericPrecision": 255,
                                    "numericScale": 255,
                                    "udtAssemblyQualifiedName": null,
                                    "dataType": "System.String, System.Private.CoreLib, Version=4.0.0.0, Culture=neutral, PublicKeyToken=7cec85d7bea7798e",
                                    "dataTypeName": "nvarchar"
                                },
                                {
                                    "isBytes": false,
                                    "isChars": false,
                                    "isSqlVariant": false,
                                    "isUdt": false,
                                    "isXml": false,
                                    "isJson": false,
                                    "sqlDbType": 31,
                                    "isHierarchyId": false,
                                    "isSqlXmlType": false,
                                    "isUnknownType": false,
                                    "isUpdatable": true,
                                    "allowDBNull": false,
                                    "baseCatalogName": null,
                                    "baseColumnName": null,
                                    "baseSchemaName": null,
                                    "baseServerName": null,
                                    "baseTableName": null,
                                    "columnName": "AccountOpenedDate",
                                    "columnOrdinal": 1,
                                    "columnSize": 3,
                                    "isAliased": null,
                                    "isAutoIncrement": false,
                                    "isExpression": null,
                                    "isHidden": null,
                                    "isIdentity": false,
                                    "isKey": null,
                                    "isLong": false,
                                    "isReadOnly": false,
                                    "isUnique": false,
                                    "numericPrecision": 255,
                                    "numericScale": 255,
                                    "udtAssemblyQualifiedName": null,
                                    "dataType": "System.DateTime, System.Private.CoreLib, Version=4.0.0.0, Culture=neutral, PublicKeyToken=7cec85d7bea7798e",
                                    "dataTypeName": "date"
                                }
                            ],
                            "specialAction": {
                                "none": true,
                                "expectYukonXMLShowPlan": false
                            }
                        }
                    }
                }
            ],
            "execution_count": 43
        },
        {
            "cell_type": "markdown",
            "source": [
                "### BETWEEN keyword\n",
                "\n",
                "The AND keyword is used for more than just joining clauses in the WHERE clause. It is also used as part of the BETWEEN clause that can appear in a WHERE clause.\n",
                "\n",
                "The BETWEEN clause is inclusive of the starting and ending values. In the following example, we want to find customers who have credit limits between 2500.00 and 3000.00. The results will include those who have credit limits of 2500.00, those who have credit limits of 3000.00, and those who have credit limits between those values."
            ],
            "metadata": {
                "azdata_cell_guid": "525e1a75-e7ee-42ca-9755-d10f32f1d54b"
            }
        },
        {
            "cell_type": "code",
            "source": [
                "SELECT CustomerName, CreditLimit FROM Sales.Customers WHERE CreditLimit BETWEEN 2500.00 AND 3000.00"
            ],
            "metadata": {
                "azdata_cell_guid": "29a083cd-16ff-41f9-b048-18b44afd74b2"
            },
            "outputs": [
                {
                    "output_type": "display_data",
                    "data": {
                        "text/html": "(46 rows affected)"
                    },
                    "metadata": {}
                },
                {
                    "output_type": "display_data",
                    "data": {
                        "text/html": "Total execution time: 00:00:00.039"
                    },
                    "metadata": {}
                },
                {
                    "output_type": "execute_result",
                    "execution_count": 41,
                    "data": {
                        "application/vnd.dataresource+json": {
                            "schema": {
                                "fields": [
                                    {
                                        "name": "CustomerName"
                                    },
                                    {
                                        "name": "CreditLimit"
                                    }
                                ]
                            },
                            "data": [
                                {
                                    "0": "Eric Torres",
                                    "1": "3000.00"
                                },
                                {
                                    "0": "Cosmina Vlad",
                                    "1": "2940.00"
                                },
                                {
                                    "0": "Shi Tu",
                                    "1": "3000.00"
                                },
                                {
                                    "0": "Shyam Poddar",
                                    "1": "2600.00"
                                },
                                {
                                    "0": "Libuse Valentova",
                                    "1": "2900.00"
                                },
                                {
                                    "0": "Jayanta Thakur",
                                    "1": "3000.00"
                                },
                                {
                                    "0": "Crina Grasu",
                                    "1": "2500.00"
                                },
                                {
                                    "0": "Biju Deb",
                                    "1": "2600.00"
                                },
                                {
                                    "0": "Alvin Bollinger",
                                    "1": "2900.00"
                                },
                                {
                                    "0": "Caterina Pinto",
                                    "1": "3000.00"
                                },
                                {
                                    "0": "Shah Alizadeh",
                                    "1": "3000.00"
                                },
                                {
                                    "0": "Marcela Lucescu",
                                    "1": "2900.00"
                                },
                                {
                                    "0": "Amarasimha Vinjamuri",
                                    "1": "2500.00"
                                },
                                {
                                    "0": "Bijoya Thakur",
                                    "1": "2900.00"
                                },
                                {
                                    "0": "Hana Hlouskova",
                                    "1": "2700.00"
                                },
                                {
                                    "0": "Edmee Glissen",
                                    "1": "2600.00"
                                },
                                {
                                    "0": "Maryann Huddleston",
                                    "1": "2700.00"
                                },
                                {
                                    "0": "Chandrashekhar Dasgupta",
                                    "1": "2500.00"
                                },
                                {
                                    "0": "Taneli Riutta",
                                    "1": "2700.00"
                                },
                                {
                                    "0": "Adrian Andreasson",
                                    "1": "3000.00"
                                },
                                {
                                    "0": "Volkan senturk",
                                    "1": "2600.00"
                                },
                                {
                                    "0": "Kertu Sokk",
                                    "1": "3000.00"
                                },
                                {
                                    "0": "Sumati Chatterjee",
                                    "1": "2520.00"
                                },
                                {
                                    "0": "Eva Schulteisz",
                                    "1": "2700.00"
                                },
                                {
                                    "0": "Drazenka Jelic",
                                    "1": "2600.00"
                                },
                                {
                                    "0": "Svetlana Todorovic",
                                    "1": "2800.00"
                                },
                                {
                                    "0": "Emily Whittle",
                                    "1": "2900.00"
                                },
                                {
                                    "0": "Be Trang",
                                    "1": "2700.00"
                                },
                                {
                                    "0": "Ingrida Zeltina",
                                    "1": "2600.00"
                                },
                                {
                                    "0": "Phoung Cu",
                                    "1": "3000.00"
                                },
                                {
                                    "0": "Prabodh Nair",
                                    "1": "3000.00"
                                },
                                {
                                    "0": "Om Yadav",
                                    "1": "2900.00"
                                },
                                {
                                    "0": "Sabine Alksne",
                                    "1": "2600.00"
                                },
                                {
                                    "0": "Kamala Nishad",
                                    "1": "2900.00"
                                },
                                {
                                    "0": "Andris Saulitis",
                                    "1": "2500.00"
                                },
                                {
                                    "0": "Irma Berzina",
                                    "1": "2600.00"
                                },
                                {
                                    "0": "Bhagavateeprasaad Malladi",
                                    "1": "2800.00"
                                },
                                {
                                    "0": "David Novacek ",
                                    "1": "2730.00"
                                },
                                {
                                    "0": "Hai Banh",
                                    "1": "2625.00"
                                },
                                {
                                    "0": "Nadir Seddigh",
                                    "1": "3000.00"
                                },
                                {
                                    "0": "Farzana Habibi",
                                    "1": "2900.00"
                                },
                                {
                                    "0": "Tomo Vidovic",
                                    "1": "2900.00"
                                },
                                {
                                    "0": "Nguyen Banh",
                                    "1": "2500.00"
                                },
                                {
                                    "0": "Christian Couet",
                                    "1": "2940.00"
                                },
                                {
                                    "0": "Abhra Ganguly",
                                    "1": "3000.00"
                                },
                                {
                                    "0": "Sylvie Laramee",
                                    "1": "2800.00"
                                }
                            ]
                        },
                        "text/html": "<table><tr><th>CustomerName</th><th>CreditLimit</th></tr><tr><td>Eric Torres</td><td>3000.00</td></tr><tr><td>Cosmina Vlad</td><td>2940.00</td></tr><tr><td>Shi Tu</td><td>3000.00</td></tr><tr><td>Shyam Poddar</td><td>2600.00</td></tr><tr><td>Libuse Valentova</td><td>2900.00</td></tr><tr><td>Jayanta Thakur</td><td>3000.00</td></tr><tr><td>Crina Grasu</td><td>2500.00</td></tr><tr><td>Biju Deb</td><td>2600.00</td></tr><tr><td>Alvin Bollinger</td><td>2900.00</td></tr><tr><td>Caterina Pinto</td><td>3000.00</td></tr><tr><td>Shah Alizadeh</td><td>3000.00</td></tr><tr><td>Marcela Lucescu</td><td>2900.00</td></tr><tr><td>Amarasimha Vinjamuri</td><td>2500.00</td></tr><tr><td>Bijoya Thakur</td><td>2900.00</td></tr><tr><td>Hana Hlouskova</td><td>2700.00</td></tr><tr><td>Edmee Glissen</td><td>2600.00</td></tr><tr><td>Maryann Huddleston</td><td>2700.00</td></tr><tr><td>Chandrashekhar Dasgupta</td><td>2500.00</td></tr><tr><td>Taneli Riutta</td><td>2700.00</td></tr><tr><td>Adrian Andreasson</td><td>3000.00</td></tr><tr><td>Volkan senturk</td><td>2600.00</td></tr><tr><td>Kertu Sokk</td><td>3000.00</td></tr><tr><td>Sumati Chatterjee</td><td>2520.00</td></tr><tr><td>Eva Schulteisz</td><td>2700.00</td></tr><tr><td>Drazenka Jelic</td><td>2600.00</td></tr><tr><td>Svetlana Todorovic</td><td>2800.00</td></tr><tr><td>Emily Whittle</td><td>2900.00</td></tr><tr><td>Be Trang</td><td>2700.00</td></tr><tr><td>Ingrida Zeltina</td><td>2600.00</td></tr><tr><td>Phoung Cu</td><td>3000.00</td></tr><tr><td>Prabodh Nair</td><td>3000.00</td></tr><tr><td>Om Yadav</td><td>2900.00</td></tr><tr><td>Sabine Alksne</td><td>2600.00</td></tr><tr><td>Kamala Nishad</td><td>2900.00</td></tr><tr><td>Andris Saulitis</td><td>2500.00</td></tr><tr><td>Irma Berzina</td><td>2600.00</td></tr><tr><td>Bhagavateeprasaad Malladi</td><td>2800.00</td></tr><tr><td>David Novacek </td><td>2730.00</td></tr><tr><td>Hai Banh</td><td>2625.00</td></tr><tr><td>Nadir Seddigh</td><td>3000.00</td></tr><tr><td>Farzana Habibi</td><td>2900.00</td></tr><tr><td>Tomo Vidovic</td><td>2900.00</td></tr><tr><td>Nguyen Banh</td><td>2500.00</td></tr><tr><td>Christian Couet</td><td>2940.00</td></tr><tr><td>Abhra Ganguly</td><td>3000.00</td></tr><tr><td>Sylvie Laramee</td><td>2800.00</td></tr></table>"
                    },
                    "metadata": {
                        "resultSet": {
                            "id": 0,
                            "batchId": 0,
                            "rowCount": 46,
                            "complete": true,
                            "columnInfo": [
                                {
                                    "isBytes": false,
                                    "isChars": true,
                                    "isSqlVariant": false,
                                    "isUdt": false,
                                    "isXml": false,
                                    "isJson": false,
                                    "sqlDbType": 12,
                                    "isHierarchyId": false,
                                    "isSqlXmlType": false,
                                    "isUnknownType": false,
                                    "isUpdatable": true,
                                    "allowDBNull": false,
                                    "baseCatalogName": null,
                                    "baseColumnName": null,
                                    "baseSchemaName": null,
                                    "baseServerName": null,
                                    "baseTableName": null,
                                    "columnName": "CustomerName",
                                    "columnOrdinal": 0,
                                    "columnSize": 100,
                                    "isAliased": null,
                                    "isAutoIncrement": false,
                                    "isExpression": null,
                                    "isHidden": null,
                                    "isIdentity": false,
                                    "isKey": null,
                                    "isLong": false,
                                    "isReadOnly": false,
                                    "isUnique": false,
                                    "numericPrecision": 255,
                                    "numericScale": 255,
                                    "udtAssemblyQualifiedName": null,
                                    "dataType": "System.String, System.Private.CoreLib, Version=4.0.0.0, Culture=neutral, PublicKeyToken=7cec85d7bea7798e",
                                    "dataTypeName": "nvarchar"
                                },
                                {
                                    "isBytes": false,
                                    "isChars": false,
                                    "isSqlVariant": false,
                                    "isUdt": false,
                                    "isXml": false,
                                    "isJson": false,
                                    "sqlDbType": 5,
                                    "isHierarchyId": false,
                                    "isSqlXmlType": false,
                                    "isUnknownType": false,
                                    "isUpdatable": true,
                                    "allowDBNull": true,
                                    "baseCatalogName": null,
                                    "baseColumnName": null,
                                    "baseSchemaName": null,
                                    "baseServerName": null,
                                    "baseTableName": null,
                                    "columnName": "CreditLimit",
                                    "columnOrdinal": 1,
                                    "columnSize": 17,
                                    "isAliased": null,
                                    "isAutoIncrement": false,
                                    "isExpression": null,
                                    "isHidden": null,
                                    "isIdentity": false,
                                    "isKey": null,
                                    "isLong": false,
                                    "isReadOnly": false,
                                    "isUnique": false,
                                    "numericPrecision": 18,
                                    "numericScale": 2,
                                    "udtAssemblyQualifiedName": null,
                                    "dataType": "System.Decimal, System.Private.CoreLib, Version=4.0.0.0, Culture=neutral, PublicKeyToken=7cec85d7bea7798e",
                                    "dataTypeName": "decimal"
                                }
                            ],
                            "specialAction": {
                                "none": true,
                                "expectYukonXMLShowPlan": false
                            }
                        }
                    }
                }
            ],
            "execution_count": 41
        },
        {
            "cell_type": "markdown",
            "source": [
                "BETWEEN can work with alphabetical ranges as well. Suppose we want customers whose names are between 'A' and 'B'. That query looks like this:"
            ],
            "metadata": {
                "azdata_cell_guid": "e1f16a00-b925-4c70-a85e-64e5faf9626d"
            }
        },
        {
            "cell_type": "code",
            "source": [
                "SELECT CustomerName FROM Sales.Customers WHERE CustomerName BETWEEN 'A' AND 'B' ORDER BY CustomerName"
            ],
            "metadata": {
                "azdata_cell_guid": "665c40bb-36cd-444a-b74a-f0ff1dfd6038"
            },
            "outputs": [
                {
                    "output_type": "display_data",
                    "data": {
                        "text/html": "(32 rows affected)"
                    },
                    "metadata": {}
                },
                {
                    "output_type": "display_data",
                    "data": {
                        "text/html": "Total execution time: 00:00:00.066"
                    },
                    "metadata": {}
                },
                {
                    "output_type": "execute_result",
                    "execution_count": 44,
                    "data": {
                        "application/vnd.dataresource+json": {
                            "schema": {
                                "fields": [
                                    {
                                        "name": "CustomerName"
                                    }
                                ]
                            },
                            "data": [
                                {
                                    "0": "Aakriti Byrraju"
                                },
                                {
                                    "0": "Abel Spirlea"
                                },
                                {
                                    "0": "Abel Tatarescu"
                                },
                                {
                                    "0": "Abhra Ganguly"
                                },
                                {
                                    "0": "Adrian Andreasson"
                                },
                                {
                                    "0": "Adriana Pena"
                                },
                                {
                                    "0": "Agrita Abele"
                                },
                                {
                                    "0": "Agrita Kanepa"
                                },
                                {
                                    "0": "Aishwarya Dantuluri"
                                },
                                {
                                    "0": "Aive Petrov"
                                },
                                {
                                    "0": "Ajitaab Pakalapati"
                                },
                                {
                                    "0": "Akhil Nadar"
                                },
                                {
                                    "0": "Aleksandrs Riekstins"
                                },
                                {
                                    "0": "Alena Kellnerova"
                                },
                                {
                                    "0": "Alinne Matos"
                                },
                                {
                                    "0": "Allan Mannik"
                                },
                                {
                                    "0": "Alvin Bollinger"
                                },
                                {
                                    "0": "Amarakumaar Gadiyaram"
                                },
                                {
                                    "0": "Amarasimha Vinjamuri"
                                },
                                {
                                    "0": "Amet Shergill"
                                },
                                {
                                    "0": "Amrita Ganguly"
                                },
                                {
                                    "0": "Ana Florea"
                                },
                                {
                                    "0": "Anand Mudaliyar"
                                },
                                {
                                    "0": "Anca Gogean"
                                },
                                {
                                    "0": "Andris Saulitis"
                                },
                                {
                                    "0": "Anil Sarkar"
                                },
                                {
                                    "0": "Anindya Ghatak"
                                },
                                {
                                    "0": "Anna Gyarmathi"
                                },
                                {
                                    "0": "Anna Mazzanti"
                                },
                                {
                                    "0": "Annette  Hetu"
                                },
                                {
                                    "0": "Arijit Bhuiyan"
                                },
                                {
                                    "0": "Arka Chatterjee"
                                }
                            ]
                        },
                        "text/html": "<table><tr><th>CustomerName</th></tr><tr><td>Aakriti Byrraju</td></tr><tr><td>Abel Spirlea</td></tr><tr><td>Abel Tatarescu</td></tr><tr><td>Abhra Ganguly</td></tr><tr><td>Adrian Andreasson</td></tr><tr><td>Adriana Pena</td></tr><tr><td>Agrita Abele</td></tr><tr><td>Agrita Kanepa</td></tr><tr><td>Aishwarya Dantuluri</td></tr><tr><td>Aive Petrov</td></tr><tr><td>Ajitaab Pakalapati</td></tr><tr><td>Akhil Nadar</td></tr><tr><td>Aleksandrs Riekstins</td></tr><tr><td>Alena Kellnerova</td></tr><tr><td>Alinne Matos</td></tr><tr><td>Allan Mannik</td></tr><tr><td>Alvin Bollinger</td></tr><tr><td>Amarakumaar Gadiyaram</td></tr><tr><td>Amarasimha Vinjamuri</td></tr><tr><td>Amet Shergill</td></tr><tr><td>Amrita Ganguly</td></tr><tr><td>Ana Florea</td></tr><tr><td>Anand Mudaliyar</td></tr><tr><td>Anca Gogean</td></tr><tr><td>Andris Saulitis</td></tr><tr><td>Anil Sarkar</td></tr><tr><td>Anindya Ghatak</td></tr><tr><td>Anna Gyarmathi</td></tr><tr><td>Anna Mazzanti</td></tr><tr><td>Annette  Hetu</td></tr><tr><td>Arijit Bhuiyan</td></tr><tr><td>Arka Chatterjee</td></tr></table>"
                    },
                    "metadata": {
                        "resultSet": {
                            "id": 0,
                            "batchId": 0,
                            "rowCount": 32,
                            "complete": false,
                            "columnInfo": [
                                {
                                    "isBytes": false,
                                    "isChars": true,
                                    "isSqlVariant": false,
                                    "isUdt": false,
                                    "isXml": false,
                                    "isJson": false,
                                    "sqlDbType": 12,
                                    "isHierarchyId": false,
                                    "isSqlXmlType": false,
                                    "isUnknownType": false,
                                    "isUpdatable": true,
                                    "allowDBNull": false,
                                    "baseCatalogName": null,
                                    "baseColumnName": null,
                                    "baseSchemaName": null,
                                    "baseServerName": null,
                                    "baseTableName": null,
                                    "columnName": "CustomerName",
                                    "columnOrdinal": 0,
                                    "columnSize": 100,
                                    "isAliased": null,
                                    "isAutoIncrement": false,
                                    "isExpression": null,
                                    "isHidden": null,
                                    "isIdentity": false,
                                    "isKey": null,
                                    "isLong": false,
                                    "isReadOnly": false,
                                    "isUnique": false,
                                    "numericPrecision": 255,
                                    "numericScale": 255,
                                    "udtAssemblyQualifiedName": null,
                                    "dataType": "System.String, System.Private.CoreLib, Version=4.0.0.0, Culture=neutral, PublicKeyToken=7cec85d7bea7798e",
                                    "dataTypeName": "nvarchar"
                                }
                            ],
                            "specialAction": null
                        }
                    }
                }
            ],
            "execution_count": 44
        },
        {
            "cell_type": "markdown",
            "source": [
                "Notice that there are no results that start with 'B'. This is because it is looking for whole strings that start with 'A' and stops at 'B'. If we had a customer named 'B', they would be included in the results. To understand how BETWEEN works with alphabetical clauses, change the starting or ending values and experiment. For example, what if we had said between 'Ar' and 'Bz'?"
            ],
            "metadata": {
                "azdata_cell_guid": "7a5bba98-34d8-4463-ab87-abadee2ccba5"
            }
        },
        {
            "cell_type": "code",
            "source": [
                "SELECT CustomerName FROM Sales.Customers WHERE CustomerName BETWEEN 'Ar' AND 'Bz' ORDER BY CustomerName"
            ],
            "metadata": {
                "azdata_cell_guid": "3972112e-00f9-49a1-b1af-eeaa59be7de6"
            },
            "outputs": [
                {
                    "output_type": "display_data",
                    "data": {
                        "text/html": "(18 rows affected)"
                    },
                    "metadata": {}
                },
                {
                    "output_type": "display_data",
                    "data": {
                        "text/html": "Total execution time: 00:00:00.028"
                    },
                    "metadata": {}
                },
                {
                    "output_type": "execute_result",
                    "execution_count": 47,
                    "data": {
                        "application/vnd.dataresource+json": {
                            "schema": {
                                "fields": [
                                    {
                                        "name": "CustomerName"
                                    }
                                ]
                            },
                            "data": [
                                {
                                    "0": "Arijit Bhuiyan"
                                },
                                {
                                    "0": "Arka Chatterjee"
                                },
                                {
                                    "0": "Baalaamjali Devulapalli"
                                },
                                {
                                    "0": "Bahaar Asef zade"
                                },
                                {
                                    "0": "Bala Dixit"
                                },
                                {
                                    "0": "Baran Jonsson"
                                },
                                {
                                    "0": "Be Trang"
                                },
                                {
                                    "0": "Bhaamini Palagummi"
                                },
                                {
                                    "0": "Bhaavan Rai"
                                },
                                {
                                    "0": "Bhadram Kamasamudram"
                                },
                                {
                                    "0": "Bhagavaan Atluri"
                                },
                                {
                                    "0": "Bhagavateeprasaad Malladi"
                                },
                                {
                                    "0": "Bhagavati Vinjamuri"
                                },
                                {
                                    "0": "Bijoya Thakur"
                                },
                                {
                                    "0": "Biju Deb"
                                },
                                {
                                    "0": "Bimla PrabhupÄda"
                                },
                                {
                                    "0": "Bing Han"
                                },
                                {
                                    "0": "Bishwa Chatterjee"
                                }
                            ]
                        },
                        "text/html": "<table><tr><th>CustomerName</th></tr><tr><td>Arijit Bhuiyan</td></tr><tr><td>Arka Chatterjee</td></tr><tr><td>Baalaamjali Devulapalli</td></tr><tr><td>Bahaar Asef zade</td></tr><tr><td>Bala Dixit</td></tr><tr><td>Baran Jonsson</td></tr><tr><td>Be Trang</td></tr><tr><td>Bhaamini Palagummi</td></tr><tr><td>Bhaavan Rai</td></tr><tr><td>Bhadram Kamasamudram</td></tr><tr><td>Bhagavaan Atluri</td></tr><tr><td>Bhagavateeprasaad Malladi</td></tr><tr><td>Bhagavati Vinjamuri</td></tr><tr><td>Bijoya Thakur</td></tr><tr><td>Biju Deb</td></tr><tr><td>Bimla PrabhupÄda</td></tr><tr><td>Bing Han</td></tr><tr><td>Bishwa Chatterjee</td></tr></table>"
                    },
                    "metadata": {
                        "resultSet": {
                            "id": 0,
                            "batchId": 0,
                            "rowCount": 18,
                            "complete": true,
                            "columnInfo": [
                                {
                                    "isBytes": false,
                                    "isChars": true,
                                    "isSqlVariant": false,
                                    "isUdt": false,
                                    "isXml": false,
                                    "isJson": false,
                                    "sqlDbType": 12,
                                    "isHierarchyId": false,
                                    "isSqlXmlType": false,
                                    "isUnknownType": false,
                                    "isUpdatable": true,
                                    "allowDBNull": false,
                                    "baseCatalogName": null,
                                    "baseColumnName": null,
                                    "baseSchemaName": null,
                                    "baseServerName": null,
                                    "baseTableName": null,
                                    "columnName": "CustomerName",
                                    "columnOrdinal": 0,
                                    "columnSize": 100,
                                    "isAliased": null,
                                    "isAutoIncrement": false,
                                    "isExpression": null,
                                    "isHidden": null,
                                    "isIdentity": false,
                                    "isKey": null,
                                    "isLong": false,
                                    "isReadOnly": false,
                                    "isUnique": false,
                                    "numericPrecision": 255,
                                    "numericScale": 255,
                                    "udtAssemblyQualifiedName": null,
                                    "dataType": "System.String, System.Private.CoreLib, Version=4.0.0.0, Culture=neutral, PublicKeyToken=7cec85d7bea7798e",
                                    "dataTypeName": "nvarchar"
                                }
                            ],
                            "specialAction": {
                                "none": true,
                                "expectYukonXMLShowPlan": false
                            }
                        }
                    }
                }
            ],
            "execution_count": 47
        },
        {
            "cell_type": "markdown",
            "source": [
                "The BETWEEN clause can be used with dates as well. Suppose we want to find out which customers opened their accounts in the first half of the year. We can use the BETWEEN keyword in our WHERE clause to filter our records to a date between a start and end date. We use the AND keyword to separate the beginning and ending clauses of the BETWEEN clause.\n",
                "\n",
                "> We are referring to dates in the YYYY-MM-DD format, surrounding the values in single quotes.\n",
                "\n",
                "The SET keyword can also be used to set a variable value."
            ],
            "metadata": {
                "azdata_cell_guid": "9c8dada7-95b3-4b80-92a7-e32927949938"
            }
        },
        {
            "cell_type": "code",
            "source": [
                "DECLARE @StartDate date, @EndDate date \r\n",
                "SET @StartDate = '2014-01-01' -- YYYY-MM-DD format, surrounded by single quotes\r\n",
                "SET @EndDate = '2014-06-30'\r\n",
                "\r\n",
                "SELECT CustomerName, AccountOpenedDate FROM Sales.Customers WHERE AccountOpenedDate BETWEEN @StartDate AND @EndDate"
            ],
            "metadata": {
                "azdata_cell_guid": "1285bfd4-7df2-442f-8075-074ee0ce4435"
            },
            "outputs": [
                {
                    "output_type": "display_data",
                    "data": {
                        "text/html": "(6 rows affected)"
                    },
                    "metadata": {}
                },
                {
                    "output_type": "display_data",
                    "data": {
                        "text/html": "Total execution time: 00:00:00.035"
                    },
                    "metadata": {}
                },
                {
                    "output_type": "execute_result",
                    "execution_count": 30,
                    "data": {
                        "application/vnd.dataresource+json": {
                            "schema": {
                                "fields": [
                                    {
                                        "name": "CustomerName"
                                    },
                                    {
                                        "name": "AccountOpenedDate"
                                    }
                                ]
                            },
                            "data": [
                                {
                                    "0": "Tuulikki Linna",
                                    "1": "2014-01-15"
                                },
                                {
                                    "0": "Daniella Cavalcante",
                                    "1": "2014-01-17"
                                },
                                {
                                    "0": "Serdar ozden",
                                    "1": "2014-02-22"
                                },
                                {
                                    "0": "Emma Van Zant",
                                    "1": "2014-05-14"
                                },
                                {
                                    "0": "Veronika Necesana",
                                    "1": "2014-05-18"
                                },
                                {
                                    "0": "Chompoo Atitarn",
                                    "1": "2014-06-18"
                                }
                            ]
                        },
                        "text/html": "<table><tr><th>CustomerName</th><th>AccountOpenedDate</th></tr><tr><td>Tuulikki Linna</td><td>2014-01-15</td></tr><tr><td>Daniella Cavalcante</td><td>2014-01-17</td></tr><tr><td>Serdar ozden</td><td>2014-02-22</td></tr><tr><td>Emma Van Zant</td><td>2014-05-14</td></tr><tr><td>Veronika Necesana</td><td>2014-05-18</td></tr><tr><td>Chompoo Atitarn</td><td>2014-06-18</td></tr></table>"
                    },
                    "metadata": {
                        "resultSet": {
                            "id": 0,
                            "batchId": 0,
                            "rowCount": 6,
                            "complete": false,
                            "columnInfo": [
                                {
                                    "isBytes": false,
                                    "isChars": true,
                                    "isSqlVariant": false,
                                    "isUdt": false,
                                    "isXml": false,
                                    "isJson": false,
                                    "sqlDbType": 12,
                                    "isHierarchyId": false,
                                    "isSqlXmlType": false,
                                    "isUnknownType": false,
                                    "isUpdatable": true,
                                    "allowDBNull": false,
                                    "baseCatalogName": null,
                                    "baseColumnName": null,
                                    "baseSchemaName": null,
                                    "baseServerName": null,
                                    "baseTableName": null,
                                    "columnName": "CustomerName",
                                    "columnOrdinal": 0,
                                    "columnSize": 100,
                                    "isAliased": null,
                                    "isAutoIncrement": false,
                                    "isExpression": null,
                                    "isHidden": null,
                                    "isIdentity": false,
                                    "isKey": null,
                                    "isLong": false,
                                    "isReadOnly": false,
                                    "isUnique": false,
                                    "numericPrecision": 255,
                                    "numericScale": 255,
                                    "udtAssemblyQualifiedName": null,
                                    "dataType": "System.String, System.Private.CoreLib, Version=4.0.0.0, Culture=neutral, PublicKeyToken=7cec85d7bea7798e",
                                    "dataTypeName": "nvarchar"
                                },
                                {
                                    "isBytes": false,
                                    "isChars": false,
                                    "isSqlVariant": false,
                                    "isUdt": false,
                                    "isXml": false,
                                    "isJson": false,
                                    "sqlDbType": 31,
                                    "isHierarchyId": false,
                                    "isSqlXmlType": false,
                                    "isUnknownType": false,
                                    "isUpdatable": true,
                                    "allowDBNull": false,
                                    "baseCatalogName": null,
                                    "baseColumnName": null,
                                    "baseSchemaName": null,
                                    "baseServerName": null,
                                    "baseTableName": null,
                                    "columnName": "AccountOpenedDate",
                                    "columnOrdinal": 1,
                                    "columnSize": 3,
                                    "isAliased": null,
                                    "isAutoIncrement": false,
                                    "isExpression": null,
                                    "isHidden": null,
                                    "isIdentity": false,
                                    "isKey": null,
                                    "isLong": false,
                                    "isReadOnly": false,
                                    "isUnique": false,
                                    "numericPrecision": 255,
                                    "numericScale": 255,
                                    "udtAssemblyQualifiedName": null,
                                    "dataType": "System.DateTime, System.Private.CoreLib, Version=4.0.0.0, Culture=neutral, PublicKeyToken=7cec85d7bea7798e",
                                    "dataTypeName": "date"
                                }
                            ],
                            "specialAction": null
                        }
                    }
                }
            ],
            "execution_count": 30
        },
        {
            "cell_type": "markdown",
            "source": [
                "The salesperson came back and wanted to find out what accounts were added after Aive Petrov's account though also in the same month and year. We could approach this as follows:\n",
                "\n",
                "- Find when Aive Petrov's account was opened. Store that in a variable.\n",
                "- Write a query where the account opened date is between Aive Petrov's update and the end of the month - once we know Aive's account opened date, we can figure out the end of the month manually."
            ],
            "metadata": {
                "azdata_cell_guid": "f277b0de-dfa0-40e6-86e9-556384c0a9bf"
            }
        },
        {
            "cell_type": "markdown",
            "source": [
                "<br>"
            ],
            "metadata": {
                "azdata_cell_guid": "06f899fd-6ae8-40c8-99d9-03a983e8593a"
            }
        },
        {
            "cell_type": "code",
            "source": [
                "DECLARE @CustomerAccountDate DATE\r\n",
                "SELECT @CustomerAccountDate = AccountOpenedDate FROM Sales.Customers WHERE CustomerName = 'Aive Petrov' -- '2013-08-10'\r\n",
                "SELECT CustomerName, AccountOpenedDate FROM Sales.Customers WHERE AccountOpenedDate BETWEEN @CustomerAccountDate AND '2013-08-31'"
            ],
            "metadata": {
                "azdata_cell_guid": "27a6242b-f645-45ca-bffa-38851967ceea"
            },
            "outputs": [
                {
                    "output_type": "display_data",
                    "data": {
                        "text/html": "(2 rows affected)"
                    },
                    "metadata": {}
                },
                {
                    "output_type": "display_data",
                    "data": {
                        "text/html": "Total execution time: 00:00:00.031"
                    },
                    "metadata": {}
                },
                {
                    "output_type": "execute_result",
                    "execution_count": 49,
                    "data": {
                        "application/vnd.dataresource+json": {
                            "schema": {
                                "fields": [
                                    {
                                        "name": "CustomerName"
                                    },
                                    {
                                        "name": "AccountOpenedDate"
                                    }
                                ]
                            },
                            "data": [
                                {
                                    "0": "Aive Petrov",
                                    "1": "2013-08-10"
                                },
                                {
                                    "0": "David Novacek ",
                                    "1": "2013-08-15"
                                }
                            ]
                        },
                        "text/html": "<table><tr><th>CustomerName</th><th>AccountOpenedDate</th></tr><tr><td>Aive Petrov</td><td>2013-08-10</td></tr><tr><td>David Novacek </td><td>2013-08-15</td></tr></table>"
                    },
                    "metadata": {
                        "resultSet": {
                            "id": 0,
                            "batchId": 0,
                            "rowCount": 2,
                            "complete": true,
                            "columnInfo": [
                                {
                                    "isBytes": false,
                                    "isChars": true,
                                    "isSqlVariant": false,
                                    "isUdt": false,
                                    "isXml": false,
                                    "isJson": false,
                                    "sqlDbType": 12,
                                    "isHierarchyId": false,
                                    "isSqlXmlType": false,
                                    "isUnknownType": false,
                                    "isUpdatable": true,
                                    "allowDBNull": false,
                                    "baseCatalogName": null,
                                    "baseColumnName": null,
                                    "baseSchemaName": null,
                                    "baseServerName": null,
                                    "baseTableName": null,
                                    "columnName": "CustomerName",
                                    "columnOrdinal": 0,
                                    "columnSize": 100,
                                    "isAliased": null,
                                    "isAutoIncrement": false,
                                    "isExpression": null,
                                    "isHidden": null,
                                    "isIdentity": false,
                                    "isKey": null,
                                    "isLong": false,
                                    "isReadOnly": false,
                                    "isUnique": false,
                                    "numericPrecision": 255,
                                    "numericScale": 255,
                                    "udtAssemblyQualifiedName": null,
                                    "dataType": "System.String, System.Private.CoreLib, Version=4.0.0.0, Culture=neutral, PublicKeyToken=7cec85d7bea7798e",
                                    "dataTypeName": "nvarchar"
                                },
                                {
                                    "isBytes": false,
                                    "isChars": false,
                                    "isSqlVariant": false,
                                    "isUdt": false,
                                    "isXml": false,
                                    "isJson": false,
                                    "sqlDbType": 31,
                                    "isHierarchyId": false,
                                    "isSqlXmlType": false,
                                    "isUnknownType": false,
                                    "isUpdatable": true,
                                    "allowDBNull": false,
                                    "baseCatalogName": null,
                                    "baseColumnName": null,
                                    "baseSchemaName": null,
                                    "baseServerName": null,
                                    "baseTableName": null,
                                    "columnName": "AccountOpenedDate",
                                    "columnOrdinal": 1,
                                    "columnSize": 3,
                                    "isAliased": null,
                                    "isAutoIncrement": false,
                                    "isExpression": null,
                                    "isHidden": null,
                                    "isIdentity": false,
                                    "isKey": null,
                                    "isLong": false,
                                    "isReadOnly": false,
                                    "isUnique": false,
                                    "numericPrecision": 255,
                                    "numericScale": 255,
                                    "udtAssemblyQualifiedName": null,
                                    "dataType": "System.DateTime, System.Private.CoreLib, Version=4.0.0.0, Culture=neutral, PublicKeyToken=7cec85d7bea7798e",
                                    "dataTypeName": "date"
                                }
                            ],
                            "specialAction": {
                                "none": true,
                                "expectYukonXMLShowPlan": false
                            }
                        }
                    }
                }
            ],
            "execution_count": 49
        },
        {
            "cell_type": "markdown",
            "source": [
                "We can also use EOMONTH to calculate the end of the month for a date. So our query would look like this:"
            ],
            "metadata": {
                "azdata_cell_guid": "4d06c8a0-ba4d-4225-bb8d-9040c8781c7e"
            }
        },
        {
            "cell_type": "code",
            "source": [
                "DECLARE @CustomerAccountDate DATE\r\n",
                "SELECT @CustomerAccountDate = AccountOpenedDate FROM Sales.Customers WHERE CustomerName = 'Aive Petrov' -- '2013-08-10'\r\n",
                "SELECT CustomerName, AccountOpenedDate FROM Sales.Customers WHERE AccountOpenedDate BETWEEN @CustomerAccountDate AND EOMONTH(@CustomerAccountDate)"
            ],
            "metadata": {
                "azdata_cell_guid": "c368e946-a7f9-4672-b750-0670660384c4"
            },
            "outputs": [
                {
                    "output_type": "display_data",
                    "data": {
                        "text/html": "(2 rows affected)"
                    },
                    "metadata": {}
                },
                {
                    "output_type": "display_data",
                    "data": {
                        "text/html": "Total execution time: 00:00:00.017"
                    },
                    "metadata": {}
                },
                {
                    "output_type": "execute_result",
                    "execution_count": 50,
                    "data": {
                        "application/vnd.dataresource+json": {
                            "schema": {
                                "fields": [
                                    {
                                        "name": "CustomerName"
                                    },
                                    {
                                        "name": "AccountOpenedDate"
                                    }
                                ]
                            },
                            "data": [
                                {
                                    "0": "Aive Petrov",
                                    "1": "2013-08-10"
                                },
                                {
                                    "0": "David Novacek ",
                                    "1": "2013-08-15"
                                }
                            ]
                        },
                        "text/html": "<table><tr><th>CustomerName</th><th>AccountOpenedDate</th></tr><tr><td>Aive Petrov</td><td>2013-08-10</td></tr><tr><td>David Novacek </td><td>2013-08-15</td></tr></table>"
                    },
                    "metadata": {
                        "resultSet": {
                            "id": 0,
                            "batchId": 0,
                            "rowCount": 2,
                            "complete": true,
                            "columnInfo": [
                                {
                                    "isBytes": false,
                                    "isChars": true,
                                    "isSqlVariant": false,
                                    "isUdt": false,
                                    "isXml": false,
                                    "isJson": false,
                                    "sqlDbType": 12,
                                    "isHierarchyId": false,
                                    "isSqlXmlType": false,
                                    "isUnknownType": false,
                                    "isUpdatable": true,
                                    "allowDBNull": false,
                                    "baseCatalogName": null,
                                    "baseColumnName": null,
                                    "baseSchemaName": null,
                                    "baseServerName": null,
                                    "baseTableName": null,
                                    "columnName": "CustomerName",
                                    "columnOrdinal": 0,
                                    "columnSize": 100,
                                    "isAliased": null,
                                    "isAutoIncrement": false,
                                    "isExpression": null,
                                    "isHidden": null,
                                    "isIdentity": false,
                                    "isKey": null,
                                    "isLong": false,
                                    "isReadOnly": false,
                                    "isUnique": false,
                                    "numericPrecision": 255,
                                    "numericScale": 255,
                                    "udtAssemblyQualifiedName": null,
                                    "dataType": "System.String, System.Private.CoreLib, Version=4.0.0.0, Culture=neutral, PublicKeyToken=7cec85d7bea7798e",
                                    "dataTypeName": "nvarchar"
                                },
                                {
                                    "isBytes": false,
                                    "isChars": false,
                                    "isSqlVariant": false,
                                    "isUdt": false,
                                    "isXml": false,
                                    "isJson": false,
                                    "sqlDbType": 31,
                                    "isHierarchyId": false,
                                    "isSqlXmlType": false,
                                    "isUnknownType": false,
                                    "isUpdatable": true,
                                    "allowDBNull": false,
                                    "baseCatalogName": null,
                                    "baseColumnName": null,
                                    "baseSchemaName": null,
                                    "baseServerName": null,
                                    "baseTableName": null,
                                    "columnName": "AccountOpenedDate",
                                    "columnOrdinal": 1,
                                    "columnSize": 3,
                                    "isAliased": null,
                                    "isAutoIncrement": false,
                                    "isExpression": null,
                                    "isHidden": null,
                                    "isIdentity": false,
                                    "isKey": null,
                                    "isLong": false,
                                    "isReadOnly": false,
                                    "isUnique": false,
                                    "numericPrecision": 255,
                                    "numericScale": 255,
                                    "udtAssemblyQualifiedName": null,
                                    "dataType": "System.DateTime, System.Private.CoreLib, Version=4.0.0.0, Culture=neutral, PublicKeyToken=7cec85d7bea7798e",
                                    "dataTypeName": "date"
                                }
                            ],
                            "specialAction": {
                                "none": true,
                                "expectYukonXMLShowPlan": false
                            }
                        }
                    }
                }
            ],
            "execution_count": 50
        },
        {
            "cell_type": "markdown",
            "source": [
                "EOMONTH can be used to calculate the end of a month based on a date passed in as well as an optional month shift.\n",
                "\n",
                "- If we pass in a negative month shift, EOMONTH calculates for prior months.\n",
                "- If we do not pass in a month shift, EOMONTH calculates only for the date passed in.\n",
                "- If we pass in a positive month shift, EOMONTH calculates for future months.\n",
                "\n",
                "Consider the following query. We are going to use GETDATE() to get the current date."
            ],
            "metadata": {
                "azdata_cell_guid": "092dc3a2-aacc-4ce7-b29a-3a47c9b1bc19"
            }
        },
        {
            "cell_type": "code",
            "source": [
                "DECLARE @Today datetime = GETDATE()\r\n",
                "SELECT @Today, EOMONTH(@Today,-1), EOMONTH(@Today), EOMONTH(@Today,1)"
            ],
            "metadata": {
                "azdata_cell_guid": "59c96d6f-7c09-4e09-9b80-256df8c9f786"
            },
            "outputs": [
                {
                    "output_type": "display_data",
                    "data": {
                        "text/html": "(1 row affected)"
                    },
                    "metadata": {}
                },
                {
                    "output_type": "display_data",
                    "data": {
                        "text/html": "Total execution time: 00:00:00.006"
                    },
                    "metadata": {}
                },
                {
                    "output_type": "execute_result",
                    "execution_count": 52,
                    "data": {
                        "application/vnd.dataresource+json": {
                            "schema": {
                                "fields": [
                                    {
                                        "name": "(No column name)"
                                    },
                                    {
                                        "name": "(No column name)"
                                    },
                                    {
                                        "name": "(No column name)"
                                    },
                                    {
                                        "name": "(No column name)"
                                    }
                                ]
                            },
                            "data": [
                                {
                                    "0": "2020-11-12 16:36:06.567",
                                    "1": "2020-10-31",
                                    "2": "2020-11-30",
                                    "3": "2020-12-31"
                                }
                            ]
                        },
                        "text/html": "<table><tr><th>(No column name)</th><th>(No column name)</th><th>(No column name)</th><th>(No column name)</th></tr><tr><td>2020-11-12 16:36:06.567</td><td>2020-10-31</td><td>2020-11-30</td><td>2020-12-31</td></tr></table>"
                    },
                    "metadata": {
                        "resultSet": {
                            "id": 0,
                            "batchId": 0,
                            "rowCount": 1,
                            "complete": true,
                            "columnInfo": [
                                {
                                    "isBytes": false,
                                    "isChars": false,
                                    "isSqlVariant": false,
                                    "isUdt": false,
                                    "isXml": false,
                                    "isJson": false,
                                    "sqlDbType": 4,
                                    "isHierarchyId": false,
                                    "isSqlXmlType": false,
                                    "isUnknownType": false,
                                    "isUpdatable": false,
                                    "allowDBNull": true,
                                    "baseCatalogName": null,
                                    "baseColumnName": null,
                                    "baseSchemaName": null,
                                    "baseServerName": null,
                                    "baseTableName": null,
                                    "columnName": "(No column name)",
                                    "columnOrdinal": 0,
                                    "columnSize": 8,
                                    "isAliased": null,
                                    "isAutoIncrement": false,
                                    "isExpression": null,
                                    "isHidden": null,
                                    "isIdentity": false,
                                    "isKey": null,
                                    "isLong": false,
                                    "isReadOnly": true,
                                    "isUnique": false,
                                    "numericPrecision": 23,
                                    "numericScale": 3,
                                    "udtAssemblyQualifiedName": null,
                                    "dataType": "System.DateTime, System.Private.CoreLib, Version=4.0.0.0, Culture=neutral, PublicKeyToken=7cec85d7bea7798e",
                                    "dataTypeName": "datetime"
                                },
                                {
                                    "isBytes": false,
                                    "isChars": false,
                                    "isSqlVariant": false,
                                    "isUdt": false,
                                    "isXml": false,
                                    "isJson": false,
                                    "sqlDbType": 31,
                                    "isHierarchyId": false,
                                    "isSqlXmlType": false,
                                    "isUnknownType": false,
                                    "isUpdatable": false,
                                    "allowDBNull": true,
                                    "baseCatalogName": null,
                                    "baseColumnName": null,
                                    "baseSchemaName": null,
                                    "baseServerName": null,
                                    "baseTableName": null,
                                    "columnName": "(No column name)",
                                    "columnOrdinal": 1,
                                    "columnSize": 3,
                                    "isAliased": null,
                                    "isAutoIncrement": false,
                                    "isExpression": null,
                                    "isHidden": null,
                                    "isIdentity": false,
                                    "isKey": null,
                                    "isLong": false,
                                    "isReadOnly": true,
                                    "isUnique": false,
                                    "numericPrecision": 255,
                                    "numericScale": 255,
                                    "udtAssemblyQualifiedName": null,
                                    "dataType": "System.DateTime, System.Private.CoreLib, Version=4.0.0.0, Culture=neutral, PublicKeyToken=7cec85d7bea7798e",
                                    "dataTypeName": "date"
                                },
                                {
                                    "isBytes": false,
                                    "isChars": false,
                                    "isSqlVariant": false,
                                    "isUdt": false,
                                    "isXml": false,
                                    "isJson": false,
                                    "sqlDbType": 31,
                                    "isHierarchyId": false,
                                    "isSqlXmlType": false,
                                    "isUnknownType": false,
                                    "isUpdatable": false,
                                    "allowDBNull": true,
                                    "baseCatalogName": null,
                                    "baseColumnName": null,
                                    "baseSchemaName": null,
                                    "baseServerName": null,
                                    "baseTableName": null,
                                    "columnName": "(No column name)",
                                    "columnOrdinal": 2,
                                    "columnSize": 3,
                                    "isAliased": null,
                                    "isAutoIncrement": false,
                                    "isExpression": null,
                                    "isHidden": null,
                                    "isIdentity": false,
                                    "isKey": null,
                                    "isLong": false,
                                    "isReadOnly": true,
                                    "isUnique": false,
                                    "numericPrecision": 255,
                                    "numericScale": 255,
                                    "udtAssemblyQualifiedName": null,
                                    "dataType": "System.DateTime, System.Private.CoreLib, Version=4.0.0.0, Culture=neutral, PublicKeyToken=7cec85d7bea7798e",
                                    "dataTypeName": "date"
                                },
                                {
                                    "isBytes": false,
                                    "isChars": false,
                                    "isSqlVariant": false,
                                    "isUdt": false,
                                    "isXml": false,
                                    "isJson": false,
                                    "sqlDbType": 31,
                                    "isHierarchyId": false,
                                    "isSqlXmlType": false,
                                    "isUnknownType": false,
                                    "isUpdatable": false,
                                    "allowDBNull": true,
                                    "baseCatalogName": null,
                                    "baseColumnName": null,
                                    "baseSchemaName": null,
                                    "baseServerName": null,
                                    "baseTableName": null,
                                    "columnName": "(No column name)",
                                    "columnOrdinal": 3,
                                    "columnSize": 3,
                                    "isAliased": null,
                                    "isAutoIncrement": false,
                                    "isExpression": null,
                                    "isHidden": null,
                                    "isIdentity": false,
                                    "isKey": null,
                                    "isLong": false,
                                    "isReadOnly": true,
                                    "isUnique": false,
                                    "numericPrecision": 255,
                                    "numericScale": 255,
                                    "udtAssemblyQualifiedName": null,
                                    "dataType": "System.DateTime, System.Private.CoreLib, Version=4.0.0.0, Culture=neutral, PublicKeyToken=7cec85d7bea7798e",
                                    "dataTypeName": "date"
                                }
                            ],
                            "specialAction": {
                                "none": true,
                                "expectYukonXMLShowPlan": false
                            }
                        }
                    }
                }
            ],
            "execution_count": 52
        },
        {
            "cell_type": "markdown",
            "source": [
                "### AS keyword\n",
                "\n",
                "In that last query, the column names came back as \"(No column name)\". When looking at results, it could be easy to get lost in nameless columns. We can use the AS keyword in our SELECT clause to assign column names to these values."
            ],
            "metadata": {
                "azdata_cell_guid": "c0f61bf0-b88a-4502-baea-027c3f0c9474"
            }
        },
        {
            "cell_type": "code",
            "source": [
                "DECLARE @Today datetime = GETDATE()\r\n",
                "SELECT @Today AS 'Today', EOMONTH(@Today,-1) AS 'EndOfLastMonth', EOMONTH(@Today) AS 'EndOfThisMonth', EOMONTH(@Today,1) AS 'EndOfNextMonth'"
            ],
            "metadata": {
                "azdata_cell_guid": "50153be5-877b-4421-803e-0dcdee79c67d"
            },
            "outputs": [
                {
                    "output_type": "display_data",
                    "data": {
                        "text/html": "(1 row affected)"
                    },
                    "metadata": {}
                },
                {
                    "output_type": "display_data",
                    "data": {
                        "text/html": "Total execution time: 00:00:00.008"
                    },
                    "metadata": {}
                },
                {
                    "output_type": "execute_result",
                    "execution_count": 53,
                    "data": {
                        "application/vnd.dataresource+json": {
                            "schema": {
                                "fields": [
                                    {
                                        "name": "Today"
                                    },
                                    {
                                        "name": "EndOfLastMonth"
                                    },
                                    {
                                        "name": "EndOfThisMonth"
                                    },
                                    {
                                        "name": "EndOfNextMonth"
                                    }
                                ]
                            },
                            "data": [
                                {
                                    "0": "2020-11-12 16:40:31.890",
                                    "1": "2020-10-31",
                                    "2": "2020-11-30",
                                    "3": "2020-12-31"
                                }
                            ]
                        },
                        "text/html": "<table><tr><th>Today</th><th>EndOfLastMonth</th><th>EndOfThisMonth</th><th>EndOfNextMonth</th></tr><tr><td>2020-11-12 16:40:31.890</td><td>2020-10-31</td><td>2020-11-30</td><td>2020-12-31</td></tr></table>"
                    },
                    "metadata": {
                        "resultSet": {
                            "id": 0,
                            "batchId": 0,
                            "rowCount": 1,
                            "complete": true,
                            "columnInfo": [
                                {
                                    "isBytes": false,
                                    "isChars": false,
                                    "isSqlVariant": false,
                                    "isUdt": false,
                                    "isXml": false,
                                    "isJson": false,
                                    "sqlDbType": 4,
                                    "isHierarchyId": false,
                                    "isSqlXmlType": false,
                                    "isUnknownType": false,
                                    "isUpdatable": false,
                                    "allowDBNull": true,
                                    "baseCatalogName": null,
                                    "baseColumnName": null,
                                    "baseSchemaName": null,
                                    "baseServerName": null,
                                    "baseTableName": null,
                                    "columnName": "Today",
                                    "columnOrdinal": 0,
                                    "columnSize": 8,
                                    "isAliased": null,
                                    "isAutoIncrement": false,
                                    "isExpression": null,
                                    "isHidden": null,
                                    "isIdentity": false,
                                    "isKey": null,
                                    "isLong": false,
                                    "isReadOnly": true,
                                    "isUnique": false,
                                    "numericPrecision": 23,
                                    "numericScale": 3,
                                    "udtAssemblyQualifiedName": null,
                                    "dataType": "System.DateTime, System.Private.CoreLib, Version=4.0.0.0, Culture=neutral, PublicKeyToken=7cec85d7bea7798e",
                                    "dataTypeName": "datetime"
                                },
                                {
                                    "isBytes": false,
                                    "isChars": false,
                                    "isSqlVariant": false,
                                    "isUdt": false,
                                    "isXml": false,
                                    "isJson": false,
                                    "sqlDbType": 31,
                                    "isHierarchyId": false,
                                    "isSqlXmlType": false,
                                    "isUnknownType": false,
                                    "isUpdatable": false,
                                    "allowDBNull": true,
                                    "baseCatalogName": null,
                                    "baseColumnName": null,
                                    "baseSchemaName": null,
                                    "baseServerName": null,
                                    "baseTableName": null,
                                    "columnName": "EndOfLastMonth",
                                    "columnOrdinal": 1,
                                    "columnSize": 3,
                                    "isAliased": null,
                                    "isAutoIncrement": false,
                                    "isExpression": null,
                                    "isHidden": null,
                                    "isIdentity": false,
                                    "isKey": null,
                                    "isLong": false,
                                    "isReadOnly": true,
                                    "isUnique": false,
                                    "numericPrecision": 255,
                                    "numericScale": 255,
                                    "udtAssemblyQualifiedName": null,
                                    "dataType": "System.DateTime, System.Private.CoreLib, Version=4.0.0.0, Culture=neutral, PublicKeyToken=7cec85d7bea7798e",
                                    "dataTypeName": "date"
                                },
                                {
                                    "isBytes": false,
                                    "isChars": false,
                                    "isSqlVariant": false,
                                    "isUdt": false,
                                    "isXml": false,
                                    "isJson": false,
                                    "sqlDbType": 31,
                                    "isHierarchyId": false,
                                    "isSqlXmlType": false,
                                    "isUnknownType": false,
                                    "isUpdatable": false,
                                    "allowDBNull": true,
                                    "baseCatalogName": null,
                                    "baseColumnName": null,
                                    "baseSchemaName": null,
                                    "baseServerName": null,
                                    "baseTableName": null,
                                    "columnName": "EndOfThisMonth",
                                    "columnOrdinal": 2,
                                    "columnSize": 3,
                                    "isAliased": null,
                                    "isAutoIncrement": false,
                                    "isExpression": null,
                                    "isHidden": null,
                                    "isIdentity": false,
                                    "isKey": null,
                                    "isLong": false,
                                    "isReadOnly": true,
                                    "isUnique": false,
                                    "numericPrecision": 255,
                                    "numericScale": 255,
                                    "udtAssemblyQualifiedName": null,
                                    "dataType": "System.DateTime, System.Private.CoreLib, Version=4.0.0.0, Culture=neutral, PublicKeyToken=7cec85d7bea7798e",
                                    "dataTypeName": "date"
                                },
                                {
                                    "isBytes": false,
                                    "isChars": false,
                                    "isSqlVariant": false,
                                    "isUdt": false,
                                    "isXml": false,
                                    "isJson": false,
                                    "sqlDbType": 31,
                                    "isHierarchyId": false,
                                    "isSqlXmlType": false,
                                    "isUnknownType": false,
                                    "isUpdatable": false,
                                    "allowDBNull": true,
                                    "baseCatalogName": null,
                                    "baseColumnName": null,
                                    "baseSchemaName": null,
                                    "baseServerName": null,
                                    "baseTableName": null,
                                    "columnName": "EndOfNextMonth",
                                    "columnOrdinal": 3,
                                    "columnSize": 3,
                                    "isAliased": null,
                                    "isAutoIncrement": false,
                                    "isExpression": null,
                                    "isHidden": null,
                                    "isIdentity": false,
                                    "isKey": null,
                                    "isLong": false,
                                    "isReadOnly": true,
                                    "isUnique": false,
                                    "numericPrecision": 255,
                                    "numericScale": 255,
                                    "udtAssemblyQualifiedName": null,
                                    "dataType": "System.DateTime, System.Private.CoreLib, Version=4.0.0.0, Culture=neutral, PublicKeyToken=7cec85d7bea7798e",
                                    "dataTypeName": "date"
                                }
                            ],
                            "specialAction": {
                                "none": true,
                                "expectYukonXMLShowPlan": false
                            }
                        }
                    }
                }
            ],
            "execution_count": 53
        },
        {
            "cell_type": "markdown",
            "source": [
                "The AS keyword for aliases applies to columns and tables, as we will see in the lesson where we connect tables.  In these particular cases, the AS keyword is optional.  It can be replaced as a space between the field name and the alias.  The above query with the column aliases without the keyword would be:"
            ],
            "metadata": {
                "azdata_cell_guid": "b976d0df-428f-436b-b2de-cd2b59f4f2be"
            }
        },
        {
            "cell_type": "code",
            "source": [
                "DECLARE @Today datetime = GETDATE()\r\n",
                "SELECT @Today 'Today', EOMONTH(@Today,-1) 'EndOfLastMonth', EOMONTH(@Today) 'EndOfThisMonth', EOMONTH(@Today,1) 'EndOfNextMonth'"
            ],
            "metadata": {
                "azdata_cell_guid": "e4e440f0-7184-434b-9af0-e699e78553df"
            },
            "outputs": [
                {
                    "output_type": "display_data",
                    "data": {
                        "text/html": "(1 row affected)"
                    },
                    "metadata": {}
                },
                {
                    "output_type": "display_data",
                    "data": {
                        "text/html": "Total execution time: 00:00:00.092"
                    },
                    "metadata": {}
                },
                {
                    "output_type": "execute_result",
                    "execution_count": 1,
                    "data": {
                        "application/vnd.dataresource+json": {
                            "schema": {
                                "fields": [
                                    {
                                        "name": "Today"
                                    },
                                    {
                                        "name": "EndOfLastMonth"
                                    },
                                    {
                                        "name": "EndOfThisMonth"
                                    },
                                    {
                                        "name": "EndOfNextMonth"
                                    }
                                ]
                            },
                            "data": [
                                {
                                    "0": "2020-11-18 16:38:53.623",
                                    "1": "2020-10-31",
                                    "2": "2020-11-30",
                                    "3": "2020-12-31"
                                }
                            ]
                        },
                        "text/html": "<table><tr><th>Today</th><th>EndOfLastMonth</th><th>EndOfThisMonth</th><th>EndOfNextMonth</th></tr><tr><td>2020-11-18 16:38:53.623</td><td>2020-10-31</td><td>2020-11-30</td><td>2020-12-31</td></tr></table>"
                    },
                    "metadata": {
                        "resultSet": {
                            "id": 0,
                            "batchId": 0,
                            "rowCount": 1,
                            "complete": false,
                            "columnInfo": [
                                {
                                    "isBytes": false,
                                    "isChars": false,
                                    "isSqlVariant": false,
                                    "isUdt": false,
                                    "isXml": false,
                                    "isJson": false,
                                    "sqlDbType": 4,
                                    "isHierarchyId": false,
                                    "isSqlXmlType": false,
                                    "isUnknownType": false,
                                    "isUpdatable": false,
                                    "allowDBNull": true,
                                    "baseCatalogName": null,
                                    "baseColumnName": null,
                                    "baseSchemaName": null,
                                    "baseServerName": null,
                                    "baseTableName": null,
                                    "columnName": "Today",
                                    "columnOrdinal": 0,
                                    "columnSize": 8,
                                    "isAliased": null,
                                    "isAutoIncrement": false,
                                    "isExpression": null,
                                    "isHidden": null,
                                    "isIdentity": false,
                                    "isKey": null,
                                    "isLong": false,
                                    "isReadOnly": true,
                                    "isUnique": false,
                                    "numericPrecision": 23,
                                    "numericScale": 3,
                                    "udtAssemblyQualifiedName": null,
                                    "dataType": "System.DateTime, System.Private.CoreLib, Version=4.0.0.0, Culture=neutral, PublicKeyToken=7cec85d7bea7798e",
                                    "dataTypeName": "datetime"
                                },
                                {
                                    "isBytes": false,
                                    "isChars": false,
                                    "isSqlVariant": false,
                                    "isUdt": false,
                                    "isXml": false,
                                    "isJson": false,
                                    "sqlDbType": 31,
                                    "isHierarchyId": false,
                                    "isSqlXmlType": false,
                                    "isUnknownType": false,
                                    "isUpdatable": false,
                                    "allowDBNull": true,
                                    "baseCatalogName": null,
                                    "baseColumnName": null,
                                    "baseSchemaName": null,
                                    "baseServerName": null,
                                    "baseTableName": null,
                                    "columnName": "EndOfLastMonth",
                                    "columnOrdinal": 1,
                                    "columnSize": 3,
                                    "isAliased": null,
                                    "isAutoIncrement": false,
                                    "isExpression": null,
                                    "isHidden": null,
                                    "isIdentity": false,
                                    "isKey": null,
                                    "isLong": false,
                                    "isReadOnly": true,
                                    "isUnique": false,
                                    "numericPrecision": 255,
                                    "numericScale": 255,
                                    "udtAssemblyQualifiedName": null,
                                    "dataType": "System.DateTime, System.Private.CoreLib, Version=4.0.0.0, Culture=neutral, PublicKeyToken=7cec85d7bea7798e",
                                    "dataTypeName": "date"
                                },
                                {
                                    "isBytes": false,
                                    "isChars": false,
                                    "isSqlVariant": false,
                                    "isUdt": false,
                                    "isXml": false,
                                    "isJson": false,
                                    "sqlDbType": 31,
                                    "isHierarchyId": false,
                                    "isSqlXmlType": false,
                                    "isUnknownType": false,
                                    "isUpdatable": false,
                                    "allowDBNull": true,
                                    "baseCatalogName": null,
                                    "baseColumnName": null,
                                    "baseSchemaName": null,
                                    "baseServerName": null,
                                    "baseTableName": null,
                                    "columnName": "EndOfThisMonth",
                                    "columnOrdinal": 2,
                                    "columnSize": 3,
                                    "isAliased": null,
                                    "isAutoIncrement": false,
                                    "isExpression": null,
                                    "isHidden": null,
                                    "isIdentity": false,
                                    "isKey": null,
                                    "isLong": false,
                                    "isReadOnly": true,
                                    "isUnique": false,
                                    "numericPrecision": 255,
                                    "numericScale": 255,
                                    "udtAssemblyQualifiedName": null,
                                    "dataType": "System.DateTime, System.Private.CoreLib, Version=4.0.0.0, Culture=neutral, PublicKeyToken=7cec85d7bea7798e",
                                    "dataTypeName": "date"
                                },
                                {
                                    "isBytes": false,
                                    "isChars": false,
                                    "isSqlVariant": false,
                                    "isUdt": false,
                                    "isXml": false,
                                    "isJson": false,
                                    "sqlDbType": 31,
                                    "isHierarchyId": false,
                                    "isSqlXmlType": false,
                                    "isUnknownType": false,
                                    "isUpdatable": false,
                                    "allowDBNull": true,
                                    "baseCatalogName": null,
                                    "baseColumnName": null,
                                    "baseSchemaName": null,
                                    "baseServerName": null,
                                    "baseTableName": null,
                                    "columnName": "EndOfNextMonth",
                                    "columnOrdinal": 3,
                                    "columnSize": 3,
                                    "isAliased": null,
                                    "isAutoIncrement": false,
                                    "isExpression": null,
                                    "isHidden": null,
                                    "isIdentity": false,
                                    "isKey": null,
                                    "isLong": false,
                                    "isReadOnly": true,
                                    "isUnique": false,
                                    "numericPrecision": 255,
                                    "numericScale": 255,
                                    "udtAssemblyQualifiedName": null,
                                    "dataType": "System.DateTime, System.Private.CoreLib, Version=4.0.0.0, Culture=neutral, PublicKeyToken=7cec85d7bea7798e",
                                    "dataTypeName": "date"
                                }
                            ],
                            "specialAction": null
                        }
                    }
                }
            ],
            "execution_count": 1
        },
        {
            "cell_type": "markdown",
            "source": [
                "### IN keyword\r\n",
                "\r\n",
                "We can the IN keyword in our WHERE clause to filter values from within a group. Suppose we want to find the colors on the Warehouse.Colors table that have ColorIDs 1, 4, and 6. We can use the IN operator for that as well.  That query is:"
            ],
            "metadata": {
                "azdata_cell_guid": "1fae13f9-4aea-4416-ae3f-a864590a1756"
            }
        },
        {
            "cell_type": "code",
            "source": [
                "SELECT ColorID, ColorName FROM Warehouse.Colors WHERE ColorID IN (1, 4, 6)"
            ],
            "metadata": {
                "azdata_cell_guid": "43815e32-ed1b-412e-9755-55b984e97128"
            },
            "outputs": [],
            "execution_count": null
        },
        {
            "cell_type": "markdown",
            "source": [
                "We can also use IN with dates. Consider this example where we know that we want accounts opened on 2014-05-14, 2014-11-13, and 2014-12-03."
            ],
            "metadata": {
                "azdata_cell_guid": "40644315-b5a8-4328-a6c2-13d178323084"
            }
        },
        {
            "cell_type": "code",
            "source": [
                "SELECT CustomerName, AccountOpenedDate FROM Sales.Customers WHERE AccountOpenedDate IN ('2014-05-14','2014-11-13', '2014-12-03')"
            ],
            "metadata": {
                "azdata_cell_guid": "0fea4333-ba70-4290-bcb3-8d9891b754af"
            },
            "outputs": [],
            "execution_count": null
        },
        {
            "cell_type": "markdown",
            "source": [
                "### Ordering Results with the ORDER BY clause\n",
                "\n",
                "By default, search results come back in an order that seems logical - typically in the natural order of the primary key. This means string keys are alphabetical A-Z, numeric keys 0-9, and other fields in their natural lower to higher - <strong>ascending</strong> - sort order. We can use the ORDER BY clause, after the WHERE clause, to control the order of the results.\n",
                "\n",
                "We want to see when these accounts were opened, oldest to newest in 2014, so ascending. This query is:"
            ],
            "metadata": {
                "azdata_cell_guid": "0e89bd73-12a4-464a-8887-2403866ca65a"
            }
        },
        {
            "cell_type": "code",
            "source": [
                "SELECT CustomerName, AccountOpenedDate FROM Sales.Customers WHERE YEAR(AccountOpenedDate) = 2014 ORDER BY AccountOpenedDate"
            ],
            "metadata": {
                "azdata_cell_guid": "713e3715-3263-43cf-aa47-2d608c513a8a"
            },
            "outputs": [
                {
                    "output_type": "display_data",
                    "data": {
                        "text/html": "(14 rows affected)"
                    },
                    "metadata": {}
                },
                {
                    "output_type": "display_data",
                    "data": {
                        "text/html": "Total execution time: 00:00:00.003"
                    },
                    "metadata": {}
                },
                {
                    "output_type": "execute_result",
                    "execution_count": 55,
                    "data": {
                        "application/vnd.dataresource+json": {
                            "schema": {
                                "fields": [
                                    {
                                        "name": "CustomerName"
                                    },
                                    {
                                        "name": "AccountOpenedDate"
                                    }
                                ]
                            },
                            "data": [
                                {
                                    "0": "Tuulikki Linna",
                                    "1": "2014-01-15"
                                },
                                {
                                    "0": "Daniella Cavalcante",
                                    "1": "2014-01-17"
                                },
                                {
                                    "0": "Serdar ozden",
                                    "1": "2014-02-22"
                                },
                                {
                                    "0": "Emma Van Zant",
                                    "1": "2014-05-14"
                                },
                                {
                                    "0": "Veronika Necesana",
                                    "1": "2014-05-18"
                                },
                                {
                                    "0": "Chompoo Atitarn",
                                    "1": "2014-06-18"
                                },
                                {
                                    "0": "Dipti Shah",
                                    "1": "2014-08-03"
                                },
                                {
                                    "0": "Som Mukherjee",
                                    "1": "2014-08-25"
                                },
                                {
                                    "0": "Cuneyt Arslan",
                                    "1": "2014-08-26"
                                },
                                {
                                    "0": "Aishwarya Dantuluri",
                                    "1": "2014-09-03"
                                },
                                {
                                    "0": "Manjunatha Karnik",
                                    "1": "2014-11-08"
                                },
                                {
                                    "0": "Erik Malk",
                                    "1": "2014-11-13"
                                },
                                {
                                    "0": "David Jaramillo",
                                    "1": "2014-11-21"
                                },
                                {
                                    "0": "Damodara Trivedi",
                                    "1": "2014-12-03"
                                }
                            ]
                        },
                        "text/html": "<table><tr><th>CustomerName</th><th>AccountOpenedDate</th></tr><tr><td>Tuulikki Linna</td><td>2014-01-15</td></tr><tr><td>Daniella Cavalcante</td><td>2014-01-17</td></tr><tr><td>Serdar ozden</td><td>2014-02-22</td></tr><tr><td>Emma Van Zant</td><td>2014-05-14</td></tr><tr><td>Veronika Necesana</td><td>2014-05-18</td></tr><tr><td>Chompoo Atitarn</td><td>2014-06-18</td></tr><tr><td>Dipti Shah</td><td>2014-08-03</td></tr><tr><td>Som Mukherjee</td><td>2014-08-25</td></tr><tr><td>Cuneyt Arslan</td><td>2014-08-26</td></tr><tr><td>Aishwarya Dantuluri</td><td>2014-09-03</td></tr><tr><td>Manjunatha Karnik</td><td>2014-11-08</td></tr><tr><td>Erik Malk</td><td>2014-11-13</td></tr><tr><td>David Jaramillo</td><td>2014-11-21</td></tr><tr><td>Damodara Trivedi</td><td>2014-12-03</td></tr></table>"
                    },
                    "metadata": {
                        "resultSet": {
                            "id": 0,
                            "batchId": 0,
                            "rowCount": 14,
                            "complete": true,
                            "columnInfo": [
                                {
                                    "isBytes": false,
                                    "isChars": true,
                                    "isSqlVariant": false,
                                    "isUdt": false,
                                    "isXml": false,
                                    "isJson": false,
                                    "sqlDbType": 12,
                                    "isHierarchyId": false,
                                    "isSqlXmlType": false,
                                    "isUnknownType": false,
                                    "isUpdatable": true,
                                    "allowDBNull": false,
                                    "baseCatalogName": null,
                                    "baseColumnName": null,
                                    "baseSchemaName": null,
                                    "baseServerName": null,
                                    "baseTableName": null,
                                    "columnName": "CustomerName",
                                    "columnOrdinal": 0,
                                    "columnSize": 100,
                                    "isAliased": null,
                                    "isAutoIncrement": false,
                                    "isExpression": null,
                                    "isHidden": null,
                                    "isIdentity": false,
                                    "isKey": null,
                                    "isLong": false,
                                    "isReadOnly": false,
                                    "isUnique": false,
                                    "numericPrecision": 255,
                                    "numericScale": 255,
                                    "udtAssemblyQualifiedName": null,
                                    "dataType": "System.String, System.Private.CoreLib, Version=4.0.0.0, Culture=neutral, PublicKeyToken=7cec85d7bea7798e",
                                    "dataTypeName": "nvarchar"
                                },
                                {
                                    "isBytes": false,
                                    "isChars": false,
                                    "isSqlVariant": false,
                                    "isUdt": false,
                                    "isXml": false,
                                    "isJson": false,
                                    "sqlDbType": 31,
                                    "isHierarchyId": false,
                                    "isSqlXmlType": false,
                                    "isUnknownType": false,
                                    "isUpdatable": true,
                                    "allowDBNull": false,
                                    "baseCatalogName": null,
                                    "baseColumnName": null,
                                    "baseSchemaName": null,
                                    "baseServerName": null,
                                    "baseTableName": null,
                                    "columnName": "AccountOpenedDate",
                                    "columnOrdinal": 1,
                                    "columnSize": 3,
                                    "isAliased": null,
                                    "isAutoIncrement": false,
                                    "isExpression": null,
                                    "isHidden": null,
                                    "isIdentity": false,
                                    "isKey": null,
                                    "isLong": false,
                                    "isReadOnly": false,
                                    "isUnique": false,
                                    "numericPrecision": 255,
                                    "numericScale": 255,
                                    "udtAssemblyQualifiedName": null,
                                    "dataType": "System.DateTime, System.Private.CoreLib, Version=4.0.0.0, Culture=neutral, PublicKeyToken=7cec85d7bea7798e",
                                    "dataTypeName": "date"
                                }
                            ],
                            "specialAction": {
                                "none": true,
                                "expectYukonXMLShowPlan": false
                            }
                        }
                    }
                }
            ],
            "execution_count": 55
        },
        {
            "cell_type": "markdown",
            "source": [
                "The ORDER BY clause takes in a list of fields and directions. There are two directions for sorting:\n",
                "\n",
                "- Ascending - lowest to highest, A-Z, 0-9, earliest date to latest date - considered the natural sort and does not necessarily need specified. However, you can use ASC to denote sorting ascending.\n",
                "- Descending - highest to lowest, Z-A, 9-0, latest date to earliest data - noted with the DESC shortcut.\n",
                "\n",
                "Let's order our customers of 2014 from latest to earliest accounts. For this, we will need the ORDER BY clause after the WHERE clause with AccountOpenedDate DESC to indicate we want to sort by the account opened date latest to earliest. This query looks like:"
            ],
            "metadata": {
                "azdata_cell_guid": "0b026eaa-911f-4f41-8017-627475b8841d"
            }
        },
        {
            "cell_type": "code",
            "source": [
                "SELECT CustomerName, AccountOpenedDate FROM Sales.Customers WHERE YEAR(AccountOpenedDate) = 2014 ORDER BY AccountOpenedDate DESC"
            ],
            "metadata": {
                "azdata_cell_guid": "57669502-abcf-42bf-a599-2eb421b7ee73"
            },
            "outputs": [
                {
                    "output_type": "display_data",
                    "data": {
                        "text/html": "(14 rows affected)"
                    },
                    "metadata": {}
                },
                {
                    "output_type": "display_data",
                    "data": {
                        "text/html": "Total execution time: 00:00:00.021"
                    },
                    "metadata": {}
                },
                {
                    "output_type": "execute_result",
                    "execution_count": 56,
                    "data": {
                        "application/vnd.dataresource+json": {
                            "schema": {
                                "fields": [
                                    {
                                        "name": "CustomerName"
                                    },
                                    {
                                        "name": "AccountOpenedDate"
                                    }
                                ]
                            },
                            "data": [
                                {
                                    "0": "Damodara Trivedi",
                                    "1": "2014-12-03"
                                },
                                {
                                    "0": "David Jaramillo",
                                    "1": "2014-11-21"
                                },
                                {
                                    "0": "Erik Malk",
                                    "1": "2014-11-13"
                                },
                                {
                                    "0": "Manjunatha Karnik",
                                    "1": "2014-11-08"
                                },
                                {
                                    "0": "Aishwarya Dantuluri",
                                    "1": "2014-09-03"
                                },
                                {
                                    "0": "Cuneyt Arslan",
                                    "1": "2014-08-26"
                                },
                                {
                                    "0": "Som Mukherjee",
                                    "1": "2014-08-25"
                                },
                                {
                                    "0": "Dipti Shah",
                                    "1": "2014-08-03"
                                },
                                {
                                    "0": "Chompoo Atitarn",
                                    "1": "2014-06-18"
                                },
                                {
                                    "0": "Veronika Necesana",
                                    "1": "2014-05-18"
                                },
                                {
                                    "0": "Emma Van Zant",
                                    "1": "2014-05-14"
                                },
                                {
                                    "0": "Serdar ozden",
                                    "1": "2014-02-22"
                                },
                                {
                                    "0": "Daniella Cavalcante",
                                    "1": "2014-01-17"
                                },
                                {
                                    "0": "Tuulikki Linna",
                                    "1": "2014-01-15"
                                }
                            ]
                        },
                        "text/html": "<table><tr><th>CustomerName</th><th>AccountOpenedDate</th></tr><tr><td>Damodara Trivedi</td><td>2014-12-03</td></tr><tr><td>David Jaramillo</td><td>2014-11-21</td></tr><tr><td>Erik Malk</td><td>2014-11-13</td></tr><tr><td>Manjunatha Karnik</td><td>2014-11-08</td></tr><tr><td>Aishwarya Dantuluri</td><td>2014-09-03</td></tr><tr><td>Cuneyt Arslan</td><td>2014-08-26</td></tr><tr><td>Som Mukherjee</td><td>2014-08-25</td></tr><tr><td>Dipti Shah</td><td>2014-08-03</td></tr><tr><td>Chompoo Atitarn</td><td>2014-06-18</td></tr><tr><td>Veronika Necesana</td><td>2014-05-18</td></tr><tr><td>Emma Van Zant</td><td>2014-05-14</td></tr><tr><td>Serdar ozden</td><td>2014-02-22</td></tr><tr><td>Daniella Cavalcante</td><td>2014-01-17</td></tr><tr><td>Tuulikki Linna</td><td>2014-01-15</td></tr></table>"
                    },
                    "metadata": {
                        "resultSet": {
                            "id": 0,
                            "batchId": 0,
                            "rowCount": 14,
                            "complete": true,
                            "columnInfo": [
                                {
                                    "isBytes": false,
                                    "isChars": true,
                                    "isSqlVariant": false,
                                    "isUdt": false,
                                    "isXml": false,
                                    "isJson": false,
                                    "sqlDbType": 12,
                                    "isHierarchyId": false,
                                    "isSqlXmlType": false,
                                    "isUnknownType": false,
                                    "isUpdatable": true,
                                    "allowDBNull": false,
                                    "baseCatalogName": null,
                                    "baseColumnName": null,
                                    "baseSchemaName": null,
                                    "baseServerName": null,
                                    "baseTableName": null,
                                    "columnName": "CustomerName",
                                    "columnOrdinal": 0,
                                    "columnSize": 100,
                                    "isAliased": null,
                                    "isAutoIncrement": false,
                                    "isExpression": null,
                                    "isHidden": null,
                                    "isIdentity": false,
                                    "isKey": null,
                                    "isLong": false,
                                    "isReadOnly": false,
                                    "isUnique": false,
                                    "numericPrecision": 255,
                                    "numericScale": 255,
                                    "udtAssemblyQualifiedName": null,
                                    "dataType": "System.String, System.Private.CoreLib, Version=4.0.0.0, Culture=neutral, PublicKeyToken=7cec85d7bea7798e",
                                    "dataTypeName": "nvarchar"
                                },
                                {
                                    "isBytes": false,
                                    "isChars": false,
                                    "isSqlVariant": false,
                                    "isUdt": false,
                                    "isXml": false,
                                    "isJson": false,
                                    "sqlDbType": 31,
                                    "isHierarchyId": false,
                                    "isSqlXmlType": false,
                                    "isUnknownType": false,
                                    "isUpdatable": true,
                                    "allowDBNull": false,
                                    "baseCatalogName": null,
                                    "baseColumnName": null,
                                    "baseSchemaName": null,
                                    "baseServerName": null,
                                    "baseTableName": null,
                                    "columnName": "AccountOpenedDate",
                                    "columnOrdinal": 1,
                                    "columnSize": 3,
                                    "isAliased": null,
                                    "isAutoIncrement": false,
                                    "isExpression": null,
                                    "isHidden": null,
                                    "isIdentity": false,
                                    "isKey": null,
                                    "isLong": false,
                                    "isReadOnly": false,
                                    "isUnique": false,
                                    "numericPrecision": 255,
                                    "numericScale": 255,
                                    "udtAssemblyQualifiedName": null,
                                    "dataType": "System.DateTime, System.Private.CoreLib, Version=4.0.0.0, Culture=neutral, PublicKeyToken=7cec85d7bea7798e",
                                    "dataTypeName": "date"
                                }
                            ],
                            "specialAction": {
                                "none": true,
                                "expectYukonXMLShowPlan": false
                            }
                        }
                    }
                }
            ],
            "execution_count": 56
        },
        {
            "cell_type": "markdown",
            "source": [
                "The salesperson wants to know what accounts - besides the Toys accounts - were opened on 2013-01-01 and would like the customers listed alphabetically."
            ],
            "metadata": {
                "azdata_cell_guid": "bde79615-5e7a-4fcc-8c13-1d3efa2480d9"
            }
        },
        {
            "cell_type": "code",
            "source": [
                "SELECT CustomerName, AccountOpenedDate FROM Sales.Customers WHERE AccountOpenedDate = '2013-01-01' AND CustomerName NOT LIKE '%Toys%' ORDER BY CustomerName"
            ],
            "metadata": {
                "azdata_cell_guid": "9450401f-db1f-4135-97e8-df3d7c587221"
            },
            "outputs": [
                {
                    "output_type": "display_data",
                    "data": {
                        "text/html": "(200 rows affected)"
                    },
                    "metadata": {}
                },
                {
                    "output_type": "display_data",
                    "data": {
                        "text/html": "Total execution time: 00:00:00.019"
                    },
                    "metadata": {}
                },
                {
                    "output_type": "execute_result",
                    "execution_count": 61,
                    "data": {
                        "application/vnd.dataresource+json": {
                            "schema": {
                                "fields": [
                                    {
                                        "name": "CustomerName"
                                    },
                                    {
                                        "name": "AccountOpenedDate"
                                    }
                                ]
                            },
                            "data": [
                                {
                                    "0": "Aakriti Byrraju",
                                    "1": "2013-01-01"
                                },
                                {
                                    "0": "Abel Spirlea",
                                    "1": "2013-01-01"
                                },
                                {
                                    "0": "Abel Tatarescu",
                                    "1": "2013-01-01"
                                },
                                {
                                    "0": "Adrian Andreasson",
                                    "1": "2013-01-01"
                                },
                                {
                                    "0": "Agrita Kanepa",
                                    "1": "2013-01-01"
                                },
                                {
                                    "0": "Ajitaab Pakalapati",
                                    "1": "2013-01-01"
                                },
                                {
                                    "0": "Akhil Nadar",
                                    "1": "2013-01-01"
                                },
                                {
                                    "0": "Aleksandrs Riekstins",
                                    "1": "2013-01-01"
                                },
                                {
                                    "0": "Alena Kellnerova",
                                    "1": "2013-01-01"
                                },
                                {
                                    "0": "Alinne Matos",
                                    "1": "2013-01-01"
                                },
                                {
                                    "0": "Allan Mannik",
                                    "1": "2013-01-01"
                                },
                                {
                                    "0": "Alvin Bollinger",
                                    "1": "2013-01-01"
                                },
                                {
                                    "0": "Amarakumaar Gadiyaram",
                                    "1": "2013-01-01"
                                },
                                {
                                    "0": "Amarasimha Vinjamuri",
                                    "1": "2013-01-01"
                                },
                                {
                                    "0": "Ana Florea",
                                    "1": "2013-01-01"
                                },
                                {
                                    "0": "Anca Gogean",
                                    "1": "2013-01-01"
                                },
                                {
                                    "0": "Andris Saulitis",
                                    "1": "2013-01-01"
                                },
                                {
                                    "0": "Anil Sarkar",
                                    "1": "2013-01-01"
                                },
                                {
                                    "0": "Anindya Ghatak",
                                    "1": "2013-01-01"
                                },
                                {
                                    "0": "Anna Gyarmathi",
                                    "1": "2013-01-01"
                                },
                                {
                                    "0": "Anna Mazzanti",
                                    "1": "2013-01-01"
                                },
                                {
                                    "0": "Arijit Bhuiyan",
                                    "1": "2013-01-01"
                                },
                                {
                                    "0": "Baalaamjali Devulapalli",
                                    "1": "2013-01-01"
                                },
                                {
                                    "0": "Bahaar Asef zade",
                                    "1": "2013-01-01"
                                },
                                {
                                    "0": "Bala Dixit",
                                    "1": "2013-01-01"
                                },
                                {
                                    "0": "Baran Jonsson",
                                    "1": "2013-01-01"
                                },
                                {
                                    "0": "Be Trang",
                                    "1": "2013-01-01"
                                },
                                {
                                    "0": "Bhaavan Rai",
                                    "1": "2013-01-01"
                                },
                                {
                                    "0": "Bhagavaan Atluri",
                                    "1": "2013-01-01"
                                },
                                {
                                    "0": "Bhagavati Vinjamuri",
                                    "1": "2013-01-01"
                                },
                                {
                                    "0": "Bijoya Thakur",
                                    "1": "2013-01-01"
                                },
                                {
                                    "0": "Biju Deb",
                                    "1": "2013-01-01"
                                },
                                {
                                    "0": "Bimla PrabhupÄda",
                                    "1": "2013-01-01"
                                },
                                {
                                    "0": "Bing Han",
                                    "1": "2013-01-01"
                                },
                                {
                                    "0": "Bishwa Chatterjee",
                                    "1": "2013-01-01"
                                },
                                {
                                    "0": "Camille Authier",
                                    "1": "2013-01-01"
                                },
                                {
                                    "0": "Can ozcan",
                                    "1": "2013-01-01"
                                },
                                {
                                    "0": "Caterina Pinto",
                                    "1": "2013-01-01"
                                },
                                {
                                    "0": "Celica Barajas",
                                    "1": "2013-01-01"
                                },
                                {
                                    "0": "Chaayaadaevi Sonti",
                                    "1": "2013-01-01"
                                },
                                {
                                    "0": "Chandana Shasthri",
                                    "1": "2013-01-01"
                                },
                                {
                                    "0": "Chandrashekhar Dasgupta",
                                    "1": "2013-01-01"
                                },
                                {
                                    "0": "Chin-Sun Chang",
                                    "1": "2013-01-01"
                                },
                                {
                                    "0": "Chuan Wattanasin",
                                    "1": "2013-01-01"
                                },
                                {
                                    "0": "Clarissa Manfrin",
                                    "1": "2013-01-01"
                                },
                                {
                                    "0": "Cong Hoa",
                                    "1": "2013-01-01"
                                },
                                {
                                    "0": "Cosmina Vlad",
                                    "1": "2013-01-01"
                                },
                                {
                                    "0": "Crina Grasu",
                                    "1": "2013-01-01"
                                },
                                {
                                    "0": "Daakshaayaani Kommineni",
                                    "1": "2013-01-01"
                                },
                                {
                                    "0": "Daakshaayaani Sankaramanchi",
                                    "1": "2013-01-01"
                                },
                                {
                                    "0": "Daevasree Samavedam",
                                    "1": "2013-01-01"
                                },
                                {
                                    "0": "Daniel Martensson",
                                    "1": "2013-01-01"
                                },
                                {
                                    "0": "Darshana Madhunapantula",
                                    "1": "2013-01-01"
                                },
                                {
                                    "0": "David safranek",
                                    "1": "2013-01-01"
                                },
                                {
                                    "0": "Debbie Molina",
                                    "1": "2013-01-01"
                                },
                                {
                                    "0": "Dena Glissen",
                                    "1": "2013-01-01"
                                },
                                {
                                    "0": "Devraj Rao",
                                    "1": "2013-01-01"
                                },
                                {
                                    "0": "Dhaatri Chavva",
                                    "1": "2013-01-01"
                                },
                                {
                                    "0": "Dhanishta Mokkapati",
                                    "1": "2013-01-01"
                                },
                                {
                                    "0": "Dominic Davignon",
                                    "1": "2013-01-01"
                                },
                                {
                                    "0": "Drazenka Jelic",
                                    "1": "2013-01-01"
                                },
                                {
                                    "0": "Durdanah Abbasi",
                                    "1": "2013-01-01"
                                },
                                {
                                    "0": "Ebru Erdogan",
                                    "1": "2013-01-01"
                                },
                                {
                                    "0": "Edgar Jogi",
                                    "1": "2013-01-01"
                                },
                                {
                                    "0": "Edmee Glissen",
                                    "1": "2013-01-01"
                                },
                                {
                                    "0": "Elina Kaleja",
                                    "1": "2013-01-01"
                                },
                                {
                                    "0": "Eliza Persson",
                                    "1": "2013-01-01"
                                },
                                {
                                    "0": "Emil Roman",
                                    "1": "2013-01-01"
                                },
                                {
                                    "0": "Emilie Hrdlickova",
                                    "1": "2013-01-01"
                                },
                                {
                                    "0": "Emily Whittle",
                                    "1": "2013-01-01"
                                },
                                {
                                    "0": "Eric Torres",
                                    "1": "2013-01-01"
                                },
                                {
                                    "0": "Eugen Agafitei",
                                    "1": "2013-01-01"
                                },
                                {
                                    "0": "Eva Schulteisz",
                                    "1": "2013-01-01"
                                },
                                {
                                    "0": "Francisca Laureano",
                                    "1": "2013-01-01"
                                },
                                {
                                    "0": "Gabriela Hernandes",
                                    "1": "2013-01-01"
                                },
                                {
                                    "0": "Gasper Havzija",
                                    "1": "2013-01-01"
                                },
                                {
                                    "0": "Gayatri Gajula",
                                    "1": "2013-01-01"
                                },
                                {
                                    "0": "Geza Roman",
                                    "1": "2013-01-01"
                                },
                                {
                                    "0": "Gopalgobinda Sikdar",
                                    "1": "2013-01-01"
                                },
                                {
                                    "0": "Gunnar Lohmus",
                                    "1": "2013-01-01"
                                },
                                {
                                    "0": "Hana Hlouskova",
                                    "1": "2013-01-01"
                                },
                                {
                                    "0": "Harsha Huq",
                                    "1": "2013-01-01"
                                },
                                {
                                    "0": "Hee-Young Suh",
                                    "1": "2013-01-01"
                                },
                                {
                                    "0": "Hoc Tran",
                                    "1": "2013-01-01"
                                },
                                {
                                    "0": "Ida Celma",
                                    "1": "2013-01-01"
                                },
                                {
                                    "0": "Ingrida Zeltina",
                                    "1": "2013-01-01"
                                },
                                {
                                    "0": "In-Su Bae",
                                    "1": "2013-01-01"
                                },
                                {
                                    "0": "Ioana Florea",
                                    "1": "2013-01-01"
                                },
                                {
                                    "0": "Isidora Morales",
                                    "1": "2013-01-01"
                                },
                                {
                                    "0": "Isidora Urias",
                                    "1": "2013-01-01"
                                },
                                {
                                    "0": "Ivan Sepulveda",
                                    "1": "2013-01-01"
                                },
                                {
                                    "0": "Jack Walker",
                                    "1": "2013-01-01"
                                },
                                {
                                    "0": "Jackson Kolios",
                                    "1": "2013-01-01"
                                },
                                {
                                    "0": "Jai Lamble",
                                    "1": "2013-01-01"
                                },
                                {
                                    "0": "Jakub Lukes",
                                    "1": "2013-01-01"
                                },
                                {
                                    "0": "Jana Fialova",
                                    "1": "2013-01-01"
                                },
                                {
                                    "0": "Jasna Cerkez",
                                    "1": "2013-01-01"
                                },
                                {
                                    "0": "Jay Bhuiyan",
                                    "1": "2013-01-01"
                                },
                                {
                                    "0": "Jayanta Thakur",
                                    "1": "2013-01-01"
                                },
                                {
                                    "0": "Jitka Necesana",
                                    "1": "2013-01-01"
                                },
                                {
                                    "0": "Joel Carrillo",
                                    "1": "2013-01-01"
                                },
                                {
                                    "0": "Johanna Hoornstra",
                                    "1": "2013-01-01"
                                },
                                {
                                    "0": "Juan Morse",
                                    "1": "2013-01-01"
                                },
                                {
                                    "0": "Kamala Nishad",
                                    "1": "2013-01-01"
                                },
                                {
                                    "0": "Kamila Michnova",
                                    "1": "2013-01-01"
                                },
                                {
                                    "0": "Katerina Hadrabova",
                                    "1": "2013-01-01"
                                },
                                {
                                    "0": "Kertu Sokk",
                                    "1": "2013-01-01"
                                },
                                {
                                    "0": "Knut Svensson",
                                    "1": "2013-01-01"
                                },
                                {
                                    "0": "Krishnam Allu",
                                    "1": "2013-01-01"
                                },
                                {
                                    "0": "Kristi Part",
                                    "1": "2013-01-01"
                                },
                                {
                                    "0": "Kristiina Ivanov",
                                    "1": "2013-01-01"
                                },
                                {
                                    "0": "Kumar Kamei",
                                    "1": "2013-01-01"
                                },
                                {
                                    "0": "Kumar Naicker",
                                    "1": "2013-01-01"
                                },
                                {
                                    "0": "Kwanjai Saowaluk",
                                    "1": "2013-01-01"
                                },
                                {
                                    "0": "Lakshmi Benipal",
                                    "1": "2013-01-01"
                                },
                                {
                                    "0": "Lana Goransson",
                                    "1": "2013-01-01"
                                },
                                {
                                    "0": "Laszlo Gardenier",
                                    "1": "2013-01-01"
                                },
                                {
                                    "0": "Laura Sykorova",
                                    "1": "2013-01-01"
                                },
                                {
                                    "0": "Leila Carvalho",
                                    "1": "2013-01-01"
                                },
                                {
                                    "0": "Leonardo Folliero",
                                    "1": "2013-01-01"
                                },
                                {
                                    "0": "Leyla Asef zade",
                                    "1": "2013-01-01"
                                },
                                {
                                    "0": "Leyla Siavashi",
                                    "1": "2013-01-01"
                                },
                                {
                                    "0": "Libuse Kuchtova",
                                    "1": "2013-01-01"
                                },
                                {
                                    "0": "Libuse Valentova",
                                    "1": "2013-01-01"
                                },
                                {
                                    "0": "Liia Orav",
                                    "1": "2013-01-01"
                                },
                                {
                                    "0": "Liidia Lepp",
                                    "1": "2013-01-01"
                                },
                                {
                                    "0": "Lilli Sokk",
                                    "1": "2013-01-01"
                                },
                                {
                                    "0": "Linh Dao",
                                    "1": "2013-01-01"
                                },
                                {
                                    "0": "Lorin Astrom",
                                    "1": "2013-01-01"
                                },
                                {
                                    "0": "Ludmila Smidova",
                                    "1": "2013-01-01"
                                },
                                {
                                    "0": "Madhu Dwivedi",
                                    "1": "2013-01-01"
                                },
                                {
                                    "0": "Magdalena Michnova",
                                    "1": "2013-01-01"
                                },
                                {
                                    "0": "Mahavir Sonkar",
                                    "1": "2013-01-01"
                                },
                                {
                                    "0": "Mahmut ozbek",
                                    "1": "2013-01-01"
                                },
                                {
                                    "0": "Maksims Krastins",
                                    "1": "2013-01-01"
                                },
                                {
                                    "0": "Malorie Bousquet",
                                    "1": "2013-01-01"
                                },
                                {
                                    "0": "Manca Hrastovsek",
                                    "1": "2013-01-01"
                                },
                                {
                                    "0": "Marcela Lucescu",
                                    "1": "2013-01-01"
                                },
                                {
                                    "0": "Marie LeBatelier",
                                    "1": "2013-01-01"
                                },
                                {
                                    "0": "Marija Justina Pasek",
                                    "1": "2013-01-01"
                                },
                                {
                                    "0": "Maryann Huddleston",
                                    "1": "2013-01-01"
                                },
                                {
                                    "0": "Matyas Sedlar",
                                    "1": "2013-01-01"
                                },
                                {
                                    "0": "Mauno Laurila",
                                    "1": "2013-01-01"
                                },
                                {
                                    "0": "Meera Patel",
                                    "1": "2013-01-01"
                                },
                                {
                                    "0": "Melani Ravlen",
                                    "1": "2013-01-01"
                                },
                                {
                                    "0": "Mikhail Degtyarev",
                                    "1": "2013-01-01"
                                },
                                {
                                    "0": "Milinka Zujovic",
                                    "1": "2013-01-01"
                                },
                                {
                                    "0": "Miriam House",
                                    "1": "2013-01-01"
                                },
                                {
                                    "0": "Nada Ana Slosar",
                                    "1": "2013-01-01"
                                },
                                {
                                    "0": "Nada Jovanovic",
                                    "1": "2013-01-01"
                                },
                                {
                                    "0": "Nasrin Omidzadeh",
                                    "1": "2013-01-01"
                                },
                                {
                                    "0": "Neil Farrelly",
                                    "1": "2013-01-01"
                                },
                                {
                                    "0": "Nhung Thach",
                                    "1": "2013-01-01"
                                },
                                {
                                    "0": "Nicolo Cattaneo",
                                    "1": "2013-01-01"
                                },
                                {
                                    "0": "Olafs Rozitis",
                                    "1": "2013-01-01"
                                },
                                {
                                    "0": "Olya Izmaylov",
                                    "1": "2013-01-01"
                                },
                                {
                                    "0": "Om Yadav",
                                    "1": "2013-01-01"
                                },
                                {
                                    "0": "Pari Hosseini",
                                    "1": "2013-01-01"
                                },
                                {
                                    "0": "Pavel Bogdanov",
                                    "1": "2013-01-01"
                                },
                                {
                                    "0": "Philip Walker",
                                    "1": "2013-01-01"
                                },
                                {
                                    "0": "Phoung Cu",
                                    "1": "2013-01-01"
                                },
                                {
                                    "0": "Pinja Jantunen",
                                    "1": "2013-01-01"
                                },
                                {
                                    "0": "Prabodh Nair",
                                    "1": "2013-01-01"
                                },
                                {
                                    "0": "Radha Barua",
                                    "1": "2013-01-01"
                                },
                                {
                                    "0": "Raghu Sandhu",
                                    "1": "2013-01-01"
                                },
                                {
                                    "0": "Rani Ganguly",
                                    "1": "2013-01-01"
                                },
                                {
                                    "0": "Ratan Poddar",
                                    "1": "2013-01-01"
                                },
                                {
                                    "0": "Richard Friar",
                                    "1": "2013-01-01"
                                },
                                {
                                    "0": "Richard Zahradnicek",
                                    "1": "2013-01-01"
                                },
                                {
                                    "0": "Risto Valbe",
                                    "1": "2013-01-01"
                                },
                                {
                                    "0": "Rodrigo Figueiredo",
                                    "1": "2013-01-01"
                                },
                                {
                                    "0": "Roko Ilic",
                                    "1": "2013-01-01"
                                },
                                {
                                    "0": "Sabine Alksne",
                                    "1": "2013-01-01"
                                },
                                {
                                    "0": "Sabine Zalite",
                                    "1": "2013-01-01"
                                },
                                {
                                    "0": "Santiago Vera",
                                    "1": "2013-01-01"
                                },
                                {
                                    "0": "Sara Huiting",
                                    "1": "2013-01-01"
                                },
                                {
                                    "0": "Sara Walkky",
                                    "1": "2013-01-01"
                                },
                                {
                                    "0": "Satish Mittal",
                                    "1": "2013-01-01"
                                },
                                {
                                    "0": "Seo-yun Paik",
                                    "1": "2013-01-01"
                                },
                                {
                                    "0": "Sercan Celik",
                                    "1": "2013-01-01"
                                },
                                {
                                    "0": "Shah Alizadeh",
                                    "1": "2013-01-01"
                                },
                                {
                                    "0": "Shantanu Huq",
                                    "1": "2013-01-01"
                                },
                                {
                                    "0": "Shi Tu",
                                    "1": "2013-01-01"
                                },
                                {
                                    "0": "Shyam Poddar",
                                    "1": "2013-01-01"
                                },
                                {
                                    "0": "Sointu Savonheimo",
                                    "1": "2013-01-01"
                                },
                                {
                                    "0": "Staffan Persson",
                                    "1": "2013-01-01"
                                },
                                {
                                    "0": "Sumati Bhat",
                                    "1": "2013-01-01"
                                },
                                {
                                    "0": "Sumati Chatterjee",
                                    "1": "2013-01-01"
                                },
                                {
                                    "0": "Suparna Bhattacharya",
                                    "1": "2013-01-01"
                                },
                                {
                                    "0": "Surendra Sahu",
                                    "1": "2013-01-01"
                                },
                                {
                                    "0": "Svetlana Todorovic",
                                    "1": "2013-01-01"
                                },
                                {
                                    "0": "Tai Bach",
                                    "1": "2013-01-01"
                                },
                                {
                                    "0": "Taneli Riutta",
                                    "1": "2013-01-01"
                                },
                                {
                                    "0": "Valentin Tirlea",
                                    "1": "2013-01-01"
                                },
                                {
                                    "0": "Valter Viiding",
                                    "1": "2013-01-01"
                                },
                                {
                                    "0": "Victoria Lacusta",
                                    "1": "2013-01-01"
                                },
                                {
                                    "0": "Violetta KlanCisar",
                                    "1": "2013-01-01"
                                },
                                {
                                    "0": "Vladimir Henzl",
                                    "1": "2013-01-01"
                                },
                                {
                                    "0": "Volkan senturk",
                                    "1": "2013-01-01"
                                },
                                {
                                    "0": "Yves Belisle",
                                    "1": "2013-01-01"
                                }
                            ]
                        },
                        "text/html": "<table><tr><th>CustomerName</th><th>AccountOpenedDate</th></tr><tr><td>Aakriti Byrraju</td><td>2013-01-01</td></tr><tr><td>Abel Spirlea</td><td>2013-01-01</td></tr><tr><td>Abel Tatarescu</td><td>2013-01-01</td></tr><tr><td>Adrian Andreasson</td><td>2013-01-01</td></tr><tr><td>Agrita Kanepa</td><td>2013-01-01</td></tr><tr><td>Ajitaab Pakalapati</td><td>2013-01-01</td></tr><tr><td>Akhil Nadar</td><td>2013-01-01</td></tr><tr><td>Aleksandrs Riekstins</td><td>2013-01-01</td></tr><tr><td>Alena Kellnerova</td><td>2013-01-01</td></tr><tr><td>Alinne Matos</td><td>2013-01-01</td></tr><tr><td>Allan Mannik</td><td>2013-01-01</td></tr><tr><td>Alvin Bollinger</td><td>2013-01-01</td></tr><tr><td>Amarakumaar Gadiyaram</td><td>2013-01-01</td></tr><tr><td>Amarasimha Vinjamuri</td><td>2013-01-01</td></tr><tr><td>Ana Florea</td><td>2013-01-01</td></tr><tr><td>Anca Gogean</td><td>2013-01-01</td></tr><tr><td>Andris Saulitis</td><td>2013-01-01</td></tr><tr><td>Anil Sarkar</td><td>2013-01-01</td></tr><tr><td>Anindya Ghatak</td><td>2013-01-01</td></tr><tr><td>Anna Gyarmathi</td><td>2013-01-01</td></tr><tr><td>Anna Mazzanti</td><td>2013-01-01</td></tr><tr><td>Arijit Bhuiyan</td><td>2013-01-01</td></tr><tr><td>Baalaamjali Devulapalli</td><td>2013-01-01</td></tr><tr><td>Bahaar Asef zade</td><td>2013-01-01</td></tr><tr><td>Bala Dixit</td><td>2013-01-01</td></tr><tr><td>Baran Jonsson</td><td>2013-01-01</td></tr><tr><td>Be Trang</td><td>2013-01-01</td></tr><tr><td>Bhaavan Rai</td><td>2013-01-01</td></tr><tr><td>Bhagavaan Atluri</td><td>2013-01-01</td></tr><tr><td>Bhagavati Vinjamuri</td><td>2013-01-01</td></tr><tr><td>Bijoya Thakur</td><td>2013-01-01</td></tr><tr><td>Biju Deb</td><td>2013-01-01</td></tr><tr><td>Bimla PrabhupÄda</td><td>2013-01-01</td></tr><tr><td>Bing Han</td><td>2013-01-01</td></tr><tr><td>Bishwa Chatterjee</td><td>2013-01-01</td></tr><tr><td>Camille Authier</td><td>2013-01-01</td></tr><tr><td>Can ozcan</td><td>2013-01-01</td></tr><tr><td>Caterina Pinto</td><td>2013-01-01</td></tr><tr><td>Celica Barajas</td><td>2013-01-01</td></tr><tr><td>Chaayaadaevi Sonti</td><td>2013-01-01</td></tr><tr><td>Chandana Shasthri</td><td>2013-01-01</td></tr><tr><td>Chandrashekhar Dasgupta</td><td>2013-01-01</td></tr><tr><td>Chin-Sun Chang</td><td>2013-01-01</td></tr><tr><td>Chuan Wattanasin</td><td>2013-01-01</td></tr><tr><td>Clarissa Manfrin</td><td>2013-01-01</td></tr><tr><td>Cong Hoa</td><td>2013-01-01</td></tr><tr><td>Cosmina Vlad</td><td>2013-01-01</td></tr><tr><td>Crina Grasu</td><td>2013-01-01</td></tr><tr><td>Daakshaayaani Kommineni</td><td>2013-01-01</td></tr><tr><td>Daakshaayaani Sankaramanchi</td><td>2013-01-01</td></tr><tr><td>Daevasree Samavedam</td><td>2013-01-01</td></tr><tr><td>Daniel Martensson</td><td>2013-01-01</td></tr><tr><td>Darshana Madhunapantula</td><td>2013-01-01</td></tr><tr><td>David safranek</td><td>2013-01-01</td></tr><tr><td>Debbie Molina</td><td>2013-01-01</td></tr><tr><td>Dena Glissen</td><td>2013-01-01</td></tr><tr><td>Devraj Rao</td><td>2013-01-01</td></tr><tr><td>Dhaatri Chavva</td><td>2013-01-01</td></tr><tr><td>Dhanishta Mokkapati</td><td>2013-01-01</td></tr><tr><td>Dominic Davignon</td><td>2013-01-01</td></tr><tr><td>Drazenka Jelic</td><td>2013-01-01</td></tr><tr><td>Durdanah Abbasi</td><td>2013-01-01</td></tr><tr><td>Ebru Erdogan</td><td>2013-01-01</td></tr><tr><td>Edgar Jogi</td><td>2013-01-01</td></tr><tr><td>Edmee Glissen</td><td>2013-01-01</td></tr><tr><td>Elina Kaleja</td><td>2013-01-01</td></tr><tr><td>Eliza Persson</td><td>2013-01-01</td></tr><tr><td>Emil Roman</td><td>2013-01-01</td></tr><tr><td>Emilie Hrdlickova</td><td>2013-01-01</td></tr><tr><td>Emily Whittle</td><td>2013-01-01</td></tr><tr><td>Eric Torres</td><td>2013-01-01</td></tr><tr><td>Eugen Agafitei</td><td>2013-01-01</td></tr><tr><td>Eva Schulteisz</td><td>2013-01-01</td></tr><tr><td>Francisca Laureano</td><td>2013-01-01</td></tr><tr><td>Gabriela Hernandes</td><td>2013-01-01</td></tr><tr><td>Gasper Havzija</td><td>2013-01-01</td></tr><tr><td>Gayatri Gajula</td><td>2013-01-01</td></tr><tr><td>Geza Roman</td><td>2013-01-01</td></tr><tr><td>Gopalgobinda Sikdar</td><td>2013-01-01</td></tr><tr><td>Gunnar Lohmus</td><td>2013-01-01</td></tr><tr><td>Hana Hlouskova</td><td>2013-01-01</td></tr><tr><td>Harsha Huq</td><td>2013-01-01</td></tr><tr><td>Hee-Young Suh</td><td>2013-01-01</td></tr><tr><td>Hoc Tran</td><td>2013-01-01</td></tr><tr><td>Ida Celma</td><td>2013-01-01</td></tr><tr><td>Ingrida Zeltina</td><td>2013-01-01</td></tr><tr><td>In-Su Bae</td><td>2013-01-01</td></tr><tr><td>Ioana Florea</td><td>2013-01-01</td></tr><tr><td>Isidora Morales</td><td>2013-01-01</td></tr><tr><td>Isidora Urias</td><td>2013-01-01</td></tr><tr><td>Ivan Sepulveda</td><td>2013-01-01</td></tr><tr><td>Jack Walker</td><td>2013-01-01</td></tr><tr><td>Jackson Kolios</td><td>2013-01-01</td></tr><tr><td>Jai Lamble</td><td>2013-01-01</td></tr><tr><td>Jakub Lukes</td><td>2013-01-01</td></tr><tr><td>Jana Fialova</td><td>2013-01-01</td></tr><tr><td>Jasna Cerkez</td><td>2013-01-01</td></tr><tr><td>Jay Bhuiyan</td><td>2013-01-01</td></tr><tr><td>Jayanta Thakur</td><td>2013-01-01</td></tr><tr><td>Jitka Necesana</td><td>2013-01-01</td></tr><tr><td>Joel Carrillo</td><td>2013-01-01</td></tr><tr><td>Johanna Hoornstra</td><td>2013-01-01</td></tr><tr><td>Juan Morse</td><td>2013-01-01</td></tr><tr><td>Kamala Nishad</td><td>2013-01-01</td></tr><tr><td>Kamila Michnova</td><td>2013-01-01</td></tr><tr><td>Katerina Hadrabova</td><td>2013-01-01</td></tr><tr><td>Kertu Sokk</td><td>2013-01-01</td></tr><tr><td>Knut Svensson</td><td>2013-01-01</td></tr><tr><td>Krishnam Allu</td><td>2013-01-01</td></tr><tr><td>Kristi Part</td><td>2013-01-01</td></tr><tr><td>Kristiina Ivanov</td><td>2013-01-01</td></tr><tr><td>Kumar Kamei</td><td>2013-01-01</td></tr><tr><td>Kumar Naicker</td><td>2013-01-01</td></tr><tr><td>Kwanjai Saowaluk</td><td>2013-01-01</td></tr><tr><td>Lakshmi Benipal</td><td>2013-01-01</td></tr><tr><td>Lana Goransson</td><td>2013-01-01</td></tr><tr><td>Laszlo Gardenier</td><td>2013-01-01</td></tr><tr><td>Laura Sykorova</td><td>2013-01-01</td></tr><tr><td>Leila Carvalho</td><td>2013-01-01</td></tr><tr><td>Leonardo Folliero</td><td>2013-01-01</td></tr><tr><td>Leyla Asef zade</td><td>2013-01-01</td></tr><tr><td>Leyla Siavashi</td><td>2013-01-01</td></tr><tr><td>Libuse Kuchtova</td><td>2013-01-01</td></tr><tr><td>Libuse Valentova</td><td>2013-01-01</td></tr><tr><td>Liia Orav</td><td>2013-01-01</td></tr><tr><td>Liidia Lepp</td><td>2013-01-01</td></tr><tr><td>Lilli Sokk</td><td>2013-01-01</td></tr><tr><td>Linh Dao</td><td>2013-01-01</td></tr><tr><td>Lorin Astrom</td><td>2013-01-01</td></tr><tr><td>Ludmila Smidova</td><td>2013-01-01</td></tr><tr><td>Madhu Dwivedi</td><td>2013-01-01</td></tr><tr><td>Magdalena Michnova</td><td>2013-01-01</td></tr><tr><td>Mahavir Sonkar</td><td>2013-01-01</td></tr><tr><td>Mahmut ozbek</td><td>2013-01-01</td></tr><tr><td>Maksims Krastins</td><td>2013-01-01</td></tr><tr><td>Malorie Bousquet</td><td>2013-01-01</td></tr><tr><td>Manca Hrastovsek</td><td>2013-01-01</td></tr><tr><td>Marcela Lucescu</td><td>2013-01-01</td></tr><tr><td>Marie LeBatelier</td><td>2013-01-01</td></tr><tr><td>Marija Justina Pasek</td><td>2013-01-01</td></tr><tr><td>Maryann Huddleston</td><td>2013-01-01</td></tr><tr><td>Matyas Sedlar</td><td>2013-01-01</td></tr><tr><td>Mauno Laurila</td><td>2013-01-01</td></tr><tr><td>Meera Patel</td><td>2013-01-01</td></tr><tr><td>Melani Ravlen</td><td>2013-01-01</td></tr><tr><td>Mikhail Degtyarev</td><td>2013-01-01</td></tr><tr><td>Milinka Zujovic</td><td>2013-01-01</td></tr><tr><td>Miriam House</td><td>2013-01-01</td></tr><tr><td>Nada Ana Slosar</td><td>2013-01-01</td></tr><tr><td>Nada Jovanovic</td><td>2013-01-01</td></tr><tr><td>Nasrin Omidzadeh</td><td>2013-01-01</td></tr><tr><td>Neil Farrelly</td><td>2013-01-01</td></tr><tr><td>Nhung Thach</td><td>2013-01-01</td></tr><tr><td>Nicolo Cattaneo</td><td>2013-01-01</td></tr><tr><td>Olafs Rozitis</td><td>2013-01-01</td></tr><tr><td>Olya Izmaylov</td><td>2013-01-01</td></tr><tr><td>Om Yadav</td><td>2013-01-01</td></tr><tr><td>Pari Hosseini</td><td>2013-01-01</td></tr><tr><td>Pavel Bogdanov</td><td>2013-01-01</td></tr><tr><td>Philip Walker</td><td>2013-01-01</td></tr><tr><td>Phoung Cu</td><td>2013-01-01</td></tr><tr><td>Pinja Jantunen</td><td>2013-01-01</td></tr><tr><td>Prabodh Nair</td><td>2013-01-01</td></tr><tr><td>Radha Barua</td><td>2013-01-01</td></tr><tr><td>Raghu Sandhu</td><td>2013-01-01</td></tr><tr><td>Rani Ganguly</td><td>2013-01-01</td></tr><tr><td>Ratan Poddar</td><td>2013-01-01</td></tr><tr><td>Richard Friar</td><td>2013-01-01</td></tr><tr><td>Richard Zahradnicek</td><td>2013-01-01</td></tr><tr><td>Risto Valbe</td><td>2013-01-01</td></tr><tr><td>Rodrigo Figueiredo</td><td>2013-01-01</td></tr><tr><td>Roko Ilic</td><td>2013-01-01</td></tr><tr><td>Sabine Alksne</td><td>2013-01-01</td></tr><tr><td>Sabine Zalite</td><td>2013-01-01</td></tr><tr><td>Santiago Vera</td><td>2013-01-01</td></tr><tr><td>Sara Huiting</td><td>2013-01-01</td></tr><tr><td>Sara Walkky</td><td>2013-01-01</td></tr><tr><td>Satish Mittal</td><td>2013-01-01</td></tr><tr><td>Seo-yun Paik</td><td>2013-01-01</td></tr><tr><td>Sercan Celik</td><td>2013-01-01</td></tr><tr><td>Shah Alizadeh</td><td>2013-01-01</td></tr><tr><td>Shantanu Huq</td><td>2013-01-01</td></tr><tr><td>Shi Tu</td><td>2013-01-01</td></tr><tr><td>Shyam Poddar</td><td>2013-01-01</td></tr><tr><td>Sointu Savonheimo</td><td>2013-01-01</td></tr><tr><td>Staffan Persson</td><td>2013-01-01</td></tr><tr><td>Sumati Bhat</td><td>2013-01-01</td></tr><tr><td>Sumati Chatterjee</td><td>2013-01-01</td></tr><tr><td>Suparna Bhattacharya</td><td>2013-01-01</td></tr><tr><td>Surendra Sahu</td><td>2013-01-01</td></tr><tr><td>Svetlana Todorovic</td><td>2013-01-01</td></tr><tr><td>Tai Bach</td><td>2013-01-01</td></tr><tr><td>Taneli Riutta</td><td>2013-01-01</td></tr><tr><td>Valentin Tirlea</td><td>2013-01-01</td></tr><tr><td>Valter Viiding</td><td>2013-01-01</td></tr><tr><td>Victoria Lacusta</td><td>2013-01-01</td></tr><tr><td>Violetta KlanCisar</td><td>2013-01-01</td></tr><tr><td>Vladimir Henzl</td><td>2013-01-01</td></tr><tr><td>Volkan senturk</td><td>2013-01-01</td></tr><tr><td>Yves Belisle</td><td>2013-01-01</td></tr></table>"
                    },
                    "metadata": {
                        "resultSet": {
                            "id": 0,
                            "batchId": 0,
                            "rowCount": 200,
                            "complete": true,
                            "columnInfo": [
                                {
                                    "isBytes": false,
                                    "isChars": true,
                                    "isSqlVariant": false,
                                    "isUdt": false,
                                    "isXml": false,
                                    "isJson": false,
                                    "sqlDbType": 12,
                                    "isHierarchyId": false,
                                    "isSqlXmlType": false,
                                    "isUnknownType": false,
                                    "isUpdatable": true,
                                    "allowDBNull": false,
                                    "baseCatalogName": null,
                                    "baseColumnName": null,
                                    "baseSchemaName": null,
                                    "baseServerName": null,
                                    "baseTableName": null,
                                    "columnName": "CustomerName",
                                    "columnOrdinal": 0,
                                    "columnSize": 100,
                                    "isAliased": null,
                                    "isAutoIncrement": false,
                                    "isExpression": null,
                                    "isHidden": null,
                                    "isIdentity": false,
                                    "isKey": null,
                                    "isLong": false,
                                    "isReadOnly": false,
                                    "isUnique": false,
                                    "numericPrecision": 255,
                                    "numericScale": 255,
                                    "udtAssemblyQualifiedName": null,
                                    "dataType": "System.String, System.Private.CoreLib, Version=4.0.0.0, Culture=neutral, PublicKeyToken=7cec85d7bea7798e",
                                    "dataTypeName": "nvarchar"
                                },
                                {
                                    "isBytes": false,
                                    "isChars": false,
                                    "isSqlVariant": false,
                                    "isUdt": false,
                                    "isXml": false,
                                    "isJson": false,
                                    "sqlDbType": 31,
                                    "isHierarchyId": false,
                                    "isSqlXmlType": false,
                                    "isUnknownType": false,
                                    "isUpdatable": true,
                                    "allowDBNull": false,
                                    "baseCatalogName": null,
                                    "baseColumnName": null,
                                    "baseSchemaName": null,
                                    "baseServerName": null,
                                    "baseTableName": null,
                                    "columnName": "AccountOpenedDate",
                                    "columnOrdinal": 1,
                                    "columnSize": 3,
                                    "isAliased": null,
                                    "isAutoIncrement": false,
                                    "isExpression": null,
                                    "isHidden": null,
                                    "isIdentity": false,
                                    "isKey": null,
                                    "isLong": false,
                                    "isReadOnly": false,
                                    "isUnique": false,
                                    "numericPrecision": 255,
                                    "numericScale": 255,
                                    "udtAssemblyQualifiedName": null,
                                    "dataType": "System.DateTime, System.Private.CoreLib, Version=4.0.0.0, Culture=neutral, PublicKeyToken=7cec85d7bea7798e",
                                    "dataTypeName": "date"
                                }
                            ],
                            "specialAction": {
                                "none": true,
                                "expectYukonXMLShowPlan": false
                            }
                        }
                    }
                }
            ],
            "execution_count": 61
        },
        {
            "cell_type": "markdown",
            "source": [
                "Now they want a list of all the accounts opened in years other than 2013, ordered by latest to earliest and alphabetical for accounts that share the same day. We can do this by having multiple fields and directions in our ORDER BY clause. As our sample data does not have this case, we can cause this to happen. We are going to update the record for Sylvie Laramee and set their account opened date to an existing date, shared with Amrita Ganguly."
            ],
            "metadata": {
                "azdata_cell_guid": "e7cc1d13-ef0d-426a-8ff6-331833d53876"
            }
        },
        {
            "cell_type": "code",
            "source": [
                "UPDATE Sales.Customers SET AccountOpenedDate='2015-09-23' WHERE CustomerName = 'Sylvie Laramee'"
            ],
            "metadata": {
                "azdata_cell_guid": "a0c66727-8bab-4327-9f65-e69102454928"
            },
            "outputs": [
                {
                    "output_type": "display_data",
                    "data": {
                        "text/html": "(1 row affected)"
                    },
                    "metadata": {}
                },
                {
                    "output_type": "display_data",
                    "data": {
                        "text/html": "Total execution time: 00:00:00.059"
                    },
                    "metadata": {}
                }
            ],
            "execution_count": 64
        },
        {
            "cell_type": "markdown",
            "source": [
                "Now that we have customers who have the same AccountOpenedDate, let's see how we write the query to sort them latest to earliest and then alphabetically by customer name."
            ],
            "metadata": {
                "azdata_cell_guid": "f1179c0a-7c15-4cde-870a-c496509efd67"
            }
        },
        {
            "cell_type": "code",
            "source": [
                "SELECT CustomerName, AccountOpenedDate FROM Sales.Customers WHERE YEAR(AccountOpenedDate) != 2013 ORDER BY AccountOpenedDate DESC, CustomerName ASC"
            ],
            "metadata": {
                "azdata_cell_guid": "e34f4e4f-4e97-4c28-a265-ace9775acf7e"
            },
            "outputs": [
                {
                    "output_type": "display_data",
                    "data": {
                        "text/html": "(37 rows affected)"
                    },
                    "metadata": {}
                },
                {
                    "output_type": "display_data",
                    "data": {
                        "text/html": "Total execution time: 00:00:00.018"
                    },
                    "metadata": {}
                },
                {
                    "output_type": "execute_result",
                    "execution_count": 65,
                    "data": {
                        "application/vnd.dataresource+json": {
                            "schema": {
                                "fields": [
                                    {
                                        "name": "CustomerName"
                                    },
                                    {
                                        "name": "AccountOpenedDate"
                                    }
                                ]
                            },
                            "data": [
                                {
                                    "0": "Agrita Abele",
                                    "1": "2016-05-07"
                                },
                                {
                                    "0": "Anand Mudaliyar",
                                    "1": "2016-04-23"
                                },
                                {
                                    "0": "Jibek Juniskyzy",
                                    "1": "2016-03-13"
                                },
                                {
                                    "0": "Jaroslav Fisar",
                                    "1": "2016-02-01"
                                },
                                {
                                    "0": "Ganesh Majumdar",
                                    "1": "2016-01-09"
                                },
                                {
                                    "0": "Kalyani Benjaree",
                                    "1": "2015-12-20"
                                },
                                {
                                    "0": "Adriana Pena",
                                    "1": "2015-11-30"
                                },
                                {
                                    "0": "Emma Salpa",
                                    "1": "2015-11-29"
                                },
                                {
                                    "0": "Luis Saucedo",
                                    "1": "2015-11-27"
                                },
                                {
                                    "0": "Ian Olofsson",
                                    "1": "2015-09-26"
                                },
                                {
                                    "0": "Amrita Ganguly",
                                    "1": "2015-09-23"
                                },
                                {
                                    "0": "Sylvie Laramee",
                                    "1": "2015-09-23"
                                },
                                {
                                    "0": "Amet Shergill",
                                    "1": "2015-08-13"
                                },
                                {
                                    "0": "Abhra Ganguly",
                                    "1": "2015-08-09"
                                },
                                {
                                    "0": "Ivana Hadrabova",
                                    "1": "2015-07-28"
                                },
                                {
                                    "0": "Christian Couet",
                                    "1": "2015-06-12"
                                },
                                {
                                    "0": "Matteo Cattaneo",
                                    "1": "2015-02-22"
                                },
                                {
                                    "0": "Hanita Nookala",
                                    "1": "2015-02-12"
                                },
                                {
                                    "0": "Raj Verma",
                                    "1": "2015-01-30"
                                },
                                {
                                    "0": "Nguyen Banh",
                                    "1": "2015-01-22"
                                },
                                {
                                    "0": "Tomo Vidovic",
                                    "1": "2015-01-18"
                                },
                                {
                                    "0": "Damodar Shenoy",
                                    "1": "2015-01-16"
                                },
                                {
                                    "0": "Bhaamini Palagummi",
                                    "1": "2015-01-13"
                                },
                                {
                                    "0": "Damodara Trivedi",
                                    "1": "2014-12-03"
                                },
                                {
                                    "0": "David Jaramillo",
                                    "1": "2014-11-21"
                                },
                                {
                                    "0": "Erik Malk",
                                    "1": "2014-11-13"
                                },
                                {
                                    "0": "Manjunatha Karnik",
                                    "1": "2014-11-08"
                                },
                                {
                                    "0": "Aishwarya Dantuluri",
                                    "1": "2014-09-03"
                                },
                                {
                                    "0": "Cuneyt Arslan",
                                    "1": "2014-08-26"
                                },
                                {
                                    "0": "Som Mukherjee",
                                    "1": "2014-08-25"
                                },
                                {
                                    "0": "Dipti Shah",
                                    "1": "2014-08-03"
                                },
                                {
                                    "0": "Chompoo Atitarn",
                                    "1": "2014-06-18"
                                },
                                {
                                    "0": "Veronika Necesana",
                                    "1": "2014-05-18"
                                },
                                {
                                    "0": "Emma Van Zant",
                                    "1": "2014-05-14"
                                },
                                {
                                    "0": "Serdar ozden",
                                    "1": "2014-02-22"
                                },
                                {
                                    "0": "Daniella Cavalcante",
                                    "1": "2014-01-17"
                                },
                                {
                                    "0": "Tuulikki Linna",
                                    "1": "2014-01-15"
                                }
                            ]
                        },
                        "text/html": "<table><tr><th>CustomerName</th><th>AccountOpenedDate</th></tr><tr><td>Agrita Abele</td><td>2016-05-07</td></tr><tr><td>Anand Mudaliyar</td><td>2016-04-23</td></tr><tr><td>Jibek Juniskyzy</td><td>2016-03-13</td></tr><tr><td>Jaroslav Fisar</td><td>2016-02-01</td></tr><tr><td>Ganesh Majumdar</td><td>2016-01-09</td></tr><tr><td>Kalyani Benjaree</td><td>2015-12-20</td></tr><tr><td>Adriana Pena</td><td>2015-11-30</td></tr><tr><td>Emma Salpa</td><td>2015-11-29</td></tr><tr><td>Luis Saucedo</td><td>2015-11-27</td></tr><tr><td>Ian Olofsson</td><td>2015-09-26</td></tr><tr><td>Amrita Ganguly</td><td>2015-09-23</td></tr><tr><td>Sylvie Laramee</td><td>2015-09-23</td></tr><tr><td>Amet Shergill</td><td>2015-08-13</td></tr><tr><td>Abhra Ganguly</td><td>2015-08-09</td></tr><tr><td>Ivana Hadrabova</td><td>2015-07-28</td></tr><tr><td>Christian Couet</td><td>2015-06-12</td></tr><tr><td>Matteo Cattaneo</td><td>2015-02-22</td></tr><tr><td>Hanita Nookala</td><td>2015-02-12</td></tr><tr><td>Raj Verma</td><td>2015-01-30</td></tr><tr><td>Nguyen Banh</td><td>2015-01-22</td></tr><tr><td>Tomo Vidovic</td><td>2015-01-18</td></tr><tr><td>Damodar Shenoy</td><td>2015-01-16</td></tr><tr><td>Bhaamini Palagummi</td><td>2015-01-13</td></tr><tr><td>Damodara Trivedi</td><td>2014-12-03</td></tr><tr><td>David Jaramillo</td><td>2014-11-21</td></tr><tr><td>Erik Malk</td><td>2014-11-13</td></tr><tr><td>Manjunatha Karnik</td><td>2014-11-08</td></tr><tr><td>Aishwarya Dantuluri</td><td>2014-09-03</td></tr><tr><td>Cuneyt Arslan</td><td>2014-08-26</td></tr><tr><td>Som Mukherjee</td><td>2014-08-25</td></tr><tr><td>Dipti Shah</td><td>2014-08-03</td></tr><tr><td>Chompoo Atitarn</td><td>2014-06-18</td></tr><tr><td>Veronika Necesana</td><td>2014-05-18</td></tr><tr><td>Emma Van Zant</td><td>2014-05-14</td></tr><tr><td>Serdar ozden</td><td>2014-02-22</td></tr><tr><td>Daniella Cavalcante</td><td>2014-01-17</td></tr><tr><td>Tuulikki Linna</td><td>2014-01-15</td></tr></table>"
                    },
                    "metadata": {
                        "resultSet": {
                            "id": 0,
                            "batchId": 0,
                            "rowCount": 37,
                            "complete": true,
                            "columnInfo": [
                                {
                                    "isBytes": false,
                                    "isChars": true,
                                    "isSqlVariant": false,
                                    "isUdt": false,
                                    "isXml": false,
                                    "isJson": false,
                                    "sqlDbType": 12,
                                    "isHierarchyId": false,
                                    "isSqlXmlType": false,
                                    "isUnknownType": false,
                                    "isUpdatable": true,
                                    "allowDBNull": false,
                                    "baseCatalogName": null,
                                    "baseColumnName": null,
                                    "baseSchemaName": null,
                                    "baseServerName": null,
                                    "baseTableName": null,
                                    "columnName": "CustomerName",
                                    "columnOrdinal": 0,
                                    "columnSize": 100,
                                    "isAliased": null,
                                    "isAutoIncrement": false,
                                    "isExpression": null,
                                    "isHidden": null,
                                    "isIdentity": false,
                                    "isKey": null,
                                    "isLong": false,
                                    "isReadOnly": false,
                                    "isUnique": false,
                                    "numericPrecision": 255,
                                    "numericScale": 255,
                                    "udtAssemblyQualifiedName": null,
                                    "dataType": "System.String, System.Private.CoreLib, Version=4.0.0.0, Culture=neutral, PublicKeyToken=7cec85d7bea7798e",
                                    "dataTypeName": "nvarchar"
                                },
                                {
                                    "isBytes": false,
                                    "isChars": false,
                                    "isSqlVariant": false,
                                    "isUdt": false,
                                    "isXml": false,
                                    "isJson": false,
                                    "sqlDbType": 31,
                                    "isHierarchyId": false,
                                    "isSqlXmlType": false,
                                    "isUnknownType": false,
                                    "isUpdatable": true,
                                    "allowDBNull": false,
                                    "baseCatalogName": null,
                                    "baseColumnName": null,
                                    "baseSchemaName": null,
                                    "baseServerName": null,
                                    "baseTableName": null,
                                    "columnName": "AccountOpenedDate",
                                    "columnOrdinal": 1,
                                    "columnSize": 3,
                                    "isAliased": null,
                                    "isAutoIncrement": false,
                                    "isExpression": null,
                                    "isHidden": null,
                                    "isIdentity": false,
                                    "isKey": null,
                                    "isLong": false,
                                    "isReadOnly": false,
                                    "isUnique": false,
                                    "numericPrecision": 255,
                                    "numericScale": 255,
                                    "udtAssemblyQualifiedName": null,
                                    "dataType": "System.DateTime, System.Private.CoreLib, Version=4.0.0.0, Culture=neutral, PublicKeyToken=7cec85d7bea7798e",
                                    "dataTypeName": "date"
                                }
                            ],
                            "specialAction": {
                                "none": true,
                                "expectYukonXMLShowPlan": false
                            }
                        }
                    }
                }
            ],
            "execution_count": 65
        },
        {
            "cell_type": "markdown",
            "source": [
                "We could also have left off the ASC keyword in the ORDER BY clause, as that is the assumed order direction if no order direction is specified."
            ],
            "metadata": {
                "azdata_cell_guid": "83322f83-001f-4f4d-b154-939caa4f955c"
            }
        },
        {
            "cell_type": "code",
            "source": [
                "SELECT CustomerName, AccountOpenedDate FROM Sales.Customers WHERE YEAR(AccountOpenedDate) != 2013 ORDER BY AccountOpenedDate DESC, CustomerName"
            ],
            "metadata": {
                "azdata_cell_guid": "9a3c75e7-4363-49a7-a275-f140c99b5dd2"
            },
            "outputs": [
                {
                    "output_type": "display_data",
                    "data": {
                        "text/html": "(37 rows affected)"
                    },
                    "metadata": {}
                },
                {
                    "output_type": "display_data",
                    "data": {
                        "text/html": "Total execution time: 00:00:00.009"
                    },
                    "metadata": {}
                },
                {
                    "output_type": "execute_result",
                    "execution_count": 66,
                    "data": {
                        "application/vnd.dataresource+json": {
                            "schema": {
                                "fields": [
                                    {
                                        "name": "CustomerName"
                                    },
                                    {
                                        "name": "AccountOpenedDate"
                                    }
                                ]
                            },
                            "data": [
                                {
                                    "0": "Agrita Abele",
                                    "1": "2016-05-07"
                                },
                                {
                                    "0": "Anand Mudaliyar",
                                    "1": "2016-04-23"
                                },
                                {
                                    "0": "Jibek Juniskyzy",
                                    "1": "2016-03-13"
                                },
                                {
                                    "0": "Jaroslav Fisar",
                                    "1": "2016-02-01"
                                },
                                {
                                    "0": "Ganesh Majumdar",
                                    "1": "2016-01-09"
                                },
                                {
                                    "0": "Kalyani Benjaree",
                                    "1": "2015-12-20"
                                },
                                {
                                    "0": "Adriana Pena",
                                    "1": "2015-11-30"
                                },
                                {
                                    "0": "Emma Salpa",
                                    "1": "2015-11-29"
                                },
                                {
                                    "0": "Luis Saucedo",
                                    "1": "2015-11-27"
                                },
                                {
                                    "0": "Ian Olofsson",
                                    "1": "2015-09-26"
                                },
                                {
                                    "0": "Amrita Ganguly",
                                    "1": "2015-09-23"
                                },
                                {
                                    "0": "Sylvie Laramee",
                                    "1": "2015-09-23"
                                },
                                {
                                    "0": "Amet Shergill",
                                    "1": "2015-08-13"
                                },
                                {
                                    "0": "Abhra Ganguly",
                                    "1": "2015-08-09"
                                },
                                {
                                    "0": "Ivana Hadrabova",
                                    "1": "2015-07-28"
                                },
                                {
                                    "0": "Christian Couet",
                                    "1": "2015-06-12"
                                },
                                {
                                    "0": "Matteo Cattaneo",
                                    "1": "2015-02-22"
                                },
                                {
                                    "0": "Hanita Nookala",
                                    "1": "2015-02-12"
                                },
                                {
                                    "0": "Raj Verma",
                                    "1": "2015-01-30"
                                },
                                {
                                    "0": "Nguyen Banh",
                                    "1": "2015-01-22"
                                },
                                {
                                    "0": "Tomo Vidovic",
                                    "1": "2015-01-18"
                                },
                                {
                                    "0": "Damodar Shenoy",
                                    "1": "2015-01-16"
                                },
                                {
                                    "0": "Bhaamini Palagummi",
                                    "1": "2015-01-13"
                                },
                                {
                                    "0": "Damodara Trivedi",
                                    "1": "2014-12-03"
                                },
                                {
                                    "0": "David Jaramillo",
                                    "1": "2014-11-21"
                                },
                                {
                                    "0": "Erik Malk",
                                    "1": "2014-11-13"
                                },
                                {
                                    "0": "Manjunatha Karnik",
                                    "1": "2014-11-08"
                                },
                                {
                                    "0": "Aishwarya Dantuluri",
                                    "1": "2014-09-03"
                                },
                                {
                                    "0": "Cuneyt Arslan",
                                    "1": "2014-08-26"
                                },
                                {
                                    "0": "Som Mukherjee",
                                    "1": "2014-08-25"
                                },
                                {
                                    "0": "Dipti Shah",
                                    "1": "2014-08-03"
                                },
                                {
                                    "0": "Chompoo Atitarn",
                                    "1": "2014-06-18"
                                },
                                {
                                    "0": "Veronika Necesana",
                                    "1": "2014-05-18"
                                },
                                {
                                    "0": "Emma Van Zant",
                                    "1": "2014-05-14"
                                },
                                {
                                    "0": "Serdar ozden",
                                    "1": "2014-02-22"
                                },
                                {
                                    "0": "Daniella Cavalcante",
                                    "1": "2014-01-17"
                                },
                                {
                                    "0": "Tuulikki Linna",
                                    "1": "2014-01-15"
                                }
                            ]
                        },
                        "text/html": "<table><tr><th>CustomerName</th><th>AccountOpenedDate</th></tr><tr><td>Agrita Abele</td><td>2016-05-07</td></tr><tr><td>Anand Mudaliyar</td><td>2016-04-23</td></tr><tr><td>Jibek Juniskyzy</td><td>2016-03-13</td></tr><tr><td>Jaroslav Fisar</td><td>2016-02-01</td></tr><tr><td>Ganesh Majumdar</td><td>2016-01-09</td></tr><tr><td>Kalyani Benjaree</td><td>2015-12-20</td></tr><tr><td>Adriana Pena</td><td>2015-11-30</td></tr><tr><td>Emma Salpa</td><td>2015-11-29</td></tr><tr><td>Luis Saucedo</td><td>2015-11-27</td></tr><tr><td>Ian Olofsson</td><td>2015-09-26</td></tr><tr><td>Amrita Ganguly</td><td>2015-09-23</td></tr><tr><td>Sylvie Laramee</td><td>2015-09-23</td></tr><tr><td>Amet Shergill</td><td>2015-08-13</td></tr><tr><td>Abhra Ganguly</td><td>2015-08-09</td></tr><tr><td>Ivana Hadrabova</td><td>2015-07-28</td></tr><tr><td>Christian Couet</td><td>2015-06-12</td></tr><tr><td>Matteo Cattaneo</td><td>2015-02-22</td></tr><tr><td>Hanita Nookala</td><td>2015-02-12</td></tr><tr><td>Raj Verma</td><td>2015-01-30</td></tr><tr><td>Nguyen Banh</td><td>2015-01-22</td></tr><tr><td>Tomo Vidovic</td><td>2015-01-18</td></tr><tr><td>Damodar Shenoy</td><td>2015-01-16</td></tr><tr><td>Bhaamini Palagummi</td><td>2015-01-13</td></tr><tr><td>Damodara Trivedi</td><td>2014-12-03</td></tr><tr><td>David Jaramillo</td><td>2014-11-21</td></tr><tr><td>Erik Malk</td><td>2014-11-13</td></tr><tr><td>Manjunatha Karnik</td><td>2014-11-08</td></tr><tr><td>Aishwarya Dantuluri</td><td>2014-09-03</td></tr><tr><td>Cuneyt Arslan</td><td>2014-08-26</td></tr><tr><td>Som Mukherjee</td><td>2014-08-25</td></tr><tr><td>Dipti Shah</td><td>2014-08-03</td></tr><tr><td>Chompoo Atitarn</td><td>2014-06-18</td></tr><tr><td>Veronika Necesana</td><td>2014-05-18</td></tr><tr><td>Emma Van Zant</td><td>2014-05-14</td></tr><tr><td>Serdar ozden</td><td>2014-02-22</td></tr><tr><td>Daniella Cavalcante</td><td>2014-01-17</td></tr><tr><td>Tuulikki Linna</td><td>2014-01-15</td></tr></table>"
                    },
                    "metadata": {
                        "resultSet": {
                            "id": 0,
                            "batchId": 0,
                            "rowCount": 37,
                            "complete": true,
                            "columnInfo": [
                                {
                                    "isBytes": false,
                                    "isChars": true,
                                    "isSqlVariant": false,
                                    "isUdt": false,
                                    "isXml": false,
                                    "isJson": false,
                                    "sqlDbType": 12,
                                    "isHierarchyId": false,
                                    "isSqlXmlType": false,
                                    "isUnknownType": false,
                                    "isUpdatable": true,
                                    "allowDBNull": false,
                                    "baseCatalogName": null,
                                    "baseColumnName": null,
                                    "baseSchemaName": null,
                                    "baseServerName": null,
                                    "baseTableName": null,
                                    "columnName": "CustomerName",
                                    "columnOrdinal": 0,
                                    "columnSize": 100,
                                    "isAliased": null,
                                    "isAutoIncrement": false,
                                    "isExpression": null,
                                    "isHidden": null,
                                    "isIdentity": false,
                                    "isKey": null,
                                    "isLong": false,
                                    "isReadOnly": false,
                                    "isUnique": false,
                                    "numericPrecision": 255,
                                    "numericScale": 255,
                                    "udtAssemblyQualifiedName": null,
                                    "dataType": "System.String, System.Private.CoreLib, Version=4.0.0.0, Culture=neutral, PublicKeyToken=7cec85d7bea7798e",
                                    "dataTypeName": "nvarchar"
                                },
                                {
                                    "isBytes": false,
                                    "isChars": false,
                                    "isSqlVariant": false,
                                    "isUdt": false,
                                    "isXml": false,
                                    "isJson": false,
                                    "sqlDbType": 31,
                                    "isHierarchyId": false,
                                    "isSqlXmlType": false,
                                    "isUnknownType": false,
                                    "isUpdatable": true,
                                    "allowDBNull": false,
                                    "baseCatalogName": null,
                                    "baseColumnName": null,
                                    "baseSchemaName": null,
                                    "baseServerName": null,
                                    "baseTableName": null,
                                    "columnName": "AccountOpenedDate",
                                    "columnOrdinal": 1,
                                    "columnSize": 3,
                                    "isAliased": null,
                                    "isAutoIncrement": false,
                                    "isExpression": null,
                                    "isHidden": null,
                                    "isIdentity": false,
                                    "isKey": null,
                                    "isLong": false,
                                    "isReadOnly": false,
                                    "isUnique": false,
                                    "numericPrecision": 255,
                                    "numericScale": 255,
                                    "udtAssemblyQualifiedName": null,
                                    "dataType": "System.DateTime, System.Private.CoreLib, Version=4.0.0.0, Culture=neutral, PublicKeyToken=7cec85d7bea7798e",
                                    "dataTypeName": "date"
                                }
                            ],
                            "specialAction": {
                                "none": true,
                                "expectYukonXMLShowPlan": false
                            }
                        }
                    }
                }
            ],
            "execution_count": 66
        },
        {
            "cell_type": "markdown",
            "source": [
                "## <span style=\"font-size: 14px;\">Our salesperson came to us with a list of people they want to find account opening dates for. This is their list:</span>  \n",
                "\n",
                "- Nguyen Banh\n",
                "- Erik Malk\n",
                "- Emma Van Zandt\n",
                "- Damodara Trivedi\n",
                "\n",
                "They would like the accounts listed in the order their accounts were opened.\n",
                "\n",
                "We can use the IN keyword in our WHERE clause to filter for values in a group of values. Let's take a look at the following statement:"
            ],
            "metadata": {
                "azdata_cell_guid": "9f833997-2ab2-4328-bd13-122c558c22b1"
            }
        },
        {
            "cell_type": "code",
            "source": [
                "SELECT CustomerName, AccountOpenedDate FROM Sales.Customers WHERE CustomerName IN ('Nguyen Banh', 'Erik Malk', 'Emma Van Zant', 'Damodara Trivedi') ORDER BY AccountOpenedDate"
            ],
            "metadata": {
                "azdata_cell_guid": "1e80ef36-623c-4d4e-afec-b354e2944580"
            },
            "outputs": [
                {
                    "output_type": "display_data",
                    "data": {
                        "text/html": "(4 rows affected)"
                    },
                    "metadata": {}
                },
                {
                    "output_type": "display_data",
                    "data": {
                        "text/html": "Total execution time: 00:00:00.037"
                    },
                    "metadata": {}
                },
                {
                    "output_type": "execute_result",
                    "execution_count": 16,
                    "data": {
                        "application/vnd.dataresource+json": {
                            "schema": {
                                "fields": [
                                    {
                                        "name": "CustomerName"
                                    },
                                    {
                                        "name": "AccountOpenedDate"
                                    }
                                ]
                            },
                            "data": [
                                {
                                    "0": "Emma Van Zant",
                                    "1": "2014-05-14"
                                },
                                {
                                    "0": "Erik Malk",
                                    "1": "2014-11-13"
                                },
                                {
                                    "0": "Damodara Trivedi",
                                    "1": "2014-12-03"
                                },
                                {
                                    "0": "Nguyen Banh",
                                    "1": "2015-01-22"
                                }
                            ]
                        },
                        "text/html": "<table><tr><th>CustomerName</th><th>AccountOpenedDate</th></tr><tr><td>Emma Van Zant</td><td>2014-05-14</td></tr><tr><td>Erik Malk</td><td>2014-11-13</td></tr><tr><td>Damodara Trivedi</td><td>2014-12-03</td></tr><tr><td>Nguyen Banh</td><td>2015-01-22</td></tr></table>"
                    },
                    "metadata": {
                        "resultSet": {
                            "id": 0,
                            "batchId": 0,
                            "rowCount": 4,
                            "complete": false,
                            "columnInfo": [
                                {
                                    "isBytes": false,
                                    "isChars": true,
                                    "isSqlVariant": false,
                                    "isUdt": false,
                                    "isXml": false,
                                    "isJson": false,
                                    "sqlDbType": 12,
                                    "isHierarchyId": false,
                                    "isSqlXmlType": false,
                                    "isUnknownType": false,
                                    "isUpdatable": true,
                                    "allowDBNull": false,
                                    "baseCatalogName": null,
                                    "baseColumnName": null,
                                    "baseSchemaName": null,
                                    "baseServerName": null,
                                    "baseTableName": null,
                                    "columnName": "CustomerName",
                                    "columnOrdinal": 0,
                                    "columnSize": 100,
                                    "isAliased": null,
                                    "isAutoIncrement": false,
                                    "isExpression": null,
                                    "isHidden": null,
                                    "isIdentity": false,
                                    "isKey": null,
                                    "isLong": false,
                                    "isReadOnly": false,
                                    "isUnique": false,
                                    "numericPrecision": 255,
                                    "numericScale": 255,
                                    "udtAssemblyQualifiedName": null,
                                    "dataType": "System.String, System.Private.CoreLib, Version=4.0.0.0, Culture=neutral, PublicKeyToken=7cec85d7bea7798e",
                                    "dataTypeName": "nvarchar"
                                },
                                {
                                    "isBytes": false,
                                    "isChars": false,
                                    "isSqlVariant": false,
                                    "isUdt": false,
                                    "isXml": false,
                                    "isJson": false,
                                    "sqlDbType": 31,
                                    "isHierarchyId": false,
                                    "isSqlXmlType": false,
                                    "isUnknownType": false,
                                    "isUpdatable": true,
                                    "allowDBNull": false,
                                    "baseCatalogName": null,
                                    "baseColumnName": null,
                                    "baseSchemaName": null,
                                    "baseServerName": null,
                                    "baseTableName": null,
                                    "columnName": "AccountOpenedDate",
                                    "columnOrdinal": 1,
                                    "columnSize": 3,
                                    "isAliased": null,
                                    "isAutoIncrement": false,
                                    "isExpression": null,
                                    "isHidden": null,
                                    "isIdentity": false,
                                    "isKey": null,
                                    "isLong": false,
                                    "isReadOnly": false,
                                    "isUnique": false,
                                    "numericPrecision": 255,
                                    "numericScale": 255,
                                    "udtAssemblyQualifiedName": null,
                                    "dataType": "System.DateTime, System.Private.CoreLib, Version=4.0.0.0, Culture=neutral, PublicKeyToken=7cec85d7bea7798e",
                                    "dataTypeName": "date"
                                }
                            ],
                            "specialAction": null
                        }
                    }
                }
            ],
            "execution_count": 16
        }
    ]
}