{
    "metadata": {
        "kernelspec": {
            "name": "SQL",
            "display_name": "SQL",
            "language": "sql"
        },
        "language_info": {
            "name": "sql",
            "version": ""
        }
    },
    "nbformat_minor": 2,
    "nbformat": 4,
    "cells": [
        {
            "cell_type": "code",
            "source": [
                "USE WideWorldImporters"
            ],
            "metadata": {
                "azdata_cell_guid": "4f2aa2c8-8d99-4124-a0aa-6d55c94fd22a"
            },
            "outputs": [
                {
                    "output_type": "display_data",
                    "data": {
                        "text/html": "Commands completed successfully."
                    },
                    "metadata": {}
                },
                {
                    "output_type": "display_data",
                    "data": {
                        "text/html": "Total execution time: 00:00:00.002"
                    },
                    "metadata": {}
                }
            ],
            "execution_count": 18
        },
        {
            "cell_type": "markdown",
            "source": [
                "# Basic SQL Exercises\r\n",
                "\r\n",
                "In this exercise, you will be taking all of the knowledge from the Basic SQL lesson and applying it by writing queries to answer questions about the data.  For this exercise, we are using the WideWorldImporters database.  Answer these questions with a query using the keywords in the Basic SQL Lesson."
            ],
            "metadata": {
                "azdata_cell_guid": "6edfbf54-96f4-4211-83e9-6408247e6d10",
                "language": "markdown"
            }
        }
    ]
}