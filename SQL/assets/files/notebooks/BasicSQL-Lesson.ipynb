{
    "metadata": {
        "kernelspec": {
            "name": "SQL",
            "display_name": "SQL",
            "language": "sql"
        },
        "language_info": {
            "name": "sql",
            "version": ""
        }
    },
    "nbformat_minor": 2,
    "nbformat": 4,
    "cells": [
        {
            "cell_type": "markdown",
            "source": [
                "In the query tab in Azure Data Studio, there is a dropdown that makes it easy to select the database for our context.  However, if you are in an environment where you do not have that dropdown, you can set your database with the `USE` command."
            ],
            "metadata": {
                "azdata_cell_guid": "3f65dced-29c1-4a88-8b82-e950f463eae3"
            }
        },
        {
            "cell_type": "code",
            "source": [
                "USE WideWorldImporters"
            ],
            "metadata": {
                "azdata_cell_guid": "bf215af6-f307-4495-8161-81a3d02b7c1e",
                "tags": []
            },
            "outputs": [
                {
                    "output_type": "display_data",
                    "data": {
                        "text/html": "Commands completed successfully."
                    },
                    "metadata": {}
                },
                {
                    "output_type": "display_data",
                    "data": {
                        "text/html": "Total execution time: 00:00:00.019"
                    },
                    "metadata": {}
                }
            ],
            "execution_count": 1
        },
        {
            "cell_type": "markdown",
            "source": [
                "## Choosing a Database\r\n",
                "\r\n",
                "When you are using Azure Data Studio, you can change your database in the Change Connection dropdown in a query window.  However, you may find yourself in an environment other than Azure Data Studio.  To select a database using SQL, we use the `USE` keyword.\r\n",
                "\r\n",
                "This `USE` statement is common to include at the top of SQL files to set the context for the file.  Which database does this file need to be run for?  Let the `USE` statement make that clear.  Its syntax is:\r\n",
                "\r\n",
                "```\r\n",
                "    USE databaseName\r\n",
                "```\r\n",
                "\r\n",
                "For our examples, we are using the WideWorldImporters database.  So start with:"
            ],
            "metadata": {
                "azdata_cell_guid": "ccf03375-86ed-4552-83d5-368cb98020b7"
            }
        },
        {
            "cell_type": "code",
            "source": [
                "USE WideWorldImporters"
            ],
            "metadata": {
                "azdata_cell_guid": "65ec78ac-0621-40f4-9293-c227b6b1cac3"
            },
            "outputs": [],
            "execution_count": null
        },
        {
            "cell_type": "markdown",
            "source": [
                "##  Selecting values\n",
                "\n",
                "The SELECT keyword is used to specify which field(s) to get from a data source. It can also be used to select values. Let's look into using SELECT to select values."
            ],
            "metadata": {
                "azdata_cell_guid": "701e3a69-2417-4de9-a4b5-9cb4475ff562"
            }
        },
        {
            "cell_type": "markdown",
            "source": [
                "### SELECT with Strings\r\n",
                "\r\n",
                "When working with strings in SQL, we surround our strings with a single quote `'` on either side of the string.  Consider the following query:"
            ],
            "metadata": {
                "azdata_cell_guid": "b6d655c6-c2a7-4e97-8ca3-8d0b9184952c"
            }
        },
        {
            "cell_type": "code",
            "source": [
                "SELECT 'This is a string'"
            ],
            "metadata": {
                "azdata_cell_guid": "635f9aa3-ef87-43c9-8996-b9f02071d732"
            },
            "outputs": [
                {
                    "output_type": "display_data",
                    "data": {
                        "text/html": "(1 row affected)"
                    },
                    "metadata": {}
                },
                {
                    "output_type": "display_data",
                    "data": {
                        "text/html": "Total execution time: 00:00:00.016"
                    },
                    "metadata": {}
                },
                {
                    "output_type": "execute_result",
                    "execution_count": 4,
                    "data": {
                        "application/vnd.dataresource+json": {
                            "schema": {
                                "fields": [
                                    {
                                        "name": "(No column name)"
                                    }
                                ]
                            },
                            "data": [
                                {
                                    "0": "This is a string"
                                }
                            ]
                        },
                        "text/html": "<table><tr><th>(No column name)</th></tr><tr><td>This is a string</td></tr></table>"
                    },
                    "metadata": {
                        "resultSet": {
                            "id": 0,
                            "batchId": 0,
                            "rowCount": 1,
                            "complete": false,
                            "columnInfo": [
                                {
                                    "isBytes": false,
                                    "isChars": true,
                                    "isSqlVariant": false,
                                    "isUdt": false,
                                    "isXml": false,
                                    "isJson": false,
                                    "sqlDbType": 22,
                                    "isHierarchyId": false,
                                    "isSqlXmlType": false,
                                    "isUnknownType": false,
                                    "isUpdatable": false,
                                    "allowDBNull": false,
                                    "baseCatalogName": null,
                                    "baseColumnName": null,
                                    "baseSchemaName": null,
                                    "baseServerName": null,
                                    "baseTableName": null,
                                    "columnName": "(No column name)",
                                    "columnOrdinal": 0,
                                    "columnSize": 16,
                                    "isAliased": null,
                                    "isAutoIncrement": false,
                                    "isExpression": null,
                                    "isHidden": null,
                                    "isIdentity": false,
                                    "isKey": null,
                                    "isLong": false,
                                    "isReadOnly": true,
                                    "isUnique": false,
                                    "numericPrecision": 255,
                                    "numericScale": 255,
                                    "udtAssemblyQualifiedName": null,
                                    "dataType": "System.String, System.Private.CoreLib, Version=4.0.0.0, Culture=neutral, PublicKeyToken=7cec85d7bea7798e",
                                    "dataTypeName": "varchar"
                                }
                            ],
                            "specialAction": null
                        }
                    }
                }
            ],
            "execution_count": 4
        },
        {
            "cell_type": "markdown",
            "source": [
                "We can use the `+` operator to combine strings.  The following statement would also return 'This is a string'."
            ],
            "metadata": {
                "azdata_cell_guid": "9ee522e0-0a36-4c58-8d7e-a8dfe0821fcb"
            }
        },
        {
            "cell_type": "code",
            "source": [
                "SELECT 'This is ' + 'a string'"
            ],
            "metadata": {
                "azdata_cell_guid": "e28cef24-2ea6-4da6-8f0b-045ab367fb8c"
            },
            "outputs": [
                {
                    "output_type": "display_data",
                    "data": {
                        "text/html": "(1 row affected)"
                    },
                    "metadata": {}
                },
                {
                    "output_type": "display_data",
                    "data": {
                        "text/html": "Total execution time: 00:00:00.018"
                    },
                    "metadata": {}
                },
                {
                    "output_type": "execute_result",
                    "execution_count": 1,
                    "data": {
                        "application/vnd.dataresource+json": {
                            "schema": {
                                "fields": [
                                    {
                                        "name": "(No column name)"
                                    }
                                ]
                            },
                            "data": [
                                {
                                    "0": "This is a string"
                                }
                            ]
                        },
                        "text/html": "<table><tr><th>(No column name)</th></tr><tr><td>This is a string</td></tr></table>"
                    },
                    "metadata": {
                        "resultSet": {
                            "id": 0,
                            "batchId": 0,
                            "rowCount": 1,
                            "complete": true,
                            "columnInfo": [
                                {
                                    "isBytes": false,
                                    "isChars": true,
                                    "isSqlVariant": false,
                                    "isUdt": false,
                                    "isXml": false,
                                    "isJson": false,
                                    "sqlDbType": 22,
                                    "isHierarchyId": false,
                                    "isSqlXmlType": false,
                                    "isUnknownType": false,
                                    "isUpdatable": false,
                                    "allowDBNull": false,
                                    "baseCatalogName": null,
                                    "baseColumnName": null,
                                    "baseSchemaName": null,
                                    "baseServerName": null,
                                    "baseTableName": null,
                                    "columnName": "(No column name)",
                                    "columnOrdinal": 0,
                                    "columnSize": 16,
                                    "isAliased": null,
                                    "isAutoIncrement": false,
                                    "isExpression": null,
                                    "isHidden": null,
                                    "isIdentity": false,
                                    "isKey": null,
                                    "isLong": false,
                                    "isReadOnly": true,
                                    "isUnique": false,
                                    "numericPrecision": 255,
                                    "numericScale": 255,
                                    "udtAssemblyQualifiedName": null,
                                    "dataType": "System.String, System.Private.CoreLib, Version=4.0.0.0, Culture=neutral, PublicKeyToken=7cec85d7bea7798e",
                                    "dataTypeName": "varchar"
                                }
                            ],
                            "specialAction": {
                                "none": true,
                                "expectYukonXMLShowPlan": false
                            }
                        }
                    }
                }
            ],
            "execution_count": 1
        },
        {
            "cell_type": "markdown",
            "source": [
                "You can use multiple `+` statements to combine into a single string.  The following SQL statements would also return 'This is a string'."
            ],
            "metadata": {
                "azdata_cell_guid": "d420365d-7270-450b-8269-b4e9d6cef0b1"
            }
        },
        {
            "cell_type": "code",
            "source": [
                "SELECT 'This ' + 'is a ' + 'string'\r\n",
                "SELECT 'This ' + 'is ' + 'a ' + 'string'"
            ],
            "metadata": {
                "azdata_cell_guid": "75a2e923-51d7-4191-b5c0-47f1f077d345"
            },
            "outputs": [
                {
                    "output_type": "display_data",
                    "data": {
                        "text/html": "(1 row affected)"
                    },
                    "metadata": {}
                },
                {
                    "output_type": "display_data",
                    "data": {
                        "text/html": "(1 row affected)"
                    },
                    "metadata": {}
                },
                {
                    "output_type": "display_data",
                    "data": {
                        "text/html": "Total execution time: 00:00:00.008"
                    },
                    "metadata": {}
                },
                {
                    "output_type": "execute_result",
                    "execution_count": 2,
                    "data": {
                        "application/vnd.dataresource+json": {
                            "schema": {
                                "fields": [
                                    {
                                        "name": "(No column name)"
                                    }
                                ]
                            },
                            "data": [
                                {
                                    "0": "This is a string"
                                }
                            ]
                        },
                        "text/html": "<table><tr><th>(No column name)</th></tr><tr><td>This is a string</td></tr></table>"
                    },
                    "metadata": {
                        "resultSet": {
                            "id": 0,
                            "batchId": 0,
                            "rowCount": 1,
                            "complete": true,
                            "columnInfo": [
                                {
                                    "isBytes": false,
                                    "isChars": true,
                                    "isSqlVariant": false,
                                    "isUdt": false,
                                    "isXml": false,
                                    "isJson": false,
                                    "sqlDbType": 22,
                                    "isHierarchyId": false,
                                    "isSqlXmlType": false,
                                    "isUnknownType": false,
                                    "isUpdatable": false,
                                    "allowDBNull": false,
                                    "baseCatalogName": null,
                                    "baseColumnName": null,
                                    "baseSchemaName": null,
                                    "baseServerName": null,
                                    "baseTableName": null,
                                    "columnName": "(No column name)",
                                    "columnOrdinal": 0,
                                    "columnSize": 16,
                                    "isAliased": null,
                                    "isAutoIncrement": false,
                                    "isExpression": null,
                                    "isHidden": null,
                                    "isIdentity": false,
                                    "isKey": null,
                                    "isLong": false,
                                    "isReadOnly": true,
                                    "isUnique": false,
                                    "numericPrecision": 255,
                                    "numericScale": 255,
                                    "udtAssemblyQualifiedName": null,
                                    "dataType": "System.String, System.Private.CoreLib, Version=4.0.0.0, Culture=neutral, PublicKeyToken=7cec85d7bea7798e",
                                    "dataTypeName": "varchar"
                                }
                            ],
                            "specialAction": {
                                "none": true,
                                "expectYukonXMLShowPlan": false
                            }
                        }
                    }
                },
                {
                    "output_type": "execute_result",
                    "execution_count": 2,
                    "data": {
                        "application/vnd.dataresource+json": {
                            "schema": {
                                "fields": [
                                    {
                                        "name": "(No column name)"
                                    }
                                ]
                            },
                            "data": [
                                {
                                    "0": "This is a string"
                                }
                            ]
                        },
                        "text/html": "<table><tr><th>(No column name)</th></tr><tr><td>This is a string</td></tr></table>"
                    },
                    "metadata": {
                        "resultSet": {
                            "id": 1,
                            "batchId": 0,
                            "rowCount": 1,
                            "complete": true,
                            "columnInfo": [
                                {
                                    "isBytes": false,
                                    "isChars": true,
                                    "isSqlVariant": false,
                                    "isUdt": false,
                                    "isXml": false,
                                    "isJson": false,
                                    "sqlDbType": 22,
                                    "isHierarchyId": false,
                                    "isSqlXmlType": false,
                                    "isUnknownType": false,
                                    "isUpdatable": false,
                                    "allowDBNull": false,
                                    "baseCatalogName": null,
                                    "baseColumnName": null,
                                    "baseSchemaName": null,
                                    "baseServerName": null,
                                    "baseTableName": null,
                                    "columnName": "(No column name)",
                                    "columnOrdinal": 0,
                                    "columnSize": 16,
                                    "isAliased": null,
                                    "isAutoIncrement": false,
                                    "isExpression": null,
                                    "isHidden": null,
                                    "isIdentity": false,
                                    "isKey": null,
                                    "isLong": false,
                                    "isReadOnly": true,
                                    "isUnique": false,
                                    "numericPrecision": 255,
                                    "numericScale": 255,
                                    "udtAssemblyQualifiedName": null,
                                    "dataType": "System.String, System.Private.CoreLib, Version=4.0.0.0, Culture=neutral, PublicKeyToken=7cec85d7bea7798e",
                                    "dataTypeName": "varchar"
                                }
                            ],
                            "specialAction": {
                                "none": true,
                                "expectYukonXMLShowPlan": false
                            }
                        }
                    }
                }
            ],
            "execution_count": 2
        },
        {
            "cell_type": "markdown",
            "source": [
                "### SELECT with Numbers and Math\r\n",
                "\r\n",
                "When it comes to math, SQL can do that in a SELECT statement as well."
            ],
            "metadata": {
                "azdata_cell_guid": "9e566d7f-b3fc-4d76-8a53-36229fcadb07"
            }
        },
        {
            "cell_type": "code",
            "source": [
                "SELECT 1 + 1\r\n",
                "\r\n",
                "SELECT 3/2\r\n",
                "\r\n",
                "SELECT 3.0/2.0"
            ],
            "metadata": {
                "azdata_cell_guid": "d56f284a-b7e0-45a7-94f0-f87ac66fa9ce"
            },
            "outputs": [
                {
                    "output_type": "display_data",
                    "data": {
                        "text/html": "(1 row affected)"
                    },
                    "metadata": {}
                },
                {
                    "output_type": "display_data",
                    "data": {
                        "text/html": "(1 row affected)"
                    },
                    "metadata": {}
                },
                {
                    "output_type": "display_data",
                    "data": {
                        "text/html": "(1 row affected)"
                    },
                    "metadata": {}
                },
                {
                    "output_type": "display_data",
                    "data": {
                        "text/html": "Total execution time: 00:00:00.043"
                    },
                    "metadata": {}
                },
                {
                    "output_type": "execute_result",
                    "execution_count": 5,
                    "data": {
                        "application/vnd.dataresource+json": {
                            "schema": {
                                "fields": [
                                    {
                                        "name": "(No column name)"
                                    }
                                ]
                            },
                            "data": [
                                {
                                    "0": "2"
                                }
                            ]
                        },
                        "text/html": "<table><tr><th>(No column name)</th></tr><tr><td>2</td></tr></table>"
                    },
                    "metadata": {
                        "resultSet": {
                            "id": 0,
                            "batchId": 0,
                            "rowCount": 1,
                            "complete": true,
                            "columnInfo": [
                                {
                                    "isBytes": false,
                                    "isChars": false,
                                    "isSqlVariant": false,
                                    "isUdt": false,
                                    "isXml": false,
                                    "isJson": false,
                                    "sqlDbType": 8,
                                    "isHierarchyId": false,
                                    "isSqlXmlType": false,
                                    "isUnknownType": false,
                                    "isUpdatable": false,
                                    "allowDBNull": true,
                                    "baseCatalogName": null,
                                    "baseColumnName": null,
                                    "baseSchemaName": null,
                                    "baseServerName": null,
                                    "baseTableName": null,
                                    "columnName": "(No column name)",
                                    "columnOrdinal": 0,
                                    "columnSize": 4,
                                    "isAliased": null,
                                    "isAutoIncrement": false,
                                    "isExpression": null,
                                    "isHidden": null,
                                    "isIdentity": false,
                                    "isKey": null,
                                    "isLong": false,
                                    "isReadOnly": true,
                                    "isUnique": false,
                                    "numericPrecision": 10,
                                    "numericScale": 255,
                                    "udtAssemblyQualifiedName": null,
                                    "dataType": "System.Int32, System.Private.CoreLib, Version=4.0.0.0, Culture=neutral, PublicKeyToken=7cec85d7bea7798e",
                                    "dataTypeName": "int"
                                }
                            ],
                            "specialAction": {
                                "none": true,
                                "expectYukonXMLShowPlan": false
                            }
                        }
                    }
                },
                {
                    "output_type": "execute_result",
                    "execution_count": 5,
                    "data": {
                        "application/vnd.dataresource+json": {
                            "schema": {
                                "fields": [
                                    {
                                        "name": "(No column name)"
                                    }
                                ]
                            },
                            "data": [
                                {
                                    "0": "1"
                                }
                            ]
                        },
                        "text/html": "<table><tr><th>(No column name)</th></tr><tr><td>1</td></tr></table>"
                    },
                    "metadata": {
                        "resultSet": {
                            "id": 1,
                            "batchId": 0,
                            "rowCount": 1,
                            "complete": true,
                            "columnInfo": [
                                {
                                    "isBytes": false,
                                    "isChars": false,
                                    "isSqlVariant": false,
                                    "isUdt": false,
                                    "isXml": false,
                                    "isJson": false,
                                    "sqlDbType": 8,
                                    "isHierarchyId": false,
                                    "isSqlXmlType": false,
                                    "isUnknownType": false,
                                    "isUpdatable": false,
                                    "allowDBNull": true,
                                    "baseCatalogName": null,
                                    "baseColumnName": null,
                                    "baseSchemaName": null,
                                    "baseServerName": null,
                                    "baseTableName": null,
                                    "columnName": "(No column name)",
                                    "columnOrdinal": 0,
                                    "columnSize": 4,
                                    "isAliased": null,
                                    "isAutoIncrement": false,
                                    "isExpression": null,
                                    "isHidden": null,
                                    "isIdentity": false,
                                    "isKey": null,
                                    "isLong": false,
                                    "isReadOnly": true,
                                    "isUnique": false,
                                    "numericPrecision": 10,
                                    "numericScale": 255,
                                    "udtAssemblyQualifiedName": null,
                                    "dataType": "System.Int32, System.Private.CoreLib, Version=4.0.0.0, Culture=neutral, PublicKeyToken=7cec85d7bea7798e",
                                    "dataTypeName": "int"
                                }
                            ],
                            "specialAction": {
                                "none": true,
                                "expectYukonXMLShowPlan": false
                            }
                        }
                    }
                },
                {
                    "output_type": "execute_result",
                    "execution_count": 5,
                    "data": {
                        "application/vnd.dataresource+json": {
                            "schema": {
                                "fields": [
                                    {
                                        "name": "(No column name)"
                                    }
                                ]
                            },
                            "data": [
                                {
                                    "0": "1.500000"
                                }
                            ]
                        },
                        "text/html": "<table><tr><th>(No column name)</th></tr><tr><td>1.500000</td></tr></table>"
                    },
                    "metadata": {
                        "resultSet": {
                            "id": 2,
                            "batchId": 0,
                            "rowCount": 1,
                            "complete": false,
                            "columnInfo": [
                                {
                                    "isBytes": false,
                                    "isChars": false,
                                    "isSqlVariant": false,
                                    "isUdt": false,
                                    "isXml": false,
                                    "isJson": false,
                                    "sqlDbType": 5,
                                    "isHierarchyId": false,
                                    "isSqlXmlType": false,
                                    "isUnknownType": false,
                                    "isUpdatable": false,
                                    "allowDBNull": true,
                                    "baseCatalogName": null,
                                    "baseColumnName": null,
                                    "baseSchemaName": null,
                                    "baseServerName": null,
                                    "baseTableName": null,
                                    "columnName": "(No column name)",
                                    "columnOrdinal": 0,
                                    "columnSize": 17,
                                    "isAliased": null,
                                    "isAutoIncrement": false,
                                    "isExpression": null,
                                    "isHidden": null,
                                    "isIdentity": false,
                                    "isKey": null,
                                    "isLong": false,
                                    "isReadOnly": true,
                                    "isUnique": false,
                                    "numericPrecision": 8,
                                    "numericScale": 6,
                                    "udtAssemblyQualifiedName": null,
                                    "dataType": "System.Decimal, System.Private.CoreLib, Version=4.0.0.0, Culture=neutral, PublicKeyToken=7cec85d7bea7798e",
                                    "dataTypeName": "decimal"
                                }
                            ],
                            "specialAction": null
                        }
                    }
                }
            ],
            "execution_count": 5
        },
        {
            "cell_type": "markdown",
            "source": [
                "When working with numbers, the type we use makes a difference, as seen in the results above. `3/2` returned a whole number and no remainder. However, if we change those inputs from integers to decimals, notice that the result changes to match the type of the operands.  What do you think would happen if we mixed our types and tried 3/2.0 or 3.0/2?  SELECT statements are selecting and will not destroy data.  So... let's try it out!"
            ],
            "metadata": {
                "azdata_cell_guid": "73d2b57a-0c6b-4181-936c-07fb0edb3172"
            }
        },
        {
            "cell_type": "code",
            "source": [
                "SELECT 3/2.0\r\n",
                "\r\n",
                "SELECT 3.0/2"
            ],
            "metadata": {
                "azdata_cell_guid": "1cff6e68-b6d8-4f15-a7d3-4702eabdd0af"
            },
            "outputs": [
                {
                    "output_type": "display_data",
                    "data": {
                        "text/html": "(1 row affected)"
                    },
                    "metadata": {}
                },
                {
                    "output_type": "display_data",
                    "data": {
                        "text/html": "(1 row affected)"
                    },
                    "metadata": {}
                },
                {
                    "output_type": "display_data",
                    "data": {
                        "text/html": "Total execution time: 00:00:00.017"
                    },
                    "metadata": {}
                },
                {
                    "output_type": "execute_result",
                    "execution_count": 6,
                    "data": {
                        "application/vnd.dataresource+json": {
                            "schema": {
                                "fields": [
                                    {
                                        "name": "(No column name)"
                                    }
                                ]
                            },
                            "data": [
                                {
                                    "0": "1.500000"
                                }
                            ]
                        },
                        "text/html": "<table><tr><th>(No column name)</th></tr><tr><td>1.500000</td></tr></table>"
                    },
                    "metadata": {
                        "resultSet": {
                            "id": 0,
                            "batchId": 0,
                            "rowCount": 1,
                            "complete": true,
                            "columnInfo": [
                                {
                                    "isBytes": false,
                                    "isChars": false,
                                    "isSqlVariant": false,
                                    "isUdt": false,
                                    "isXml": false,
                                    "isJson": false,
                                    "sqlDbType": 5,
                                    "isHierarchyId": false,
                                    "isSqlXmlType": false,
                                    "isUnknownType": false,
                                    "isUpdatable": false,
                                    "allowDBNull": true,
                                    "baseCatalogName": null,
                                    "baseColumnName": null,
                                    "baseSchemaName": null,
                                    "baseServerName": null,
                                    "baseTableName": null,
                                    "columnName": "(No column name)",
                                    "columnOrdinal": 0,
                                    "columnSize": 17,
                                    "isAliased": null,
                                    "isAutoIncrement": false,
                                    "isExpression": null,
                                    "isHidden": null,
                                    "isIdentity": false,
                                    "isKey": null,
                                    "isLong": false,
                                    "isReadOnly": true,
                                    "isUnique": false,
                                    "numericPrecision": 8,
                                    "numericScale": 6,
                                    "udtAssemblyQualifiedName": null,
                                    "dataType": "System.Decimal, System.Private.CoreLib, Version=4.0.0.0, Culture=neutral, PublicKeyToken=7cec85d7bea7798e",
                                    "dataTypeName": "decimal"
                                }
                            ],
                            "specialAction": {
                                "none": true,
                                "expectYukonXMLShowPlan": false
                            }
                        }
                    }
                },
                {
                    "output_type": "execute_result",
                    "execution_count": 6,
                    "data": {
                        "application/vnd.dataresource+json": {
                            "schema": {
                                "fields": [
                                    {
                                        "name": "(No column name)"
                                    }
                                ]
                            },
                            "data": [
                                {
                                    "0": "1.500000"
                                }
                            ]
                        },
                        "text/html": "<table><tr><th>(No column name)</th></tr><tr><td>1.500000</td></tr></table>"
                    },
                    "metadata": {
                        "resultSet": {
                            "id": 1,
                            "batchId": 0,
                            "rowCount": 1,
                            "complete": true,
                            "columnInfo": [
                                {
                                    "isBytes": false,
                                    "isChars": false,
                                    "isSqlVariant": false,
                                    "isUdt": false,
                                    "isXml": false,
                                    "isJson": false,
                                    "sqlDbType": 5,
                                    "isHierarchyId": false,
                                    "isSqlXmlType": false,
                                    "isUnknownType": false,
                                    "isUpdatable": false,
                                    "allowDBNull": true,
                                    "baseCatalogName": null,
                                    "baseColumnName": null,
                                    "baseSchemaName": null,
                                    "baseServerName": null,
                                    "baseTableName": null,
                                    "columnName": "(No column name)",
                                    "columnOrdinal": 0,
                                    "columnSize": 17,
                                    "isAliased": null,
                                    "isAutoIncrement": false,
                                    "isExpression": null,
                                    "isHidden": null,
                                    "isIdentity": false,
                                    "isKey": null,
                                    "isLong": false,
                                    "isReadOnly": true,
                                    "isUnique": false,
                                    "numericPrecision": 7,
                                    "numericScale": 6,
                                    "udtAssemblyQualifiedName": null,
                                    "dataType": "System.Decimal, System.Private.CoreLib, Version=4.0.0.0, Culture=neutral, PublicKeyToken=7cec85d7bea7798e",
                                    "dataTypeName": "decimal"
                                }
                            ],
                            "specialAction": {
                                "none": true,
                                "expectYukonXMLShowPlan": false
                            }
                        }
                    }
                }
            ],
            "execution_count": 6
        },
        {
            "cell_type": "markdown",
            "source": [
                "SQL converts to the <code>numeric</code> data type when dealing with a mix of integers and numeric values. We can use the <code>SQL_VARIANT_PROPERTY</code> function to get a value's <code>BaseType</code> to see what data types we are working with. This is useful to know if you are presented values and are uncertain of their data types.  Let's try this out to see what SQL is telling us type-wise:"
            ],
            "metadata": {
                "azdata_cell_guid": "4d86144e-995e-4403-a793-2381006c8f23"
            }
        },
        {
            "cell_type": "code",
            "source": [
                "SELECT SQL_VARIANT_PROPERTY(3/2.0,'BaseType')\r\n",
                "\r\n",
                "SELECT SQL_VARIANT_PROPERTY(3/2,'BaseType')"
            ],
            "metadata": {
                "azdata_cell_guid": "53ebc16b-b50a-4b9a-88b1-7e18f8aea242",
                "tags": []
            },
            "outputs": [
                {
                    "output_type": "display_data",
                    "data": {
                        "text/html": "(1 row affected)"
                    },
                    "metadata": {}
                },
                {
                    "output_type": "display_data",
                    "data": {
                        "text/html": "(1 row affected)"
                    },
                    "metadata": {}
                },
                {
                    "output_type": "display_data",
                    "data": {
                        "text/html": "Total execution time: 00:00:00.032"
                    },
                    "metadata": {}
                },
                {
                    "output_type": "execute_result",
                    "execution_count": 7,
                    "data": {
                        "application/vnd.dataresource+json": {
                            "schema": {
                                "fields": [
                                    {
                                        "name": "(No column name)"
                                    }
                                ]
                            },
                            "data": [
                                {
                                    "0": "numeric"
                                }
                            ]
                        },
                        "text/html": "<table><tr><th>(No column name)</th></tr><tr><td>numeric</td></tr></table>"
                    },
                    "metadata": {
                        "resultSet": {
                            "id": 0,
                            "batchId": 0,
                            "rowCount": 1,
                            "complete": false,
                            "columnInfo": [
                                {
                                    "isBytes": false,
                                    "isChars": false,
                                    "isSqlVariant": true,
                                    "isUdt": false,
                                    "isXml": false,
                                    "isJson": false,
                                    "sqlDbType": 23,
                                    "isHierarchyId": false,
                                    "isSqlXmlType": false,
                                    "isUnknownType": false,
                                    "isUpdatable": false,
                                    "allowDBNull": true,
                                    "baseCatalogName": null,
                                    "baseColumnName": null,
                                    "baseSchemaName": null,
                                    "baseServerName": null,
                                    "baseTableName": null,
                                    "columnName": "(No column name)",
                                    "columnOrdinal": 0,
                                    "columnSize": 8009,
                                    "isAliased": null,
                                    "isAutoIncrement": false,
                                    "isExpression": null,
                                    "isHidden": null,
                                    "isIdentity": false,
                                    "isKey": null,
                                    "isLong": false,
                                    "isReadOnly": true,
                                    "isUnique": false,
                                    "numericPrecision": 255,
                                    "numericScale": 255,
                                    "udtAssemblyQualifiedName": null,
                                    "dataType": "System.Object, System.Private.CoreLib, Version=4.0.0.0, Culture=neutral, PublicKeyToken=7cec85d7bea7798e",
                                    "dataTypeName": "sql_variant"
                                }
                            ],
                            "specialAction": null
                        }
                    }
                },
                {
                    "output_type": "execute_result",
                    "execution_count": 7,
                    "data": {
                        "application/vnd.dataresource+json": {
                            "schema": {
                                "fields": [
                                    {
                                        "name": "(No column name)"
                                    }
                                ]
                            },
                            "data": [
                                {
                                    "0": "int"
                                }
                            ]
                        },
                        "text/html": "<table><tr><th>(No column name)</th></tr><tr><td>int</td></tr></table>"
                    },
                    "metadata": {
                        "resultSet": {
                            "id": 1,
                            "batchId": 0,
                            "rowCount": 1,
                            "complete": true,
                            "columnInfo": [
                                {
                                    "isBytes": false,
                                    "isChars": false,
                                    "isSqlVariant": true,
                                    "isUdt": false,
                                    "isXml": false,
                                    "isJson": false,
                                    "sqlDbType": 23,
                                    "isHierarchyId": false,
                                    "isSqlXmlType": false,
                                    "isUnknownType": false,
                                    "isUpdatable": false,
                                    "allowDBNull": true,
                                    "baseCatalogName": null,
                                    "baseColumnName": null,
                                    "baseSchemaName": null,
                                    "baseServerName": null,
                                    "baseTableName": null,
                                    "columnName": "(No column name)",
                                    "columnOrdinal": 0,
                                    "columnSize": 8009,
                                    "isAliased": null,
                                    "isAutoIncrement": false,
                                    "isExpression": null,
                                    "isHidden": null,
                                    "isIdentity": false,
                                    "isKey": null,
                                    "isLong": false,
                                    "isReadOnly": true,
                                    "isUnique": false,
                                    "numericPrecision": 255,
                                    "numericScale": 255,
                                    "udtAssemblyQualifiedName": null,
                                    "dataType": "System.Object, System.Private.CoreLib, Version=4.0.0.0, Culture=neutral, PublicKeyToken=7cec85d7bea7798e",
                                    "dataTypeName": "sql_variant"
                                }
                            ],
                            "specialAction": {
                                "none": true,
                                "expectYukonXMLShowPlan": false
                            }
                        }
                    }
                }
            ],
            "execution_count": 7
        },
        {
            "cell_type": "markdown",
            "source": [
                "What if you looked back at those SQL statements later and weren't sure what they meant?  We can add comments for our SQL statements to make notes what our code does"
            ],
            "metadata": {
                "azdata_cell_guid": "6087f159-bca2-40c2-a5d5-ea341bca5a6d"
            }
        },
        {
            "cell_type": "code",
            "source": [
                "/*\r\n",
                "\r\n",
                "This is a multi-line comment.  In this line of code below, we're seeing what the result is from dividing an int by a numeric.\r\n",
                "\r\n",
                "*/\r\n",
                "SELECT SQL_VARIANT_PROPERTY(3/2.0,'BaseType')\r\n",
                "\r\n",
                "-- This is a single-line comment.  In this line of code below, we are seeing what the result is from dividing an int by an int.\r\n",
                "SELECT SQL_VARIANT_PROPERTY(3/2,'BaseType')"
            ],
            "metadata": {
                "azdata_cell_guid": "9a8ed5a9-9efe-454c-87e9-c79a65cc3c60",
                "tags": [
                    "hide_input"
                ]
            },
            "outputs": [
                {
                    "output_type": "display_data",
                    "data": {
                        "text/html": "(1 row affected)"
                    },
                    "metadata": {}
                },
                {
                    "output_type": "display_data",
                    "data": {
                        "text/html": "(1 row affected)"
                    },
                    "metadata": {}
                },
                {
                    "output_type": "display_data",
                    "data": {
                        "text/html": "Total execution time: 00:00:00.011"
                    },
                    "metadata": {}
                },
                {
                    "output_type": "execute_result",
                    "execution_count": 8,
                    "data": {
                        "application/vnd.dataresource+json": {
                            "schema": {
                                "fields": [
                                    {
                                        "name": "(No column name)"
                                    }
                                ]
                            },
                            "data": [
                                {
                                    "0": "numeric"
                                }
                            ]
                        },
                        "text/html": "<table><tr><th>(No column name)</th></tr><tr><td>numeric</td></tr></table>"
                    },
                    "metadata": {
                        "resultSet": {
                            "id": 0,
                            "batchId": 0,
                            "rowCount": 1,
                            "complete": true,
                            "columnInfo": [
                                {
                                    "isBytes": false,
                                    "isChars": false,
                                    "isSqlVariant": true,
                                    "isUdt": false,
                                    "isXml": false,
                                    "isJson": false,
                                    "sqlDbType": 23,
                                    "isHierarchyId": false,
                                    "isSqlXmlType": false,
                                    "isUnknownType": false,
                                    "isUpdatable": false,
                                    "allowDBNull": true,
                                    "baseCatalogName": null,
                                    "baseColumnName": null,
                                    "baseSchemaName": null,
                                    "baseServerName": null,
                                    "baseTableName": null,
                                    "columnName": "(No column name)",
                                    "columnOrdinal": 0,
                                    "columnSize": 8009,
                                    "isAliased": null,
                                    "isAutoIncrement": false,
                                    "isExpression": null,
                                    "isHidden": null,
                                    "isIdentity": false,
                                    "isKey": null,
                                    "isLong": false,
                                    "isReadOnly": true,
                                    "isUnique": false,
                                    "numericPrecision": 255,
                                    "numericScale": 255,
                                    "udtAssemblyQualifiedName": null,
                                    "dataType": "System.Object, System.Private.CoreLib, Version=4.0.0.0, Culture=neutral, PublicKeyToken=7cec85d7bea7798e",
                                    "dataTypeName": "sql_variant"
                                }
                            ],
                            "specialAction": {
                                "none": true,
                                "expectYukonXMLShowPlan": false
                            }
                        }
                    }
                },
                {
                    "output_type": "execute_result",
                    "execution_count": 8,
                    "data": {
                        "application/vnd.dataresource+json": {
                            "schema": {
                                "fields": [
                                    {
                                        "name": "(No column name)"
                                    }
                                ]
                            },
                            "data": [
                                {
                                    "0": "int"
                                }
                            ]
                        },
                        "text/html": "<table><tr><th>(No column name)</th></tr><tr><td>int</td></tr></table>"
                    },
                    "metadata": {
                        "resultSet": {
                            "id": 1,
                            "batchId": 0,
                            "rowCount": 1,
                            "complete": true,
                            "columnInfo": [
                                {
                                    "isBytes": false,
                                    "isChars": false,
                                    "isSqlVariant": true,
                                    "isUdt": false,
                                    "isXml": false,
                                    "isJson": false,
                                    "sqlDbType": 23,
                                    "isHierarchyId": false,
                                    "isSqlXmlType": false,
                                    "isUnknownType": false,
                                    "isUpdatable": false,
                                    "allowDBNull": true,
                                    "baseCatalogName": null,
                                    "baseColumnName": null,
                                    "baseSchemaName": null,
                                    "baseServerName": null,
                                    "baseTableName": null,
                                    "columnName": "(No column name)",
                                    "columnOrdinal": 0,
                                    "columnSize": 8009,
                                    "isAliased": null,
                                    "isAutoIncrement": false,
                                    "isExpression": null,
                                    "isHidden": null,
                                    "isIdentity": false,
                                    "isKey": null,
                                    "isLong": false,
                                    "isReadOnly": true,
                                    "isUnique": false,
                                    "numericPrecision": 255,
                                    "numericScale": 255,
                                    "udtAssemblyQualifiedName": null,
                                    "dataType": "System.Object, System.Private.CoreLib, Version=4.0.0.0, Culture=neutral, PublicKeyToken=7cec85d7bea7798e",
                                    "dataTypeName": "sql_variant"
                                }
                            ],
                            "specialAction": {
                                "none": true,
                                "expectYukonXMLShowPlan": false
                            }
                        }
                    }
                }
            ],
            "execution_count": 8
        },
        {
            "cell_type": "markdown",
            "source": [
                "### SELECT With Fields\n",
                "\n",
                "Now that you have seen what SELECT does by itself, let's use it to select data from a database. When we select data from the database, we are selecting it by its column names or its fields. We need to tell SQL where we are selecting the data from by using the FROM keyword.\n",
                "\n",
                "The syntax is as follows:\n",
                "\n",
                "```\n",
                "SELECT fieldname1, fieldname2, fieldname3 FROM tableName\n",
                "```\n",
                "\n",
                "In previous examples, you have seen the asterisk <code>*</code> used in the field list position - this is a wildcard character, and the asterisk represents \"all fields\". While you can use the * for \"all fields\" in a query, you may be getting data back that you don't necessarily need. Only select the data that you need - this will increase performance of your queries.\n",
                "\n",
                "> Don't bog down the server with calls for unnecessary data. This impacts all who are accessing the SQL Server.\n",
                "\n",
                "Suppose we want to see what colors the warehouse deals with - we can query the Warehouse.Colors table. Since it is a small table, we can use the wildcard for the fields with minimal impact to the server."
            ],
            "metadata": {
                "azdata_cell_guid": "21ac0e6c-d133-4756-882f-c21e48146bf0"
            }
        },
        {
            "cell_type": "code",
            "source": [
                "SELECT * FROM Warehouse.Colors"
            ],
            "metadata": {
                "azdata_cell_guid": "196ddaaa-928f-4a21-987d-c8bc7efe6ae9"
            },
            "outputs": [
                {
                    "output_type": "display_data",
                    "data": {
                        "text/html": "(36 rows affected)"
                    },
                    "metadata": {}
                },
                {
                    "output_type": "display_data",
                    "data": {
                        "text/html": "Total execution time: 00:00:00.024"
                    },
                    "metadata": {}
                },
                {
                    "output_type": "execute_result",
                    "execution_count": 9,
                    "data": {
                        "application/vnd.dataresource+json": {
                            "schema": {
                                "fields": [
                                    {
                                        "name": "ColorID"
                                    },
                                    {
                                        "name": "ColorName"
                                    },
                                    {
                                        "name": "LastEditedBy"
                                    },
                                    {
                                        "name": "ValidFrom"
                                    },
                                    {
                                        "name": "ValidTo"
                                    }
                                ]
                            },
                            "data": [
                                {
                                    "0": "1",
                                    "1": "Azure",
                                    "2": "1",
                                    "3": "2013-01-01 00:00:00.0000000",
                                    "4": "9999-12-31 23:59:59.9999999"
                                },
                                {
                                    "0": "2",
                                    "1": "Beige",
                                    "2": "1",
                                    "3": "2013-01-01 00:00:00.0000000",
                                    "4": "9999-12-31 23:59:59.9999999"
                                },
                                {
                                    "0": "3",
                                    "1": "Black",
                                    "2": "1",
                                    "3": "2013-01-01 00:00:00.0000000",
                                    "4": "9999-12-31 23:59:59.9999999"
                                },
                                {
                                    "0": "4",
                                    "1": "Blue",
                                    "2": "1",
                                    "3": "2013-01-01 00:00:00.0000000",
                                    "4": "9999-12-31 23:59:59.9999999"
                                },
                                {
                                    "0": "5",
                                    "1": "Charcoal",
                                    "2": "1",
                                    "3": "2013-01-01 00:00:00.0000000",
                                    "4": "9999-12-31 23:59:59.9999999"
                                },
                                {
                                    "0": "6",
                                    "1": "Chartreuse",
                                    "2": "1",
                                    "3": "2013-01-01 00:00:00.0000000",
                                    "4": "9999-12-31 23:59:59.9999999"
                                },
                                {
                                    "0": "7",
                                    "1": "Cyan",
                                    "2": "1",
                                    "3": "2013-01-01 00:00:00.0000000",
                                    "4": "9999-12-31 23:59:59.9999999"
                                },
                                {
                                    "0": "8",
                                    "1": "Dark Brown",
                                    "2": "1",
                                    "3": "2013-01-01 00:00:00.0000000",
                                    "4": "9999-12-31 23:59:59.9999999"
                                },
                                {
                                    "0": "9",
                                    "1": "Dark Green",
                                    "2": "1",
                                    "3": "2013-01-01 00:00:00.0000000",
                                    "4": "9999-12-31 23:59:59.9999999"
                                },
                                {
                                    "0": "10",
                                    "1": "Fuchsia",
                                    "2": "1",
                                    "3": "2013-01-01 00:00:00.0000000",
                                    "4": "9999-12-31 23:59:59.9999999"
                                },
                                {
                                    "0": "11",
                                    "1": "Gold",
                                    "2": "1",
                                    "3": "2013-01-01 00:00:00.0000000",
                                    "4": "9999-12-31 23:59:59.9999999"
                                },
                                {
                                    "0": "12",
                                    "1": "Steel Gray",
                                    "2": "9",
                                    "3": "2016-01-01 16:00:00.0000000",
                                    "4": "9999-12-31 23:59:59.9999999"
                                },
                                {
                                    "0": "13",
                                    "1": "Hot Pink",
                                    "2": "1",
                                    "3": "2013-01-01 00:00:00.0000000",
                                    "4": "9999-12-31 23:59:59.9999999"
                                },
                                {
                                    "0": "14",
                                    "1": "Indigo",
                                    "2": "1",
                                    "3": "2013-01-01 00:00:00.0000000",
                                    "4": "9999-12-31 23:59:59.9999999"
                                },
                                {
                                    "0": "15",
                                    "1": "Ivory",
                                    "2": "1",
                                    "3": "2013-01-01 00:00:00.0000000",
                                    "4": "9999-12-31 23:59:59.9999999"
                                },
                                {
                                    "0": "16",
                                    "1": "Khaki",
                                    "2": "1",
                                    "3": "2013-01-01 00:00:00.0000000",
                                    "4": "9999-12-31 23:59:59.9999999"
                                },
                                {
                                    "0": "17",
                                    "1": "Lavender",
                                    "2": "1",
                                    "3": "2013-01-01 00:00:00.0000000",
                                    "4": "9999-12-31 23:59:59.9999999"
                                },
                                {
                                    "0": "18",
                                    "1": "Light Brown",
                                    "2": "1",
                                    "3": "2013-01-01 00:00:00.0000000",
                                    "4": "9999-12-31 23:59:59.9999999"
                                },
                                {
                                    "0": "19",
                                    "1": "Light Green",
                                    "2": "1",
                                    "3": "2013-01-01 00:00:00.0000000",
                                    "4": "9999-12-31 23:59:59.9999999"
                                },
                                {
                                    "0": "20",
                                    "1": "Maroon",
                                    "2": "1",
                                    "3": "2013-01-01 00:00:00.0000000",
                                    "4": "9999-12-31 23:59:59.9999999"
                                },
                                {
                                    "0": "21",
                                    "1": "Mauve",
                                    "2": "1",
                                    "3": "2013-01-01 00:00:00.0000000",
                                    "4": "9999-12-31 23:59:59.9999999"
                                },
                                {
                                    "0": "22",
                                    "1": "Navy Blue",
                                    "2": "1",
                                    "3": "2013-01-01 00:00:00.0000000",
                                    "4": "9999-12-31 23:59:59.9999999"
                                },
                                {
                                    "0": "23",
                                    "1": "Olive",
                                    "2": "1",
                                    "3": "2013-01-01 00:00:00.0000000",
                                    "4": "9999-12-31 23:59:59.9999999"
                                },
                                {
                                    "0": "24",
                                    "1": "Orange",
                                    "2": "1",
                                    "3": "2013-01-01 00:00:00.0000000",
                                    "4": "9999-12-31 23:59:59.9999999"
                                },
                                {
                                    "0": "25",
                                    "1": "Plum",
                                    "2": "1",
                                    "3": "2013-01-01 00:00:00.0000000",
                                    "4": "9999-12-31 23:59:59.9999999"
                                },
                                {
                                    "0": "26",
                                    "1": "Puce",
                                    "2": "1",
                                    "3": "2013-01-01 00:00:00.0000000",
                                    "4": "9999-12-31 23:59:59.9999999"
                                },
                                {
                                    "0": "27",
                                    "1": "Purple",
                                    "2": "1",
                                    "3": "2013-01-01 00:00:00.0000000",
                                    "4": "9999-12-31 23:59:59.9999999"
                                },
                                {
                                    "0": "28",
                                    "1": "Red",
                                    "2": "1",
                                    "3": "2013-01-01 00:00:00.0000000",
                                    "4": "9999-12-31 23:59:59.9999999"
                                },
                                {
                                    "0": "29",
                                    "1": "Royal Blue",
                                    "2": "1",
                                    "3": "2013-01-01 00:00:00.0000000",
                                    "4": "9999-12-31 23:59:59.9999999"
                                },
                                {
                                    "0": "30",
                                    "1": "Salmon",
                                    "2": "1",
                                    "3": "2013-01-01 00:00:00.0000000",
                                    "4": "9999-12-31 23:59:59.9999999"
                                },
                                {
                                    "0": "31",
                                    "1": "Silver",
                                    "2": "1",
                                    "3": "2013-01-01 00:00:00.0000000",
                                    "4": "9999-12-31 23:59:59.9999999"
                                },
                                {
                                    "0": "32",
                                    "1": "Tan",
                                    "2": "1",
                                    "3": "2013-01-01 00:00:00.0000000",
                                    "4": "9999-12-31 23:59:59.9999999"
                                },
                                {
                                    "0": "33",
                                    "1": "Teal",
                                    "2": "1",
                                    "3": "2013-01-01 00:00:00.0000000",
                                    "4": "9999-12-31 23:59:59.9999999"
                                },
                                {
                                    "0": "34",
                                    "1": "Wheat",
                                    "2": "1",
                                    "3": "2013-01-01 00:00:00.0000000",
                                    "4": "9999-12-31 23:59:59.9999999"
                                },
                                {
                                    "0": "35",
                                    "1": "White",
                                    "2": "1",
                                    "3": "2013-01-01 00:00:00.0000000",
                                    "4": "9999-12-31 23:59:59.9999999"
                                },
                                {
                                    "0": "36",
                                    "1": "Yellow",
                                    "2": "1",
                                    "3": "2013-01-01 00:00:00.0000000",
                                    "4": "9999-12-31 23:59:59.9999999"
                                }
                            ]
                        },
                        "text/html": "<table><tr><th>ColorID</th><th>ColorName</th><th>LastEditedBy</th><th>ValidFrom</th><th>ValidTo</th></tr><tr><td>1</td><td>Azure</td><td>1</td><td>2013-01-01 00:00:00.0000000</td><td>9999-12-31 23:59:59.9999999</td></tr><tr><td>2</td><td>Beige</td><td>1</td><td>2013-01-01 00:00:00.0000000</td><td>9999-12-31 23:59:59.9999999</td></tr><tr><td>3</td><td>Black</td><td>1</td><td>2013-01-01 00:00:00.0000000</td><td>9999-12-31 23:59:59.9999999</td></tr><tr><td>4</td><td>Blue</td><td>1</td><td>2013-01-01 00:00:00.0000000</td><td>9999-12-31 23:59:59.9999999</td></tr><tr><td>5</td><td>Charcoal</td><td>1</td><td>2013-01-01 00:00:00.0000000</td><td>9999-12-31 23:59:59.9999999</td></tr><tr><td>6</td><td>Chartreuse</td><td>1</td><td>2013-01-01 00:00:00.0000000</td><td>9999-12-31 23:59:59.9999999</td></tr><tr><td>7</td><td>Cyan</td><td>1</td><td>2013-01-01 00:00:00.0000000</td><td>9999-12-31 23:59:59.9999999</td></tr><tr><td>8</td><td>Dark Brown</td><td>1</td><td>2013-01-01 00:00:00.0000000</td><td>9999-12-31 23:59:59.9999999</td></tr><tr><td>9</td><td>Dark Green</td><td>1</td><td>2013-01-01 00:00:00.0000000</td><td>9999-12-31 23:59:59.9999999</td></tr><tr><td>10</td><td>Fuchsia</td><td>1</td><td>2013-01-01 00:00:00.0000000</td><td>9999-12-31 23:59:59.9999999</td></tr><tr><td>11</td><td>Gold</td><td>1</td><td>2013-01-01 00:00:00.0000000</td><td>9999-12-31 23:59:59.9999999</td></tr><tr><td>12</td><td>Steel Gray</td><td>9</td><td>2016-01-01 16:00:00.0000000</td><td>9999-12-31 23:59:59.9999999</td></tr><tr><td>13</td><td>Hot Pink</td><td>1</td><td>2013-01-01 00:00:00.0000000</td><td>9999-12-31 23:59:59.9999999</td></tr><tr><td>14</td><td>Indigo</td><td>1</td><td>2013-01-01 00:00:00.0000000</td><td>9999-12-31 23:59:59.9999999</td></tr><tr><td>15</td><td>Ivory</td><td>1</td><td>2013-01-01 00:00:00.0000000</td><td>9999-12-31 23:59:59.9999999</td></tr><tr><td>16</td><td>Khaki</td><td>1</td><td>2013-01-01 00:00:00.0000000</td><td>9999-12-31 23:59:59.9999999</td></tr><tr><td>17</td><td>Lavender</td><td>1</td><td>2013-01-01 00:00:00.0000000</td><td>9999-12-31 23:59:59.9999999</td></tr><tr><td>18</td><td>Light Brown</td><td>1</td><td>2013-01-01 00:00:00.0000000</td><td>9999-12-31 23:59:59.9999999</td></tr><tr><td>19</td><td>Light Green</td><td>1</td><td>2013-01-01 00:00:00.0000000</td><td>9999-12-31 23:59:59.9999999</td></tr><tr><td>20</td><td>Maroon</td><td>1</td><td>2013-01-01 00:00:00.0000000</td><td>9999-12-31 23:59:59.9999999</td></tr><tr><td>21</td><td>Mauve</td><td>1</td><td>2013-01-01 00:00:00.0000000</td><td>9999-12-31 23:59:59.9999999</td></tr><tr><td>22</td><td>Navy Blue</td><td>1</td><td>2013-01-01 00:00:00.0000000</td><td>9999-12-31 23:59:59.9999999</td></tr><tr><td>23</td><td>Olive</td><td>1</td><td>2013-01-01 00:00:00.0000000</td><td>9999-12-31 23:59:59.9999999</td></tr><tr><td>24</td><td>Orange</td><td>1</td><td>2013-01-01 00:00:00.0000000</td><td>9999-12-31 23:59:59.9999999</td></tr><tr><td>25</td><td>Plum</td><td>1</td><td>2013-01-01 00:00:00.0000000</td><td>9999-12-31 23:59:59.9999999</td></tr><tr><td>26</td><td>Puce</td><td>1</td><td>2013-01-01 00:00:00.0000000</td><td>9999-12-31 23:59:59.9999999</td></tr><tr><td>27</td><td>Purple</td><td>1</td><td>2013-01-01 00:00:00.0000000</td><td>9999-12-31 23:59:59.9999999</td></tr><tr><td>28</td><td>Red</td><td>1</td><td>2013-01-01 00:00:00.0000000</td><td>9999-12-31 23:59:59.9999999</td></tr><tr><td>29</td><td>Royal Blue</td><td>1</td><td>2013-01-01 00:00:00.0000000</td><td>9999-12-31 23:59:59.9999999</td></tr><tr><td>30</td><td>Salmon</td><td>1</td><td>2013-01-01 00:00:00.0000000</td><td>9999-12-31 23:59:59.9999999</td></tr><tr><td>31</td><td>Silver</td><td>1</td><td>2013-01-01 00:00:00.0000000</td><td>9999-12-31 23:59:59.9999999</td></tr><tr><td>32</td><td>Tan</td><td>1</td><td>2013-01-01 00:00:00.0000000</td><td>9999-12-31 23:59:59.9999999</td></tr><tr><td>33</td><td>Teal</td><td>1</td><td>2013-01-01 00:00:00.0000000</td><td>9999-12-31 23:59:59.9999999</td></tr><tr><td>34</td><td>Wheat</td><td>1</td><td>2013-01-01 00:00:00.0000000</td><td>9999-12-31 23:59:59.9999999</td></tr><tr><td>35</td><td>White</td><td>1</td><td>2013-01-01 00:00:00.0000000</td><td>9999-12-31 23:59:59.9999999</td></tr><tr><td>36</td><td>Yellow</td><td>1</td><td>2013-01-01 00:00:00.0000000</td><td>9999-12-31 23:59:59.9999999</td></tr></table>"
                    },
                    "metadata": {
                        "resultSet": {
                            "id": 0,
                            "batchId": 0,
                            "rowCount": 36,
                            "complete": false,
                            "columnInfo": [
                                {
                                    "isBytes": false,
                                    "isChars": false,
                                    "isSqlVariant": false,
                                    "isUdt": false,
                                    "isXml": false,
                                    "isJson": false,
                                    "sqlDbType": 8,
                                    "isHierarchyId": false,
                                    "isSqlXmlType": false,
                                    "isUnknownType": false,
                                    "isUpdatable": true,
                                    "allowDBNull": false,
                                    "baseCatalogName": null,
                                    "baseColumnName": null,
                                    "baseSchemaName": null,
                                    "baseServerName": null,
                                    "baseTableName": null,
                                    "columnName": "ColorID",
                                    "columnOrdinal": 0,
                                    "columnSize": 4,
                                    "isAliased": null,
                                    "isAutoIncrement": false,
                                    "isExpression": null,
                                    "isHidden": null,
                                    "isIdentity": false,
                                    "isKey": null,
                                    "isLong": false,
                                    "isReadOnly": false,
                                    "isUnique": false,
                                    "numericPrecision": 10,
                                    "numericScale": 255,
                                    "udtAssemblyQualifiedName": null,
                                    "dataType": "System.Int32, System.Private.CoreLib, Version=4.0.0.0, Culture=neutral, PublicKeyToken=7cec85d7bea7798e",
                                    "dataTypeName": "int"
                                },
                                {
                                    "isBytes": false,
                                    "isChars": true,
                                    "isSqlVariant": false,
                                    "isUdt": false,
                                    "isXml": false,
                                    "isJson": false,
                                    "sqlDbType": 12,
                                    "isHierarchyId": false,
                                    "isSqlXmlType": false,
                                    "isUnknownType": false,
                                    "isUpdatable": true,
                                    "allowDBNull": false,
                                    "baseCatalogName": null,
                                    "baseColumnName": null,
                                    "baseSchemaName": null,
                                    "baseServerName": null,
                                    "baseTableName": null,
                                    "columnName": "ColorName",
                                    "columnOrdinal": 1,
                                    "columnSize": 20,
                                    "isAliased": null,
                                    "isAutoIncrement": false,
                                    "isExpression": null,
                                    "isHidden": null,
                                    "isIdentity": false,
                                    "isKey": null,
                                    "isLong": false,
                                    "isReadOnly": false,
                                    "isUnique": false,
                                    "numericPrecision": 255,
                                    "numericScale": 255,
                                    "udtAssemblyQualifiedName": null,
                                    "dataType": "System.String, System.Private.CoreLib, Version=4.0.0.0, Culture=neutral, PublicKeyToken=7cec85d7bea7798e",
                                    "dataTypeName": "nvarchar"
                                },
                                {
                                    "isBytes": false,
                                    "isChars": false,
                                    "isSqlVariant": false,
                                    "isUdt": false,
                                    "isXml": false,
                                    "isJson": false,
                                    "sqlDbType": 8,
                                    "isHierarchyId": false,
                                    "isSqlXmlType": false,
                                    "isUnknownType": false,
                                    "isUpdatable": true,
                                    "allowDBNull": false,
                                    "baseCatalogName": null,
                                    "baseColumnName": null,
                                    "baseSchemaName": null,
                                    "baseServerName": null,
                                    "baseTableName": null,
                                    "columnName": "LastEditedBy",
                                    "columnOrdinal": 2,
                                    "columnSize": 4,
                                    "isAliased": null,
                                    "isAutoIncrement": false,
                                    "isExpression": null,
                                    "isHidden": null,
                                    "isIdentity": false,
                                    "isKey": null,
                                    "isLong": false,
                                    "isReadOnly": false,
                                    "isUnique": false,
                                    "numericPrecision": 10,
                                    "numericScale": 255,
                                    "udtAssemblyQualifiedName": null,
                                    "dataType": "System.Int32, System.Private.CoreLib, Version=4.0.0.0, Culture=neutral, PublicKeyToken=7cec85d7bea7798e",
                                    "dataTypeName": "int"
                                },
                                {
                                    "isBytes": false,
                                    "isChars": false,
                                    "isSqlVariant": false,
                                    "isUdt": false,
                                    "isXml": false,
                                    "isJson": false,
                                    "sqlDbType": 33,
                                    "isHierarchyId": false,
                                    "isSqlXmlType": false,
                                    "isUnknownType": false,
                                    "isUpdatable": false,
                                    "allowDBNull": false,
                                    "baseCatalogName": null,
                                    "baseColumnName": null,
                                    "baseSchemaName": null,
                                    "baseServerName": null,
                                    "baseTableName": null,
                                    "columnName": "ValidFrom",
                                    "columnOrdinal": 3,
                                    "columnSize": 8,
                                    "isAliased": null,
                                    "isAutoIncrement": false,
                                    "isExpression": null,
                                    "isHidden": null,
                                    "isIdentity": false,
                                    "isKey": null,
                                    "isLong": false,
                                    "isReadOnly": true,
                                    "isUnique": false,
                                    "numericPrecision": 255,
                                    "numericScale": 7,
                                    "udtAssemblyQualifiedName": null,
                                    "dataType": "System.DateTime, System.Private.CoreLib, Version=4.0.0.0, Culture=neutral, PublicKeyToken=7cec85d7bea7798e",
                                    "dataTypeName": "datetime2"
                                },
                                {
                                    "isBytes": false,
                                    "isChars": false,
                                    "isSqlVariant": false,
                                    "isUdt": false,
                                    "isXml": false,
                                    "isJson": false,
                                    "sqlDbType": 33,
                                    "isHierarchyId": false,
                                    "isSqlXmlType": false,
                                    "isUnknownType": false,
                                    "isUpdatable": false,
                                    "allowDBNull": false,
                                    "baseCatalogName": null,
                                    "baseColumnName": null,
                                    "baseSchemaName": null,
                                    "baseServerName": null,
                                    "baseTableName": null,
                                    "columnName": "ValidTo",
                                    "columnOrdinal": 4,
                                    "columnSize": 8,
                                    "isAliased": null,
                                    "isAutoIncrement": false,
                                    "isExpression": null,
                                    "isHidden": null,
                                    "isIdentity": false,
                                    "isKey": null,
                                    "isLong": false,
                                    "isReadOnly": true,
                                    "isUnique": false,
                                    "numericPrecision": 255,
                                    "numericScale": 7,
                                    "udtAssemblyQualifiedName": null,
                                    "dataType": "System.DateTime, System.Private.CoreLib, Version=4.0.0.0, Culture=neutral, PublicKeyToken=7cec85d7bea7798e",
                                    "dataTypeName": "datetime2"
                                }
                            ],
                            "specialAction": null
                        }
                    }
                }
            ],
            "execution_count": 9
        },
        {
            "cell_type": "markdown",
            "source": [
                " The query reads as:\n",
                "\n",
                "\\- SELECT \\* - select all the fields\n",
                "\n",
                "\\- FROM Warehouse.Colors - from the table we are concerned with\n",
                "\n",
                "The results include the number of rows affected - 36 - as well as the execution time.\n",
                "\n",
                "> This table in particular is a special type of table called a **system-versioned table**, which tracks who last edited the value and how long the value is valid.  The database system tracks this information and can use this for point-in-time analysis.  This is a newer feature as of SQL Server 2016, and we may not necessarily get into these fields specifically.  However, if you see LastEditedBy, ValidFrom, and ValidTo, these are fields associated with the system-versioned tables.\n",
                "\n",
                "Since the columns we are concerned with are ColorID and ColorName, we can call those fields out specifically in the field list following the SELECT keyword.  So our updated query to see the colors that the warehouse is working with looks like this:"
            ],
            "metadata": {
                "azdata_cell_guid": "ec8f5a9a-cdd0-42d9-9629-6ea8970100eb"
            }
        },
        {
            "cell_type": "code",
            "source": [
                "SELECT ColorID, ColorName FROM Warehouse.Colors"
            ],
            "metadata": {
                "azdata_cell_guid": "ca3ca858-1976-4583-9c2f-61ce87979a29"
            },
            "outputs": [
                {
                    "output_type": "display_data",
                    "data": {
                        "text/html": "(36 rows affected)"
                    },
                    "metadata": {}
                },
                {
                    "output_type": "display_data",
                    "data": {
                        "text/html": "Total execution time: 00:00:00.031"
                    },
                    "metadata": {}
                },
                {
                    "output_type": "execute_result",
                    "execution_count": 10,
                    "data": {
                        "application/vnd.dataresource+json": {
                            "schema": {
                                "fields": [
                                    {
                                        "name": "ColorID"
                                    },
                                    {
                                        "name": "ColorName"
                                    }
                                ]
                            },
                            "data": [
                                {
                                    "0": "1",
                                    "1": "Azure"
                                },
                                {
                                    "0": "2",
                                    "1": "Beige"
                                },
                                {
                                    "0": "3",
                                    "1": "Black"
                                },
                                {
                                    "0": "4",
                                    "1": "Blue"
                                },
                                {
                                    "0": "5",
                                    "1": "Charcoal"
                                },
                                {
                                    "0": "6",
                                    "1": "Chartreuse"
                                },
                                {
                                    "0": "7",
                                    "1": "Cyan"
                                },
                                {
                                    "0": "8",
                                    "1": "Dark Brown"
                                },
                                {
                                    "0": "9",
                                    "1": "Dark Green"
                                },
                                {
                                    "0": "10",
                                    "1": "Fuchsia"
                                },
                                {
                                    "0": "11",
                                    "1": "Gold"
                                },
                                {
                                    "0": "13",
                                    "1": "Hot Pink"
                                },
                                {
                                    "0": "14",
                                    "1": "Indigo"
                                },
                                {
                                    "0": "15",
                                    "1": "Ivory"
                                },
                                {
                                    "0": "16",
                                    "1": "Khaki"
                                },
                                {
                                    "0": "17",
                                    "1": "Lavender"
                                },
                                {
                                    "0": "18",
                                    "1": "Light Brown"
                                },
                                {
                                    "0": "19",
                                    "1": "Light Green"
                                },
                                {
                                    "0": "20",
                                    "1": "Maroon"
                                },
                                {
                                    "0": "21",
                                    "1": "Mauve"
                                },
                                {
                                    "0": "22",
                                    "1": "Navy Blue"
                                },
                                {
                                    "0": "23",
                                    "1": "Olive"
                                },
                                {
                                    "0": "24",
                                    "1": "Orange"
                                },
                                {
                                    "0": "25",
                                    "1": "Plum"
                                },
                                {
                                    "0": "26",
                                    "1": "Puce"
                                },
                                {
                                    "0": "27",
                                    "1": "Purple"
                                },
                                {
                                    "0": "28",
                                    "1": "Red"
                                },
                                {
                                    "0": "29",
                                    "1": "Royal Blue"
                                },
                                {
                                    "0": "30",
                                    "1": "Salmon"
                                },
                                {
                                    "0": "31",
                                    "1": "Silver"
                                },
                                {
                                    "0": "12",
                                    "1": "Steel Gray"
                                },
                                {
                                    "0": "32",
                                    "1": "Tan"
                                },
                                {
                                    "0": "33",
                                    "1": "Teal"
                                },
                                {
                                    "0": "34",
                                    "1": "Wheat"
                                },
                                {
                                    "0": "35",
                                    "1": "White"
                                },
                                {
                                    "0": "36",
                                    "1": "Yellow"
                                }
                            ]
                        },
                        "text/html": "<table><tr><th>ColorID</th><th>ColorName</th></tr><tr><td>1</td><td>Azure</td></tr><tr><td>2</td><td>Beige</td></tr><tr><td>3</td><td>Black</td></tr><tr><td>4</td><td>Blue</td></tr><tr><td>5</td><td>Charcoal</td></tr><tr><td>6</td><td>Chartreuse</td></tr><tr><td>7</td><td>Cyan</td></tr><tr><td>8</td><td>Dark Brown</td></tr><tr><td>9</td><td>Dark Green</td></tr><tr><td>10</td><td>Fuchsia</td></tr><tr><td>11</td><td>Gold</td></tr><tr><td>13</td><td>Hot Pink</td></tr><tr><td>14</td><td>Indigo</td></tr><tr><td>15</td><td>Ivory</td></tr><tr><td>16</td><td>Khaki</td></tr><tr><td>17</td><td>Lavender</td></tr><tr><td>18</td><td>Light Brown</td></tr><tr><td>19</td><td>Light Green</td></tr><tr><td>20</td><td>Maroon</td></tr><tr><td>21</td><td>Mauve</td></tr><tr><td>22</td><td>Navy Blue</td></tr><tr><td>23</td><td>Olive</td></tr><tr><td>24</td><td>Orange</td></tr><tr><td>25</td><td>Plum</td></tr><tr><td>26</td><td>Puce</td></tr><tr><td>27</td><td>Purple</td></tr><tr><td>28</td><td>Red</td></tr><tr><td>29</td><td>Royal Blue</td></tr><tr><td>30</td><td>Salmon</td></tr><tr><td>31</td><td>Silver</td></tr><tr><td>12</td><td>Steel Gray</td></tr><tr><td>32</td><td>Tan</td></tr><tr><td>33</td><td>Teal</td></tr><tr><td>34</td><td>Wheat</td></tr><tr><td>35</td><td>White</td></tr><tr><td>36</td><td>Yellow</td></tr></table>"
                    },
                    "metadata": {
                        "resultSet": {
                            "id": 0,
                            "batchId": 0,
                            "rowCount": 36,
                            "complete": false,
                            "columnInfo": [
                                {
                                    "isBytes": false,
                                    "isChars": false,
                                    "isSqlVariant": false,
                                    "isUdt": false,
                                    "isXml": false,
                                    "isJson": false,
                                    "sqlDbType": 8,
                                    "isHierarchyId": false,
                                    "isSqlXmlType": false,
                                    "isUnknownType": false,
                                    "isUpdatable": true,
                                    "allowDBNull": false,
                                    "baseCatalogName": null,
                                    "baseColumnName": null,
                                    "baseSchemaName": null,
                                    "baseServerName": null,
                                    "baseTableName": null,
                                    "columnName": "ColorID",
                                    "columnOrdinal": 0,
                                    "columnSize": 4,
                                    "isAliased": null,
                                    "isAutoIncrement": false,
                                    "isExpression": null,
                                    "isHidden": null,
                                    "isIdentity": false,
                                    "isKey": null,
                                    "isLong": false,
                                    "isReadOnly": false,
                                    "isUnique": false,
                                    "numericPrecision": 10,
                                    "numericScale": 255,
                                    "udtAssemblyQualifiedName": null,
                                    "dataType": "System.Int32, System.Private.CoreLib, Version=4.0.0.0, Culture=neutral, PublicKeyToken=7cec85d7bea7798e",
                                    "dataTypeName": "int"
                                },
                                {
                                    "isBytes": false,
                                    "isChars": true,
                                    "isSqlVariant": false,
                                    "isUdt": false,
                                    "isXml": false,
                                    "isJson": false,
                                    "sqlDbType": 12,
                                    "isHierarchyId": false,
                                    "isSqlXmlType": false,
                                    "isUnknownType": false,
                                    "isUpdatable": true,
                                    "allowDBNull": false,
                                    "baseCatalogName": null,
                                    "baseColumnName": null,
                                    "baseSchemaName": null,
                                    "baseServerName": null,
                                    "baseTableName": null,
                                    "columnName": "ColorName",
                                    "columnOrdinal": 1,
                                    "columnSize": 20,
                                    "isAliased": null,
                                    "isAutoIncrement": false,
                                    "isExpression": null,
                                    "isHidden": null,
                                    "isIdentity": false,
                                    "isKey": null,
                                    "isLong": false,
                                    "isReadOnly": false,
                                    "isUnique": false,
                                    "numericPrecision": 255,
                                    "numericScale": 255,
                                    "udtAssemblyQualifiedName": null,
                                    "dataType": "System.String, System.Private.CoreLib, Version=4.0.0.0, Culture=neutral, PublicKeyToken=7cec85d7bea7798e",
                                    "dataTypeName": "nvarchar"
                                }
                            ],
                            "specialAction": null
                        }
                    }
                }
            ],
            "execution_count": 10
        },
        {
            "cell_type": "markdown",
            "source": [
                "### Selecting the First 5 Records\n",
                "\n",
                "Suppose we only want to see the first 5 records - we just want a glimpse of the data to understand what's on the table, and we don't need to be overwhelmed by all of the data. We can use the TOP keyword along with a number of records to limit how many records come back.\n",
                "\n",
                "The query for the first 5 records of the Colors table would look like this:"
            ],
            "metadata": {
                "azdata_cell_guid": "5f732f72-150a-4983-a998-1b907e961c2a"
            }
        },
        {
            "cell_type": "code",
            "source": [
                "SELECT TOP 5 ColorID, ColorName FROM Warehouse.Colors"
            ],
            "metadata": {
                "azdata_cell_guid": "54c44eb3-60dd-4dc4-9ee1-35230d5997d5"
            },
            "outputs": [
                {
                    "output_type": "display_data",
                    "data": {
                        "text/html": "(5 rows affected)"
                    },
                    "metadata": {}
                },
                {
                    "output_type": "display_data",
                    "data": {
                        "text/html": "Total execution time: 00:00:00.017"
                    },
                    "metadata": {}
                },
                {
                    "output_type": "execute_result",
                    "execution_count": 11,
                    "data": {
                        "application/vnd.dataresource+json": {
                            "schema": {
                                "fields": [
                                    {
                                        "name": "ColorID"
                                    },
                                    {
                                        "name": "ColorName"
                                    }
                                ]
                            },
                            "data": [
                                {
                                    "0": "1",
                                    "1": "Azure"
                                },
                                {
                                    "0": "2",
                                    "1": "Beige"
                                },
                                {
                                    "0": "3",
                                    "1": "Black"
                                },
                                {
                                    "0": "4",
                                    "1": "Blue"
                                },
                                {
                                    "0": "5",
                                    "1": "Charcoal"
                                }
                            ]
                        },
                        "text/html": "<table><tr><th>ColorID</th><th>ColorName</th></tr><tr><td>1</td><td>Azure</td></tr><tr><td>2</td><td>Beige</td></tr><tr><td>3</td><td>Black</td></tr><tr><td>4</td><td>Blue</td></tr><tr><td>5</td><td>Charcoal</td></tr></table>"
                    },
                    "metadata": {
                        "resultSet": {
                            "id": 0,
                            "batchId": 0,
                            "rowCount": 5,
                            "complete": true,
                            "columnInfo": [
                                {
                                    "isBytes": false,
                                    "isChars": false,
                                    "isSqlVariant": false,
                                    "isUdt": false,
                                    "isXml": false,
                                    "isJson": false,
                                    "sqlDbType": 8,
                                    "isHierarchyId": false,
                                    "isSqlXmlType": false,
                                    "isUnknownType": false,
                                    "isUpdatable": true,
                                    "allowDBNull": false,
                                    "baseCatalogName": null,
                                    "baseColumnName": null,
                                    "baseSchemaName": null,
                                    "baseServerName": null,
                                    "baseTableName": null,
                                    "columnName": "ColorID",
                                    "columnOrdinal": 0,
                                    "columnSize": 4,
                                    "isAliased": null,
                                    "isAutoIncrement": false,
                                    "isExpression": null,
                                    "isHidden": null,
                                    "isIdentity": false,
                                    "isKey": null,
                                    "isLong": false,
                                    "isReadOnly": false,
                                    "isUnique": false,
                                    "numericPrecision": 10,
                                    "numericScale": 255,
                                    "udtAssemblyQualifiedName": null,
                                    "dataType": "System.Int32, System.Private.CoreLib, Version=4.0.0.0, Culture=neutral, PublicKeyToken=7cec85d7bea7798e",
                                    "dataTypeName": "int"
                                },
                                {
                                    "isBytes": false,
                                    "isChars": true,
                                    "isSqlVariant": false,
                                    "isUdt": false,
                                    "isXml": false,
                                    "isJson": false,
                                    "sqlDbType": 12,
                                    "isHierarchyId": false,
                                    "isSqlXmlType": false,
                                    "isUnknownType": false,
                                    "isUpdatable": true,
                                    "allowDBNull": false,
                                    "baseCatalogName": null,
                                    "baseColumnName": null,
                                    "baseSchemaName": null,
                                    "baseServerName": null,
                                    "baseTableName": null,
                                    "columnName": "ColorName",
                                    "columnOrdinal": 1,
                                    "columnSize": 20,
                                    "isAliased": null,
                                    "isAutoIncrement": false,
                                    "isExpression": null,
                                    "isHidden": null,
                                    "isIdentity": false,
                                    "isKey": null,
                                    "isLong": false,
                                    "isReadOnly": false,
                                    "isUnique": false,
                                    "numericPrecision": 255,
                                    "numericScale": 255,
                                    "udtAssemblyQualifiedName": null,
                                    "dataType": "System.String, System.Private.CoreLib, Version=4.0.0.0, Culture=neutral, PublicKeyToken=7cec85d7bea7798e",
                                    "dataTypeName": "nvarchar"
                                }
                            ],
                            "specialAction": {
                                "none": true,
                                "expectYukonXMLShowPlan": false
                            }
                        }
                    }
                }
            ],
            "execution_count": 11
        }
    ]
}